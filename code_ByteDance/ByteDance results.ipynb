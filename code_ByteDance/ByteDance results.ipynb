{
 "cells": [
  {
   "cell_type": "code",
   "execution_count": 1,
   "metadata": {
    "ExecuteTime": {
     "end_time": "2022-02-09T10:55:37.596526Z",
     "start_time": "2022-02-09T10:55:34.711667Z"
    }
   },
   "outputs": [],
   "source": [
    "import numpy as np\n",
    "import os\n",
    "import pretty_midi\n",
    "import mir_eval\n",
    "\n",
    "import ByteDanceEncapsulation as bd"
   ]
  },
  {
   "cell_type": "code",
   "execution_count": 2,
   "metadata": {
    "ExecuteTime": {
     "end_time": "2022-02-09T10:55:37.615476Z",
     "start_time": "2022-02-09T10:55:37.598520Z"
    }
   },
   "outputs": [],
   "source": [
    "def compute_score_this_piano(piano_name, time_limit = 30):\n",
    "    scores = []\n",
    "    accs = []\n",
    "    for file in os.listdir(f\"{bd.path_maps}/{piano_name}/MUS\"):\n",
    "        if \"wav\" in file:\n",
    "            ref_intervals, ref_pitches = bd.load_ref_in_arrays(f\"{bd.path_maps}/{piano_name}/MUS/{file.replace('wav', 'txt')}\", time_limit = time_limit)\n",
    "            est_intervals = []\n",
    "            est_pitches = []\n",
    "            try: # If already computed\n",
    "                os.open(f\"{bd.path_outputs}/{piano_name}/{file.replace('.wav', '')}.mid\", os.O_RDONLY)\n",
    "            except FileNotFoundError:\n",
    "                bd.run_estimates_file(f\"{bd.path_maps}/{piano_name}/MUS/{file}\", piano_name)\n",
    "                \n",
    "            pm = pretty_midi.PrettyMIDI(f\"{bd.path_outputs}/{piano_name}/{file.replace('.wav', '')}.mid\")\n",
    "            for instrument in pm.instruments:\n",
    "                for note in instrument.notes:\n",
    "                    start = note.start\n",
    "                    if (time_limit == None) or ((time_limit != None) and (start < time_limit)):\n",
    "                        end = note.end\n",
    "                        est_intervals.append([start, end])\n",
    "                        pitch = note.pitch\n",
    "                        est_pitches.append(pitch)\n",
    "            est_intervals = np.array(est_intervals)\n",
    "            est_pitches = np.array(est_pitches)\n",
    "            (prec, rec, f_mes, _) = mir_eval.transcription.precision_recall_f1_overlap(ref_intervals, ref_pitches, est_intervals, est_pitches, onset_tolerance=0.05, pitch_tolerance=50.0, offset_ratio=None, strict=False, beta=1.0)\n",
    "            scores.append([prec, rec, f_mes])\n",
    "            matching = mir_eval.transcription.match_notes(ref_intervals, ref_pitches, est_intervals,est_pitches, onset_tolerance=0.05,pitch_tolerance=50.0,offset_ratio=None)\n",
    "            TP = len(matching)\n",
    "            try:\n",
    "                FP = int(TP * (1 - prec) / prec)\n",
    "            except ZeroDivisionError:\n",
    "                FP = 0\n",
    "            try:\n",
    "                FN = int(TP * (1 - rec) / rec)\n",
    "            except ZeroDivisionError:\n",
    "                FN = 0\n",
    "            try:\n",
    "                accuracy = TP/(TP + FP + FN)\n",
    "            except ZeroDivisionError:\n",
    "                accuracy = 0\n",
    "            accs.append(accuracy)\n",
    "    return [np.mean(np.array(scores)[:,i]) for i in range(3)], np.mean(accs)"
   ]
  },
  {
   "cell_type": "code",
   "execution_count": 3,
   "metadata": {
    "ExecuteTime": {
     "end_time": "2022-02-09T10:56:14.253737Z",
     "start_time": "2022-02-09T10:55:37.618468Z"
    },
    "scrolled": false
   },
   "outputs": [
    {
     "name": "stdout",
     "output_type": "stream",
     "text": [
      "AkPnBcht\n",
      "30sec - Prec: 0.985, Recall: 0.9782, F measure: 0.9813, accuracy: 0.9669\n",
      "AkPnBsdf\n",
      "30sec - Prec: 0.9341, Recall: 0.9603, F measure: 0.9465, accuracy: 0.9032\n",
      "AkPnCGdD\n",
      "30sec - Prec: 0.9809, Recall: 0.9742, F measure: 0.9772, accuracy: 0.9607\n",
      "AkPnStgb\n",
      "30sec - Prec: 0.8174, Recall: 0.9256, F measure: 0.8657, accuracy: 0.7703\n",
      "ENSTDkAm\n",
      "30sec - Prec: 0.7156, Recall: 0.8416, F measure: 0.772, accuracy: 0.6522\n",
      "ENSTDkCl\n",
      "30sec - Prec: 0.8678, Recall: 0.9231, F measure: 0.8932, accuracy: 0.8177\n",
      "SptkBGAm\n",
      "30sec - Prec: 0.982, Recall: 0.9768, F measure: 0.9792, accuracy: 0.9633\n",
      "SptkBGCl\n",
      "30sec - Prec: 0.9688, Recall: 0.9778, F measure: 0.973, accuracy: 0.9511\n",
      "StbgTGd2\n",
      "30sec - Prec: 0.9316, Recall: 0.9623, F measure: 0.9458, accuracy: 0.9044\n"
     ]
    }
   ],
   "source": [
    "list_pianos = [\"AkPnBcht\", \"AkPnBsdf\", \"AkPnCGdD\", \"AkPnStgb\", \"ENSTDkAm\", \"ENSTDkCl\", \"SptkBGAm\", \"SptkBGCl\", \"StbgTGd2\"]\n",
    "for piano in list_pianos:\n",
    "    print(piano)\n",
    "    scores, acc = compute_score_this_piano(piano, time_limit = 30)\n",
    "    print(f\"30sec - Prec: {round(scores[0],4)}, Recall: {round(scores[1],4)}, F measure: {round(scores[2],4)}, accuracy: {round(acc,4)}\")\n",
    "    \n",
    "    #scores, acc = compute_score_this_piano(piano, time_limit = None)\n",
    "    #print(f\"Without limit - Prec: {scores[0]}, Recall: {scores[1]}, F measure: {scores[2]}, accuracy: {acc}\")"
   ]
  }
 ],
 "metadata": {
  "kernelspec": {
   "display_name": "Python 3 (ipykernel)",
   "language": "python",
   "name": "python3"
  },
  "language_info": {
   "codemirror_mode": {
    "name": "ipython",
    "version": 3
   },
   "file_extension": ".py",
   "mimetype": "text/x-python",
   "name": "python",
   "nbconvert_exporter": "python",
   "pygments_lexer": "ipython3",
   "version": "3.8.12"
  },
  "toc": {
   "base_numbering": 1,
   "nav_menu": {},
   "number_sections": true,
   "sideBar": true,
   "skip_h1_title": false,
   "title_cell": "Table of Contents",
   "title_sidebar": "Contents",
   "toc_cell": false,
   "toc_position": {},
   "toc_section_display": true,
   "toc_window_display": false
  },
  "varInspector": {
   "cols": {
    "lenName": 16,
    "lenType": 16,
    "lenVar": 40
   },
   "kernels_config": {
    "python": {
     "delete_cmd_postfix": "",
     "delete_cmd_prefix": "del ",
     "library": "var_list.py",
     "varRefreshCmd": "print(var_dic_list())"
    },
    "r": {
     "delete_cmd_postfix": ") ",
     "delete_cmd_prefix": "rm(",
     "library": "var_list.r",
     "varRefreshCmd": "cat(var_dic_list()) "
    }
   },
   "types_to_exclude": [
    "module",
    "function",
    "builtin_function_or_method",
    "instance",
    "_Feature"
   ],
   "window_display": false
  }
 },
 "nbformat": 4,
 "nbformat_minor": 4
}
