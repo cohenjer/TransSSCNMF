{
 "cells": [
  {
   "cell_type": "code",
   "execution_count": null,
   "metadata": {
    "ExecuteTime": {
     "end_time": "2022-02-08T16:01:22.975719Z",
     "start_time": "2022-02-08T16:01:22.363309Z"
    }
   },
   "outputs": [],
   "source": [
    "import numpy as np\n",
    "import os\n",
    "import pretty_midi\n",
    "import mir_eval\n",
    "from piano_transcription_inference import PianoTranscription, sample_rate, load_audio\n",
    "import torch.cuda\n",
    "\n",
    "path_maps = \"C:/Users/amarmore/Desktop/Audio samples/MAPS\"\n",
    "path_outputs = f\"{path_maps}/outputs_ByteDance\"\n",
    "\n",
    "def load_ref_in_arrays(ref_path, time_limit = 30):\n",
    "    ref_intervals = []\n",
    "    ref_pitches = []\n",
    "\n",
    "    with open(ref_path) as f:\n",
    "        truth_lines = f.readlines()[1:] # To discard the title/legend in ground truth\n",
    "\n",
    "    for lines_index in range(len(truth_lines)):\n",
    "        # Creates a list with the line of the reference, splitted on tabulations\n",
    "        line_to_array = (truth_lines[lines_index].replace(\"\\n\", \"\")).split(\"\\t\")\n",
    "        if line_to_array != [\"\"]:\n",
    "            if (time_limit == None) or ((time_limit != None) and (float(line_to_array[0]) < time_limit)): # if onset > time_limit (note outside of the cropped excerpt)\n",
    "                ref_intervals.append([float(line_to_array[0]), float(line_to_array[1])])\n",
    "                pitch = float(line_to_array[2])\n",
    "                ref_pitches.append(pitch)\n",
    "    return np.array(ref_intervals), np.array(ref_pitches)\n",
    "\n",
    "def run_estimates_piano(piano_name):\n",
    "    for file in os.listdir(f\"{path_maps}/{piano_name}/MUS\"):\n",
    "        if \"wav\" in file:\n",
    "            (audio, _) = load_audio(f\"{path_maps}/{piano_name}/MUS/{file}\", sr=sample_rate, mono=True)\n",
    "\n",
    "            # Transcriptor\n",
    "            device = \"cuda\" if torch.cuda.is_available() else \"cpu\"\n",
    "            transcriptor = PianoTranscription(device='cpu')    # 'cuda' | 'cpu'\n",
    "\n",
    "            # Transcribe and write out to MIDI file\n",
    "            transcribed_dict = transcriptor.transcribe(audio, f\"{path_outputs}/{piano_name}/{file.replace('.wav', '')}.mid\")\n",
    "    print(\"Done.\")\n",
    "    \n",
    "def compute_score_this_piano(piano_name, time_limit = 30):\n",
    "    scores = []\n",
    "    accs = []\n",
    "    \n",
    "    for file in os.listdir(f\"{path_maps}/{piano_name}/MUS\"):\n",
    "        if \"wav\" in file:\n",
    "            ref_intervals, ref_pitches = load_ref_in_arrays(f\"{path_maps}/{piano_name}/MUS/{file.replace('wav', 'txt')}\", time_limit = time_limit)\n",
    "            est_intervals = []\n",
    "            est_pitches = []\n",
    "            try: # If already computed\n",
    "                os.open(f\"{path_outputs}/{piano_name}/{file.replace('.wav', '')}.mid\", os.O_RDONLY)\n",
    "            except FileNotFoundError:\n",
    "                run_estimates_piano(piano_name)\n",
    "                \n",
    "            pm = pretty_midi.PrettyMIDI(f\"{path_outputs}/{piano_name}/{file.replace('.wav', '')}.mid\")\n",
    "            for instrument in pm.instruments:\n",
    "                for note in instrument.notes:\n",
    "                    start = note.start\n",
    "                    if (time_limit == None) or ((time_limit != None) and (start < time_limit)):\n",
    "                        end = note.end\n",
    "                        est_intervals.append([start, end])\n",
    "                        pitch = note.pitch\n",
    "                        est_pitches.append(pitch)\n",
    "            est_intervals = np.array(est_intervals)\n",
    "            est_pitches = np.array(est_pitches)\n",
    "            (prec, rec, f_mes, _) = mir_eval.transcription.precision_recall_f1_overlap(ref_intervals, ref_pitches, est_intervals, est_pitches, onset_tolerance=0.05, pitch_tolerance=50.0, offset_ratio=None, strict=False, beta=1.0)\n",
    "            scores.append([prec, rec, f_mes])\n",
    "            matching = mir_eval.transcription.match_notes(ref_intervals, ref_pitches, est_intervals,est_pitches, onset_tolerance=0.05,pitch_tolerance=50.0,offset_ratio=None)\n",
    "            TP = len(matching)\n",
    "            try:\n",
    "                FP = int(TP * (1 - prec) / prec)\n",
    "            except ZeroDivisionError:\n",
    "                FP = 0\n",
    "            try:\n",
    "                FN = int(TP * (1 - rec) / rec)\n",
    "            except ZeroDivisionError:\n",
    "                FN = 0\n",
    "            try:\n",
    "                accuracy = TP/(TP + FP + FN)\n",
    "            except ZeroDivisionError:\n",
    "                accuracy = 0\n",
    "            accs.append(accuracy)\n",
    "    return [np.mean(np.array(scores)[:,i]) for i in range(3)], np.mean(accs)"
   ]
  },
  {
   "cell_type": "code",
   "execution_count": null,
   "metadata": {
    "ExecuteTime": {
     "end_time": "2022-02-08T16:01:33.736820Z",
     "start_time": "2022-02-08T16:01:25.407944Z"
    },
    "scrolled": false
   },
   "outputs": [],
   "source": [
    "list_pianos = [\"AkPnBcht\", \"AkPnBsdf\", \"AkPnCGdD\", \"AkPnStgb\", \"ENSTDkAm\", \"ENSTDkCl\", \"SptkBGAm\", \"SptkBGCl\", \"StbgTGd2\"]\n",
    "for piano in list_pianos:\n",
    "    print(piano)\n",
    "    scores, acc = compute_score_this_piano(piano, time_limit = 30)\n",
    "    print(f\"30sec - Prec: {round(scores[0],4)}, Recall: {round(scores[1],4)}, F measure: {round(scores[2],4)}, accuracy: {round(acc,4)}\")\n",
    "    \n",
    "    #scores, acc = compute_score_this_piano(piano, time_limit = None)\n",
    "    #print(f\"Without limit - Prec: {scores[0]}, Recall: {scores[1]}, F measure: {scores[2]}, accuracy: {acc}\")"
   ]
  }
 ],
 "metadata": {
  "kernelspec": {
   "display_name": "Python 3 (ipykernel)",
   "language": "python",
   "name": "python3"
  },
  "language_info": {
   "codemirror_mode": {
    "name": "ipython",
    "version": 3
   },
   "file_extension": ".py",
   "mimetype": "text/x-python",
   "name": "python",
   "nbconvert_exporter": "python",
   "pygments_lexer": "ipython3",
   "version": "3.8.12"
  },
  "toc": {
   "base_numbering": 1,
   "nav_menu": {},
   "number_sections": true,
   "sideBar": true,
   "skip_h1_title": false,
   "title_cell": "Table of Contents",
   "title_sidebar": "Contents",
   "toc_cell": false,
   "toc_position": {},
   "toc_section_display": true,
   "toc_window_display": false
  },
  "varInspector": {
   "cols": {
    "lenName": 16,
    "lenType": 16,
    "lenVar": 40
   },
   "kernels_config": {
    "python": {
     "delete_cmd_postfix": "",
     "delete_cmd_prefix": "del ",
     "library": "var_list.py",
     "varRefreshCmd": "print(var_dic_list())"
    },
    "r": {
     "delete_cmd_postfix": ") ",
     "delete_cmd_prefix": "rm(",
     "library": "var_list.r",
     "varRefreshCmd": "cat(var_dic_list()) "
    }
   },
   "types_to_exclude": [
    "module",
    "function",
    "builtin_function_or_method",
    "instance",
    "_Feature"
   ],
   "window_display": false
  }
 },
 "nbformat": 4,
 "nbformat_minor": 4
}
