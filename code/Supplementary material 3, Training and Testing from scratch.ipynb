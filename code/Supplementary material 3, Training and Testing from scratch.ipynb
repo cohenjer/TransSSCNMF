{
 "cells": [
  {
   "cell_type": "markdown",
   "metadata": {},
   "source": [
    "# Semi-supervised CNMF from scratch"
   ]
  },
  {
   "cell_type": "markdown",
   "metadata": {},
   "source": [
    "In this repo have we provided the opportunity to download the templates and activations that we computed on MAPS using the proposed CNMF semi-supervised technique. However, you may want to retrain the templates to double check, or perform training and testing on our own data. To that end, we provide here the complete toolchain to perform both steps."
   ]
  },
  {
   "cell_type": "markdown",
   "metadata": {},
   "source": [
    "# Training the templates"
   ]
  },
  {
   "cell_type": "markdown",
   "metadata": {},
   "source": [
    "First, you need to find the path to your training data."
   ]
  },
  {
   "cell_type": "code",
   "execution_count": 7,
   "metadata": {},
   "outputs": [],
   "source": [
    "# these variables are actually useless.\n",
    "#path_data = \"C:/Users/amarmore/Desktop/Audio samples/MAPS\" # an example\n",
    "path_data = \"D:/Travail/Travail/Toolbox/Data/Audio_Prozik/Maps/MAPS\" # an example"
   ]
  },
  {
   "cell_type": "markdown",
   "metadata": {},
   "source": [
    "We have setup a script for learning templates from isolated notes, called ``launch_W_learning.py``, which main purpose is parsing for calling the actual CNMF script ``learning_W_and_persist()`` located in ``script_igrida_learn.py``.\n",
    "\n",
    "To use with the **MAPS dataset**, you only need to call ``launch_W_learning.py`` with a few arguments:\n",
    "- Piano name, e.g. \"ENSTDkCl\"\n",
    "- The convolution size $\\tau$. Setting \"all\" will run for $\\tau=5,10,20$.\n",
    "- The training data path\n",
    "\n",
    "Feel free to tweak this script to change the inputs so as to control other parameters such as the number of iterations.\n",
    "\n",
    "By default, ``learning_W_and_persist()`` will write its output in ../data_persisted/xxx where xxx is formatted based on the name of the piano, the number of iterations, the STFT type, the note intensity and the values of $\\beta$ (divergence) and $\\tau$.\n",
    "\n",
    "To use with a **different dataset** than MAPS, you should probably write your own parser to call ``learning_W_and_persist()`` properly, similar to our ``launch_W_learning.py``. You should not change anything in ``learning_W_and_persist()`` unless you know what you are doing. Also, you should put the MIDI code of each isolated note in its name (last series of digits in the name) for the parser to find it.\n",
    "\n",
    "*Note:* If you have an error regarding the folder ../data_persisted/tmp_W not existing, you probably need to create it manually."
   ]
  },
  {
   "cell_type": "code",
   "execution_count": 9,
   "metadata": {},
   "outputs": [
    {
     "name": "stdout",
     "output_type": "stream",
     "text": [
      "D:/Travail/Travail/Toolbox/Data/Audio_Prozik/Maps/MAPS\n",
      "MIDI:  100\n",
      "time:37.1307430267334\n",
      "MIDI:  103\n",
      "time:29.668962478637695\n",
      "MIDI:  104\n",
      "time:45.54955339431763\n",
      "MIDI:  105\n",
      "time:33.28725004196167\n",
      "MIDI:  106\n",
      "time:38.11964225769043\n",
      "MIDI:  21\n",
      "time:57.23000884056091\n",
      "MIDI:  22\n",
      "time:50.316720485687256\n",
      "MIDI:  24\n",
      "time:48.983516216278076\n",
      "MIDI:  25\n",
      "time:53.39903473854065\n",
      "MIDI:  26\n",
      "time:64.10714221000671\n",
      "MIDI:  27\n"
     ]
    },
    {
     "ename": "KeyboardInterrupt",
     "evalue": "",
     "output_type": "error",
     "traceback": [
      "\u001b[1;31m---------------------------------------------------------------------------\u001b[0m",
      "\u001b[1;31mFileNotFoundError\u001b[0m                         Traceback (most recent call last)",
      "\u001b[1;32mD:\\Travail\\Travail\\Ecriture-Projets\\2021\\CNMF_Transcription\\src\\code\\script_igrida_learn.py\u001b[0m in \u001b[0;36mlearning_W_and_persist\u001b[1;34m(path, beta, T, itmax, rank, init, model_AD, piano_type, note_intensity)\u001b[0m\n\u001b[0;32m     39\u001b[0m             \u001b[0mpersisted_name\u001b[0m \u001b[1;33m=\u001b[0m \u001b[1;34m\"W_one_note_piano_{}_beta_{}_T_{}_init_{}_stftAD_{}_itmax_{}_midi_{}_intensity_{}\"\u001b[0m\u001b[1;33m.\u001b[0m\u001b[0mformat\u001b[0m\u001b[1;33m(\u001b[0m\u001b[0mpiano_type\u001b[0m\u001b[1;33m,\u001b[0m \u001b[0mbeta\u001b[0m\u001b[1;33m,\u001b[0m \u001b[0mT\u001b[0m\u001b[1;33m,\u001b[0m \u001b[0minit\u001b[0m\u001b[1;33m,\u001b[0m \u001b[0mmodel_AD\u001b[0m\u001b[1;33m,\u001b[0m \u001b[0mitmax\u001b[0m\u001b[1;33m,\u001b[0m \u001b[0mmidi\u001b[0m\u001b[1;33m,\u001b[0m \u001b[0mnote_intensity\u001b[0m\u001b[1;33m)\u001b[0m\u001b[1;33m\u001b[0m\u001b[1;33m\u001b[0m\u001b[0m\n\u001b[1;32m---> 40\u001b[1;33m             \u001b[0mW_mm\u001b[0m \u001b[1;33m=\u001b[0m \u001b[0mnp\u001b[0m\u001b[1;33m.\u001b[0m\u001b[0mload\u001b[0m\u001b[1;33m(\u001b[0m\u001b[1;34m\"{}/tmp_W/{}.npy\"\u001b[0m\u001b[1;33m.\u001b[0m\u001b[0mformat\u001b[0m\u001b[1;33m(\u001b[0m\u001b[0mpersisted_path\u001b[0m\u001b[1;33m,\u001b[0m \u001b[0mpersisted_name\u001b[0m\u001b[1;33m)\u001b[0m\u001b[1;33m,\u001b[0m \u001b[0mallow_pickle\u001b[0m \u001b[1;33m=\u001b[0m \u001b[1;32mTrue\u001b[0m\u001b[1;33m)\u001b[0m\u001b[1;33m\u001b[0m\u001b[1;33m\u001b[0m\u001b[0m\n\u001b[0m\u001b[0;32m     41\u001b[0m             \u001b[0mpersisted_name\u001b[0m \u001b[1;33m=\u001b[0m \u001b[1;34m\"H\"\u001b[0m \u001b[1;33m+\u001b[0m \u001b[0mpersisted_name\u001b[0m\u001b[1;33m[\u001b[0m\u001b[1;36m1\u001b[0m\u001b[1;33m:\u001b[0m\u001b[1;33m]\u001b[0m\u001b[1;33m\u001b[0m\u001b[1;33m\u001b[0m\u001b[0m\n",
      "\u001b[1;32m~\\anaconda3\\lib\\site-packages\\numpy\\lib\\npyio.py\u001b[0m in \u001b[0;36mload\u001b[1;34m(file, mmap_mode, allow_pickle, fix_imports, encoding)\u001b[0m\n\u001b[0;32m    415\u001b[0m         \u001b[1;32melse\u001b[0m\u001b[1;33m:\u001b[0m\u001b[1;33m\u001b[0m\u001b[1;33m\u001b[0m\u001b[0m\n\u001b[1;32m--> 416\u001b[1;33m             \u001b[0mfid\u001b[0m \u001b[1;33m=\u001b[0m \u001b[0mstack\u001b[0m\u001b[1;33m.\u001b[0m\u001b[0menter_context\u001b[0m\u001b[1;33m(\u001b[0m\u001b[0mopen\u001b[0m\u001b[1;33m(\u001b[0m\u001b[0mos_fspath\u001b[0m\u001b[1;33m(\u001b[0m\u001b[0mfile\u001b[0m\u001b[1;33m)\u001b[0m\u001b[1;33m,\u001b[0m \u001b[1;34m\"rb\"\u001b[0m\u001b[1;33m)\u001b[0m\u001b[1;33m)\u001b[0m\u001b[1;33m\u001b[0m\u001b[1;33m\u001b[0m\u001b[0m\n\u001b[0m\u001b[0;32m    417\u001b[0m             \u001b[0mown_fid\u001b[0m \u001b[1;33m=\u001b[0m \u001b[1;32mTrue\u001b[0m\u001b[1;33m\u001b[0m\u001b[1;33m\u001b[0m\u001b[0m\n",
      "\u001b[1;31mFileNotFoundError\u001b[0m: [Errno 2] No such file or directory: '../data_persisted/tmp_W/W_one_note_piano_AkPnCGdD_beta_1_T_5_init_L1_stftAD_True_itmax_500_midi_27_intensity_M.npy'",
      "\nDuring handling of the above exception, another exception occurred:\n",
      "\u001b[1;31mKeyboardInterrupt\u001b[0m                         Traceback (most recent call last)",
      "\u001b[1;32mD:\\Travail\\Travail\\Ecriture-Projets\\2021\\CNMF_Transcription\\src\\code\\launch_W_learning.py\u001b[0m in \u001b[0;36m<module>\u001b[1;34m\u001b[0m\n\u001b[0;32m     35\u001b[0m     \u001b[1;32melse\u001b[0m\u001b[1;33m:\u001b[0m\u001b[1;33m\u001b[0m\u001b[1;33m\u001b[0m\u001b[0m\n\u001b[0;32m     36\u001b[0m         \u001b[0mT\u001b[0m \u001b[1;33m=\u001b[0m \u001b[0mint\u001b[0m\u001b[1;33m(\u001b[0m\u001b[0msys\u001b[0m\u001b[1;33m.\u001b[0m\u001b[0margv\u001b[0m\u001b[1;33m[\u001b[0m\u001b[1;36m2\u001b[0m\u001b[1;33m]\u001b[0m\u001b[1;33m)\u001b[0m\u001b[1;33m\u001b[0m\u001b[1;33m\u001b[0m\u001b[0m\n\u001b[1;32m---> 37\u001b[1;33m         \u001b[0m_\u001b[0m\u001b[1;33m,\u001b[0m \u001b[0m_\u001b[0m \u001b[1;33m=\u001b[0m \u001b[0mscr\u001b[0m\u001b[1;33m.\u001b[0m\u001b[0mlearning_W_and_persist\u001b[0m\u001b[1;33m(\u001b[0m\u001b[0mpath_piano_isol\u001b[0m\u001b[1;33m,\u001b[0m \u001b[0mbeta\u001b[0m\u001b[1;33m,\u001b[0m \u001b[0mT\u001b[0m\u001b[1;33m,\u001b[0m \u001b[0mitmax\u001b[0m\u001b[1;33m=\u001b[0m\u001b[0mitmax\u001b[0m\u001b[1;33m,\u001b[0m \u001b[0mrank\u001b[0m\u001b[1;33m=\u001b[0m\u001b[1;36m1\u001b[0m\u001b[1;33m,\u001b[0m \u001b[0minit\u001b[0m\u001b[1;33m=\u001b[0m\u001b[1;34m\"L1\"\u001b[0m\u001b[1;33m,\u001b[0m \u001b[0mmodel_AD\u001b[0m \u001b[1;33m=\u001b[0m \u001b[1;32mTrue\u001b[0m\u001b[1;33m,\u001b[0m \u001b[0mpiano_type\u001b[0m \u001b[1;33m=\u001b[0m \u001b[0mpiano_type\u001b[0m\u001b[1;33m,\u001b[0m \u001b[0mnote_intensity\u001b[0m \u001b[1;33m=\u001b[0m \u001b[0mnote_intensity\u001b[0m\u001b[1;33m)\u001b[0m\u001b[1;33m\u001b[0m\u001b[1;33m\u001b[0m\u001b[0m\n\u001b[0m\u001b[0;32m     38\u001b[0m     \u001b[0mprint\u001b[0m\u001b[1;33m(\u001b[0m\u001b[1;34m\"Done\"\u001b[0m\u001b[1;33m)\u001b[0m\u001b[1;33m\u001b[0m\u001b[1;33m\u001b[0m\u001b[0m\n",
      "\u001b[1;32mD:\\Travail\\Travail\\Ecriture-Projets\\2021\\CNMF_Transcription\\src\\code\\script_igrida_learn.py\u001b[0m in \u001b[0;36mlearning_W_and_persist\u001b[1;34m(path, beta, T, itmax, rank, init, model_AD, piano_type, note_intensity)\u001b[0m\n\u001b[0;32m     76\u001b[0m                 \u001b[1;32mraise\u001b[0m \u001b[0mNotImplementedError\u001b[0m\u001b[1;33m(\u001b[0m\u001b[1;34m\"Wrong init parameter: {}\"\u001b[0m\u001b[1;33m.\u001b[0m\u001b[0mformat\u001b[0m\u001b[1;33m(\u001b[0m\u001b[0minit\u001b[0m\u001b[1;33m)\u001b[0m\u001b[1;33m)\u001b[0m\u001b[1;33m\u001b[0m\u001b[1;33m\u001b[0m\u001b[0m\n\u001b[0;32m     77\u001b[0m \u001b[1;33m\u001b[0m\u001b[0m\n\u001b[1;32m---> 78\u001b[1;33m             \u001b[1;33m[\u001b[0m\u001b[0mW_mm\u001b[0m\u001b[1;33m,\u001b[0m \u001b[0mH\u001b[0m\u001b[1;33m,\u001b[0m\u001b[0m_\u001b[0m\u001b[1;33m,\u001b[0m\u001b[0mall_err\u001b[0m\u001b[1;33m]\u001b[0m \u001b[1;33m=\u001b[0m \u001b[0mMM\u001b[0m\u001b[1;33m.\u001b[0m\u001b[0mconvlutive_MM\u001b[0m\u001b[1;33m(\u001b[0m\u001b[0mmag\u001b[0m\u001b[1;33m,\u001b[0m \u001b[0mrank\u001b[0m\u001b[1;33m,\u001b[0m \u001b[0mitmax\u001b[0m\u001b[1;33m,\u001b[0m \u001b[0mbeta\u001b[0m\u001b[1;33m,\u001b[0m \u001b[0mT\u001b[0m\u001b[1;33m,\u001b[0m \u001b[1;36m1e-7\u001b[0m\u001b[1;33m,\u001b[0m \u001b[0mW0\u001b[0m\u001b[1;33m=\u001b[0m\u001b[0mW0\u001b[0m\u001b[1;33m,\u001b[0m \u001b[0mH0\u001b[0m\u001b[1;33m=\u001b[0m\u001b[0mH0\u001b[0m\u001b[1;33m)\u001b[0m\u001b[1;33m\u001b[0m\u001b[1;33m\u001b[0m\u001b[0m\n\u001b[0m\u001b[0;32m     79\u001b[0m \u001b[1;33m\u001b[0m\u001b[0m\n\u001b[0;32m     80\u001b[0m             \u001b[1;31m#Persist W_mm\u001b[0m\u001b[1;33m\u001b[0m\u001b[1;33m\u001b[0m\u001b[1;33m\u001b[0m\u001b[0m\n",
      "\u001b[1;32mD:\\Travail\\Travail\\Ecriture-Projets\\2021\\CNMF_Transcription\\src\\code\\convolutive_MM.py\u001b[0m in \u001b[0;36mconvlutive_MM\u001b[1;34m(X, r, itmax, beta, T, e, W0, H0)\u001b[0m\n\u001b[0;32m     55\u001b[0m         \u001b[1;31m# update W\u001b[0m\u001b[1;33m\u001b[0m\u001b[1;33m\u001b[0m\u001b[1;33m\u001b[0m\u001b[0m\n\u001b[0;32m     56\u001b[0m         \u001b[1;32mfor\u001b[0m \u001b[0mt\u001b[0m \u001b[1;32min\u001b[0m \u001b[0mrange\u001b[0m\u001b[1;33m(\u001b[0m\u001b[0mT\u001b[0m\u001b[1;33m)\u001b[0m\u001b[1;33m:\u001b[0m\u001b[1;33m\u001b[0m\u001b[1;33m\u001b[0m\u001b[0m\n\u001b[1;32m---> 57\u001b[1;33m             \u001b[0mA\u001b[0m \u001b[1;33m=\u001b[0m \u001b[0msum\u001b[0m\u001b[1;33m(\u001b[0m\u001b[0mnp\u001b[0m\u001b[1;33m.\u001b[0m\u001b[0mdot\u001b[0m\u001b[1;33m(\u001b[0m\u001b[0mW\u001b[0m\u001b[1;33m[\u001b[0m\u001b[0mt\u001b[0m\u001b[1;33m]\u001b[0m\u001b[1;33m,\u001b[0m \u001b[0mshift\u001b[0m\u001b[1;33m(\u001b[0m\u001b[0mH\u001b[0m\u001b[1;33m,\u001b[0m \u001b[0mt\u001b[0m\u001b[1;33m)\u001b[0m\u001b[1;33m)\u001b[0m \u001b[1;32mfor\u001b[0m \u001b[0mt\u001b[0m \u001b[1;32min\u001b[0m \u001b[0mrange\u001b[0m\u001b[1;33m(\u001b[0m\u001b[0mT\u001b[0m\u001b[1;33m)\u001b[0m\u001b[1;33m)\u001b[0m\u001b[1;33m\u001b[0m\u001b[1;33m\u001b[0m\u001b[0m\n\u001b[0m\u001b[0;32m     58\u001b[0m             \u001b[0mW\u001b[0m\u001b[1;33m[\u001b[0m\u001b[0mt\u001b[0m\u001b[1;33m]\u001b[0m \u001b[1;33m=\u001b[0m \u001b[0mW\u001b[0m\u001b[1;33m[\u001b[0m\u001b[0mt\u001b[0m\u001b[1;33m]\u001b[0m\u001b[1;33m*\u001b[0m\u001b[1;33m(\u001b[0m\u001b[0mnp\u001b[0m\u001b[1;33m.\u001b[0m\u001b[0mdot\u001b[0m\u001b[1;33m(\u001b[0m\u001b[1;33m(\u001b[0m\u001b[0mA\u001b[0m\u001b[1;33m**\u001b[0m\u001b[1;33m(\u001b[0m\u001b[0mbeta\u001b[0m\u001b[1;33m-\u001b[0m\u001b[1;36m2\u001b[0m\u001b[1;33m)\u001b[0m\u001b[1;33m)\u001b[0m\u001b[1;33m*\u001b[0m\u001b[0mX\u001b[0m\u001b[1;33m,\u001b[0m \u001b[0mshift\u001b[0m\u001b[1;33m(\u001b[0m\u001b[0mH\u001b[0m\u001b[1;33m,\u001b[0m\u001b[0mt\u001b[0m\u001b[1;33m)\u001b[0m\u001b[1;33m.\u001b[0m\u001b[0mT\u001b[0m\u001b[1;33m)\u001b[0m\u001b[1;33m/\u001b[0m\u001b[0mnp\u001b[0m\u001b[1;33m.\u001b[0m\u001b[0mdot\u001b[0m\u001b[1;33m(\u001b[0m\u001b[0mA\u001b[0m\u001b[1;33m**\u001b[0m\u001b[1;33m(\u001b[0m\u001b[0mbeta\u001b[0m\u001b[1;33m-\u001b[0m\u001b[1;36m1\u001b[0m\u001b[1;33m)\u001b[0m\u001b[1;33m,\u001b[0m \u001b[0mshift\u001b[0m\u001b[1;33m(\u001b[0m\u001b[0mH\u001b[0m\u001b[1;33m,\u001b[0m\u001b[0mt\u001b[0m\u001b[1;33m)\u001b[0m\u001b[1;33m.\u001b[0m\u001b[0mT\u001b[0m\u001b[1;33m)\u001b[0m\u001b[1;33m)\u001b[0m\u001b[1;33m**\u001b[0m\u001b[0mgamma\u001b[0m\u001b[1;33m\u001b[0m\u001b[1;33m\u001b[0m\u001b[0m\n\u001b[0;32m     59\u001b[0m \u001b[1;33m\u001b[0m\u001b[0m\n",
      "\u001b[1;32mD:\\Travail\\Travail\\Ecriture-Projets\\2021\\CNMF_Transcription\\src\\code\\convolutive_MM.py\u001b[0m in \u001b[0;36m<genexpr>\u001b[1;34m(.0)\u001b[0m\n\u001b[0;32m     55\u001b[0m         \u001b[1;31m# update W\u001b[0m\u001b[1;33m\u001b[0m\u001b[1;33m\u001b[0m\u001b[1;33m\u001b[0m\u001b[0m\n\u001b[0;32m     56\u001b[0m         \u001b[1;32mfor\u001b[0m \u001b[0mt\u001b[0m \u001b[1;32min\u001b[0m \u001b[0mrange\u001b[0m\u001b[1;33m(\u001b[0m\u001b[0mT\u001b[0m\u001b[1;33m)\u001b[0m\u001b[1;33m:\u001b[0m\u001b[1;33m\u001b[0m\u001b[1;33m\u001b[0m\u001b[0m\n\u001b[1;32m---> 57\u001b[1;33m             \u001b[0mA\u001b[0m \u001b[1;33m=\u001b[0m \u001b[0msum\u001b[0m\u001b[1;33m(\u001b[0m\u001b[0mnp\u001b[0m\u001b[1;33m.\u001b[0m\u001b[0mdot\u001b[0m\u001b[1;33m(\u001b[0m\u001b[0mW\u001b[0m\u001b[1;33m[\u001b[0m\u001b[0mt\u001b[0m\u001b[1;33m]\u001b[0m\u001b[1;33m,\u001b[0m \u001b[0mshift\u001b[0m\u001b[1;33m(\u001b[0m\u001b[0mH\u001b[0m\u001b[1;33m,\u001b[0m \u001b[0mt\u001b[0m\u001b[1;33m)\u001b[0m\u001b[1;33m)\u001b[0m \u001b[1;32mfor\u001b[0m \u001b[0mt\u001b[0m \u001b[1;32min\u001b[0m \u001b[0mrange\u001b[0m\u001b[1;33m(\u001b[0m\u001b[0mT\u001b[0m\u001b[1;33m)\u001b[0m\u001b[1;33m)\u001b[0m\u001b[1;33m\u001b[0m\u001b[1;33m\u001b[0m\u001b[0m\n\u001b[0m\u001b[0;32m     58\u001b[0m             \u001b[0mW\u001b[0m\u001b[1;33m[\u001b[0m\u001b[0mt\u001b[0m\u001b[1;33m]\u001b[0m \u001b[1;33m=\u001b[0m \u001b[0mW\u001b[0m\u001b[1;33m[\u001b[0m\u001b[0mt\u001b[0m\u001b[1;33m]\u001b[0m\u001b[1;33m*\u001b[0m\u001b[1;33m(\u001b[0m\u001b[0mnp\u001b[0m\u001b[1;33m.\u001b[0m\u001b[0mdot\u001b[0m\u001b[1;33m(\u001b[0m\u001b[1;33m(\u001b[0m\u001b[0mA\u001b[0m\u001b[1;33m**\u001b[0m\u001b[1;33m(\u001b[0m\u001b[0mbeta\u001b[0m\u001b[1;33m-\u001b[0m\u001b[1;36m2\u001b[0m\u001b[1;33m)\u001b[0m\u001b[1;33m)\u001b[0m\u001b[1;33m*\u001b[0m\u001b[0mX\u001b[0m\u001b[1;33m,\u001b[0m \u001b[0mshift\u001b[0m\u001b[1;33m(\u001b[0m\u001b[0mH\u001b[0m\u001b[1;33m,\u001b[0m\u001b[0mt\u001b[0m\u001b[1;33m)\u001b[0m\u001b[1;33m.\u001b[0m\u001b[0mT\u001b[0m\u001b[1;33m)\u001b[0m\u001b[1;33m/\u001b[0m\u001b[0mnp\u001b[0m\u001b[1;33m.\u001b[0m\u001b[0mdot\u001b[0m\u001b[1;33m(\u001b[0m\u001b[0mA\u001b[0m\u001b[1;33m**\u001b[0m\u001b[1;33m(\u001b[0m\u001b[0mbeta\u001b[0m\u001b[1;33m-\u001b[0m\u001b[1;36m1\u001b[0m\u001b[1;33m)\u001b[0m\u001b[1;33m,\u001b[0m \u001b[0mshift\u001b[0m\u001b[1;33m(\u001b[0m\u001b[0mH\u001b[0m\u001b[1;33m,\u001b[0m\u001b[0mt\u001b[0m\u001b[1;33m)\u001b[0m\u001b[1;33m.\u001b[0m\u001b[0mT\u001b[0m\u001b[1;33m)\u001b[0m\u001b[1;33m)\u001b[0m\u001b[1;33m**\u001b[0m\u001b[0mgamma\u001b[0m\u001b[1;33m\u001b[0m\u001b[1;33m\u001b[0m\u001b[0m\n\u001b[0;32m     59\u001b[0m \u001b[1;33m\u001b[0m\u001b[0m\n",
      "\u001b[1;32m<__array_function__ internals>\u001b[0m in \u001b[0;36mdot\u001b[1;34m(*args, **kwargs)\u001b[0m\n",
      "\u001b[1;31mKeyboardInterrupt\u001b[0m: "
     ]
    }
   ],
   "source": [
    "# Make sure you are in the right directory (./code/)\n",
    "# For instance to run training with piano AkPnCGdD with \\tau=5. For now we hape to copy paste the path path_data --> how to solve this?\n",
    "%run launch_W_learning.py \"AkPnCGdD\" 5 \"D:/Travail/Travail/Toolbox/Data/Audio_Prozik/Maps/MAPS\""
   ]
  },
  {
   "cell_type": "markdown",
   "metadata": {},
   "source": [
    "# Performing Transcription with the templates (testing)"
   ]
  },
  {
   "cell_type": "markdown",
   "metadata": {},
   "source": [
    "Thanks to the training scripts, you should have computed the templates for all your individual notes. There should be 88 of these although any number of template works in practice.\n",
    "\n",
    "Now we perform transcription. Again you should ready the path of your test data."
   ]
  },
  {
   "cell_type": "code",
   "execution_count": 10,
   "metadata": {},
   "outputs": [],
   "source": [
    "# Again this variable is useless\n",
    "path_test = \"D:/Travail/Travail/Toolbox/Data/Audio_Prozik/Maps/MAPS\" # an example"
   ]
  },
  {
   "cell_type": "markdown",
   "metadata": {},
   "source": [
    "Again if you are using the MAPS dataset, we have already setup a parser you can use off the shelf, ``launch_H_learning.py``. It will properly call a function ``semi_supervised_transcribe_cnmf()`` located in ``script_igrida_transcribe.py`` which does the transcription heavy lifting. You can call ``launch_H_learning.py`` with 4 arguments:\n",
    "- The name of the piano you use templates from\n",
    "- The name of the piano you transcribe\n",
    "- The convolution size \\tau (default is 10)\n",
    "- The path to the MAPS database (Or any set of songs to transcribe)\n",
    "\n",
    "By default, the activations (H matrices) are written in a local folder ./data_persisted/activations/xxx where xxx follows the same conventions as for the learning stage.\n",
    "\n",
    "To transcribe your own songs, you should rewrite a small script calling ``semi_supervised_transcribe_cnmf()`` similar to ours.\n",
    "\n",
    "*Note*: if you already have computed a few activations, they will not be re-computed. Therefore to redo all computations you should erase or store the previous ones in a different location than ./data_persisted/activations/.\n",
    "\n",
    "*Note 2*: if you are using windows, you may encounter a bug because our file names are too long. A fix is described [here](https://helpdeskgeek.com/how-to/how-to-fix-filename-is-too-long-issue-in-windows/)"
   ]
  },
  {
   "cell_type": "code",
   "execution_count": 11,
   "metadata": {},
   "outputs": [
    {
     "name": "stdout",
     "output_type": "stream",
     "text": [
      "Piano templates learned on: AkPnCGdD\n",
      "processing piano song: MAPS_MUS-alb_esp2_AkPnCGdD\n",
      "Found in loads.\n",
      "processing piano song: MAPS_MUS-alb_esp3_AkPnCGdD\n",
      "Found in loads.\n",
      "processing piano song: MAPS_MUS-bk_xmas5_AkPnCGdD\n",
      "Found in loads.\n",
      "processing piano song: MAPS_MUS-bor_ps1_AkPnCGdD\n",
      "Found in loads.\n",
      "processing piano song: MAPS_MUS-br_im2_AkPnCGdD\n",
      "Found in loads.\n",
      "processing piano song: MAPS_MUS-br_im5_AkPnCGdD\n",
      "Found in loads.\n",
      "processing piano song: MAPS_MUS-chpn-p11-format0_AkPnCGdD\n",
      "Found in loads.\n",
      "processing piano song: MAPS_MUS-chpn-p11_AkPnCGdD\n",
      "Found in loads.\n",
      "processing piano song: MAPS_MUS-chpn-p13_AkPnCGdD\n",
      "Found in loads.\n",
      "processing piano song: MAPS_MUS-chpn-p14_AkPnCGdD\n",
      "Found in loads.\n",
      "processing piano song: MAPS_MUS-chpn-p15_AkPnCGdD\n",
      "Found in loads.\n",
      "processing piano song: MAPS_MUS-chpn-p20_AkPnCGdD\n",
      "Found in loads.\n",
      "processing piano song: MAPS_MUS-chpn-p7_AkPnCGdD\n",
      "Found in loads.\n",
      "processing piano song: MAPS_MUS-chpn_op10_e01_AkPnCGdD\n",
      "Found in loads.\n",
      "processing piano song: MAPS_MUS-chpn_op10_e12_AkPnCGdD\n",
      "Found in loads.\n",
      "processing piano song: MAPS_MUS-chpn_op27_1_AkPnCGdD\n",
      "Found in loads.\n",
      "processing piano song: MAPS_MUS-chp_op18_AkPnCGdD\n",
      "Found in loads.\n",
      "processing piano song: MAPS_MUS-grieg_kobold_AkPnCGdD\n",
      "Found in loads.\n",
      "processing piano song: MAPS_MUS-liz_et5_AkPnCGdD\n",
      "Found in loads.\n",
      "processing piano song: MAPS_MUS-liz_et6_AkPnCGdD\n",
      "Found in loads.\n",
      "processing piano song: MAPS_MUS-liz_et_trans5_AkPnCGdD\n",
      "Found in loads.\n",
      "processing piano song: MAPS_MUS-liz_rhap02_AkPnCGdD\n",
      "Found in loads.\n",
      "processing piano song: MAPS_MUS-mendel_op53_5_AkPnCGdD\n",
      "Found in loads.\n",
      "processing piano song: MAPS_MUS-muss_2_AkPnCGdD\n",
      "Found in loads.\n",
      "processing piano song: MAPS_MUS-mz_333_2_AkPnCGdD\n",
      "Found in loads.\n",
      "processing piano song: MAPS_MUS-schub_d960_3_AkPnCGdD\n",
      "Found in loads.\n",
      "processing piano song: MAPS_MUS-schu_143_2_AkPnCGdD\n",
      "Found in loads.\n",
      "processing piano song: MAPS_MUS-scn16_4_AkPnCGdD\n",
      "Found in loads.\n",
      "processing piano song: MAPS_MUS-ty_februar_AkPnCGdD\n",
      "Found in loads.\n",
      "processing piano song: MAPS_MUS-waldstein_2_AkPnCGdD\n",
      "Found in loads.\n",
      "Done.\n"
     ]
    }
   ],
   "source": [
    "# Make sure you are in the right directory (./code/)\n",
    "# For instance to run training with piano AkPnCGdD with \\tau=5. For now we hape to copy paste the path path_data --> how to solve this?\n",
    "%run launch_H_learning.py \"AkPnCGdD\" \"AkPnCGdD\" 10 \"D:/Travail/Travail/Toolbox/Data/Audio_Prozik/Maps/MAPS\""
   ]
  },
  {
   "cell_type": "markdown",
   "metadata": {},
   "source": [
    "To perform Transcription, please then refer to the notebook \"Supplementary material 1\""
   ]
  }
 ],
 "metadata": {
  "kernelspec": {
   "display_name": "Python 3",
   "language": "python",
   "name": "python3"
  },
  "language_info": {
   "codemirror_mode": {
    "name": "ipython",
    "version": 3
   },
   "file_extension": ".py",
   "mimetype": "text/x-python",
   "name": "python",
   "nbconvert_exporter": "python",
   "pygments_lexer": "ipython3",
   "version": "3.8.5"
  }
 },
 "nbformat": 4,
 "nbformat_minor": 4
}
