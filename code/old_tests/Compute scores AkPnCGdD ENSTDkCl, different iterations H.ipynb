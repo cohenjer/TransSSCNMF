{
 "cells": [
  {
   "cell_type": "code",
   "execution_count": 1,
   "metadata": {
    "ExecuteTime": {
     "end_time": "2021-03-12T18:48:03.811482Z",
     "start_time": "2021-03-12T18:48:02.464627Z"
    }
   },
   "outputs": [],
   "source": [
    "import numpy as np\n",
    "import mir_eval.transcription\n",
    "import os\n",
    "from IPython.display import display, Markdown\n",
    "\n",
    "import transcribe_factorization as tf\n",
    "import evaluate_transcription as et\n",
    "import STFT\n",
    "import pandas as pd"
   ]
  },
  {
   "cell_type": "markdown",
   "metadata": {},
   "source": [
    "NB: L'intensité de la note (lors de l'apprentissage) est désormais fixé à \"M\""
   ]
  },
  {
   "cell_type": "code",
   "execution_count": 2,
   "metadata": {
    "ExecuteTime": {
     "end_time": "2021-03-12T18:48:03.828214Z",
     "start_time": "2021-03-12T18:48:03.815117Z"
    }
   },
   "outputs": [],
   "source": [
    "list_val_it = #[10, 50, 250, 500] # TOMODIFY"
   ]
  },
  {
   "cell_type": "code",
   "execution_count": 3,
   "metadata": {
    "ExecuteTime": {
     "end_time": "2021-03-12T18:48:03.897255Z",
     "start_time": "2021-03-12T18:48:03.846119Z"
    }
   },
   "outputs": [],
   "source": [
    "def compute_scores_database(piano_type, H_normalization = False, adaptative_threshold = False):\n",
    "    path_computed_H = \"../data_persisted/activations\"\n",
    "    path_songs = \"C:/Users/amarmore/Desktop/Audio samples/MAPS/{}/MUS\".format(piano_type)\n",
    "    \n",
    "    time_limit = 30\n",
    "    beta = 1\n",
    "    init = \"L1\"\n",
    "    note_intensity = \"M\"\n",
    "    model_AD = True\n",
    "    T = 10\n",
    "    tol = 1e-8\n",
    "    codebook = range(21, 109)\n",
    "    onset_tolerance = 150/1000\n",
    "    \n",
    "    #a = np.arange(1e-3, 1e-2, 1e-3)\n",
    "    #b = np.arange(1e-4, 1e-3, 1e-4)\n",
    "    #c = np.arange(1e-5, 1e-4, 1e-5)\n",
    "    #d = np.arange(1e-6, 1e-5, 1e-6)\n",
    "    f = np.arange(1e-2, 2e-1, 1e-2)\n",
    "    g = np.arange(0.2, 0.5, 0.1)\n",
    "    #h = np.arange(1, 1.5, 0.1)\n",
    "    #j = np.arange(1e-7, 1e-6, 1e-7)\n",
    "    #listthres = np.r_[h[::-1], g[::-1], f[::-1], a[::-1], b[::-1], c[::-1], d[::-1], j[::-1]]\n",
    "    listthres = np.r_[g[::-1], f[::-1]]\n",
    "\n",
    "    files = os.listdir(path_songs)\n",
    "    list_files_wav = []\n",
    "    for it_files in files:\n",
    "        if it_files.split(\".\")[-1] == \"wav\":\n",
    "            list_files_wav.append(it_files)\n",
    "\n",
    "    all_res = []\n",
    "    for a_song in list_files_wav:\n",
    "        song_name = a_song.replace(\".wav\", \"\")\n",
    "        #print(\"processing piano song: {}\".format(song_name))\n",
    "        path_this_song = \"{}/{}\".format(path_songs, a_song)\n",
    "        stft = STFT.STFT(path_this_song, time = time_limit, model_AD=model_AD, channel = 0)\n",
    "\n",
    "        X = stft.get_magnitude_spectrogram()\n",
    "\n",
    "        annot_name = a_song.replace(\"wav\",\"txt\")\n",
    "        annot_this_song = \"{}/{}\".format(path_songs, annot_name)\n",
    "        note_annotations = et.load_ref_in_array(annot_this_song, time_limit=time_limit)\n",
    "        ref = np.array(note_annotations, float)\n",
    "        ref_pitches = np.array(ref[:,2], int)\n",
    "        try:\n",
    "            res_a_param = []\n",
    "            for itmax_H in list_val_it:\n",
    "                #for note_intensity in [\"M\"]:#, \"F\", \"P\"]:\n",
    "                H_persisted_name = \"activations_song_{}_W_learned_{}_beta_{}_T_{}_init_{}_stftAD_{}_itmax_{}_intensity_W_{}_time_limit_{}_tol_{}\".format(song_name, piano_type, beta, T, init, model_AD, itmax_H, note_intensity, time_limit, tol)\n",
    "                H = np.load(\"{}/{}.npy\".format(path_computed_H, H_persisted_name), allow_pickle = True)\n",
    "                res_every_thresh = []\n",
    "                for threshold in listthres:\n",
    "                    if adaptative_threshold:\n",
    "                        prediction, _ = tf.transcribe_activations_dynamic(codebook, H, stft, threshold, H_normalization = H_normalization)\n",
    "                    else:\n",
    "                        prediction, _ = tf.transcribe_activations(codebook, H, stft, threshold, H_normalization = H_normalization)\n",
    "                    est = np.array(prediction, float)\n",
    "                    if est.size > 0:\n",
    "                        est_pitches = np.array(est[:,2], int)\n",
    "                        (prec, rec, f_mes, _) = mir_eval.transcription.precision_recall_f1_overlap(ref[:,0:2], ref_pitches, est[:,0:2], est_pitches, offset_ratio = None, onset_tolerance = onset_tolerance)\n",
    "                        matching = mir_eval.transcription.match_notes(ref[:,0:2], ref_pitches, est[:,0:2],est_pitches, onset_tolerance=onset_tolerance,offset_ratio=None)\n",
    "                        TP = len(matching)\n",
    "                        try:\n",
    "                            FP = int(TP * (1 - prec) / prec)\n",
    "                        except ZeroDivisionError:\n",
    "                            FP = 0\n",
    "                        try:\n",
    "                            FN = int(TP * (1 - rec) / rec)\n",
    "                        except ZeroDivisionError:\n",
    "                            FN = 0\n",
    "                        acc = et.accuracy(TP,FP,FN)\n",
    "                    else:\n",
    "                        prec, rec, f_mes, acc, TP, FP, FN = (0,0,0,0,0,0,0)\n",
    "                    res_every_thresh.append([prec, rec, f_mes, acc, TP, FP, FN])\n",
    "                res_a_param.append(res_every_thresh)\n",
    "\n",
    "            all_res.append(res_a_param)\n",
    "\n",
    "        except FileNotFoundError:\n",
    "            print(\"\\033[91m This song failed: {} \\033[00m\".format(a_song)) \n",
    "            pass\n",
    "    np_all_res = np.array(all_res)\n",
    "    the_t = []\n",
    "    #intens = []\n",
    "    for itmax_var in list_val_it:\n",
    "        #for note_int in [\"M\"]:#, \"M\", \"P\"]:\n",
    "        the_t.append(\"itmax_H: {}\".format(itmax_var))\n",
    "        #intens.append(\"Note intensity: {}\".format(note_int))\n",
    "    index_pandas = the_t#, np.array(intens)]\n",
    "    col = ['Best threshold','Precision', 'Recall', 'F measure','Accuracy','True Positives','False Positives','False Negatives']\n",
    "    lines = []\n",
    "    lines_opt_thresh = []\n",
    "    for cond in range(len(list_val_it)):\n",
    "        all_thresh = []\n",
    "        for each_thresh in range(len(listthres)):\n",
    "            all_thresh.append(np.mean(np_all_res[:,cond,each_thresh,2]))\n",
    "        best_thresh_idx = np.argmax(all_thresh)\n",
    "        this_line = [listthres[best_thresh_idx]]\n",
    "        for i in range(len(col) - 1):# - 1 because threshold\n",
    "            this_line.append(round(np.mean(np_all_res[:,cond,best_thresh_idx,i]), 4))\n",
    "        lines.append(this_line)\n",
    "        \n",
    "        best_val = []\n",
    "        for each_song in range(len(list_files_wav)):\n",
    "            best_thresh_idx = np.argmax(np_all_res[each_song,cond,:,2])\n",
    "            best_val.append([round(np_all_res[each_song,cond,best_thresh_idx,i], 4) for i in range(len(col) - 1)])\n",
    "        lines_opt_thresh.append([round(np.mean(np.array(best_val)[:,i]),4) for i in range(len(col) - 1)])\n",
    "    print(\"Average of each threshold on all MAPS\")\n",
    "    df = pd.DataFrame(np.array(lines), columns = col, index = index_pandas)\n",
    "    display(df.style.bar(subset=[\"F measure\", \"Accuracy\"], color='#5fba7d'))\n",
    "\n",
    "    print(\"Optimizing each threshold\")\n",
    "    best_df = pd.DataFrame(np.array(lines_opt_thresh), columns = col[1:], index = index_pandas)\n",
    "    display(best_df.style.bar(subset=[\"F measure\", \"Accuracy\"], color='#5fba7d'))"
   ]
  },
  {
   "cell_type": "markdown",
   "metadata": {},
   "source": [
    "# AkPnCGdD"
   ]
  },
  {
   "cell_type": "markdown",
   "metadata": {},
   "source": [
    "## Sans normalisation sur H"
   ]
  },
  {
   "cell_type": "markdown",
   "metadata": {},
   "source": [
    "### Palier fixe"
   ]
  },
  {
   "cell_type": "code",
   "execution_count": 4,
   "metadata": {
    "ExecuteTime": {
     "end_time": "2021-03-12T18:48:10.873824Z",
     "start_time": "2021-03-12T18:48:03.906241Z"
    }
   },
   "outputs": [
    {
     "name": "stdout",
     "output_type": "stream",
     "text": [
      "Average of each threshold on all MAPS\n"
     ]
    },
    {
     "data": {
      "text/html": [
       "<style  type=\"text/css\" >\n",
       "#T_7e464cf6_8363_11eb_954d_8c04ba3e1d36row0_col3,#T_7e464cf6_8363_11eb_954d_8c04ba3e1d36row0_col4{\n",
       "            width:  10em;\n",
       "             height:  80%;\n",
       "        }</style><table id=\"T_7e464cf6_8363_11eb_954d_8c04ba3e1d36\" ><thead>    <tr>        <th class=\"blank level0\" ></th>        <th class=\"col_heading level0 col0\" >Best threshold</th>        <th class=\"col_heading level0 col1\" >Precision</th>        <th class=\"col_heading level0 col2\" >Recall</th>        <th class=\"col_heading level0 col3\" >F measure</th>        <th class=\"col_heading level0 col4\" >Accuracy</th>        <th class=\"col_heading level0 col5\" >True Positives</th>        <th class=\"col_heading level0 col6\" >False Positives</th>        <th class=\"col_heading level0 col7\" >False Negatives</th>    </tr></thead><tbody>\n",
       "                <tr>\n",
       "                        <th id=\"T_7e464cf6_8363_11eb_954d_8c04ba3e1d36level0_row0\" class=\"row_heading level0 row0\" >itmax_H: 250</th>\n",
       "                        <td id=\"T_7e464cf6_8363_11eb_954d_8c04ba3e1d36row0_col0\" class=\"data row0 col0\" >0.020000</td>\n",
       "                        <td id=\"T_7e464cf6_8363_11eb_954d_8c04ba3e1d36row0_col1\" class=\"data row0 col1\" >0.624500</td>\n",
       "                        <td id=\"T_7e464cf6_8363_11eb_954d_8c04ba3e1d36row0_col2\" class=\"data row0 col2\" >0.900000</td>\n",
       "                        <td id=\"T_7e464cf6_8363_11eb_954d_8c04ba3e1d36row0_col3\" class=\"data row0 col3\" >0.737300</td>\n",
       "                        <td id=\"T_7e464cf6_8363_11eb_954d_8c04ba3e1d36row0_col4\" class=\"data row0 col4\" >0.588500</td>\n",
       "                        <td id=\"T_7e464cf6_8363_11eb_954d_8c04ba3e1d36row0_col5\" class=\"data row0 col5\" >153.000000</td>\n",
       "                        <td id=\"T_7e464cf6_8363_11eb_954d_8c04ba3e1d36row0_col6\" class=\"data row0 col6\" >91.000000</td>\n",
       "                        <td id=\"T_7e464cf6_8363_11eb_954d_8c04ba3e1d36row0_col7\" class=\"data row0 col7\" >16.000000</td>\n",
       "            </tr>\n",
       "    </tbody></table>"
      ],
      "text/plain": [
       "<pandas.io.formats.style.Styler at 0x26cccd13c70>"
      ]
     },
     "metadata": {},
     "output_type": "display_data"
    },
    {
     "name": "stdout",
     "output_type": "stream",
     "text": [
      "Optimizing each threshold\n"
     ]
    },
    {
     "data": {
      "text/html": [
       "<style  type=\"text/css\" >\n",
       "#T_7e474eb5_8363_11eb_aa7e_8c04ba3e1d36row0_col2,#T_7e474eb5_8363_11eb_aa7e_8c04ba3e1d36row0_col3{\n",
       "            width:  10em;\n",
       "             height:  80%;\n",
       "        }</style><table id=\"T_7e474eb5_8363_11eb_aa7e_8c04ba3e1d36\" ><thead>    <tr>        <th class=\"blank level0\" ></th>        <th class=\"col_heading level0 col0\" >Precision</th>        <th class=\"col_heading level0 col1\" >Recall</th>        <th class=\"col_heading level0 col2\" >F measure</th>        <th class=\"col_heading level0 col3\" >Accuracy</th>        <th class=\"col_heading level0 col4\" >True Positives</th>        <th class=\"col_heading level0 col5\" >False Positives</th>        <th class=\"col_heading level0 col6\" >False Negatives</th>    </tr></thead><tbody>\n",
       "                <tr>\n",
       "                        <th id=\"T_7e474eb5_8363_11eb_aa7e_8c04ba3e1d36level0_row0\" class=\"row_heading level0 row0\" >itmax_H: 250</th>\n",
       "                        <td id=\"T_7e474eb5_8363_11eb_aa7e_8c04ba3e1d36row0_col0\" class=\"data row0 col0\" >0.624500</td>\n",
       "                        <td id=\"T_7e474eb5_8363_11eb_aa7e_8c04ba3e1d36row0_col1\" class=\"data row0 col1\" >0.900000</td>\n",
       "                        <td id=\"T_7e474eb5_8363_11eb_aa7e_8c04ba3e1d36row0_col2\" class=\"data row0 col2\" >0.737300</td>\n",
       "                        <td id=\"T_7e474eb5_8363_11eb_aa7e_8c04ba3e1d36row0_col3\" class=\"data row0 col3\" >0.588500</td>\n",
       "                        <td id=\"T_7e474eb5_8363_11eb_aa7e_8c04ba3e1d36row0_col4\" class=\"data row0 col4\" >153.000000</td>\n",
       "                        <td id=\"T_7e474eb5_8363_11eb_aa7e_8c04ba3e1d36row0_col5\" class=\"data row0 col5\" >91.000000</td>\n",
       "                        <td id=\"T_7e474eb5_8363_11eb_aa7e_8c04ba3e1d36row0_col6\" class=\"data row0 col6\" >16.000000</td>\n",
       "            </tr>\n",
       "    </tbody></table>"
      ],
      "text/plain": [
       "<pandas.io.formats.style.Styler at 0x26cd0c55850>"
      ]
     },
     "metadata": {},
     "output_type": "display_data"
    }
   ],
   "source": [
    "compute_scores_database(\"AkPnCGdD\", H_normalization = False, adaptative_threshold = False)"
   ]
  },
  {
   "cell_type": "markdown",
   "metadata": {},
   "source": [
    "### Palier adaptatif"
   ]
  },
  {
   "cell_type": "code",
   "execution_count": 5,
   "metadata": {
    "ExecuteTime": {
     "end_time": "2021-03-12T18:48:12.342221Z",
     "start_time": "2021-03-12T18:48:10.875785Z"
    }
   },
   "outputs": [
    {
     "name": "stdout",
     "output_type": "stream",
     "text": [
      "Average of each threshold on all MAPS\n"
     ]
    },
    {
     "data": {
      "text/html": [
       "<style  type=\"text/css\" >\n",
       "#T_7f25495d_8363_11eb_babf_8c04ba3e1d36row0_col3,#T_7f25495d_8363_11eb_babf_8c04ba3e1d36row0_col4{\n",
       "            width:  10em;\n",
       "             height:  80%;\n",
       "        }</style><table id=\"T_7f25495d_8363_11eb_babf_8c04ba3e1d36\" ><thead>    <tr>        <th class=\"blank level0\" ></th>        <th class=\"col_heading level0 col0\" >Best threshold</th>        <th class=\"col_heading level0 col1\" >Precision</th>        <th class=\"col_heading level0 col2\" >Recall</th>        <th class=\"col_heading level0 col3\" >F measure</th>        <th class=\"col_heading level0 col4\" >Accuracy</th>        <th class=\"col_heading level0 col5\" >True Positives</th>        <th class=\"col_heading level0 col6\" >False Positives</th>        <th class=\"col_heading level0 col7\" >False Negatives</th>    </tr></thead><tbody>\n",
       "                <tr>\n",
       "                        <th id=\"T_7f25495d_8363_11eb_babf_8c04ba3e1d36level0_row0\" class=\"row_heading level0 row0\" >itmax_H: 250</th>\n",
       "                        <td id=\"T_7f25495d_8363_11eb_babf_8c04ba3e1d36row0_col0\" class=\"data row0 col0\" >0.200000</td>\n",
       "                        <td id=\"T_7f25495d_8363_11eb_babf_8c04ba3e1d36row0_col1\" class=\"data row0 col1\" >1.000000</td>\n",
       "                        <td id=\"T_7f25495d_8363_11eb_babf_8c04ba3e1d36row0_col2\" class=\"data row0 col2\" >0.758800</td>\n",
       "                        <td id=\"T_7f25495d_8363_11eb_babf_8c04ba3e1d36row0_col3\" class=\"data row0 col3\" >0.862900</td>\n",
       "                        <td id=\"T_7f25495d_8363_11eb_babf_8c04ba3e1d36row0_col4\" class=\"data row0 col4\" >0.758800</td>\n",
       "                        <td id=\"T_7f25495d_8363_11eb_babf_8c04ba3e1d36row0_col5\" class=\"data row0 col5\" >129.000000</td>\n",
       "                        <td id=\"T_7f25495d_8363_11eb_babf_8c04ba3e1d36row0_col6\" class=\"data row0 col6\" >0.000000</td>\n",
       "                        <td id=\"T_7f25495d_8363_11eb_babf_8c04ba3e1d36row0_col7\" class=\"data row0 col7\" >41.000000</td>\n",
       "            </tr>\n",
       "    </tbody></table>"
      ],
      "text/plain": [
       "<pandas.io.formats.style.Styler at 0x26cd0d5b700>"
      ]
     },
     "metadata": {},
     "output_type": "display_data"
    },
    {
     "name": "stdout",
     "output_type": "stream",
     "text": [
      "Optimizing each threshold\n"
     ]
    },
    {
     "data": {
      "text/html": [
       "<style  type=\"text/css\" >\n",
       "#T_7f26a807_8363_11eb_9a66_8c04ba3e1d36row0_col2,#T_7f26a807_8363_11eb_9a66_8c04ba3e1d36row0_col3{\n",
       "            width:  10em;\n",
       "             height:  80%;\n",
       "        }</style><table id=\"T_7f26a807_8363_11eb_9a66_8c04ba3e1d36\" ><thead>    <tr>        <th class=\"blank level0\" ></th>        <th class=\"col_heading level0 col0\" >Precision</th>        <th class=\"col_heading level0 col1\" >Recall</th>        <th class=\"col_heading level0 col2\" >F measure</th>        <th class=\"col_heading level0 col3\" >Accuracy</th>        <th class=\"col_heading level0 col4\" >True Positives</th>        <th class=\"col_heading level0 col5\" >False Positives</th>        <th class=\"col_heading level0 col6\" >False Negatives</th>    </tr></thead><tbody>\n",
       "                <tr>\n",
       "                        <th id=\"T_7f26a807_8363_11eb_9a66_8c04ba3e1d36level0_row0\" class=\"row_heading level0 row0\" >itmax_H: 250</th>\n",
       "                        <td id=\"T_7f26a807_8363_11eb_9a66_8c04ba3e1d36row0_col0\" class=\"data row0 col0\" >1.000000</td>\n",
       "                        <td id=\"T_7f26a807_8363_11eb_9a66_8c04ba3e1d36row0_col1\" class=\"data row0 col1\" >0.758800</td>\n",
       "                        <td id=\"T_7f26a807_8363_11eb_9a66_8c04ba3e1d36row0_col2\" class=\"data row0 col2\" >0.862900</td>\n",
       "                        <td id=\"T_7f26a807_8363_11eb_9a66_8c04ba3e1d36row0_col3\" class=\"data row0 col3\" >0.758800</td>\n",
       "                        <td id=\"T_7f26a807_8363_11eb_9a66_8c04ba3e1d36row0_col4\" class=\"data row0 col4\" >129.000000</td>\n",
       "                        <td id=\"T_7f26a807_8363_11eb_9a66_8c04ba3e1d36row0_col5\" class=\"data row0 col5\" >0.000000</td>\n",
       "                        <td id=\"T_7f26a807_8363_11eb_9a66_8c04ba3e1d36row0_col6\" class=\"data row0 col6\" >41.000000</td>\n",
       "            </tr>\n",
       "    </tbody></table>"
      ],
      "text/plain": [
       "<pandas.io.formats.style.Styler at 0x26cd0d5bac0>"
      ]
     },
     "metadata": {},
     "output_type": "display_data"
    }
   ],
   "source": [
    "compute_scores_database(\"AkPnCGdD\", H_normalization = False, adaptative_threshold = True)"
   ]
  },
  {
   "cell_type": "markdown",
   "metadata": {},
   "source": [
    "## Avec normalisation sur H\n",
    "### Palier fixe"
   ]
  },
  {
   "cell_type": "code",
   "execution_count": 6,
   "metadata": {
    "ExecuteTime": {
     "end_time": "2021-03-12T18:48:18.037412Z",
     "start_time": "2021-03-12T18:48:12.347608Z"
    }
   },
   "outputs": [
    {
     "name": "stdout",
     "output_type": "stream",
     "text": [
      "Average of each threshold on all MAPS\n"
     ]
    },
    {
     "data": {
      "text/html": [
       "<style  type=\"text/css\" >\n",
       "#T_828ab4b4_8363_11eb_b1f2_8c04ba3e1d36row0_col3,#T_828ab4b4_8363_11eb_b1f2_8c04ba3e1d36row0_col4{\n",
       "            width:  10em;\n",
       "             height:  80%;\n",
       "        }</style><table id=\"T_828ab4b4_8363_11eb_b1f2_8c04ba3e1d36\" ><thead>    <tr>        <th class=\"blank level0\" ></th>        <th class=\"col_heading level0 col0\" >Best threshold</th>        <th class=\"col_heading level0 col1\" >Precision</th>        <th class=\"col_heading level0 col2\" >Recall</th>        <th class=\"col_heading level0 col3\" >F measure</th>        <th class=\"col_heading level0 col4\" >Accuracy</th>        <th class=\"col_heading level0 col5\" >True Positives</th>        <th class=\"col_heading level0 col6\" >False Positives</th>        <th class=\"col_heading level0 col7\" >False Negatives</th>    </tr></thead><tbody>\n",
       "                <tr>\n",
       "                        <th id=\"T_828ab4b4_8363_11eb_b1f2_8c04ba3e1d36level0_row0\" class=\"row_heading level0 row0\" >itmax_H: 250</th>\n",
       "                        <td id=\"T_828ab4b4_8363_11eb_b1f2_8c04ba3e1d36row0_col0\" class=\"data row0 col0\" >0.020000</td>\n",
       "                        <td id=\"T_828ab4b4_8363_11eb_b1f2_8c04ba3e1d36row0_col1\" class=\"data row0 col1\" >0.696200</td>\n",
       "                        <td id=\"T_828ab4b4_8363_11eb_b1f2_8c04ba3e1d36row0_col2\" class=\"data row0 col2\" >0.970600</td>\n",
       "                        <td id=\"T_828ab4b4_8363_11eb_b1f2_8c04ba3e1d36row0_col3\" class=\"data row0 col3\" >0.810800</td>\n",
       "                        <td id=\"T_828ab4b4_8363_11eb_b1f2_8c04ba3e1d36row0_col4\" class=\"data row0 col4\" >0.684600</td>\n",
       "                        <td id=\"T_828ab4b4_8363_11eb_b1f2_8c04ba3e1d36row0_col5\" class=\"data row0 col5\" >165.000000</td>\n",
       "                        <td id=\"T_828ab4b4_8363_11eb_b1f2_8c04ba3e1d36row0_col6\" class=\"data row0 col6\" >71.000000</td>\n",
       "                        <td id=\"T_828ab4b4_8363_11eb_b1f2_8c04ba3e1d36row0_col7\" class=\"data row0 col7\" >5.000000</td>\n",
       "            </tr>\n",
       "    </tbody></table>"
      ],
      "text/plain": [
       "<pandas.io.formats.style.Styler at 0x26cd0efb3d0>"
      ]
     },
     "metadata": {},
     "output_type": "display_data"
    },
    {
     "name": "stdout",
     "output_type": "stream",
     "text": [
      "Optimizing each threshold\n"
     ]
    },
    {
     "data": {
      "text/html": [
       "<style  type=\"text/css\" >\n",
       "#T_828bcaae_8363_11eb_9579_8c04ba3e1d36row0_col2,#T_828bcaae_8363_11eb_9579_8c04ba3e1d36row0_col3{\n",
       "            width:  10em;\n",
       "             height:  80%;\n",
       "        }</style><table id=\"T_828bcaae_8363_11eb_9579_8c04ba3e1d36\" ><thead>    <tr>        <th class=\"blank level0\" ></th>        <th class=\"col_heading level0 col0\" >Precision</th>        <th class=\"col_heading level0 col1\" >Recall</th>        <th class=\"col_heading level0 col2\" >F measure</th>        <th class=\"col_heading level0 col3\" >Accuracy</th>        <th class=\"col_heading level0 col4\" >True Positives</th>        <th class=\"col_heading level0 col5\" >False Positives</th>        <th class=\"col_heading level0 col6\" >False Negatives</th>    </tr></thead><tbody>\n",
       "                <tr>\n",
       "                        <th id=\"T_828bcaae_8363_11eb_9579_8c04ba3e1d36level0_row0\" class=\"row_heading level0 row0\" >itmax_H: 250</th>\n",
       "                        <td id=\"T_828bcaae_8363_11eb_9579_8c04ba3e1d36row0_col0\" class=\"data row0 col0\" >0.696200</td>\n",
       "                        <td id=\"T_828bcaae_8363_11eb_9579_8c04ba3e1d36row0_col1\" class=\"data row0 col1\" >0.970600</td>\n",
       "                        <td id=\"T_828bcaae_8363_11eb_9579_8c04ba3e1d36row0_col2\" class=\"data row0 col2\" >0.810800</td>\n",
       "                        <td id=\"T_828bcaae_8363_11eb_9579_8c04ba3e1d36row0_col3\" class=\"data row0 col3\" >0.684600</td>\n",
       "                        <td id=\"T_828bcaae_8363_11eb_9579_8c04ba3e1d36row0_col4\" class=\"data row0 col4\" >165.000000</td>\n",
       "                        <td id=\"T_828bcaae_8363_11eb_9579_8c04ba3e1d36row0_col5\" class=\"data row0 col5\" >71.000000</td>\n",
       "                        <td id=\"T_828bcaae_8363_11eb_9579_8c04ba3e1d36row0_col6\" class=\"data row0 col6\" >5.000000</td>\n",
       "            </tr>\n",
       "    </tbody></table>"
      ],
      "text/plain": [
       "<pandas.io.formats.style.Styler at 0x26cd0efb730>"
      ]
     },
     "metadata": {},
     "output_type": "display_data"
    }
   ],
   "source": [
    "compute_scores_database(\"AkPnCGdD\", H_normalization = True, adaptative_threshold = False)"
   ]
  },
  {
   "cell_type": "markdown",
   "metadata": {},
   "source": [
    "### Palier adaptatif"
   ]
  },
  {
   "cell_type": "code",
   "execution_count": 7,
   "metadata": {
    "ExecuteTime": {
     "end_time": "2021-03-12T18:48:19.626714Z",
     "start_time": "2021-03-12T18:48:18.041282Z"
    }
   },
   "outputs": [
    {
     "name": "stdout",
     "output_type": "stream",
     "text": [
      "Average of each threshold on all MAPS\n"
     ]
    },
    {
     "data": {
      "text/html": [
       "<style  type=\"text/css\" >\n",
       "#T_837d569d_8363_11eb_8f74_8c04ba3e1d36row0_col3,#T_837d569d_8363_11eb_8f74_8c04ba3e1d36row0_col4{\n",
       "            width:  10em;\n",
       "             height:  80%;\n",
       "        }</style><table id=\"T_837d569d_8363_11eb_8f74_8c04ba3e1d36\" ><thead>    <tr>        <th class=\"blank level0\" ></th>        <th class=\"col_heading level0 col0\" >Best threshold</th>        <th class=\"col_heading level0 col1\" >Precision</th>        <th class=\"col_heading level0 col2\" >Recall</th>        <th class=\"col_heading level0 col3\" >F measure</th>        <th class=\"col_heading level0 col4\" >Accuracy</th>        <th class=\"col_heading level0 col5\" >True Positives</th>        <th class=\"col_heading level0 col6\" >False Positives</th>        <th class=\"col_heading level0 col7\" >False Negatives</th>    </tr></thead><tbody>\n",
       "                <tr>\n",
       "                        <th id=\"T_837d569d_8363_11eb_8f74_8c04ba3e1d36level0_row0\" class=\"row_heading level0 row0\" >itmax_H: 250</th>\n",
       "                        <td id=\"T_837d569d_8363_11eb_8f74_8c04ba3e1d36row0_col0\" class=\"data row0 col0\" >0.400000</td>\n",
       "                        <td id=\"T_837d569d_8363_11eb_8f74_8c04ba3e1d36row0_col1\" class=\"data row0 col1\" >0.878900</td>\n",
       "                        <td id=\"T_837d569d_8363_11eb_8f74_8c04ba3e1d36row0_col2\" class=\"data row0 col2\" >0.982400</td>\n",
       "                        <td id=\"T_837d569d_8363_11eb_8f74_8c04ba3e1d36row0_col3\" class=\"data row0 col3\" >0.927800</td>\n",
       "                        <td id=\"T_837d569d_8363_11eb_8f74_8c04ba3e1d36row0_col4\" class=\"data row0 col4\" >0.865300</td>\n",
       "                        <td id=\"T_837d569d_8363_11eb_8f74_8c04ba3e1d36row0_col5\" class=\"data row0 col5\" >167.000000</td>\n",
       "                        <td id=\"T_837d569d_8363_11eb_8f74_8c04ba3e1d36row0_col6\" class=\"data row0 col6\" >23.000000</td>\n",
       "                        <td id=\"T_837d569d_8363_11eb_8f74_8c04ba3e1d36row0_col7\" class=\"data row0 col7\" >3.000000</td>\n",
       "            </tr>\n",
       "    </tbody></table>"
      ],
      "text/plain": [
       "<pandas.io.formats.style.Styler at 0x26cd106e9a0>"
      ]
     },
     "metadata": {},
     "output_type": "display_data"
    },
    {
     "name": "stdout",
     "output_type": "stream",
     "text": [
      "Optimizing each threshold\n"
     ]
    },
    {
     "data": {
      "text/html": [
       "<style  type=\"text/css\" >\n",
       "#T_837ea1f3_8363_11eb_88b7_8c04ba3e1d36row0_col2,#T_837ea1f3_8363_11eb_88b7_8c04ba3e1d36row0_col3{\n",
       "            width:  10em;\n",
       "             height:  80%;\n",
       "        }</style><table id=\"T_837ea1f3_8363_11eb_88b7_8c04ba3e1d36\" ><thead>    <tr>        <th class=\"blank level0\" ></th>        <th class=\"col_heading level0 col0\" >Precision</th>        <th class=\"col_heading level0 col1\" >Recall</th>        <th class=\"col_heading level0 col2\" >F measure</th>        <th class=\"col_heading level0 col3\" >Accuracy</th>        <th class=\"col_heading level0 col4\" >True Positives</th>        <th class=\"col_heading level0 col5\" >False Positives</th>        <th class=\"col_heading level0 col6\" >False Negatives</th>    </tr></thead><tbody>\n",
       "                <tr>\n",
       "                        <th id=\"T_837ea1f3_8363_11eb_88b7_8c04ba3e1d36level0_row0\" class=\"row_heading level0 row0\" >itmax_H: 250</th>\n",
       "                        <td id=\"T_837ea1f3_8363_11eb_88b7_8c04ba3e1d36row0_col0\" class=\"data row0 col0\" >0.878900</td>\n",
       "                        <td id=\"T_837ea1f3_8363_11eb_88b7_8c04ba3e1d36row0_col1\" class=\"data row0 col1\" >0.982400</td>\n",
       "                        <td id=\"T_837ea1f3_8363_11eb_88b7_8c04ba3e1d36row0_col2\" class=\"data row0 col2\" >0.927800</td>\n",
       "                        <td id=\"T_837ea1f3_8363_11eb_88b7_8c04ba3e1d36row0_col3\" class=\"data row0 col3\" >0.865300</td>\n",
       "                        <td id=\"T_837ea1f3_8363_11eb_88b7_8c04ba3e1d36row0_col4\" class=\"data row0 col4\" >167.000000</td>\n",
       "                        <td id=\"T_837ea1f3_8363_11eb_88b7_8c04ba3e1d36row0_col5\" class=\"data row0 col5\" >23.000000</td>\n",
       "                        <td id=\"T_837ea1f3_8363_11eb_88b7_8c04ba3e1d36row0_col6\" class=\"data row0 col6\" >3.000000</td>\n",
       "            </tr>\n",
       "    </tbody></table>"
      ],
      "text/plain": [
       "<pandas.io.formats.style.Styler at 0x26cd106ebe0>"
      ]
     },
     "metadata": {},
     "output_type": "display_data"
    }
   ],
   "source": [
    "compute_scores_database(\"AkPnCGdD\", H_normalization = True, adaptative_threshold = True)"
   ]
  }
 ],
 "metadata": {
  "kernelspec": {
   "display_name": "Python 3",
   "language": "python",
   "name": "python3"
  },
  "language_info": {
   "codemirror_mode": {
    "name": "ipython",
    "version": 3
   },
   "file_extension": ".py",
   "mimetype": "text/x-python",
   "name": "python",
   "nbconvert_exporter": "python",
   "pygments_lexer": "ipython3",
   "version": "3.8.5"
  },
  "toc": {
   "base_numbering": 1,
   "nav_menu": {},
   "number_sections": true,
   "sideBar": true,
   "skip_h1_title": false,
   "title_cell": "Table of Contents",
   "title_sidebar": "Contents",
   "toc_cell": false,
   "toc_position": {},
   "toc_section_display": true,
   "toc_window_display": false
  },
  "varInspector": {
   "cols": {
    "lenName": 16,
    "lenType": 16,
    "lenVar": 40
   },
   "kernels_config": {
    "python": {
     "delete_cmd_postfix": "",
     "delete_cmd_prefix": "del ",
     "library": "var_list.py",
     "varRefreshCmd": "print(var_dic_list())"
    },
    "r": {
     "delete_cmd_postfix": ") ",
     "delete_cmd_prefix": "rm(",
     "library": "var_list.r",
     "varRefreshCmd": "cat(var_dic_list()) "
    }
   },
   "types_to_exclude": [
    "module",
    "function",
    "builtin_function_or_method",
    "instance",
    "_Feature"
   ],
   "window_display": false
  }
 },
 "nbformat": 4,
 "nbformat_minor": 4
}
