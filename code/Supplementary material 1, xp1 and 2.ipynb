{
 "cells": [
  {
   "cell_type": "markdown",
   "metadata": {},
   "source": [
    "# Supplementary material 1: XP1-2 complete results"
   ]
  },
  {
   "cell_type": "markdown",
   "metadata": {},
   "source": [
    "In this notebook, we provide all the transcription performances when using piano A to transcribe a piano B (with possibly A=B) on the MAPS dataset."
   ]
  },
  {
   "cell_type": "code",
   "execution_count": 1,
   "metadata": {},
   "outputs": [],
   "source": [
    "from compare_pianos_script import compute_scores_database"
   ]
  },
  {
   "cell_type": "markdown",
   "metadata": {},
   "source": [
    "Before anything else, if some toolbox are missing from your environment, you can use e.g. \n",
    "`pip install -r req.txt`"
   ]
  },
  {
   "cell_type": "markdown",
   "metadata": {},
   "source": [
    "First, we need to properly set the paths to the songs to transcribe in MAPS (with their midi format), and the paths of the H computed using ``launch_H_learning.py`` on the same songs."
   ]
  },
  {
   "cell_type": "code",
   "execution_count": 2,
   "metadata": {},
   "outputs": [],
   "source": [
    "# Modify with your MAPS/{}/MUS path\n",
    "#path_MAPS = \"C:/Users/AEinstein/Desktop/MAPS\"  # an example\n",
    "path_MAPS = \"D:/Travail/Travail/Toolbox/Data/Audio_Prozik/Maps/MAPS\"  # another example\n",
    "# This path should be correct by default\n",
    "#path_computed_H = \"../data_persisted/activations\" "
   ]
  },
  {
   "cell_type": "markdown",
   "metadata": {},
   "source": [
    "Now we can invoke the comparison script and check the results. The list of piano names PianoA gives the set of templates to use, while PianoB the set of piano type for which we transcribe using templates PianoA. Using all pianos is quite time consuming (there should be about 20 songs for each combination).\n",
    "\n",
    "Not all combinations have been tested and what you can test depends on the training and testing that was done. For our paper, we allow PianoA=PianoB for any piano as long as it is only one piano, and PianoA can be anything if PianoB contains only \"AkPnCGdD\" and/or \"ENSTDkCl\"\n",
    "\n",
    "The results shown are for both a song-wise activation adaptive threshold and a global threshold. For the latter we show the best threshold obtained for each convolution kernel size $\\tau$."
   ]
  },
  {
   "cell_type": "code",
   "execution_count": 4,
   "metadata": {},
   "outputs": [
    {
     "data": {
      "text/markdown": [
       "## Piano for W: AkPnBcht, and for H: AkPnBcht"
      ],
      "text/plain": [
       "<IPython.core.display.Markdown object>"
      ]
     },
     "metadata": {},
     "output_type": "display_data"
    },
    {
     "name": "stdout",
     "output_type": "stream",
     "text": [
      "processing piano song: MAPS_MUS-alb_se3_AkPnBcht\n",
      "processing piano song: MAPS_MUS-bach_846_AkPnBcht\n",
      "processing piano song: MAPS_MUS-bach_847_AkPnBcht\n",
      "processing piano song: MAPS_MUS-bk_xmas5_AkPnBcht\n",
      "processing piano song: MAPS_MUS-chpn-p12_AkPnBcht\n",
      "processing piano song: MAPS_MUS-chpn-p13_AkPnBcht\n",
      "processing piano song: MAPS_MUS-chpn-p14_AkPnBcht\n",
      "processing piano song: MAPS_MUS-chpn-p1_AkPnBcht\n",
      "processing piano song: MAPS_MUS-chpn-p24_AkPnBcht\n",
      "processing piano song: MAPS_MUS-chpn-p3_AkPnBcht\n",
      "processing piano song: MAPS_MUS-chpn-p4_AkPnBcht\n",
      "processing piano song: MAPS_MUS-chpn-p8_AkPnBcht\n",
      "processing piano song: MAPS_MUS-chpn_op25_e2_AkPnBcht\n",
      "processing piano song: MAPS_MUS-chpn_op66_AkPnBcht\n",
      "processing piano song: MAPS_MUS-chp_op31_AkPnBcht\n",
      "processing piano song: MAPS_MUS-gra_esp_4_AkPnBcht\n",
      "processing piano song: MAPS_MUS-grieg_waechter_AkPnBcht\n",
      "processing piano song: MAPS_MUS-grieg_walzer_AkPnBcht\n",
      "processing piano song: MAPS_MUS-grieg_zwerge_AkPnBcht\n",
      "processing piano song: MAPS_MUS-hay_40_1_AkPnBcht\n",
      "processing piano song: MAPS_MUS-muss_5_AkPnBcht\n",
      "processing piano song: MAPS_MUS-mz_331_2_AkPnBcht\n",
      "processing piano song: MAPS_MUS-schub_d760_1_AkPnBcht\n",
      "processing piano song: MAPS_MUS-schumm-6_AkPnBcht\n",
      "processing piano song: MAPS_MUS-schu_143_1_AkPnBcht\n",
      "processing piano song: MAPS_MUS-scn15_3_AkPnBcht\n",
      "processing piano song: MAPS_MUS-scn15_7_AkPnBcht\n",
      "processing piano song: MAPS_MUS-scn16_2_AkPnBcht\n",
      "processing piano song: MAPS_MUS-ty_juli_AkPnBcht\n",
      "processing piano song: MAPS_MUS-ty_mai_AkPnBcht\n"
     ]
    },
    {
     "data": {
      "text/markdown": [
       "### When averaging each threshold on all MAPS"
      ],
      "text/plain": [
       "<IPython.core.display.Markdown object>"
      ]
     },
     "metadata": {},
     "output_type": "display_data"
    },
    {
     "data": {
      "text/html": [
       "<style  type=\"text/css\" >\n",
       "#T_f9785d51_9df8_11eb_a67a_309c23e135f2row0_col3,#T_f9785d51_9df8_11eb_a67a_309c23e135f2row0_col4{\n",
       "            width:  10em;\n",
       "             height:  80%;\n",
       "        }#T_f9785d51_9df8_11eb_a67a_309c23e135f2row1_col3{\n",
       "            width:  10em;\n",
       "             height:  80%;\n",
       "            background:  linear-gradient(90deg,#5fba7d 94.2%, transparent 94.2%);\n",
       "        }#T_f9785d51_9df8_11eb_a67a_309c23e135f2row1_col4{\n",
       "            width:  10em;\n",
       "             height:  80%;\n",
       "            background:  linear-gradient(90deg,#5fba7d 96.5%, transparent 96.5%);\n",
       "        }#T_f9785d51_9df8_11eb_a67a_309c23e135f2row2_col3,#T_f9785d51_9df8_11eb_a67a_309c23e135f2row2_col4{\n",
       "            width:  10em;\n",
       "             height:  80%;\n",
       "            background:  linear-gradient(90deg,#5fba7d 100.0%, transparent 100.0%);\n",
       "        }</style><table id=\"T_f9785d51_9df8_11eb_a67a_309c23e135f2\" ><thead>    <tr>        <th class=\"blank level0\" ></th>        <th class=\"col_heading level0 col0\" >Best threshold</th>        <th class=\"col_heading level0 col1\" >Precision</th>        <th class=\"col_heading level0 col2\" >Recall</th>        <th class=\"col_heading level0 col3\" >F measure</th>        <th class=\"col_heading level0 col4\" >Accuracy</th>        <th class=\"col_heading level0 col5\" >True Positives</th>        <th class=\"col_heading level0 col6\" >False Positives</th>        <th class=\"col_heading level0 col7\" >False Negatives</th>    </tr></thead><tbody>\n",
       "                <tr>\n",
       "                        <th id=\"T_f9785d51_9df8_11eb_a67a_309c23e135f2level0_row0\" class=\"row_heading level0 row0\" >T: 5</th>\n",
       "                        <td id=\"T_f9785d51_9df8_11eb_a67a_309c23e135f2row0_col0\" class=\"data row0 col0\" >0.050000</td>\n",
       "                        <td id=\"T_f9785d51_9df8_11eb_a67a_309c23e135f2row0_col1\" class=\"data row0 col1\" >0.903000</td>\n",
       "                        <td id=\"T_f9785d51_9df8_11eb_a67a_309c23e135f2row0_col2\" class=\"data row0 col2\" >0.874500</td>\n",
       "                        <td id=\"T_f9785d51_9df8_11eb_a67a_309c23e135f2row0_col3\" class=\"data row0 col3\" >0.879700</td>\n",
       "                        <td id=\"T_f9785d51_9df8_11eb_a67a_309c23e135f2row0_col4\" class=\"data row0 col4\" >0.797900</td>\n",
       "                        <td id=\"T_f9785d51_9df8_11eb_a67a_309c23e135f2row0_col5\" class=\"data row0 col5\" >265.566700</td>\n",
       "                        <td id=\"T_f9785d51_9df8_11eb_a67a_309c23e135f2row0_col6\" class=\"data row0 col6\" >39.100000</td>\n",
       "                        <td id=\"T_f9785d51_9df8_11eb_a67a_309c23e135f2row0_col7\" class=\"data row0 col7\" >33.333300</td>\n",
       "            </tr>\n",
       "            <tr>\n",
       "                        <th id=\"T_f9785d51_9df8_11eb_a67a_309c23e135f2level0_row1\" class=\"row_heading level0 row1\" >T: 10</th>\n",
       "                        <td id=\"T_f9785d51_9df8_11eb_a67a_309c23e135f2row1_col0\" class=\"data row1 col0\" >0.070000</td>\n",
       "                        <td id=\"T_f9785d51_9df8_11eb_a67a_309c23e135f2row1_col1\" class=\"data row1 col1\" >0.941900</td>\n",
       "                        <td id=\"T_f9785d51_9df8_11eb_a67a_309c23e135f2row1_col2\" class=\"data row1 col2\" >0.930800</td>\n",
       "                        <td id=\"T_f9785d51_9df8_11eb_a67a_309c23e135f2row1_col3\" class=\"data row1 col3\" >0.933100</td>\n",
       "                        <td id=\"T_f9785d51_9df8_11eb_a67a_309c23e135f2row1_col4\" class=\"data row1 col4\" >0.883200</td>\n",
       "                        <td id=\"T_f9785d51_9df8_11eb_a67a_309c23e135f2row1_col5\" class=\"data row1 col5\" >279.433300</td>\n",
       "                        <td id=\"T_f9785d51_9df8_11eb_a67a_309c23e135f2row1_col6\" class=\"data row1 col6\" >21.366700</td>\n",
       "                        <td id=\"T_f9785d51_9df8_11eb_a67a_309c23e135f2row1_col7\" class=\"data row1 col7\" >19.400000</td>\n",
       "            </tr>\n",
       "            <tr>\n",
       "                        <th id=\"T_f9785d51_9df8_11eb_a67a_309c23e135f2level0_row2\" class=\"row_heading level0 row2\" >T: 20</th>\n",
       "                        <td id=\"T_f9785d51_9df8_11eb_a67a_309c23e135f2row2_col0\" class=\"data row2 col0\" >0.110000</td>\n",
       "                        <td id=\"T_f9785d51_9df8_11eb_a67a_309c23e135f2row2_col1\" class=\"data row2 col1\" >0.944600</td>\n",
       "                        <td id=\"T_f9785d51_9df8_11eb_a67a_309c23e135f2row2_col2\" class=\"data row2 col2\" >0.931400</td>\n",
       "                        <td id=\"T_f9785d51_9df8_11eb_a67a_309c23e135f2row2_col3\" class=\"data row2 col3\" >0.936400</td>\n",
       "                        <td id=\"T_f9785d51_9df8_11eb_a67a_309c23e135f2row2_col4\" class=\"data row2 col4\" >0.886300</td>\n",
       "                        <td id=\"T_f9785d51_9df8_11eb_a67a_309c23e135f2row2_col5\" class=\"data row2 col5\" >277.466700</td>\n",
       "                        <td id=\"T_f9785d51_9df8_11eb_a67a_309c23e135f2row2_col6\" class=\"data row2 col6\" >18.000000</td>\n",
       "                        <td id=\"T_f9785d51_9df8_11eb_a67a_309c23e135f2row2_col7\" class=\"data row2 col7\" >21.533300</td>\n",
       "            </tr>\n",
       "    </tbody></table>"
      ],
      "text/plain": [
       "<pandas.io.formats.style.Styler at 0x19d3508eb80>"
      ]
     },
     "metadata": {},
     "output_type": "display_data"
    },
    {
     "data": {
      "text/markdown": [
       "### When optimizing the threshold on each song"
      ],
      "text/plain": [
       "<IPython.core.display.Markdown object>"
      ]
     },
     "metadata": {},
     "output_type": "display_data"
    },
    {
     "data": {
      "text/html": [
       "<style  type=\"text/css\" >\n",
       "#T_f9796f02_9df8_11eb_9e1d_309c23e135f2row0_col2,#T_f9796f02_9df8_11eb_9e1d_309c23e135f2row0_col3{\n",
       "            width:  10em;\n",
       "             height:  80%;\n",
       "        }#T_f9796f02_9df8_11eb_9e1d_309c23e135f2row1_col2,#T_f9796f02_9df8_11eb_9e1d_309c23e135f2row1_col3{\n",
       "            width:  10em;\n",
       "             height:  80%;\n",
       "            background:  linear-gradient(90deg,#5fba7d 100.0%, transparent 100.0%);\n",
       "        }#T_f9796f02_9df8_11eb_9e1d_309c23e135f2row2_col2{\n",
       "            width:  10em;\n",
       "             height:  80%;\n",
       "            background:  linear-gradient(90deg,#5fba7d 98.1%, transparent 98.1%);\n",
       "        }#T_f9796f02_9df8_11eb_9e1d_309c23e135f2row2_col3{\n",
       "            width:  10em;\n",
       "             height:  80%;\n",
       "            background:  linear-gradient(90deg,#5fba7d 96.1%, transparent 96.1%);\n",
       "        }</style><table id=\"T_f9796f02_9df8_11eb_9e1d_309c23e135f2\" ><thead>    <tr>        <th class=\"blank level0\" ></th>        <th class=\"col_heading level0 col0\" >Precision</th>        <th class=\"col_heading level0 col1\" >Recall</th>        <th class=\"col_heading level0 col2\" >F measure</th>        <th class=\"col_heading level0 col3\" >Accuracy</th>        <th class=\"col_heading level0 col4\" >True Positives</th>        <th class=\"col_heading level0 col5\" >False Positives</th>        <th class=\"col_heading level0 col6\" >False Negatives</th>    </tr></thead><tbody>\n",
       "                <tr>\n",
       "                        <th id=\"T_f9796f02_9df8_11eb_9e1d_309c23e135f2level0_row0\" class=\"row_heading level0 row0\" >T: 5</th>\n",
       "                        <td id=\"T_f9796f02_9df8_11eb_9e1d_309c23e135f2row0_col0\" class=\"data row0 col0\" >0.924100</td>\n",
       "                        <td id=\"T_f9796f02_9df8_11eb_9e1d_309c23e135f2row0_col1\" class=\"data row0 col1\" >0.885200</td>\n",
       "                        <td id=\"T_f9796f02_9df8_11eb_9e1d_309c23e135f2row0_col2\" class=\"data row0 col2\" >0.901400</td>\n",
       "                        <td id=\"T_f9796f02_9df8_11eb_9e1d_309c23e135f2row0_col3\" class=\"data row0 col3\" >0.828700</td>\n",
       "                        <td id=\"T_f9796f02_9df8_11eb_9e1d_309c23e135f2row0_col4\" class=\"data row0 col4\" >262.000000</td>\n",
       "                        <td id=\"T_f9796f02_9df8_11eb_9e1d_309c23e135f2row0_col5\" class=\"data row0 col5\" >20.966700</td>\n",
       "                        <td id=\"T_f9796f02_9df8_11eb_9e1d_309c23e135f2row0_col6\" class=\"data row0 col6\" >36.833300</td>\n",
       "            </tr>\n",
       "            <tr>\n",
       "                        <th id=\"T_f9796f02_9df8_11eb_9e1d_309c23e135f2level0_row1\" class=\"row_heading level0 row1\" >T: 10</th>\n",
       "                        <td id=\"T_f9796f02_9df8_11eb_9e1d_309c23e135f2row1_col0\" class=\"data row1 col0\" >0.955500</td>\n",
       "                        <td id=\"T_f9796f02_9df8_11eb_9e1d_309c23e135f2row1_col1\" class=\"data row1 col1\" >0.944500</td>\n",
       "                        <td id=\"T_f9796f02_9df8_11eb_9e1d_309c23e135f2row1_col2\" class=\"data row1 col2\" >0.949600</td>\n",
       "                        <td id=\"T_f9796f02_9df8_11eb_9e1d_309c23e135f2row1_col3\" class=\"data row1 col3\" >0.911000</td>\n",
       "                        <td id=\"T_f9796f02_9df8_11eb_9e1d_309c23e135f2row1_col4\" class=\"data row1 col4\" >280.300000</td>\n",
       "                        <td id=\"T_f9796f02_9df8_11eb_9e1d_309c23e135f2row1_col5\" class=\"data row1 col5\" >12.766700</td>\n",
       "                        <td id=\"T_f9796f02_9df8_11eb_9e1d_309c23e135f2row1_col6\" class=\"data row1 col6\" >18.400000</td>\n",
       "            </tr>\n",
       "            <tr>\n",
       "                        <th id=\"T_f9796f02_9df8_11eb_9e1d_309c23e135f2level0_row2\" class=\"row_heading level0 row2\" >T: 20</th>\n",
       "                        <td id=\"T_f9796f02_9df8_11eb_9e1d_309c23e135f2row2_col0\" class=\"data row2 col0\" >0.953700</td>\n",
       "                        <td id=\"T_f9796f02_9df8_11eb_9e1d_309c23e135f2row2_col1\" class=\"data row2 col1\" >0.944300</td>\n",
       "                        <td id=\"T_f9796f02_9df8_11eb_9e1d_309c23e135f2row2_col2\" class=\"data row2 col2\" >0.948700</td>\n",
       "                        <td id=\"T_f9796f02_9df8_11eb_9e1d_309c23e135f2row2_col3\" class=\"data row2 col3\" >0.907800</td>\n",
       "                        <td id=\"T_f9796f02_9df8_11eb_9e1d_309c23e135f2row2_col4\" class=\"data row2 col4\" >280.266700</td>\n",
       "                        <td id=\"T_f9796f02_9df8_11eb_9e1d_309c23e135f2row2_col5\" class=\"data row2 col5\" >15.066700</td>\n",
       "                        <td id=\"T_f9796f02_9df8_11eb_9e1d_309c23e135f2row2_col6\" class=\"data row2 col6\" >18.633300</td>\n",
       "            </tr>\n",
       "    </tbody></table>"
      ],
      "text/plain": [
       "<pandas.io.formats.style.Styler at 0x19d3508e880>"
      ]
     },
     "metadata": {},
     "output_type": "display_data"
    }
   ],
   "source": [
    "PianoA = [\"AkPnBcht\"]#, \"AkPnBsdf\",\"AkPnStgb\",\"ENSTDkAm\",\"SptkBGAm\",\"StbgTGd2\",\"AkPnCGdD\",\"ENSTDkCl\"]\n",
    "PianoB = [\"AkPnBcht\"]# ,\"AkPnBsdf\",\"AkPnStgb\",\"ENSTDkAm\",\"SptkBGAm\",\"StbgTGd2\",\"AkPnCGdD\",\"ENSTDkCl\"]\n",
    "\n",
    "for piano_type_W in PianoA:\n",
    "    for piano_type_H in PianoB:\n",
    "        try:\n",
    "            compute_scores_database(piano_type_W, piano_type_H, H_normalization = False, adaptative_threshold = True, path_MAPS=path_MAPS)\n",
    "        except IndexError:\n",
    "            print(\"We have to compute this piano at these conditions (piano {}, T = 5, 10, 20, tol = 1e-8 and itmax = 100).\".format(piano_type))\n"
   ]
  },
  {
   "cell_type": "markdown",
   "metadata": {},
   "source": [
    "As a side note, the scripts use pre-computed W and H matrices; so in principle they can be used to compute the transcription performance of other factorization-based methods such as Attack Decay, using our peak-picking method. To obtain the results of Attack Decay, use the matlab code provided by the authors to produce W and H."
   ]
  },
  {
   "cell_type": "markdown",
   "metadata": {},
   "source": [
    "To have a big table with all the results from the paper, use the following code."
   ]
  },
  {
   "cell_type": "code",
   "execution_count": null,
   "metadata": {},
   "outputs": [],
   "source": [
    "big_table_fix = []\n",
    "big_table_opt = []\n",
    "piano_W = []\n",
    "piano_H = []\n",
    "the_t = []\n",
    "for piano_type_W in [\"AkPnCGdD\",\"ENSTDkCl\",\"AkPnBcht\",\"AkPnBsdf\",\"AkPnStgb\",\"ENSTDkAm\",\"SptkBGAm\",\"StbgTGd2\"]:\n",
    "    for piano_type_H in [\"AkPnCGdD\",\"ENSTDkCl\"]:\n",
    "        try:\n",
    "            fix_thresh_cond, opt_thresh_cond = compute_scores_database(piano_type_W, piano_type_H, H_normalization = False, adaptative_threshold = True, path_MAPS=path_MAPS)\n",
    "            for line_fix in fix_thresh_cond:\n",
    "                big_table_fix.append(line_fix[:5])\n",
    "            for line_opt in opt_thresh_cond:\n",
    "                big_table_opt.append(line_opt[:4])\n",
    "            for t in [5, 10, 20]:\n",
    "                piano_W.append(f\"W: {piano_type_W}\")\n",
    "                piano_H.append(f\"H: {piano_type_H}\")\n",
    "                the_t.append(f\"T: {t}\")\n",
    "        except IndexError:\n",
    "            print(\"We have to compute this piano at these conditions (piano {}, T = 5, 10, 20, tol = 1e-8 and itmax = 100).\".format(piano_type))\n",
    "                               \n",
    "printmd(\"## Fixing the threshold for all songs\")\n",
    "index_pandas = [np.array(piano_W), np.array(piano_H), np.array(the_t)]\n",
    "col = ['Best threshold','Precision', 'Recall', 'F measure','Accuracy']\n",
    "   \n",
    "df = pd.DataFrame(np.array(big_table_fix), columns = col, index = index_pandas)\n",
    "display(df.style.bar(subset=[\"F measure\", \"Accuracy\"], color='#5fba7d'))\n",
    "\n",
    "printmd(\"## Optimizing the threshold on each song\")\n",
    "df = pd.DataFrame(np.array(big_table_opt), columns = col[1:], index = index_pandas)\n",
    "display(df.style.bar(subset=[\"F measure\", \"Accuracy\"], color='#5fba7d'))"
   ]
  }
 ],
 "metadata": {
  "kernelspec": {
   "display_name": "Python 3",
   "language": "python",
   "name": "python3"
  },
  "language_info": {
   "codemirror_mode": {
    "name": "ipython",
    "version": 3
   },
   "file_extension": ".py",
   "mimetype": "text/x-python",
   "name": "python",
   "nbconvert_exporter": "python",
   "pygments_lexer": "ipython3",
   "version": "3.9.4"
  }
 },
 "nbformat": 4,
 "nbformat_minor": 4
}
