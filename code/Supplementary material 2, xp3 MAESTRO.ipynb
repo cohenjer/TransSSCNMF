{
 "cells": [
  {
   "cell_type": "markdown",
   "metadata": {},
   "source": [
    "# Supplementary material 2: XP3 MAESTRO complete results"
   ]
  },
  {
   "cell_type": "markdown",
   "metadata": {},
   "source": [
    "In this notebook, we provide all the transcription performances when using the MAPS piano templates for MAESTRO. TODO: get the data."
   ]
  },
  {
   "cell_type": "code",
   "execution_count": 3,
   "metadata": {},
   "outputs": [],
   "source": [
    "from compare_pianos_script import compute_scores_database_maestro"
   ]
  },
  {
   "cell_type": "markdown",
   "metadata": {},
   "source": [
    "todo: pip install requirements"
   ]
  },
  {
   "cell_type": "markdown",
   "metadata": {},
   "source": [
    "First, we need to properly set the paths to the songs to transcribe in MAESTRO (with their midi format), and the paths of the H computed using ``launch_H_learning.py`` on the same songs."
   ]
  },
  {
   "cell_type": "code",
   "execution_count": 4,
   "metadata": {},
   "outputs": [],
   "source": [
    "path_songs = \"/Users/haoran/Downloads/piano_songs/selected_maestro_songs\" # an example\n",
    "path_ref = \"/Users/haoran/Downloads/piano_songs/selected_maestro_ref\" # an example"
   ]
  },
  {
   "cell_type": "markdown",
   "metadata": {},
   "source": [
    "Now we can invoke the comparison script and check the results. The list of piano names PianoA gives the set of templates to use, from MAPS.\n",
    "\n",
    "The results shown are for both a global activation threshold."
   ]
  },
  {
   "cell_type": "code",
   "execution_count": 5,
   "metadata": {},
   "outputs": [
    {
     "name": "stdout",
     "output_type": "stream",
     "text": [
      "piano_type = AkPnCGdD\n"
     ]
    },
    {
     "ename": "FileNotFoundError",
     "evalue": "[WinError 3] The system cannot find the path specified: '/Users/haoran/Downloads/piano_songs/selected_maestro_songs'",
     "output_type": "error",
     "traceback": [
      "\u001b[1;31m---------------------------------------------------------------------------\u001b[0m",
      "\u001b[1;31mFileNotFoundError\u001b[0m                         Traceback (most recent call last)",
      "\u001b[1;32m<ipython-input-5-e2cbb22b9cfd>\u001b[0m in \u001b[0;36m<module>\u001b[1;34m\u001b[0m\n\u001b[0;32m      5\u001b[0m \u001b[1;32mfor\u001b[0m \u001b[0mpiano_type\u001b[0m \u001b[1;32min\u001b[0m \u001b[0mPianos\u001b[0m\u001b[1;33m:\u001b[0m\u001b[1;33m\u001b[0m\u001b[1;33m\u001b[0m\u001b[0m\n\u001b[0;32m      6\u001b[0m     \u001b[0mprint\u001b[0m\u001b[1;33m(\u001b[0m\u001b[1;34m'piano_type = '\u001b[0m \u001b[1;33m+\u001b[0m \u001b[0mpiano_type\u001b[0m\u001b[1;33m)\u001b[0m\u001b[1;33m\u001b[0m\u001b[1;33m\u001b[0m\u001b[0m\n\u001b[1;32m----> 7\u001b[1;33m     \u001b[0mcompute_scores_database_maestro\u001b[0m\u001b[1;33m(\u001b[0m\u001b[0mpiano_type\u001b[0m\u001b[1;33m,\u001b[0m \u001b[0mT\u001b[0m\u001b[1;33m,\u001b[0m \u001b[0mH_normalization\u001b[0m \u001b[1;33m=\u001b[0m \u001b[1;32mFalse\u001b[0m\u001b[1;33m,\u001b[0m \u001b[0madaptative_threshold\u001b[0m \u001b[1;33m=\u001b[0m \u001b[1;32mTrue\u001b[0m\u001b[1;33m,\u001b[0m \u001b[0mpath_songs\u001b[0m \u001b[1;33m=\u001b[0m \u001b[0mpath_songs\u001b[0m\u001b[1;33m,\u001b[0m \u001b[0mpath_ref\u001b[0m \u001b[1;33m=\u001b[0m \u001b[0mpath_ref\u001b[0m\u001b[1;33m)\u001b[0m\u001b[1;33m\u001b[0m\u001b[1;33m\u001b[0m\u001b[0m\n\u001b[0m",
      "\u001b[1;32mD:\\Travail\\Travail\\Ecriture-Projets\\2021\\CNMF_Transcription\\src\\code\\compare_pianos_script.py\u001b[0m in \u001b[0;36mcompute_scores_database_maestro\u001b[1;34m(piano_type, T, H_normalization, adaptative_threshold, path_computed_H, path_songs, path_ref)\u001b[0m\n\u001b[0;32m    171\u001b[0m     \u001b[0mlistthres\u001b[0m \u001b[1;33m=\u001b[0m \u001b[0mnp\u001b[0m\u001b[1;33m.\u001b[0m\u001b[0mr_\u001b[0m\u001b[1;33m[\u001b[0m\u001b[0mf\u001b[0m\u001b[1;33m[\u001b[0m\u001b[1;33m:\u001b[0m\u001b[1;33m:\u001b[0m\u001b[1;33m-\u001b[0m\u001b[1;36m1\u001b[0m\u001b[1;33m]\u001b[0m\u001b[1;33m]\u001b[0m\u001b[1;33m\u001b[0m\u001b[1;33m\u001b[0m\u001b[0m\n\u001b[0;32m    172\u001b[0m \u001b[1;33m\u001b[0m\u001b[0m\n\u001b[1;32m--> 173\u001b[1;33m     \u001b[0mfiles\u001b[0m \u001b[1;33m=\u001b[0m \u001b[0mos\u001b[0m\u001b[1;33m.\u001b[0m\u001b[0mlistdir\u001b[0m\u001b[1;33m(\u001b[0m\u001b[0mpath_songs\u001b[0m\u001b[1;33m)\u001b[0m\u001b[1;33m\u001b[0m\u001b[1;33m\u001b[0m\u001b[0m\n\u001b[0m\u001b[0;32m    174\u001b[0m     \u001b[0mlist_files_wav\u001b[0m \u001b[1;33m=\u001b[0m \u001b[1;33m[\u001b[0m\u001b[1;33m]\u001b[0m\u001b[1;33m\u001b[0m\u001b[1;33m\u001b[0m\u001b[0m\n\u001b[0;32m    175\u001b[0m     \u001b[1;32mfor\u001b[0m \u001b[0mit_files\u001b[0m \u001b[1;32min\u001b[0m \u001b[0mfiles\u001b[0m\u001b[1;33m:\u001b[0m\u001b[1;33m\u001b[0m\u001b[1;33m\u001b[0m\u001b[0m\n",
      "\u001b[1;31mFileNotFoundError\u001b[0m: [WinError 3] The system cannot find the path specified: '/Users/haoran/Downloads/piano_songs/selected_maestro_songs'"
     ]
    }
   ],
   "source": [
    "# Chose the set of templates to test\n",
    "Pianos = [\"AkPnCGdD\",\"ENSTDkCl\",\"AkPnBcht\",\"AkPnBsdf\",\"AkPnStgb\",\"ENSTDkAm\",\"SptkBGAm\",\"StbgTGd2\"]\n",
    "# intensity M\n",
    "T = 10\n",
    "for piano_type in Pianos:\n",
    "    print('piano_type = ' + piano_type)\n",
    "    compute_scores_database_maestro(piano_type, T, H_normalization = False, adaptative_threshold = True, path_songs = path_songs, path_ref = path_ref)"
   ]
  },
  {
   "cell_type": "code",
   "execution_count": null,
   "metadata": {},
   "outputs": [],
   "source": []
  }
 ],
 "metadata": {
  "kernelspec": {
   "display_name": "Python 3",
   "language": "python",
   "name": "python3"
  },
  "language_info": {
   "codemirror_mode": {
    "name": "ipython",
    "version": 3
   },
   "file_extension": ".py",
   "mimetype": "text/x-python",
   "name": "python",
   "nbconvert_exporter": "python",
   "pygments_lexer": "ipython3",
   "version": "3.8.5"
  }
 },
 "nbformat": 4,
 "nbformat_minor": 4
}
