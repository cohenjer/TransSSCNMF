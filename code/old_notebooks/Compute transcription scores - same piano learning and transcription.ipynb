{
 "cells": [
  {
   "cell_type": "code",
   "execution_count": 1,
   "metadata": {
    "ExecuteTime": {
     "end_time": "2021-03-22T19:57:29.278651Z",
     "start_time": "2021-03-22T19:57:28.265090Z"
    }
   },
   "outputs": [],
   "source": [
    "import numpy as np\n",
    "import mir_eval.transcription\n",
    "import os\n",
    "from IPython.display import display, Markdown\n",
    "\n",
    "import transcribe_factorization as tf\n",
    "import evaluate_transcription as et\n",
    "import STFT\n",
    "import pandas as pd"
   ]
  },
  {
   "cell_type": "code",
   "execution_count": 2,
   "metadata": {
    "ExecuteTime": {
     "end_time": "2021-03-22T19:57:29.303553Z",
     "start_time": "2021-03-22T19:57:29.280614Z"
    }
   },
   "outputs": [],
   "source": [
    "def printmd(string):\n",
    "    display(Markdown(string))\n",
    "\n",
    "def compute_scores_database(piano_type, H_normalization = False, adaptative_threshold = True):\n",
    "    path_computed_H = \"../data_persisted/activations\"\n",
    "    path_songs = \"C:/Users/amarmore/Desktop/Audio samples/MAPS/{}/MUS\".format(piano_type)\n",
    "    \n",
    "    time_limit = 30\n",
    "    beta = 1\n",
    "    init = \"L1\"\n",
    "    model_AD = True\n",
    "    note_intensity = \"M\"\n",
    "    itmax_H = 100\n",
    "    tol = 1e-8\n",
    "    codebook = range(21, 109)\n",
    "    onset_tolerance = 50/1000\n",
    "    \n",
    "    #a = np.arange(1e-3, 1e-2, 1e-3)\n",
    "    #b = np.arange(1e-4, 1e-3, 1e-4)\n",
    "    #c = np.arange(1e-5, 1e-4, 1e-5)\n",
    "    #d = np.arange(1e-6, 1e-5, 1e-6)\n",
    "    f = np.arange(1e-2, 6e-1, 2e-2)\n",
    "    #g = np.arange(0.3, 0.5, 0.1)\n",
    "    #h = np.arange(1, 1.5, 0.1)\n",
    "    #j = np.arange(1e-7, 1e-6, 1e-7)\n",
    "    #listthres = np.r_[h[::-1], g[::-1], f[::-1], a[::-1], b[::-1], c[::-1], d[::-1], j[::-1]]\n",
    "    listthres = np.r_[f[::-1]]\n",
    "\n",
    "    files = os.listdir(path_songs)\n",
    "    list_files_wav = []\n",
    "    for it_files in files:\n",
    "        if it_files.split(\".\")[-1] == \"wav\":\n",
    "            list_files_wav.append(it_files)\n",
    "\n",
    "    all_res = []\n",
    "    for a_song in list_files_wav:\n",
    "        song_name = a_song.replace(\".wav\", \"\")\n",
    "        #print(\"processing piano song: {}\".format(song_name))\n",
    "        path_this_song = \"{}/{}\".format(path_songs, a_song)\n",
    "        stft = STFT.STFT(path_this_song, time = time_limit, model_AD=model_AD, channel = 0)\n",
    "\n",
    "        X = stft.get_magnitude_spectrogram()\n",
    "\n",
    "        annot_name = a_song.replace(\"wav\",\"txt\")\n",
    "        annot_this_song = \"{}/{}\".format(path_songs, annot_name)\n",
    "        note_annotations = et.load_ref_in_array(annot_this_song, time_limit=time_limit)\n",
    "        ref = np.array(note_annotations, float)\n",
    "        ref_pitches = np.array(ref[:,2], int)\n",
    "        try:\n",
    "            #res_each_song = []\n",
    "            res_a_param = []\n",
    "            for T in [5, 10, 20]:\n",
    "                H_persisted_name = \"activations_song_{}_W_learned_{}_beta_{}_T_{}_init_{}_stftAD_{}_itmax_{}_intensity_W_{}_time_limit_{}_tol_{}\".format(song_name, piano_type, beta, T, init, model_AD, itmax_H, note_intensity, time_limit, tol)\n",
    "                H = np.load(\"{}/{}.npy\".format(path_computed_H, H_persisted_name), allow_pickle = True)\n",
    "                res_every_thresh = []\n",
    "                for threshold in listthres:\n",
    "                    if adaptative_threshold:\n",
    "                        prediction, _ = tf.transcribe_activations_dynamic(codebook, H, stft, threshold, H_normalization = H_normalization)\n",
    "                    else:\n",
    "                        prediction, _ = tf.transcribe_activations(codebook, H, stft, threshold, H_normalization = H_normalization)\n",
    "                    est = np.array(prediction, float)\n",
    "                    if est.size > 0:\n",
    "                        est_pitches = np.array(est[:,2], int)\n",
    "                        (prec, rec, f_mes, _) = mir_eval.transcription.precision_recall_f1_overlap(ref[:,0:2], ref_pitches, est[:,0:2], est_pitches, offset_ratio = None, onset_tolerance = onset_tolerance)\n",
    "                        matching = mir_eval.transcription.match_notes(ref[:,0:2], ref_pitches, est[:,0:2],est_pitches, onset_tolerance=onset_tolerance,offset_ratio=None)\n",
    "                        TP = len(matching)\n",
    "                        try:\n",
    "                            FP = int(TP * (1 - prec) / prec)\n",
    "                        except ZeroDivisionError:\n",
    "                            FP = 0\n",
    "                        try:\n",
    "                            FN = int(TP * (1 - rec) / rec)\n",
    "                        except ZeroDivisionError:\n",
    "                            FN = 0\n",
    "                        acc = et.accuracy(TP,FP,FN)\n",
    "                    else:\n",
    "                        prec, rec, f_mes, acc, TP, FP, FN = (0,0,0,0,0,0,0)\n",
    "                    res_every_thresh.append([prec, rec, f_mes, acc, TP, FP, FN])\n",
    "                res_a_param.append(res_every_thresh)\n",
    "            #res_each_song.append(res_a_param)\n",
    "\n",
    "            all_res.append(res_a_param)\n",
    "\n",
    "        except FileNotFoundError:\n",
    "            print(\"\\033[91m This song failed: {} \\033[00m\".format(a_song)) \n",
    "            pass\n",
    "    np_all_res = np.array(all_res)\n",
    "    the_t = []\n",
    "    for t in [5, 10, 20]:\n",
    "        the_t.append(\"T: {}\".format(t))\n",
    "    index_pandas = the_t\n",
    "    col = ['Best threshold','Precision', 'Recall', 'F measure','Accuracy','True Positives','False Positives','False Negatives']\n",
    "    lines = []\n",
    "    lines_opt_thresh = []\n",
    "    for cond in range(len(index_pandas)):\n",
    "        all_thresh = []\n",
    "        for each_thresh in range(len(listthres)):\n",
    "            all_thresh.append(np.mean(np_all_res[:,cond,each_thresh,2]))\n",
    "        best_thresh_idx = np.argmax(all_thresh)\n",
    "        this_line = [listthres[best_thresh_idx]]\n",
    "        for i in range(len(col) - 1):# - 1 because threshold\n",
    "            this_line.append(round(np.mean(np_all_res[:,cond,best_thresh_idx,i]), 4))\n",
    "        lines.append(this_line)\n",
    "        \n",
    "        best_val = []\n",
    "        for each_song in range(len(list_files_wav)):\n",
    "            best_thresh_idx = np.argmax(np_all_res[each_song,cond,:,2])\n",
    "            best_val.append([round(np_all_res[each_song,cond,best_thresh_idx,i], 4) for i in range(len(col) - 1)])\n",
    "        lines_opt_thresh.append([round(np.mean(np.array(best_val)[:,i]),4) for i in range(len(col) - 1)])\n",
    "    \n",
    "    printmd(\"## Piano: {}\".format(piano_type))\n",
    "    printmd(\"### When averaging each threshold on all MAPS\")\n",
    "    df = pd.DataFrame(np.array(lines), columns = col, index = index_pandas)\n",
    "    display(df.style.bar(subset=[\"F measure\", \"Accuracy\"], color='#5fba7d'))\n",
    "\n",
    "    printmd(\"### When optimizing the threshold on each song\")\n",
    "    best_df = pd.DataFrame(np.array(lines_opt_thresh), columns = col[1:], index = index_pandas)\n",
    "    display(best_df.style.bar(subset=[\"F measure\", \"Accuracy\"], color='#5fba7d'))"
   ]
  },
  {
   "cell_type": "markdown",
   "metadata": {},
   "source": [
    "# Sans normalisation sur H"
   ]
  },
  {
   "cell_type": "code",
   "execution_count": 3,
   "metadata": {
    "ExecuteTime": {
     "end_time": "2021-03-22T21:02:34.498220Z",
     "start_time": "2021-03-22T19:57:29.305552Z"
    },
    "scrolled": false
   },
   "outputs": [
    {
     "data": {
      "text/markdown": [
       "## Piano: AkPnCGdD"
      ],
      "text/plain": [
       "<IPython.core.display.Markdown object>"
      ]
     },
     "metadata": {},
     "output_type": "display_data"
    },
    {
     "data": {
      "text/markdown": [
       "### When averaging each threshold on all MAPS"
      ],
      "text/plain": [
       "<IPython.core.display.Markdown object>"
      ]
     },
     "metadata": {},
     "output_type": "display_data"
    },
    {
     "data": {
      "text/html": [
       "<style  type=\"text/css\" >\n",
       "    #T_cfd9665b_8b49_11eb_bf3a_9a764120fcf3row0_col3 {\n",
       "            width:  10em;\n",
       "             height:  80%;\n",
       "        }    #T_cfd9665b_8b49_11eb_bf3a_9a764120fcf3row0_col4 {\n",
       "            width:  10em;\n",
       "             height:  80%;\n",
       "        }    #T_cfd9665b_8b49_11eb_bf3a_9a764120fcf3row1_col3 {\n",
       "            width:  10em;\n",
       "             height:  80%;\n",
       "            background:  linear-gradient(90deg,#5fba7d 85.3%, transparent 85.3%);\n",
       "        }    #T_cfd9665b_8b49_11eb_bf3a_9a764120fcf3row1_col4 {\n",
       "            width:  10em;\n",
       "             height:  80%;\n",
       "            background:  linear-gradient(90deg,#5fba7d 84.4%, transparent 84.4%);\n",
       "        }    #T_cfd9665b_8b49_11eb_bf3a_9a764120fcf3row2_col3 {\n",
       "            width:  10em;\n",
       "             height:  80%;\n",
       "            background:  linear-gradient(90deg,#5fba7d 100.0%, transparent 100.0%);\n",
       "        }    #T_cfd9665b_8b49_11eb_bf3a_9a764120fcf3row2_col4 {\n",
       "            width:  10em;\n",
       "             height:  80%;\n",
       "            background:  linear-gradient(90deg,#5fba7d 100.0%, transparent 100.0%);\n",
       "        }</style><table id=\"T_cfd9665b_8b49_11eb_bf3a_9a764120fcf3\" ><thead>    <tr>        <th class=\"blank level0\" ></th>        <th class=\"col_heading level0 col0\" >Best threshold</th>        <th class=\"col_heading level0 col1\" >Precision</th>        <th class=\"col_heading level0 col2\" >Recall</th>        <th class=\"col_heading level0 col3\" >F measure</th>        <th class=\"col_heading level0 col4\" >Accuracy</th>        <th class=\"col_heading level0 col5\" >True Positives</th>        <th class=\"col_heading level0 col6\" >False Positives</th>        <th class=\"col_heading level0 col7\" >False Negatives</th>    </tr></thead><tbody>\n",
       "                <tr>\n",
       "                        <th id=\"T_cfd9665b_8b49_11eb_bf3a_9a764120fcf3level0_row0\" class=\"row_heading level0 row0\" >T: 5</th>\n",
       "                        <td id=\"T_cfd9665b_8b49_11eb_bf3a_9a764120fcf3row0_col0\" class=\"data row0 col0\" >0.050000</td>\n",
       "                        <td id=\"T_cfd9665b_8b49_11eb_bf3a_9a764120fcf3row0_col1\" class=\"data row0 col1\" >0.829900</td>\n",
       "                        <td id=\"T_cfd9665b_8b49_11eb_bf3a_9a764120fcf3row0_col2\" class=\"data row0 col2\" >0.859800</td>\n",
       "                        <td id=\"T_cfd9665b_8b49_11eb_bf3a_9a764120fcf3row0_col3\" class=\"data row0 col3\" >0.829600</td>\n",
       "                        <td id=\"T_cfd9665b_8b49_11eb_bf3a_9a764120fcf3row0_col4\" class=\"data row0 col4\" >0.717900</td>\n",
       "                        <td id=\"T_cfd9665b_8b49_11eb_bf3a_9a764120fcf3row0_col5\" class=\"data row0 col5\" >218.766700</td>\n",
       "                        <td id=\"T_cfd9665b_8b49_11eb_bf3a_9a764120fcf3row0_col6\" class=\"data row0 col6\" >62.333300</td>\n",
       "                        <td id=\"T_cfd9665b_8b49_11eb_bf3a_9a764120fcf3row0_col7\" class=\"data row0 col7\" >32.533300</td>\n",
       "            </tr>\n",
       "            <tr>\n",
       "                        <th id=\"T_cfd9665b_8b49_11eb_bf3a_9a764120fcf3level0_row1\" class=\"row_heading level0 row1\" >T: 10</th>\n",
       "                        <td id=\"T_cfd9665b_8b49_11eb_bf3a_9a764120fcf3row1_col0\" class=\"data row1 col0\" >0.070000</td>\n",
       "                        <td id=\"T_cfd9665b_8b49_11eb_bf3a_9a764120fcf3row1_col1\" class=\"data row1 col1\" >0.917700</td>\n",
       "                        <td id=\"T_cfd9665b_8b49_11eb_bf3a_9a764120fcf3row1_col2\" class=\"data row1 col2\" >0.907700</td>\n",
       "                        <td id=\"T_cfd9665b_8b49_11eb_bf3a_9a764120fcf3row1_col3\" class=\"data row1 col3\" >0.905700</td>\n",
       "                        <td id=\"T_cfd9665b_8b49_11eb_bf3a_9a764120fcf3row1_col4\" class=\"data row1 col4\" >0.836000</td>\n",
       "                        <td id=\"T_cfd9665b_8b49_11eb_bf3a_9a764120fcf3row1_col5\" class=\"data row1 col5\" >228.233300</td>\n",
       "                        <td id=\"T_cfd9665b_8b49_11eb_bf3a_9a764120fcf3row1_col6\" class=\"data row1 col6\" >29.866700</td>\n",
       "                        <td id=\"T_cfd9665b_8b49_11eb_bf3a_9a764120fcf3row1_col7\" class=\"data row1 col7\" >23.000000</td>\n",
       "            </tr>\n",
       "            <tr>\n",
       "                        <th id=\"T_cfd9665b_8b49_11eb_bf3a_9a764120fcf3level0_row2\" class=\"row_heading level0 row2\" >T: 20</th>\n",
       "                        <td id=\"T_cfd9665b_8b49_11eb_bf3a_9a764120fcf3row2_col0\" class=\"data row2 col0\" >0.110000</td>\n",
       "                        <td id=\"T_cfd9665b_8b49_11eb_bf3a_9a764120fcf3row2_col1\" class=\"data row2 col1\" >0.928100</td>\n",
       "                        <td id=\"T_cfd9665b_8b49_11eb_bf3a_9a764120fcf3row2_col2\" class=\"data row2 col2\" >0.918400</td>\n",
       "                        <td id=\"T_cfd9665b_8b49_11eb_bf3a_9a764120fcf3row2_col3\" class=\"data row2 col3\" >0.918800</td>\n",
       "                        <td id=\"T_cfd9665b_8b49_11eb_bf3a_9a764120fcf3row2_col4\" class=\"data row2 col4\" >0.857900</td>\n",
       "                        <td id=\"T_cfd9665b_8b49_11eb_bf3a_9a764120fcf3row2_col5\" class=\"data row2 col5\" >228.233300</td>\n",
       "                        <td id=\"T_cfd9665b_8b49_11eb_bf3a_9a764120fcf3row2_col6\" class=\"data row2 col6\" >21.200000</td>\n",
       "                        <td id=\"T_cfd9665b_8b49_11eb_bf3a_9a764120fcf3row2_col7\" class=\"data row2 col7\" >22.900000</td>\n",
       "            </tr>\n",
       "    </tbody></table>"
      ],
      "text/plain": [
       "<pandas.io.formats.style.Styler at 0x18b6da0f640>"
      ]
     },
     "metadata": {},
     "output_type": "display_data"
    },
    {
     "data": {
      "text/markdown": [
       "### When optimizing the threshold on each song"
      ],
      "text/plain": [
       "<IPython.core.display.Markdown object>"
      ]
     },
     "metadata": {},
     "output_type": "display_data"
    },
    {
     "data": {
      "text/html": [
       "<style  type=\"text/css\" >\n",
       "    #T_cfdb389a_8b49_11eb_9c79_9a764120fcf3row0_col2 {\n",
       "            width:  10em;\n",
       "             height:  80%;\n",
       "        }    #T_cfdb389a_8b49_11eb_9c79_9a764120fcf3row0_col3 {\n",
       "            width:  10em;\n",
       "             height:  80%;\n",
       "        }    #T_cfdb389a_8b49_11eb_9c79_9a764120fcf3row1_col2 {\n",
       "            width:  10em;\n",
       "             height:  80%;\n",
       "            background:  linear-gradient(90deg,#5fba7d 91.4%, transparent 91.4%);\n",
       "        }    #T_cfdb389a_8b49_11eb_9c79_9a764120fcf3row1_col3 {\n",
       "            width:  10em;\n",
       "             height:  80%;\n",
       "            background:  linear-gradient(90deg,#5fba7d 90.7%, transparent 90.7%);\n",
       "        }    #T_cfdb389a_8b49_11eb_9c79_9a764120fcf3row2_col2 {\n",
       "            width:  10em;\n",
       "             height:  80%;\n",
       "            background:  linear-gradient(90deg,#5fba7d 100.0%, transparent 100.0%);\n",
       "        }    #T_cfdb389a_8b49_11eb_9c79_9a764120fcf3row2_col3 {\n",
       "            width:  10em;\n",
       "             height:  80%;\n",
       "            background:  linear-gradient(90deg,#5fba7d 100.0%, transparent 100.0%);\n",
       "        }</style><table id=\"T_cfdb389a_8b49_11eb_9c79_9a764120fcf3\" ><thead>    <tr>        <th class=\"blank level0\" ></th>        <th class=\"col_heading level0 col0\" >Precision</th>        <th class=\"col_heading level0 col1\" >Recall</th>        <th class=\"col_heading level0 col2\" >F measure</th>        <th class=\"col_heading level0 col3\" >Accuracy</th>        <th class=\"col_heading level0 col4\" >True Positives</th>        <th class=\"col_heading level0 col5\" >False Positives</th>        <th class=\"col_heading level0 col6\" >False Negatives</th>    </tr></thead><tbody>\n",
       "                <tr>\n",
       "                        <th id=\"T_cfdb389a_8b49_11eb_9c79_9a764120fcf3level0_row0\" class=\"row_heading level0 row0\" >T: 5</th>\n",
       "                        <td id=\"T_cfdb389a_8b49_11eb_9c79_9a764120fcf3row0_col0\" class=\"data row0 col0\" >0.907400</td>\n",
       "                        <td id=\"T_cfdb389a_8b49_11eb_9c79_9a764120fcf3row0_col1\" class=\"data row0 col1\" >0.846300</td>\n",
       "                        <td id=\"T_cfdb389a_8b49_11eb_9c79_9a764120fcf3row0_col2\" class=\"data row0 col2\" >0.873600</td>\n",
       "                        <td id=\"T_cfdb389a_8b49_11eb_9c79_9a764120fcf3row0_col3\" class=\"data row0 col3\" >0.783200</td>\n",
       "                        <td id=\"T_cfdb389a_8b49_11eb_9c79_9a764120fcf3row0_col4\" class=\"data row0 col4\" >214.700000</td>\n",
       "                        <td id=\"T_cfdb389a_8b49_11eb_9c79_9a764120fcf3row0_col5\" class=\"data row0 col5\" >22.133300</td>\n",
       "                        <td id=\"T_cfdb389a_8b49_11eb_9c79_9a764120fcf3row0_col6\" class=\"data row0 col6\" >36.633300</td>\n",
       "            </tr>\n",
       "            <tr>\n",
       "                        <th id=\"T_cfdb389a_8b49_11eb_9c79_9a764120fcf3level0_row1\" class=\"row_heading level0 row1\" >T: 10</th>\n",
       "                        <td id=\"T_cfdb389a_8b49_11eb_9c79_9a764120fcf3row1_col0\" class=\"data row1 col0\" >0.961700</td>\n",
       "                        <td id=\"T_cfdb389a_8b49_11eb_9c79_9a764120fcf3row1_col1\" class=\"data row1 col1\" >0.913400</td>\n",
       "                        <td id=\"T_cfdb389a_8b49_11eb_9c79_9a764120fcf3row1_col2\" class=\"data row1 col2\" >0.936300</td>\n",
       "                        <td id=\"T_cfdb389a_8b49_11eb_9c79_9a764120fcf3row1_col3\" class=\"data row1 col3\" >0.886300</td>\n",
       "                        <td id=\"T_cfdb389a_8b49_11eb_9c79_9a764120fcf3row1_col4\" class=\"data row1 col4\" >229.333300</td>\n",
       "                        <td id=\"T_cfdb389a_8b49_11eb_9c79_9a764120fcf3row1_col5\" class=\"data row1 col5\" >10.133300</td>\n",
       "                        <td id=\"T_cfdb389a_8b49_11eb_9c79_9a764120fcf3row1_col6\" class=\"data row1 col6\" >21.933300</td>\n",
       "            </tr>\n",
       "            <tr>\n",
       "                        <th id=\"T_cfdb389a_8b49_11eb_9c79_9a764120fcf3level0_row2\" class=\"row_heading level0 row2\" >T: 20</th>\n",
       "                        <td id=\"T_cfdb389a_8b49_11eb_9c79_9a764120fcf3row2_col0\" class=\"data row2 col0\" >0.956100</td>\n",
       "                        <td id=\"T_cfdb389a_8b49_11eb_9c79_9a764120fcf3row2_col1\" class=\"data row2 col1\" >0.929400</td>\n",
       "                        <td id=\"T_cfdb389a_8b49_11eb_9c79_9a764120fcf3row2_col2\" class=\"data row2 col2\" >0.942200</td>\n",
       "                        <td id=\"T_cfdb389a_8b49_11eb_9c79_9a764120fcf3row2_col3\" class=\"data row2 col3\" >0.896900</td>\n",
       "                        <td id=\"T_cfdb389a_8b49_11eb_9c79_9a764120fcf3row2_col4\" class=\"data row2 col4\" >233.466700</td>\n",
       "                        <td id=\"T_cfdb389a_8b49_11eb_9c79_9a764120fcf3row2_col5\" class=\"data row2 col5\" >11.933300</td>\n",
       "                        <td id=\"T_cfdb389a_8b49_11eb_9c79_9a764120fcf3row2_col6\" class=\"data row2 col6\" >17.833300</td>\n",
       "            </tr>\n",
       "    </tbody></table>"
      ],
      "text/plain": [
       "<pandas.io.formats.style.Styler at 0x18b0d917fd0>"
      ]
     },
     "metadata": {},
     "output_type": "display_data"
    },
    {
     "data": {
      "text/markdown": [
       "## Piano: ENSTDkCl"
      ],
      "text/plain": [
       "<IPython.core.display.Markdown object>"
      ]
     },
     "metadata": {},
     "output_type": "display_data"
    },
    {
     "data": {
      "text/markdown": [
       "### When averaging each threshold on all MAPS"
      ],
      "text/plain": [
       "<IPython.core.display.Markdown object>"
      ]
     },
     "metadata": {},
     "output_type": "display_data"
    },
    {
     "data": {
      "text/html": [
       "<style  type=\"text/css\" >\n",
       "    #T_e129c801_8b4a_11eb_95c9_9a764120fcf3row0_col3 {\n",
       "            width:  10em;\n",
       "             height:  80%;\n",
       "        }    #T_e129c801_8b4a_11eb_95c9_9a764120fcf3row0_col4 {\n",
       "            width:  10em;\n",
       "             height:  80%;\n",
       "        }    #T_e129c801_8b4a_11eb_95c9_9a764120fcf3row1_col3 {\n",
       "            width:  10em;\n",
       "             height:  80%;\n",
       "            background:  linear-gradient(90deg,#5fba7d 100.0%, transparent 100.0%);\n",
       "        }    #T_e129c801_8b4a_11eb_95c9_9a764120fcf3row1_col4 {\n",
       "            width:  10em;\n",
       "             height:  80%;\n",
       "            background:  linear-gradient(90deg,#5fba7d 100.0%, transparent 100.0%);\n",
       "        }    #T_e129c801_8b4a_11eb_95c9_9a764120fcf3row2_col3 {\n",
       "            width:  10em;\n",
       "             height:  80%;\n",
       "            background:  linear-gradient(90deg,#5fba7d 68.2%, transparent 68.2%);\n",
       "        }    #T_e129c801_8b4a_11eb_95c9_9a764120fcf3row2_col4 {\n",
       "            width:  10em;\n",
       "             height:  80%;\n",
       "            background:  linear-gradient(90deg,#5fba7d 66.0%, transparent 66.0%);\n",
       "        }</style><table id=\"T_e129c801_8b4a_11eb_95c9_9a764120fcf3\" ><thead>    <tr>        <th class=\"blank level0\" ></th>        <th class=\"col_heading level0 col0\" >Best threshold</th>        <th class=\"col_heading level0 col1\" >Precision</th>        <th class=\"col_heading level0 col2\" >Recall</th>        <th class=\"col_heading level0 col3\" >F measure</th>        <th class=\"col_heading level0 col4\" >Accuracy</th>        <th class=\"col_heading level0 col5\" >True Positives</th>        <th class=\"col_heading level0 col6\" >False Positives</th>        <th class=\"col_heading level0 col7\" >False Negatives</th>    </tr></thead><tbody>\n",
       "                <tr>\n",
       "                        <th id=\"T_e129c801_8b4a_11eb_95c9_9a764120fcf3level0_row0\" class=\"row_heading level0 row0\" >T: 5</th>\n",
       "                        <td id=\"T_e129c801_8b4a_11eb_95c9_9a764120fcf3row0_col0\" class=\"data row0 col0\" >0.130000</td>\n",
       "                        <td id=\"T_e129c801_8b4a_11eb_95c9_9a764120fcf3row0_col1\" class=\"data row0 col1\" >0.836600</td>\n",
       "                        <td id=\"T_e129c801_8b4a_11eb_95c9_9a764120fcf3row0_col2\" class=\"data row0 col2\" >0.752700</td>\n",
       "                        <td id=\"T_e129c801_8b4a_11eb_95c9_9a764120fcf3row0_col3\" class=\"data row0 col3\" >0.778100</td>\n",
       "                        <td id=\"T_e129c801_8b4a_11eb_95c9_9a764120fcf3row0_col4\" class=\"data row0 col4\" >0.649800</td>\n",
       "                        <td id=\"T_e129c801_8b4a_11eb_95c9_9a764120fcf3row0_col5\" class=\"data row0 col5\" >186.700000</td>\n",
       "                        <td id=\"T_e129c801_8b4a_11eb_95c9_9a764120fcf3row0_col6\" class=\"data row0 col6\" >46.000000</td>\n",
       "                        <td id=\"T_e129c801_8b4a_11eb_95c9_9a764120fcf3row0_col7\" class=\"data row0 col7\" >58.033300</td>\n",
       "            </tr>\n",
       "            <tr>\n",
       "                        <th id=\"T_e129c801_8b4a_11eb_95c9_9a764120fcf3level0_row1\" class=\"row_heading level0 row1\" >T: 10</th>\n",
       "                        <td id=\"T_e129c801_8b4a_11eb_95c9_9a764120fcf3row1_col0\" class=\"data row1 col0\" >0.190000</td>\n",
       "                        <td id=\"T_e129c801_8b4a_11eb_95c9_9a764120fcf3row1_col1\" class=\"data row1 col1\" >0.893600</td>\n",
       "                        <td id=\"T_e129c801_8b4a_11eb_95c9_9a764120fcf3row1_col2\" class=\"data row1 col2\" >0.830100</td>\n",
       "                        <td id=\"T_e129c801_8b4a_11eb_95c9_9a764120fcf3row1_col3\" class=\"data row1 col3\" >0.852100</td>\n",
       "                        <td id=\"T_e129c801_8b4a_11eb_95c9_9a764120fcf3row1_col4\" class=\"data row1 col4\" >0.754600</td>\n",
       "                        <td id=\"T_e129c801_8b4a_11eb_95c9_9a764120fcf3row1_col5\" class=\"data row1 col5\" >203.166700</td>\n",
       "                        <td id=\"T_e129c801_8b4a_11eb_95c9_9a764120fcf3row1_col6\" class=\"data row1 col6\" >32.833300</td>\n",
       "                        <td id=\"T_e129c801_8b4a_11eb_95c9_9a764120fcf3row1_col7\" class=\"data row1 col7\" >41.700000</td>\n",
       "            </tr>\n",
       "            <tr>\n",
       "                        <th id=\"T_e129c801_8b4a_11eb_95c9_9a764120fcf3level0_row2\" class=\"row_heading level0 row2\" >T: 20</th>\n",
       "                        <td id=\"T_e129c801_8b4a_11eb_95c9_9a764120fcf3row2_col0\" class=\"data row2 col0\" >0.330000</td>\n",
       "                        <td id=\"T_e129c801_8b4a_11eb_95c9_9a764120fcf3row2_col1\" class=\"data row2 col1\" >0.869900</td>\n",
       "                        <td id=\"T_e129c801_8b4a_11eb_95c9_9a764120fcf3row2_col2\" class=\"data row2 col2\" >0.803900</td>\n",
       "                        <td id=\"T_e129c801_8b4a_11eb_95c9_9a764120fcf3row2_col3\" class=\"data row2 col3\" >0.828600</td>\n",
       "                        <td id=\"T_e129c801_8b4a_11eb_95c9_9a764120fcf3row2_col4\" class=\"data row2 col4\" >0.719000</td>\n",
       "                        <td id=\"T_e129c801_8b4a_11eb_95c9_9a764120fcf3row2_col5\" class=\"data row2 col5\" >194.166700</td>\n",
       "                        <td id=\"T_e129c801_8b4a_11eb_95c9_9a764120fcf3row2_col6\" class=\"data row2 col6\" >31.033300</td>\n",
       "                        <td id=\"T_e129c801_8b4a_11eb_95c9_9a764120fcf3row2_col7\" class=\"data row2 col7\" >50.600000</td>\n",
       "            </tr>\n",
       "    </tbody></table>"
      ],
      "text/plain": [
       "<pandas.io.formats.style.Styler at 0x18b0cdb1400>"
      ]
     },
     "metadata": {},
     "output_type": "display_data"
    },
    {
     "data": {
      "text/markdown": [
       "### When optimizing the threshold on each song"
      ],
      "text/plain": [
       "<IPython.core.display.Markdown object>"
      ]
     },
     "metadata": {},
     "output_type": "display_data"
    },
    {
     "data": {
      "text/html": [
       "<style  type=\"text/css\" >\n",
       "    #T_e12c0e65_8b4a_11eb_933f_9a764120fcf3row0_col2 {\n",
       "            width:  10em;\n",
       "             height:  80%;\n",
       "        }    #T_e12c0e65_8b4a_11eb_933f_9a764120fcf3row0_col3 {\n",
       "            width:  10em;\n",
       "             height:  80%;\n",
       "        }    #T_e12c0e65_8b4a_11eb_933f_9a764120fcf3row1_col2 {\n",
       "            width:  10em;\n",
       "             height:  80%;\n",
       "            background:  linear-gradient(90deg,#5fba7d 100.0%, transparent 100.0%);\n",
       "        }    #T_e12c0e65_8b4a_11eb_933f_9a764120fcf3row1_col3 {\n",
       "            width:  10em;\n",
       "             height:  80%;\n",
       "            background:  linear-gradient(90deg,#5fba7d 100.0%, transparent 100.0%);\n",
       "        }    #T_e12c0e65_8b4a_11eb_933f_9a764120fcf3row2_col2 {\n",
       "            width:  10em;\n",
       "             height:  80%;\n",
       "            background:  linear-gradient(90deg,#5fba7d 58.2%, transparent 58.2%);\n",
       "        }    #T_e12c0e65_8b4a_11eb_933f_9a764120fcf3row2_col3 {\n",
       "            width:  10em;\n",
       "             height:  80%;\n",
       "            background:  linear-gradient(90deg,#5fba7d 57.3%, transparent 57.3%);\n",
       "        }</style><table id=\"T_e12c0e65_8b4a_11eb_933f_9a764120fcf3\" ><thead>    <tr>        <th class=\"blank level0\" ></th>        <th class=\"col_heading level0 col0\" >Precision</th>        <th class=\"col_heading level0 col1\" >Recall</th>        <th class=\"col_heading level0 col2\" >F measure</th>        <th class=\"col_heading level0 col3\" >Accuracy</th>        <th class=\"col_heading level0 col4\" >True Positives</th>        <th class=\"col_heading level0 col5\" >False Positives</th>        <th class=\"col_heading level0 col6\" >False Negatives</th>    </tr></thead><tbody>\n",
       "                <tr>\n",
       "                        <th id=\"T_e12c0e65_8b4a_11eb_933f_9a764120fcf3level0_row0\" class=\"row_heading level0 row0\" >T: 5</th>\n",
       "                        <td id=\"T_e12c0e65_8b4a_11eb_933f_9a764120fcf3row0_col0\" class=\"data row0 col0\" >0.844500</td>\n",
       "                        <td id=\"T_e12c0e65_8b4a_11eb_933f_9a764120fcf3row0_col1\" class=\"data row0 col1\" >0.797900</td>\n",
       "                        <td id=\"T_e12c0e65_8b4a_11eb_933f_9a764120fcf3row0_col2\" class=\"data row0 col2\" >0.816900</td>\n",
       "                        <td id=\"T_e12c0e65_8b4a_11eb_933f_9a764120fcf3row0_col3\" class=\"data row0 col3\" >0.700000</td>\n",
       "                        <td id=\"T_e12c0e65_8b4a_11eb_933f_9a764120fcf3row0_col4\" class=\"data row0 col4\" >196.366700</td>\n",
       "                        <td id=\"T_e12c0e65_8b4a_11eb_933f_9a764120fcf3row0_col5\" class=\"data row0 col5\" >35.633300</td>\n",
       "                        <td id=\"T_e12c0e65_8b4a_11eb_933f_9a764120fcf3row0_col6\" class=\"data row0 col6\" >48.433300</td>\n",
       "            </tr>\n",
       "            <tr>\n",
       "                        <th id=\"T_e12c0e65_8b4a_11eb_933f_9a764120fcf3level0_row1\" class=\"row_heading level0 row1\" >T: 10</th>\n",
       "                        <td id=\"T_e12c0e65_8b4a_11eb_933f_9a764120fcf3row1_col0\" class=\"data row1 col0\" >0.911400</td>\n",
       "                        <td id=\"T_e12c0e65_8b4a_11eb_933f_9a764120fcf3row1_col1\" class=\"data row1 col1\" >0.851400</td>\n",
       "                        <td id=\"T_e12c0e65_8b4a_11eb_933f_9a764120fcf3row1_col2\" class=\"data row1 col2\" >0.878600</td>\n",
       "                        <td id=\"T_e12c0e65_8b4a_11eb_933f_9a764120fcf3row1_col3\" class=\"data row1 col3\" >0.792400</td>\n",
       "                        <td id=\"T_e12c0e65_8b4a_11eb_933f_9a764120fcf3row1_col4\" class=\"data row1 col4\" >206.500000</td>\n",
       "                        <td id=\"T_e12c0e65_8b4a_11eb_933f_9a764120fcf3row1_col5\" class=\"data row1 col5\" >19.033300</td>\n",
       "                        <td id=\"T_e12c0e65_8b4a_11eb_933f_9a764120fcf3row1_col6\" class=\"data row1 col6\" >38.233300</td>\n",
       "            </tr>\n",
       "            <tr>\n",
       "                        <th id=\"T_e12c0e65_8b4a_11eb_933f_9a764120fcf3level0_row2\" class=\"row_heading level0 row2\" >T: 20</th>\n",
       "                        <td id=\"T_e12c0e65_8b4a_11eb_933f_9a764120fcf3row2_col0\" class=\"data row2 col0\" >0.891100</td>\n",
       "                        <td id=\"T_e12c0e65_8b4a_11eb_933f_9a764120fcf3row2_col1\" class=\"data row2 col1\" >0.820900</td>\n",
       "                        <td id=\"T_e12c0e65_8b4a_11eb_933f_9a764120fcf3row2_col2\" class=\"data row2 col2\" >0.852800</td>\n",
       "                        <td id=\"T_e12c0e65_8b4a_11eb_933f_9a764120fcf3row2_col3\" class=\"data row2 col3\" >0.752900</td>\n",
       "                        <td id=\"T_e12c0e65_8b4a_11eb_933f_9a764120fcf3row2_col4\" class=\"data row2 col4\" >200.333300</td>\n",
       "                        <td id=\"T_e12c0e65_8b4a_11eb_933f_9a764120fcf3row2_col5\" class=\"data row2 col5\" >24.700000</td>\n",
       "                        <td id=\"T_e12c0e65_8b4a_11eb_933f_9a764120fcf3row2_col6\" class=\"data row2 col6\" >44.400000</td>\n",
       "            </tr>\n",
       "    </tbody></table>"
      ],
      "text/plain": [
       "<pandas.io.formats.style.Styler at 0x18b0cdb1730>"
      ]
     },
     "metadata": {},
     "output_type": "display_data"
    },
    {
     "data": {
      "text/markdown": [
       "## Piano: AkPnBcht"
      ],
      "text/plain": [
       "<IPython.core.display.Markdown object>"
      ]
     },
     "metadata": {},
     "output_type": "display_data"
    },
    {
     "data": {
      "text/markdown": [
       "### When averaging each threshold on all MAPS"
      ],
      "text/plain": [
       "<IPython.core.display.Markdown object>"
      ]
     },
     "metadata": {},
     "output_type": "display_data"
    },
    {
     "data": {
      "text/html": [
       "<style  type=\"text/css\" >\n",
       "    #T_1666d253_8b4c_11eb_b1d8_9a764120fcf3row0_col3 {\n",
       "            width:  10em;\n",
       "             height:  80%;\n",
       "        }    #T_1666d253_8b4c_11eb_b1d8_9a764120fcf3row0_col4 {\n",
       "            width:  10em;\n",
       "             height:  80%;\n",
       "        }    #T_1666d253_8b4c_11eb_b1d8_9a764120fcf3row1_col3 {\n",
       "            width:  10em;\n",
       "             height:  80%;\n",
       "            background:  linear-gradient(90deg,#5fba7d 94.2%, transparent 94.2%);\n",
       "        }    #T_1666d253_8b4c_11eb_b1d8_9a764120fcf3row1_col4 {\n",
       "            width:  10em;\n",
       "             height:  80%;\n",
       "            background:  linear-gradient(90deg,#5fba7d 96.5%, transparent 96.5%);\n",
       "        }    #T_1666d253_8b4c_11eb_b1d8_9a764120fcf3row2_col3 {\n",
       "            width:  10em;\n",
       "             height:  80%;\n",
       "            background:  linear-gradient(90deg,#5fba7d 100.0%, transparent 100.0%);\n",
       "        }    #T_1666d253_8b4c_11eb_b1d8_9a764120fcf3row2_col4 {\n",
       "            width:  10em;\n",
       "             height:  80%;\n",
       "            background:  linear-gradient(90deg,#5fba7d 100.0%, transparent 100.0%);\n",
       "        }</style><table id=\"T_1666d253_8b4c_11eb_b1d8_9a764120fcf3\" ><thead>    <tr>        <th class=\"blank level0\" ></th>        <th class=\"col_heading level0 col0\" >Best threshold</th>        <th class=\"col_heading level0 col1\" >Precision</th>        <th class=\"col_heading level0 col2\" >Recall</th>        <th class=\"col_heading level0 col3\" >F measure</th>        <th class=\"col_heading level0 col4\" >Accuracy</th>        <th class=\"col_heading level0 col5\" >True Positives</th>        <th class=\"col_heading level0 col6\" >False Positives</th>        <th class=\"col_heading level0 col7\" >False Negatives</th>    </tr></thead><tbody>\n",
       "                <tr>\n",
       "                        <th id=\"T_1666d253_8b4c_11eb_b1d8_9a764120fcf3level0_row0\" class=\"row_heading level0 row0\" >T: 5</th>\n",
       "                        <td id=\"T_1666d253_8b4c_11eb_b1d8_9a764120fcf3row0_col0\" class=\"data row0 col0\" >0.050000</td>\n",
       "                        <td id=\"T_1666d253_8b4c_11eb_b1d8_9a764120fcf3row0_col1\" class=\"data row0 col1\" >0.903000</td>\n",
       "                        <td id=\"T_1666d253_8b4c_11eb_b1d8_9a764120fcf3row0_col2\" class=\"data row0 col2\" >0.874500</td>\n",
       "                        <td id=\"T_1666d253_8b4c_11eb_b1d8_9a764120fcf3row0_col3\" class=\"data row0 col3\" >0.879700</td>\n",
       "                        <td id=\"T_1666d253_8b4c_11eb_b1d8_9a764120fcf3row0_col4\" class=\"data row0 col4\" >0.797900</td>\n",
       "                        <td id=\"T_1666d253_8b4c_11eb_b1d8_9a764120fcf3row0_col5\" class=\"data row0 col5\" >265.566700</td>\n",
       "                        <td id=\"T_1666d253_8b4c_11eb_b1d8_9a764120fcf3row0_col6\" class=\"data row0 col6\" >39.100000</td>\n",
       "                        <td id=\"T_1666d253_8b4c_11eb_b1d8_9a764120fcf3row0_col7\" class=\"data row0 col7\" >33.333300</td>\n",
       "            </tr>\n",
       "            <tr>\n",
       "                        <th id=\"T_1666d253_8b4c_11eb_b1d8_9a764120fcf3level0_row1\" class=\"row_heading level0 row1\" >T: 10</th>\n",
       "                        <td id=\"T_1666d253_8b4c_11eb_b1d8_9a764120fcf3row1_col0\" class=\"data row1 col0\" >0.070000</td>\n",
       "                        <td id=\"T_1666d253_8b4c_11eb_b1d8_9a764120fcf3row1_col1\" class=\"data row1 col1\" >0.941900</td>\n",
       "                        <td id=\"T_1666d253_8b4c_11eb_b1d8_9a764120fcf3row1_col2\" class=\"data row1 col2\" >0.930800</td>\n",
       "                        <td id=\"T_1666d253_8b4c_11eb_b1d8_9a764120fcf3row1_col3\" class=\"data row1 col3\" >0.933100</td>\n",
       "                        <td id=\"T_1666d253_8b4c_11eb_b1d8_9a764120fcf3row1_col4\" class=\"data row1 col4\" >0.883200</td>\n",
       "                        <td id=\"T_1666d253_8b4c_11eb_b1d8_9a764120fcf3row1_col5\" class=\"data row1 col5\" >279.433300</td>\n",
       "                        <td id=\"T_1666d253_8b4c_11eb_b1d8_9a764120fcf3row1_col6\" class=\"data row1 col6\" >21.366700</td>\n",
       "                        <td id=\"T_1666d253_8b4c_11eb_b1d8_9a764120fcf3row1_col7\" class=\"data row1 col7\" >19.400000</td>\n",
       "            </tr>\n",
       "            <tr>\n",
       "                        <th id=\"T_1666d253_8b4c_11eb_b1d8_9a764120fcf3level0_row2\" class=\"row_heading level0 row2\" >T: 20</th>\n",
       "                        <td id=\"T_1666d253_8b4c_11eb_b1d8_9a764120fcf3row2_col0\" class=\"data row2 col0\" >0.110000</td>\n",
       "                        <td id=\"T_1666d253_8b4c_11eb_b1d8_9a764120fcf3row2_col1\" class=\"data row2 col1\" >0.944600</td>\n",
       "                        <td id=\"T_1666d253_8b4c_11eb_b1d8_9a764120fcf3row2_col2\" class=\"data row2 col2\" >0.931400</td>\n",
       "                        <td id=\"T_1666d253_8b4c_11eb_b1d8_9a764120fcf3row2_col3\" class=\"data row2 col3\" >0.936400</td>\n",
       "                        <td id=\"T_1666d253_8b4c_11eb_b1d8_9a764120fcf3row2_col4\" class=\"data row2 col4\" >0.886300</td>\n",
       "                        <td id=\"T_1666d253_8b4c_11eb_b1d8_9a764120fcf3row2_col5\" class=\"data row2 col5\" >277.466700</td>\n",
       "                        <td id=\"T_1666d253_8b4c_11eb_b1d8_9a764120fcf3row2_col6\" class=\"data row2 col6\" >18.000000</td>\n",
       "                        <td id=\"T_1666d253_8b4c_11eb_b1d8_9a764120fcf3row2_col7\" class=\"data row2 col7\" >21.533300</td>\n",
       "            </tr>\n",
       "    </tbody></table>"
      ],
      "text/plain": [
       "<pandas.io.formats.style.Styler at 0x18b0cdb1f10>"
      ]
     },
     "metadata": {},
     "output_type": "display_data"
    },
    {
     "data": {
      "text/markdown": [
       "### When optimizing the threshold on each song"
      ],
      "text/plain": [
       "<IPython.core.display.Markdown object>"
      ]
     },
     "metadata": {},
     "output_type": "display_data"
    },
    {
     "data": {
      "text/html": [
       "<style  type=\"text/css\" >\n",
       "    #T_1668ccc8_8b4c_11eb_a8a0_9a764120fcf3row0_col2 {\n",
       "            width:  10em;\n",
       "             height:  80%;\n",
       "        }    #T_1668ccc8_8b4c_11eb_a8a0_9a764120fcf3row0_col3 {\n",
       "            width:  10em;\n",
       "             height:  80%;\n",
       "        }    #T_1668ccc8_8b4c_11eb_a8a0_9a764120fcf3row1_col2 {\n",
       "            width:  10em;\n",
       "             height:  80%;\n",
       "            background:  linear-gradient(90deg,#5fba7d 100.0%, transparent 100.0%);\n",
       "        }    #T_1668ccc8_8b4c_11eb_a8a0_9a764120fcf3row1_col3 {\n",
       "            width:  10em;\n",
       "             height:  80%;\n",
       "            background:  linear-gradient(90deg,#5fba7d 100.0%, transparent 100.0%);\n",
       "        }    #T_1668ccc8_8b4c_11eb_a8a0_9a764120fcf3row2_col2 {\n",
       "            width:  10em;\n",
       "             height:  80%;\n",
       "            background:  linear-gradient(90deg,#5fba7d 98.1%, transparent 98.1%);\n",
       "        }    #T_1668ccc8_8b4c_11eb_a8a0_9a764120fcf3row2_col3 {\n",
       "            width:  10em;\n",
       "             height:  80%;\n",
       "            background:  linear-gradient(90deg,#5fba7d 96.1%, transparent 96.1%);\n",
       "        }</style><table id=\"T_1668ccc8_8b4c_11eb_a8a0_9a764120fcf3\" ><thead>    <tr>        <th class=\"blank level0\" ></th>        <th class=\"col_heading level0 col0\" >Precision</th>        <th class=\"col_heading level0 col1\" >Recall</th>        <th class=\"col_heading level0 col2\" >F measure</th>        <th class=\"col_heading level0 col3\" >Accuracy</th>        <th class=\"col_heading level0 col4\" >True Positives</th>        <th class=\"col_heading level0 col5\" >False Positives</th>        <th class=\"col_heading level0 col6\" >False Negatives</th>    </tr></thead><tbody>\n",
       "                <tr>\n",
       "                        <th id=\"T_1668ccc8_8b4c_11eb_a8a0_9a764120fcf3level0_row0\" class=\"row_heading level0 row0\" >T: 5</th>\n",
       "                        <td id=\"T_1668ccc8_8b4c_11eb_a8a0_9a764120fcf3row0_col0\" class=\"data row0 col0\" >0.924100</td>\n",
       "                        <td id=\"T_1668ccc8_8b4c_11eb_a8a0_9a764120fcf3row0_col1\" class=\"data row0 col1\" >0.885200</td>\n",
       "                        <td id=\"T_1668ccc8_8b4c_11eb_a8a0_9a764120fcf3row0_col2\" class=\"data row0 col2\" >0.901400</td>\n",
       "                        <td id=\"T_1668ccc8_8b4c_11eb_a8a0_9a764120fcf3row0_col3\" class=\"data row0 col3\" >0.828700</td>\n",
       "                        <td id=\"T_1668ccc8_8b4c_11eb_a8a0_9a764120fcf3row0_col4\" class=\"data row0 col4\" >262.000000</td>\n",
       "                        <td id=\"T_1668ccc8_8b4c_11eb_a8a0_9a764120fcf3row0_col5\" class=\"data row0 col5\" >20.966700</td>\n",
       "                        <td id=\"T_1668ccc8_8b4c_11eb_a8a0_9a764120fcf3row0_col6\" class=\"data row0 col6\" >36.833300</td>\n",
       "            </tr>\n",
       "            <tr>\n",
       "                        <th id=\"T_1668ccc8_8b4c_11eb_a8a0_9a764120fcf3level0_row1\" class=\"row_heading level0 row1\" >T: 10</th>\n",
       "                        <td id=\"T_1668ccc8_8b4c_11eb_a8a0_9a764120fcf3row1_col0\" class=\"data row1 col0\" >0.955500</td>\n",
       "                        <td id=\"T_1668ccc8_8b4c_11eb_a8a0_9a764120fcf3row1_col1\" class=\"data row1 col1\" >0.944500</td>\n",
       "                        <td id=\"T_1668ccc8_8b4c_11eb_a8a0_9a764120fcf3row1_col2\" class=\"data row1 col2\" >0.949600</td>\n",
       "                        <td id=\"T_1668ccc8_8b4c_11eb_a8a0_9a764120fcf3row1_col3\" class=\"data row1 col3\" >0.911000</td>\n",
       "                        <td id=\"T_1668ccc8_8b4c_11eb_a8a0_9a764120fcf3row1_col4\" class=\"data row1 col4\" >280.300000</td>\n",
       "                        <td id=\"T_1668ccc8_8b4c_11eb_a8a0_9a764120fcf3row1_col5\" class=\"data row1 col5\" >12.766700</td>\n",
       "                        <td id=\"T_1668ccc8_8b4c_11eb_a8a0_9a764120fcf3row1_col6\" class=\"data row1 col6\" >18.400000</td>\n",
       "            </tr>\n",
       "            <tr>\n",
       "                        <th id=\"T_1668ccc8_8b4c_11eb_a8a0_9a764120fcf3level0_row2\" class=\"row_heading level0 row2\" >T: 20</th>\n",
       "                        <td id=\"T_1668ccc8_8b4c_11eb_a8a0_9a764120fcf3row2_col0\" class=\"data row2 col0\" >0.953700</td>\n",
       "                        <td id=\"T_1668ccc8_8b4c_11eb_a8a0_9a764120fcf3row2_col1\" class=\"data row2 col1\" >0.944300</td>\n",
       "                        <td id=\"T_1668ccc8_8b4c_11eb_a8a0_9a764120fcf3row2_col2\" class=\"data row2 col2\" >0.948700</td>\n",
       "                        <td id=\"T_1668ccc8_8b4c_11eb_a8a0_9a764120fcf3row2_col3\" class=\"data row2 col3\" >0.907800</td>\n",
       "                        <td id=\"T_1668ccc8_8b4c_11eb_a8a0_9a764120fcf3row2_col4\" class=\"data row2 col4\" >280.266700</td>\n",
       "                        <td id=\"T_1668ccc8_8b4c_11eb_a8a0_9a764120fcf3row2_col5\" class=\"data row2 col5\" >15.066700</td>\n",
       "                        <td id=\"T_1668ccc8_8b4c_11eb_a8a0_9a764120fcf3row2_col6\" class=\"data row2 col6\" >18.633300</td>\n",
       "            </tr>\n",
       "    </tbody></table>"
      ],
      "text/plain": [
       "<pandas.io.formats.style.Styler at 0x18b0d06c7c0>"
      ]
     },
     "metadata": {},
     "output_type": "display_data"
    },
    {
     "data": {
      "text/markdown": [
       "## Piano: AkPnBsdf"
      ],
      "text/plain": [
       "<IPython.core.display.Markdown object>"
      ]
     },
     "metadata": {},
     "output_type": "display_data"
    },
    {
     "data": {
      "text/markdown": [
       "### When averaging each threshold on all MAPS"
      ],
      "text/plain": [
       "<IPython.core.display.Markdown object>"
      ]
     },
     "metadata": {},
     "output_type": "display_data"
    },
    {
     "data": {
      "text/html": [
       "<style  type=\"text/css\" >\n",
       "    #T_40bcf103_8b4d_11eb_aca5_9a764120fcf3row0_col3 {\n",
       "            width:  10em;\n",
       "             height:  80%;\n",
       "        }    #T_40bcf103_8b4d_11eb_aca5_9a764120fcf3row0_col4 {\n",
       "            width:  10em;\n",
       "             height:  80%;\n",
       "        }    #T_40bcf103_8b4d_11eb_aca5_9a764120fcf3row1_col3 {\n",
       "            width:  10em;\n",
       "             height:  80%;\n",
       "            background:  linear-gradient(90deg,#5fba7d 95.7%, transparent 95.7%);\n",
       "        }    #T_40bcf103_8b4d_11eb_aca5_9a764120fcf3row1_col4 {\n",
       "            width:  10em;\n",
       "             height:  80%;\n",
       "            background:  linear-gradient(90deg,#5fba7d 96.1%, transparent 96.1%);\n",
       "        }    #T_40bcf103_8b4d_11eb_aca5_9a764120fcf3row2_col3 {\n",
       "            width:  10em;\n",
       "             height:  80%;\n",
       "            background:  linear-gradient(90deg,#5fba7d 100.0%, transparent 100.0%);\n",
       "        }    #T_40bcf103_8b4d_11eb_aca5_9a764120fcf3row2_col4 {\n",
       "            width:  10em;\n",
       "             height:  80%;\n",
       "            background:  linear-gradient(90deg,#5fba7d 100.0%, transparent 100.0%);\n",
       "        }</style><table id=\"T_40bcf103_8b4d_11eb_aca5_9a764120fcf3\" ><thead>    <tr>        <th class=\"blank level0\" ></th>        <th class=\"col_heading level0 col0\" >Best threshold</th>        <th class=\"col_heading level0 col1\" >Precision</th>        <th class=\"col_heading level0 col2\" >Recall</th>        <th class=\"col_heading level0 col3\" >F measure</th>        <th class=\"col_heading level0 col4\" >Accuracy</th>        <th class=\"col_heading level0 col5\" >True Positives</th>        <th class=\"col_heading level0 col6\" >False Positives</th>        <th class=\"col_heading level0 col7\" >False Negatives</th>    </tr></thead><tbody>\n",
       "                <tr>\n",
       "                        <th id=\"T_40bcf103_8b4d_11eb_aca5_9a764120fcf3level0_row0\" class=\"row_heading level0 row0\" >T: 5</th>\n",
       "                        <td id=\"T_40bcf103_8b4d_11eb_aca5_9a764120fcf3row0_col0\" class=\"data row0 col0\" >0.050000</td>\n",
       "                        <td id=\"T_40bcf103_8b4d_11eb_aca5_9a764120fcf3row0_col1\" class=\"data row0 col1\" >0.867200</td>\n",
       "                        <td id=\"T_40bcf103_8b4d_11eb_aca5_9a764120fcf3row0_col2\" class=\"data row0 col2\" >0.692900</td>\n",
       "                        <td id=\"T_40bcf103_8b4d_11eb_aca5_9a764120fcf3row0_col3\" class=\"data row0 col3\" >0.748900</td>\n",
       "                        <td id=\"T_40bcf103_8b4d_11eb_aca5_9a764120fcf3row0_col4\" class=\"data row0 col4\" >0.622400</td>\n",
       "                        <td id=\"T_40bcf103_8b4d_11eb_aca5_9a764120fcf3row0_col5\" class=\"data row0 col5\" >199.700000</td>\n",
       "                        <td id=\"T_40bcf103_8b4d_11eb_aca5_9a764120fcf3row0_col6\" class=\"data row0 col6\" >32.233300</td>\n",
       "                        <td id=\"T_40bcf103_8b4d_11eb_aca5_9a764120fcf3row0_col7\" class=\"data row0 col7\" >79.633300</td>\n",
       "            </tr>\n",
       "            <tr>\n",
       "                        <th id=\"T_40bcf103_8b4d_11eb_aca5_9a764120fcf3level0_row1\" class=\"row_heading level0 row1\" >T: 10</th>\n",
       "                        <td id=\"T_40bcf103_8b4d_11eb_aca5_9a764120fcf3row1_col0\" class=\"data row1 col0\" >0.050000</td>\n",
       "                        <td id=\"T_40bcf103_8b4d_11eb_aca5_9a764120fcf3row1_col1\" class=\"data row1 col1\" >0.871300</td>\n",
       "                        <td id=\"T_40bcf103_8b4d_11eb_aca5_9a764120fcf3row1_col2\" class=\"data row1 col2\" >0.883500</td>\n",
       "                        <td id=\"T_40bcf103_8b4d_11eb_aca5_9a764120fcf3row1_col3\" class=\"data row1 col3\" >0.868400</td>\n",
       "                        <td id=\"T_40bcf103_8b4d_11eb_aca5_9a764120fcf3row1_col4\" class=\"data row1 col4\" >0.779600</td>\n",
       "                        <td id=\"T_40bcf103_8b4d_11eb_aca5_9a764120fcf3row1_col5\" class=\"data row1 col5\" >247.566700</td>\n",
       "                        <td id=\"T_40bcf103_8b4d_11eb_aca5_9a764120fcf3row1_col6\" class=\"data row1 col6\" >45.600000</td>\n",
       "                        <td id=\"T_40bcf103_8b4d_11eb_aca5_9a764120fcf3row1_col7\" class=\"data row1 col7\" >31.633300</td>\n",
       "            </tr>\n",
       "            <tr>\n",
       "                        <th id=\"T_40bcf103_8b4d_11eb_aca5_9a764120fcf3level0_row2\" class=\"row_heading level0 row2\" >T: 20</th>\n",
       "                        <td id=\"T_40bcf103_8b4d_11eb_aca5_9a764120fcf3row2_col0\" class=\"data row2 col0\" >0.090000</td>\n",
       "                        <td id=\"T_40bcf103_8b4d_11eb_aca5_9a764120fcf3row2_col1\" class=\"data row2 col1\" >0.887100</td>\n",
       "                        <td id=\"T_40bcf103_8b4d_11eb_aca5_9a764120fcf3row2_col2\" class=\"data row2 col2\" >0.873600</td>\n",
       "                        <td id=\"T_40bcf103_8b4d_11eb_aca5_9a764120fcf3row2_col3\" class=\"data row2 col3\" >0.873800</td>\n",
       "                        <td id=\"T_40bcf103_8b4d_11eb_aca5_9a764120fcf3row2_col4\" class=\"data row2 col4\" >0.785900</td>\n",
       "                        <td id=\"T_40bcf103_8b4d_11eb_aca5_9a764120fcf3row2_col5\" class=\"data row2 col5\" >243.700000</td>\n",
       "                        <td id=\"T_40bcf103_8b4d_11eb_aca5_9a764120fcf3row2_col6\" class=\"data row2 col6\" >34.600000</td>\n",
       "                        <td id=\"T_40bcf103_8b4d_11eb_aca5_9a764120fcf3row2_col7\" class=\"data row2 col7\" >35.533300</td>\n",
       "            </tr>\n",
       "    </tbody></table>"
      ],
      "text/plain": [
       "<pandas.io.formats.style.Styler at 0x18b0ff4c280>"
      ]
     },
     "metadata": {},
     "output_type": "display_data"
    },
    {
     "data": {
      "text/markdown": [
       "### When optimizing the threshold on each song"
      ],
      "text/plain": [
       "<IPython.core.display.Markdown object>"
      ]
     },
     "metadata": {},
     "output_type": "display_data"
    },
    {
     "data": {
      "text/html": [
       "<style  type=\"text/css\" >\n",
       "    #T_40be9f6c_8b4d_11eb_b02c_9a764120fcf3row0_col2 {\n",
       "            width:  10em;\n",
       "             height:  80%;\n",
       "        }    #T_40be9f6c_8b4d_11eb_b02c_9a764120fcf3row0_col3 {\n",
       "            width:  10em;\n",
       "             height:  80%;\n",
       "        }    #T_40be9f6c_8b4d_11eb_b02c_9a764120fcf3row1_col2 {\n",
       "            width:  10em;\n",
       "             height:  80%;\n",
       "            background:  linear-gradient(90deg,#5fba7d 100.0%, transparent 100.0%);\n",
       "        }    #T_40be9f6c_8b4d_11eb_b02c_9a764120fcf3row1_col3 {\n",
       "            width:  10em;\n",
       "             height:  80%;\n",
       "            background:  linear-gradient(90deg,#5fba7d 100.0%, transparent 100.0%);\n",
       "        }    #T_40be9f6c_8b4d_11eb_b02c_9a764120fcf3row2_col2 {\n",
       "            width:  10em;\n",
       "             height:  80%;\n",
       "            background:  linear-gradient(90deg,#5fba7d 98.7%, transparent 98.7%);\n",
       "        }    #T_40be9f6c_8b4d_11eb_b02c_9a764120fcf3row2_col3 {\n",
       "            width:  10em;\n",
       "             height:  80%;\n",
       "            background:  linear-gradient(90deg,#5fba7d 98.1%, transparent 98.1%);\n",
       "        }</style><table id=\"T_40be9f6c_8b4d_11eb_b02c_9a764120fcf3\" ><thead>    <tr>        <th class=\"blank level0\" ></th>        <th class=\"col_heading level0 col0\" >Precision</th>        <th class=\"col_heading level0 col1\" >Recall</th>        <th class=\"col_heading level0 col2\" >F measure</th>        <th class=\"col_heading level0 col3\" >Accuracy</th>        <th class=\"col_heading level0 col4\" >True Positives</th>        <th class=\"col_heading level0 col5\" >False Positives</th>        <th class=\"col_heading level0 col6\" >False Negatives</th>    </tr></thead><tbody>\n",
       "                <tr>\n",
       "                        <th id=\"T_40be9f6c_8b4d_11eb_b02c_9a764120fcf3level0_row0\" class=\"row_heading level0 row0\" >T: 5</th>\n",
       "                        <td id=\"T_40be9f6c_8b4d_11eb_b02c_9a764120fcf3row0_col0\" class=\"data row0 col0\" >0.840700</td>\n",
       "                        <td id=\"T_40be9f6c_8b4d_11eb_b02c_9a764120fcf3row0_col1\" class=\"data row0 col1\" >0.782700</td>\n",
       "                        <td id=\"T_40be9f6c_8b4d_11eb_b02c_9a764120fcf3row0_col2\" class=\"data row0 col2\" >0.802200</td>\n",
       "                        <td id=\"T_40be9f6c_8b4d_11eb_b02c_9a764120fcf3row0_col3\" class=\"data row0 col3\" >0.682500</td>\n",
       "                        <td id=\"T_40be9f6c_8b4d_11eb_b02c_9a764120fcf3row0_col4\" class=\"data row0 col4\" >218.133300</td>\n",
       "                        <td id=\"T_40be9f6c_8b4d_11eb_b02c_9a764120fcf3row0_col5\" class=\"data row0 col5\" >42.566700</td>\n",
       "                        <td id=\"T_40be9f6c_8b4d_11eb_b02c_9a764120fcf3row0_col6\" class=\"data row0 col6\" >61.066700</td>\n",
       "            </tr>\n",
       "            <tr>\n",
       "                        <th id=\"T_40be9f6c_8b4d_11eb_b02c_9a764120fcf3level0_row1\" class=\"row_heading level0 row1\" >T: 10</th>\n",
       "                        <td id=\"T_40be9f6c_8b4d_11eb_b02c_9a764120fcf3row1_col0\" class=\"data row1 col0\" >0.917600</td>\n",
       "                        <td id=\"T_40be9f6c_8b4d_11eb_b02c_9a764120fcf3row1_col1\" class=\"data row1 col1\" >0.888100</td>\n",
       "                        <td id=\"T_40be9f6c_8b4d_11eb_b02c_9a764120fcf3row1_col2\" class=\"data row1 col2\" >0.901400</td>\n",
       "                        <td id=\"T_40be9f6c_8b4d_11eb_b02c_9a764120fcf3row1_col3\" class=\"data row1 col3\" >0.829100</td>\n",
       "                        <td id=\"T_40be9f6c_8b4d_11eb_b02c_9a764120fcf3row1_col4\" class=\"data row1 col4\" >248.033300</td>\n",
       "                        <td id=\"T_40be9f6c_8b4d_11eb_b02c_9a764120fcf3row1_col5\" class=\"data row1 col5\" >23.166700</td>\n",
       "                        <td id=\"T_40be9f6c_8b4d_11eb_b02c_9a764120fcf3row1_col6\" class=\"data row1 col6\" >31.200000</td>\n",
       "            </tr>\n",
       "            <tr>\n",
       "                        <th id=\"T_40be9f6c_8b4d_11eb_b02c_9a764120fcf3level0_row2\" class=\"row_heading level0 row2\" >T: 20</th>\n",
       "                        <td id=\"T_40be9f6c_8b4d_11eb_b02c_9a764120fcf3row2_col0\" class=\"data row2 col0\" >0.912600</td>\n",
       "                        <td id=\"T_40be9f6c_8b4d_11eb_b02c_9a764120fcf3row2_col1\" class=\"data row2 col1\" >0.889300</td>\n",
       "                        <td id=\"T_40be9f6c_8b4d_11eb_b02c_9a764120fcf3row2_col2\" class=\"data row2 col2\" >0.900100</td>\n",
       "                        <td id=\"T_40be9f6c_8b4d_11eb_b02c_9a764120fcf3row2_col3\" class=\"data row2 col3\" >0.826300</td>\n",
       "                        <td id=\"T_40be9f6c_8b4d_11eb_b02c_9a764120fcf3row2_col4\" class=\"data row2 col4\" >247.966700</td>\n",
       "                        <td id=\"T_40be9f6c_8b4d_11eb_b02c_9a764120fcf3row2_col5\" class=\"data row2 col5\" >24.133300</td>\n",
       "                        <td id=\"T_40be9f6c_8b4d_11eb_b02c_9a764120fcf3row2_col6\" class=\"data row2 col6\" >31.133300</td>\n",
       "            </tr>\n",
       "    </tbody></table>"
      ],
      "text/plain": [
       "<pandas.io.formats.style.Styler at 0x18b0d023880>"
      ]
     },
     "metadata": {},
     "output_type": "display_data"
    },
    {
     "data": {
      "text/markdown": [
       "## Piano: AkPnStgb"
      ],
      "text/plain": [
       "<IPython.core.display.Markdown object>"
      ]
     },
     "metadata": {},
     "output_type": "display_data"
    },
    {
     "data": {
      "text/markdown": [
       "### When averaging each threshold on all MAPS"
      ],
      "text/plain": [
       "<IPython.core.display.Markdown object>"
      ]
     },
     "metadata": {},
     "output_type": "display_data"
    },
    {
     "data": {
      "text/html": [
       "<style  type=\"text/css\" >\n",
       "    #T_54c4667b_8b4e_11eb_91b9_9a764120fcf3row0_col3 {\n",
       "            width:  10em;\n",
       "             height:  80%;\n",
       "        }    #T_54c4667b_8b4e_11eb_91b9_9a764120fcf3row0_col4 {\n",
       "            width:  10em;\n",
       "             height:  80%;\n",
       "        }    #T_54c4667b_8b4e_11eb_91b9_9a764120fcf3row1_col3 {\n",
       "            width:  10em;\n",
       "             height:  80%;\n",
       "            background:  linear-gradient(90deg,#5fba7d 100.0%, transparent 100.0%);\n",
       "        }    #T_54c4667b_8b4e_11eb_91b9_9a764120fcf3row1_col4 {\n",
       "            width:  10em;\n",
       "             height:  80%;\n",
       "            background:  linear-gradient(90deg,#5fba7d 100.0%, transparent 100.0%);\n",
       "        }    #T_54c4667b_8b4e_11eb_91b9_9a764120fcf3row2_col3 {\n",
       "            width:  10em;\n",
       "             height:  80%;\n",
       "            background:  linear-gradient(90deg,#5fba7d 93.9%, transparent 93.9%);\n",
       "        }    #T_54c4667b_8b4e_11eb_91b9_9a764120fcf3row2_col4 {\n",
       "            width:  10em;\n",
       "             height:  80%;\n",
       "            background:  linear-gradient(90deg,#5fba7d 93.4%, transparent 93.4%);\n",
       "        }</style><table id=\"T_54c4667b_8b4e_11eb_91b9_9a764120fcf3\" ><thead>    <tr>        <th class=\"blank level0\" ></th>        <th class=\"col_heading level0 col0\" >Best threshold</th>        <th class=\"col_heading level0 col1\" >Precision</th>        <th class=\"col_heading level0 col2\" >Recall</th>        <th class=\"col_heading level0 col3\" >F measure</th>        <th class=\"col_heading level0 col4\" >Accuracy</th>        <th class=\"col_heading level0 col5\" >True Positives</th>        <th class=\"col_heading level0 col6\" >False Positives</th>        <th class=\"col_heading level0 col7\" >False Negatives</th>    </tr></thead><tbody>\n",
       "                <tr>\n",
       "                        <th id=\"T_54c4667b_8b4e_11eb_91b9_9a764120fcf3level0_row0\" class=\"row_heading level0 row0\" >T: 5</th>\n",
       "                        <td id=\"T_54c4667b_8b4e_11eb_91b9_9a764120fcf3row0_col0\" class=\"data row0 col0\" >0.070000</td>\n",
       "                        <td id=\"T_54c4667b_8b4e_11eb_91b9_9a764120fcf3row0_col1\" class=\"data row0 col1\" >0.870500</td>\n",
       "                        <td id=\"T_54c4667b_8b4e_11eb_91b9_9a764120fcf3row0_col2\" class=\"data row0 col2\" >0.771700</td>\n",
       "                        <td id=\"T_54c4667b_8b4e_11eb_91b9_9a764120fcf3row0_col3\" class=\"data row0 col3\" >0.804300</td>\n",
       "                        <td id=\"T_54c4667b_8b4e_11eb_91b9_9a764120fcf3row0_col4\" class=\"data row0 col4\" >0.689800</td>\n",
       "                        <td id=\"T_54c4667b_8b4e_11eb_91b9_9a764120fcf3row0_col5\" class=\"data row0 col5\" >232.400000</td>\n",
       "                        <td id=\"T_54c4667b_8b4e_11eb_91b9_9a764120fcf3row0_col6\" class=\"data row0 col6\" >41.033300</td>\n",
       "                        <td id=\"T_54c4667b_8b4e_11eb_91b9_9a764120fcf3row0_col7\" class=\"data row0 col7\" >61.466700</td>\n",
       "            </tr>\n",
       "            <tr>\n",
       "                        <th id=\"T_54c4667b_8b4e_11eb_91b9_9a764120fcf3level0_row1\" class=\"row_heading level0 row1\" >T: 10</th>\n",
       "                        <td id=\"T_54c4667b_8b4e_11eb_91b9_9a764120fcf3row1_col0\" class=\"data row1 col0\" >0.090000</td>\n",
       "                        <td id=\"T_54c4667b_8b4e_11eb_91b9_9a764120fcf3row1_col1\" class=\"data row1 col1\" >0.899900</td>\n",
       "                        <td id=\"T_54c4667b_8b4e_11eb_91b9_9a764120fcf3row1_col2\" class=\"data row1 col2\" >0.865700</td>\n",
       "                        <td id=\"T_54c4667b_8b4e_11eb_91b9_9a764120fcf3row1_col3\" class=\"data row1 col3\" >0.878000</td>\n",
       "                        <td id=\"T_54c4667b_8b4e_11eb_91b9_9a764120fcf3row1_col4\" class=\"data row1 col4\" >0.792600</td>\n",
       "                        <td id=\"T_54c4667b_8b4e_11eb_91b9_9a764120fcf3row1_col5\" class=\"data row1 col5\" >253.400000</td>\n",
       "                        <td id=\"T_54c4667b_8b4e_11eb_91b9_9a764120fcf3row1_col6\" class=\"data row1 col6\" >32.466700</td>\n",
       "                        <td id=\"T_54c4667b_8b4e_11eb_91b9_9a764120fcf3row1_col7\" class=\"data row1 col7\" >40.233300</td>\n",
       "            </tr>\n",
       "            <tr>\n",
       "                        <th id=\"T_54c4667b_8b4e_11eb_91b9_9a764120fcf3level0_row2\" class=\"row_heading level0 row2\" >T: 20</th>\n",
       "                        <td id=\"T_54c4667b_8b4e_11eb_91b9_9a764120fcf3row2_col0\" class=\"data row2 col0\" >0.130000</td>\n",
       "                        <td id=\"T_54c4667b_8b4e_11eb_91b9_9a764120fcf3row2_col1\" class=\"data row2 col1\" >0.886200</td>\n",
       "                        <td id=\"T_54c4667b_8b4e_11eb_91b9_9a764120fcf3row2_col2\" class=\"data row2 col2\" >0.867900</td>\n",
       "                        <td id=\"T_54c4667b_8b4e_11eb_91b9_9a764120fcf3row2_col3\" class=\"data row2 col3\" >0.873500</td>\n",
       "                        <td id=\"T_54c4667b_8b4e_11eb_91b9_9a764120fcf3row2_col4\" class=\"data row2 col4\" >0.785800</td>\n",
       "                        <td id=\"T_54c4667b_8b4e_11eb_91b9_9a764120fcf3row2_col5\" class=\"data row2 col5\" >251.100000</td>\n",
       "                        <td id=\"T_54c4667b_8b4e_11eb_91b9_9a764120fcf3row2_col6\" class=\"data row2 col6\" >36.600000</td>\n",
       "                        <td id=\"T_54c4667b_8b4e_11eb_91b9_9a764120fcf3row2_col7\" class=\"data row2 col7\" >42.733300</td>\n",
       "            </tr>\n",
       "    </tbody></table>"
      ],
      "text/plain": [
       "<pandas.io.formats.style.Styler at 0x18b0ce12bb0>"
      ]
     },
     "metadata": {},
     "output_type": "display_data"
    },
    {
     "data": {
      "text/markdown": [
       "### When optimizing the threshold on each song"
      ],
      "text/plain": [
       "<IPython.core.display.Markdown object>"
      ]
     },
     "metadata": {},
     "output_type": "display_data"
    },
    {
     "data": {
      "text/html": [
       "<style  type=\"text/css\" >\n",
       "    #T_54c69189_8b4e_11eb_b91c_9a764120fcf3row0_col2 {\n",
       "            width:  10em;\n",
       "             height:  80%;\n",
       "        }    #T_54c69189_8b4e_11eb_b91c_9a764120fcf3row0_col3 {\n",
       "            width:  10em;\n",
       "             height:  80%;\n",
       "        }    #T_54c69189_8b4e_11eb_b91c_9a764120fcf3row1_col2 {\n",
       "            width:  10em;\n",
       "             height:  80%;\n",
       "            background:  linear-gradient(90deg,#5fba7d 100.0%, transparent 100.0%);\n",
       "        }    #T_54c69189_8b4e_11eb_b91c_9a764120fcf3row1_col3 {\n",
       "            width:  10em;\n",
       "             height:  80%;\n",
       "            background:  linear-gradient(90deg,#5fba7d 100.0%, transparent 100.0%);\n",
       "        }    #T_54c69189_8b4e_11eb_b91c_9a764120fcf3row2_col2 {\n",
       "            width:  10em;\n",
       "             height:  80%;\n",
       "            background:  linear-gradient(90deg,#5fba7d 89.4%, transparent 89.4%);\n",
       "        }    #T_54c69189_8b4e_11eb_b91c_9a764120fcf3row2_col3 {\n",
       "            width:  10em;\n",
       "             height:  80%;\n",
       "            background:  linear-gradient(90deg,#5fba7d 87.0%, transparent 87.0%);\n",
       "        }</style><table id=\"T_54c69189_8b4e_11eb_b91c_9a764120fcf3\" ><thead>    <tr>        <th class=\"blank level0\" ></th>        <th class=\"col_heading level0 col0\" >Precision</th>        <th class=\"col_heading level0 col1\" >Recall</th>        <th class=\"col_heading level0 col2\" >F measure</th>        <th class=\"col_heading level0 col3\" >Accuracy</th>        <th class=\"col_heading level0 col4\" >True Positives</th>        <th class=\"col_heading level0 col5\" >False Positives</th>        <th class=\"col_heading level0 col6\" >False Negatives</th>    </tr></thead><tbody>\n",
       "                <tr>\n",
       "                        <th id=\"T_54c69189_8b4e_11eb_b91c_9a764120fcf3level0_row0\" class=\"row_heading level0 row0\" >T: 5</th>\n",
       "                        <td id=\"T_54c69189_8b4e_11eb_b91c_9a764120fcf3row0_col0\" class=\"data row0 col0\" >0.870100</td>\n",
       "                        <td id=\"T_54c69189_8b4e_11eb_b91c_9a764120fcf3row0_col1\" class=\"data row0 col1\" >0.823300</td>\n",
       "                        <td id=\"T_54c69189_8b4e_11eb_b91c_9a764120fcf3row0_col2\" class=\"data row0 col2\" >0.842800</td>\n",
       "                        <td id=\"T_54c69189_8b4e_11eb_b91c_9a764120fcf3row0_col3\" class=\"data row0 col3\" >0.739200</td>\n",
       "                        <td id=\"T_54c69189_8b4e_11eb_b91c_9a764120fcf3row0_col4\" class=\"data row0 col4\" >245.133300</td>\n",
       "                        <td id=\"T_54c69189_8b4e_11eb_b91c_9a764120fcf3row0_col5\" class=\"data row0 col5\" >37.666700</td>\n",
       "                        <td id=\"T_54c69189_8b4e_11eb_b91c_9a764120fcf3row0_col6\" class=\"data row0 col6\" >48.800000</td>\n",
       "            </tr>\n",
       "            <tr>\n",
       "                        <th id=\"T_54c69189_8b4e_11eb_b91c_9a764120fcf3level0_row1\" class=\"row_heading level0 row1\" >T: 10</th>\n",
       "                        <td id=\"T_54c69189_8b4e_11eb_b91c_9a764120fcf3row1_col0\" class=\"data row1 col0\" >0.910400</td>\n",
       "                        <td id=\"T_54c69189_8b4e_11eb_b91c_9a764120fcf3row1_col1\" class=\"data row1 col1\" >0.884900</td>\n",
       "                        <td id=\"T_54c69189_8b4e_11eb_b91c_9a764120fcf3row1_col2\" class=\"data row1 col2\" >0.896400</td>\n",
       "                        <td id=\"T_54c69189_8b4e_11eb_b91c_9a764120fcf3row1_col3\" class=\"data row1 col3\" >0.822100</td>\n",
       "                        <td id=\"T_54c69189_8b4e_11eb_b91c_9a764120fcf3row1_col4\" class=\"data row1 col4\" >258.600000</td>\n",
       "                        <td id=\"T_54c69189_8b4e_11eb_b91c_9a764120fcf3row1_col5\" class=\"data row1 col5\" >25.533300</td>\n",
       "                        <td id=\"T_54c69189_8b4e_11eb_b91c_9a764120fcf3row1_col6\" class=\"data row1 col6\" >35.033300</td>\n",
       "            </tr>\n",
       "            <tr>\n",
       "                        <th id=\"T_54c69189_8b4e_11eb_b91c_9a764120fcf3level0_row2\" class=\"row_heading level0 row2\" >T: 20</th>\n",
       "                        <td id=\"T_54c69189_8b4e_11eb_b91c_9a764120fcf3row2_col0\" class=\"data row2 col0\" >0.908100</td>\n",
       "                        <td id=\"T_54c69189_8b4e_11eb_b91c_9a764120fcf3row2_col1\" class=\"data row2 col1\" >0.878400</td>\n",
       "                        <td id=\"T_54c69189_8b4e_11eb_b91c_9a764120fcf3row2_col2\" class=\"data row2 col2\" >0.890700</td>\n",
       "                        <td id=\"T_54c69189_8b4e_11eb_b91c_9a764120fcf3row2_col3\" class=\"data row2 col3\" >0.811300</td>\n",
       "                        <td id=\"T_54c69189_8b4e_11eb_b91c_9a764120fcf3row2_col4\" class=\"data row2 col4\" >254.200000</td>\n",
       "                        <td id=\"T_54c69189_8b4e_11eb_b91c_9a764120fcf3row2_col5\" class=\"data row2 col5\" >27.933300</td>\n",
       "                        <td id=\"T_54c69189_8b4e_11eb_b91c_9a764120fcf3row2_col6\" class=\"data row2 col6\" >39.633300</td>\n",
       "            </tr>\n",
       "    </tbody></table>"
      ],
      "text/plain": [
       "<pandas.io.formats.style.Styler at 0x18b0ce12c70>"
      ]
     },
     "metadata": {},
     "output_type": "display_data"
    },
    {
     "data": {
      "text/markdown": [
       "## Piano: ENSTDkAm"
      ],
      "text/plain": [
       "<IPython.core.display.Markdown object>"
      ]
     },
     "metadata": {},
     "output_type": "display_data"
    },
    {
     "data": {
      "text/markdown": [
       "### When averaging each threshold on all MAPS"
      ],
      "text/plain": [
       "<IPython.core.display.Markdown object>"
      ]
     },
     "metadata": {},
     "output_type": "display_data"
    },
    {
     "data": {
      "text/html": [
       "<style  type=\"text/css\" >\n",
       "    #T_8c517b81_8b4f_11eb_8642_9a764120fcf3row0_col3 {\n",
       "            width:  10em;\n",
       "             height:  80%;\n",
       "        }    #T_8c517b81_8b4f_11eb_8642_9a764120fcf3row0_col4 {\n",
       "            width:  10em;\n",
       "             height:  80%;\n",
       "        }    #T_8c517b81_8b4f_11eb_8642_9a764120fcf3row1_col3 {\n",
       "            width:  10em;\n",
       "             height:  80%;\n",
       "            background:  linear-gradient(90deg,#5fba7d 100.0%, transparent 100.0%);\n",
       "        }    #T_8c517b81_8b4f_11eb_8642_9a764120fcf3row1_col4 {\n",
       "            width:  10em;\n",
       "             height:  80%;\n",
       "            background:  linear-gradient(90deg,#5fba7d 100.0%, transparent 100.0%);\n",
       "        }    #T_8c517b81_8b4f_11eb_8642_9a764120fcf3row2_col3 {\n",
       "            width:  10em;\n",
       "             height:  80%;\n",
       "            background:  linear-gradient(90deg,#5fba7d 84.7%, transparent 84.7%);\n",
       "        }    #T_8c517b81_8b4f_11eb_8642_9a764120fcf3row2_col4 {\n",
       "            width:  10em;\n",
       "             height:  80%;\n",
       "            background:  linear-gradient(90deg,#5fba7d 82.1%, transparent 82.1%);\n",
       "        }</style><table id=\"T_8c517b81_8b4f_11eb_8642_9a764120fcf3\" ><thead>    <tr>        <th class=\"blank level0\" ></th>        <th class=\"col_heading level0 col0\" >Best threshold</th>        <th class=\"col_heading level0 col1\" >Precision</th>        <th class=\"col_heading level0 col2\" >Recall</th>        <th class=\"col_heading level0 col3\" >F measure</th>        <th class=\"col_heading level0 col4\" >Accuracy</th>        <th class=\"col_heading level0 col5\" >True Positives</th>        <th class=\"col_heading level0 col6\" >False Positives</th>        <th class=\"col_heading level0 col7\" >False Negatives</th>    </tr></thead><tbody>\n",
       "                <tr>\n",
       "                        <th id=\"T_8c517b81_8b4f_11eb_8642_9a764120fcf3level0_row0\" class=\"row_heading level0 row0\" >T: 5</th>\n",
       "                        <td id=\"T_8c517b81_8b4f_11eb_8642_9a764120fcf3row0_col0\" class=\"data row0 col0\" >0.130000</td>\n",
       "                        <td id=\"T_8c517b81_8b4f_11eb_8642_9a764120fcf3row0_col1\" class=\"data row0 col1\" >0.734300</td>\n",
       "                        <td id=\"T_8c517b81_8b4f_11eb_8642_9a764120fcf3row0_col2\" class=\"data row0 col2\" >0.706200</td>\n",
       "                        <td id=\"T_8c517b81_8b4f_11eb_8642_9a764120fcf3row0_col3\" class=\"data row0 col3\" >0.701900</td>\n",
       "                        <td id=\"T_8c517b81_8b4f_11eb_8642_9a764120fcf3row0_col4\" class=\"data row0 col4\" >0.553900</td>\n",
       "                        <td id=\"T_8c517b81_8b4f_11eb_8642_9a764120fcf3row0_col5\" class=\"data row0 col5\" >215.800000</td>\n",
       "                        <td id=\"T_8c517b81_8b4f_11eb_8642_9a764120fcf3row0_col6\" class=\"data row0 col6\" >94.366700</td>\n",
       "                        <td id=\"T_8c517b81_8b4f_11eb_8642_9a764120fcf3row0_col7\" class=\"data row0 col7\" >76.133300</td>\n",
       "            </tr>\n",
       "            <tr>\n",
       "                        <th id=\"T_8c517b81_8b4f_11eb_8642_9a764120fcf3level0_row1\" class=\"row_heading level0 row1\" >T: 10</th>\n",
       "                        <td id=\"T_8c517b81_8b4f_11eb_8642_9a764120fcf3row1_col0\" class=\"data row1 col0\" >0.210000</td>\n",
       "                        <td id=\"T_8c517b81_8b4f_11eb_8642_9a764120fcf3row1_col1\" class=\"data row1 col1\" >0.803100</td>\n",
       "                        <td id=\"T_8c517b81_8b4f_11eb_8642_9a764120fcf3row1_col2\" class=\"data row1 col2\" >0.756800</td>\n",
       "                        <td id=\"T_8c517b81_8b4f_11eb_8642_9a764120fcf3row1_col3\" class=\"data row1 col3\" >0.768500</td>\n",
       "                        <td id=\"T_8c517b81_8b4f_11eb_8642_9a764120fcf3row1_col4\" class=\"data row1 col4\" >0.640600</td>\n",
       "                        <td id=\"T_8c517b81_8b4f_11eb_8642_9a764120fcf3row1_col5\" class=\"data row1 col5\" >227.433300</td>\n",
       "                        <td id=\"T_8c517b81_8b4f_11eb_8642_9a764120fcf3row1_col6\" class=\"data row1 col6\" >60.733300</td>\n",
       "                        <td id=\"T_8c517b81_8b4f_11eb_8642_9a764120fcf3row1_col7\" class=\"data row1 col7\" >64.366700</td>\n",
       "            </tr>\n",
       "            <tr>\n",
       "                        <th id=\"T_8c517b81_8b4f_11eb_8642_9a764120fcf3level0_row2\" class=\"row_heading level0 row2\" >T: 20</th>\n",
       "                        <td id=\"T_8c517b81_8b4f_11eb_8642_9a764120fcf3row2_col0\" class=\"data row2 col0\" >0.310000</td>\n",
       "                        <td id=\"T_8c517b81_8b4f_11eb_8642_9a764120fcf3row2_col1\" class=\"data row2 col1\" >0.785800</td>\n",
       "                        <td id=\"T_8c517b81_8b4f_11eb_8642_9a764120fcf3row2_col2\" class=\"data row2 col2\" >0.747300</td>\n",
       "                        <td id=\"T_8c517b81_8b4f_11eb_8642_9a764120fcf3row2_col3\" class=\"data row2 col3\" >0.758300</td>\n",
       "                        <td id=\"T_8c517b81_8b4f_11eb_8642_9a764120fcf3row2_col4\" class=\"data row2 col4\" >0.625100</td>\n",
       "                        <td id=\"T_8c517b81_8b4f_11eb_8642_9a764120fcf3row2_col5\" class=\"data row2 col5\" >220.533300</td>\n",
       "                        <td id=\"T_8c517b81_8b4f_11eb_8642_9a764120fcf3row2_col6\" class=\"data row2 col6\" >62.833300</td>\n",
       "                        <td id=\"T_8c517b81_8b4f_11eb_8642_9a764120fcf3row2_col7\" class=\"data row2 col7\" >71.266700</td>\n",
       "            </tr>\n",
       "    </tbody></table>"
      ],
      "text/plain": [
       "<pandas.io.formats.style.Styler at 0x18b0dcb65e0>"
      ]
     },
     "metadata": {},
     "output_type": "display_data"
    },
    {
     "data": {
      "text/markdown": [
       "### When optimizing the threshold on each song"
      ],
      "text/plain": [
       "<IPython.core.display.Markdown object>"
      ]
     },
     "metadata": {},
     "output_type": "display_data"
    },
    {
     "data": {
      "text/html": [
       "<style  type=\"text/css\" >\n",
       "    #T_8c530271_8b4f_11eb_91aa_9a764120fcf3row0_col2 {\n",
       "            width:  10em;\n",
       "             height:  80%;\n",
       "        }    #T_8c530271_8b4f_11eb_91aa_9a764120fcf3row0_col3 {\n",
       "            width:  10em;\n",
       "             height:  80%;\n",
       "        }    #T_8c530271_8b4f_11eb_91aa_9a764120fcf3row1_col2 {\n",
       "            width:  10em;\n",
       "             height:  80%;\n",
       "            background:  linear-gradient(90deg,#5fba7d 100.0%, transparent 100.0%);\n",
       "        }    #T_8c530271_8b4f_11eb_91aa_9a764120fcf3row1_col3 {\n",
       "            width:  10em;\n",
       "             height:  80%;\n",
       "            background:  linear-gradient(90deg,#5fba7d 100.0%, transparent 100.0%);\n",
       "        }    #T_8c530271_8b4f_11eb_91aa_9a764120fcf3row2_col2 {\n",
       "            width:  10em;\n",
       "             height:  80%;\n",
       "            background:  linear-gradient(90deg,#5fba7d 74.4%, transparent 74.4%);\n",
       "        }    #T_8c530271_8b4f_11eb_91aa_9a764120fcf3row2_col3 {\n",
       "            width:  10em;\n",
       "             height:  80%;\n",
       "            background:  linear-gradient(90deg,#5fba7d 72.3%, transparent 72.3%);\n",
       "        }</style><table id=\"T_8c530271_8b4f_11eb_91aa_9a764120fcf3\" ><thead>    <tr>        <th class=\"blank level0\" ></th>        <th class=\"col_heading level0 col0\" >Precision</th>        <th class=\"col_heading level0 col1\" >Recall</th>        <th class=\"col_heading level0 col2\" >F measure</th>        <th class=\"col_heading level0 col3\" >Accuracy</th>        <th class=\"col_heading level0 col4\" >True Positives</th>        <th class=\"col_heading level0 col5\" >False Positives</th>        <th class=\"col_heading level0 col6\" >False Negatives</th>    </tr></thead><tbody>\n",
       "                <tr>\n",
       "                        <th id=\"T_8c530271_8b4f_11eb_91aa_9a764120fcf3level0_row0\" class=\"row_heading level0 row0\" >T: 5</th>\n",
       "                        <td id=\"T_8c530271_8b4f_11eb_91aa_9a764120fcf3row0_col0\" class=\"data row0 col0\" >0.776500</td>\n",
       "                        <td id=\"T_8c530271_8b4f_11eb_91aa_9a764120fcf3row0_col1\" class=\"data row0 col1\" >0.703500</td>\n",
       "                        <td id=\"T_8c530271_8b4f_11eb_91aa_9a764120fcf3row0_col2\" class=\"data row0 col2\" >0.735600</td>\n",
       "                        <td id=\"T_8c530271_8b4f_11eb_91aa_9a764120fcf3row0_col3\" class=\"data row0 col3\" >0.593200</td>\n",
       "                        <td id=\"T_8c530271_8b4f_11eb_91aa_9a764120fcf3row0_col4\" class=\"data row0 col4\" >210.566700</td>\n",
       "                        <td id=\"T_8c530271_8b4f_11eb_91aa_9a764120fcf3row0_col5\" class=\"data row0 col5\" >57.833300</td>\n",
       "                        <td id=\"T_8c530271_8b4f_11eb_91aa_9a764120fcf3row0_col6\" class=\"data row0 col6\" >81.400000</td>\n",
       "            </tr>\n",
       "            <tr>\n",
       "                        <th id=\"T_8c530271_8b4f_11eb_91aa_9a764120fcf3level0_row1\" class=\"row_heading level0 row1\" >T: 10</th>\n",
       "                        <td id=\"T_8c530271_8b4f_11eb_91aa_9a764120fcf3row1_col0\" class=\"data row1 col0\" >0.837500</td>\n",
       "                        <td id=\"T_8c530271_8b4f_11eb_91aa_9a764120fcf3row1_col1\" class=\"data row1 col1\" >0.770600</td>\n",
       "                        <td id=\"T_8c530271_8b4f_11eb_91aa_9a764120fcf3row1_col2\" class=\"data row1 col2\" >0.800900</td>\n",
       "                        <td id=\"T_8c530271_8b4f_11eb_91aa_9a764120fcf3row1_col3\" class=\"data row1 col3\" >0.684800</td>\n",
       "                        <td id=\"T_8c530271_8b4f_11eb_91aa_9a764120fcf3row1_col4\" class=\"data row1 col4\" >227.066700</td>\n",
       "                        <td id=\"T_8c530271_8b4f_11eb_91aa_9a764120fcf3row1_col5\" class=\"data row1 col5\" >39.166700</td>\n",
       "                        <td id=\"T_8c530271_8b4f_11eb_91aa_9a764120fcf3row1_col6\" class=\"data row1 col6\" >64.733300</td>\n",
       "            </tr>\n",
       "            <tr>\n",
       "                        <th id=\"T_8c530271_8b4f_11eb_91aa_9a764120fcf3level0_row2\" class=\"row_heading level0 row2\" >T: 20</th>\n",
       "                        <td id=\"T_8c530271_8b4f_11eb_91aa_9a764120fcf3row2_col0\" class=\"data row2 col0\" >0.817800</td>\n",
       "                        <td id=\"T_8c530271_8b4f_11eb_91aa_9a764120fcf3row2_col1\" class=\"data row2 col1\" >0.760300</td>\n",
       "                        <td id=\"T_8c530271_8b4f_11eb_91aa_9a764120fcf3row2_col2\" class=\"data row2 col2\" >0.784200</td>\n",
       "                        <td id=\"T_8c530271_8b4f_11eb_91aa_9a764120fcf3row2_col3\" class=\"data row2 col3\" >0.659400</td>\n",
       "                        <td id=\"T_8c530271_8b4f_11eb_91aa_9a764120fcf3row2_col4\" class=\"data row2 col4\" >222.366700</td>\n",
       "                        <td id=\"T_8c530271_8b4f_11eb_91aa_9a764120fcf3row2_col5\" class=\"data row2 col5\" >52.966700</td>\n",
       "                        <td id=\"T_8c530271_8b4f_11eb_91aa_9a764120fcf3row2_col6\" class=\"data row2 col6\" >69.433300</td>\n",
       "            </tr>\n",
       "    </tbody></table>"
      ],
      "text/plain": [
       "<pandas.io.formats.style.Styler at 0x18b0d165d00>"
      ]
     },
     "metadata": {},
     "output_type": "display_data"
    },
    {
     "data": {
      "text/markdown": [
       "## Piano: SptkBGAm"
      ],
      "text/plain": [
       "<IPython.core.display.Markdown object>"
      ]
     },
     "metadata": {},
     "output_type": "display_data"
    },
    {
     "data": {
      "text/markdown": [
       "### When averaging each threshold on all MAPS"
      ],
      "text/plain": [
       "<IPython.core.display.Markdown object>"
      ]
     },
     "metadata": {},
     "output_type": "display_data"
    },
    {
     "data": {
      "text/html": [
       "<style  type=\"text/css\" >\n",
       "    #T_c3b521f5_8b50_11eb_8a57_9a764120fcf3row0_col3 {\n",
       "            width:  10em;\n",
       "             height:  80%;\n",
       "        }    #T_c3b521f5_8b50_11eb_8a57_9a764120fcf3row0_col4 {\n",
       "            width:  10em;\n",
       "             height:  80%;\n",
       "        }    #T_c3b521f5_8b50_11eb_8a57_9a764120fcf3row1_col3 {\n",
       "            width:  10em;\n",
       "             height:  80%;\n",
       "            background:  linear-gradient(90deg,#5fba7d 87.9%, transparent 87.9%);\n",
       "        }    #T_c3b521f5_8b50_11eb_8a57_9a764120fcf3row1_col4 {\n",
       "            width:  10em;\n",
       "             height:  80%;\n",
       "            background:  linear-gradient(90deg,#5fba7d 88.8%, transparent 88.8%);\n",
       "        }    #T_c3b521f5_8b50_11eb_8a57_9a764120fcf3row2_col3 {\n",
       "            width:  10em;\n",
       "             height:  80%;\n",
       "            background:  linear-gradient(90deg,#5fba7d 100.0%, transparent 100.0%);\n",
       "        }    #T_c3b521f5_8b50_11eb_8a57_9a764120fcf3row2_col4 {\n",
       "            width:  10em;\n",
       "             height:  80%;\n",
       "            background:  linear-gradient(90deg,#5fba7d 100.0%, transparent 100.0%);\n",
       "        }</style><table id=\"T_c3b521f5_8b50_11eb_8a57_9a764120fcf3\" ><thead>    <tr>        <th class=\"blank level0\" ></th>        <th class=\"col_heading level0 col0\" >Best threshold</th>        <th class=\"col_heading level0 col1\" >Precision</th>        <th class=\"col_heading level0 col2\" >Recall</th>        <th class=\"col_heading level0 col3\" >F measure</th>        <th class=\"col_heading level0 col4\" >Accuracy</th>        <th class=\"col_heading level0 col5\" >True Positives</th>        <th class=\"col_heading level0 col6\" >False Positives</th>        <th class=\"col_heading level0 col7\" >False Negatives</th>    </tr></thead><tbody>\n",
       "                <tr>\n",
       "                        <th id=\"T_c3b521f5_8b50_11eb_8a57_9a764120fcf3level0_row0\" class=\"row_heading level0 row0\" >T: 5</th>\n",
       "                        <td id=\"T_c3b521f5_8b50_11eb_8a57_9a764120fcf3row0_col0\" class=\"data row0 col0\" >0.090000</td>\n",
       "                        <td id=\"T_c3b521f5_8b50_11eb_8a57_9a764120fcf3row0_col1\" class=\"data row0 col1\" >0.847000</td>\n",
       "                        <td id=\"T_c3b521f5_8b50_11eb_8a57_9a764120fcf3row0_col2\" class=\"data row0 col2\" >0.817000</td>\n",
       "                        <td id=\"T_c3b521f5_8b50_11eb_8a57_9a764120fcf3row0_col3\" class=\"data row0 col3\" >0.812100</td>\n",
       "                        <td id=\"T_c3b521f5_8b50_11eb_8a57_9a764120fcf3row0_col4\" class=\"data row0 col4\" >0.701200</td>\n",
       "                        <td id=\"T_c3b521f5_8b50_11eb_8a57_9a764120fcf3row0_col5\" class=\"data row0 col5\" >223.366700</td>\n",
       "                        <td id=\"T_c3b521f5_8b50_11eb_8a57_9a764120fcf3row0_col6\" class=\"data row0 col6\" >70.666700</td>\n",
       "                        <td id=\"T_c3b521f5_8b50_11eb_8a57_9a764120fcf3row0_col7\" class=\"data row0 col7\" >45.600000</td>\n",
       "            </tr>\n",
       "            <tr>\n",
       "                        <th id=\"T_c3b521f5_8b50_11eb_8a57_9a764120fcf3level0_row1\" class=\"row_heading level0 row1\" >T: 10</th>\n",
       "                        <td id=\"T_c3b521f5_8b50_11eb_8a57_9a764120fcf3row1_col0\" class=\"data row1 col0\" >0.130000</td>\n",
       "                        <td id=\"T_c3b521f5_8b50_11eb_8a57_9a764120fcf3row1_col1\" class=\"data row1 col1\" >0.909200</td>\n",
       "                        <td id=\"T_c3b521f5_8b50_11eb_8a57_9a764120fcf3row1_col2\" class=\"data row1 col2\" >0.893800</td>\n",
       "                        <td id=\"T_c3b521f5_8b50_11eb_8a57_9a764120fcf3row1_col3\" class=\"data row1 col3\" >0.893500</td>\n",
       "                        <td id=\"T_c3b521f5_8b50_11eb_8a57_9a764120fcf3row1_col4\" class=\"data row1 col4\" >0.818600</td>\n",
       "                        <td id=\"T_c3b521f5_8b50_11eb_8a57_9a764120fcf3row1_col5\" class=\"data row1 col5\" >241.133300</td>\n",
       "                        <td id=\"T_c3b521f5_8b50_11eb_8a57_9a764120fcf3row1_col6\" class=\"data row1 col6\" >40.066700</td>\n",
       "                        <td id=\"T_c3b521f5_8b50_11eb_8a57_9a764120fcf3row1_col7\" class=\"data row1 col7\" >28.000000</td>\n",
       "            </tr>\n",
       "            <tr>\n",
       "                        <th id=\"T_c3b521f5_8b50_11eb_8a57_9a764120fcf3level0_row2\" class=\"row_heading level0 row2\" >T: 20</th>\n",
       "                        <td id=\"T_c3b521f5_8b50_11eb_8a57_9a764120fcf3row2_col0\" class=\"data row2 col0\" >0.210000</td>\n",
       "                        <td id=\"T_c3b521f5_8b50_11eb_8a57_9a764120fcf3row2_col1\" class=\"data row2 col1\" >0.921800</td>\n",
       "                        <td id=\"T_c3b521f5_8b50_11eb_8a57_9a764120fcf3row2_col2\" class=\"data row2 col2\" >0.895500</td>\n",
       "                        <td id=\"T_c3b521f5_8b50_11eb_8a57_9a764120fcf3row2_col3\" class=\"data row2 col3\" >0.904700</td>\n",
       "                        <td id=\"T_c3b521f5_8b50_11eb_8a57_9a764120fcf3row2_col4\" class=\"data row2 col4\" >0.833400</td>\n",
       "                        <td id=\"T_c3b521f5_8b50_11eb_8a57_9a764120fcf3row2_col5\" class=\"data row2 col5\" >239.733300</td>\n",
       "                        <td id=\"T_c3b521f5_8b50_11eb_8a57_9a764120fcf3row2_col6\" class=\"data row2 col6\" >26.700000</td>\n",
       "                        <td id=\"T_c3b521f5_8b50_11eb_8a57_9a764120fcf3row2_col7\" class=\"data row2 col7\" >29.200000</td>\n",
       "            </tr>\n",
       "    </tbody></table>"
      ],
      "text/plain": [
       "<pandas.io.formats.style.Styler at 0x18b0dbc8ee0>"
      ]
     },
     "metadata": {},
     "output_type": "display_data"
    },
    {
     "data": {
      "text/markdown": [
       "### When optimizing the threshold on each song"
      ],
      "text/plain": [
       "<IPython.core.display.Markdown object>"
      ]
     },
     "metadata": {},
     "output_type": "display_data"
    },
    {
     "data": {
      "text/html": [
       "<style  type=\"text/css\" >\n",
       "    #T_c3b6f585_8b50_11eb_871a_9a764120fcf3row0_col2 {\n",
       "            width:  10em;\n",
       "             height:  80%;\n",
       "        }    #T_c3b6f585_8b50_11eb_871a_9a764120fcf3row0_col3 {\n",
       "            width:  10em;\n",
       "             height:  80%;\n",
       "        }    #T_c3b6f585_8b50_11eb_871a_9a764120fcf3row1_col2 {\n",
       "            width:  10em;\n",
       "             height:  80%;\n",
       "            background:  linear-gradient(90deg,#5fba7d 100.0%, transparent 100.0%);\n",
       "        }    #T_c3b6f585_8b50_11eb_871a_9a764120fcf3row1_col3 {\n",
       "            width:  10em;\n",
       "             height:  80%;\n",
       "            background:  linear-gradient(90deg,#5fba7d 100.0%, transparent 100.0%);\n",
       "        }    #T_c3b6f585_8b50_11eb_871a_9a764120fcf3row2_col2 {\n",
       "            width:  10em;\n",
       "             height:  80%;\n",
       "            background:  linear-gradient(90deg,#5fba7d 97.0%, transparent 97.0%);\n",
       "        }    #T_c3b6f585_8b50_11eb_871a_9a764120fcf3row2_col3 {\n",
       "            width:  10em;\n",
       "             height:  80%;\n",
       "            background:  linear-gradient(90deg,#5fba7d 95.9%, transparent 95.9%);\n",
       "        }</style><table id=\"T_c3b6f585_8b50_11eb_871a_9a764120fcf3\" ><thead>    <tr>        <th class=\"blank level0\" ></th>        <th class=\"col_heading level0 col0\" >Precision</th>        <th class=\"col_heading level0 col1\" >Recall</th>        <th class=\"col_heading level0 col2\" >F measure</th>        <th class=\"col_heading level0 col3\" >Accuracy</th>        <th class=\"col_heading level0 col4\" >True Positives</th>        <th class=\"col_heading level0 col5\" >False Positives</th>        <th class=\"col_heading level0 col6\" >False Negatives</th>    </tr></thead><tbody>\n",
       "                <tr>\n",
       "                        <th id=\"T_c3b6f585_8b50_11eb_871a_9a764120fcf3level0_row0\" class=\"row_heading level0 row0\" >T: 5</th>\n",
       "                        <td id=\"T_c3b6f585_8b50_11eb_871a_9a764120fcf3row0_col0\" class=\"data row0 col0\" >0.871400</td>\n",
       "                        <td id=\"T_c3b6f585_8b50_11eb_871a_9a764120fcf3row0_col1\" class=\"data row0 col1\" >0.856300</td>\n",
       "                        <td id=\"T_c3b6f585_8b50_11eb_871a_9a764120fcf3row0_col2\" class=\"data row0 col2\" >0.862300</td>\n",
       "                        <td id=\"T_c3b6f585_8b50_11eb_871a_9a764120fcf3row0_col3\" class=\"data row0 col3\" >0.767400</td>\n",
       "                        <td id=\"T_c3b6f585_8b50_11eb_871a_9a764120fcf3row0_col4\" class=\"data row0 col4\" >226.566700</td>\n",
       "                        <td id=\"T_c3b6f585_8b50_11eb_871a_9a764120fcf3row0_col5\" class=\"data row0 col5\" >37.933300</td>\n",
       "                        <td id=\"T_c3b6f585_8b50_11eb_871a_9a764120fcf3row0_col6\" class=\"data row0 col6\" >42.500000</td>\n",
       "            </tr>\n",
       "            <tr>\n",
       "                        <th id=\"T_c3b6f585_8b50_11eb_871a_9a764120fcf3level0_row1\" class=\"row_heading level0 row1\" >T: 10</th>\n",
       "                        <td id=\"T_c3b6f585_8b50_11eb_871a_9a764120fcf3row1_col0\" class=\"data row1 col0\" >0.939500</td>\n",
       "                        <td id=\"T_c3b6f585_8b50_11eb_871a_9a764120fcf3row1_col1\" class=\"data row1 col1\" >0.915200</td>\n",
       "                        <td id=\"T_c3b6f585_8b50_11eb_871a_9a764120fcf3row1_col2\" class=\"data row1 col2\" >0.926700</td>\n",
       "                        <td id=\"T_c3b6f585_8b50_11eb_871a_9a764120fcf3row1_col3\" class=\"data row1 col3\" >0.870300</td>\n",
       "                        <td id=\"T_c3b6f585_8b50_11eb_871a_9a764120fcf3row1_col4\" class=\"data row1 col4\" >244.100000</td>\n",
       "                        <td id=\"T_c3b6f585_8b50_11eb_871a_9a764120fcf3row1_col5\" class=\"data row1 col5\" >17.700000</td>\n",
       "                        <td id=\"T_c3b6f585_8b50_11eb_871a_9a764120fcf3row1_col6\" class=\"data row1 col6\" >24.833300</td>\n",
       "            </tr>\n",
       "            <tr>\n",
       "                        <th id=\"T_c3b6f585_8b50_11eb_871a_9a764120fcf3level0_row2\" class=\"row_heading level0 row2\" >T: 20</th>\n",
       "                        <td id=\"T_c3b6f585_8b50_11eb_871a_9a764120fcf3row2_col0\" class=\"data row2 col0\" >0.939600</td>\n",
       "                        <td id=\"T_c3b6f585_8b50_11eb_871a_9a764120fcf3row2_col1\" class=\"data row2 col1\" >0.911600</td>\n",
       "                        <td id=\"T_c3b6f585_8b50_11eb_871a_9a764120fcf3row2_col2\" class=\"data row2 col2\" >0.924800</td>\n",
       "                        <td id=\"T_c3b6f585_8b50_11eb_871a_9a764120fcf3row2_col3\" class=\"data row2 col3\" >0.866100</td>\n",
       "                        <td id=\"T_c3b6f585_8b50_11eb_871a_9a764120fcf3row2_col4\" class=\"data row2 col4\" >243.200000</td>\n",
       "                        <td id=\"T_c3b6f585_8b50_11eb_871a_9a764120fcf3row2_col5\" class=\"data row2 col5\" >16.700000</td>\n",
       "                        <td id=\"T_c3b6f585_8b50_11eb_871a_9a764120fcf3row2_col6\" class=\"data row2 col6\" >25.833300</td>\n",
       "            </tr>\n",
       "    </tbody></table>"
      ],
      "text/plain": [
       "<pandas.io.formats.style.Styler at 0x18b0cfd7d30>"
      ]
     },
     "metadata": {},
     "output_type": "display_data"
    },
    {
     "data": {
      "text/markdown": [
       "## Piano: StbgTGd2"
      ],
      "text/plain": [
       "<IPython.core.display.Markdown object>"
      ]
     },
     "metadata": {},
     "output_type": "display_data"
    },
    {
     "data": {
      "text/markdown": [
       "### When averaging each threshold on all MAPS"
      ],
      "text/plain": [
       "<IPython.core.display.Markdown object>"
      ]
     },
     "metadata": {},
     "output_type": "display_data"
    },
    {
     "data": {
      "text/html": [
       "<style  type=\"text/css\" >\n",
       "    #T_ecb1b54d_8b51_11eb_8277_9a764120fcf3row0_col3 {\n",
       "            width:  10em;\n",
       "             height:  80%;\n",
       "        }    #T_ecb1b54d_8b51_11eb_8277_9a764120fcf3row0_col4 {\n",
       "            width:  10em;\n",
       "             height:  80%;\n",
       "        }    #T_ecb1b54d_8b51_11eb_8277_9a764120fcf3row1_col3 {\n",
       "            width:  10em;\n",
       "             height:  80%;\n",
       "            background:  linear-gradient(90deg,#5fba7d 85.4%, transparent 85.4%);\n",
       "        }    #T_ecb1b54d_8b51_11eb_8277_9a764120fcf3row1_col4 {\n",
       "            width:  10em;\n",
       "             height:  80%;\n",
       "            background:  linear-gradient(90deg,#5fba7d 86.0%, transparent 86.0%);\n",
       "        }    #T_ecb1b54d_8b51_11eb_8277_9a764120fcf3row2_col3 {\n",
       "            width:  10em;\n",
       "             height:  80%;\n",
       "            background:  linear-gradient(90deg,#5fba7d 100.0%, transparent 100.0%);\n",
       "        }    #T_ecb1b54d_8b51_11eb_8277_9a764120fcf3row2_col4 {\n",
       "            width:  10em;\n",
       "             height:  80%;\n",
       "            background:  linear-gradient(90deg,#5fba7d 100.0%, transparent 100.0%);\n",
       "        }</style><table id=\"T_ecb1b54d_8b51_11eb_8277_9a764120fcf3\" ><thead>    <tr>        <th class=\"blank level0\" ></th>        <th class=\"col_heading level0 col0\" >Best threshold</th>        <th class=\"col_heading level0 col1\" >Precision</th>        <th class=\"col_heading level0 col2\" >Recall</th>        <th class=\"col_heading level0 col3\" >F measure</th>        <th class=\"col_heading level0 col4\" >Accuracy</th>        <th class=\"col_heading level0 col5\" >True Positives</th>        <th class=\"col_heading level0 col6\" >False Positives</th>        <th class=\"col_heading level0 col7\" >False Negatives</th>    </tr></thead><tbody>\n",
       "                <tr>\n",
       "                        <th id=\"T_ecb1b54d_8b51_11eb_8277_9a764120fcf3level0_row0\" class=\"row_heading level0 row0\" >T: 5</th>\n",
       "                        <td id=\"T_ecb1b54d_8b51_11eb_8277_9a764120fcf3row0_col0\" class=\"data row0 col0\" >0.050000</td>\n",
       "                        <td id=\"T_ecb1b54d_8b51_11eb_8277_9a764120fcf3row0_col1\" class=\"data row0 col1\" >0.822500</td>\n",
       "                        <td id=\"T_ecb1b54d_8b51_11eb_8277_9a764120fcf3row0_col2\" class=\"data row0 col2\" >0.740800</td>\n",
       "                        <td id=\"T_ecb1b54d_8b51_11eb_8277_9a764120fcf3row0_col3\" class=\"data row0 col3\" >0.748900</td>\n",
       "                        <td id=\"T_ecb1b54d_8b51_11eb_8277_9a764120fcf3row0_col4\" class=\"data row0 col4\" >0.614800</td>\n",
       "                        <td id=\"T_ecb1b54d_8b51_11eb_8277_9a764120fcf3row0_col5\" class=\"data row0 col5\" >184.300000</td>\n",
       "                        <td id=\"T_ecb1b54d_8b51_11eb_8277_9a764120fcf3row0_col6\" class=\"data row0 col6\" >65.400000</td>\n",
       "                        <td id=\"T_ecb1b54d_8b51_11eb_8277_9a764120fcf3row0_col7\" class=\"data row0 col7\" >60.533300</td>\n",
       "            </tr>\n",
       "            <tr>\n",
       "                        <th id=\"T_ecb1b54d_8b51_11eb_8277_9a764120fcf3level0_row1\" class=\"row_heading level0 row1\" >T: 10</th>\n",
       "                        <td id=\"T_ecb1b54d_8b51_11eb_8277_9a764120fcf3row1_col0\" class=\"data row1 col0\" >0.070000</td>\n",
       "                        <td id=\"T_ecb1b54d_8b51_11eb_8277_9a764120fcf3row1_col1\" class=\"data row1 col1\" >0.887700</td>\n",
       "                        <td id=\"T_ecb1b54d_8b51_11eb_8277_9a764120fcf3row1_col2\" class=\"data row1 col2\" >0.832400</td>\n",
       "                        <td id=\"T_ecb1b54d_8b51_11eb_8277_9a764120fcf3row1_col3\" class=\"data row1 col3\" >0.843800</td>\n",
       "                        <td id=\"T_ecb1b54d_8b51_11eb_8277_9a764120fcf3row1_col4\" class=\"data row1 col4\" >0.744100</td>\n",
       "                        <td id=\"T_ecb1b54d_8b51_11eb_8277_9a764120fcf3row1_col5\" class=\"data row1 col5\" >204.766700</td>\n",
       "                        <td id=\"T_ecb1b54d_8b51_11eb_8277_9a764120fcf3row1_col6\" class=\"data row1 col6\" >41.400000</td>\n",
       "                        <td id=\"T_ecb1b54d_8b51_11eb_8277_9a764120fcf3row1_col7\" class=\"data row1 col7\" >40.100000</td>\n",
       "            </tr>\n",
       "            <tr>\n",
       "                        <th id=\"T_ecb1b54d_8b51_11eb_8277_9a764120fcf3level0_row2\" class=\"row_heading level0 row2\" >T: 20</th>\n",
       "                        <td id=\"T_ecb1b54d_8b51_11eb_8277_9a764120fcf3row2_col0\" class=\"data row2 col0\" >0.110000</td>\n",
       "                        <td id=\"T_ecb1b54d_8b51_11eb_8277_9a764120fcf3row2_col1\" class=\"data row2 col1\" >0.880400</td>\n",
       "                        <td id=\"T_ecb1b54d_8b51_11eb_8277_9a764120fcf3row2_col2\" class=\"data row2 col2\" >0.858900</td>\n",
       "                        <td id=\"T_ecb1b54d_8b51_11eb_8277_9a764120fcf3row2_col3\" class=\"data row2 col3\" >0.860000</td>\n",
       "                        <td id=\"T_ecb1b54d_8b51_11eb_8277_9a764120fcf3row2_col4\" class=\"data row2 col4\" >0.765200</td>\n",
       "                        <td id=\"T_ecb1b54d_8b51_11eb_8277_9a764120fcf3row2_col5\" class=\"data row2 col5\" >207.166700</td>\n",
       "                        <td id=\"T_ecb1b54d_8b51_11eb_8277_9a764120fcf3row2_col6\" class=\"data row2 col6\" >38.866700</td>\n",
       "                        <td id=\"T_ecb1b54d_8b51_11eb_8277_9a764120fcf3row2_col7\" class=\"data row2 col7\" >37.733300</td>\n",
       "            </tr>\n",
       "    </tbody></table>"
      ],
      "text/plain": [
       "<pandas.io.formats.style.Styler at 0x18b0de46cd0>"
      ]
     },
     "metadata": {},
     "output_type": "display_data"
    },
    {
     "data": {
      "text/markdown": [
       "### When optimizing the threshold on each song"
      ],
      "text/plain": [
       "<IPython.core.display.Markdown object>"
      ]
     },
     "metadata": {},
     "output_type": "display_data"
    },
    {
     "data": {
      "text/html": [
       "<style  type=\"text/css\" >\n",
       "    #T_ecb33adb_8b51_11eb_86a7_9a764120fcf3row0_col2 {\n",
       "            width:  10em;\n",
       "             height:  80%;\n",
       "        }    #T_ecb33adb_8b51_11eb_86a7_9a764120fcf3row0_col3 {\n",
       "            width:  10em;\n",
       "             height:  80%;\n",
       "        }    #T_ecb33adb_8b51_11eb_86a7_9a764120fcf3row1_col2 {\n",
       "            width:  10em;\n",
       "             height:  80%;\n",
       "            background:  linear-gradient(90deg,#5fba7d 91.9%, transparent 91.9%);\n",
       "        }    #T_ecb33adb_8b51_11eb_86a7_9a764120fcf3row1_col3 {\n",
       "            width:  10em;\n",
       "             height:  80%;\n",
       "            background:  linear-gradient(90deg,#5fba7d 93.8%, transparent 93.8%);\n",
       "        }    #T_ecb33adb_8b51_11eb_86a7_9a764120fcf3row2_col2 {\n",
       "            width:  10em;\n",
       "             height:  80%;\n",
       "            background:  linear-gradient(90deg,#5fba7d 100.0%, transparent 100.0%);\n",
       "        }    #T_ecb33adb_8b51_11eb_86a7_9a764120fcf3row2_col3 {\n",
       "            width:  10em;\n",
       "             height:  80%;\n",
       "            background:  linear-gradient(90deg,#5fba7d 100.0%, transparent 100.0%);\n",
       "        }</style><table id=\"T_ecb33adb_8b51_11eb_86a7_9a764120fcf3\" ><thead>    <tr>        <th class=\"blank level0\" ></th>        <th class=\"col_heading level0 col0\" >Precision</th>        <th class=\"col_heading level0 col1\" >Recall</th>        <th class=\"col_heading level0 col2\" >F measure</th>        <th class=\"col_heading level0 col3\" >Accuracy</th>        <th class=\"col_heading level0 col4\" >True Positives</th>        <th class=\"col_heading level0 col5\" >False Positives</th>        <th class=\"col_heading level0 col6\" >False Negatives</th>    </tr></thead><tbody>\n",
       "                <tr>\n",
       "                        <th id=\"T_ecb33adb_8b51_11eb_86a7_9a764120fcf3level0_row0\" class=\"row_heading level0 row0\" >T: 5</th>\n",
       "                        <td id=\"T_ecb33adb_8b51_11eb_86a7_9a764120fcf3row0_col0\" class=\"data row0 col0\" >0.829600</td>\n",
       "                        <td id=\"T_ecb33adb_8b51_11eb_86a7_9a764120fcf3row0_col1\" class=\"data row0 col1\" >0.803700</td>\n",
       "                        <td id=\"T_ecb33adb_8b51_11eb_86a7_9a764120fcf3row0_col2\" class=\"data row0 col2\" >0.811000</td>\n",
       "                        <td id=\"T_ecb33adb_8b51_11eb_86a7_9a764120fcf3row0_col3\" class=\"data row0 col3\" >0.692000</td>\n",
       "                        <td id=\"T_ecb33adb_8b51_11eb_86a7_9a764120fcf3row0_col4\" class=\"data row0 col4\" >198.300000</td>\n",
       "                        <td id=\"T_ecb33adb_8b51_11eb_86a7_9a764120fcf3row0_col5\" class=\"data row0 col5\" >43.166700</td>\n",
       "                        <td id=\"T_ecb33adb_8b51_11eb_86a7_9a764120fcf3row0_col6\" class=\"data row0 col6\" >46.433300</td>\n",
       "            </tr>\n",
       "            <tr>\n",
       "                        <th id=\"T_ecb33adb_8b51_11eb_86a7_9a764120fcf3level0_row1\" class=\"row_heading level0 row1\" >T: 10</th>\n",
       "                        <td id=\"T_ecb33adb_8b51_11eb_86a7_9a764120fcf3row1_col0\" class=\"data row1 col0\" >0.907300</td>\n",
       "                        <td id=\"T_ecb33adb_8b51_11eb_86a7_9a764120fcf3row1_col1\" class=\"data row1 col1\" >0.870400</td>\n",
       "                        <td id=\"T_ecb33adb_8b51_11eb_86a7_9a764120fcf3row1_col2\" class=\"data row1 col2\" >0.886700</td>\n",
       "                        <td id=\"T_ecb33adb_8b51_11eb_86a7_9a764120fcf3row1_col3\" class=\"data row1 col3\" >0.806400</td>\n",
       "                        <td id=\"T_ecb33adb_8b51_11eb_86a7_9a764120fcf3row1_col4\" class=\"data row1 col4\" >212.900000</td>\n",
       "                        <td id=\"T_ecb33adb_8b51_11eb_86a7_9a764120fcf3row1_col5\" class=\"data row1 col5\" >19.533300</td>\n",
       "                        <td id=\"T_ecb33adb_8b51_11eb_86a7_9a764120fcf3row1_col6\" class=\"data row1 col6\" >32.066700</td>\n",
       "            </tr>\n",
       "            <tr>\n",
       "                        <th id=\"T_ecb33adb_8b51_11eb_86a7_9a764120fcf3level0_row2\" class=\"row_heading level0 row2\" >T: 20</th>\n",
       "                        <td id=\"T_ecb33adb_8b51_11eb_86a7_9a764120fcf3row2_col0\" class=\"data row2 col0\" >0.908300</td>\n",
       "                        <td id=\"T_ecb33adb_8b51_11eb_86a7_9a764120fcf3row2_col1\" class=\"data row2 col1\" >0.881600</td>\n",
       "                        <td id=\"T_ecb33adb_8b51_11eb_86a7_9a764120fcf3row2_col2\" class=\"data row2 col2\" >0.893400</td>\n",
       "                        <td id=\"T_ecb33adb_8b51_11eb_86a7_9a764120fcf3row2_col3\" class=\"data row2 col3\" >0.813900</td>\n",
       "                        <td id=\"T_ecb33adb_8b51_11eb_86a7_9a764120fcf3row2_col4\" class=\"data row2 col4\" >213.366700</td>\n",
       "                        <td id=\"T_ecb33adb_8b51_11eb_86a7_9a764120fcf3row2_col5\" class=\"data row2 col5\" >20.933300</td>\n",
       "                        <td id=\"T_ecb33adb_8b51_11eb_86a7_9a764120fcf3row2_col6\" class=\"data row2 col6\" >31.666700</td>\n",
       "            </tr>\n",
       "    </tbody></table>"
      ],
      "text/plain": [
       "<pandas.io.formats.style.Styler at 0x18b0dc60a30>"
      ]
     },
     "metadata": {},
     "output_type": "display_data"
    }
   ],
   "source": [
    "for piano_type in [\"AkPnCGdD\",\"ENSTDkCl\",\"AkPnBcht\",\"AkPnBsdf\",\"AkPnStgb\",\"ENSTDkAm\",\"SptkBGAm\",\"StbgTGd2\"]:\n",
    "    try:\n",
    "        compute_scores_database(piano_type, H_normalization = False, adaptative_threshold = True)\n",
    "    except IndexError:\n",
    "        print(\"We have to compute this piano at these conditions (piano {}, T = 5, 10, 20, tol = 1e-8 and itmax = 100).\".format(piano_type))"
   ]
  },
  {
   "cell_type": "markdown",
   "metadata": {},
   "source": [
    "# Avec normalisation sur H"
   ]
  },
  {
   "cell_type": "code",
   "execution_count": 4,
   "metadata": {
    "ExecuteTime": {
     "end_time": "2021-03-22T22:02:27.093735Z",
     "start_time": "2021-03-22T21:02:34.502210Z"
    },
    "scrolled": false
   },
   "outputs": [
    {
     "data": {
      "text/markdown": [
       "## Piano: AkPnCGdD"
      ],
      "text/plain": [
       "<IPython.core.display.Markdown object>"
      ]
     },
     "metadata": {},
     "output_type": "display_data"
    },
    {
     "data": {
      "text/markdown": [
       "### When averaging each threshold on all MAPS"
      ],
      "text/plain": [
       "<IPython.core.display.Markdown object>"
      ]
     },
     "metadata": {},
     "output_type": "display_data"
    },
    {
     "data": {
      "text/html": [
       "<style  type=\"text/css\" >\n",
       "    #T_f5ff00dd_8b52_11eb_800f_9a764120fcf3row0_col3 {\n",
       "            width:  10em;\n",
       "             height:  80%;\n",
       "        }    #T_f5ff00dd_8b52_11eb_800f_9a764120fcf3row0_col4 {\n",
       "            width:  10em;\n",
       "             height:  80%;\n",
       "        }    #T_f5ff00dd_8b52_11eb_800f_9a764120fcf3row1_col3 {\n",
       "            width:  10em;\n",
       "             height:  80%;\n",
       "            background:  linear-gradient(90deg,#5fba7d 100.0%, transparent 100.0%);\n",
       "        }    #T_f5ff00dd_8b52_11eb_800f_9a764120fcf3row1_col4 {\n",
       "            width:  10em;\n",
       "             height:  80%;\n",
       "            background:  linear-gradient(90deg,#5fba7d 100.0%, transparent 100.0%);\n",
       "        }    #T_f5ff00dd_8b52_11eb_800f_9a764120fcf3row2_col3 {\n",
       "            width:  10em;\n",
       "             height:  80%;\n",
       "            background:  linear-gradient(90deg,#5fba7d 72.6%, transparent 72.6%);\n",
       "        }    #T_f5ff00dd_8b52_11eb_800f_9a764120fcf3row2_col4 {\n",
       "            width:  10em;\n",
       "             height:  80%;\n",
       "            background:  linear-gradient(90deg,#5fba7d 74.4%, transparent 74.4%);\n",
       "        }</style><table id=\"T_f5ff00dd_8b52_11eb_800f_9a764120fcf3\" ><thead>    <tr>        <th class=\"blank level0\" ></th>        <th class=\"col_heading level0 col0\" >Best threshold</th>        <th class=\"col_heading level0 col1\" >Precision</th>        <th class=\"col_heading level0 col2\" >Recall</th>        <th class=\"col_heading level0 col3\" >F measure</th>        <th class=\"col_heading level0 col4\" >Accuracy</th>        <th class=\"col_heading level0 col5\" >True Positives</th>        <th class=\"col_heading level0 col6\" >False Positives</th>        <th class=\"col_heading level0 col7\" >False Negatives</th>    </tr></thead><tbody>\n",
       "                <tr>\n",
       "                        <th id=\"T_f5ff00dd_8b52_11eb_800f_9a764120fcf3level0_row0\" class=\"row_heading level0 row0\" >T: 5</th>\n",
       "                        <td id=\"T_f5ff00dd_8b52_11eb_800f_9a764120fcf3row0_col0\" class=\"data row0 col0\" >0.370000</td>\n",
       "                        <td id=\"T_f5ff00dd_8b52_11eb_800f_9a764120fcf3row0_col1\" class=\"data row0 col1\" >0.896700</td>\n",
       "                        <td id=\"T_f5ff00dd_8b52_11eb_800f_9a764120fcf3row0_col2\" class=\"data row0 col2\" >0.826700</td>\n",
       "                        <td id=\"T_f5ff00dd_8b52_11eb_800f_9a764120fcf3row0_col3\" class=\"data row0 col3\" >0.855300</td>\n",
       "                        <td id=\"T_f5ff00dd_8b52_11eb_800f_9a764120fcf3row0_col4\" class=\"data row0 col4\" >0.753700</td>\n",
       "                        <td id=\"T_f5ff00dd_8b52_11eb_800f_9a764120fcf3row0_col5\" class=\"data row0 col5\" >203.833300</td>\n",
       "                        <td id=\"T_f5ff00dd_8b52_11eb_800f_9a764120fcf3row0_col6\" class=\"data row0 col6\" >20.266700</td>\n",
       "                        <td id=\"T_f5ff00dd_8b52_11eb_800f_9a764120fcf3row0_col7\" class=\"data row0 col7\" >47.533300</td>\n",
       "            </tr>\n",
       "            <tr>\n",
       "                        <th id=\"T_f5ff00dd_8b52_11eb_800f_9a764120fcf3level0_row1\" class=\"row_heading level0 row1\" >T: 10</th>\n",
       "                        <td id=\"T_f5ff00dd_8b52_11eb_800f_9a764120fcf3row1_col0\" class=\"data row1 col0\" >0.430000</td>\n",
       "                        <td id=\"T_f5ff00dd_8b52_11eb_800f_9a764120fcf3row1_col1\" class=\"data row1 col1\" >0.948200</td>\n",
       "                        <td id=\"T_f5ff00dd_8b52_11eb_800f_9a764120fcf3row1_col2\" class=\"data row1 col2\" >0.905000</td>\n",
       "                        <td id=\"T_f5ff00dd_8b52_11eb_800f_9a764120fcf3row1_col3\" class=\"data row1 col3\" >0.923800</td>\n",
       "                        <td id=\"T_f5ff00dd_8b52_11eb_800f_9a764120fcf3row1_col4\" class=\"data row1 col4\" >0.865800</td>\n",
       "                        <td id=\"T_f5ff00dd_8b52_11eb_800f_9a764120fcf3row1_col5\" class=\"data row1 col5\" >223.300000</td>\n",
       "                        <td id=\"T_f5ff00dd_8b52_11eb_800f_9a764120fcf3row1_col6\" class=\"data row1 col6\" >9.666700</td>\n",
       "                        <td id=\"T_f5ff00dd_8b52_11eb_800f_9a764120fcf3row1_col7\" class=\"data row1 col7\" >27.966700</td>\n",
       "            </tr>\n",
       "            <tr>\n",
       "                        <th id=\"T_f5ff00dd_8b52_11eb_800f_9a764120fcf3level0_row2\" class=\"row_heading level0 row2\" >T: 20</th>\n",
       "                        <td id=\"T_f5ff00dd_8b52_11eb_800f_9a764120fcf3row2_col0\" class=\"data row2 col0\" >0.510000</td>\n",
       "                        <td id=\"T_f5ff00dd_8b52_11eb_800f_9a764120fcf3row2_col1\" class=\"data row2 col1\" >0.921900</td>\n",
       "                        <td id=\"T_f5ff00dd_8b52_11eb_800f_9a764120fcf3row2_col2\" class=\"data row2 col2\" >0.903400</td>\n",
       "                        <td id=\"T_f5ff00dd_8b52_11eb_800f_9a764120fcf3row2_col3\" class=\"data row2 col3\" >0.905000</td>\n",
       "                        <td id=\"T_f5ff00dd_8b52_11eb_800f_9a764120fcf3row2_col4\" class=\"data row2 col4\" >0.837100</td>\n",
       "                        <td id=\"T_f5ff00dd_8b52_11eb_800f_9a764120fcf3row2_col5\" class=\"data row2 col5\" >216.033300</td>\n",
       "                        <td id=\"T_f5ff00dd_8b52_11eb_800f_9a764120fcf3row2_col6\" class=\"data row2 col6\" >16.066700</td>\n",
       "                        <td id=\"T_f5ff00dd_8b52_11eb_800f_9a764120fcf3row2_col7\" class=\"data row2 col7\" >35.366700</td>\n",
       "            </tr>\n",
       "    </tbody></table>"
      ],
      "text/plain": [
       "<pandas.io.formats.style.Styler at 0x18b0e2a0220>"
      ]
     },
     "metadata": {},
     "output_type": "display_data"
    },
    {
     "data": {
      "text/markdown": [
       "### When optimizing the threshold on each song"
      ],
      "text/plain": [
       "<IPython.core.display.Markdown object>"
      ]
     },
     "metadata": {},
     "output_type": "display_data"
    },
    {
     "data": {
      "text/html": [
       "<style  type=\"text/css\" >\n",
       "    #T_f600865d_8b52_11eb_877e_9a764120fcf3row0_col2 {\n",
       "            width:  10em;\n",
       "             height:  80%;\n",
       "        }    #T_f600865d_8b52_11eb_877e_9a764120fcf3row0_col3 {\n",
       "            width:  10em;\n",
       "             height:  80%;\n",
       "        }    #T_f600865d_8b52_11eb_877e_9a764120fcf3row1_col2 {\n",
       "            width:  10em;\n",
       "             height:  80%;\n",
       "            background:  linear-gradient(90deg,#5fba7d 100.0%, transparent 100.0%);\n",
       "        }    #T_f600865d_8b52_11eb_877e_9a764120fcf3row1_col3 {\n",
       "            width:  10em;\n",
       "             height:  80%;\n",
       "            background:  linear-gradient(90deg,#5fba7d 100.0%, transparent 100.0%);\n",
       "        }    #T_f600865d_8b52_11eb_877e_9a764120fcf3row2_col2 {\n",
       "            width:  10em;\n",
       "             height:  80%;\n",
       "            background:  linear-gradient(90deg,#5fba7d 91.4%, transparent 91.4%);\n",
       "        }    #T_f600865d_8b52_11eb_877e_9a764120fcf3row2_col3 {\n",
       "            width:  10em;\n",
       "             height:  80%;\n",
       "            background:  linear-gradient(90deg,#5fba7d 89.4%, transparent 89.4%);\n",
       "        }</style><table id=\"T_f600865d_8b52_11eb_877e_9a764120fcf3\" ><thead>    <tr>        <th class=\"blank level0\" ></th>        <th class=\"col_heading level0 col0\" >Precision</th>        <th class=\"col_heading level0 col1\" >Recall</th>        <th class=\"col_heading level0 col2\" >F measure</th>        <th class=\"col_heading level0 col3\" >Accuracy</th>        <th class=\"col_heading level0 col4\" >True Positives</th>        <th class=\"col_heading level0 col5\" >False Positives</th>        <th class=\"col_heading level0 col6\" >False Negatives</th>    </tr></thead><tbody>\n",
       "                <tr>\n",
       "                        <th id=\"T_f600865d_8b52_11eb_877e_9a764120fcf3level0_row0\" class=\"row_heading level0 row0\" >T: 5</th>\n",
       "                        <td id=\"T_f600865d_8b52_11eb_877e_9a764120fcf3row0_col0\" class=\"data row0 col0\" >0.912400</td>\n",
       "                        <td id=\"T_f600865d_8b52_11eb_877e_9a764120fcf3row0_col1\" class=\"data row0 col1\" >0.853300</td>\n",
       "                        <td id=\"T_f600865d_8b52_11eb_877e_9a764120fcf3row0_col2\" class=\"data row0 col2\" >0.880800</td>\n",
       "                        <td id=\"T_f600865d_8b52_11eb_877e_9a764120fcf3row0_col3\" class=\"data row0 col3\" >0.795500</td>\n",
       "                        <td id=\"T_f600865d_8b52_11eb_877e_9a764120fcf3row0_col4\" class=\"data row0 col4\" >215.666700</td>\n",
       "                        <td id=\"T_f600865d_8b52_11eb_877e_9a764120fcf3row0_col5\" class=\"data row0 col5\" >20.800000</td>\n",
       "                        <td id=\"T_f600865d_8b52_11eb_877e_9a764120fcf3row0_col6\" class=\"data row0 col6\" >35.566700</td>\n",
       "            </tr>\n",
       "            <tr>\n",
       "                        <th id=\"T_f600865d_8b52_11eb_877e_9a764120fcf3level0_row1\" class=\"row_heading level0 row1\" >T: 10</th>\n",
       "                        <td id=\"T_f600865d_8b52_11eb_877e_9a764120fcf3row1_col0\" class=\"data row1 col0\" >0.958100</td>\n",
       "                        <td id=\"T_f600865d_8b52_11eb_877e_9a764120fcf3row1_col1\" class=\"data row1 col1\" >0.925100</td>\n",
       "                        <td id=\"T_f600865d_8b52_11eb_877e_9a764120fcf3row1_col2\" class=\"data row1 col2\" >0.941000</td>\n",
       "                        <td id=\"T_f600865d_8b52_11eb_877e_9a764120fcf3row1_col3\" class=\"data row1 col3\" >0.895200</td>\n",
       "                        <td id=\"T_f600865d_8b52_11eb_877e_9a764120fcf3row1_col4\" class=\"data row1 col4\" >231.966700</td>\n",
       "                        <td id=\"T_f600865d_8b52_11eb_877e_9a764120fcf3row1_col5\" class=\"data row1 col5\" >10.966700</td>\n",
       "                        <td id=\"T_f600865d_8b52_11eb_877e_9a764120fcf3row1_col6\" class=\"data row1 col6\" >19.333300</td>\n",
       "            </tr>\n",
       "            <tr>\n",
       "                        <th id=\"T_f600865d_8b52_11eb_877e_9a764120fcf3level0_row2\" class=\"row_heading level0 row2\" >T: 20</th>\n",
       "                        <td id=\"T_f600865d_8b52_11eb_877e_9a764120fcf3row2_col0\" class=\"data row2 col0\" >0.931800</td>\n",
       "                        <td id=\"T_f600865d_8b52_11eb_877e_9a764120fcf3row2_col1\" class=\"data row2 col1\" >0.941500</td>\n",
       "                        <td id=\"T_f600865d_8b52_11eb_877e_9a764120fcf3row2_col2\" class=\"data row2 col2\" >0.935800</td>\n",
       "                        <td id=\"T_f600865d_8b52_11eb_877e_9a764120fcf3row2_col3\" class=\"data row2 col3\" >0.884600</td>\n",
       "                        <td id=\"T_f600865d_8b52_11eb_877e_9a764120fcf3row2_col4\" class=\"data row2 col4\" >234.866700</td>\n",
       "                        <td id=\"T_f600865d_8b52_11eb_877e_9a764120fcf3row2_col5\" class=\"data row2 col5\" >15.466700</td>\n",
       "                        <td id=\"T_f600865d_8b52_11eb_877e_9a764120fcf3row2_col6\" class=\"data row2 col6\" >16.433300</td>\n",
       "            </tr>\n",
       "    </tbody></table>"
      ],
      "text/plain": [
       "<pandas.io.formats.style.Styler at 0x18b0dd083a0>"
      ]
     },
     "metadata": {},
     "output_type": "display_data"
    },
    {
     "data": {
      "text/markdown": [
       "## Piano: ENSTDkCl"
      ],
      "text/plain": [
       "<IPython.core.display.Markdown object>"
      ]
     },
     "metadata": {},
     "output_type": "display_data"
    },
    {
     "data": {
      "text/markdown": [
       "### When averaging each threshold on all MAPS"
      ],
      "text/plain": [
       "<IPython.core.display.Markdown object>"
      ]
     },
     "metadata": {},
     "output_type": "display_data"
    },
    {
     "data": {
      "text/html": [
       "<style  type=\"text/css\" >\n",
       "    #T_fd1b13b1_8b53_11eb_8ba7_9a764120fcf3row0_col3 {\n",
       "            width:  10em;\n",
       "             height:  80%;\n",
       "        }    #T_fd1b13b1_8b53_11eb_8ba7_9a764120fcf3row0_col4 {\n",
       "            width:  10em;\n",
       "             height:  80%;\n",
       "        }    #T_fd1b13b1_8b53_11eb_8ba7_9a764120fcf3row1_col3 {\n",
       "            width:  10em;\n",
       "             height:  80%;\n",
       "            background:  linear-gradient(90deg,#5fba7d 100.0%, transparent 100.0%);\n",
       "        }    #T_fd1b13b1_8b53_11eb_8ba7_9a764120fcf3row1_col4 {\n",
       "            width:  10em;\n",
       "             height:  80%;\n",
       "            background:  linear-gradient(90deg,#5fba7d 100.0%, transparent 100.0%);\n",
       "        }    #T_fd1b13b1_8b53_11eb_8ba7_9a764120fcf3row2_col3 {\n",
       "            width:  10em;\n",
       "             height:  80%;\n",
       "            background:  linear-gradient(90deg,#5fba7d 50.4%, transparent 50.4%);\n",
       "        }    #T_fd1b13b1_8b53_11eb_8ba7_9a764120fcf3row2_col4 {\n",
       "            width:  10em;\n",
       "             height:  80%;\n",
       "            background:  linear-gradient(90deg,#5fba7d 50.1%, transparent 50.1%);\n",
       "        }</style><table id=\"T_fd1b13b1_8b53_11eb_8ba7_9a764120fcf3\" ><thead>    <tr>        <th class=\"blank level0\" ></th>        <th class=\"col_heading level0 col0\" >Best threshold</th>        <th class=\"col_heading level0 col1\" >Precision</th>        <th class=\"col_heading level0 col2\" >Recall</th>        <th class=\"col_heading level0 col3\" >F measure</th>        <th class=\"col_heading level0 col4\" >Accuracy</th>        <th class=\"col_heading level0 col5\" >True Positives</th>        <th class=\"col_heading level0 col6\" >False Positives</th>        <th class=\"col_heading level0 col7\" >False Negatives</th>    </tr></thead><tbody>\n",
       "                <tr>\n",
       "                        <th id=\"T_fd1b13b1_8b53_11eb_8ba7_9a764120fcf3level0_row0\" class=\"row_heading level0 row0\" >T: 5</th>\n",
       "                        <td id=\"T_fd1b13b1_8b53_11eb_8ba7_9a764120fcf3row0_col0\" class=\"data row0 col0\" >0.270000</td>\n",
       "                        <td id=\"T_fd1b13b1_8b53_11eb_8ba7_9a764120fcf3row0_col1\" class=\"data row0 col1\" >0.824500</td>\n",
       "                        <td id=\"T_fd1b13b1_8b53_11eb_8ba7_9a764120fcf3row0_col2\" class=\"data row0 col2\" >0.778400</td>\n",
       "                        <td id=\"T_fd1b13b1_8b53_11eb_8ba7_9a764120fcf3row0_col3\" class=\"data row0 col3\" >0.793300</td>\n",
       "                        <td id=\"T_fd1b13b1_8b53_11eb_8ba7_9a764120fcf3row0_col4\" class=\"data row0 col4\" >0.668000</td>\n",
       "                        <td id=\"T_fd1b13b1_8b53_11eb_8ba7_9a764120fcf3row0_col5\" class=\"data row0 col5\" >192.766700</td>\n",
       "                        <td id=\"T_fd1b13b1_8b53_11eb_8ba7_9a764120fcf3row0_col6\" class=\"data row0 col6\" >42.766700</td>\n",
       "                        <td id=\"T_fd1b13b1_8b53_11eb_8ba7_9a764120fcf3row0_col7\" class=\"data row0 col7\" >51.866700</td>\n",
       "            </tr>\n",
       "            <tr>\n",
       "                        <th id=\"T_fd1b13b1_8b53_11eb_8ba7_9a764120fcf3level0_row1\" class=\"row_heading level0 row1\" >T: 10</th>\n",
       "                        <td id=\"T_fd1b13b1_8b53_11eb_8ba7_9a764120fcf3row1_col0\" class=\"data row1 col0\" >0.370000</td>\n",
       "                        <td id=\"T_fd1b13b1_8b53_11eb_8ba7_9a764120fcf3row1_col1\" class=\"data row1 col1\" >0.886800</td>\n",
       "                        <td id=\"T_fd1b13b1_8b53_11eb_8ba7_9a764120fcf3row1_col2\" class=\"data row1 col2\" >0.842500</td>\n",
       "                        <td id=\"T_fd1b13b1_8b53_11eb_8ba7_9a764120fcf3row1_col3\" class=\"data row1 col3\" >0.860100</td>\n",
       "                        <td id=\"T_fd1b13b1_8b53_11eb_8ba7_9a764120fcf3row1_col4\" class=\"data row1 col4\" >0.763500</td>\n",
       "                        <td id=\"T_fd1b13b1_8b53_11eb_8ba7_9a764120fcf3row1_col5\" class=\"data row1 col5\" >206.033300</td>\n",
       "                        <td id=\"T_fd1b13b1_8b53_11eb_8ba7_9a764120fcf3row1_col6\" class=\"data row1 col6\" >27.366700</td>\n",
       "                        <td id=\"T_fd1b13b1_8b53_11eb_8ba7_9a764120fcf3row1_col7\" class=\"data row1 col7\" >38.833300</td>\n",
       "            </tr>\n",
       "            <tr>\n",
       "                        <th id=\"T_fd1b13b1_8b53_11eb_8ba7_9a764120fcf3level0_row2\" class=\"row_heading level0 row2\" >T: 20</th>\n",
       "                        <td id=\"T_fd1b13b1_8b53_11eb_8ba7_9a764120fcf3row2_col0\" class=\"data row2 col0\" >0.590000</td>\n",
       "                        <td id=\"T_fd1b13b1_8b53_11eb_8ba7_9a764120fcf3row2_col1\" class=\"data row2 col1\" >0.842400</td>\n",
       "                        <td id=\"T_fd1b13b1_8b53_11eb_8ba7_9a764120fcf3row2_col2\" class=\"data row2 col2\" >0.821400</td>\n",
       "                        <td id=\"T_fd1b13b1_8b53_11eb_8ba7_9a764120fcf3row2_col3\" class=\"data row2 col3\" >0.827000</td>\n",
       "                        <td id=\"T_fd1b13b1_8b53_11eb_8ba7_9a764120fcf3row2_col4\" class=\"data row2 col4\" >0.715800</td>\n",
       "                        <td id=\"T_fd1b13b1_8b53_11eb_8ba7_9a764120fcf3row2_col5\" class=\"data row2 col5\" >199.700000</td>\n",
       "                        <td id=\"T_fd1b13b1_8b53_11eb_8ba7_9a764120fcf3row2_col6\" class=\"data row2 col6\" >34.433300</td>\n",
       "                        <td id=\"T_fd1b13b1_8b53_11eb_8ba7_9a764120fcf3row2_col7\" class=\"data row2 col7\" >45.100000</td>\n",
       "            </tr>\n",
       "    </tbody></table>"
      ],
      "text/plain": [
       "<pandas.io.formats.style.Styler at 0x18b0fe6dd30>"
      ]
     },
     "metadata": {},
     "output_type": "display_data"
    },
    {
     "data": {
      "text/markdown": [
       "### When optimizing the threshold on each song"
      ],
      "text/plain": [
       "<IPython.core.display.Markdown object>"
      ]
     },
     "metadata": {},
     "output_type": "display_data"
    },
    {
     "data": {
      "text/html": [
       "<style  type=\"text/css\" >\n",
       "    #T_fd1c9947_8b53_11eb_b23a_9a764120fcf3row0_col2 {\n",
       "            width:  10em;\n",
       "             height:  80%;\n",
       "        }    #T_fd1c9947_8b53_11eb_b23a_9a764120fcf3row0_col3 {\n",
       "            width:  10em;\n",
       "             height:  80%;\n",
       "        }    #T_fd1c9947_8b53_11eb_b23a_9a764120fcf3row1_col2 {\n",
       "            width:  10em;\n",
       "             height:  80%;\n",
       "            background:  linear-gradient(90deg,#5fba7d 100.0%, transparent 100.0%);\n",
       "        }    #T_fd1c9947_8b53_11eb_b23a_9a764120fcf3row1_col3 {\n",
       "            width:  10em;\n",
       "             height:  80%;\n",
       "            background:  linear-gradient(90deg,#5fba7d 100.0%, transparent 100.0%);\n",
       "        }    #T_fd1c9947_8b53_11eb_b23a_9a764120fcf3row2_col2 {\n",
       "            width:  10em;\n",
       "             height:  80%;\n",
       "            background:  linear-gradient(90deg,#5fba7d 24.3%, transparent 24.3%);\n",
       "        }    #T_fd1c9947_8b53_11eb_b23a_9a764120fcf3row2_col3 {\n",
       "            width:  10em;\n",
       "             height:  80%;\n",
       "            background:  linear-gradient(90deg,#5fba7d 23.4%, transparent 23.4%);\n",
       "        }</style><table id=\"T_fd1c9947_8b53_11eb_b23a_9a764120fcf3\" ><thead>    <tr>        <th class=\"blank level0\" ></th>        <th class=\"col_heading level0 col0\" >Precision</th>        <th class=\"col_heading level0 col1\" >Recall</th>        <th class=\"col_heading level0 col2\" >F measure</th>        <th class=\"col_heading level0 col3\" >Accuracy</th>        <th class=\"col_heading level0 col4\" >True Positives</th>        <th class=\"col_heading level0 col5\" >False Positives</th>        <th class=\"col_heading level0 col6\" >False Negatives</th>    </tr></thead><tbody>\n",
       "                <tr>\n",
       "                        <th id=\"T_fd1c9947_8b53_11eb_b23a_9a764120fcf3level0_row0\" class=\"row_heading level0 row0\" >T: 5</th>\n",
       "                        <td id=\"T_fd1c9947_8b53_11eb_b23a_9a764120fcf3row0_col0\" class=\"data row0 col0\" >0.853700</td>\n",
       "                        <td id=\"T_fd1c9947_8b53_11eb_b23a_9a764120fcf3row0_col1\" class=\"data row0 col1\" >0.795500</td>\n",
       "                        <td id=\"T_fd1c9947_8b53_11eb_b23a_9a764120fcf3row0_col2\" class=\"data row0 col2\" >0.820200</td>\n",
       "                        <td id=\"T_fd1c9947_8b53_11eb_b23a_9a764120fcf3row0_col3\" class=\"data row0 col3\" >0.704100</td>\n",
       "                        <td id=\"T_fd1c9947_8b53_11eb_b23a_9a764120fcf3row0_col4\" class=\"data row0 col4\" >196.000000</td>\n",
       "                        <td id=\"T_fd1c9947_8b53_11eb_b23a_9a764120fcf3row0_col5\" class=\"data row0 col5\" >33.166700</td>\n",
       "                        <td id=\"T_fd1c9947_8b53_11eb_b23a_9a764120fcf3row0_col6\" class=\"data row0 col6\" >48.766700</td>\n",
       "            </tr>\n",
       "            <tr>\n",
       "                        <th id=\"T_fd1c9947_8b53_11eb_b23a_9a764120fcf3level0_row1\" class=\"row_heading level0 row1\" >T: 10</th>\n",
       "                        <td id=\"T_fd1c9947_8b53_11eb_b23a_9a764120fcf3row1_col0\" class=\"data row1 col0\" >0.917900</td>\n",
       "                        <td id=\"T_fd1c9947_8b53_11eb_b23a_9a764120fcf3row1_col1\" class=\"data row1 col1\" >0.850700</td>\n",
       "                        <td id=\"T_fd1c9947_8b53_11eb_b23a_9a764120fcf3row1_col2\" class=\"data row1 col2\" >0.881100</td>\n",
       "                        <td id=\"T_fd1c9947_8b53_11eb_b23a_9a764120fcf3row1_col3\" class=\"data row1 col3\" >0.797600</td>\n",
       "                        <td id=\"T_fd1c9947_8b53_11eb_b23a_9a764120fcf3row1_col4\" class=\"data row1 col4\" >206.566700</td>\n",
       "                        <td id=\"T_fd1c9947_8b53_11eb_b23a_9a764120fcf3row1_col5\" class=\"data row1 col5\" >17.400000</td>\n",
       "                        <td id=\"T_fd1c9947_8b53_11eb_b23a_9a764120fcf3row1_col6\" class=\"data row1 col6\" >38.233300</td>\n",
       "            </tr>\n",
       "            <tr>\n",
       "                        <th id=\"T_fd1c9947_8b53_11eb_b23a_9a764120fcf3level0_row2\" class=\"row_heading level0 row2\" >T: 20</th>\n",
       "                        <td id=\"T_fd1c9947_8b53_11eb_b23a_9a764120fcf3row2_col0\" class=\"data row2 col0\" >0.828800</td>\n",
       "                        <td id=\"T_fd1c9947_8b53_11eb_b23a_9a764120fcf3row2_col1\" class=\"data row2 col1\" >0.845700</td>\n",
       "                        <td id=\"T_fd1c9947_8b53_11eb_b23a_9a764120fcf3row2_col2\" class=\"data row2 col2\" >0.835000</td>\n",
       "                        <td id=\"T_fd1c9947_8b53_11eb_b23a_9a764120fcf3row2_col3\" class=\"data row2 col3\" >0.726000</td>\n",
       "                        <td id=\"T_fd1c9947_8b53_11eb_b23a_9a764120fcf3row2_col4\" class=\"data row2 col4\" >204.900000</td>\n",
       "                        <td id=\"T_fd1c9947_8b53_11eb_b23a_9a764120fcf3row2_col5\" class=\"data row2 col5\" >38.266700</td>\n",
       "                        <td id=\"T_fd1c9947_8b53_11eb_b23a_9a764120fcf3row2_col6\" class=\"data row2 col6\" >39.933300</td>\n",
       "            </tr>\n",
       "    </tbody></table>"
      ],
      "text/plain": [
       "<pandas.io.formats.style.Styler at 0x18b0db65910>"
      ]
     },
     "metadata": {},
     "output_type": "display_data"
    },
    {
     "data": {
      "text/markdown": [
       "## Piano: AkPnBcht"
      ],
      "text/plain": [
       "<IPython.core.display.Markdown object>"
      ]
     },
     "metadata": {},
     "output_type": "display_data"
    },
    {
     "data": {
      "text/markdown": [
       "### When averaging each threshold on all MAPS"
      ],
      "text/plain": [
       "<IPython.core.display.Markdown object>"
      ]
     },
     "metadata": {},
     "output_type": "display_data"
    },
    {
     "data": {
      "text/html": [
       "<style  type=\"text/css\" >\n",
       "    #T_1737a4b4_8b55_11eb_b714_9a764120fcf3row0_col3 {\n",
       "            width:  10em;\n",
       "             height:  80%;\n",
       "        }    #T_1737a4b4_8b55_11eb_b714_9a764120fcf3row0_col4 {\n",
       "            width:  10em;\n",
       "             height:  80%;\n",
       "        }    #T_1737a4b4_8b55_11eb_b714_9a764120fcf3row1_col3 {\n",
       "            width:  10em;\n",
       "             height:  80%;\n",
       "            background:  linear-gradient(90deg,#5fba7d 92.5%, transparent 92.5%);\n",
       "        }    #T_1737a4b4_8b55_11eb_b714_9a764120fcf3row1_col4 {\n",
       "            width:  10em;\n",
       "             height:  80%;\n",
       "            background:  linear-gradient(90deg,#5fba7d 91.9%, transparent 91.9%);\n",
       "        }    #T_1737a4b4_8b55_11eb_b714_9a764120fcf3row2_col3 {\n",
       "            width:  10em;\n",
       "             height:  80%;\n",
       "            background:  linear-gradient(90deg,#5fba7d 100.0%, transparent 100.0%);\n",
       "        }    #T_1737a4b4_8b55_11eb_b714_9a764120fcf3row2_col4 {\n",
       "            width:  10em;\n",
       "             height:  80%;\n",
       "            background:  linear-gradient(90deg,#5fba7d 100.0%, transparent 100.0%);\n",
       "        }</style><table id=\"T_1737a4b4_8b55_11eb_b714_9a764120fcf3\" ><thead>    <tr>        <th class=\"blank level0\" ></th>        <th class=\"col_heading level0 col0\" >Best threshold</th>        <th class=\"col_heading level0 col1\" >Precision</th>        <th class=\"col_heading level0 col2\" >Recall</th>        <th class=\"col_heading level0 col3\" >F measure</th>        <th class=\"col_heading level0 col4\" >Accuracy</th>        <th class=\"col_heading level0 col5\" >True Positives</th>        <th class=\"col_heading level0 col6\" >False Positives</th>        <th class=\"col_heading level0 col7\" >False Negatives</th>    </tr></thead><tbody>\n",
       "                <tr>\n",
       "                        <th id=\"T_1737a4b4_8b55_11eb_b714_9a764120fcf3level0_row0\" class=\"row_heading level0 row0\" >T: 5</th>\n",
       "                        <td id=\"T_1737a4b4_8b55_11eb_b714_9a764120fcf3row0_col0\" class=\"data row0 col0\" >0.330000</td>\n",
       "                        <td id=\"T_1737a4b4_8b55_11eb_b714_9a764120fcf3row0_col1\" class=\"data row0 col1\" >0.916000</td>\n",
       "                        <td id=\"T_1737a4b4_8b55_11eb_b714_9a764120fcf3row0_col2\" class=\"data row0 col2\" >0.845300</td>\n",
       "                        <td id=\"T_1737a4b4_8b55_11eb_b714_9a764120fcf3row0_col3\" class=\"data row0 col3\" >0.865700</td>\n",
       "                        <td id=\"T_1737a4b4_8b55_11eb_b714_9a764120fcf3row0_col4\" class=\"data row0 col4\" >0.778600</td>\n",
       "                        <td id=\"T_1737a4b4_8b55_11eb_b714_9a764120fcf3row0_col5\" class=\"data row0 col5\" >241.866700</td>\n",
       "                        <td id=\"T_1737a4b4_8b55_11eb_b714_9a764120fcf3row0_col6\" class=\"data row0 col6\" >20.466700</td>\n",
       "                        <td id=\"T_1737a4b4_8b55_11eb_b714_9a764120fcf3row0_col7\" class=\"data row0 col7\" >57.133300</td>\n",
       "            </tr>\n",
       "            <tr>\n",
       "                        <th id=\"T_1737a4b4_8b55_11eb_b714_9a764120fcf3level0_row1\" class=\"row_heading level0 row1\" >T: 10</th>\n",
       "                        <td id=\"T_1737a4b4_8b55_11eb_b714_9a764120fcf3row1_col0\" class=\"data row1 col0\" >0.390000</td>\n",
       "                        <td id=\"T_1737a4b4_8b55_11eb_b714_9a764120fcf3row1_col1\" class=\"data row1 col1\" >0.935500</td>\n",
       "                        <td id=\"T_1737a4b4_8b55_11eb_b714_9a764120fcf3row1_col2\" class=\"data row1 col2\" >0.917200</td>\n",
       "                        <td id=\"T_1737a4b4_8b55_11eb_b714_9a764120fcf3row1_col3\" class=\"data row1 col3\" >0.920900</td>\n",
       "                        <td id=\"T_1737a4b4_8b55_11eb_b714_9a764120fcf3row1_col4\" class=\"data row1 col4\" >0.861100</td>\n",
       "                        <td id=\"T_1737a4b4_8b55_11eb_b714_9a764120fcf3row1_col5\" class=\"data row1 col5\" >267.100000</td>\n",
       "                        <td id=\"T_1737a4b4_8b55_11eb_b714_9a764120fcf3row1_col6\" class=\"data row1 col6\" >14.833300</td>\n",
       "                        <td id=\"T_1737a4b4_8b55_11eb_b714_9a764120fcf3row1_col7\" class=\"data row1 col7\" >31.866700</td>\n",
       "            </tr>\n",
       "            <tr>\n",
       "                        <th id=\"T_1737a4b4_8b55_11eb_b714_9a764120fcf3level0_row2\" class=\"row_heading level0 row2\" >T: 20</th>\n",
       "                        <td id=\"T_1737a4b4_8b55_11eb_b714_9a764120fcf3row2_col0\" class=\"data row2 col0\" >0.590000</td>\n",
       "                        <td id=\"T_1737a4b4_8b55_11eb_b714_9a764120fcf3row2_col1\" class=\"data row2 col1\" >0.940300</td>\n",
       "                        <td id=\"T_1737a4b4_8b55_11eb_b714_9a764120fcf3row2_col2\" class=\"data row2 col2\" >0.918800</td>\n",
       "                        <td id=\"T_1737a4b4_8b55_11eb_b714_9a764120fcf3row2_col3\" class=\"data row2 col3\" >0.925400</td>\n",
       "                        <td id=\"T_1737a4b4_8b55_11eb_b714_9a764120fcf3row2_col4\" class=\"data row2 col4\" >0.868400</td>\n",
       "                        <td id=\"T_1737a4b4_8b55_11eb_b714_9a764120fcf3row2_col5\" class=\"data row2 col5\" >266.533300</td>\n",
       "                        <td id=\"T_1737a4b4_8b55_11eb_b714_9a764120fcf3row2_col6\" class=\"data row2 col6\" >13.566700</td>\n",
       "                        <td id=\"T_1737a4b4_8b55_11eb_b714_9a764120fcf3row2_col7\" class=\"data row2 col7\" >32.333300</td>\n",
       "            </tr>\n",
       "    </tbody></table>"
      ],
      "text/plain": [
       "<pandas.io.formats.style.Styler at 0x18b0ddda2b0>"
      ]
     },
     "metadata": {},
     "output_type": "display_data"
    },
    {
     "data": {
      "text/markdown": [
       "### When optimizing the threshold on each song"
      ],
      "text/plain": [
       "<IPython.core.display.Markdown object>"
      ]
     },
     "metadata": {},
     "output_type": "display_data"
    },
    {
     "data": {
      "text/html": [
       "<style  type=\"text/css\" >\n",
       "    #T_1739515a_8b55_11eb_b920_9a764120fcf3row0_col2 {\n",
       "            width:  10em;\n",
       "             height:  80%;\n",
       "        }    #T_1739515a_8b55_11eb_b920_9a764120fcf3row0_col3 {\n",
       "            width:  10em;\n",
       "             height:  80%;\n",
       "        }    #T_1739515a_8b55_11eb_b920_9a764120fcf3row1_col2 {\n",
       "            width:  10em;\n",
       "             height:  80%;\n",
       "            background:  linear-gradient(90deg,#5fba7d 100.0%, transparent 100.0%);\n",
       "        }    #T_1739515a_8b55_11eb_b920_9a764120fcf3row1_col3 {\n",
       "            width:  10em;\n",
       "             height:  80%;\n",
       "            background:  linear-gradient(90deg,#5fba7d 100.0%, transparent 100.0%);\n",
       "        }    #T_1739515a_8b55_11eb_b920_9a764120fcf3row2_col2 {\n",
       "            width:  10em;\n",
       "             height:  80%;\n",
       "            background:  linear-gradient(90deg,#5fba7d 66.8%, transparent 66.8%);\n",
       "        }    #T_1739515a_8b55_11eb_b920_9a764120fcf3row2_col3 {\n",
       "            width:  10em;\n",
       "             height:  80%;\n",
       "            background:  linear-gradient(90deg,#5fba7d 63.8%, transparent 63.8%);\n",
       "        }</style><table id=\"T_1739515a_8b55_11eb_b920_9a764120fcf3\" ><thead>    <tr>        <th class=\"blank level0\" ></th>        <th class=\"col_heading level0 col0\" >Precision</th>        <th class=\"col_heading level0 col1\" >Recall</th>        <th class=\"col_heading level0 col2\" >F measure</th>        <th class=\"col_heading level0 col3\" >Accuracy</th>        <th class=\"col_heading level0 col4\" >True Positives</th>        <th class=\"col_heading level0 col5\" >False Positives</th>        <th class=\"col_heading level0 col6\" >False Negatives</th>    </tr></thead><tbody>\n",
       "                <tr>\n",
       "                        <th id=\"T_1739515a_8b55_11eb_b920_9a764120fcf3level0_row0\" class=\"row_heading level0 row0\" >T: 5</th>\n",
       "                        <td id=\"T_1739515a_8b55_11eb_b920_9a764120fcf3row0_col0\" class=\"data row0 col0\" >0.926400</td>\n",
       "                        <td id=\"T_1739515a_8b55_11eb_b920_9a764120fcf3row0_col1\" class=\"data row0 col1\" >0.903200</td>\n",
       "                        <td id=\"T_1739515a_8b55_11eb_b920_9a764120fcf3row0_col2\" class=\"data row0 col2\" >0.913800</td>\n",
       "                        <td id=\"T_1739515a_8b55_11eb_b920_9a764120fcf3row0_col3\" class=\"data row0 col3\" >0.849700</td>\n",
       "                        <td id=\"T_1739515a_8b55_11eb_b920_9a764120fcf3row0_col4\" class=\"data row0 col4\" >268.100000</td>\n",
       "                        <td id=\"T_1739515a_8b55_11eb_b920_9a764120fcf3row0_col5\" class=\"data row0 col5\" >22.966700</td>\n",
       "                        <td id=\"T_1739515a_8b55_11eb_b920_9a764120fcf3row0_col6\" class=\"data row0 col6\" >30.666700</td>\n",
       "            </tr>\n",
       "            <tr>\n",
       "                        <th id=\"T_1739515a_8b55_11eb_b920_9a764120fcf3level0_row1\" class=\"row_heading level0 row1\" >T: 10</th>\n",
       "                        <td id=\"T_1739515a_8b55_11eb_b920_9a764120fcf3row1_col0\" class=\"data row1 col0\" >0.956100</td>\n",
       "                        <td id=\"T_1739515a_8b55_11eb_b920_9a764120fcf3row1_col1\" class=\"data row1 col1\" >0.948400</td>\n",
       "                        <td id=\"T_1739515a_8b55_11eb_b920_9a764120fcf3row1_col2\" class=\"data row1 col2\" >0.951700</td>\n",
       "                        <td id=\"T_1739515a_8b55_11eb_b920_9a764120fcf3row1_col3\" class=\"data row1 col3\" >0.913600</td>\n",
       "                        <td id=\"T_1739515a_8b55_11eb_b920_9a764120fcf3row1_col4\" class=\"data row1 col4\" >280.633300</td>\n",
       "                        <td id=\"T_1739515a_8b55_11eb_b920_9a764120fcf3row1_col5\" class=\"data row1 col5\" >12.000000</td>\n",
       "                        <td id=\"T_1739515a_8b55_11eb_b920_9a764120fcf3row1_col6\" class=\"data row1 col6\" >18.233300</td>\n",
       "            </tr>\n",
       "            <tr>\n",
       "                        <th id=\"T_1739515a_8b55_11eb_b920_9a764120fcf3level0_row2\" class=\"row_heading level0 row2\" >T: 20</th>\n",
       "                        <td id=\"T_1739515a_8b55_11eb_b920_9a764120fcf3row2_col0\" class=\"data row2 col0\" >0.927400</td>\n",
       "                        <td id=\"T_1739515a_8b55_11eb_b920_9a764120fcf3row2_col1\" class=\"data row2 col1\" >0.953200</td>\n",
       "                        <td id=\"T_1739515a_8b55_11eb_b920_9a764120fcf3row2_col2\" class=\"data row2 col2\" >0.939100</td>\n",
       "                        <td id=\"T_1739515a_8b55_11eb_b920_9a764120fcf3row2_col3\" class=\"data row2 col3\" >0.890500</td>\n",
       "                        <td id=\"T_1739515a_8b55_11eb_b920_9a764120fcf3row2_col4\" class=\"data row2 col4\" >281.666700</td>\n",
       "                        <td id=\"T_1739515a_8b55_11eb_b920_9a764120fcf3row2_col5\" class=\"data row2 col5\" >19.900000</td>\n",
       "                        <td id=\"T_1739515a_8b55_11eb_b920_9a764120fcf3row2_col6\" class=\"data row2 col6\" >17.300000</td>\n",
       "            </tr>\n",
       "    </tbody></table>"
      ],
      "text/plain": [
       "<pandas.io.formats.style.Styler at 0x18b0ddda8e0>"
      ]
     },
     "metadata": {},
     "output_type": "display_data"
    },
    {
     "data": {
      "text/markdown": [
       "## Piano: AkPnBsdf"
      ],
      "text/plain": [
       "<IPython.core.display.Markdown object>"
      ]
     },
     "metadata": {},
     "output_type": "display_data"
    },
    {
     "data": {
      "text/markdown": [
       "### When averaging each threshold on all MAPS"
      ],
      "text/plain": [
       "<IPython.core.display.Markdown object>"
      ]
     },
     "metadata": {},
     "output_type": "display_data"
    },
    {
     "data": {
      "text/html": [
       "<style  type=\"text/css\" >\n",
       "    #T_17a9bbdf_8b56_11eb_bb28_9a764120fcf3row0_col3 {\n",
       "            width:  10em;\n",
       "             height:  80%;\n",
       "            background:  linear-gradient(90deg,#5fba7d 52.9%, transparent 52.9%);\n",
       "        }    #T_17a9bbdf_8b56_11eb_bb28_9a764120fcf3row0_col4 {\n",
       "            width:  10em;\n",
       "             height:  80%;\n",
       "            background:  linear-gradient(90deg,#5fba7d 41.3%, transparent 41.3%);\n",
       "        }    #T_17a9bbdf_8b56_11eb_bb28_9a764120fcf3row1_col3 {\n",
       "            width:  10em;\n",
       "             height:  80%;\n",
       "            background:  linear-gradient(90deg,#5fba7d 100.0%, transparent 100.0%);\n",
       "        }    #T_17a9bbdf_8b56_11eb_bb28_9a764120fcf3row1_col4 {\n",
       "            width:  10em;\n",
       "             height:  80%;\n",
       "            background:  linear-gradient(90deg,#5fba7d 100.0%, transparent 100.0%);\n",
       "        }    #T_17a9bbdf_8b56_11eb_bb28_9a764120fcf3row2_col3 {\n",
       "            width:  10em;\n",
       "             height:  80%;\n",
       "        }    #T_17a9bbdf_8b56_11eb_bb28_9a764120fcf3row2_col4 {\n",
       "            width:  10em;\n",
       "             height:  80%;\n",
       "        }</style><table id=\"T_17a9bbdf_8b56_11eb_bb28_9a764120fcf3\" ><thead>    <tr>        <th class=\"blank level0\" ></th>        <th class=\"col_heading level0 col0\" >Best threshold</th>        <th class=\"col_heading level0 col1\" >Precision</th>        <th class=\"col_heading level0 col2\" >Recall</th>        <th class=\"col_heading level0 col3\" >F measure</th>        <th class=\"col_heading level0 col4\" >Accuracy</th>        <th class=\"col_heading level0 col5\" >True Positives</th>        <th class=\"col_heading level0 col6\" >False Positives</th>        <th class=\"col_heading level0 col7\" >False Negatives</th>    </tr></thead><tbody>\n",
       "                <tr>\n",
       "                        <th id=\"T_17a9bbdf_8b56_11eb_bb28_9a764120fcf3level0_row0\" class=\"row_heading level0 row0\" >T: 5</th>\n",
       "                        <td id=\"T_17a9bbdf_8b56_11eb_bb28_9a764120fcf3row0_col0\" class=\"data row0 col0\" >0.230000</td>\n",
       "                        <td id=\"T_17a9bbdf_8b56_11eb_bb28_9a764120fcf3row0_col1\" class=\"data row0 col1\" >0.797100</td>\n",
       "                        <td id=\"T_17a9bbdf_8b56_11eb_bb28_9a764120fcf3row0_col2\" class=\"data row0 col2\" >0.768600</td>\n",
       "                        <td id=\"T_17a9bbdf_8b56_11eb_bb28_9a764120fcf3row0_col3\" class=\"data row0 col3\" >0.762900</td>\n",
       "                        <td id=\"T_17a9bbdf_8b56_11eb_bb28_9a764120fcf3row0_col4\" class=\"data row0 col4\" >0.636400</td>\n",
       "                        <td id=\"T_17a9bbdf_8b56_11eb_bb28_9a764120fcf3row0_col5\" class=\"data row0 col5\" >216.666700</td>\n",
       "                        <td id=\"T_17a9bbdf_8b56_11eb_bb28_9a764120fcf3row0_col6\" class=\"data row0 col6\" >55.166700</td>\n",
       "                        <td id=\"T_17a9bbdf_8b56_11eb_bb28_9a764120fcf3row0_col7\" class=\"data row0 col7\" >62.600000</td>\n",
       "            </tr>\n",
       "            <tr>\n",
       "                        <th id=\"T_17a9bbdf_8b56_11eb_bb28_9a764120fcf3level0_row1\" class=\"row_heading level0 row1\" >T: 10</th>\n",
       "                        <td id=\"T_17a9bbdf_8b56_11eb_bb28_9a764120fcf3row1_col0\" class=\"data row1 col0\" >0.230000</td>\n",
       "                        <td id=\"T_17a9bbdf_8b56_11eb_bb28_9a764120fcf3row1_col1\" class=\"data row1 col1\" >0.862600</td>\n",
       "                        <td id=\"T_17a9bbdf_8b56_11eb_bb28_9a764120fcf3row1_col2\" class=\"data row1 col2\" >0.828500</td>\n",
       "                        <td id=\"T_17a9bbdf_8b56_11eb_bb28_9a764120fcf3row1_col3\" class=\"data row1 col3\" >0.815200</td>\n",
       "                        <td id=\"T_17a9bbdf_8b56_11eb_bb28_9a764120fcf3row1_col4\" class=\"data row1 col4\" >0.710400</td>\n",
       "                        <td id=\"T_17a9bbdf_8b56_11eb_bb28_9a764120fcf3row1_col5\" class=\"data row1 col5\" >231.866700</td>\n",
       "                        <td id=\"T_17a9bbdf_8b56_11eb_bb28_9a764120fcf3row1_col6\" class=\"data row1 col6\" >45.866700</td>\n",
       "                        <td id=\"T_17a9bbdf_8b56_11eb_bb28_9a764120fcf3row1_col7\" class=\"data row1 col7\" >47.233300</td>\n",
       "            </tr>\n",
       "            <tr>\n",
       "                        <th id=\"T_17a9bbdf_8b56_11eb_bb28_9a764120fcf3level0_row2\" class=\"row_heading level0 row2\" >T: 20</th>\n",
       "                        <td id=\"T_17a9bbdf_8b56_11eb_bb28_9a764120fcf3row2_col0\" class=\"data row2 col0\" >0.110000</td>\n",
       "                        <td id=\"T_17a9bbdf_8b56_11eb_bb28_9a764120fcf3row2_col1\" class=\"data row2 col1\" >0.760800</td>\n",
       "                        <td id=\"T_17a9bbdf_8b56_11eb_bb28_9a764120fcf3row2_col2\" class=\"data row2 col2\" >0.804500</td>\n",
       "                        <td id=\"T_17a9bbdf_8b56_11eb_bb28_9a764120fcf3row2_col3\" class=\"data row2 col3\" >0.704100</td>\n",
       "                        <td id=\"T_17a9bbdf_8b56_11eb_bb28_9a764120fcf3row2_col4\" class=\"data row2 col4\" >0.584400</td>\n",
       "                        <td id=\"T_17a9bbdf_8b56_11eb_bb28_9a764120fcf3row2_col5\" class=\"data row2 col5\" >223.500000</td>\n",
       "                        <td id=\"T_17a9bbdf_8b56_11eb_bb28_9a764120fcf3row2_col6\" class=\"data row2 col6\" >130.733300</td>\n",
       "                        <td id=\"T_17a9bbdf_8b56_11eb_bb28_9a764120fcf3row2_col7\" class=\"data row2 col7\" >55.800000</td>\n",
       "            </tr>\n",
       "    </tbody></table>"
      ],
      "text/plain": [
       "<pandas.io.formats.style.Styler at 0x18b0d061fa0>"
      ]
     },
     "metadata": {},
     "output_type": "display_data"
    },
    {
     "data": {
      "text/markdown": [
       "### When optimizing the threshold on each song"
      ],
      "text/plain": [
       "<IPython.core.display.Markdown object>"
      ]
     },
     "metadata": {},
     "output_type": "display_data"
    },
    {
     "data": {
      "text/html": [
       "<style  type=\"text/css\" >\n",
       "    #T_17ab4000_8b56_11eb_a913_9a764120fcf3row0_col2 {\n",
       "            width:  10em;\n",
       "             height:  80%;\n",
       "        }    #T_17ab4000_8b56_11eb_a913_9a764120fcf3row0_col3 {\n",
       "            width:  10em;\n",
       "             height:  80%;\n",
       "        }    #T_17ab4000_8b56_11eb_a913_9a764120fcf3row1_col2 {\n",
       "            width:  10em;\n",
       "             height:  80%;\n",
       "            background:  linear-gradient(90deg,#5fba7d 100.0%, transparent 100.0%);\n",
       "        }    #T_17ab4000_8b56_11eb_a913_9a764120fcf3row1_col3 {\n",
       "            width:  10em;\n",
       "             height:  80%;\n",
       "            background:  linear-gradient(90deg,#5fba7d 100.0%, transparent 100.0%);\n",
       "        }    #T_17ab4000_8b56_11eb_a913_9a764120fcf3row2_col2 {\n",
       "            width:  10em;\n",
       "             height:  80%;\n",
       "            background:  linear-gradient(90deg,#5fba7d 87.7%, transparent 87.7%);\n",
       "        }    #T_17ab4000_8b56_11eb_a913_9a764120fcf3row2_col3 {\n",
       "            width:  10em;\n",
       "             height:  80%;\n",
       "            background:  linear-gradient(90deg,#5fba7d 85.9%, transparent 85.9%);\n",
       "        }</style><table id=\"T_17ab4000_8b56_11eb_a913_9a764120fcf3\" ><thead>    <tr>        <th class=\"blank level0\" ></th>        <th class=\"col_heading level0 col0\" >Precision</th>        <th class=\"col_heading level0 col1\" >Recall</th>        <th class=\"col_heading level0 col2\" >F measure</th>        <th class=\"col_heading level0 col3\" >Accuracy</th>        <th class=\"col_heading level0 col4\" >True Positives</th>        <th class=\"col_heading level0 col5\" >False Positives</th>        <th class=\"col_heading level0 col6\" >False Negatives</th>    </tr></thead><tbody>\n",
       "                <tr>\n",
       "                        <th id=\"T_17ab4000_8b56_11eb_a913_9a764120fcf3level0_row0\" class=\"row_heading level0 row0\" >T: 5</th>\n",
       "                        <td id=\"T_17ab4000_8b56_11eb_a913_9a764120fcf3row0_col0\" class=\"data row0 col0\" >0.836700</td>\n",
       "                        <td id=\"T_17ab4000_8b56_11eb_a913_9a764120fcf3row0_col1\" class=\"data row0 col1\" >0.803500</td>\n",
       "                        <td id=\"T_17ab4000_8b56_11eb_a913_9a764120fcf3row0_col2\" class=\"data row0 col2\" >0.816700</td>\n",
       "                        <td id=\"T_17ab4000_8b56_11eb_a913_9a764120fcf3row0_col3\" class=\"data row0 col3\" >0.701900</td>\n",
       "                        <td id=\"T_17ab4000_8b56_11eb_a913_9a764120fcf3row0_col4\" class=\"data row0 col4\" >226.633300</td>\n",
       "                        <td id=\"T_17ab4000_8b56_11eb_a913_9a764120fcf3row0_col5\" class=\"data row0 col5\" >45.200000</td>\n",
       "                        <td id=\"T_17ab4000_8b56_11eb_a913_9a764120fcf3row0_col6\" class=\"data row0 col6\" >52.666700</td>\n",
       "            </tr>\n",
       "            <tr>\n",
       "                        <th id=\"T_17ab4000_8b56_11eb_a913_9a764120fcf3level0_row1\" class=\"row_heading level0 row1\" >T: 10</th>\n",
       "                        <td id=\"T_17ab4000_8b56_11eb_a913_9a764120fcf3row1_col0\" class=\"data row1 col0\" >0.915000</td>\n",
       "                        <td id=\"T_17ab4000_8b56_11eb_a913_9a764120fcf3row1_col1\" class=\"data row1 col1\" >0.900800</td>\n",
       "                        <td id=\"T_17ab4000_8b56_11eb_a913_9a764120fcf3row1_col2\" class=\"data row1 col2\" >0.906900</td>\n",
       "                        <td id=\"T_17ab4000_8b56_11eb_a913_9a764120fcf3row1_col3\" class=\"data row1 col3\" >0.838100</td>\n",
       "                        <td id=\"T_17ab4000_8b56_11eb_a913_9a764120fcf3row1_col4\" class=\"data row1 col4\" >250.666700</td>\n",
       "                        <td id=\"T_17ab4000_8b56_11eb_a913_9a764120fcf3row1_col5\" class=\"data row1 col5\" >23.933300</td>\n",
       "                        <td id=\"T_17ab4000_8b56_11eb_a913_9a764120fcf3row1_col6\" class=\"data row1 col6\" >28.666700</td>\n",
       "            </tr>\n",
       "            <tr>\n",
       "                        <th id=\"T_17ab4000_8b56_11eb_a913_9a764120fcf3level0_row2\" class=\"row_heading level0 row2\" >T: 20</th>\n",
       "                        <td id=\"T_17ab4000_8b56_11eb_a913_9a764120fcf3row2_col0\" class=\"data row2 col0\" >0.903400</td>\n",
       "                        <td id=\"T_17ab4000_8b56_11eb_a913_9a764120fcf3row2_col1\" class=\"data row2 col1\" >0.892400</td>\n",
       "                        <td id=\"T_17ab4000_8b56_11eb_a913_9a764120fcf3row2_col2\" class=\"data row2 col2\" >0.895800</td>\n",
       "                        <td id=\"T_17ab4000_8b56_11eb_a913_9a764120fcf3row2_col3\" class=\"data row2 col3\" >0.818900</td>\n",
       "                        <td id=\"T_17ab4000_8b56_11eb_a913_9a764120fcf3row2_col4\" class=\"data row2 col4\" >248.966700</td>\n",
       "                        <td id=\"T_17ab4000_8b56_11eb_a913_9a764120fcf3row2_col5\" class=\"data row2 col5\" >29.200000</td>\n",
       "                        <td id=\"T_17ab4000_8b56_11eb_a913_9a764120fcf3row2_col6\" class=\"data row2 col6\" >30.333300</td>\n",
       "            </tr>\n",
       "    </tbody></table>"
      ],
      "text/plain": [
       "<pandas.io.formats.style.Styler at 0x18b0d029ac0>"
      ]
     },
     "metadata": {},
     "output_type": "display_data"
    },
    {
     "data": {
      "text/markdown": [
       "## Piano: AkPnStgb"
      ],
      "text/plain": [
       "<IPython.core.display.Markdown object>"
      ]
     },
     "metadata": {},
     "output_type": "display_data"
    },
    {
     "data": {
      "text/markdown": [
       "### When averaging each threshold on all MAPS"
      ],
      "text/plain": [
       "<IPython.core.display.Markdown object>"
      ]
     },
     "metadata": {},
     "output_type": "display_data"
    },
    {
     "data": {
      "text/html": [
       "<style  type=\"text/css\" >\n",
       "    #T_207be430_8b57_11eb_b9eb_9a764120fcf3row0_col3 {\n",
       "            width:  10em;\n",
       "             height:  80%;\n",
       "            background:  linear-gradient(90deg,#5fba7d 100.0%, transparent 100.0%);\n",
       "        }    #T_207be430_8b57_11eb_b9eb_9a764120fcf3row0_col4 {\n",
       "            width:  10em;\n",
       "             height:  80%;\n",
       "            background:  linear-gradient(90deg,#5fba7d 100.0%, transparent 100.0%);\n",
       "        }    #T_207be430_8b57_11eb_b9eb_9a764120fcf3row1_col3 {\n",
       "            width:  10em;\n",
       "             height:  80%;\n",
       "            background:  linear-gradient(90deg,#5fba7d 66.9%, transparent 66.9%);\n",
       "        }    #T_207be430_8b57_11eb_b9eb_9a764120fcf3row1_col4 {\n",
       "            width:  10em;\n",
       "             height:  80%;\n",
       "            background:  linear-gradient(90deg,#5fba7d 75.6%, transparent 75.6%);\n",
       "        }    #T_207be430_8b57_11eb_b9eb_9a764120fcf3row2_col3 {\n",
       "            width:  10em;\n",
       "             height:  80%;\n",
       "        }    #T_207be430_8b57_11eb_b9eb_9a764120fcf3row2_col4 {\n",
       "            width:  10em;\n",
       "             height:  80%;\n",
       "        }</style><table id=\"T_207be430_8b57_11eb_b9eb_9a764120fcf3\" ><thead>    <tr>        <th class=\"blank level0\" ></th>        <th class=\"col_heading level0 col0\" >Best threshold</th>        <th class=\"col_heading level0 col1\" >Precision</th>        <th class=\"col_heading level0 col2\" >Recall</th>        <th class=\"col_heading level0 col3\" >F measure</th>        <th class=\"col_heading level0 col4\" >Accuracy</th>        <th class=\"col_heading level0 col5\" >True Positives</th>        <th class=\"col_heading level0 col6\" >False Positives</th>        <th class=\"col_heading level0 col7\" >False Negatives</th>    </tr></thead><tbody>\n",
       "                <tr>\n",
       "                        <th id=\"T_207be430_8b57_11eb_b9eb_9a764120fcf3level0_row0\" class=\"row_heading level0 row0\" >T: 5</th>\n",
       "                        <td id=\"T_207be430_8b57_11eb_b9eb_9a764120fcf3row0_col0\" class=\"data row0 col0\" >0.350000</td>\n",
       "                        <td id=\"T_207be430_8b57_11eb_b9eb_9a764120fcf3row0_col1\" class=\"data row0 col1\" >0.874300</td>\n",
       "                        <td id=\"T_207be430_8b57_11eb_b9eb_9a764120fcf3row0_col2\" class=\"data row0 col2\" >0.785600</td>\n",
       "                        <td id=\"T_207be430_8b57_11eb_b9eb_9a764120fcf3row0_col3\" class=\"data row0 col3\" >0.811600</td>\n",
       "                        <td id=\"T_207be430_8b57_11eb_b9eb_9a764120fcf3row0_col4\" class=\"data row0 col4\" >0.699300</td>\n",
       "                        <td id=\"T_207be430_8b57_11eb_b9eb_9a764120fcf3row0_col5\" class=\"data row0 col5\" >227.266700</td>\n",
       "                        <td id=\"T_207be430_8b57_11eb_b9eb_9a764120fcf3row0_col6\" class=\"data row0 col6\" >31.600000</td>\n",
       "                        <td id=\"T_207be430_8b57_11eb_b9eb_9a764120fcf3row0_col7\" class=\"data row0 col7\" >66.500000</td>\n",
       "            </tr>\n",
       "            <tr>\n",
       "                        <th id=\"T_207be430_8b57_11eb_b9eb_9a764120fcf3level0_row1\" class=\"row_heading level0 row1\" >T: 10</th>\n",
       "                        <td id=\"T_207be430_8b57_11eb_b9eb_9a764120fcf3row1_col0\" class=\"data row1 col0\" >0.270000</td>\n",
       "                        <td id=\"T_207be430_8b57_11eb_b9eb_9a764120fcf3row1_col1\" class=\"data row1 col1\" >0.856700</td>\n",
       "                        <td id=\"T_207be430_8b57_11eb_b9eb_9a764120fcf3row1_col2\" class=\"data row1 col2\" >0.792900</td>\n",
       "                        <td id=\"T_207be430_8b57_11eb_b9eb_9a764120fcf3row1_col3\" class=\"data row1 col3\" >0.777300</td>\n",
       "                        <td id=\"T_207be430_8b57_11eb_b9eb_9a764120fcf3row1_col4\" class=\"data row1 col4\" >0.669500</td>\n",
       "                        <td id=\"T_207be430_8b57_11eb_b9eb_9a764120fcf3row1_col5\" class=\"data row1 col5\" >224.266700</td>\n",
       "                        <td id=\"T_207be430_8b57_11eb_b9eb_9a764120fcf3row1_col6\" class=\"data row1 col6\" >45.966700</td>\n",
       "                        <td id=\"T_207be430_8b57_11eb_b9eb_9a764120fcf3row1_col7\" class=\"data row1 col7\" >69.566700</td>\n",
       "            </tr>\n",
       "            <tr>\n",
       "                        <th id=\"T_207be430_8b57_11eb_b9eb_9a764120fcf3level0_row2\" class=\"row_heading level0 row2\" >T: 20</th>\n",
       "                        <td id=\"T_207be430_8b57_11eb_b9eb_9a764120fcf3row2_col0\" class=\"data row2 col0\" >0.210000</td>\n",
       "                        <td id=\"T_207be430_8b57_11eb_b9eb_9a764120fcf3row2_col1\" class=\"data row2 col1\" >0.786200</td>\n",
       "                        <td id=\"T_207be430_8b57_11eb_b9eb_9a764120fcf3row2_col2\" class=\"data row2 col2\" >0.758900</td>\n",
       "                        <td id=\"T_207be430_8b57_11eb_b9eb_9a764120fcf3row2_col3\" class=\"data row2 col3\" >0.708100</td>\n",
       "                        <td id=\"T_207be430_8b57_11eb_b9eb_9a764120fcf3row2_col4\" class=\"data row2 col4\" >0.577000</td>\n",
       "                        <td id=\"T_207be430_8b57_11eb_b9eb_9a764120fcf3row2_col5\" class=\"data row2 col5\" >210.866700</td>\n",
       "                        <td id=\"T_207be430_8b57_11eb_b9eb_9a764120fcf3row2_col6\" class=\"data row2 col6\" >87.233300</td>\n",
       "                        <td id=\"T_207be430_8b57_11eb_b9eb_9a764120fcf3row2_col7\" class=\"data row2 col7\" >82.833300</td>\n",
       "            </tr>\n",
       "    </tbody></table>"
      ],
      "text/plain": [
       "<pandas.io.formats.style.Styler at 0x18b0ce0e520>"
      ]
     },
     "metadata": {},
     "output_type": "display_data"
    },
    {
     "data": {
      "text/markdown": [
       "### When optimizing the threshold on each song"
      ],
      "text/plain": [
       "<IPython.core.display.Markdown object>"
      ]
     },
     "metadata": {},
     "output_type": "display_data"
    },
    {
     "data": {
      "text/html": [
       "<style  type=\"text/css\" >\n",
       "    #T_207ddeb0_8b57_11eb_8c0f_9a764120fcf3row0_col2 {\n",
       "            width:  10em;\n",
       "             height:  80%;\n",
       "        }    #T_207ddeb0_8b57_11eb_8c0f_9a764120fcf3row0_col3 {\n",
       "            width:  10em;\n",
       "             height:  80%;\n",
       "        }    #T_207ddeb0_8b57_11eb_8c0f_9a764120fcf3row1_col2 {\n",
       "            width:  10em;\n",
       "             height:  80%;\n",
       "            background:  linear-gradient(90deg,#5fba7d 100.0%, transparent 100.0%);\n",
       "        }    #T_207ddeb0_8b57_11eb_8c0f_9a764120fcf3row1_col3 {\n",
       "            width:  10em;\n",
       "             height:  80%;\n",
       "            background:  linear-gradient(90deg,#5fba7d 100.0%, transparent 100.0%);\n",
       "        }    #T_207ddeb0_8b57_11eb_8c0f_9a764120fcf3row2_col2 {\n",
       "            width:  10em;\n",
       "             height:  80%;\n",
       "            background:  linear-gradient(90deg,#5fba7d 69.1%, transparent 69.1%);\n",
       "        }    #T_207ddeb0_8b57_11eb_8c0f_9a764120fcf3row2_col3 {\n",
       "            width:  10em;\n",
       "             height:  80%;\n",
       "            background:  linear-gradient(90deg,#5fba7d 66.3%, transparent 66.3%);\n",
       "        }</style><table id=\"T_207ddeb0_8b57_11eb_8c0f_9a764120fcf3\" ><thead>    <tr>        <th class=\"blank level0\" ></th>        <th class=\"col_heading level0 col0\" >Precision</th>        <th class=\"col_heading level0 col1\" >Recall</th>        <th class=\"col_heading level0 col2\" >F measure</th>        <th class=\"col_heading level0 col3\" >Accuracy</th>        <th class=\"col_heading level0 col4\" >True Positives</th>        <th class=\"col_heading level0 col5\" >False Positives</th>        <th class=\"col_heading level0 col6\" >False Negatives</th>    </tr></thead><tbody>\n",
       "                <tr>\n",
       "                        <th id=\"T_207ddeb0_8b57_11eb_8c0f_9a764120fcf3level0_row0\" class=\"row_heading level0 row0\" >T: 5</th>\n",
       "                        <td id=\"T_207ddeb0_8b57_11eb_8c0f_9a764120fcf3row0_col0\" class=\"data row0 col0\" >0.872700</td>\n",
       "                        <td id=\"T_207ddeb0_8b57_11eb_8c0f_9a764120fcf3row0_col1\" class=\"data row0 col1\" >0.834600</td>\n",
       "                        <td id=\"T_207ddeb0_8b57_11eb_8c0f_9a764120fcf3row0_col2\" class=\"data row0 col2\" >0.851600</td>\n",
       "                        <td id=\"T_207ddeb0_8b57_11eb_8c0f_9a764120fcf3row0_col3\" class=\"data row0 col3\" >0.752400</td>\n",
       "                        <td id=\"T_207ddeb0_8b57_11eb_8c0f_9a764120fcf3row0_col4\" class=\"data row0 col4\" >246.133300</td>\n",
       "                        <td id=\"T_207ddeb0_8b57_11eb_8c0f_9a764120fcf3row0_col5\" class=\"data row0 col5\" >35.366700</td>\n",
       "                        <td id=\"T_207ddeb0_8b57_11eb_8c0f_9a764120fcf3row0_col6\" class=\"data row0 col6\" >47.633300</td>\n",
       "            </tr>\n",
       "            <tr>\n",
       "                        <th id=\"T_207ddeb0_8b57_11eb_8c0f_9a764120fcf3level0_row1\" class=\"row_heading level0 row1\" >T: 10</th>\n",
       "                        <td id=\"T_207ddeb0_8b57_11eb_8c0f_9a764120fcf3row1_col0\" class=\"data row1 col0\" >0.910400</td>\n",
       "                        <td id=\"T_207ddeb0_8b57_11eb_8c0f_9a764120fcf3row1_col1\" class=\"data row1 col1\" >0.888000</td>\n",
       "                        <td id=\"T_207ddeb0_8b57_11eb_8c0f_9a764120fcf3row1_col2\" class=\"data row1 col2\" >0.898200</td>\n",
       "                        <td id=\"T_207ddeb0_8b57_11eb_8c0f_9a764120fcf3row1_col3\" class=\"data row1 col3\" >0.824300</td>\n",
       "                        <td id=\"T_207ddeb0_8b57_11eb_8c0f_9a764120fcf3row1_col4\" class=\"data row1 col4\" >259.100000</td>\n",
       "                        <td id=\"T_207ddeb0_8b57_11eb_8c0f_9a764120fcf3row1_col5\" class=\"data row1 col5\" >25.466700</td>\n",
       "                        <td id=\"T_207ddeb0_8b57_11eb_8c0f_9a764120fcf3row1_col6\" class=\"data row1 col6\" >34.600000</td>\n",
       "            </tr>\n",
       "            <tr>\n",
       "                        <th id=\"T_207ddeb0_8b57_11eb_8c0f_9a764120fcf3level0_row2\" class=\"row_heading level0 row2\" >T: 20</th>\n",
       "                        <td id=\"T_207ddeb0_8b57_11eb_8c0f_9a764120fcf3row2_col0\" class=\"data row2 col0\" >0.882100</td>\n",
       "                        <td id=\"T_207ddeb0_8b57_11eb_8c0f_9a764120fcf3row2_col1\" class=\"data row2 col1\" >0.889400</td>\n",
       "                        <td id=\"T_207ddeb0_8b57_11eb_8c0f_9a764120fcf3row2_col2\" class=\"data row2 col2\" >0.883800</td>\n",
       "                        <td id=\"T_207ddeb0_8b57_11eb_8c0f_9a764120fcf3row2_col3\" class=\"data row2 col3\" >0.800100</td>\n",
       "                        <td id=\"T_207ddeb0_8b57_11eb_8c0f_9a764120fcf3row2_col4\" class=\"data row2 col4\" >257.766700</td>\n",
       "                        <td id=\"T_207ddeb0_8b57_11eb_8c0f_9a764120fcf3row2_col5\" class=\"data row2 col5\" >36.700000</td>\n",
       "                        <td id=\"T_207ddeb0_8b57_11eb_8c0f_9a764120fcf3row2_col6\" class=\"data row2 col6\" >35.966700</td>\n",
       "            </tr>\n",
       "    </tbody></table>"
      ],
      "text/plain": [
       "<pandas.io.formats.style.Styler at 0x18b0ce0eac0>"
      ]
     },
     "metadata": {},
     "output_type": "display_data"
    },
    {
     "data": {
      "text/markdown": [
       "## Piano: ENSTDkAm"
      ],
      "text/plain": [
       "<IPython.core.display.Markdown object>"
      ]
     },
     "metadata": {},
     "output_type": "display_data"
    },
    {
     "data": {
      "text/markdown": [
       "### When averaging each threshold on all MAPS"
      ],
      "text/plain": [
       "<IPython.core.display.Markdown object>"
      ]
     },
     "metadata": {},
     "output_type": "display_data"
    },
    {
     "data": {
      "text/html": [
       "<style  type=\"text/css\" >\n",
       "    #T_3af0bac7_8b58_11eb_b9ba_9a764120fcf3row0_col3 {\n",
       "            width:  10em;\n",
       "             height:  80%;\n",
       "        }    #T_3af0bac7_8b58_11eb_b9ba_9a764120fcf3row0_col4 {\n",
       "            width:  10em;\n",
       "             height:  80%;\n",
       "        }    #T_3af0bac7_8b58_11eb_b9ba_9a764120fcf3row1_col3 {\n",
       "            width:  10em;\n",
       "             height:  80%;\n",
       "            background:  linear-gradient(90deg,#5fba7d 100.0%, transparent 100.0%);\n",
       "        }    #T_3af0bac7_8b58_11eb_b9ba_9a764120fcf3row1_col4 {\n",
       "            width:  10em;\n",
       "             height:  80%;\n",
       "            background:  linear-gradient(90deg,#5fba7d 100.0%, transparent 100.0%);\n",
       "        }    #T_3af0bac7_8b58_11eb_b9ba_9a764120fcf3row2_col3 {\n",
       "            width:  10em;\n",
       "             height:  80%;\n",
       "            background:  linear-gradient(90deg,#5fba7d 75.4%, transparent 75.4%);\n",
       "        }    #T_3af0bac7_8b58_11eb_b9ba_9a764120fcf3row2_col4 {\n",
       "            width:  10em;\n",
       "             height:  80%;\n",
       "            background:  linear-gradient(90deg,#5fba7d 71.9%, transparent 71.9%);\n",
       "        }</style><table id=\"T_3af0bac7_8b58_11eb_b9ba_9a764120fcf3\" ><thead>    <tr>        <th class=\"blank level0\" ></th>        <th class=\"col_heading level0 col0\" >Best threshold</th>        <th class=\"col_heading level0 col1\" >Precision</th>        <th class=\"col_heading level0 col2\" >Recall</th>        <th class=\"col_heading level0 col3\" >F measure</th>        <th class=\"col_heading level0 col4\" >Accuracy</th>        <th class=\"col_heading level0 col5\" >True Positives</th>        <th class=\"col_heading level0 col6\" >False Positives</th>        <th class=\"col_heading level0 col7\" >False Negatives</th>    </tr></thead><tbody>\n",
       "                <tr>\n",
       "                        <th id=\"T_3af0bac7_8b58_11eb_b9ba_9a764120fcf3level0_row0\" class=\"row_heading level0 row0\" >T: 5</th>\n",
       "                        <td id=\"T_3af0bac7_8b58_11eb_b9ba_9a764120fcf3row0_col0\" class=\"data row0 col0\" >0.290000</td>\n",
       "                        <td id=\"T_3af0bac7_8b58_11eb_b9ba_9a764120fcf3row0_col1\" class=\"data row0 col1\" >0.757900</td>\n",
       "                        <td id=\"T_3af0bac7_8b58_11eb_b9ba_9a764120fcf3row0_col2\" class=\"data row0 col2\" >0.690700</td>\n",
       "                        <td id=\"T_3af0bac7_8b58_11eb_b9ba_9a764120fcf3row0_col3\" class=\"data row0 col3\" >0.710500</td>\n",
       "                        <td id=\"T_3af0bac7_8b58_11eb_b9ba_9a764120fcf3row0_col4\" class=\"data row0 col4\" >0.566000</td>\n",
       "                        <td id=\"T_3af0bac7_8b58_11eb_b9ba_9a764120fcf3row0_col5\" class=\"data row0 col5\" >204.800000</td>\n",
       "                        <td id=\"T_3af0bac7_8b58_11eb_b9ba_9a764120fcf3row0_col6\" class=\"data row0 col6\" >64.400000</td>\n",
       "                        <td id=\"T_3af0bac7_8b58_11eb_b9ba_9a764120fcf3row0_col7\" class=\"data row0 col7\" >87.033300</td>\n",
       "            </tr>\n",
       "            <tr>\n",
       "                        <th id=\"T_3af0bac7_8b58_11eb_b9ba_9a764120fcf3level0_row1\" class=\"row_heading level0 row1\" >T: 10</th>\n",
       "                        <td id=\"T_3af0bac7_8b58_11eb_b9ba_9a764120fcf3row1_col0\" class=\"data row1 col0\" >0.430000</td>\n",
       "                        <td id=\"T_3af0bac7_8b58_11eb_b9ba_9a764120fcf3row1_col1\" class=\"data row1 col1\" >0.831400</td>\n",
       "                        <td id=\"T_3af0bac7_8b58_11eb_b9ba_9a764120fcf3row1_col2\" class=\"data row1 col2\" >0.754600</td>\n",
       "                        <td id=\"T_3af0bac7_8b58_11eb_b9ba_9a764120fcf3row1_col3\" class=\"data row1 col3\" >0.784500</td>\n",
       "                        <td id=\"T_3af0bac7_8b58_11eb_b9ba_9a764120fcf3row1_col4\" class=\"data row1 col4\" >0.663900</td>\n",
       "                        <td id=\"T_3af0bac7_8b58_11eb_b9ba_9a764120fcf3row1_col5\" class=\"data row1 col5\" >221.533300</td>\n",
       "                        <td id=\"T_3af0bac7_8b58_11eb_b9ba_9a764120fcf3row1_col6\" class=\"data row1 col6\" >42.600000</td>\n",
       "                        <td id=\"T_3af0bac7_8b58_11eb_b9ba_9a764120fcf3row1_col7\" class=\"data row1 col7\" >70.300000</td>\n",
       "            </tr>\n",
       "            <tr>\n",
       "                        <th id=\"T_3af0bac7_8b58_11eb_b9ba_9a764120fcf3level0_row2\" class=\"row_heading level0 row2\" >T: 20</th>\n",
       "                        <td id=\"T_3af0bac7_8b58_11eb_b9ba_9a764120fcf3row2_col0\" class=\"data row2 col0\" >0.590000</td>\n",
       "                        <td id=\"T_3af0bac7_8b58_11eb_b9ba_9a764120fcf3row2_col1\" class=\"data row2 col1\" >0.805300</td>\n",
       "                        <td id=\"T_3af0bac7_8b58_11eb_b9ba_9a764120fcf3row2_col2\" class=\"data row2 col2\" >0.742100</td>\n",
       "                        <td id=\"T_3af0bac7_8b58_11eb_b9ba_9a764120fcf3row2_col3\" class=\"data row2 col3\" >0.766300</td>\n",
       "                        <td id=\"T_3af0bac7_8b58_11eb_b9ba_9a764120fcf3row2_col4\" class=\"data row2 col4\" >0.636400</td>\n",
       "                        <td id=\"T_3af0bac7_8b58_11eb_b9ba_9a764120fcf3row2_col5\" class=\"data row2 col5\" >214.666700</td>\n",
       "                        <td id=\"T_3af0bac7_8b58_11eb_b9ba_9a764120fcf3row2_col6\" class=\"data row2 col6\" >48.033300</td>\n",
       "                        <td id=\"T_3af0bac7_8b58_11eb_b9ba_9a764120fcf3row2_col7\" class=\"data row2 col7\" >77.133300</td>\n",
       "            </tr>\n",
       "    </tbody></table>"
      ],
      "text/plain": [
       "<pandas.io.formats.style.Styler at 0x18b0de2da90>"
      ]
     },
     "metadata": {},
     "output_type": "display_data"
    },
    {
     "data": {
      "text/markdown": [
       "### When optimizing the threshold on each song"
      ],
      "text/plain": [
       "<IPython.core.display.Markdown object>"
      ]
     },
     "metadata": {},
     "output_type": "display_data"
    },
    {
     "data": {
      "text/html": [
       "<style  type=\"text/css\" >\n",
       "    #T_3af2dc8c_8b58_11eb_8287_9a764120fcf3row0_col2 {\n",
       "            width:  10em;\n",
       "             height:  80%;\n",
       "        }    #T_3af2dc8c_8b58_11eb_8287_9a764120fcf3row0_col3 {\n",
       "            width:  10em;\n",
       "             height:  80%;\n",
       "        }    #T_3af2dc8c_8b58_11eb_8287_9a764120fcf3row1_col2 {\n",
       "            width:  10em;\n",
       "             height:  80%;\n",
       "            background:  linear-gradient(90deg,#5fba7d 100.0%, transparent 100.0%);\n",
       "        }    #T_3af2dc8c_8b58_11eb_8287_9a764120fcf3row1_col3 {\n",
       "            width:  10em;\n",
       "             height:  80%;\n",
       "            background:  linear-gradient(90deg,#5fba7d 100.0%, transparent 100.0%);\n",
       "        }    #T_3af2dc8c_8b58_11eb_8287_9a764120fcf3row2_col2 {\n",
       "            width:  10em;\n",
       "             height:  80%;\n",
       "            background:  linear-gradient(90deg,#5fba7d 58.2%, transparent 58.2%);\n",
       "        }    #T_3af2dc8c_8b58_11eb_8287_9a764120fcf3row2_col3 {\n",
       "            width:  10em;\n",
       "             height:  80%;\n",
       "            background:  linear-gradient(90deg,#5fba7d 56.1%, transparent 56.1%);\n",
       "        }</style><table id=\"T_3af2dc8c_8b58_11eb_8287_9a764120fcf3\" ><thead>    <tr>        <th class=\"blank level0\" ></th>        <th class=\"col_heading level0 col0\" >Precision</th>        <th class=\"col_heading level0 col1\" >Recall</th>        <th class=\"col_heading level0 col2\" >F measure</th>        <th class=\"col_heading level0 col3\" >Accuracy</th>        <th class=\"col_heading level0 col4\" >True Positives</th>        <th class=\"col_heading level0 col5\" >False Positives</th>        <th class=\"col_heading level0 col6\" >False Negatives</th>    </tr></thead><tbody>\n",
       "                <tr>\n",
       "                        <th id=\"T_3af2dc8c_8b58_11eb_8287_9a764120fcf3level0_row0\" class=\"row_heading level0 row0\" >T: 5</th>\n",
       "                        <td id=\"T_3af2dc8c_8b58_11eb_8287_9a764120fcf3row0_col0\" class=\"data row0 col0\" >0.777000</td>\n",
       "                        <td id=\"T_3af2dc8c_8b58_11eb_8287_9a764120fcf3row0_col1\" class=\"data row0 col1\" >0.706100</td>\n",
       "                        <td id=\"T_3af2dc8c_8b58_11eb_8287_9a764120fcf3row0_col2\" class=\"data row0 col2\" >0.737400</td>\n",
       "                        <td id=\"T_3af2dc8c_8b58_11eb_8287_9a764120fcf3row0_col3\" class=\"data row0 col3\" >0.595900</td>\n",
       "                        <td id=\"T_3af2dc8c_8b58_11eb_8287_9a764120fcf3row0_col4\" class=\"data row0 col4\" >209.933300</td>\n",
       "                        <td id=\"T_3af2dc8c_8b58_11eb_8287_9a764120fcf3row0_col5\" class=\"data row0 col5\" >55.400000</td>\n",
       "                        <td id=\"T_3af2dc8c_8b58_11eb_8287_9a764120fcf3row0_col6\" class=\"data row0 col6\" >81.833300</td>\n",
       "            </tr>\n",
       "            <tr>\n",
       "                        <th id=\"T_3af2dc8c_8b58_11eb_8287_9a764120fcf3level0_row1\" class=\"row_heading level0 row1\" >T: 10</th>\n",
       "                        <td id=\"T_3af2dc8c_8b58_11eb_8287_9a764120fcf3row1_col0\" class=\"data row1 col0\" >0.833500</td>\n",
       "                        <td id=\"T_3af2dc8c_8b58_11eb_8287_9a764120fcf3row1_col1\" class=\"data row1 col1\" >0.776200</td>\n",
       "                        <td id=\"T_3af2dc8c_8b58_11eb_8287_9a764120fcf3row1_col2\" class=\"data row1 col2\" >0.802300</td>\n",
       "                        <td id=\"T_3af2dc8c_8b58_11eb_8287_9a764120fcf3row1_col3\" class=\"data row1 col3\" >0.686600</td>\n",
       "                        <td id=\"T_3af2dc8c_8b58_11eb_8287_9a764120fcf3row1_col4\" class=\"data row1 col4\" >229.066700</td>\n",
       "                        <td id=\"T_3af2dc8c_8b58_11eb_8287_9a764120fcf3row1_col5\" class=\"data row1 col5\" >41.600000</td>\n",
       "                        <td id=\"T_3af2dc8c_8b58_11eb_8287_9a764120fcf3row1_col6\" class=\"data row1 col6\" >62.733300</td>\n",
       "            </tr>\n",
       "            <tr>\n",
       "                        <th id=\"T_3af2dc8c_8b58_11eb_8287_9a764120fcf3level0_row2\" class=\"row_heading level0 row2\" >T: 20</th>\n",
       "                        <td id=\"T_3af2dc8c_8b58_11eb_8287_9a764120fcf3row2_col0\" class=\"data row2 col0\" >0.786600</td>\n",
       "                        <td id=\"T_3af2dc8c_8b58_11eb_8287_9a764120fcf3row2_col1\" class=\"data row2 col1\" >0.772300</td>\n",
       "                        <td id=\"T_3af2dc8c_8b58_11eb_8287_9a764120fcf3row2_col2\" class=\"data row2 col2\" >0.775200</td>\n",
       "                        <td id=\"T_3af2dc8c_8b58_11eb_8287_9a764120fcf3row2_col3\" class=\"data row2 col3\" >0.646800</td>\n",
       "                        <td id=\"T_3af2dc8c_8b58_11eb_8287_9a764120fcf3row2_col4\" class=\"data row2 col4\" >224.700000</td>\n",
       "                        <td id=\"T_3af2dc8c_8b58_11eb_8287_9a764120fcf3row2_col5\" class=\"data row2 col5\" >61.100000</td>\n",
       "                        <td id=\"T_3af2dc8c_8b58_11eb_8287_9a764120fcf3row2_col6\" class=\"data row2 col6\" >67.100000</td>\n",
       "            </tr>\n",
       "    </tbody></table>"
      ],
      "text/plain": [
       "<pandas.io.formats.style.Styler at 0x18b0de2dc40>"
      ]
     },
     "metadata": {},
     "output_type": "display_data"
    },
    {
     "data": {
      "text/markdown": [
       "## Piano: SptkBGAm"
      ],
      "text/plain": [
       "<IPython.core.display.Markdown object>"
      ]
     },
     "metadata": {},
     "output_type": "display_data"
    },
    {
     "data": {
      "text/markdown": [
       "### When averaging each threshold on all MAPS"
      ],
      "text/plain": [
       "<IPython.core.display.Markdown object>"
      ]
     },
     "metadata": {},
     "output_type": "display_data"
    },
    {
     "data": {
      "text/html": [
       "<style  type=\"text/css\" >\n",
       "    #T_4bd10ff6_8b59_11eb_9b6f_9a764120fcf3row0_col3 {\n",
       "            width:  10em;\n",
       "             height:  80%;\n",
       "            background:  linear-gradient(90deg,#5fba7d 77.8%, transparent 77.8%);\n",
       "        }    #T_4bd10ff6_8b59_11eb_9b6f_9a764120fcf3row0_col4 {\n",
       "            width:  10em;\n",
       "             height:  80%;\n",
       "            background:  linear-gradient(90deg,#5fba7d 66.2%, transparent 66.2%);\n",
       "        }    #T_4bd10ff6_8b59_11eb_9b6f_9a764120fcf3row1_col3 {\n",
       "            width:  10em;\n",
       "             height:  80%;\n",
       "            background:  linear-gradient(90deg,#5fba7d 100.0%, transparent 100.0%);\n",
       "        }    #T_4bd10ff6_8b59_11eb_9b6f_9a764120fcf3row1_col4 {\n",
       "            width:  10em;\n",
       "             height:  80%;\n",
       "            background:  linear-gradient(90deg,#5fba7d 100.0%, transparent 100.0%);\n",
       "        }    #T_4bd10ff6_8b59_11eb_9b6f_9a764120fcf3row2_col3 {\n",
       "            width:  10em;\n",
       "             height:  80%;\n",
       "        }    #T_4bd10ff6_8b59_11eb_9b6f_9a764120fcf3row2_col4 {\n",
       "            width:  10em;\n",
       "             height:  80%;\n",
       "        }</style><table id=\"T_4bd10ff6_8b59_11eb_9b6f_9a764120fcf3\" ><thead>    <tr>        <th class=\"blank level0\" ></th>        <th class=\"col_heading level0 col0\" >Best threshold</th>        <th class=\"col_heading level0 col1\" >Precision</th>        <th class=\"col_heading level0 col2\" >Recall</th>        <th class=\"col_heading level0 col3\" >F measure</th>        <th class=\"col_heading level0 col4\" >Accuracy</th>        <th class=\"col_heading level0 col5\" >True Positives</th>        <th class=\"col_heading level0 col6\" >False Positives</th>        <th class=\"col_heading level0 col7\" >False Negatives</th>    </tr></thead><tbody>\n",
       "                <tr>\n",
       "                        <th id=\"T_4bd10ff6_8b59_11eb_9b6f_9a764120fcf3level0_row0\" class=\"row_heading level0 row0\" >T: 5</th>\n",
       "                        <td id=\"T_4bd10ff6_8b59_11eb_9b6f_9a764120fcf3row0_col0\" class=\"data row0 col0\" >0.330000</td>\n",
       "                        <td id=\"T_4bd10ff6_8b59_11eb_9b6f_9a764120fcf3row0_col1\" class=\"data row0 col1\" >0.853700</td>\n",
       "                        <td id=\"T_4bd10ff6_8b59_11eb_9b6f_9a764120fcf3row0_col2\" class=\"data row0 col2\" >0.809300</td>\n",
       "                        <td id=\"T_4bd10ff6_8b59_11eb_9b6f_9a764120fcf3row0_col3\" class=\"data row0 col3\" >0.812300</td>\n",
       "                        <td id=\"T_4bd10ff6_8b59_11eb_9b6f_9a764120fcf3row0_col4\" class=\"data row0 col4\" >0.701400</td>\n",
       "                        <td id=\"T_4bd10ff6_8b59_11eb_9b6f_9a764120fcf3row0_col5\" class=\"data row0 col5\" >212.966700</td>\n",
       "                        <td id=\"T_4bd10ff6_8b59_11eb_9b6f_9a764120fcf3row0_col6\" class=\"data row0 col6\" >42.100000</td>\n",
       "                        <td id=\"T_4bd10ff6_8b59_11eb_9b6f_9a764120fcf3row0_col7\" class=\"data row0 col7\" >56.033300</td>\n",
       "            </tr>\n",
       "            <tr>\n",
       "                        <th id=\"T_4bd10ff6_8b59_11eb_9b6f_9a764120fcf3level0_row1\" class=\"row_heading level0 row1\" >T: 10</th>\n",
       "                        <td id=\"T_4bd10ff6_8b59_11eb_9b6f_9a764120fcf3row1_col0\" class=\"data row1 col0\" >0.330000</td>\n",
       "                        <td id=\"T_4bd10ff6_8b59_11eb_9b6f_9a764120fcf3row1_col1\" class=\"data row1 col1\" >0.885600</td>\n",
       "                        <td id=\"T_4bd10ff6_8b59_11eb_9b6f_9a764120fcf3row1_col2\" class=\"data row1 col2\" >0.850000</td>\n",
       "                        <td id=\"T_4bd10ff6_8b59_11eb_9b6f_9a764120fcf3row1_col3\" class=\"data row1 col3\" >0.841500</td>\n",
       "                        <td id=\"T_4bd10ff6_8b59_11eb_9b6f_9a764120fcf3row1_col4\" class=\"data row1 col4\" >0.752100</td>\n",
       "                        <td id=\"T_4bd10ff6_8b59_11eb_9b6f_9a764120fcf3row1_col5\" class=\"data row1 col5\" >224.433300</td>\n",
       "                        <td id=\"T_4bd10ff6_8b59_11eb_9b6f_9a764120fcf3row1_col6\" class=\"data row1 col6\" >39.466700</td>\n",
       "                        <td id=\"T_4bd10ff6_8b59_11eb_9b6f_9a764120fcf3row1_col7\" class=\"data row1 col7\" >44.633300</td>\n",
       "            </tr>\n",
       "            <tr>\n",
       "                        <th id=\"T_4bd10ff6_8b59_11eb_9b6f_9a764120fcf3level0_row2\" class=\"row_heading level0 row2\" >T: 20</th>\n",
       "                        <td id=\"T_4bd10ff6_8b59_11eb_9b6f_9a764120fcf3row2_col0\" class=\"data row2 col0\" >0.090000</td>\n",
       "                        <td id=\"T_4bd10ff6_8b59_11eb_9b6f_9a764120fcf3row2_col1\" class=\"data row2 col1\" >0.804500</td>\n",
       "                        <td id=\"T_4bd10ff6_8b59_11eb_9b6f_9a764120fcf3row2_col2\" class=\"data row2 col2\" >0.784600</td>\n",
       "                        <td id=\"T_4bd10ff6_8b59_11eb_9b6f_9a764120fcf3row2_col3\" class=\"data row2 col3\" >0.710200</td>\n",
       "                        <td id=\"T_4bd10ff6_8b59_11eb_9b6f_9a764120fcf3row2_col4\" class=\"data row2 col4\" >0.602200</td>\n",
       "                        <td id=\"T_4bd10ff6_8b59_11eb_9b6f_9a764120fcf3row2_col5\" class=\"data row2 col5\" >203.800000</td>\n",
       "                        <td id=\"T_4bd10ff6_8b59_11eb_9b6f_9a764120fcf3row2_col6\" class=\"data row2 col6\" >118.933300</td>\n",
       "                        <td id=\"T_4bd10ff6_8b59_11eb_9b6f_9a764120fcf3row2_col7\" class=\"data row2 col7\" >65.300000</td>\n",
       "            </tr>\n",
       "    </tbody></table>"
      ],
      "text/plain": [
       "<pandas.io.formats.style.Styler at 0x18b0e363f70>"
      ]
     },
     "metadata": {},
     "output_type": "display_data"
    },
    {
     "data": {
      "text/markdown": [
       "### When optimizing the threshold on each song"
      ],
      "text/plain": [
       "<IPython.core.display.Markdown object>"
      ]
     },
     "metadata": {},
     "output_type": "display_data"
    },
    {
     "data": {
      "text/html": [
       "<style  type=\"text/css\" >\n",
       "    #T_4bd33161_8b59_11eb_9a90_9a764120fcf3row0_col2 {\n",
       "            width:  10em;\n",
       "             height:  80%;\n",
       "        }    #T_4bd33161_8b59_11eb_9a90_9a764120fcf3row0_col3 {\n",
       "            width:  10em;\n",
       "             height:  80%;\n",
       "        }    #T_4bd33161_8b59_11eb_9a90_9a764120fcf3row1_col2 {\n",
       "            width:  10em;\n",
       "             height:  80%;\n",
       "            background:  linear-gradient(90deg,#5fba7d 100.0%, transparent 100.0%);\n",
       "        }    #T_4bd33161_8b59_11eb_9a90_9a764120fcf3row1_col3 {\n",
       "            width:  10em;\n",
       "             height:  80%;\n",
       "            background:  linear-gradient(90deg,#5fba7d 100.0%, transparent 100.0%);\n",
       "        }    #T_4bd33161_8b59_11eb_9a90_9a764120fcf3row2_col2 {\n",
       "            width:  10em;\n",
       "             height:  80%;\n",
       "            background:  linear-gradient(90deg,#5fba7d 91.2%, transparent 91.2%);\n",
       "        }    #T_4bd33161_8b59_11eb_9a90_9a764120fcf3row2_col3 {\n",
       "            width:  10em;\n",
       "             height:  80%;\n",
       "            background:  linear-gradient(90deg,#5fba7d 89.9%, transparent 89.9%);\n",
       "        }</style><table id=\"T_4bd33161_8b59_11eb_9a90_9a764120fcf3\" ><thead>    <tr>        <th class=\"blank level0\" ></th>        <th class=\"col_heading level0 col0\" >Precision</th>        <th class=\"col_heading level0 col1\" >Recall</th>        <th class=\"col_heading level0 col2\" >F measure</th>        <th class=\"col_heading level0 col3\" >Accuracy</th>        <th class=\"col_heading level0 col4\" >True Positives</th>        <th class=\"col_heading level0 col5\" >False Positives</th>        <th class=\"col_heading level0 col6\" >False Negatives</th>    </tr></thead><tbody>\n",
       "                <tr>\n",
       "                        <th id=\"T_4bd33161_8b59_11eb_9a90_9a764120fcf3level0_row0\" class=\"row_heading level0 row0\" >T: 5</th>\n",
       "                        <td id=\"T_4bd33161_8b59_11eb_9a90_9a764120fcf3row0_col0\" class=\"data row0 col0\" >0.880700</td>\n",
       "                        <td id=\"T_4bd33161_8b59_11eb_9a90_9a764120fcf3row0_col1\" class=\"data row0 col1\" >0.857000</td>\n",
       "                        <td id=\"T_4bd33161_8b59_11eb_9a90_9a764120fcf3row0_col2\" class=\"data row0 col2\" >0.868200</td>\n",
       "                        <td id=\"T_4bd33161_8b59_11eb_9a90_9a764120fcf3row0_col3\" class=\"data row0 col3\" >0.777200</td>\n",
       "                        <td id=\"T_4bd33161_8b59_11eb_9a90_9a764120fcf3row0_col4\" class=\"data row0 col4\" >227.300000</td>\n",
       "                        <td id=\"T_4bd33161_8b59_11eb_9a90_9a764120fcf3row0_col5\" class=\"data row0 col5\" >34.366700</td>\n",
       "                        <td id=\"T_4bd33161_8b59_11eb_9a90_9a764120fcf3row0_col6\" class=\"data row0 col6\" >41.733300</td>\n",
       "            </tr>\n",
       "            <tr>\n",
       "                        <th id=\"T_4bd33161_8b59_11eb_9a90_9a764120fcf3level0_row1\" class=\"row_heading level0 row1\" >T: 10</th>\n",
       "                        <td id=\"T_4bd33161_8b59_11eb_9a90_9a764120fcf3row1_col0\" class=\"data row1 col0\" >0.938900</td>\n",
       "                        <td id=\"T_4bd33161_8b59_11eb_9a90_9a764120fcf3row1_col1\" class=\"data row1 col1\" >0.917200</td>\n",
       "                        <td id=\"T_4bd33161_8b59_11eb_9a90_9a764120fcf3row1_col2\" class=\"data row1 col2\" >0.927300</td>\n",
       "                        <td id=\"T_4bd33161_8b59_11eb_9a90_9a764120fcf3row1_col3\" class=\"data row1 col3\" >0.871700</td>\n",
       "                        <td id=\"T_4bd33161_8b59_11eb_9a90_9a764120fcf3row1_col4\" class=\"data row1 col4\" >244.333300</td>\n",
       "                        <td id=\"T_4bd33161_8b59_11eb_9a90_9a764120fcf3row1_col5\" class=\"data row1 col5\" >17.733300</td>\n",
       "                        <td id=\"T_4bd33161_8b59_11eb_9a90_9a764120fcf3row1_col6\" class=\"data row1 col6\" >24.533300</td>\n",
       "            </tr>\n",
       "            <tr>\n",
       "                        <th id=\"T_4bd33161_8b59_11eb_9a90_9a764120fcf3level0_row2\" class=\"row_heading level0 row2\" >T: 20</th>\n",
       "                        <td id=\"T_4bd33161_8b59_11eb_9a90_9a764120fcf3row2_col0\" class=\"data row2 col0\" >0.926600</td>\n",
       "                        <td id=\"T_4bd33161_8b59_11eb_9a90_9a764120fcf3row2_col1\" class=\"data row2 col1\" >0.919200</td>\n",
       "                        <td id=\"T_4bd33161_8b59_11eb_9a90_9a764120fcf3row2_col2\" class=\"data row2 col2\" >0.922100</td>\n",
       "                        <td id=\"T_4bd33161_8b59_11eb_9a90_9a764120fcf3row2_col3\" class=\"data row2 col3\" >0.862200</td>\n",
       "                        <td id=\"T_4bd33161_8b59_11eb_9a90_9a764120fcf3row2_col4\" class=\"data row2 col4\" >245.433300</td>\n",
       "                        <td id=\"T_4bd33161_8b59_11eb_9a90_9a764120fcf3row2_col5\" class=\"data row2 col5\" >21.033300</td>\n",
       "                        <td id=\"T_4bd33161_8b59_11eb_9a90_9a764120fcf3row2_col6\" class=\"data row2 col6\" >23.466700</td>\n",
       "            </tr>\n",
       "    </tbody></table>"
      ],
      "text/plain": [
       "<pandas.io.formats.style.Styler at 0x18b0ce42850>"
      ]
     },
     "metadata": {},
     "output_type": "display_data"
    },
    {
     "data": {
      "text/markdown": [
       "## Piano: StbgTGd2"
      ],
      "text/plain": [
       "<IPython.core.display.Markdown object>"
      ]
     },
     "metadata": {},
     "output_type": "display_data"
    },
    {
     "data": {
      "text/markdown": [
       "### When averaging each threshold on all MAPS"
      ],
      "text/plain": [
       "<IPython.core.display.Markdown object>"
      ]
     },
     "metadata": {},
     "output_type": "display_data"
    },
    {
     "data": {
      "text/html": [
       "<style  type=\"text/css\" >\n",
       "    #T_4a0bf975_8b5a_11eb_8f2f_9a764120fcf3row0_col3 {\n",
       "            width:  10em;\n",
       "             height:  80%;\n",
       "        }    #T_4a0bf975_8b5a_11eb_8f2f_9a764120fcf3row0_col4 {\n",
       "            width:  10em;\n",
       "             height:  80%;\n",
       "        }    #T_4a0bf975_8b5a_11eb_8f2f_9a764120fcf3row1_col3 {\n",
       "            width:  10em;\n",
       "             height:  80%;\n",
       "            background:  linear-gradient(90deg,#5fba7d 100.0%, transparent 100.0%);\n",
       "        }    #T_4a0bf975_8b5a_11eb_8f2f_9a764120fcf3row1_col4 {\n",
       "            width:  10em;\n",
       "             height:  80%;\n",
       "            background:  linear-gradient(90deg,#5fba7d 100.0%, transparent 100.0%);\n",
       "        }    #T_4a0bf975_8b5a_11eb_8f2f_9a764120fcf3row2_col3 {\n",
       "            width:  10em;\n",
       "             height:  80%;\n",
       "            background:  linear-gradient(90deg,#5fba7d 90.3%, transparent 90.3%);\n",
       "        }    #T_4a0bf975_8b5a_11eb_8f2f_9a764120fcf3row2_col4 {\n",
       "            width:  10em;\n",
       "             height:  80%;\n",
       "            background:  linear-gradient(90deg,#5fba7d 90.3%, transparent 90.3%);\n",
       "        }</style><table id=\"T_4a0bf975_8b5a_11eb_8f2f_9a764120fcf3\" ><thead>    <tr>        <th class=\"blank level0\" ></th>        <th class=\"col_heading level0 col0\" >Best threshold</th>        <th class=\"col_heading level0 col1\" >Precision</th>        <th class=\"col_heading level0 col2\" >Recall</th>        <th class=\"col_heading level0 col3\" >F measure</th>        <th class=\"col_heading level0 col4\" >Accuracy</th>        <th class=\"col_heading level0 col5\" >True Positives</th>        <th class=\"col_heading level0 col6\" >False Positives</th>        <th class=\"col_heading level0 col7\" >False Negatives</th>    </tr></thead><tbody>\n",
       "                <tr>\n",
       "                        <th id=\"T_4a0bf975_8b5a_11eb_8f2f_9a764120fcf3level0_row0\" class=\"row_heading level0 row0\" >T: 5</th>\n",
       "                        <td id=\"T_4a0bf975_8b5a_11eb_8f2f_9a764120fcf3row0_col0\" class=\"data row0 col0\" >0.270000</td>\n",
       "                        <td id=\"T_4a0bf975_8b5a_11eb_8f2f_9a764120fcf3row0_col1\" class=\"data row0 col1\" >0.817100</td>\n",
       "                        <td id=\"T_4a0bf975_8b5a_11eb_8f2f_9a764120fcf3row0_col2\" class=\"data row0 col2\" >0.788900</td>\n",
       "                        <td id=\"T_4a0bf975_8b5a_11eb_8f2f_9a764120fcf3row0_col3\" class=\"data row0 col3\" >0.796200</td>\n",
       "                        <td id=\"T_4a0bf975_8b5a_11eb_8f2f_9a764120fcf3row0_col4\" class=\"data row0 col4\" >0.670900</td>\n",
       "                        <td id=\"T_4a0bf975_8b5a_11eb_8f2f_9a764120fcf3row0_col5\" class=\"data row0 col5\" >195.333300</td>\n",
       "                        <td id=\"T_4a0bf975_8b5a_11eb_8f2f_9a764120fcf3row0_col6\" class=\"data row0 col6\" >40.666700</td>\n",
       "                        <td id=\"T_4a0bf975_8b5a_11eb_8f2f_9a764120fcf3row0_col7\" class=\"data row0 col7\" >49.566700</td>\n",
       "            </tr>\n",
       "            <tr>\n",
       "                        <th id=\"T_4a0bf975_8b5a_11eb_8f2f_9a764120fcf3level0_row1\" class=\"row_heading level0 row1\" >T: 10</th>\n",
       "                        <td id=\"T_4a0bf975_8b5a_11eb_8f2f_9a764120fcf3row1_col0\" class=\"data row1 col0\" >0.330000</td>\n",
       "                        <td id=\"T_4a0bf975_8b5a_11eb_8f2f_9a764120fcf3row1_col1\" class=\"data row1 col1\" >0.889000</td>\n",
       "                        <td id=\"T_4a0bf975_8b5a_11eb_8f2f_9a764120fcf3row1_col2\" class=\"data row1 col2\" >0.872600</td>\n",
       "                        <td id=\"T_4a0bf975_8b5a_11eb_8f2f_9a764120fcf3row1_col3\" class=\"data row1 col3\" >0.878300</td>\n",
       "                        <td id=\"T_4a0bf975_8b5a_11eb_8f2f_9a764120fcf3row1_col4\" class=\"data row1 col4\" >0.790800</td>\n",
       "                        <td id=\"T_4a0bf975_8b5a_11eb_8f2f_9a764120fcf3row1_col5\" class=\"data row1 col5\" >214.266700</td>\n",
       "                        <td id=\"T_4a0bf975_8b5a_11eb_8f2f_9a764120fcf3row1_col6\" class=\"data row1 col6\" >25.566700</td>\n",
       "                        <td id=\"T_4a0bf975_8b5a_11eb_8f2f_9a764120fcf3row1_col7\" class=\"data row1 col7\" >30.766700</td>\n",
       "            </tr>\n",
       "            <tr>\n",
       "                        <th id=\"T_4a0bf975_8b5a_11eb_8f2f_9a764120fcf3level0_row2\" class=\"row_heading level0 row2\" >T: 20</th>\n",
       "                        <td id=\"T_4a0bf975_8b5a_11eb_8f2f_9a764120fcf3row2_col0\" class=\"data row2 col0\" >0.510000</td>\n",
       "                        <td id=\"T_4a0bf975_8b5a_11eb_8f2f_9a764120fcf3row2_col1\" class=\"data row2 col1\" >0.893900</td>\n",
       "                        <td id=\"T_4a0bf975_8b5a_11eb_8f2f_9a764120fcf3row2_col2\" class=\"data row2 col2\" >0.856400</td>\n",
       "                        <td id=\"T_4a0bf975_8b5a_11eb_8f2f_9a764120fcf3row2_col3\" class=\"data row2 col3\" >0.870300</td>\n",
       "                        <td id=\"T_4a0bf975_8b5a_11eb_8f2f_9a764120fcf3row2_col4\" class=\"data row2 col4\" >0.779200</td>\n",
       "                        <td id=\"T_4a0bf975_8b5a_11eb_8f2f_9a764120fcf3row2_col5\" class=\"data row2 col5\" >204.866700</td>\n",
       "                        <td id=\"T_4a0bf975_8b5a_11eb_8f2f_9a764120fcf3row2_col6\" class=\"data row2 col6\" >22.300000</td>\n",
       "                        <td id=\"T_4a0bf975_8b5a_11eb_8f2f_9a764120fcf3row2_col7\" class=\"data row2 col7\" >40.100000</td>\n",
       "            </tr>\n",
       "    </tbody></table>"
      ],
      "text/plain": [
       "<pandas.io.formats.style.Styler at 0x18b0dbf4fa0>"
      ]
     },
     "metadata": {},
     "output_type": "display_data"
    },
    {
     "data": {
      "text/markdown": [
       "### When optimizing the threshold on each song"
      ],
      "text/plain": [
       "<IPython.core.display.Markdown object>"
      ]
     },
     "metadata": {},
     "output_type": "display_data"
    },
    {
     "data": {
      "text/html": [
       "<style  type=\"text/css\" >\n",
       "    #T_4a0d7f0d_8b5a_11eb_83c7_9a764120fcf3row0_col2 {\n",
       "            width:  10em;\n",
       "             height:  80%;\n",
       "        }    #T_4a0d7f0d_8b5a_11eb_83c7_9a764120fcf3row0_col3 {\n",
       "            width:  10em;\n",
       "             height:  80%;\n",
       "        }    #T_4a0d7f0d_8b5a_11eb_83c7_9a764120fcf3row1_col2 {\n",
       "            width:  10em;\n",
       "             height:  80%;\n",
       "            background:  linear-gradient(90deg,#5fba7d 100.0%, transparent 100.0%);\n",
       "        }    #T_4a0d7f0d_8b5a_11eb_83c7_9a764120fcf3row1_col3 {\n",
       "            width:  10em;\n",
       "             height:  80%;\n",
       "            background:  linear-gradient(90deg,#5fba7d 100.0%, transparent 100.0%);\n",
       "        }    #T_4a0d7f0d_8b5a_11eb_83c7_9a764120fcf3row2_col2 {\n",
       "            width:  10em;\n",
       "             height:  80%;\n",
       "            background:  linear-gradient(90deg,#5fba7d 93.8%, transparent 93.8%);\n",
       "        }    #T_4a0d7f0d_8b5a_11eb_83c7_9a764120fcf3row2_col3 {\n",
       "            width:  10em;\n",
       "             height:  80%;\n",
       "            background:  linear-gradient(90deg,#5fba7d 91.7%, transparent 91.7%);\n",
       "        }</style><table id=\"T_4a0d7f0d_8b5a_11eb_83c7_9a764120fcf3\" ><thead>    <tr>        <th class=\"blank level0\" ></th>        <th class=\"col_heading level0 col0\" >Precision</th>        <th class=\"col_heading level0 col1\" >Recall</th>        <th class=\"col_heading level0 col2\" >F measure</th>        <th class=\"col_heading level0 col3\" >Accuracy</th>        <th class=\"col_heading level0 col4\" >True Positives</th>        <th class=\"col_heading level0 col5\" >False Positives</th>        <th class=\"col_heading level0 col6\" >False Negatives</th>    </tr></thead><tbody>\n",
       "                <tr>\n",
       "                        <th id=\"T_4a0d7f0d_8b5a_11eb_83c7_9a764120fcf3level0_row0\" class=\"row_heading level0 row0\" >T: 5</th>\n",
       "                        <td id=\"T_4a0d7f0d_8b5a_11eb_83c7_9a764120fcf3row0_col0\" class=\"data row0 col0\" >0.825800</td>\n",
       "                        <td id=\"T_4a0d7f0d_8b5a_11eb_83c7_9a764120fcf3row0_col1\" class=\"data row0 col1\" >0.828300</td>\n",
       "                        <td id=\"T_4a0d7f0d_8b5a_11eb_83c7_9a764120fcf3row0_col2\" class=\"data row0 col2\" >0.823200</td>\n",
       "                        <td id=\"T_4a0d7f0d_8b5a_11eb_83c7_9a764120fcf3row0_col3\" class=\"data row0 col3\" >0.709600</td>\n",
       "                        <td id=\"T_4a0d7f0d_8b5a_11eb_83c7_9a764120fcf3row0_col4\" class=\"data row0 col4\" >203.300000</td>\n",
       "                        <td id=\"T_4a0d7f0d_8b5a_11eb_83c7_9a764120fcf3row0_col5\" class=\"data row0 col5\" >42.833300</td>\n",
       "                        <td id=\"T_4a0d7f0d_8b5a_11eb_83c7_9a764120fcf3row0_col6\" class=\"data row0 col6\" >41.533300</td>\n",
       "            </tr>\n",
       "            <tr>\n",
       "                        <th id=\"T_4a0d7f0d_8b5a_11eb_83c7_9a764120fcf3level0_row1\" class=\"row_heading level0 row1\" >T: 10</th>\n",
       "                        <td id=\"T_4a0d7f0d_8b5a_11eb_83c7_9a764120fcf3row1_col0\" class=\"data row1 col0\" >0.910700</td>\n",
       "                        <td id=\"T_4a0d7f0d_8b5a_11eb_83c7_9a764120fcf3row1_col1\" class=\"data row1 col1\" >0.877400</td>\n",
       "                        <td id=\"T_4a0d7f0d_8b5a_11eb_83c7_9a764120fcf3row1_col2\" class=\"data row1 col2\" >0.892700</td>\n",
       "                        <td id=\"T_4a0d7f0d_8b5a_11eb_83c7_9a764120fcf3row1_col3\" class=\"data row1 col3\" >0.814700</td>\n",
       "                        <td id=\"T_4a0d7f0d_8b5a_11eb_83c7_9a764120fcf3row1_col4\" class=\"data row1 col4\" >215.500000</td>\n",
       "                        <td id=\"T_4a0d7f0d_8b5a_11eb_83c7_9a764120fcf3row1_col5\" class=\"data row1 col5\" >20.500000</td>\n",
       "                        <td id=\"T_4a0d7f0d_8b5a_11eb_83c7_9a764120fcf3row1_col6\" class=\"data row1 col6\" >29.400000</td>\n",
       "            </tr>\n",
       "            <tr>\n",
       "                        <th id=\"T_4a0d7f0d_8b5a_11eb_83c7_9a764120fcf3level0_row2\" class=\"row_heading level0 row2\" >T: 20</th>\n",
       "                        <td id=\"T_4a0d7f0d_8b5a_11eb_83c7_9a764120fcf3row2_col0\" class=\"data row2 col0\" >0.892300</td>\n",
       "                        <td id=\"T_4a0d7f0d_8b5a_11eb_83c7_9a764120fcf3row2_col1\" class=\"data row2 col1\" >0.888200</td>\n",
       "                        <td id=\"T_4a0d7f0d_8b5a_11eb_83c7_9a764120fcf3row2_col2\" class=\"data row2 col2\" >0.888400</td>\n",
       "                        <td id=\"T_4a0d7f0d_8b5a_11eb_83c7_9a764120fcf3row2_col3\" class=\"data row2 col3\" >0.806000</td>\n",
       "                        <td id=\"T_4a0d7f0d_8b5a_11eb_83c7_9a764120fcf3row2_col4\" class=\"data row2 col4\" >215.400000</td>\n",
       "                        <td id=\"T_4a0d7f0d_8b5a_11eb_83c7_9a764120fcf3row2_col5\" class=\"data row2 col5\" >25.033300</td>\n",
       "                        <td id=\"T_4a0d7f0d_8b5a_11eb_83c7_9a764120fcf3row2_col6\" class=\"data row2 col6\" >29.500000</td>\n",
       "            </tr>\n",
       "    </tbody></table>"
      ],
      "text/plain": [
       "<pandas.io.formats.style.Styler at 0x18b0dbd8460>"
      ]
     },
     "metadata": {},
     "output_type": "display_data"
    }
   ],
   "source": [
    "for piano_type in [\"AkPnCGdD\",\"ENSTDkCl\",\"AkPnBcht\",\"AkPnBsdf\",\"AkPnStgb\",\"ENSTDkAm\",\"SptkBGAm\",\"StbgTGd2\"]:\n",
    "    try:\n",
    "        compute_scores_database(piano_type, H_normalization = True, adaptative_threshold = True)\n",
    "    except IndexError:\n",
    "        print(\"We have to compute this piano at these conditions (piano {}, T = 5, 10, 20, tol = 1e-8 and itmax = 100).\".format(piano_type))"
   ]
  }
 ],
 "metadata": {
  "kernelspec": {
   "display_name": "Python 3",
   "language": "python",
   "name": "python3"
  },
  "language_info": {
   "codemirror_mode": {
    "name": "ipython",
    "version": 3
   },
   "file_extension": ".py",
   "mimetype": "text/x-python",
   "name": "python",
   "nbconvert_exporter": "python",
   "pygments_lexer": "ipython3",
   "version": "3.8.5"
  },
  "toc": {
   "base_numbering": 1,
   "nav_menu": {},
   "number_sections": true,
   "sideBar": true,
   "skip_h1_title": false,
   "title_cell": "Table of Contents",
   "title_sidebar": "Contents",
   "toc_cell": false,
   "toc_position": {},
   "toc_section_display": true,
   "toc_window_display": false
  },
  "varInspector": {
   "cols": {
    "lenName": 16,
    "lenType": 16,
    "lenVar": 40
   },
   "kernels_config": {
    "python": {
     "delete_cmd_postfix": "",
     "delete_cmd_prefix": "del ",
     "library": "var_list.py",
     "varRefreshCmd": "print(var_dic_list())"
    },
    "r": {
     "delete_cmd_postfix": ") ",
     "delete_cmd_prefix": "rm(",
     "library": "var_list.r",
     "varRefreshCmd": "cat(var_dic_list()) "
    }
   },
   "types_to_exclude": [
    "module",
    "function",
    "builtin_function_or_method",
    "instance",
    "_Feature"
   ],
   "window_display": false
  }
 },
 "nbformat": 4,
 "nbformat_minor": 4
}
