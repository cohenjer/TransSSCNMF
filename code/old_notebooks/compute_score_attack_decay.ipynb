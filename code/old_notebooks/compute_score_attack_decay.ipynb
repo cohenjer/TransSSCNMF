{
 "cells": [
  {
   "cell_type": "code",
   "execution_count": 1,
   "id": "descending-maine",
   "metadata": {},
   "outputs": [
    {
     "ename": "ModuleNotFoundError",
     "evalue": "No module named 'mir_eval'",
     "output_type": "error",
     "traceback": [
      "\u001b[0;31m---------------------------------------------------------------------------\u001b[0m",
      "\u001b[0;31mModuleNotFoundError\u001b[0m                       Traceback (most recent call last)",
      "\u001b[0;32m<ipython-input-1-9012583cd301>\u001b[0m in \u001b[0;36m<module>\u001b[0;34m\u001b[0m\n\u001b[1;32m      1\u001b[0m \u001b[0;32mimport\u001b[0m \u001b[0mnumpy\u001b[0m \u001b[0;32mas\u001b[0m \u001b[0mnp\u001b[0m\u001b[0;34m\u001b[0m\u001b[0;34m\u001b[0m\u001b[0m\n\u001b[0;32m----> 2\u001b[0;31m \u001b[0;32mimport\u001b[0m \u001b[0mmir_eval\u001b[0m\u001b[0;34m.\u001b[0m\u001b[0mtranscription\u001b[0m\u001b[0;34m\u001b[0m\u001b[0;34m\u001b[0m\u001b[0m\n\u001b[0m\u001b[1;32m      3\u001b[0m \u001b[0;32mimport\u001b[0m \u001b[0mos\u001b[0m\u001b[0;34m\u001b[0m\u001b[0;34m\u001b[0m\u001b[0m\n\u001b[1;32m      4\u001b[0m \u001b[0;32mfrom\u001b[0m \u001b[0mIPython\u001b[0m\u001b[0;34m.\u001b[0m\u001b[0mdisplay\u001b[0m \u001b[0;32mimport\u001b[0m \u001b[0mdisplay\u001b[0m\u001b[0;34m,\u001b[0m \u001b[0mMarkdown\u001b[0m\u001b[0;34m\u001b[0m\u001b[0;34m\u001b[0m\u001b[0m\n\u001b[1;32m      5\u001b[0m \u001b[0;32mfrom\u001b[0m \u001b[0mmidiutil\u001b[0m \u001b[0;32mimport\u001b[0m \u001b[0mMIDIFile\u001b[0m\u001b[0;34m\u001b[0m\u001b[0;34m\u001b[0m\u001b[0m\n",
      "\u001b[0;31mModuleNotFoundError\u001b[0m: No module named 'mir_eval'"
     ]
    }
   ],
   "source": [
    "import numpy as np\n",
    "import mir_eval.transcription\n",
    "import os\n",
    "from IPython.display import display, Markdown\n",
    "from midiutil import MIDIFile\n",
    "from scipy.signal import find_peaks\n",
    "\n",
    "from transcribe_factorization import transcribe_activations_dynamic_AD\n",
    "import transcribe_factorization as tf\n",
    "import evaluate_transcription as et\n",
    "import STFT\n",
    "import pandas as pd"
   ]
  },
  {
   "cell_type": "code",
   "execution_count": 18,
   "id": "color-warning",
   "metadata": {},
   "outputs": [],
   "source": [
    "def printmd(string):\n",
    "    display(Markdown(string))\n",
    "\n",
    "def compute_scores_database(piano_type, H_normalization = False, fusion_peak = False):\n",
    "    path_computed_H = \"../data_persisted/activation_AD\"\n",
    "    path_songs = \"/Volumes/TOSHIBA/MAPS/{}/MUS\".format(piano_type)\n",
    "    \n",
    "    time_limit = 30\n",
    "    beta = 1\n",
    "    model_AD = True\n",
    "    note_intensity = \"M\"\n",
    "\n",
    "    codebook = range(21, 109)\n",
    "    onset_tolerance = 50/1000\n",
    "    \n",
    "#     a = np.arange(1e-3, 1e-2, 1e-3)\n",
    "#     b = np.arange(1e-4, 1e-3, 1e-4)\n",
    "#     c = np.arange(1e-5, 1e-4, 1e-5)\n",
    "#     f = np.arange(3e-1, 8e-1, 2e-2)\n",
    "    f = np.arange(1e-3, 1e-1, 1e-3)\n",
    "#     f = np.arange(1e-2, 6e-1, 2e-2)\n",
    "\n",
    "    listthres = np.r_[f]\n",
    "    files = os.listdir(path_songs)\n",
    "    list_files_wav = []\n",
    "    for it_files in files:\n",
    "        if it_files.split(\".\")[-1] == \"wav\" and it_files[0] == \"M\":\n",
    "            list_files_wav.append(it_files)\n",
    "\n",
    "    all_res = []\n",
    "    for a_song in list_files_wav:\n",
    "#         song_name = a_song.replace(\".wav\", \"\")\n",
    "        song_name = a_song[:-4]\n",
    "#         print(\"processing piano song: {}\".format(song_name))\n",
    "#         path_this_song = \"{}/{}\".format(path_songs, a_song)\n",
    "        path_this_song = path_songs + \"/\" + a_song\n",
    "        stft = STFT.STFT(path_this_song, time = time_limit, model_AD=model_AD, channel = 0)\n",
    "\n",
    "        X = stft.get_magnitude_spectrogram()\n",
    "\n",
    "#         annot_name = a_song.replace(\"wav\",\"txt\")\n",
    "#         annot_this_song = \"{}/{}\".format(path_songs, annot_name)\n",
    "        annot_this_song = path_songs + \"/\" + a_song[:-3] + \"txt\"\n",
    "        note_annotations = et.load_ref_in_array(annot_this_song, time_limit=time_limit)\n",
    "        ref = np.array(note_annotations, float)\n",
    "        ref_pitches = np.array(ref[:,2], int)\n",
    "        try:\n",
    "            #res_each_song = []\n",
    "            res_a_param = []\n",
    "            for mode in [\"attack\", \"normal\"]:\n",
    "                H_persisted_name = \"AD_{}_activations_song_{}_W_learned_{}_beta_{}_stftAD_{}_intensity_W_{}_time_limit_{}\".format(mode, song_name, piano_type, beta, model_AD, note_intensity, time_limit)\n",
    "                H = np.load(\"{}/{}.npy\".format(path_computed_H, H_persisted_name), allow_pickle = True)\n",
    "                res_every_thresh = []\n",
    "                for threshold in listthres:\n",
    "                    if fusion_peak:\n",
    "                        prediction, _ = transcribe_activations_dynamic_AD(codebook, H, stft, threshold, H_normalization = H_normalization)\n",
    "                    else:\n",
    "                        prediction, _ = tf.transcribe_activations_dynamic(codebook, H, stft, threshold, H_normalization = H_normalization)\n",
    "                    est = np.array(prediction, float)\n",
    "                    if est.size > 0:\n",
    "                        est_pitches = np.array(est[:,2], int)\n",
    "                        (prec, rec, f_mes, _) = mir_eval.transcription.precision_recall_f1_overlap(ref[:,0:2], ref_pitches, est[:,0:2], est_pitches, offset_ratio = None, onset_tolerance = onset_tolerance)\n",
    "                        matching = mir_eval.transcription.match_notes(ref[:,0:2], ref_pitches, est[:,0:2],est_pitches, onset_tolerance=onset_tolerance,offset_ratio=None)\n",
    "                        TP = len(matching)\n",
    "                        try:\n",
    "                            FP = int(TP * (1 - prec) / prec)\n",
    "                        except ZeroDivisionError:\n",
    "                            FP = 0\n",
    "                        try:\n",
    "                            FN = int(TP * (1 - rec) / rec)\n",
    "                        except ZeroDivisionError:\n",
    "                            FN = 0\n",
    "                        acc = et.accuracy(TP,FP,FN)\n",
    "                    else:\n",
    "                        prec, rec, f_mes, acc, TP, FP, FN = (0,0,0,0,0,0,0)\n",
    "                    res_every_thresh.append([prec, rec, f_mes, acc, TP, FP, FN])\n",
    "                res_a_param.append(res_every_thresh)\n",
    "                res_each_song = np.array(res_every_thresh)\n",
    "                best_ind = np.argmax(res_each_song[:, 2])\n",
    "            all_res.append(res_a_param)\n",
    "\n",
    "        except FileNotFoundError:\n",
    "            print(\"\\033[91m This song failed: {} \\033[00m\".format(a_song)) \n",
    "            pass\n",
    "    np_all_res = np.array(all_res)\n",
    "    the_t = []\n",
    "    for t in [\"attack\", \"normal\"]:\n",
    "        the_t.append(\"H: {}\".format(t))\n",
    "    index_pandas = the_t\n",
    "    col = ['Best threshold','Precision', 'Recall', 'F measure','Accuracy','True Positives','False Positives','False Negatives']\n",
    "    lines = []\n",
    "    lines_opt_thresh = []\n",
    "    for cond in range(len(index_pandas)):\n",
    "        all_thresh = []\n",
    "        for each_thresh in range(len(listthres)):\n",
    "            all_thresh.append(np.mean(np_all_res[:,cond,each_thresh,2]))\n",
    "        best_thresh_idx = np.argmax(all_thresh)\n",
    "        this_line = [listthres[best_thresh_idx]]\n",
    "        for i in range(len(col) - 1):# - 1 because threshold\n",
    "            this_line.append(round(np.mean(np_all_res[:,cond,best_thresh_idx,i]), 4))\n",
    "        lines.append(this_line)\n",
    "        \n",
    "        best_val = []\n",
    "        for each_song in range(len(list_files_wav)):\n",
    "            best_thresh_idx = np.argmax(np_all_res[each_song,cond,:,2])\n",
    "            best_val.append([round(np_all_res[each_song,cond,best_thresh_idx,i], 4) for i in range(len(col) - 1)])\n",
    "        lines_opt_thresh.append([round(np.mean(np.array(best_val)[:,i]),4) for i in range(len(col) - 1)])\n",
    "    \n",
    "    print(\"Piano: {}\".format(piano_type))\n",
    "    print(\"When averaging each threshold on all MAPS\")\n",
    "    df = pd.DataFrame(np.array(lines), columns = col, index = index_pandas)\n",
    "    display(df.style.bar(subset=[\"F measure\", \"Accuracy\"], color='#5fba7d'))\n",
    "\n",
    "    print(\"When optimizing the threshold on each song\")\n",
    "    best_df = pd.DataFrame(np.array(lines_opt_thresh), columns = col[1:], index = index_pandas)\n",
    "    display(best_df.style.bar(subset=[\"F measure\", \"Accuracy\"], color='#5fba7d'))"
   ]
  },
  {
   "cell_type": "code",
   "execution_count": 19,
   "id": "arctic-spain",
   "metadata": {},
   "outputs": [
    {
     "name": "stdout",
     "output_type": "stream",
     "text": [
      "Piano: AkPnCGdD\n",
      "When averaging each threshold on all MAPS\n"
     ]
    },
    {
     "data": {
      "text/html": [
       "<style  type=\"text/css\" >\n",
       "#T_c65ca_row0_col3,#T_c65ca_row0_col4{\n",
       "            width:  10em;\n",
       "             height:  80%;\n",
       "        }#T_c65ca_row1_col3,#T_c65ca_row1_col4{\n",
       "            width:  10em;\n",
       "             height:  80%;\n",
       "            background:  linear-gradient(90deg,#5fba7d 100.0%, transparent 100.0%);\n",
       "        }</style><table id=\"T_c65ca_\" ><thead>    <tr>        <th class=\"blank level0\" ></th>        <th class=\"col_heading level0 col0\" >Best threshold</th>        <th class=\"col_heading level0 col1\" >Precision</th>        <th class=\"col_heading level0 col2\" >Recall</th>        <th class=\"col_heading level0 col3\" >F measure</th>        <th class=\"col_heading level0 col4\" >Accuracy</th>        <th class=\"col_heading level0 col5\" >True Positives</th>        <th class=\"col_heading level0 col6\" >False Positives</th>        <th class=\"col_heading level0 col7\" >False Negatives</th>    </tr></thead><tbody>\n",
       "                <tr>\n",
       "                        <th id=\"T_c65ca_level0_row0\" class=\"row_heading level0 row0\" >H: attack</th>\n",
       "                        <td id=\"T_c65ca_row0_col0\" class=\"data row0 col0\" >0.072000</td>\n",
       "                        <td id=\"T_c65ca_row0_col1\" class=\"data row0 col1\" >0.538200</td>\n",
       "                        <td id=\"T_c65ca_row0_col2\" class=\"data row0 col2\" >0.689700</td>\n",
       "                        <td id=\"T_c65ca_row0_col3\" class=\"data row0 col3\" >0.597000</td>\n",
       "                        <td id=\"T_c65ca_row0_col4\" class=\"data row0 col4\" >0.428600</td>\n",
       "                        <td id=\"T_c65ca_row0_col5\" class=\"data row0 col5\" >157.866700</td>\n",
       "                        <td id=\"T_c65ca_row0_col6\" class=\"data row0 col6\" >138.033300</td>\n",
       "                        <td id=\"T_c65ca_row0_col7\" class=\"data row0 col7\" >93.566700</td>\n",
       "            </tr>\n",
       "            <tr>\n",
       "                        <th id=\"T_c65ca_level0_row1\" class=\"row_heading level0 row1\" >H: normal</th>\n",
       "                        <td id=\"T_c65ca_row1_col0\" class=\"data row1 col0\" >0.031000</td>\n",
       "                        <td id=\"T_c65ca_row1_col1\" class=\"data row1 col1\" >0.715600</td>\n",
       "                        <td id=\"T_c65ca_row1_col2\" class=\"data row1 col2\" >0.789300</td>\n",
       "                        <td id=\"T_c65ca_row1_col3\" class=\"data row1 col3\" >0.743900</td>\n",
       "                        <td id=\"T_c65ca_row1_col4\" class=\"data row1 col4\" >0.599700</td>\n",
       "                        <td id=\"T_c65ca_row1_col5\" class=\"data row1 col5\" >185.666700</td>\n",
       "                        <td id=\"T_c65ca_row1_col6\" class=\"data row1 col6\" >76.233300</td>\n",
       "                        <td id=\"T_c65ca_row1_col7\" class=\"data row1 col7\" >65.633300</td>\n",
       "            </tr>\n",
       "    </tbody></table>"
      ],
      "text/plain": [
       "<pandas.io.formats.style.Styler at 0x7fb3318745e0>"
      ]
     },
     "metadata": {},
     "output_type": "display_data"
    },
    {
     "name": "stdout",
     "output_type": "stream",
     "text": [
      "When optimizing the threshold on each song\n"
     ]
    },
    {
     "data": {
      "text/html": [
       "<style  type=\"text/css\" >\n",
       "#T_8232d_row0_col2,#T_8232d_row0_col3{\n",
       "            width:  10em;\n",
       "             height:  80%;\n",
       "        }#T_8232d_row1_col2,#T_8232d_row1_col3{\n",
       "            width:  10em;\n",
       "             height:  80%;\n",
       "            background:  linear-gradient(90deg,#5fba7d 100.0%, transparent 100.0%);\n",
       "        }</style><table id=\"T_8232d_\" ><thead>    <tr>        <th class=\"blank level0\" ></th>        <th class=\"col_heading level0 col0\" >Precision</th>        <th class=\"col_heading level0 col1\" >Recall</th>        <th class=\"col_heading level0 col2\" >F measure</th>        <th class=\"col_heading level0 col3\" >Accuracy</th>        <th class=\"col_heading level0 col4\" >True Positives</th>        <th class=\"col_heading level0 col5\" >False Positives</th>        <th class=\"col_heading level0 col6\" >False Negatives</th>    </tr></thead><tbody>\n",
       "                <tr>\n",
       "                        <th id=\"T_8232d_level0_row0\" class=\"row_heading level0 row0\" >H: attack</th>\n",
       "                        <td id=\"T_8232d_row0_col0\" class=\"data row0 col0\" >0.540400</td>\n",
       "                        <td id=\"T_8232d_row0_col1\" class=\"data row0 col1\" >0.729100</td>\n",
       "                        <td id=\"T_8232d_row0_col2\" class=\"data row0 col2\" >0.616600</td>\n",
       "                        <td id=\"T_8232d_row0_col3\" class=\"data row0 col3\" >0.449100</td>\n",
       "                        <td id=\"T_8232d_row0_col4\" class=\"data row0 col4\" >169.900000</td>\n",
       "                        <td id=\"T_8232d_row0_col5\" class=\"data row0 col5\" >149.300000</td>\n",
       "                        <td id=\"T_8232d_row0_col6\" class=\"data row0 col6\" >81.600000</td>\n",
       "            </tr>\n",
       "            <tr>\n",
       "                        <th id=\"T_8232d_level0_row1\" class=\"row_heading level0 row1\" >H: normal</th>\n",
       "                        <td id=\"T_8232d_row1_col0\" class=\"data row1 col0\" >0.757800</td>\n",
       "                        <td id=\"T_8232d_row1_col1\" class=\"data row1 col1\" >0.790000</td>\n",
       "                        <td id=\"T_8232d_row1_col2\" class=\"data row1 col2\" >0.771000</td>\n",
       "                        <td id=\"T_8232d_row1_col3\" class=\"data row1 col3\" >0.634700</td>\n",
       "                        <td id=\"T_8232d_row1_col4\" class=\"data row1 col4\" >189.100000</td>\n",
       "                        <td id=\"T_8232d_row1_col5\" class=\"data row1 col5\" >66.300000</td>\n",
       "                        <td id=\"T_8232d_row1_col6\" class=\"data row1 col6\" >62.100000</td>\n",
       "            </tr>\n",
       "    </tbody></table>"
      ],
      "text/plain": [
       "<pandas.io.formats.style.Styler at 0x7fb3318742e0>"
      ]
     },
     "metadata": {},
     "output_type": "display_data"
    },
    {
     "name": "stdout",
     "output_type": "stream",
     "text": [
      "Piano: ENSTDkCl\n",
      "When averaging each threshold on all MAPS\n"
     ]
    },
    {
     "data": {
      "text/html": [
       "<style  type=\"text/css\" >\n",
       "#T_49e93_row0_col3,#T_49e93_row0_col4{\n",
       "            width:  10em;\n",
       "             height:  80%;\n",
       "            background:  linear-gradient(90deg,#5fba7d 100.0%, transparent 100.0%);\n",
       "        }#T_49e93_row1_col3,#T_49e93_row1_col4{\n",
       "            width:  10em;\n",
       "             height:  80%;\n",
       "        }</style><table id=\"T_49e93_\" ><thead>    <tr>        <th class=\"blank level0\" ></th>        <th class=\"col_heading level0 col0\" >Best threshold</th>        <th class=\"col_heading level0 col1\" >Precision</th>        <th class=\"col_heading level0 col2\" >Recall</th>        <th class=\"col_heading level0 col3\" >F measure</th>        <th class=\"col_heading level0 col4\" >Accuracy</th>        <th class=\"col_heading level0 col5\" >True Positives</th>        <th class=\"col_heading level0 col6\" >False Positives</th>        <th class=\"col_heading level0 col7\" >False Negatives</th>    </tr></thead><tbody>\n",
       "                <tr>\n",
       "                        <th id=\"T_49e93_level0_row0\" class=\"row_heading level0 row0\" >H: attack</th>\n",
       "                        <td id=\"T_49e93_row0_col0\" class=\"data row0 col0\" >0.021000</td>\n",
       "                        <td id=\"T_49e93_row0_col1\" class=\"data row0 col1\" >0.872400</td>\n",
       "                        <td id=\"T_49e93_row0_col2\" class=\"data row0 col2\" >0.770200</td>\n",
       "                        <td id=\"T_49e93_row0_col3\" class=\"data row0 col3\" >0.814500</td>\n",
       "                        <td id=\"T_49e93_row0_col4\" class=\"data row0 col4\" >0.696700</td>\n",
       "                        <td id=\"T_49e93_row0_col5\" class=\"data row0 col5\" >180.133300</td>\n",
       "                        <td id=\"T_49e93_row0_col6\" class=\"data row0 col6\" >26.666700</td>\n",
       "                        <td id=\"T_49e93_row0_col7\" class=\"data row0 col7\" >64.700000</td>\n",
       "            </tr>\n",
       "            <tr>\n",
       "                        <th id=\"T_49e93_level0_row1\" class=\"row_heading level0 row1\" >H: normal</th>\n",
       "                        <td id=\"T_49e93_row1_col0\" class=\"data row1 col0\" >0.015000</td>\n",
       "                        <td id=\"T_49e93_row1_col1\" class=\"data row1 col1\" >0.629500</td>\n",
       "                        <td id=\"T_49e93_row1_col2\" class=\"data row1 col2\" >0.706300</td>\n",
       "                        <td id=\"T_49e93_row1_col3\" class=\"data row1 col3\" >0.661200</td>\n",
       "                        <td id=\"T_49e93_row1_col4\" class=\"data row1 col4\" >0.500400</td>\n",
       "                        <td id=\"T_49e93_row1_col5\" class=\"data row1 col5\" >168.300000</td>\n",
       "                        <td id=\"T_49e93_row1_col6\" class=\"data row1 col6\" >94.866700</td>\n",
       "                        <td id=\"T_49e93_row1_col7\" class=\"data row1 col7\" >76.500000</td>\n",
       "            </tr>\n",
       "    </tbody></table>"
      ],
      "text/plain": [
       "<pandas.io.formats.style.Styler at 0x7fb33188e940>"
      ]
     },
     "metadata": {},
     "output_type": "display_data"
    },
    {
     "name": "stdout",
     "output_type": "stream",
     "text": [
      "When optimizing the threshold on each song\n"
     ]
    },
    {
     "data": {
      "text/html": [
       "<style  type=\"text/css\" >\n",
       "#T_6e9ff_row0_col2,#T_6e9ff_row0_col3{\n",
       "            width:  10em;\n",
       "             height:  80%;\n",
       "            background:  linear-gradient(90deg,#5fba7d 100.0%, transparent 100.0%);\n",
       "        }#T_6e9ff_row1_col2,#T_6e9ff_row1_col3{\n",
       "            width:  10em;\n",
       "             height:  80%;\n",
       "        }</style><table id=\"T_6e9ff_\" ><thead>    <tr>        <th class=\"blank level0\" ></th>        <th class=\"col_heading level0 col0\" >Precision</th>        <th class=\"col_heading level0 col1\" >Recall</th>        <th class=\"col_heading level0 col2\" >F measure</th>        <th class=\"col_heading level0 col3\" >Accuracy</th>        <th class=\"col_heading level0 col4\" >True Positives</th>        <th class=\"col_heading level0 col5\" >False Positives</th>        <th class=\"col_heading level0 col6\" >False Negatives</th>    </tr></thead><tbody>\n",
       "                <tr>\n",
       "                        <th id=\"T_6e9ff_level0_row0\" class=\"row_heading level0 row0\" >H: attack</th>\n",
       "                        <td id=\"T_6e9ff_row0_col0\" class=\"data row0 col0\" >0.880900</td>\n",
       "                        <td id=\"T_6e9ff_row0_col1\" class=\"data row0 col1\" >0.785800</td>\n",
       "                        <td id=\"T_6e9ff_row0_col2\" class=\"data row0 col2\" >0.828700</td>\n",
       "                        <td id=\"T_6e9ff_row0_col3\" class=\"data row0 col3\" >0.717000</td>\n",
       "                        <td id=\"T_6e9ff_row0_col4\" class=\"data row0 col4\" >184.866700</td>\n",
       "                        <td id=\"T_6e9ff_row0_col5\" class=\"data row0 col5\" >26.466700</td>\n",
       "                        <td id=\"T_6e9ff_row0_col6\" class=\"data row0 col6\" >60.000000</td>\n",
       "            </tr>\n",
       "            <tr>\n",
       "                        <th id=\"T_6e9ff_level0_row1\" class=\"row_heading level0 row1\" >H: normal</th>\n",
       "                        <td id=\"T_6e9ff_row1_col0\" class=\"data row1 col0\" >0.652000</td>\n",
       "                        <td id=\"T_6e9ff_row1_col1\" class=\"data row1 col1\" >0.706100</td>\n",
       "                        <td id=\"T_6e9ff_row1_col2\" class=\"data row1 col2\" >0.676000</td>\n",
       "                        <td id=\"T_6e9ff_row1_col3\" class=\"data row1 col3\" >0.518400</td>\n",
       "                        <td id=\"T_6e9ff_row1_col4\" class=\"data row1 col4\" >169.433300</td>\n",
       "                        <td id=\"T_6e9ff_row1_col5\" class=\"data row1 col5\" >89.166700</td>\n",
       "                        <td id=\"T_6e9ff_row1_col6\" class=\"data row1 col6\" >75.266700</td>\n",
       "            </tr>\n",
       "    </tbody></table>"
      ],
      "text/plain": [
       "<pandas.io.formats.style.Styler at 0x7fb365582880>"
      ]
     },
     "metadata": {},
     "output_type": "display_data"
    },
    {
     "name": "stdout",
     "output_type": "stream",
     "text": [
      "Piano: AkPnBcht\n",
      "When averaging each threshold on all MAPS\n"
     ]
    },
    {
     "data": {
      "text/html": [
       "<style  type=\"text/css\" >\n",
       "#T_77b24_row0_col3,#T_77b24_row0_col4{\n",
       "            width:  10em;\n",
       "             height:  80%;\n",
       "        }#T_77b24_row1_col3,#T_77b24_row1_col4{\n",
       "            width:  10em;\n",
       "             height:  80%;\n",
       "            background:  linear-gradient(90deg,#5fba7d 100.0%, transparent 100.0%);\n",
       "        }</style><table id=\"T_77b24_\" ><thead>    <tr>        <th class=\"blank level0\" ></th>        <th class=\"col_heading level0 col0\" >Best threshold</th>        <th class=\"col_heading level0 col1\" >Precision</th>        <th class=\"col_heading level0 col2\" >Recall</th>        <th class=\"col_heading level0 col3\" >F measure</th>        <th class=\"col_heading level0 col4\" >Accuracy</th>        <th class=\"col_heading level0 col5\" >True Positives</th>        <th class=\"col_heading level0 col6\" >False Positives</th>        <th class=\"col_heading level0 col7\" >False Negatives</th>    </tr></thead><tbody>\n",
       "                <tr>\n",
       "                        <th id=\"T_77b24_level0_row0\" class=\"row_heading level0 row0\" >H: attack</th>\n",
       "                        <td id=\"T_77b24_row0_col0\" class=\"data row0 col0\" >0.097000</td>\n",
       "                        <td id=\"T_77b24_row0_col1\" class=\"data row0 col1\" >0.677400</td>\n",
       "                        <td id=\"T_77b24_row0_col2\" class=\"data row0 col2\" >0.658200</td>\n",
       "                        <td id=\"T_77b24_row0_col3\" class=\"data row0 col3\" >0.658800</td>\n",
       "                        <td id=\"T_77b24_row0_col4\" class=\"data row0 col4\" >0.500200</td>\n",
       "                        <td id=\"T_77b24_row0_col5\" class=\"data row0 col5\" >179.100000</td>\n",
       "                        <td id=\"T_77b24_row0_col6\" class=\"data row0 col6\" >91.933300</td>\n",
       "                        <td id=\"T_77b24_row0_col7\" class=\"data row0 col7\" >119.800000</td>\n",
       "            </tr>\n",
       "            <tr>\n",
       "                        <th id=\"T_77b24_level0_row1\" class=\"row_heading level0 row1\" >H: normal</th>\n",
       "                        <td id=\"T_77b24_row1_col0\" class=\"data row1 col0\" >0.041000</td>\n",
       "                        <td id=\"T_77b24_row1_col1\" class=\"data row1 col1\" >0.748300</td>\n",
       "                        <td id=\"T_77b24_row1_col2\" class=\"data row1 col2\" >0.802000</td>\n",
       "                        <td id=\"T_77b24_row1_col3\" class=\"data row1 col3\" >0.770000</td>\n",
       "                        <td id=\"T_77b24_row1_col4\" class=\"data row1 col4\" >0.640000</td>\n",
       "                        <td id=\"T_77b24_row1_col5\" class=\"data row1 col5\" >226.266700</td>\n",
       "                        <td id=\"T_77b24_row1_col6\" class=\"data row1 col6\" >90.866700</td>\n",
       "                        <td id=\"T_77b24_row1_col7\" class=\"data row1 col7\" >72.766700</td>\n",
       "            </tr>\n",
       "    </tbody></table>"
      ],
      "text/plain": [
       "<pandas.io.formats.style.Styler at 0x7fb36543f8e0>"
      ]
     },
     "metadata": {},
     "output_type": "display_data"
    },
    {
     "name": "stdout",
     "output_type": "stream",
     "text": [
      "When optimizing the threshold on each song\n"
     ]
    },
    {
     "data": {
      "text/html": [
       "<style  type=\"text/css\" >\n",
       "#T_060a0_row0_col2,#T_060a0_row0_col3{\n",
       "            width:  10em;\n",
       "             height:  80%;\n",
       "        }#T_060a0_row1_col2,#T_060a0_row1_col3{\n",
       "            width:  10em;\n",
       "             height:  80%;\n",
       "            background:  linear-gradient(90deg,#5fba7d 100.0%, transparent 100.0%);\n",
       "        }</style><table id=\"T_060a0_\" ><thead>    <tr>        <th class=\"blank level0\" ></th>        <th class=\"col_heading level0 col0\" >Precision</th>        <th class=\"col_heading level0 col1\" >Recall</th>        <th class=\"col_heading level0 col2\" >F measure</th>        <th class=\"col_heading level0 col3\" >Accuracy</th>        <th class=\"col_heading level0 col4\" >True Positives</th>        <th class=\"col_heading level0 col5\" >False Positives</th>        <th class=\"col_heading level0 col6\" >False Negatives</th>    </tr></thead><tbody>\n",
       "                <tr>\n",
       "                        <th id=\"T_060a0_level0_row0\" class=\"row_heading level0 row0\" >H: attack</th>\n",
       "                        <td id=\"T_060a0_row0_col0\" class=\"data row0 col0\" >0.656700</td>\n",
       "                        <td id=\"T_060a0_row0_col1\" class=\"data row0 col1\" >0.705700</td>\n",
       "                        <td id=\"T_060a0_row0_col2\" class=\"data row0 col2\" >0.676700</td>\n",
       "                        <td id=\"T_060a0_row0_col3\" class=\"data row0 col3\" >0.519000</td>\n",
       "                        <td id=\"T_060a0_row0_col4\" class=\"data row0 col4\" >194.733300</td>\n",
       "                        <td id=\"T_060a0_row0_col5\" class=\"data row0 col5\" >109.466700</td>\n",
       "                        <td id=\"T_060a0_row0_col6\" class=\"data row0 col6\" >104.200000</td>\n",
       "            </tr>\n",
       "            <tr>\n",
       "                        <th id=\"T_060a0_level0_row1\" class=\"row_heading level0 row1\" >H: normal</th>\n",
       "                        <td id=\"T_060a0_row1_col0\" class=\"data row1 col0\" >0.775700</td>\n",
       "                        <td id=\"T_060a0_row1_col1\" class=\"data row1 col1\" >0.799800</td>\n",
       "                        <td id=\"T_060a0_row1_col2\" class=\"data row1 col2\" >0.786300</td>\n",
       "                        <td id=\"T_060a0_row1_col3\" class=\"data row1 col3\" >0.660700</td>\n",
       "                        <td id=\"T_060a0_row1_col4\" class=\"data row1 col4\" >225.866700</td>\n",
       "                        <td id=\"T_060a0_row1_col5\" class=\"data row1 col5\" >75.400000</td>\n",
       "                        <td id=\"T_060a0_row1_col6\" class=\"data row1 col6\" >73.100000</td>\n",
       "            </tr>\n",
       "    </tbody></table>"
      ],
      "text/plain": [
       "<pandas.io.formats.style.Styler at 0x7fb36543f7f0>"
      ]
     },
     "metadata": {},
     "output_type": "display_data"
    },
    {
     "name": "stdout",
     "output_type": "stream",
     "text": [
      "Piano: AkPnBsdf\n",
      "When averaging each threshold on all MAPS\n"
     ]
    },
    {
     "data": {
      "text/html": [
       "<style  type=\"text/css\" >\n",
       "#T_76e2f_row0_col3,#T_76e2f_row0_col4{\n",
       "            width:  10em;\n",
       "             height:  80%;\n",
       "        }#T_76e2f_row1_col3,#T_76e2f_row1_col4{\n",
       "            width:  10em;\n",
       "             height:  80%;\n",
       "            background:  linear-gradient(90deg,#5fba7d 100.0%, transparent 100.0%);\n",
       "        }</style><table id=\"T_76e2f_\" ><thead>    <tr>        <th class=\"blank level0\" ></th>        <th class=\"col_heading level0 col0\" >Best threshold</th>        <th class=\"col_heading level0 col1\" >Precision</th>        <th class=\"col_heading level0 col2\" >Recall</th>        <th class=\"col_heading level0 col3\" >F measure</th>        <th class=\"col_heading level0 col4\" >Accuracy</th>        <th class=\"col_heading level0 col5\" >True Positives</th>        <th class=\"col_heading level0 col6\" >False Positives</th>        <th class=\"col_heading level0 col7\" >False Negatives</th>    </tr></thead><tbody>\n",
       "                <tr>\n",
       "                        <th id=\"T_76e2f_level0_row0\" class=\"row_heading level0 row0\" >H: attack</th>\n",
       "                        <td id=\"T_76e2f_row0_col0\" class=\"data row0 col0\" >0.035000</td>\n",
       "                        <td id=\"T_76e2f_row0_col1\" class=\"data row0 col1\" >0.717700</td>\n",
       "                        <td id=\"T_76e2f_row0_col2\" class=\"data row0 col2\" >0.716400</td>\n",
       "                        <td id=\"T_76e2f_row0_col3\" class=\"data row0 col3\" >0.707400</td>\n",
       "                        <td id=\"T_76e2f_row0_col4\" class=\"data row0 col4\" >0.557200</td>\n",
       "                        <td id=\"T_76e2f_row0_col5\" class=\"data row0 col5\" >190.333300</td>\n",
       "                        <td id=\"T_76e2f_row0_col6\" class=\"data row0 col6\" >84.966700</td>\n",
       "                        <td id=\"T_76e2f_row0_col7\" class=\"data row0 col7\" >88.933300</td>\n",
       "            </tr>\n",
       "            <tr>\n",
       "                        <th id=\"T_76e2f_level0_row1\" class=\"row_heading level0 row1\" >H: normal</th>\n",
       "                        <td id=\"T_76e2f_row1_col0\" class=\"data row1 col0\" >0.025000</td>\n",
       "                        <td id=\"T_76e2f_row1_col1\" class=\"data row1 col1\" >0.734500</td>\n",
       "                        <td id=\"T_76e2f_row1_col2\" class=\"data row1 col2\" >0.746900</td>\n",
       "                        <td id=\"T_76e2f_row1_col3\" class=\"data row1 col3\" >0.734700</td>\n",
       "                        <td id=\"T_76e2f_row1_col4\" class=\"data row1 col4\" >0.590000</td>\n",
       "                        <td id=\"T_76e2f_row1_col5\" class=\"data row1 col5\" >199.600000</td>\n",
       "                        <td id=\"T_76e2f_row1_col6\" class=\"data row1 col6\" >75.133300</td>\n",
       "                        <td id=\"T_76e2f_row1_col7\" class=\"data row1 col7\" >79.700000</td>\n",
       "            </tr>\n",
       "    </tbody></table>"
      ],
      "text/plain": [
       "<pandas.io.formats.style.Styler at 0x7fb3652d1c70>"
      ]
     },
     "metadata": {},
     "output_type": "display_data"
    },
    {
     "name": "stdout",
     "output_type": "stream",
     "text": [
      "When optimizing the threshold on each song\n"
     ]
    },
    {
     "data": {
      "text/html": [
       "<style  type=\"text/css\" >\n",
       "#T_d39d8_row0_col2,#T_d39d8_row0_col3{\n",
       "            width:  10em;\n",
       "             height:  80%;\n",
       "        }#T_d39d8_row1_col2,#T_d39d8_row1_col3{\n",
       "            width:  10em;\n",
       "             height:  80%;\n",
       "            background:  linear-gradient(90deg,#5fba7d 100.0%, transparent 100.0%);\n",
       "        }</style><table id=\"T_d39d8_\" ><thead>    <tr>        <th class=\"blank level0\" ></th>        <th class=\"col_heading level0 col0\" >Precision</th>        <th class=\"col_heading level0 col1\" >Recall</th>        <th class=\"col_heading level0 col2\" >F measure</th>        <th class=\"col_heading level0 col3\" >Accuracy</th>        <th class=\"col_heading level0 col4\" >True Positives</th>        <th class=\"col_heading level0 col5\" >False Positives</th>        <th class=\"col_heading level0 col6\" >False Negatives</th>    </tr></thead><tbody>\n",
       "                <tr>\n",
       "                        <th id=\"T_d39d8_level0_row0\" class=\"row_heading level0 row0\" >H: attack</th>\n",
       "                        <td id=\"T_d39d8_row0_col0\" class=\"data row0 col0\" >0.764400</td>\n",
       "                        <td id=\"T_d39d8_row0_col1\" class=\"data row0 col1\" >0.721900</td>\n",
       "                        <td id=\"T_d39d8_row0_col2\" class=\"data row0 col2\" >0.739500</td>\n",
       "                        <td id=\"T_d39d8_row0_col3\" class=\"data row0 col3\" >0.596500</td>\n",
       "                        <td id=\"T_d39d8_row0_col4\" class=\"data row0 col4\" >194.100000</td>\n",
       "                        <td id=\"T_d39d8_row0_col5\" class=\"data row0 col5\" >73.566700</td>\n",
       "                        <td id=\"T_d39d8_row0_col6\" class=\"data row0 col6\" >85.166700</td>\n",
       "            </tr>\n",
       "            <tr>\n",
       "                        <th id=\"T_d39d8_level0_row1\" class=\"row_heading level0 row1\" >H: normal</th>\n",
       "                        <td id=\"T_d39d8_row1_col0\" class=\"data row1 col0\" >0.749800</td>\n",
       "                        <td id=\"T_d39d8_row1_col1\" class=\"data row1 col1\" >0.761800</td>\n",
       "                        <td id=\"T_d39d8_row1_col2\" class=\"data row1 col2\" >0.753800</td>\n",
       "                        <td id=\"T_d39d8_row1_col3\" class=\"data row1 col3\" >0.613600</td>\n",
       "                        <td id=\"T_d39d8_row1_col4\" class=\"data row1 col4\" >205.700000</td>\n",
       "                        <td id=\"T_d39d8_row1_col5\" class=\"data row1 col5\" >75.400000</td>\n",
       "                        <td id=\"T_d39d8_row1_col6\" class=\"data row1 col6\" >73.566700</td>\n",
       "            </tr>\n",
       "    </tbody></table>"
      ],
      "text/plain": [
       "<pandas.io.formats.style.Styler at 0x7fb3652d1b80>"
      ]
     },
     "metadata": {},
     "output_type": "display_data"
    },
    {
     "name": "stdout",
     "output_type": "stream",
     "text": [
      "Piano: AkPnStgb\n",
      "When averaging each threshold on all MAPS\n"
     ]
    },
    {
     "data": {
      "text/html": [
       "<style  type=\"text/css\" >\n",
       "#T_9858e_row0_col3,#T_9858e_row0_col4{\n",
       "            width:  10em;\n",
       "             height:  80%;\n",
       "        }#T_9858e_row1_col3,#T_9858e_row1_col4{\n",
       "            width:  10em;\n",
       "             height:  80%;\n",
       "            background:  linear-gradient(90deg,#5fba7d 100.0%, transparent 100.0%);\n",
       "        }</style><table id=\"T_9858e_\" ><thead>    <tr>        <th class=\"blank level0\" ></th>        <th class=\"col_heading level0 col0\" >Best threshold</th>        <th class=\"col_heading level0 col1\" >Precision</th>        <th class=\"col_heading level0 col2\" >Recall</th>        <th class=\"col_heading level0 col3\" >F measure</th>        <th class=\"col_heading level0 col4\" >Accuracy</th>        <th class=\"col_heading level0 col5\" >True Positives</th>        <th class=\"col_heading level0 col6\" >False Positives</th>        <th class=\"col_heading level0 col7\" >False Negatives</th>    </tr></thead><tbody>\n",
       "                <tr>\n",
       "                        <th id=\"T_9858e_level0_row0\" class=\"row_heading level0 row0\" >H: attack</th>\n",
       "                        <td id=\"T_9858e_row0_col0\" class=\"data row0 col0\" >0.083000</td>\n",
       "                        <td id=\"T_9858e_row0_col1\" class=\"data row0 col1\" >0.724000</td>\n",
       "                        <td id=\"T_9858e_row0_col2\" class=\"data row0 col2\" >0.645700</td>\n",
       "                        <td id=\"T_9858e_row0_col3\" class=\"data row0 col3\" >0.669600</td>\n",
       "                        <td id=\"T_9858e_row0_col4\" class=\"data row0 col4\" >0.516500</td>\n",
       "                        <td id=\"T_9858e_row0_col5\" class=\"data row0 col5\" >175.333300</td>\n",
       "                        <td id=\"T_9858e_row0_col6\" class=\"data row0 col6\" >73.333300</td>\n",
       "                        <td id=\"T_9858e_row0_col7\" class=\"data row0 col7\" >118.533300</td>\n",
       "            </tr>\n",
       "            <tr>\n",
       "                        <th id=\"T_9858e_level0_row1\" class=\"row_heading level0 row1\" >H: normal</th>\n",
       "                        <td id=\"T_9858e_row1_col0\" class=\"data row1 col0\" >0.047000</td>\n",
       "                        <td id=\"T_9858e_row1_col1\" class=\"data row1 col1\" >0.784300</td>\n",
       "                        <td id=\"T_9858e_row1_col2\" class=\"data row1 col2\" >0.712300</td>\n",
       "                        <td id=\"T_9858e_row1_col3\" class=\"data row1 col3\" >0.738500</td>\n",
       "                        <td id=\"T_9858e_row1_col4\" class=\"data row1 col4\" >0.600800</td>\n",
       "                        <td id=\"T_9858e_row1_col5\" class=\"data row1 col5\" >196.733300</td>\n",
       "                        <td id=\"T_9858e_row1_col6\" class=\"data row1 col6\" >59.500000</td>\n",
       "                        <td id=\"T_9858e_row1_col7\" class=\"data row1 col7\" >97.066700</td>\n",
       "            </tr>\n",
       "    </tbody></table>"
      ],
      "text/plain": [
       "<pandas.io.formats.style.Styler at 0x7fb332632a30>"
      ]
     },
     "metadata": {},
     "output_type": "display_data"
    },
    {
     "name": "stdout",
     "output_type": "stream",
     "text": [
      "When optimizing the threshold on each song\n"
     ]
    },
    {
     "data": {
      "text/html": [
       "<style  type=\"text/css\" >\n",
       "#T_77bc4_row0_col2,#T_77bc4_row0_col3{\n",
       "            width:  10em;\n",
       "             height:  80%;\n",
       "        }#T_77bc4_row1_col2,#T_77bc4_row1_col3{\n",
       "            width:  10em;\n",
       "             height:  80%;\n",
       "            background:  linear-gradient(90deg,#5fba7d 100.0%, transparent 100.0%);\n",
       "        }</style><table id=\"T_77bc4_\" ><thead>    <tr>        <th class=\"blank level0\" ></th>        <th class=\"col_heading level0 col0\" >Precision</th>        <th class=\"col_heading level0 col1\" >Recall</th>        <th class=\"col_heading level0 col2\" >F measure</th>        <th class=\"col_heading level0 col3\" >Accuracy</th>        <th class=\"col_heading level0 col4\" >True Positives</th>        <th class=\"col_heading level0 col5\" >False Positives</th>        <th class=\"col_heading level0 col6\" >False Negatives</th>    </tr></thead><tbody>\n",
       "                <tr>\n",
       "                        <th id=\"T_77bc4_level0_row0\" class=\"row_heading level0 row0\" >H: attack</th>\n",
       "                        <td id=\"T_77bc4_row0_col0\" class=\"data row0 col0\" >0.706000</td>\n",
       "                        <td id=\"T_77bc4_row0_col1\" class=\"data row0 col1\" >0.686900</td>\n",
       "                        <td id=\"T_77bc4_row0_col2\" class=\"data row0 col2\" >0.694000</td>\n",
       "                        <td id=\"T_77bc4_row0_col3\" class=\"data row0 col3\" >0.542200</td>\n",
       "                        <td id=\"T_77bc4_row0_col4\" class=\"data row0 col4\" >190.600000</td>\n",
       "                        <td id=\"T_77bc4_row0_col5\" class=\"data row0 col5\" >88.933300</td>\n",
       "                        <td id=\"T_77bc4_row0_col6\" class=\"data row0 col6\" >103.300000</td>\n",
       "            </tr>\n",
       "            <tr>\n",
       "                        <th id=\"T_77bc4_level0_row1\" class=\"row_heading level0 row1\" >H: normal</th>\n",
       "                        <td id=\"T_77bc4_row1_col0\" class=\"data row1 col0\" >0.796200</td>\n",
       "                        <td id=\"T_77bc4_row1_col1\" class=\"data row1 col1\" >0.729100</td>\n",
       "                        <td id=\"T_77bc4_row1_col2\" class=\"data row1 col2\" >0.758000</td>\n",
       "                        <td id=\"T_77bc4_row1_col3\" class=\"data row1 col3\" >0.623400</td>\n",
       "                        <td id=\"T_77bc4_row1_col4\" class=\"data row1 col4\" >205.833300</td>\n",
       "                        <td id=\"T_77bc4_row1_col5\" class=\"data row1 col5\" >61.200000</td>\n",
       "                        <td id=\"T_77bc4_row1_col6\" class=\"data row1 col6\" >87.966700</td>\n",
       "            </tr>\n",
       "    </tbody></table>"
      ],
      "text/plain": [
       "<pandas.io.formats.style.Styler at 0x7fb332632940>"
      ]
     },
     "metadata": {},
     "output_type": "display_data"
    },
    {
     "name": "stdout",
     "output_type": "stream",
     "text": [
      "Piano: ENSTDkAm\n",
      "When averaging each threshold on all MAPS\n"
     ]
    },
    {
     "data": {
      "text/html": [
       "<style  type=\"text/css\" >\n",
       "#T_3c5ab_row0_col3,#T_3c5ab_row0_col4{\n",
       "            width:  10em;\n",
       "             height:  80%;\n",
       "            background:  linear-gradient(90deg,#5fba7d 100.0%, transparent 100.0%);\n",
       "        }#T_3c5ab_row1_col3,#T_3c5ab_row1_col4{\n",
       "            width:  10em;\n",
       "             height:  80%;\n",
       "        }</style><table id=\"T_3c5ab_\" ><thead>    <tr>        <th class=\"blank level0\" ></th>        <th class=\"col_heading level0 col0\" >Best threshold</th>        <th class=\"col_heading level0 col1\" >Precision</th>        <th class=\"col_heading level0 col2\" >Recall</th>        <th class=\"col_heading level0 col3\" >F measure</th>        <th class=\"col_heading level0 col4\" >Accuracy</th>        <th class=\"col_heading level0 col5\" >True Positives</th>        <th class=\"col_heading level0 col6\" >False Positives</th>        <th class=\"col_heading level0 col7\" >False Negatives</th>    </tr></thead><tbody>\n",
       "                <tr>\n",
       "                        <th id=\"T_3c5ab_level0_row0\" class=\"row_heading level0 row0\" >H: attack</th>\n",
       "                        <td id=\"T_3c5ab_row0_col0\" class=\"data row0 col0\" >0.011000</td>\n",
       "                        <td id=\"T_3c5ab_row0_col1\" class=\"data row0 col1\" >0.709600</td>\n",
       "                        <td id=\"T_3c5ab_row0_col2\" class=\"data row0 col2\" >0.663800</td>\n",
       "                        <td id=\"T_3c5ab_row0_col3\" class=\"data row0 col3\" >0.681800</td>\n",
       "                        <td id=\"T_3c5ab_row0_col4\" class=\"data row0 col4\" >0.528200</td>\n",
       "                        <td id=\"T_3c5ab_row0_col5\" class=\"data row0 col5\" >185.300000</td>\n",
       "                        <td id=\"T_3c5ab_row0_col6\" class=\"data row0 col6\" >73.800000</td>\n",
       "                        <td id=\"T_3c5ab_row0_col7\" class=\"data row0 col7\" >106.466700</td>\n",
       "            </tr>\n",
       "            <tr>\n",
       "                        <th id=\"T_3c5ab_level0_row1\" class=\"row_heading level0 row1\" >H: normal</th>\n",
       "                        <td id=\"T_3c5ab_row1_col0\" class=\"data row1 col0\" >0.004000</td>\n",
       "                        <td id=\"T_3c5ab_row1_col1\" class=\"data row1 col1\" >0.323700</td>\n",
       "                        <td id=\"T_3c5ab_row1_col2\" class=\"data row1 col2\" >0.485500</td>\n",
       "                        <td id=\"T_3c5ab_row1_col3\" class=\"data row1 col3\" >0.385700</td>\n",
       "                        <td id=\"T_3c5ab_row1_col4\" class=\"data row1 col4\" >0.244000</td>\n",
       "                        <td id=\"T_3c5ab_row1_col5\" class=\"data row1 col5\" >143.566700</td>\n",
       "                        <td id=\"T_3c5ab_row1_col6\" class=\"data row1 col6\" >278.633300</td>\n",
       "                        <td id=\"T_3c5ab_row1_col7\" class=\"data row1 col7\" >148.100000</td>\n",
       "            </tr>\n",
       "    </tbody></table>"
      ],
      "text/plain": [
       "<pandas.io.formats.style.Styler at 0x7fb331964430>"
      ]
     },
     "metadata": {},
     "output_type": "display_data"
    },
    {
     "name": "stdout",
     "output_type": "stream",
     "text": [
      "When optimizing the threshold on each song\n"
     ]
    },
    {
     "data": {
      "text/html": [
       "<style  type=\"text/css\" >\n",
       "#T_877de_row0_col2,#T_877de_row0_col3{\n",
       "            width:  10em;\n",
       "             height:  80%;\n",
       "            background:  linear-gradient(90deg,#5fba7d 100.0%, transparent 100.0%);\n",
       "        }#T_877de_row1_col2,#T_877de_row1_col3{\n",
       "            width:  10em;\n",
       "             height:  80%;\n",
       "        }</style><table id=\"T_877de_\" ><thead>    <tr>        <th class=\"blank level0\" ></th>        <th class=\"col_heading level0 col0\" >Precision</th>        <th class=\"col_heading level0 col1\" >Recall</th>        <th class=\"col_heading level0 col2\" >F measure</th>        <th class=\"col_heading level0 col3\" >Accuracy</th>        <th class=\"col_heading level0 col4\" >True Positives</th>        <th class=\"col_heading level0 col5\" >False Positives</th>        <th class=\"col_heading level0 col6\" >False Negatives</th>    </tr></thead><tbody>\n",
       "                <tr>\n",
       "                        <th id=\"T_877de_level0_row0\" class=\"row_heading level0 row0\" >H: attack</th>\n",
       "                        <td id=\"T_877de_row0_col0\" class=\"data row0 col0\" >0.720600</td>\n",
       "                        <td id=\"T_877de_row0_col1\" class=\"data row0 col1\" >0.686900</td>\n",
       "                        <td id=\"T_877de_row0_col2\" class=\"data row0 col2\" >0.701500</td>\n",
       "                        <td id=\"T_877de_row0_col3\" class=\"data row0 col3\" >0.550900</td>\n",
       "                        <td id=\"T_877de_row0_col4\" class=\"data row0 col4\" >193.533300</td>\n",
       "                        <td id=\"T_877de_row0_col5\" class=\"data row0 col5\" >79.766700</td>\n",
       "                        <td id=\"T_877de_row0_col6\" class=\"data row0 col6\" >98.366700</td>\n",
       "            </tr>\n",
       "            <tr>\n",
       "                        <th id=\"T_877de_level0_row1\" class=\"row_heading level0 row1\" >H: normal</th>\n",
       "                        <td id=\"T_877de_row1_col0\" class=\"data row1 col0\" >0.344200</td>\n",
       "                        <td id=\"T_877de_row1_col1\" class=\"data row1 col1\" >0.489400</td>\n",
       "                        <td id=\"T_877de_row1_col2\" class=\"data row1 col2\" >0.400800</td>\n",
       "                        <td id=\"T_877de_row1_col3\" class=\"data row1 col3\" >0.256500</td>\n",
       "                        <td id=\"T_877de_row1_col4\" class=\"data row1 col4\" >146.800000</td>\n",
       "                        <td id=\"T_877de_row1_col5\" class=\"data row1 col5\" >275.300000</td>\n",
       "                        <td id=\"T_877de_row1_col6\" class=\"data row1 col6\" >144.900000</td>\n",
       "            </tr>\n",
       "    </tbody></table>"
      ],
      "text/plain": [
       "<pandas.io.formats.style.Styler at 0x7fb331964e50>"
      ]
     },
     "metadata": {},
     "output_type": "display_data"
    },
    {
     "name": "stdout",
     "output_type": "stream",
     "text": [
      "Piano: SptkBGAm\n",
      "When averaging each threshold on all MAPS\n"
     ]
    },
    {
     "data": {
      "text/html": [
       "<style  type=\"text/css\" >\n",
       "#T_da297_row0_col3,#T_da297_row0_col4{\n",
       "            width:  10em;\n",
       "             height:  80%;\n",
       "        }#T_da297_row1_col3,#T_da297_row1_col4{\n",
       "            width:  10em;\n",
       "             height:  80%;\n",
       "            background:  linear-gradient(90deg,#5fba7d 100.0%, transparent 100.0%);\n",
       "        }</style><table id=\"T_da297_\" ><thead>    <tr>        <th class=\"blank level0\" ></th>        <th class=\"col_heading level0 col0\" >Best threshold</th>        <th class=\"col_heading level0 col1\" >Precision</th>        <th class=\"col_heading level0 col2\" >Recall</th>        <th class=\"col_heading level0 col3\" >F measure</th>        <th class=\"col_heading level0 col4\" >Accuracy</th>        <th class=\"col_heading level0 col5\" >True Positives</th>        <th class=\"col_heading level0 col6\" >False Positives</th>        <th class=\"col_heading level0 col7\" >False Negatives</th>    </tr></thead><tbody>\n",
       "                <tr>\n",
       "                        <th id=\"T_da297_level0_row0\" class=\"row_heading level0 row0\" >H: attack</th>\n",
       "                        <td id=\"T_da297_row0_col0\" class=\"data row0 col0\" >0.071000</td>\n",
       "                        <td id=\"T_da297_row0_col1\" class=\"data row0 col1\" >0.666600</td>\n",
       "                        <td id=\"T_da297_row0_col2\" class=\"data row0 col2\" >0.630400</td>\n",
       "                        <td id=\"T_da297_row0_col3\" class=\"data row0 col3\" >0.637700</td>\n",
       "                        <td id=\"T_da297_row0_col4\" class=\"data row0 col4\" >0.473800</td>\n",
       "                        <td id=\"T_da297_row0_col5\" class=\"data row0 col5\" >158.433300</td>\n",
       "                        <td id=\"T_da297_row0_col6\" class=\"data row0 col6\" >85.500000</td>\n",
       "                        <td id=\"T_da297_row0_col7\" class=\"data row0 col7\" >110.700000</td>\n",
       "            </tr>\n",
       "            <tr>\n",
       "                        <th id=\"T_da297_level0_row1\" class=\"row_heading level0 row1\" >H: normal</th>\n",
       "                        <td id=\"T_da297_row1_col0\" class=\"data row1 col0\" >0.040000</td>\n",
       "                        <td id=\"T_da297_row1_col1\" class=\"data row1 col1\" >0.735600</td>\n",
       "                        <td id=\"T_da297_row1_col2\" class=\"data row1 col2\" >0.704900</td>\n",
       "                        <td id=\"T_da297_row1_col3\" class=\"data row1 col3\" >0.714100</td>\n",
       "                        <td id=\"T_da297_row1_col4\" class=\"data row1 col4\" >0.563200</td>\n",
       "                        <td id=\"T_da297_row1_col5\" class=\"data row1 col5\" >179.066700</td>\n",
       "                        <td id=\"T_da297_row1_col6\" class=\"data row1 col6\" >68.266700</td>\n",
       "                        <td id=\"T_da297_row1_col7\" class=\"data row1 col7\" >90.033300</td>\n",
       "            </tr>\n",
       "    </tbody></table>"
      ],
      "text/plain": [
       "<pandas.io.formats.style.Styler at 0x7fb3318f18e0>"
      ]
     },
     "metadata": {},
     "output_type": "display_data"
    },
    {
     "name": "stdout",
     "output_type": "stream",
     "text": [
      "When optimizing the threshold on each song\n"
     ]
    },
    {
     "data": {
      "text/html": [
       "<style  type=\"text/css\" >\n",
       "#T_b1cdb_row0_col2,#T_b1cdb_row0_col3{\n",
       "            width:  10em;\n",
       "             height:  80%;\n",
       "        }#T_b1cdb_row1_col2,#T_b1cdb_row1_col3{\n",
       "            width:  10em;\n",
       "             height:  80%;\n",
       "            background:  linear-gradient(90deg,#5fba7d 100.0%, transparent 100.0%);\n",
       "        }</style><table id=\"T_b1cdb_\" ><thead>    <tr>        <th class=\"blank level0\" ></th>        <th class=\"col_heading level0 col0\" >Precision</th>        <th class=\"col_heading level0 col1\" >Recall</th>        <th class=\"col_heading level0 col2\" >F measure</th>        <th class=\"col_heading level0 col3\" >Accuracy</th>        <th class=\"col_heading level0 col4\" >True Positives</th>        <th class=\"col_heading level0 col5\" >False Positives</th>        <th class=\"col_heading level0 col6\" >False Negatives</th>    </tr></thead><tbody>\n",
       "                <tr>\n",
       "                        <th id=\"T_b1cdb_level0_row0\" class=\"row_heading level0 row0\" >H: attack</th>\n",
       "                        <td id=\"T_b1cdb_row0_col0\" class=\"data row0 col0\" >0.669000</td>\n",
       "                        <td id=\"T_b1cdb_row0_col1\" class=\"data row0 col1\" >0.661900</td>\n",
       "                        <td id=\"T_b1cdb_row0_col2\" class=\"data row0 col2\" >0.661200</td>\n",
       "                        <td id=\"T_b1cdb_row0_col3\" class=\"data row0 col3\" >0.500800</td>\n",
       "                        <td id=\"T_b1cdb_row0_col4\" class=\"data row0 col4\" >168.100000</td>\n",
       "                        <td id=\"T_b1cdb_row0_col5\" class=\"data row0 col5\" >89.766700</td>\n",
       "                        <td id=\"T_b1cdb_row0_col6\" class=\"data row0 col6\" >100.966700</td>\n",
       "            </tr>\n",
       "            <tr>\n",
       "                        <th id=\"T_b1cdb_level0_row1\" class=\"row_heading level0 row1\" >H: normal</th>\n",
       "                        <td id=\"T_b1cdb_row1_col0\" class=\"data row1 col0\" >0.741400</td>\n",
       "                        <td id=\"T_b1cdb_row1_col1\" class=\"data row1 col1\" >0.725400</td>\n",
       "                        <td id=\"T_b1cdb_row1_col2\" class=\"data row1 col2\" >0.730800</td>\n",
       "                        <td id=\"T_b1cdb_row1_col3\" class=\"data row1 col3\" >0.584000</td>\n",
       "                        <td id=\"T_b1cdb_row1_col4\" class=\"data row1 col4\" >187.466700</td>\n",
       "                        <td id=\"T_b1cdb_row1_col5\" class=\"data row1 col5\" >71.033300</td>\n",
       "                        <td id=\"T_b1cdb_row1_col6\" class=\"data row1 col6\" >81.466700</td>\n",
       "            </tr>\n",
       "    </tbody></table>"
      ],
      "text/plain": [
       "<pandas.io.formats.style.Styler at 0x7fb3318f1850>"
      ]
     },
     "metadata": {},
     "output_type": "display_data"
    },
    {
     "name": "stdout",
     "output_type": "stream",
     "text": [
      "Piano: StbgTGd2\n",
      "When averaging each threshold on all MAPS\n"
     ]
    },
    {
     "data": {
      "text/html": [
       "<style  type=\"text/css\" >\n",
       "#T_ecd61_row0_col3,#T_ecd61_row0_col4{\n",
       "            width:  10em;\n",
       "             height:  80%;\n",
       "        }#T_ecd61_row1_col3,#T_ecd61_row1_col4{\n",
       "            width:  10em;\n",
       "             height:  80%;\n",
       "            background:  linear-gradient(90deg,#5fba7d 100.0%, transparent 100.0%);\n",
       "        }</style><table id=\"T_ecd61_\" ><thead>    <tr>        <th class=\"blank level0\" ></th>        <th class=\"col_heading level0 col0\" >Best threshold</th>        <th class=\"col_heading level0 col1\" >Precision</th>        <th class=\"col_heading level0 col2\" >Recall</th>        <th class=\"col_heading level0 col3\" >F measure</th>        <th class=\"col_heading level0 col4\" >Accuracy</th>        <th class=\"col_heading level0 col5\" >True Positives</th>        <th class=\"col_heading level0 col6\" >False Positives</th>        <th class=\"col_heading level0 col7\" >False Negatives</th>    </tr></thead><tbody>\n",
       "                <tr>\n",
       "                        <th id=\"T_ecd61_level0_row0\" class=\"row_heading level0 row0\" >H: attack</th>\n",
       "                        <td id=\"T_ecd61_row0_col0\" class=\"data row0 col0\" >0.043000</td>\n",
       "                        <td id=\"T_ecd61_row0_col1\" class=\"data row0 col1\" >0.672900</td>\n",
       "                        <td id=\"T_ecd61_row0_col2\" class=\"data row0 col2\" >0.684900</td>\n",
       "                        <td id=\"T_ecd61_row0_col3\" class=\"data row0 col3\" >0.668500</td>\n",
       "                        <td id=\"T_ecd61_row0_col4\" class=\"data row0 col4\" >0.508500</td>\n",
       "                        <td id=\"T_ecd61_row0_col5\" class=\"data row0 col5\" >158.400000</td>\n",
       "                        <td id=\"T_ecd61_row0_col6\" class=\"data row0 col6\" >86.200000</td>\n",
       "                        <td id=\"T_ecd61_row0_col7\" class=\"data row0 col7\" >86.566700</td>\n",
       "            </tr>\n",
       "            <tr>\n",
       "                        <th id=\"T_ecd61_level0_row1\" class=\"row_heading level0 row1\" >H: normal</th>\n",
       "                        <td id=\"T_ecd61_row1_col0\" class=\"data row1 col0\" >0.028000</td>\n",
       "                        <td id=\"T_ecd61_row1_col1\" class=\"data row1 col1\" >0.759200</td>\n",
       "                        <td id=\"T_ecd61_row1_col2\" class=\"data row1 col2\" >0.749400</td>\n",
       "                        <td id=\"T_ecd61_row1_col3\" class=\"data row1 col3\" >0.744800</td>\n",
       "                        <td id=\"T_ecd61_row1_col4\" class=\"data row1 col4\" >0.602200</td>\n",
       "                        <td id=\"T_ecd61_row1_col5\" class=\"data row1 col5\" >175.733300</td>\n",
       "                        <td id=\"T_ecd61_row1_col6\" class=\"data row1 col6\" >62.566700</td>\n",
       "                        <td id=\"T_ecd61_row1_col7\" class=\"data row1 col7\" >69.266700</td>\n",
       "            </tr>\n",
       "    </tbody></table>"
      ],
      "text/plain": [
       "<pandas.io.formats.style.Styler at 0x7fb3317694c0>"
      ]
     },
     "metadata": {},
     "output_type": "display_data"
    },
    {
     "name": "stdout",
     "output_type": "stream",
     "text": [
      "When optimizing the threshold on each song\n"
     ]
    },
    {
     "data": {
      "text/html": [
       "<style  type=\"text/css\" >\n",
       "#T_6df67_row0_col2,#T_6df67_row0_col3{\n",
       "            width:  10em;\n",
       "             height:  80%;\n",
       "        }#T_6df67_row1_col2,#T_6df67_row1_col3{\n",
       "            width:  10em;\n",
       "             height:  80%;\n",
       "            background:  linear-gradient(90deg,#5fba7d 100.0%, transparent 100.0%);\n",
       "        }</style><table id=\"T_6df67_\" ><thead>    <tr>        <th class=\"blank level0\" ></th>        <th class=\"col_heading level0 col0\" >Precision</th>        <th class=\"col_heading level0 col1\" >Recall</th>        <th class=\"col_heading level0 col2\" >F measure</th>        <th class=\"col_heading level0 col3\" >Accuracy</th>        <th class=\"col_heading level0 col4\" >True Positives</th>        <th class=\"col_heading level0 col5\" >False Positives</th>        <th class=\"col_heading level0 col6\" >False Negatives</th>    </tr></thead><tbody>\n",
       "                <tr>\n",
       "                        <th id=\"T_6df67_level0_row0\" class=\"row_heading level0 row0\" >H: attack</th>\n",
       "                        <td id=\"T_6df67_row0_col0\" class=\"data row0 col0\" >0.716000</td>\n",
       "                        <td id=\"T_6df67_row0_col1\" class=\"data row0 col1\" >0.696000</td>\n",
       "                        <td id=\"T_6df67_row0_col2\" class=\"data row0 col2\" >0.702300</td>\n",
       "                        <td id=\"T_6df67_row0_col3\" class=\"data row0 col3\" >0.547900</td>\n",
       "                        <td id=\"T_6df67_row0_col4\" class=\"data row0 col4\" >163.233300</td>\n",
       "                        <td id=\"T_6df67_row0_col5\" class=\"data row0 col5\" >70.833300</td>\n",
       "                        <td id=\"T_6df67_row0_col6\" class=\"data row0 col6\" >81.666700</td>\n",
       "            </tr>\n",
       "            <tr>\n",
       "                        <th id=\"T_6df67_level0_row1\" class=\"row_heading level0 row1\" >H: normal</th>\n",
       "                        <td id=\"T_6df67_row1_col0\" class=\"data row1 col0\" >0.766400</td>\n",
       "                        <td id=\"T_6df67_row1_col1\" class=\"data row1 col1\" >0.776400</td>\n",
       "                        <td id=\"T_6df67_row1_col2\" class=\"data row1 col2\" >0.770000</td>\n",
       "                        <td id=\"T_6df67_row1_col3\" class=\"data row1 col3\" >0.633900</td>\n",
       "                        <td id=\"T_6df67_row1_col4\" class=\"data row1 col4\" >186.000000</td>\n",
       "                        <td id=\"T_6df67_row1_col5\" class=\"data row1 col5\" >60.733300</td>\n",
       "                        <td id=\"T_6df67_row1_col6\" class=\"data row1 col6\" >59.000000</td>\n",
       "            </tr>\n",
       "    </tbody></table>"
      ],
      "text/plain": [
       "<pandas.io.formats.style.Styler at 0x7fb33175fd90>"
      ]
     },
     "metadata": {},
     "output_type": "display_data"
    }
   ],
   "source": [
    "for piano_type in [\"AkPnCGdD\",\"ENSTDkCl\",\"AkPnBcht\",\"AkPnBsdf\",\"AkPnStgb\",\"ENSTDkAm\",\"SptkBGAm\",\"StbgTGd2\"]:\n",
    "    compute_scores_database(piano_type, H_normalization = False, fusion_peak= False)\n",
    "    "
   ]
  },
  {
   "cell_type": "markdown",
   "id": "undefined-joshua",
   "metadata": {},
   "source": [
    "### peak fusion"
   ]
  },
  {
   "cell_type": "code",
   "execution_count": 13,
   "id": "norwegian-affiliation",
   "metadata": {},
   "outputs": [
    {
     "name": "stdout",
     "output_type": "stream",
     "text": [
      "Piano: AkPnCGdD\n",
      "When averaging each threshold on all MAPS\n"
     ]
    },
    {
     "data": {
      "text/html": [
       "<style  type=\"text/css\" >\n",
       "#T_57fbe_row0_col3,#T_57fbe_row0_col4{\n",
       "            width:  10em;\n",
       "             height:  80%;\n",
       "            background:  linear-gradient(90deg,#5fba7d 100.0%, transparent 100.0%);\n",
       "        }#T_57fbe_row1_col3,#T_57fbe_row1_col4{\n",
       "            width:  10em;\n",
       "             height:  80%;\n",
       "        }</style><table id=\"T_57fbe_\" ><thead>    <tr>        <th class=\"blank level0\" ></th>        <th class=\"col_heading level0 col0\" >Best threshold</th>        <th class=\"col_heading level0 col1\" >Precision</th>        <th class=\"col_heading level0 col2\" >Recall</th>        <th class=\"col_heading level0 col3\" >F measure</th>        <th class=\"col_heading level0 col4\" >Accuracy</th>        <th class=\"col_heading level0 col5\" >True Positives</th>        <th class=\"col_heading level0 col6\" >False Positives</th>        <th class=\"col_heading level0 col7\" >False Negatives</th>    </tr></thead><tbody>\n",
       "                <tr>\n",
       "                        <th id=\"T_57fbe_level0_row0\" class=\"row_heading level0 row0\" >H: attack</th>\n",
       "                        <td id=\"T_57fbe_row0_col0\" class=\"data row0 col0\" >0.039000</td>\n",
       "                        <td id=\"T_57fbe_row0_col1\" class=\"data row0 col1\" >0.824300</td>\n",
       "                        <td id=\"T_57fbe_row0_col2\" class=\"data row0 col2\" >0.799600</td>\n",
       "                        <td id=\"T_57fbe_row0_col3\" class=\"data row0 col3\" >0.806300</td>\n",
       "                        <td id=\"T_57fbe_row0_col4\" class=\"data row0 col4\" >0.687200</td>\n",
       "                        <td id=\"T_57fbe_row0_col5\" class=\"data row0 col5\" >187.000000</td>\n",
       "                        <td id=\"T_57fbe_row0_col6\" class=\"data row0 col6\" >47.266700</td>\n",
       "                        <td id=\"T_57fbe_row0_col7\" class=\"data row0 col7\" >64.266700</td>\n",
       "            </tr>\n",
       "            <tr>\n",
       "                        <th id=\"T_57fbe_level0_row1\" class=\"row_heading level0 row1\" >H: normal</th>\n",
       "                        <td id=\"T_57fbe_row1_col0\" class=\"data row1 col0\" >0.022000</td>\n",
       "                        <td id=\"T_57fbe_row1_col1\" class=\"data row1 col1\" >0.766900</td>\n",
       "                        <td id=\"T_57fbe_row1_col2\" class=\"data row1 col2\" >0.652100</td>\n",
       "                        <td id=\"T_57fbe_row1_col3\" class=\"data row1 col3\" >0.701300</td>\n",
       "                        <td id=\"T_57fbe_row1_col4\" class=\"data row1 col4\" >0.547200</td>\n",
       "                        <td id=\"T_57fbe_row1_col5\" class=\"data row1 col5\" >161.200000</td>\n",
       "                        <td id=\"T_57fbe_row1_col6\" class=\"data row1 col6\" >52.500000</td>\n",
       "                        <td id=\"T_57fbe_row1_col7\" class=\"data row1 col7\" >90.166700</td>\n",
       "            </tr>\n",
       "    </tbody></table>"
      ],
      "text/plain": [
       "<pandas.io.formats.style.Styler at 0x7fb364bb70a0>"
      ]
     },
     "metadata": {},
     "output_type": "display_data"
    },
    {
     "name": "stdout",
     "output_type": "stream",
     "text": [
      "When optimizing the threshold on each song\n"
     ]
    },
    {
     "data": {
      "text/html": [
       "<style  type=\"text/css\" >\n",
       "#T_0bdfa_row0_col2,#T_0bdfa_row0_col3{\n",
       "            width:  10em;\n",
       "             height:  80%;\n",
       "            background:  linear-gradient(90deg,#5fba7d 100.0%, transparent 100.0%);\n",
       "        }#T_0bdfa_row1_col2,#T_0bdfa_row1_col3{\n",
       "            width:  10em;\n",
       "             height:  80%;\n",
       "        }</style><table id=\"T_0bdfa_\" ><thead>    <tr>        <th class=\"blank level0\" ></th>        <th class=\"col_heading level0 col0\" >Precision</th>        <th class=\"col_heading level0 col1\" >Recall</th>        <th class=\"col_heading level0 col2\" >F measure</th>        <th class=\"col_heading level0 col3\" >Accuracy</th>        <th class=\"col_heading level0 col4\" >True Positives</th>        <th class=\"col_heading level0 col5\" >False Positives</th>        <th class=\"col_heading level0 col6\" >False Negatives</th>    </tr></thead><tbody>\n",
       "                <tr>\n",
       "                        <th id=\"T_0bdfa_level0_row0\" class=\"row_heading level0 row0\" >H: attack</th>\n",
       "                        <td id=\"T_0bdfa_row0_col0\" class=\"data row0 col0\" >0.847100</td>\n",
       "                        <td id=\"T_0bdfa_row0_col1\" class=\"data row0 col1\" >0.813300</td>\n",
       "                        <td id=\"T_0bdfa_row0_col2\" class=\"data row0 col2\" >0.828100</td>\n",
       "                        <td id=\"T_0bdfa_row0_col3\" class=\"data row0 col3\" >0.719000</td>\n",
       "                        <td id=\"T_0bdfa_row0_col4\" class=\"data row0 col4\" >191.733300</td>\n",
       "                        <td id=\"T_0bdfa_row0_col5\" class=\"data row0 col5\" >40.766700</td>\n",
       "                        <td id=\"T_0bdfa_row0_col6\" class=\"data row0 col6\" >59.633300</td>\n",
       "            </tr>\n",
       "            <tr>\n",
       "                        <th id=\"T_0bdfa_level0_row1\" class=\"row_heading level0 row1\" >H: normal</th>\n",
       "                        <td id=\"T_0bdfa_row1_col0\" class=\"data row1 col0\" >0.806600</td>\n",
       "                        <td id=\"T_0bdfa_row1_col1\" class=\"data row1 col1\" >0.661200</td>\n",
       "                        <td id=\"T_0bdfa_row1_col2\" class=\"data row1 col2\" >0.724400</td>\n",
       "                        <td id=\"T_0bdfa_row1_col3\" class=\"data row1 col3\" >0.575000</td>\n",
       "                        <td id=\"T_0bdfa_row1_col4\" class=\"data row1 col4\" >163.333300</td>\n",
       "                        <td id=\"T_0bdfa_row1_col5\" class=\"data row1 col5\" >41.766700</td>\n",
       "                        <td id=\"T_0bdfa_row1_col6\" class=\"data row1 col6\" >88.033300</td>\n",
       "            </tr>\n",
       "    </tbody></table>"
      ],
      "text/plain": [
       "<pandas.io.formats.style.Styler at 0x7fb364bb7130>"
      ]
     },
     "metadata": {},
     "output_type": "display_data"
    },
    {
     "name": "stdout",
     "output_type": "stream",
     "text": [
      "Piano: ENSTDkCl\n",
      "When averaging each threshold on all MAPS\n"
     ]
    },
    {
     "data": {
      "text/html": [
       "<style  type=\"text/css\" >\n",
       "#T_cd965_row0_col3,#T_cd965_row0_col4{\n",
       "            width:  10em;\n",
       "             height:  80%;\n",
       "            background:  linear-gradient(90deg,#5fba7d 100.0%, transparent 100.0%);\n",
       "        }#T_cd965_row1_col3,#T_cd965_row1_col4{\n",
       "            width:  10em;\n",
       "             height:  80%;\n",
       "        }</style><table id=\"T_cd965_\" ><thead>    <tr>        <th class=\"blank level0\" ></th>        <th class=\"col_heading level0 col0\" >Best threshold</th>        <th class=\"col_heading level0 col1\" >Precision</th>        <th class=\"col_heading level0 col2\" >Recall</th>        <th class=\"col_heading level0 col3\" >F measure</th>        <th class=\"col_heading level0 col4\" >Accuracy</th>        <th class=\"col_heading level0 col5\" >True Positives</th>        <th class=\"col_heading level0 col6\" >False Positives</th>        <th class=\"col_heading level0 col7\" >False Negatives</th>    </tr></thead><tbody>\n",
       "                <tr>\n",
       "                        <th id=\"T_cd965_level0_row0\" class=\"row_heading level0 row0\" >H: attack</th>\n",
       "                        <td id=\"T_cd965_row0_col0\" class=\"data row0 col0\" >0.021000</td>\n",
       "                        <td id=\"T_cd965_row0_col1\" class=\"data row0 col1\" >0.767900</td>\n",
       "                        <td id=\"T_cd965_row0_col2\" class=\"data row0 col2\" >0.585400</td>\n",
       "                        <td id=\"T_cd965_row0_col3\" class=\"data row0 col3\" >0.661800</td>\n",
       "                        <td id=\"T_cd965_row0_col4\" class=\"data row0 col4\" >0.503900</td>\n",
       "                        <td id=\"T_cd965_row0_col5\" class=\"data row0 col5\" >143.600000</td>\n",
       "                        <td id=\"T_cd965_row0_col6\" class=\"data row0 col6\" >40.133300</td>\n",
       "                        <td id=\"T_cd965_row0_col7\" class=\"data row0 col7\" >101.266700</td>\n",
       "            </tr>\n",
       "            <tr>\n",
       "                        <th id=\"T_cd965_level0_row1\" class=\"row_heading level0 row1\" >H: normal</th>\n",
       "                        <td id=\"T_cd965_row1_col0\" class=\"data row1 col0\" >0.013000</td>\n",
       "                        <td id=\"T_cd965_row1_col1\" class=\"data row1 col1\" >0.616800</td>\n",
       "                        <td id=\"T_cd965_row1_col2\" class=\"data row1 col2\" >0.526400</td>\n",
       "                        <td id=\"T_cd965_row1_col3\" class=\"data row1 col3\" >0.565400</td>\n",
       "                        <td id=\"T_cd965_row1_col4\" class=\"data row1 col4\" >0.403000</td>\n",
       "                        <td id=\"T_cd965_row1_col5\" class=\"data row1 col5\" >129.333300</td>\n",
       "                        <td id=\"T_cd965_row1_col6\" class=\"data row1 col6\" >75.666700</td>\n",
       "                        <td id=\"T_cd965_row1_col7\" class=\"data row1 col7\" >115.533300</td>\n",
       "            </tr>\n",
       "    </tbody></table>"
      ],
      "text/plain": [
       "<pandas.io.formats.style.Styler at 0x7fb3316de100>"
      ]
     },
     "metadata": {},
     "output_type": "display_data"
    },
    {
     "name": "stdout",
     "output_type": "stream",
     "text": [
      "When optimizing the threshold on each song\n"
     ]
    },
    {
     "data": {
      "text/html": [
       "<style  type=\"text/css\" >\n",
       "#T_ea012_row0_col2,#T_ea012_row0_col3{\n",
       "            width:  10em;\n",
       "             height:  80%;\n",
       "            background:  linear-gradient(90deg,#5fba7d 100.0%, transparent 100.0%);\n",
       "        }#T_ea012_row1_col2,#T_ea012_row1_col3{\n",
       "            width:  10em;\n",
       "             height:  80%;\n",
       "        }</style><table id=\"T_ea012_\" ><thead>    <tr>        <th class=\"blank level0\" ></th>        <th class=\"col_heading level0 col0\" >Precision</th>        <th class=\"col_heading level0 col1\" >Recall</th>        <th class=\"col_heading level0 col2\" >F measure</th>        <th class=\"col_heading level0 col3\" >Accuracy</th>        <th class=\"col_heading level0 col4\" >True Positives</th>        <th class=\"col_heading level0 col5\" >False Positives</th>        <th class=\"col_heading level0 col6\" >False Negatives</th>    </tr></thead><tbody>\n",
       "                <tr>\n",
       "                        <th id=\"T_ea012_level0_row0\" class=\"row_heading level0 row0\" >H: attack</th>\n",
       "                        <td id=\"T_ea012_row0_col0\" class=\"data row0 col0\" >0.771400</td>\n",
       "                        <td id=\"T_ea012_row0_col1\" class=\"data row0 col1\" >0.596600</td>\n",
       "                        <td id=\"T_ea012_row0_col2\" class=\"data row0 col2\" >0.671300</td>\n",
       "                        <td id=\"T_ea012_row0_col3\" class=\"data row0 col3\" >0.514300</td>\n",
       "                        <td id=\"T_ea012_row0_col4\" class=\"data row0 col4\" >146.966700</td>\n",
       "                        <td id=\"T_ea012_row0_col5\" class=\"data row0 col5\" >41.233300</td>\n",
       "                        <td id=\"T_ea012_row0_col6\" class=\"data row0 col6\" >97.933300</td>\n",
       "            </tr>\n",
       "            <tr>\n",
       "                        <th id=\"T_ea012_level0_row1\" class=\"row_heading level0 row1\" >H: normal</th>\n",
       "                        <td id=\"T_ea012_row1_col0\" class=\"data row1 col0\" >0.629100</td>\n",
       "                        <td id=\"T_ea012_row1_col1\" class=\"data row1 col1\" >0.541500</td>\n",
       "                        <td id=\"T_ea012_row1_col2\" class=\"data row1 col2\" >0.580100</td>\n",
       "                        <td id=\"T_ea012_row1_col3\" class=\"data row1 col3\" >0.417200</td>\n",
       "                        <td id=\"T_ea012_row1_col4\" class=\"data row1 col4\" >134.200000</td>\n",
       "                        <td id=\"T_ea012_row1_col5\" class=\"data row1 col5\" >77.833300</td>\n",
       "                        <td id=\"T_ea012_row1_col6\" class=\"data row1 col6\" >110.833300</td>\n",
       "            </tr>\n",
       "    </tbody></table>"
      ],
      "text/plain": [
       "<pandas.io.formats.style.Styler at 0x7fb3316deac0>"
      ]
     },
     "metadata": {},
     "output_type": "display_data"
    },
    {
     "name": "stdout",
     "output_type": "stream",
     "text": [
      "Piano: AkPnBcht\n",
      "When averaging each threshold on all MAPS\n"
     ]
    },
    {
     "data": {
      "text/html": [
       "<style  type=\"text/css\" >\n",
       "#T_fc701_row0_col3,#T_fc701_row0_col4{\n",
       "            width:  10em;\n",
       "             height:  80%;\n",
       "            background:  linear-gradient(90deg,#5fba7d 100.0%, transparent 100.0%);\n",
       "        }#T_fc701_row1_col3,#T_fc701_row1_col4{\n",
       "            width:  10em;\n",
       "             height:  80%;\n",
       "        }</style><table id=\"T_fc701_\" ><thead>    <tr>        <th class=\"blank level0\" ></th>        <th class=\"col_heading level0 col0\" >Best threshold</th>        <th class=\"col_heading level0 col1\" >Precision</th>        <th class=\"col_heading level0 col2\" >Recall</th>        <th class=\"col_heading level0 col3\" >F measure</th>        <th class=\"col_heading level0 col4\" >Accuracy</th>        <th class=\"col_heading level0 col5\" >True Positives</th>        <th class=\"col_heading level0 col6\" >False Positives</th>        <th class=\"col_heading level0 col7\" >False Negatives</th>    </tr></thead><tbody>\n",
       "                <tr>\n",
       "                        <th id=\"T_fc701_level0_row0\" class=\"row_heading level0 row0\" >H: attack</th>\n",
       "                        <td id=\"T_fc701_row0_col0\" class=\"data row0 col0\" >0.043000</td>\n",
       "                        <td id=\"T_fc701_row0_col1\" class=\"data row0 col1\" >0.845600</td>\n",
       "                        <td id=\"T_fc701_row0_col2\" class=\"data row0 col2\" >0.808400</td>\n",
       "                        <td id=\"T_fc701_row0_col3\" class=\"data row0 col3\" >0.823500</td>\n",
       "                        <td id=\"T_fc701_row0_col4\" class=\"data row0 col4\" >0.716400</td>\n",
       "                        <td id=\"T_fc701_row0_col5\" class=\"data row0 col5\" >228.966700</td>\n",
       "                        <td id=\"T_fc701_row0_col6\" class=\"data row0 col6\" >57.533300</td>\n",
       "                        <td id=\"T_fc701_row0_col7\" class=\"data row0 col7\" >69.833300</td>\n",
       "            </tr>\n",
       "            <tr>\n",
       "                        <th id=\"T_fc701_level0_row1\" class=\"row_heading level0 row1\" >H: normal</th>\n",
       "                        <td id=\"T_fc701_row1_col0\" class=\"data row1 col0\" >0.030000</td>\n",
       "                        <td id=\"T_fc701_row1_col1\" class=\"data row1 col1\" >0.800400</td>\n",
       "                        <td id=\"T_fc701_row1_col2\" class=\"data row1 col2\" >0.707900</td>\n",
       "                        <td id=\"T_fc701_row1_col3\" class=\"data row1 col3\" >0.747800</td>\n",
       "                        <td id=\"T_fc701_row1_col4\" class=\"data row1 col4\" >0.609300</td>\n",
       "                        <td id=\"T_fc701_row1_col5\" class=\"data row1 col5\" >205.200000</td>\n",
       "                        <td id=\"T_fc701_row1_col6\" class=\"data row1 col6\" >69.366700</td>\n",
       "                        <td id=\"T_fc701_row1_col7\" class=\"data row1 col7\" >93.833300</td>\n",
       "            </tr>\n",
       "    </tbody></table>"
      ],
      "text/plain": [
       "<pandas.io.formats.style.Styler at 0x7fb364b17940>"
      ]
     },
     "metadata": {},
     "output_type": "display_data"
    },
    {
     "name": "stdout",
     "output_type": "stream",
     "text": [
      "When optimizing the threshold on each song\n"
     ]
    },
    {
     "data": {
      "text/html": [
       "<style  type=\"text/css\" >\n",
       "#T_af75b_row0_col2,#T_af75b_row0_col3{\n",
       "            width:  10em;\n",
       "             height:  80%;\n",
       "            background:  linear-gradient(90deg,#5fba7d 100.0%, transparent 100.0%);\n",
       "        }#T_af75b_row1_col2,#T_af75b_row1_col3{\n",
       "            width:  10em;\n",
       "             height:  80%;\n",
       "        }</style><table id=\"T_af75b_\" ><thead>    <tr>        <th class=\"blank level0\" ></th>        <th class=\"col_heading level0 col0\" >Precision</th>        <th class=\"col_heading level0 col1\" >Recall</th>        <th class=\"col_heading level0 col2\" >F measure</th>        <th class=\"col_heading level0 col3\" >Accuracy</th>        <th class=\"col_heading level0 col4\" >True Positives</th>        <th class=\"col_heading level0 col5\" >False Positives</th>        <th class=\"col_heading level0 col6\" >False Negatives</th>    </tr></thead><tbody>\n",
       "                <tr>\n",
       "                        <th id=\"T_af75b_level0_row0\" class=\"row_heading level0 row0\" >H: attack</th>\n",
       "                        <td id=\"T_af75b_row0_col0\" class=\"data row0 col0\" >0.853100</td>\n",
       "                        <td id=\"T_af75b_row0_col1\" class=\"data row0 col1\" >0.820200</td>\n",
       "                        <td id=\"T_af75b_row0_col2\" class=\"data row0 col2\" >0.835400</td>\n",
       "                        <td id=\"T_af75b_row0_col3\" class=\"data row0 col3\" >0.732900</td>\n",
       "                        <td id=\"T_af75b_row0_col4\" class=\"data row0 col4\" >231.000000</td>\n",
       "                        <td id=\"T_af75b_row0_col5\" class=\"data row0 col5\" >48.933300</td>\n",
       "                        <td id=\"T_af75b_row0_col6\" class=\"data row0 col6\" >67.866700</td>\n",
       "            </tr>\n",
       "            <tr>\n",
       "                        <th id=\"T_af75b_level0_row1\" class=\"row_heading level0 row1\" >H: normal</th>\n",
       "                        <td id=\"T_af75b_row1_col0\" class=\"data row1 col0\" >0.817100</td>\n",
       "                        <td id=\"T_af75b_row1_col1\" class=\"data row1 col1\" >0.716600</td>\n",
       "                        <td id=\"T_af75b_row1_col2\" class=\"data row1 col2\" >0.762300</td>\n",
       "                        <td id=\"T_af75b_row1_col3\" class=\"data row1 col3\" >0.629200</td>\n",
       "                        <td id=\"T_af75b_row1_col4\" class=\"data row1 col4\" >205.366700</td>\n",
       "                        <td id=\"T_af75b_row1_col5\" class=\"data row1 col5\" >54.133300</td>\n",
       "                        <td id=\"T_af75b_row1_col6\" class=\"data row1 col6\" >93.500000</td>\n",
       "            </tr>\n",
       "    </tbody></table>"
      ],
      "text/plain": [
       "<pandas.io.formats.style.Styler at 0x7fb364b17e50>"
      ]
     },
     "metadata": {},
     "output_type": "display_data"
    },
    {
     "name": "stdout",
     "output_type": "stream",
     "text": [
      "Piano: AkPnBsdf\n",
      "When averaging each threshold on all MAPS\n"
     ]
    },
    {
     "data": {
      "text/html": [
       "<style  type=\"text/css\" >\n",
       "#T_a9cb5_row0_col3,#T_a9cb5_row0_col4{\n",
       "            width:  10em;\n",
       "             height:  80%;\n",
       "            background:  linear-gradient(90deg,#5fba7d 100.0%, transparent 100.0%);\n",
       "        }#T_a9cb5_row1_col3,#T_a9cb5_row1_col4{\n",
       "            width:  10em;\n",
       "             height:  80%;\n",
       "        }</style><table id=\"T_a9cb5_\" ><thead>    <tr>        <th class=\"blank level0\" ></th>        <th class=\"col_heading level0 col0\" >Best threshold</th>        <th class=\"col_heading level0 col1\" >Precision</th>        <th class=\"col_heading level0 col2\" >Recall</th>        <th class=\"col_heading level0 col3\" >F measure</th>        <th class=\"col_heading level0 col4\" >Accuracy</th>        <th class=\"col_heading level0 col5\" >True Positives</th>        <th class=\"col_heading level0 col6\" >False Positives</th>        <th class=\"col_heading level0 col7\" >False Negatives</th>    </tr></thead><tbody>\n",
       "                <tr>\n",
       "                        <th id=\"T_a9cb5_level0_row0\" class=\"row_heading level0 row0\" >H: attack</th>\n",
       "                        <td id=\"T_a9cb5_row0_col0\" class=\"data row0 col0\" >0.017000</td>\n",
       "                        <td id=\"T_a9cb5_row0_col1\" class=\"data row0 col1\" >0.786300</td>\n",
       "                        <td id=\"T_a9cb5_row0_col2\" class=\"data row0 col2\" >0.746500</td>\n",
       "                        <td id=\"T_a9cb5_row0_col3\" class=\"data row0 col3\" >0.760800</td>\n",
       "                        <td id=\"T_a9cb5_row0_col4\" class=\"data row0 col4\" >0.622900</td>\n",
       "                        <td id=\"T_a9cb5_row0_col5\" class=\"data row0 col5\" >202.300000</td>\n",
       "                        <td id=\"T_a9cb5_row0_col6\" class=\"data row0 col6\" >62.400000</td>\n",
       "                        <td id=\"T_a9cb5_row0_col7\" class=\"data row0 col7\" >76.800000</td>\n",
       "            </tr>\n",
       "            <tr>\n",
       "                        <th id=\"T_a9cb5_level0_row1\" class=\"row_heading level0 row1\" >H: normal</th>\n",
       "                        <td id=\"T_a9cb5_row1_col0\" class=\"data row1 col0\" >0.014000</td>\n",
       "                        <td id=\"T_a9cb5_row1_col1\" class=\"data row1 col1\" >0.749600</td>\n",
       "                        <td id=\"T_a9cb5_row1_col2\" class=\"data row1 col2\" >0.684000</td>\n",
       "                        <td id=\"T_a9cb5_row1_col3\" class=\"data row1 col3\" >0.710900</td>\n",
       "                        <td id=\"T_a9cb5_row1_col4\" class=\"data row1 col4\" >0.559200</td>\n",
       "                        <td id=\"T_a9cb5_row1_col5\" class=\"data row1 col5\" >185.800000</td>\n",
       "                        <td id=\"T_a9cb5_row1_col6\" class=\"data row1 col6\" >69.500000</td>\n",
       "                        <td id=\"T_a9cb5_row1_col7\" class=\"data row1 col7\" >93.500000</td>\n",
       "            </tr>\n",
       "    </tbody></table>"
      ],
      "text/plain": [
       "<pandas.io.formats.style.Styler at 0x7fb332631fa0>"
      ]
     },
     "metadata": {},
     "output_type": "display_data"
    },
    {
     "name": "stdout",
     "output_type": "stream",
     "text": [
      "When optimizing the threshold on each song\n"
     ]
    },
    {
     "data": {
      "text/html": [
       "<style  type=\"text/css\" >\n",
       "#T_009b7_row0_col2,#T_009b7_row0_col3{\n",
       "            width:  10em;\n",
       "             height:  80%;\n",
       "            background:  linear-gradient(90deg,#5fba7d 100.0%, transparent 100.0%);\n",
       "        }#T_009b7_row1_col2,#T_009b7_row1_col3{\n",
       "            width:  10em;\n",
       "             height:  80%;\n",
       "        }</style><table id=\"T_009b7_\" ><thead>    <tr>        <th class=\"blank level0\" ></th>        <th class=\"col_heading level0 col0\" >Precision</th>        <th class=\"col_heading level0 col1\" >Recall</th>        <th class=\"col_heading level0 col2\" >F measure</th>        <th class=\"col_heading level0 col3\" >Accuracy</th>        <th class=\"col_heading level0 col4\" >True Positives</th>        <th class=\"col_heading level0 col5\" >False Positives</th>        <th class=\"col_heading level0 col6\" >False Negatives</th>    </tr></thead><tbody>\n",
       "                <tr>\n",
       "                        <th id=\"T_009b7_level0_row0\" class=\"row_heading level0 row0\" >H: attack</th>\n",
       "                        <td id=\"T_009b7_row0_col0\" class=\"data row0 col0\" >0.829000</td>\n",
       "                        <td id=\"T_009b7_row0_col1\" class=\"data row0 col1\" >0.732400</td>\n",
       "                        <td id=\"T_009b7_row0_col2\" class=\"data row0 col2\" >0.776200</td>\n",
       "                        <td id=\"T_009b7_row0_col3\" class=\"data row0 col3\" >0.642100</td>\n",
       "                        <td id=\"T_009b7_row0_col4\" class=\"data row0 col4\" >198.366700</td>\n",
       "                        <td id=\"T_009b7_row0_col5\" class=\"data row0 col5\" >46.466700</td>\n",
       "                        <td id=\"T_009b7_row0_col6\" class=\"data row0 col6\" >80.933300</td>\n",
       "            </tr>\n",
       "            <tr>\n",
       "                        <th id=\"T_009b7_level0_row1\" class=\"row_heading level0 row1\" >H: normal</th>\n",
       "                        <td id=\"T_009b7_row1_col0\" class=\"data row1 col0\" >0.777100</td>\n",
       "                        <td id=\"T_009b7_row1_col1\" class=\"data row1 col1\" >0.688300</td>\n",
       "                        <td id=\"T_009b7_row1_col2\" class=\"data row1 col2\" >0.728900</td>\n",
       "                        <td id=\"T_009b7_row1_col3\" class=\"data row1 col3\" >0.581500</td>\n",
       "                        <td id=\"T_009b7_row1_col4\" class=\"data row1 col4\" >186.233300</td>\n",
       "                        <td id=\"T_009b7_row1_col5\" class=\"data row1 col5\" >58.233300</td>\n",
       "                        <td id=\"T_009b7_row1_col6\" class=\"data row1 col6\" >93.166700</td>\n",
       "            </tr>\n",
       "    </tbody></table>"
      ],
      "text/plain": [
       "<pandas.io.formats.style.Styler at 0x7fb33261f370>"
      ]
     },
     "metadata": {},
     "output_type": "display_data"
    },
    {
     "name": "stdout",
     "output_type": "stream",
     "text": [
      "Piano: AkPnStgb\n",
      "When averaging each threshold on all MAPS\n"
     ]
    },
    {
     "data": {
      "text/html": [
       "<style  type=\"text/css\" >\n",
       "#T_fc2a4_row0_col3,#T_fc2a4_row0_col4{\n",
       "            width:  10em;\n",
       "             height:  80%;\n",
       "            background:  linear-gradient(90deg,#5fba7d 100.0%, transparent 100.0%);\n",
       "        }#T_fc2a4_row1_col3,#T_fc2a4_row1_col4{\n",
       "            width:  10em;\n",
       "             height:  80%;\n",
       "        }</style><table id=\"T_fc2a4_\" ><thead>    <tr>        <th class=\"blank level0\" ></th>        <th class=\"col_heading level0 col0\" >Best threshold</th>        <th class=\"col_heading level0 col1\" >Precision</th>        <th class=\"col_heading level0 col2\" >Recall</th>        <th class=\"col_heading level0 col3\" >F measure</th>        <th class=\"col_heading level0 col4\" >Accuracy</th>        <th class=\"col_heading level0 col5\" >True Positives</th>        <th class=\"col_heading level0 col6\" >False Positives</th>        <th class=\"col_heading level0 col7\" >False Negatives</th>    </tr></thead><tbody>\n",
       "                <tr>\n",
       "                        <th id=\"T_fc2a4_level0_row0\" class=\"row_heading level0 row0\" >H: attack</th>\n",
       "                        <td id=\"T_fc2a4_row0_col0\" class=\"data row0 col0\" >0.040000</td>\n",
       "                        <td id=\"T_fc2a4_row0_col1\" class=\"data row0 col1\" >0.827300</td>\n",
       "                        <td id=\"T_fc2a4_row0_col2\" class=\"data row0 col2\" >0.717000</td>\n",
       "                        <td id=\"T_fc2a4_row0_col3\" class=\"data row0 col3\" >0.763100</td>\n",
       "                        <td id=\"T_fc2a4_row0_col4\" class=\"data row0 col4\" >0.634000</td>\n",
       "                        <td id=\"T_fc2a4_row0_col5\" class=\"data row0 col5\" >199.733300</td>\n",
       "                        <td id=\"T_fc2a4_row0_col6\" class=\"data row0 col6\" >49.966700</td>\n",
       "                        <td id=\"T_fc2a4_row0_col7\" class=\"data row0 col7\" >94.000000</td>\n",
       "            </tr>\n",
       "            <tr>\n",
       "                        <th id=\"T_fc2a4_level0_row1\" class=\"row_heading level0 row1\" >H: normal</th>\n",
       "                        <td id=\"T_fc2a4_row1_col0\" class=\"data row1 col0\" >0.031000</td>\n",
       "                        <td id=\"T_fc2a4_row1_col1\" class=\"data row1 col1\" >0.789500</td>\n",
       "                        <td id=\"T_fc2a4_row1_col2\" class=\"data row1 col2\" >0.633000</td>\n",
       "                        <td id=\"T_fc2a4_row1_col3\" class=\"data row1 col3\" >0.698100</td>\n",
       "                        <td id=\"T_fc2a4_row1_col4\" class=\"data row1 col4\" >0.547800</td>\n",
       "                        <td id=\"T_fc2a4_row1_col5\" class=\"data row1 col5\" >179.966700</td>\n",
       "                        <td id=\"T_fc2a4_row1_col6\" class=\"data row1 col6\" >55.933300</td>\n",
       "                        <td id=\"T_fc2a4_row1_col7\" class=\"data row1 col7\" >113.800000</td>\n",
       "            </tr>\n",
       "    </tbody></table>"
      ],
      "text/plain": [
       "<pandas.io.formats.style.Styler at 0x7fb36553c0d0>"
      ]
     },
     "metadata": {},
     "output_type": "display_data"
    },
    {
     "name": "stdout",
     "output_type": "stream",
     "text": [
      "When optimizing the threshold on each song\n"
     ]
    },
    {
     "data": {
      "text/html": [
       "<style  type=\"text/css\" >\n",
       "#T_aacf0_row0_col2,#T_aacf0_row0_col3{\n",
       "            width:  10em;\n",
       "             height:  80%;\n",
       "            background:  linear-gradient(90deg,#5fba7d 100.0%, transparent 100.0%);\n",
       "        }#T_aacf0_row1_col2,#T_aacf0_row1_col3{\n",
       "            width:  10em;\n",
       "             height:  80%;\n",
       "        }</style><table id=\"T_aacf0_\" ><thead>    <tr>        <th class=\"blank level0\" ></th>        <th class=\"col_heading level0 col0\" >Precision</th>        <th class=\"col_heading level0 col1\" >Recall</th>        <th class=\"col_heading level0 col2\" >F measure</th>        <th class=\"col_heading level0 col3\" >Accuracy</th>        <th class=\"col_heading level0 col4\" >True Positives</th>        <th class=\"col_heading level0 col5\" >False Positives</th>        <th class=\"col_heading level0 col6\" >False Negatives</th>    </tr></thead><tbody>\n",
       "                <tr>\n",
       "                        <th id=\"T_aacf0_level0_row0\" class=\"row_heading level0 row0\" >H: attack</th>\n",
       "                        <td id=\"T_aacf0_row0_col0\" class=\"data row0 col0\" >0.821000</td>\n",
       "                        <td id=\"T_aacf0_row0_col1\" class=\"data row0 col1\" >0.749400</td>\n",
       "                        <td id=\"T_aacf0_row0_col2\" class=\"data row0 col2\" >0.780700</td>\n",
       "                        <td id=\"T_aacf0_row0_col3\" class=\"data row0 col3\" >0.655500</td>\n",
       "                        <td id=\"T_aacf0_row0_col4\" class=\"data row0 col4\" >209.200000</td>\n",
       "                        <td id=\"T_aacf0_row0_col5\" class=\"data row0 col5\" >53.000000</td>\n",
       "                        <td id=\"T_aacf0_row0_col6\" class=\"data row0 col6\" >84.700000</td>\n",
       "            </tr>\n",
       "            <tr>\n",
       "                        <th id=\"T_aacf0_level0_row1\" class=\"row_heading level0 row1\" >H: normal</th>\n",
       "                        <td id=\"T_aacf0_row1_col0\" class=\"data row1 col0\" >0.785600</td>\n",
       "                        <td id=\"T_aacf0_row1_col1\" class=\"data row1 col1\" >0.659300</td>\n",
       "                        <td id=\"T_aacf0_row1_col2\" class=\"data row1 col2\" >0.714300</td>\n",
       "                        <td id=\"T_aacf0_row1_col3\" class=\"data row1 col3\" >0.566400</td>\n",
       "                        <td id=\"T_aacf0_row1_col4\" class=\"data row1 col4\" >188.300000</td>\n",
       "                        <td id=\"T_aacf0_row1_col5\" class=\"data row1 col5\" >59.500000</td>\n",
       "                        <td id=\"T_aacf0_row1_col6\" class=\"data row1 col6\" >105.500000</td>\n",
       "            </tr>\n",
       "    </tbody></table>"
      ],
      "text/plain": [
       "<pandas.io.formats.style.Styler at 0x7fb36556bf40>"
      ]
     },
     "metadata": {},
     "output_type": "display_data"
    },
    {
     "name": "stdout",
     "output_type": "stream",
     "text": [
      "Piano: ENSTDkAm\n",
      "When averaging each threshold on all MAPS\n"
     ]
    },
    {
     "data": {
      "text/html": [
       "<style  type=\"text/css\" >\n",
       "#T_f14f8_row0_col3,#T_f14f8_row0_col4{\n",
       "            width:  10em;\n",
       "             height:  80%;\n",
       "            background:  linear-gradient(90deg,#5fba7d 100.0%, transparent 100.0%);\n",
       "        }#T_f14f8_row1_col3,#T_f14f8_row1_col4{\n",
       "            width:  10em;\n",
       "             height:  80%;\n",
       "        }</style><table id=\"T_f14f8_\" ><thead>    <tr>        <th class=\"blank level0\" ></th>        <th class=\"col_heading level0 col0\" >Best threshold</th>        <th class=\"col_heading level0 col1\" >Precision</th>        <th class=\"col_heading level0 col2\" >Recall</th>        <th class=\"col_heading level0 col3\" >F measure</th>        <th class=\"col_heading level0 col4\" >Accuracy</th>        <th class=\"col_heading level0 col5\" >True Positives</th>        <th class=\"col_heading level0 col6\" >False Positives</th>        <th class=\"col_heading level0 col7\" >False Negatives</th>    </tr></thead><tbody>\n",
       "                <tr>\n",
       "                        <th id=\"T_f14f8_level0_row0\" class=\"row_heading level0 row0\" >H: attack</th>\n",
       "                        <td id=\"T_f14f8_row0_col0\" class=\"data row0 col0\" >0.015000</td>\n",
       "                        <td id=\"T_f14f8_row0_col1\" class=\"data row0 col1\" >0.442500</td>\n",
       "                        <td id=\"T_f14f8_row0_col2\" class=\"data row0 col2\" >0.352100</td>\n",
       "                        <td id=\"T_f14f8_row0_col3\" class=\"data row0 col3\" >0.390200</td>\n",
       "                        <td id=\"T_f14f8_row0_col4\" class=\"data row0 col4\" >0.249300</td>\n",
       "                        <td id=\"T_f14f8_row0_col5\" class=\"data row0 col5\" >107.466700</td>\n",
       "                        <td id=\"T_f14f8_row0_col6\" class=\"data row0 col6\" >119.700000</td>\n",
       "                        <td id=\"T_f14f8_row0_col7\" class=\"data row0 col7\" >184.466700</td>\n",
       "            </tr>\n",
       "            <tr>\n",
       "                        <th id=\"T_f14f8_level0_row1\" class=\"row_heading level0 row1\" >H: normal</th>\n",
       "                        <td id=\"T_f14f8_row1_col0\" class=\"data row1 col0\" >0.002000</td>\n",
       "                        <td id=\"T_f14f8_row1_col1\" class=\"data row1 col1\" >0.228800</td>\n",
       "                        <td id=\"T_f14f8_row1_col2\" class=\"data row1 col2\" >0.278400</td>\n",
       "                        <td id=\"T_f14f8_row1_col3\" class=\"data row1 col3\" >0.250000</td>\n",
       "                        <td id=\"T_f14f8_row1_col4\" class=\"data row1 col4\" >0.149800</td>\n",
       "                        <td id=\"T_f14f8_row1_col5\" class=\"data row1 col5\" >87.900000</td>\n",
       "                        <td id=\"T_f14f8_row1_col6\" class=\"data row1 col6\" >268.300000</td>\n",
       "                        <td id=\"T_f14f8_row1_col7\" class=\"data row1 col7\" >204.166700</td>\n",
       "            </tr>\n",
       "    </tbody></table>"
      ],
      "text/plain": [
       "<pandas.io.formats.style.Styler at 0x7fb3504d27c0>"
      ]
     },
     "metadata": {},
     "output_type": "display_data"
    },
    {
     "name": "stdout",
     "output_type": "stream",
     "text": [
      "When optimizing the threshold on each song\n"
     ]
    },
    {
     "data": {
      "text/html": [
       "<style  type=\"text/css\" >\n",
       "#T_002be_row0_col2,#T_002be_row0_col3{\n",
       "            width:  10em;\n",
       "             height:  80%;\n",
       "            background:  linear-gradient(90deg,#5fba7d 100.0%, transparent 100.0%);\n",
       "        }#T_002be_row1_col2,#T_002be_row1_col3{\n",
       "            width:  10em;\n",
       "             height:  80%;\n",
       "        }</style><table id=\"T_002be_\" ><thead>    <tr>        <th class=\"blank level0\" ></th>        <th class=\"col_heading level0 col0\" >Precision</th>        <th class=\"col_heading level0 col1\" >Recall</th>        <th class=\"col_heading level0 col2\" >F measure</th>        <th class=\"col_heading level0 col3\" >Accuracy</th>        <th class=\"col_heading level0 col4\" >True Positives</th>        <th class=\"col_heading level0 col5\" >False Positives</th>        <th class=\"col_heading level0 col6\" >False Negatives</th>    </tr></thead><tbody>\n",
       "                <tr>\n",
       "                        <th id=\"T_002be_level0_row0\" class=\"row_heading level0 row0\" >H: attack</th>\n",
       "                        <td id=\"T_002be_row0_col0\" class=\"data row0 col0\" >0.433600</td>\n",
       "                        <td id=\"T_002be_row0_col1\" class=\"data row0 col1\" >0.379100</td>\n",
       "                        <td id=\"T_002be_row0_col2\" class=\"data row0 col2\" >0.401200</td>\n",
       "                        <td id=\"T_002be_row0_col3\" class=\"data row0 col3\" >0.257800</td>\n",
       "                        <td id=\"T_002be_row0_col4\" class=\"data row0 col4\" >118.533300</td>\n",
       "                        <td id=\"T_002be_row0_col5\" class=\"data row0 col5\" >146.266700</td>\n",
       "                        <td id=\"T_002be_row0_col6\" class=\"data row0 col6\" >173.366700</td>\n",
       "            </tr>\n",
       "            <tr>\n",
       "                        <th id=\"T_002be_level0_row1\" class=\"row_heading level0 row1\" >H: normal</th>\n",
       "                        <td id=\"T_002be_row1_col0\" class=\"data row1 col0\" >0.265800</td>\n",
       "                        <td id=\"T_002be_row1_col1\" class=\"data row1 col1\" >0.260800</td>\n",
       "                        <td id=\"T_002be_row1_col2\" class=\"data row1 col2\" >0.260700</td>\n",
       "                        <td id=\"T_002be_row1_col3\" class=\"data row1 col3\" >0.157800</td>\n",
       "                        <td id=\"T_002be_row1_col4\" class=\"data row1 col4\" >83.400000</td>\n",
       "                        <td id=\"T_002be_row1_col5\" class=\"data row1 col5\" >221.766700</td>\n",
       "                        <td id=\"T_002be_row1_col6\" class=\"data row1 col6\" >208.500000</td>\n",
       "            </tr>\n",
       "    </tbody></table>"
      ],
      "text/plain": [
       "<pandas.io.formats.style.Styler at 0x7fb331efb490>"
      ]
     },
     "metadata": {},
     "output_type": "display_data"
    },
    {
     "name": "stdout",
     "output_type": "stream",
     "text": [
      "Piano: SptkBGAm\n",
      "When averaging each threshold on all MAPS\n"
     ]
    },
    {
     "data": {
      "text/html": [
       "<style  type=\"text/css\" >\n",
       "#T_f7929_row0_col3,#T_f7929_row0_col4{\n",
       "            width:  10em;\n",
       "             height:  80%;\n",
       "            background:  linear-gradient(90deg,#5fba7d 100.0%, transparent 100.0%);\n",
       "        }#T_f7929_row1_col3,#T_f7929_row1_col4{\n",
       "            width:  10em;\n",
       "             height:  80%;\n",
       "        }</style><table id=\"T_f7929_\" ><thead>    <tr>        <th class=\"blank level0\" ></th>        <th class=\"col_heading level0 col0\" >Best threshold</th>        <th class=\"col_heading level0 col1\" >Precision</th>        <th class=\"col_heading level0 col2\" >Recall</th>        <th class=\"col_heading level0 col3\" >F measure</th>        <th class=\"col_heading level0 col4\" >Accuracy</th>        <th class=\"col_heading level0 col5\" >True Positives</th>        <th class=\"col_heading level0 col6\" >False Positives</th>        <th class=\"col_heading level0 col7\" >False Negatives</th>    </tr></thead><tbody>\n",
       "                <tr>\n",
       "                        <th id=\"T_f7929_level0_row0\" class=\"row_heading level0 row0\" >H: attack</th>\n",
       "                        <td id=\"T_f7929_row0_col0\" class=\"data row0 col0\" >0.037000</td>\n",
       "                        <td id=\"T_f7929_row0_col1\" class=\"data row0 col1\" >0.809500</td>\n",
       "                        <td id=\"T_f7929_row0_col2\" class=\"data row0 col2\" >0.731800</td>\n",
       "                        <td id=\"T_f7929_row0_col3\" class=\"data row0 col3\" >0.764200</td>\n",
       "                        <td id=\"T_f7929_row0_col4\" class=\"data row0 col4\" >0.630200</td>\n",
       "                        <td id=\"T_f7929_row0_col5\" class=\"data row0 col5\" >186.333300</td>\n",
       "                        <td id=\"T_f7929_row0_col6\" class=\"data row0 col6\" >50.633300</td>\n",
       "                        <td id=\"T_f7929_row0_col7\" class=\"data row0 col7\" >82.600000</td>\n",
       "            </tr>\n",
       "            <tr>\n",
       "                        <th id=\"T_f7929_level0_row1\" class=\"row_heading level0 row1\" >H: normal</th>\n",
       "                        <td id=\"T_f7929_row1_col0\" class=\"data row1 col0\" >0.024000</td>\n",
       "                        <td id=\"T_f7929_row1_col1\" class=\"data row1 col1\" >0.741700</td>\n",
       "                        <td id=\"T_f7929_row1_col2\" class=\"data row1 col2\" >0.639700</td>\n",
       "                        <td id=\"T_f7929_row1_col3\" class=\"data row1 col3\" >0.683600</td>\n",
       "                        <td id=\"T_f7929_row1_col4\" class=\"data row1 col4\" >0.526400</td>\n",
       "                        <td id=\"T_f7929_row1_col5\" class=\"data row1 col5\" >165.966700</td>\n",
       "                        <td id=\"T_f7929_row1_col6\" class=\"data row1 col6\" >64.033300</td>\n",
       "                        <td id=\"T_f7929_row1_col7\" class=\"data row1 col7\" >103.066700</td>\n",
       "            </tr>\n",
       "    </tbody></table>"
      ],
      "text/plain": [
       "<pandas.io.formats.style.Styler at 0x7fb3318f1c70>"
      ]
     },
     "metadata": {},
     "output_type": "display_data"
    },
    {
     "name": "stdout",
     "output_type": "stream",
     "text": [
      "When optimizing the threshold on each song\n"
     ]
    },
    {
     "data": {
      "text/html": [
       "<style  type=\"text/css\" >\n",
       "#T_c3a9c_row0_col2,#T_c3a9c_row0_col3{\n",
       "            width:  10em;\n",
       "             height:  80%;\n",
       "            background:  linear-gradient(90deg,#5fba7d 100.0%, transparent 100.0%);\n",
       "        }#T_c3a9c_row1_col2,#T_c3a9c_row1_col3{\n",
       "            width:  10em;\n",
       "             height:  80%;\n",
       "        }</style><table id=\"T_c3a9c_\" ><thead>    <tr>        <th class=\"blank level0\" ></th>        <th class=\"col_heading level0 col0\" >Precision</th>        <th class=\"col_heading level0 col1\" >Recall</th>        <th class=\"col_heading level0 col2\" >F measure</th>        <th class=\"col_heading level0 col3\" >Accuracy</th>        <th class=\"col_heading level0 col4\" >True Positives</th>        <th class=\"col_heading level0 col5\" >False Positives</th>        <th class=\"col_heading level0 col6\" >False Negatives</th>    </tr></thead><tbody>\n",
       "                <tr>\n",
       "                        <th id=\"T_c3a9c_level0_row0\" class=\"row_heading level0 row0\" >H: attack</th>\n",
       "                        <td id=\"T_c3a9c_row0_col0\" class=\"data row0 col0\" >0.818900</td>\n",
       "                        <td id=\"T_c3a9c_row0_col1\" class=\"data row0 col1\" >0.749800</td>\n",
       "                        <td id=\"T_c3a9c_row0_col2\" class=\"data row0 col2\" >0.780800</td>\n",
       "                        <td id=\"T_c3a9c_row0_col3\" class=\"data row0 col3\" >0.650600</td>\n",
       "                        <td id=\"T_c3a9c_row0_col4\" class=\"data row0 col4\" >192.800000</td>\n",
       "                        <td id=\"T_c3a9c_row0_col5\" class=\"data row0 col5\" >47.733300</td>\n",
       "                        <td id=\"T_c3a9c_row0_col6\" class=\"data row0 col6\" >76.266700</td>\n",
       "            </tr>\n",
       "            <tr>\n",
       "                        <th id=\"T_c3a9c_level0_row1\" class=\"row_heading level0 row1\" >H: normal</th>\n",
       "                        <td id=\"T_c3a9c_row1_col0\" class=\"data row1 col0\" >0.753400</td>\n",
       "                        <td id=\"T_c3a9c_row1_col1\" class=\"data row1 col1\" >0.656300</td>\n",
       "                        <td id=\"T_c3a9c_row1_col2\" class=\"data row1 col2\" >0.697700</td>\n",
       "                        <td id=\"T_c3a9c_row1_col3\" class=\"data row1 col3\" >0.543200</td>\n",
       "                        <td id=\"T_c3a9c_row1_col4\" class=\"data row1 col4\" >170.666700</td>\n",
       "                        <td id=\"T_c3a9c_row1_col5\" class=\"data row1 col5\" >62.266700</td>\n",
       "                        <td id=\"T_c3a9c_row1_col6\" class=\"data row1 col6\" >98.400000</td>\n",
       "            </tr>\n",
       "    </tbody></table>"
      ],
      "text/plain": [
       "<pandas.io.formats.style.Styler at 0x7fb3318f1070>"
      ]
     },
     "metadata": {},
     "output_type": "display_data"
    },
    {
     "name": "stdout",
     "output_type": "stream",
     "text": [
      "Piano: StbgTGd2\n",
      "When averaging each threshold on all MAPS\n"
     ]
    },
    {
     "data": {
      "text/html": [
       "<style  type=\"text/css\" >\n",
       "#T_ee2e9_row0_col3,#T_ee2e9_row0_col4{\n",
       "            width:  10em;\n",
       "             height:  80%;\n",
       "            background:  linear-gradient(90deg,#5fba7d 100.0%, transparent 100.0%);\n",
       "        }#T_ee2e9_row1_col3,#T_ee2e9_row1_col4{\n",
       "            width:  10em;\n",
       "             height:  80%;\n",
       "        }</style><table id=\"T_ee2e9_\" ><thead>    <tr>        <th class=\"blank level0\" ></th>        <th class=\"col_heading level0 col0\" >Best threshold</th>        <th class=\"col_heading level0 col1\" >Precision</th>        <th class=\"col_heading level0 col2\" >Recall</th>        <th class=\"col_heading level0 col3\" >F measure</th>        <th class=\"col_heading level0 col4\" >Accuracy</th>        <th class=\"col_heading level0 col5\" >True Positives</th>        <th class=\"col_heading level0 col6\" >False Positives</th>        <th class=\"col_heading level0 col7\" >False Negatives</th>    </tr></thead><tbody>\n",
       "                <tr>\n",
       "                        <th id=\"T_ee2e9_level0_row0\" class=\"row_heading level0 row0\" >H: attack</th>\n",
       "                        <td id=\"T_ee2e9_row0_col0\" class=\"data row0 col0\" >0.017000</td>\n",
       "                        <td id=\"T_ee2e9_row0_col1\" class=\"data row0 col1\" >0.799900</td>\n",
       "                        <td id=\"T_ee2e9_row0_col2\" class=\"data row0 col2\" >0.768500</td>\n",
       "                        <td id=\"T_ee2e9_row0_col3\" class=\"data row0 col3\" >0.776500</td>\n",
       "                        <td id=\"T_ee2e9_row0_col4\" class=\"data row0 col4\" >0.645100</td>\n",
       "                        <td id=\"T_ee2e9_row0_col5\" class=\"data row0 col5\" >181.766700</td>\n",
       "                        <td id=\"T_ee2e9_row0_col6\" class=\"data row0 col6\" >53.733300</td>\n",
       "                        <td id=\"T_ee2e9_row0_col7\" class=\"data row0 col7\" >63.100000</td>\n",
       "            </tr>\n",
       "            <tr>\n",
       "                        <th id=\"T_ee2e9_level0_row1\" class=\"row_heading level0 row1\" >H: normal</th>\n",
       "                        <td id=\"T_ee2e9_row1_col0\" class=\"data row1 col0\" >0.017000</td>\n",
       "                        <td id=\"T_ee2e9_row1_col1\" class=\"data row1 col1\" >0.789000</td>\n",
       "                        <td id=\"T_ee2e9_row1_col2\" class=\"data row1 col2\" >0.666400</td>\n",
       "                        <td id=\"T_ee2e9_row1_col3\" class=\"data row1 col3\" >0.716000</td>\n",
       "                        <td id=\"T_ee2e9_row1_col4\" class=\"data row1 col4\" >0.566700</td>\n",
       "                        <td id=\"T_ee2e9_row1_col5\" class=\"data row1 col5\" >159.500000</td>\n",
       "                        <td id=\"T_ee2e9_row1_col6\" class=\"data row1 col6\" >50.766700</td>\n",
       "                        <td id=\"T_ee2e9_row1_col7\" class=\"data row1 col7\" >85.566700</td>\n",
       "            </tr>\n",
       "    </tbody></table>"
      ],
      "text/plain": [
       "<pandas.io.formats.style.Styler at 0x7fb364ae0580>"
      ]
     },
     "metadata": {},
     "output_type": "display_data"
    },
    {
     "name": "stdout",
     "output_type": "stream",
     "text": [
      "When optimizing the threshold on each song\n"
     ]
    },
    {
     "data": {
      "text/html": [
       "<style  type=\"text/css\" >\n",
       "#T_f294a_row0_col2,#T_f294a_row0_col3{\n",
       "            width:  10em;\n",
       "             height:  80%;\n",
       "            background:  linear-gradient(90deg,#5fba7d 100.0%, transparent 100.0%);\n",
       "        }#T_f294a_row1_col2,#T_f294a_row1_col3{\n",
       "            width:  10em;\n",
       "             height:  80%;\n",
       "        }</style><table id=\"T_f294a_\" ><thead>    <tr>        <th class=\"blank level0\" ></th>        <th class=\"col_heading level0 col0\" >Precision</th>        <th class=\"col_heading level0 col1\" >Recall</th>        <th class=\"col_heading level0 col2\" >F measure</th>        <th class=\"col_heading level0 col3\" >Accuracy</th>        <th class=\"col_heading level0 col4\" >True Positives</th>        <th class=\"col_heading level0 col5\" >False Positives</th>        <th class=\"col_heading level0 col6\" >False Negatives</th>    </tr></thead><tbody>\n",
       "                <tr>\n",
       "                        <th id=\"T_f294a_level0_row0\" class=\"row_heading level0 row0\" >H: attack</th>\n",
       "                        <td id=\"T_f294a_row0_col0\" class=\"data row0 col0\" >0.853900</td>\n",
       "                        <td id=\"T_f294a_row0_col1\" class=\"data row0 col1\" >0.755700</td>\n",
       "                        <td id=\"T_f294a_row0_col2\" class=\"data row0 col2\" >0.800000</td>\n",
       "                        <td id=\"T_f294a_row0_col3\" class=\"data row0 col3\" >0.675400</td>\n",
       "                        <td id=\"T_f294a_row0_col4\" class=\"data row0 col4\" >179.933300</td>\n",
       "                        <td id=\"T_f294a_row0_col5\" class=\"data row0 col5\" >33.000000</td>\n",
       "                        <td id=\"T_f294a_row0_col6\" class=\"data row0 col6\" >65.033300</td>\n",
       "            </tr>\n",
       "            <tr>\n",
       "                        <th id=\"T_f294a_level0_row1\" class=\"row_heading level0 row1\" >H: normal</th>\n",
       "                        <td id=\"T_f294a_row1_col0\" class=\"data row1 col0\" >0.822200</td>\n",
       "                        <td id=\"T_f294a_row1_col1\" class=\"data row1 col1\" >0.673100</td>\n",
       "                        <td id=\"T_f294a_row1_col2\" class=\"data row1 col2\" >0.738600</td>\n",
       "                        <td id=\"T_f294a_row1_col3\" class=\"data row1 col3\" >0.593800</td>\n",
       "                        <td id=\"T_f294a_row1_col4\" class=\"data row1 col4\" >163.166700</td>\n",
       "                        <td id=\"T_f294a_row1_col5\" class=\"data row1 col5\" >37.666700</td>\n",
       "                        <td id=\"T_f294a_row1_col6\" class=\"data row1 col6\" >81.800000</td>\n",
       "            </tr>\n",
       "    </tbody></table>"
      ],
      "text/plain": [
       "<pandas.io.formats.style.Styler at 0x7fb364ae0400>"
      ]
     },
     "metadata": {},
     "output_type": "display_data"
    }
   ],
   "source": [
    "for piano_type in [\"AkPnCGdD\",\"ENSTDkCl\",\"AkPnBcht\",\"AkPnBsdf\",\"AkPnStgb\",\"ENSTDkAm\",\"SptkBGAm\",\"StbgTGd2\"]:\n",
    "    compute_scores_database(piano_type, H_normalization = False, fusion_peak=True)"
   ]
  },
  {
   "cell_type": "code",
   "execution_count": null,
   "id": "current-maldives",
   "metadata": {},
   "outputs": [],
   "source": []
  }
 ],
 "metadata": {
  "kernelspec": {
   "display_name": "Python 3",
   "language": "python",
   "name": "python3"
  },
  "language_info": {
   "codemirror_mode": {
    "name": "ipython",
    "version": 3
   },
   "file_extension": ".py",
   "mimetype": "text/x-python",
   "name": "python",
   "nbconvert_exporter": "python",
   "pygments_lexer": "ipython3",
   "version": "3.9.4"
  }
 },
 "nbformat": 4,
 "nbformat_minor": 5
}
