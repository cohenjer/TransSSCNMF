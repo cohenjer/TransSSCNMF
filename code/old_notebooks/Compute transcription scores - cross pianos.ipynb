{
 "cells": [
  {
   "cell_type": "code",
   "execution_count": 1,
   "metadata": {
    "ExecuteTime": {
     "end_time": "2021-03-31T18:59:21.009016Z",
     "start_time": "2021-03-31T18:59:19.007276Z"
    }
   },
   "outputs": [],
   "source": [
    "import numpy as np\n",
    "import mir_eval.transcription\n",
    "import os\n",
    "from IPython.display import display, Markdown\n",
    "\n",
    "import transcribe_factorization as tf\n",
    "import evaluate_transcription as et\n",
    "import STFT\n",
    "import pandas as pd"
   ]
  },
  {
   "cell_type": "code",
   "execution_count": 2,
   "metadata": {
    "ExecuteTime": {
     "end_time": "2021-03-31T18:59:21.058119Z",
     "start_time": "2021-03-31T18:59:21.016101Z"
    }
   },
   "outputs": [],
   "source": [
    "def printmd(string):\n",
    "    display(Markdown(string))\n",
    "\n",
    "def compute_scores_database(piano_type_W, piano_type_H, H_normalization = False, adaptative_threshold = True):\n",
    "    path_computed_H = \"../data_persisted/activations\"\n",
    "    path_songs = \"C:/Users/amarmore/Desktop/Audio samples/MAPS/{}/MUS\".format(piano_type_H)\n",
    "    printmd(\"## Piano for W: {}, and for H: {}\".format(piano_type_W, piano_type_H))\n",
    "\n",
    "    time_limit = 30\n",
    "    beta = 1\n",
    "    init = \"L1\"\n",
    "    model_AD = True\n",
    "    note_intensity = \"M\"\n",
    "    itmax_H = 100\n",
    "    tol = 1e-8\n",
    "    codebook = range(21, 109)\n",
    "    onset_tolerance = 50/1000\n",
    "    \n",
    "    #a = np.arange(1e-3, 1e-2, 1e-3)\n",
    "    #b = np.arange(1e-4, 1e-3, 1e-4)\n",
    "    #c = np.arange(1e-5, 1e-4, 1e-5)\n",
    "    #d = np.arange(1e-6, 1e-5, 1e-6)\n",
    "    f = np.arange(1e-2, 6e-1, 2e-2)\n",
    "    #g = np.arange(0.3, 0.5, 0.1)\n",
    "    #h = np.arange(1, 1.5, 0.1)\n",
    "    #j = np.arange(1e-7, 1e-6, 1e-7)\n",
    "    #listthres = np.r_[h[::-1], g[::-1], f[::-1], a[::-1], b[::-1], c[::-1], d[::-1], j[::-1]]\n",
    "    listthres = np.r_[f[::-1]]\n",
    "\n",
    "    files = os.listdir(path_songs)\n",
    "    list_files_wav = []\n",
    "    for it_files in files:\n",
    "        if it_files.split(\".\")[-1] == \"wav\":\n",
    "            list_files_wav.append(it_files)\n",
    "\n",
    "    all_res = []\n",
    "    for a_song in list_files_wav:\n",
    "        song_name = a_song.replace(\".wav\", \"\")\n",
    "        #print(\"processing piano song: {}\".format(song_name))\n",
    "        path_this_song = \"{}/{}\".format(path_songs, a_song)\n",
    "        stft = STFT.STFT(path_this_song, time = time_limit, model_AD=model_AD, channel = 0)\n",
    "\n",
    "        X = stft.get_magnitude_spectrogram()\n",
    "\n",
    "        annot_name = a_song.replace(\"wav\",\"txt\")\n",
    "        annot_this_song = \"{}/{}\".format(path_songs, annot_name)\n",
    "        note_annotations = et.load_ref_in_array(annot_this_song, time_limit=time_limit)\n",
    "        ref = np.array(note_annotations, float)\n",
    "        ref_pitches = np.array(ref[:,2], int)\n",
    "        try:\n",
    "            #res_each_song = []\n",
    "            res_a_param = []\n",
    "            for T in [5, 10, 20]:\n",
    "                H_persisted_name = \"activations_song_{}_W_learned_{}_beta_{}_T_{}_init_{}_stftAD_{}_itmax_{}_intensity_W_{}_time_limit_{}_tol_{}\".format(song_name, piano_type_W, beta, T, init, model_AD, itmax_H, note_intensity, time_limit, tol)\n",
    "                H = np.load(\"{}/{}.npy\".format(path_computed_H, H_persisted_name), allow_pickle = True)\n",
    "                res_every_thresh = []\n",
    "                for threshold in listthres:\n",
    "                    if adaptative_threshold:\n",
    "                        prediction, _ = tf.transcribe_activations_dynamic(codebook, H, stft, threshold, H_normalization = H_normalization)\n",
    "                    else:\n",
    "                        prediction, _ = tf.transcribe_activations(codebook, H, stft, threshold, H_normalization = H_normalization)\n",
    "                    est = np.array(prediction, float)\n",
    "                    if est.size > 0:\n",
    "                        est_pitches = np.array(est[:,2], int)\n",
    "                        (prec, rec, f_mes, _) = mir_eval.transcription.precision_recall_f1_overlap(ref[:,0:2], ref_pitches, est[:,0:2], est_pitches, offset_ratio = None, onset_tolerance = onset_tolerance)\n",
    "                        matching = mir_eval.transcription.match_notes(ref[:,0:2], ref_pitches, est[:,0:2],est_pitches, onset_tolerance=onset_tolerance,offset_ratio=None)\n",
    "                        TP = len(matching)\n",
    "                        try:\n",
    "                            FP = int(TP * (1 - prec) / prec)\n",
    "                        except ZeroDivisionError:\n",
    "                            FP = 0\n",
    "                        try:\n",
    "                            FN = int(TP * (1 - rec) / rec)\n",
    "                        except ZeroDivisionError:\n",
    "                            FN = 0\n",
    "                        acc = et.accuracy(TP,FP,FN)\n",
    "                    else:\n",
    "                        prec, rec, f_mes, acc, TP, FP, FN = (0,0,0,0,0,0,0)\n",
    "                    res_every_thresh.append([prec, rec, f_mes, acc, TP, FP, FN])\n",
    "                res_a_param.append(res_every_thresh)\n",
    "            #res_each_song.append(res_a_param)\n",
    "\n",
    "            all_res.append(res_a_param)\n",
    "\n",
    "        except FileNotFoundError:\n",
    "            print(\"\\033[91m This song failed: {} \\033[00m\".format(a_song)) \n",
    "            pass\n",
    "    np_all_res = np.array(all_res)\n",
    "    the_t = []\n",
    "    for t in [5, 10, 20]:\n",
    "        the_t.append(\"T: {}\".format(t))\n",
    "    index_pandas = the_t\n",
    "    col = ['Best threshold','Precision', 'Recall', 'F measure','Accuracy','True Positives','False Positives','False Negatives']\n",
    "    lines = []\n",
    "    lines_opt_thresh = []\n",
    "    for cond in range(len(index_pandas)):\n",
    "        all_thresh = []\n",
    "        for each_thresh in range(len(listthres)):\n",
    "            all_thresh.append(np.mean(np_all_res[:,cond,each_thresh,2]))\n",
    "        best_thresh_idx = np.argmax(all_thresh)\n",
    "        this_line = [listthres[best_thresh_idx]]\n",
    "        for i in range(len(col) - 1):# - 1 because threshold\n",
    "            this_line.append(round(np.mean(np_all_res[:,cond,best_thresh_idx,i]), 4))\n",
    "        lines.append(this_line)\n",
    "        \n",
    "        best_val = []\n",
    "        for each_song in range(len(list_files_wav)):\n",
    "            best_thresh_idx = np.argmax(np_all_res[each_song,cond,:,2])\n",
    "            best_val.append([round(np_all_res[each_song,cond,best_thresh_idx,i], 4) for i in range(len(col) - 1)])\n",
    "        lines_opt_thresh.append([round(np.mean(np.array(best_val)[:,i]),4) for i in range(len(col) - 1)])\n",
    "    \n",
    "    printmd(\"### When averaging each threshold on all MAPS\")\n",
    "    df = pd.DataFrame(np.array(lines), columns = col, index = index_pandas)\n",
    "    display(df.style.bar(subset=[\"F measure\", \"Accuracy\"], color='#5fba7d'))\n",
    "\n",
    "    printmd(\"### When optimizing the threshold on each song\")\n",
    "    best_df = pd.DataFrame(np.array(lines_opt_thresh), columns = col[1:], index = index_pandas)\n",
    "    display(best_df.style.bar(subset=[\"F measure\", \"Accuracy\"], color='#5fba7d'))"
   ]
  },
  {
   "cell_type": "markdown",
   "metadata": {},
   "source": [
    "# Sans normalisation sur H"
   ]
  },
  {
   "cell_type": "code",
   "execution_count": 3,
   "metadata": {
    "ExecuteTime": {
     "end_time": "2021-03-31T21:20:54.560380Z",
     "start_time": "2021-03-31T18:59:21.061109Z"
    },
    "scrolled": false
   },
   "outputs": [
    {
     "data": {
      "text/markdown": [
       "## Piano for W: AkPnBcht, and for H: AkPnCGdD"
      ],
      "text/plain": [
       "<IPython.core.display.Markdown object>"
      ]
     },
     "metadata": {},
     "output_type": "display_data"
    },
    {
     "data": {
      "text/markdown": [
       "### When averaging each threshold on all MAPS"
      ],
      "text/plain": [
       "<IPython.core.display.Markdown object>"
      ]
     },
     "metadata": {},
     "output_type": "display_data"
    },
    {
     "data": {
      "text/html": [
       "<style  type=\"text/css\" >\n",
       "    #T_abe2c3f1_9254_11eb_b454_8c04ba3e1d36row0_col3 {\n",
       "            width:  10em;\n",
       "             height:  80%;\n",
       "        }    #T_abe2c3f1_9254_11eb_b454_8c04ba3e1d36row0_col4 {\n",
       "            width:  10em;\n",
       "             height:  80%;\n",
       "        }    #T_abe2c3f1_9254_11eb_b454_8c04ba3e1d36row1_col3 {\n",
       "            width:  10em;\n",
       "             height:  80%;\n",
       "            background:  linear-gradient(90deg,#5fba7d 100.0%, transparent 100.0%);\n",
       "        }    #T_abe2c3f1_9254_11eb_b454_8c04ba3e1d36row1_col4 {\n",
       "            width:  10em;\n",
       "             height:  80%;\n",
       "            background:  linear-gradient(90deg,#5fba7d 100.0%, transparent 100.0%);\n",
       "        }    #T_abe2c3f1_9254_11eb_b454_8c04ba3e1d36row2_col3 {\n",
       "            width:  10em;\n",
       "             height:  80%;\n",
       "            background:  linear-gradient(90deg,#5fba7d 80.7%, transparent 80.7%);\n",
       "        }    #T_abe2c3f1_9254_11eb_b454_8c04ba3e1d36row2_col4 {\n",
       "            width:  10em;\n",
       "             height:  80%;\n",
       "            background:  linear-gradient(90deg,#5fba7d 75.0%, transparent 75.0%);\n",
       "        }</style><table id=\"T_abe2c3f1_9254_11eb_b454_8c04ba3e1d36\" ><thead>    <tr>        <th class=\"blank level0\" ></th>        <th class=\"col_heading level0 col0\" >Best threshold</th>        <th class=\"col_heading level0 col1\" >Precision</th>        <th class=\"col_heading level0 col2\" >Recall</th>        <th class=\"col_heading level0 col3\" >F measure</th>        <th class=\"col_heading level0 col4\" >Accuracy</th>        <th class=\"col_heading level0 col5\" >True Positives</th>        <th class=\"col_heading level0 col6\" >False Positives</th>        <th class=\"col_heading level0 col7\" >False Negatives</th>    </tr></thead><tbody>\n",
       "                <tr>\n",
       "                        <th id=\"T_abe2c3f1_9254_11eb_b454_8c04ba3e1d36level0_row0\" class=\"row_heading level0 row0\" >T: 5</th>\n",
       "                        <td id=\"T_abe2c3f1_9254_11eb_b454_8c04ba3e1d36row0_col0\" class=\"data row0 col0\" >0.050000</td>\n",
       "                        <td id=\"T_abe2c3f1_9254_11eb_b454_8c04ba3e1d36row0_col1\" class=\"data row0 col1\" >0.702700</td>\n",
       "                        <td id=\"T_abe2c3f1_9254_11eb_b454_8c04ba3e1d36row0_col2\" class=\"data row0 col2\" >0.682700</td>\n",
       "                        <td id=\"T_abe2c3f1_9254_11eb_b454_8c04ba3e1d36row0_col3\" class=\"data row0 col3\" >0.661900</td>\n",
       "                        <td id=\"T_abe2c3f1_9254_11eb_b454_8c04ba3e1d36row0_col4\" class=\"data row0 col4\" >0.507900</td>\n",
       "                        <td id=\"T_abe2c3f1_9254_11eb_b454_8c04ba3e1d36row0_col5\" class=\"data row0 col5\" >179.100000</td>\n",
       "                        <td id=\"T_abe2c3f1_9254_11eb_b454_8c04ba3e1d36row0_col6\" class=\"data row0 col6\" >108.033300</td>\n",
       "                        <td id=\"T_abe2c3f1_9254_11eb_b454_8c04ba3e1d36row0_col7\" class=\"data row0 col7\" >72.300000</td>\n",
       "            </tr>\n",
       "            <tr>\n",
       "                        <th id=\"T_abe2c3f1_9254_11eb_b454_8c04ba3e1d36level0_row1\" class=\"row_heading level0 row1\" >T: 10</th>\n",
       "                        <td id=\"T_abe2c3f1_9254_11eb_b454_8c04ba3e1d36row1_col0\" class=\"data row1 col0\" >0.070000</td>\n",
       "                        <td id=\"T_abe2c3f1_9254_11eb_b454_8c04ba3e1d36row1_col1\" class=\"data row1 col1\" >0.732000</td>\n",
       "                        <td id=\"T_abe2c3f1_9254_11eb_b454_8c04ba3e1d36row1_col2\" class=\"data row1 col2\" >0.768900</td>\n",
       "                        <td id=\"T_abe2c3f1_9254_11eb_b454_8c04ba3e1d36row1_col3\" class=\"data row1 col3\" >0.730900</td>\n",
       "                        <td id=\"T_abe2c3f1_9254_11eb_b454_8c04ba3e1d36row1_col4\" class=\"data row1 col4\" >0.586200</td>\n",
       "                        <td id=\"T_abe2c3f1_9254_11eb_b454_8c04ba3e1d36row1_col5\" class=\"data row1 col5\" >195.400000</td>\n",
       "                        <td id=\"T_abe2c3f1_9254_11eb_b454_8c04ba3e1d36row1_col6\" class=\"data row1 col6\" >95.566700</td>\n",
       "                        <td id=\"T_abe2c3f1_9254_11eb_b454_8c04ba3e1d36row1_col7\" class=\"data row1 col7\" >55.800000</td>\n",
       "            </tr>\n",
       "            <tr>\n",
       "                        <th id=\"T_abe2c3f1_9254_11eb_b454_8c04ba3e1d36level0_row2\" class=\"row_heading level0 row2\" >T: 20</th>\n",
       "                        <td id=\"T_abe2c3f1_9254_11eb_b454_8c04ba3e1d36row2_col0\" class=\"data row2 col0\" >0.130000</td>\n",
       "                        <td id=\"T_abe2c3f1_9254_11eb_b454_8c04ba3e1d36row2_col1\" class=\"data row2 col1\" >0.749200</td>\n",
       "                        <td id=\"T_abe2c3f1_9254_11eb_b454_8c04ba3e1d36row2_col2\" class=\"data row2 col2\" >0.712000</td>\n",
       "                        <td id=\"T_abe2c3f1_9254_11eb_b454_8c04ba3e1d36row2_col3\" class=\"data row2 col3\" >0.717600</td>\n",
       "                        <td id=\"T_abe2c3f1_9254_11eb_b454_8c04ba3e1d36row2_col4\" class=\"data row2 col4\" >0.566600</td>\n",
       "                        <td id=\"T_abe2c3f1_9254_11eb_b454_8c04ba3e1d36row2_col5\" class=\"data row2 col5\" >176.866700</td>\n",
       "                        <td id=\"T_abe2c3f1_9254_11eb_b454_8c04ba3e1d36row2_col6\" class=\"data row2 col6\" >66.300000</td>\n",
       "                        <td id=\"T_abe2c3f1_9254_11eb_b454_8c04ba3e1d36row2_col7\" class=\"data row2 col7\" >74.466700</td>\n",
       "            </tr>\n",
       "    </tbody></table>"
      ],
      "text/plain": [
       "<pandas.io.formats.style.Styler at 0x24ce91aee80>"
      ]
     },
     "metadata": {},
     "output_type": "display_data"
    },
    {
     "data": {
      "text/markdown": [
       "### When optimizing the threshold on each song"
      ],
      "text/plain": [
       "<IPython.core.display.Markdown object>"
      ]
     },
     "metadata": {},
     "output_type": "display_data"
    },
    {
     "data": {
      "text/html": [
       "<style  type=\"text/css\" >\n",
       "    #T_abe4dcf3_9254_11eb_b593_8c04ba3e1d36row0_col2 {\n",
       "            width:  10em;\n",
       "             height:  80%;\n",
       "        }    #T_abe4dcf3_9254_11eb_b593_8c04ba3e1d36row0_col3 {\n",
       "            width:  10em;\n",
       "             height:  80%;\n",
       "        }    #T_abe4dcf3_9254_11eb_b593_8c04ba3e1d36row1_col2 {\n",
       "            width:  10em;\n",
       "             height:  80%;\n",
       "            background:  linear-gradient(90deg,#5fba7d 100.0%, transparent 100.0%);\n",
       "        }    #T_abe4dcf3_9254_11eb_b593_8c04ba3e1d36row1_col3 {\n",
       "            width:  10em;\n",
       "             height:  80%;\n",
       "            background:  linear-gradient(90deg,#5fba7d 100.0%, transparent 100.0%);\n",
       "        }    #T_abe4dcf3_9254_11eb_b593_8c04ba3e1d36row2_col2 {\n",
       "            width:  10em;\n",
       "             height:  80%;\n",
       "            background:  linear-gradient(90deg,#5fba7d 70.5%, transparent 70.5%);\n",
       "        }    #T_abe4dcf3_9254_11eb_b593_8c04ba3e1d36row2_col3 {\n",
       "            width:  10em;\n",
       "             height:  80%;\n",
       "            background:  linear-gradient(90deg,#5fba7d 65.1%, transparent 65.1%);\n",
       "        }</style><table id=\"T_abe4dcf3_9254_11eb_b593_8c04ba3e1d36\" ><thead>    <tr>        <th class=\"blank level0\" ></th>        <th class=\"col_heading level0 col0\" >Precision</th>        <th class=\"col_heading level0 col1\" >Recall</th>        <th class=\"col_heading level0 col2\" >F measure</th>        <th class=\"col_heading level0 col3\" >Accuracy</th>        <th class=\"col_heading level0 col4\" >True Positives</th>        <th class=\"col_heading level0 col5\" >False Positives</th>        <th class=\"col_heading level0 col6\" >False Negatives</th>    </tr></thead><tbody>\n",
       "                <tr>\n",
       "                        <th id=\"T_abe4dcf3_9254_11eb_b593_8c04ba3e1d36level0_row0\" class=\"row_heading level0 row0\" >T: 5</th>\n",
       "                        <td id=\"T_abe4dcf3_9254_11eb_b593_8c04ba3e1d36row0_col0\" class=\"data row0 col0\" >0.734000</td>\n",
       "                        <td id=\"T_abe4dcf3_9254_11eb_b593_8c04ba3e1d36row0_col1\" class=\"data row0 col1\" >0.687900</td>\n",
       "                        <td id=\"T_abe4dcf3_9254_11eb_b593_8c04ba3e1d36row0_col2\" class=\"data row0 col2\" >0.705600</td>\n",
       "                        <td id=\"T_abe4dcf3_9254_11eb_b593_8c04ba3e1d36row0_col3\" class=\"data row0 col3\" >0.555000</td>\n",
       "                        <td id=\"T_abe4dcf3_9254_11eb_b593_8c04ba3e1d36row0_col4\" class=\"data row0 col4\" >174.666700</td>\n",
       "                        <td id=\"T_abe4dcf3_9254_11eb_b593_8c04ba3e1d36row0_col5\" class=\"data row0 col5\" >62.033300</td>\n",
       "                        <td id=\"T_abe4dcf3_9254_11eb_b593_8c04ba3e1d36row0_col6\" class=\"data row0 col6\" >76.833300</td>\n",
       "            </tr>\n",
       "            <tr>\n",
       "                        <th id=\"T_abe4dcf3_9254_11eb_b593_8c04ba3e1d36level0_row1\" class=\"row_heading level0 row1\" >T: 10</th>\n",
       "                        <td id=\"T_abe4dcf3_9254_11eb_b593_8c04ba3e1d36row1_col0\" class=\"data row1 col0\" >0.781400</td>\n",
       "                        <td id=\"T_abe4dcf3_9254_11eb_b593_8c04ba3e1d36row1_col1\" class=\"data row1 col1\" >0.758800</td>\n",
       "                        <td id=\"T_abe4dcf3_9254_11eb_b593_8c04ba3e1d36row1_col2\" class=\"data row1 col2\" >0.768000</td>\n",
       "                        <td id=\"T_abe4dcf3_9254_11eb_b593_8c04ba3e1d36row1_col3\" class=\"data row1 col3\" >0.631600</td>\n",
       "                        <td id=\"T_abe4dcf3_9254_11eb_b593_8c04ba3e1d36row1_col4\" class=\"data row1 col4\" >189.766700</td>\n",
       "                        <td id=\"T_abe4dcf3_9254_11eb_b593_8c04ba3e1d36row1_col5\" class=\"data row1 col5\" >51.533300</td>\n",
       "                        <td id=\"T_abe4dcf3_9254_11eb_b593_8c04ba3e1d36row1_col6\" class=\"data row1 col6\" >61.433300</td>\n",
       "            </tr>\n",
       "            <tr>\n",
       "                        <th id=\"T_abe4dcf3_9254_11eb_b593_8c04ba3e1d36level0_row2\" class=\"row_heading level0 row2\" >T: 20</th>\n",
       "                        <td id=\"T_abe4dcf3_9254_11eb_b593_8c04ba3e1d36row2_col0\" class=\"data row2 col0\" >0.766500</td>\n",
       "                        <td id=\"T_abe4dcf3_9254_11eb_b593_8c04ba3e1d36row2_col1\" class=\"data row2 col1\" >0.739300</td>\n",
       "                        <td id=\"T_abe4dcf3_9254_11eb_b593_8c04ba3e1d36row2_col2\" class=\"data row2 col2\" >0.749600</td>\n",
       "                        <td id=\"T_abe4dcf3_9254_11eb_b593_8c04ba3e1d36row2_col3\" class=\"data row2 col3\" >0.604900</td>\n",
       "                        <td id=\"T_abe4dcf3_9254_11eb_b593_8c04ba3e1d36row2_col4\" class=\"data row2 col4\" >182.266700</td>\n",
       "                        <td id=\"T_abe4dcf3_9254_11eb_b593_8c04ba3e1d36row2_col5\" class=\"data row2 col5\" >54.833300</td>\n",
       "                        <td id=\"T_abe4dcf3_9254_11eb_b593_8c04ba3e1d36row2_col6\" class=\"data row2 col6\" >69.233300</td>\n",
       "            </tr>\n",
       "    </tbody></table>"
      ],
      "text/plain": [
       "<pandas.io.formats.style.Styler at 0x24c80d86c40>"
      ]
     },
     "metadata": {},
     "output_type": "display_data"
    },
    {
     "data": {
      "text/markdown": [
       "## Piano for W: AkPnBcht, and for H: ENSTDkCl"
      ],
      "text/plain": [
       "<IPython.core.display.Markdown object>"
      ]
     },
     "metadata": {},
     "output_type": "display_data"
    },
    {
     "data": {
      "text/markdown": [
       "### When averaging each threshold on all MAPS"
      ],
      "text/plain": [
       "<IPython.core.display.Markdown object>"
      ]
     },
     "metadata": {},
     "output_type": "display_data"
    },
    {
     "data": {
      "text/html": [
       "<style  type=\"text/css\" >\n",
       "    #T_46a9d26e_9256_11eb_bf0c_8c04ba3e1d36row0_col3 {\n",
       "            width:  10em;\n",
       "             height:  80%;\n",
       "        }    #T_46a9d26e_9256_11eb_bf0c_8c04ba3e1d36row0_col4 {\n",
       "            width:  10em;\n",
       "             height:  80%;\n",
       "        }    #T_46a9d26e_9256_11eb_bf0c_8c04ba3e1d36row1_col3 {\n",
       "            width:  10em;\n",
       "             height:  80%;\n",
       "            background:  linear-gradient(90deg,#5fba7d 100.0%, transparent 100.0%);\n",
       "        }    #T_46a9d26e_9256_11eb_bf0c_8c04ba3e1d36row1_col4 {\n",
       "            width:  10em;\n",
       "             height:  80%;\n",
       "            background:  linear-gradient(90deg,#5fba7d 100.0%, transparent 100.0%);\n",
       "        }    #T_46a9d26e_9256_11eb_bf0c_8c04ba3e1d36row2_col3 {\n",
       "            width:  10em;\n",
       "             height:  80%;\n",
       "            background:  linear-gradient(90deg,#5fba7d 85.4%, transparent 85.4%);\n",
       "        }    #T_46a9d26e_9256_11eb_bf0c_8c04ba3e1d36row2_col4 {\n",
       "            width:  10em;\n",
       "             height:  80%;\n",
       "            background:  linear-gradient(90deg,#5fba7d 81.8%, transparent 81.8%);\n",
       "        }</style><table id=\"T_46a9d26e_9256_11eb_bf0c_8c04ba3e1d36\" ><thead>    <tr>        <th class=\"blank level0\" ></th>        <th class=\"col_heading level0 col0\" >Best threshold</th>        <th class=\"col_heading level0 col1\" >Precision</th>        <th class=\"col_heading level0 col2\" >Recall</th>        <th class=\"col_heading level0 col3\" >F measure</th>        <th class=\"col_heading level0 col4\" >Accuracy</th>        <th class=\"col_heading level0 col5\" >True Positives</th>        <th class=\"col_heading level0 col6\" >False Positives</th>        <th class=\"col_heading level0 col7\" >False Negatives</th>    </tr></thead><tbody>\n",
       "                <tr>\n",
       "                        <th id=\"T_46a9d26e_9256_11eb_bf0c_8c04ba3e1d36level0_row0\" class=\"row_heading level0 row0\" >T: 5</th>\n",
       "                        <td id=\"T_46a9d26e_9256_11eb_bf0c_8c04ba3e1d36row0_col0\" class=\"data row0 col0\" >0.130000</td>\n",
       "                        <td id=\"T_46a9d26e_9256_11eb_bf0c_8c04ba3e1d36row0_col1\" class=\"data row0 col1\" >0.674200</td>\n",
       "                        <td id=\"T_46a9d26e_9256_11eb_bf0c_8c04ba3e1d36row0_col2\" class=\"data row0 col2\" >0.577000</td>\n",
       "                        <td id=\"T_46a9d26e_9256_11eb_bf0c_8c04ba3e1d36row0_col3\" class=\"data row0 col3\" >0.593200</td>\n",
       "                        <td id=\"T_46a9d26e_9256_11eb_bf0c_8c04ba3e1d36row0_col4\" class=\"data row0 col4\" >0.432300</td>\n",
       "                        <td id=\"T_46a9d26e_9256_11eb_bf0c_8c04ba3e1d36row0_col5\" class=\"data row0 col5\" >144.766700</td>\n",
       "                        <td id=\"T_46a9d26e_9256_11eb_bf0c_8c04ba3e1d36row0_col6\" class=\"data row0 col6\" >92.566700</td>\n",
       "                        <td id=\"T_46a9d26e_9256_11eb_bf0c_8c04ba3e1d36row0_col7\" class=\"data row0 col7\" >99.966700</td>\n",
       "            </tr>\n",
       "            <tr>\n",
       "                        <th id=\"T_46a9d26e_9256_11eb_bf0c_8c04ba3e1d36level0_row1\" class=\"row_heading level0 row1\" >T: 10</th>\n",
       "                        <td id=\"T_46a9d26e_9256_11eb_bf0c_8c04ba3e1d36row1_col0\" class=\"data row1 col0\" >0.190000</td>\n",
       "                        <td id=\"T_46a9d26e_9256_11eb_bf0c_8c04ba3e1d36row1_col1\" class=\"data row1 col1\" >0.683500</td>\n",
       "                        <td id=\"T_46a9d26e_9256_11eb_bf0c_8c04ba3e1d36row1_col2\" class=\"data row1 col2\" >0.624700</td>\n",
       "                        <td id=\"T_46a9d26e_9256_11eb_bf0c_8c04ba3e1d36row1_col3\" class=\"data row1 col3\" >0.630200</td>\n",
       "                        <td id=\"T_46a9d26e_9256_11eb_bf0c_8c04ba3e1d36row1_col4\" class=\"data row1 col4\" >0.469600</td>\n",
       "                        <td id=\"T_46a9d26e_9256_11eb_bf0c_8c04ba3e1d36row1_col5\" class=\"data row1 col5\" >154.700000</td>\n",
       "                        <td id=\"T_46a9d26e_9256_11eb_bf0c_8c04ba3e1d36row1_col6\" class=\"data row1 col6\" >90.433300</td>\n",
       "                        <td id=\"T_46a9d26e_9256_11eb_bf0c_8c04ba3e1d36row1_col7\" class=\"data row1 col7\" >90.200000</td>\n",
       "            </tr>\n",
       "            <tr>\n",
       "                        <th id=\"T_46a9d26e_9256_11eb_bf0c_8c04ba3e1d36level0_row2\" class=\"row_heading level0 row2\" >T: 20</th>\n",
       "                        <td id=\"T_46a9d26e_9256_11eb_bf0c_8c04ba3e1d36row2_col0\" class=\"data row2 col0\" >0.290000</td>\n",
       "                        <td id=\"T_46a9d26e_9256_11eb_bf0c_8c04ba3e1d36row2_col1\" class=\"data row2 col1\" >0.652700</td>\n",
       "                        <td id=\"T_46a9d26e_9256_11eb_bf0c_8c04ba3e1d36row2_col2\" class=\"data row2 col2\" >0.630300</td>\n",
       "                        <td id=\"T_46a9d26e_9256_11eb_bf0c_8c04ba3e1d36row2_col3\" class=\"data row2 col3\" >0.624800</td>\n",
       "                        <td id=\"T_46a9d26e_9256_11eb_bf0c_8c04ba3e1d36row2_col4\" class=\"data row2 col4\" >0.462800</td>\n",
       "                        <td id=\"T_46a9d26e_9256_11eb_bf0c_8c04ba3e1d36row2_col5\" class=\"data row2 col5\" >151.266700</td>\n",
       "                        <td id=\"T_46a9d26e_9256_11eb_bf0c_8c04ba3e1d36row2_col6\" class=\"data row2 col6\" >92.200000</td>\n",
       "                        <td id=\"T_46a9d26e_9256_11eb_bf0c_8c04ba3e1d36row2_col7\" class=\"data row2 col7\" >93.733300</td>\n",
       "            </tr>\n",
       "    </tbody></table>"
      ],
      "text/plain": [
       "<pandas.io.formats.style.Styler at 0x24c80ec39d0>"
      ]
     },
     "metadata": {},
     "output_type": "display_data"
    },
    {
     "data": {
      "text/markdown": [
       "### When optimizing the threshold on each song"
      ],
      "text/plain": [
       "<IPython.core.display.Markdown object>"
      ]
     },
     "metadata": {},
     "output_type": "display_data"
    },
    {
     "data": {
      "text/html": [
       "<style  type=\"text/css\" >\n",
       "    #T_46abe984_9256_11eb_8ed4_8c04ba3e1d36row0_col2 {\n",
       "            width:  10em;\n",
       "             height:  80%;\n",
       "        }    #T_46abe984_9256_11eb_8ed4_8c04ba3e1d36row0_col3 {\n",
       "            width:  10em;\n",
       "             height:  80%;\n",
       "        }    #T_46abe984_9256_11eb_8ed4_8c04ba3e1d36row1_col2 {\n",
       "            width:  10em;\n",
       "             height:  80%;\n",
       "            background:  linear-gradient(90deg,#5fba7d 100.0%, transparent 100.0%);\n",
       "        }    #T_46abe984_9256_11eb_8ed4_8c04ba3e1d36row1_col3 {\n",
       "            width:  10em;\n",
       "             height:  80%;\n",
       "            background:  linear-gradient(90deg,#5fba7d 100.0%, transparent 100.0%);\n",
       "        }    #T_46abe984_9256_11eb_8ed4_8c04ba3e1d36row2_col2 {\n",
       "            width:  10em;\n",
       "             height:  80%;\n",
       "            background:  linear-gradient(90deg,#5fba7d 83.4%, transparent 83.4%);\n",
       "        }    #T_46abe984_9256_11eb_8ed4_8c04ba3e1d36row2_col3 {\n",
       "            width:  10em;\n",
       "             height:  80%;\n",
       "            background:  linear-gradient(90deg,#5fba7d 84.4%, transparent 84.4%);\n",
       "        }</style><table id=\"T_46abe984_9256_11eb_8ed4_8c04ba3e1d36\" ><thead>    <tr>        <th class=\"blank level0\" ></th>        <th class=\"col_heading level0 col0\" >Precision</th>        <th class=\"col_heading level0 col1\" >Recall</th>        <th class=\"col_heading level0 col2\" >F measure</th>        <th class=\"col_heading level0 col3\" >Accuracy</th>        <th class=\"col_heading level0 col4\" >True Positives</th>        <th class=\"col_heading level0 col5\" >False Positives</th>        <th class=\"col_heading level0 col6\" >False Negatives</th>    </tr></thead><tbody>\n",
       "                <tr>\n",
       "                        <th id=\"T_46abe984_9256_11eb_8ed4_8c04ba3e1d36level0_row0\" class=\"row_heading level0 row0\" >T: 5</th>\n",
       "                        <td id=\"T_46abe984_9256_11eb_8ed4_8c04ba3e1d36row0_col0\" class=\"data row0 col0\" >0.680700</td>\n",
       "                        <td id=\"T_46abe984_9256_11eb_8ed4_8c04ba3e1d36row0_col1\" class=\"data row0 col1\" >0.601300</td>\n",
       "                        <td id=\"T_46abe984_9256_11eb_8ed4_8c04ba3e1d36row0_col2\" class=\"data row0 col2\" >0.633100</td>\n",
       "                        <td id=\"T_46abe984_9256_11eb_8ed4_8c04ba3e1d36row0_col3\" class=\"data row0 col3\" >0.470300</td>\n",
       "                        <td id=\"T_46abe984_9256_11eb_8ed4_8c04ba3e1d36row0_col4\" class=\"data row0 col4\" >149.566700</td>\n",
       "                        <td id=\"T_46abe984_9256_11eb_8ed4_8c04ba3e1d36row0_col5\" class=\"data row0 col5\" >70.266700</td>\n",
       "                        <td id=\"T_46abe984_9256_11eb_8ed4_8c04ba3e1d36row0_col6\" class=\"data row0 col6\" >95.266700</td>\n",
       "            </tr>\n",
       "            <tr>\n",
       "                        <th id=\"T_46abe984_9256_11eb_8ed4_8c04ba3e1d36level0_row1\" class=\"row_heading level0 row1\" >T: 10</th>\n",
       "                        <td id=\"T_46abe984_9256_11eb_8ed4_8c04ba3e1d36row1_col0\" class=\"data row1 col0\" >0.679800</td>\n",
       "                        <td id=\"T_46abe984_9256_11eb_8ed4_8c04ba3e1d36row1_col1\" class=\"data row1 col1\" >0.655700</td>\n",
       "                        <td id=\"T_46abe984_9256_11eb_8ed4_8c04ba3e1d36row1_col2\" class=\"data row1 col2\" >0.663800</td>\n",
       "                        <td id=\"T_46abe984_9256_11eb_8ed4_8c04ba3e1d36row1_col3\" class=\"data row1 col3\" >0.503600</td>\n",
       "                        <td id=\"T_46abe984_9256_11eb_8ed4_8c04ba3e1d36row1_col4\" class=\"data row1 col4\" >162.533300</td>\n",
       "                        <td id=\"T_46abe984_9256_11eb_8ed4_8c04ba3e1d36row1_col5\" class=\"data row1 col5\" >77.566700</td>\n",
       "                        <td id=\"T_46abe984_9256_11eb_8ed4_8c04ba3e1d36row1_col6\" class=\"data row1 col6\" >82.233300</td>\n",
       "            </tr>\n",
       "            <tr>\n",
       "                        <th id=\"T_46abe984_9256_11eb_8ed4_8c04ba3e1d36level0_row2\" class=\"row_heading level0 row2\" >T: 20</th>\n",
       "                        <td id=\"T_46abe984_9256_11eb_8ed4_8c04ba3e1d36row2_col0\" class=\"data row2 col0\" >0.670800</td>\n",
       "                        <td id=\"T_46abe984_9256_11eb_8ed4_8c04ba3e1d36row2_col1\" class=\"data row2 col1\" >0.652100</td>\n",
       "                        <td id=\"T_46abe984_9256_11eb_8ed4_8c04ba3e1d36row2_col2\" class=\"data row2 col2\" >0.658700</td>\n",
       "                        <td id=\"T_46abe984_9256_11eb_8ed4_8c04ba3e1d36row2_col3\" class=\"data row2 col3\" >0.498400</td>\n",
       "                        <td id=\"T_46abe984_9256_11eb_8ed4_8c04ba3e1d36row2_col4\" class=\"data row2 col4\" >159.266700</td>\n",
       "                        <td id=\"T_46abe984_9256_11eb_8ed4_8c04ba3e1d36row2_col5\" class=\"data row2 col5\" >82.100000</td>\n",
       "                        <td id=\"T_46abe984_9256_11eb_8ed4_8c04ba3e1d36row2_col6\" class=\"data row2 col6\" >85.700000</td>\n",
       "            </tr>\n",
       "    </tbody></table>"
      ],
      "text/plain": [
       "<pandas.io.formats.style.Styler at 0x24c80f95c40>"
      ]
     },
     "metadata": {},
     "output_type": "display_data"
    },
    {
     "data": {
      "text/markdown": [
       "## Piano for W: AkPnBsdf, and for H: AkPnCGdD"
      ],
      "text/plain": [
       "<IPython.core.display.Markdown object>"
      ]
     },
     "metadata": {},
     "output_type": "display_data"
    },
    {
     "data": {
      "text/markdown": [
       "### When averaging each threshold on all MAPS"
      ],
      "text/plain": [
       "<IPython.core.display.Markdown object>"
      ]
     },
     "metadata": {},
     "output_type": "display_data"
    },
    {
     "data": {
      "text/html": [
       "<style  type=\"text/css\" >\n",
       "    #T_bd31763a_9257_11eb_b9d4_8c04ba3e1d36row0_col3 {\n",
       "            width:  10em;\n",
       "             height:  80%;\n",
       "        }    #T_bd31763a_9257_11eb_b9d4_8c04ba3e1d36row0_col4 {\n",
       "            width:  10em;\n",
       "             height:  80%;\n",
       "        }    #T_bd31763a_9257_11eb_b9d4_8c04ba3e1d36row1_col3 {\n",
       "            width:  10em;\n",
       "             height:  80%;\n",
       "            background:  linear-gradient(90deg,#5fba7d 83.5%, transparent 83.5%);\n",
       "        }    #T_bd31763a_9257_11eb_b9d4_8c04ba3e1d36row1_col4 {\n",
       "            width:  10em;\n",
       "             height:  80%;\n",
       "            background:  linear-gradient(90deg,#5fba7d 85.2%, transparent 85.2%);\n",
       "        }    #T_bd31763a_9257_11eb_b9d4_8c04ba3e1d36row2_col3 {\n",
       "            width:  10em;\n",
       "             height:  80%;\n",
       "            background:  linear-gradient(90deg,#5fba7d 100.0%, transparent 100.0%);\n",
       "        }    #T_bd31763a_9257_11eb_b9d4_8c04ba3e1d36row2_col4 {\n",
       "            width:  10em;\n",
       "             height:  80%;\n",
       "            background:  linear-gradient(90deg,#5fba7d 100.0%, transparent 100.0%);\n",
       "        }</style><table id=\"T_bd31763a_9257_11eb_b9d4_8c04ba3e1d36\" ><thead>    <tr>        <th class=\"blank level0\" ></th>        <th class=\"col_heading level0 col0\" >Best threshold</th>        <th class=\"col_heading level0 col1\" >Precision</th>        <th class=\"col_heading level0 col2\" >Recall</th>        <th class=\"col_heading level0 col3\" >F measure</th>        <th class=\"col_heading level0 col4\" >Accuracy</th>        <th class=\"col_heading level0 col5\" >True Positives</th>        <th class=\"col_heading level0 col6\" >False Positives</th>        <th class=\"col_heading level0 col7\" >False Negatives</th>    </tr></thead><tbody>\n",
       "                <tr>\n",
       "                        <th id=\"T_bd31763a_9257_11eb_b9d4_8c04ba3e1d36level0_row0\" class=\"row_heading level0 row0\" >T: 5</th>\n",
       "                        <td id=\"T_bd31763a_9257_11eb_b9d4_8c04ba3e1d36row0_col0\" class=\"data row0 col0\" >0.050000</td>\n",
       "                        <td id=\"T_bd31763a_9257_11eb_b9d4_8c04ba3e1d36row0_col1\" class=\"data row0 col1\" >0.703200</td>\n",
       "                        <td id=\"T_bd31763a_9257_11eb_b9d4_8c04ba3e1d36row0_col2\" class=\"data row0 col2\" >0.697200</td>\n",
       "                        <td id=\"T_bd31763a_9257_11eb_b9d4_8c04ba3e1d36row0_col3\" class=\"data row0 col3\" >0.671500</td>\n",
       "                        <td id=\"T_bd31763a_9257_11eb_b9d4_8c04ba3e1d36row0_col4\" class=\"data row0 col4\" >0.514500</td>\n",
       "                        <td id=\"T_bd31763a_9257_11eb_b9d4_8c04ba3e1d36row0_col5\" class=\"data row0 col5\" >181.900000</td>\n",
       "                        <td id=\"T_bd31763a_9257_11eb_b9d4_8c04ba3e1d36row0_col6\" class=\"data row0 col6\" >108.800000</td>\n",
       "                        <td id=\"T_bd31763a_9257_11eb_b9d4_8c04ba3e1d36row0_col7\" class=\"data row0 col7\" >69.600000</td>\n",
       "            </tr>\n",
       "            <tr>\n",
       "                        <th id=\"T_bd31763a_9257_11eb_b9d4_8c04ba3e1d36level0_row1\" class=\"row_heading level0 row1\" >T: 10</th>\n",
       "                        <td id=\"T_bd31763a_9257_11eb_b9d4_8c04ba3e1d36row1_col0\" class=\"data row1 col0\" >0.070000</td>\n",
       "                        <td id=\"T_bd31763a_9257_11eb_b9d4_8c04ba3e1d36row1_col1\" class=\"data row1 col1\" >0.733400</td>\n",
       "                        <td id=\"T_bd31763a_9257_11eb_b9d4_8c04ba3e1d36row1_col2\" class=\"data row1 col2\" >0.768800</td>\n",
       "                        <td id=\"T_bd31763a_9257_11eb_b9d4_8c04ba3e1d36row1_col3\" class=\"data row1 col3\" >0.733300</td>\n",
       "                        <td id=\"T_bd31763a_9257_11eb_b9d4_8c04ba3e1d36row1_col4\" class=\"data row1 col4\" >0.587900</td>\n",
       "                        <td id=\"T_bd31763a_9257_11eb_b9d4_8c04ba3e1d36row1_col5\" class=\"data row1 col5\" >194.266700</td>\n",
       "                        <td id=\"T_bd31763a_9257_11eb_b9d4_8c04ba3e1d36row1_col6\" class=\"data row1 col6\" >95.600000</td>\n",
       "                        <td id=\"T_bd31763a_9257_11eb_b9d4_8c04ba3e1d36row1_col7\" class=\"data row1 col7\" >56.933300</td>\n",
       "            </tr>\n",
       "            <tr>\n",
       "                        <th id=\"T_bd31763a_9257_11eb_b9d4_8c04ba3e1d36level0_row2\" class=\"row_heading level0 row2\" >T: 20</th>\n",
       "                        <td id=\"T_bd31763a_9257_11eb_b9d4_8c04ba3e1d36row2_col0\" class=\"data row2 col0\" >0.130000</td>\n",
       "                        <td id=\"T_bd31763a_9257_11eb_b9d4_8c04ba3e1d36row2_col1\" class=\"data row2 col1\" >0.768400</td>\n",
       "                        <td id=\"T_bd31763a_9257_11eb_b9d4_8c04ba3e1d36row2_col2\" class=\"data row2 col2\" >0.743600</td>\n",
       "                        <td id=\"T_bd31763a_9257_11eb_b9d4_8c04ba3e1d36row2_col3\" class=\"data row2 col3\" >0.745500</td>\n",
       "                        <td id=\"T_bd31763a_9257_11eb_b9d4_8c04ba3e1d36row2_col4\" class=\"data row2 col4\" >0.600600</td>\n",
       "                        <td id=\"T_bd31763a_9257_11eb_b9d4_8c04ba3e1d36row2_col5\" class=\"data row2 col5\" >186.100000</td>\n",
       "                        <td id=\"T_bd31763a_9257_11eb_b9d4_8c04ba3e1d36row2_col6\" class=\"data row2 col6\" >63.966700</td>\n",
       "                        <td id=\"T_bd31763a_9257_11eb_b9d4_8c04ba3e1d36row2_col7\" class=\"data row2 col7\" >65.266700</td>\n",
       "            </tr>\n",
       "    </tbody></table>"
      ],
      "text/plain": [
       "<pandas.io.formats.style.Styler at 0x24c80dc1fd0>"
      ]
     },
     "metadata": {},
     "output_type": "display_data"
    },
    {
     "data": {
      "text/markdown": [
       "### When optimizing the threshold on each song"
      ],
      "text/plain": [
       "<IPython.core.display.Markdown object>"
      ]
     },
     "metadata": {},
     "output_type": "display_data"
    },
    {
     "data": {
      "text/html": [
       "<style  type=\"text/css\" >\n",
       "    #T_bd33792c_9257_11eb_8343_8c04ba3e1d36row0_col2 {\n",
       "            width:  10em;\n",
       "             height:  80%;\n",
       "        }    #T_bd33792c_9257_11eb_8343_8c04ba3e1d36row0_col3 {\n",
       "            width:  10em;\n",
       "             height:  80%;\n",
       "        }    #T_bd33792c_9257_11eb_8343_8c04ba3e1d36row1_col2 {\n",
       "            width:  10em;\n",
       "             height:  80%;\n",
       "            background:  linear-gradient(90deg,#5fba7d 91.2%, transparent 91.2%);\n",
       "        }    #T_bd33792c_9257_11eb_8343_8c04ba3e1d36row1_col3 {\n",
       "            width:  10em;\n",
       "             height:  80%;\n",
       "            background:  linear-gradient(90deg,#5fba7d 93.5%, transparent 93.5%);\n",
       "        }    #T_bd33792c_9257_11eb_8343_8c04ba3e1d36row2_col2 {\n",
       "            width:  10em;\n",
       "             height:  80%;\n",
       "            background:  linear-gradient(90deg,#5fba7d 100.0%, transparent 100.0%);\n",
       "        }    #T_bd33792c_9257_11eb_8343_8c04ba3e1d36row2_col3 {\n",
       "            width:  10em;\n",
       "             height:  80%;\n",
       "            background:  linear-gradient(90deg,#5fba7d 100.0%, transparent 100.0%);\n",
       "        }</style><table id=\"T_bd33792c_9257_11eb_8343_8c04ba3e1d36\" ><thead>    <tr>        <th class=\"blank level0\" ></th>        <th class=\"col_heading level0 col0\" >Precision</th>        <th class=\"col_heading level0 col1\" >Recall</th>        <th class=\"col_heading level0 col2\" >F measure</th>        <th class=\"col_heading level0 col3\" >Accuracy</th>        <th class=\"col_heading level0 col4\" >True Positives</th>        <th class=\"col_heading level0 col5\" >False Positives</th>        <th class=\"col_heading level0 col6\" >False Negatives</th>    </tr></thead><tbody>\n",
       "                <tr>\n",
       "                        <th id=\"T_bd33792c_9257_11eb_8343_8c04ba3e1d36level0_row0\" class=\"row_heading level0 row0\" >T: 5</th>\n",
       "                        <td id=\"T_bd33792c_9257_11eb_8343_8c04ba3e1d36row0_col0\" class=\"data row0 col0\" >0.732200</td>\n",
       "                        <td id=\"T_bd33792c_9257_11eb_8343_8c04ba3e1d36row0_col1\" class=\"data row0 col1\" >0.697100</td>\n",
       "                        <td id=\"T_bd33792c_9257_11eb_8343_8c04ba3e1d36row0_col2\" class=\"data row0 col2\" >0.709700</td>\n",
       "                        <td id=\"T_bd33792c_9257_11eb_8343_8c04ba3e1d36row0_col3\" class=\"data row0 col3\" >0.556900</td>\n",
       "                        <td id=\"T_bd33792c_9257_11eb_8343_8c04ba3e1d36row0_col4\" class=\"data row0 col4\" >177.166700</td>\n",
       "                        <td id=\"T_bd33792c_9257_11eb_8343_8c04ba3e1d36row0_col5\" class=\"data row0 col5\" >64.333300</td>\n",
       "                        <td id=\"T_bd33792c_9257_11eb_8343_8c04ba3e1d36row0_col6\" class=\"data row0 col6\" >74.300000</td>\n",
       "            </tr>\n",
       "            <tr>\n",
       "                        <th id=\"T_bd33792c_9257_11eb_8343_8c04ba3e1d36level0_row1\" class=\"row_heading level0 row1\" >T: 10</th>\n",
       "                        <td id=\"T_bd33792c_9257_11eb_8343_8c04ba3e1d36row1_col0\" class=\"data row1 col0\" >0.781200</td>\n",
       "                        <td id=\"T_bd33792c_9257_11eb_8343_8c04ba3e1d36row1_col1\" class=\"data row1 col1\" >0.756100</td>\n",
       "                        <td id=\"T_bd33792c_9257_11eb_8343_8c04ba3e1d36row1_col2\" class=\"data row1 col2\" >0.764400</td>\n",
       "                        <td id=\"T_bd33792c_9257_11eb_8343_8c04ba3e1d36row1_col3\" class=\"data row1 col3\" >0.626200</td>\n",
       "                        <td id=\"T_bd33792c_9257_11eb_8343_8c04ba3e1d36row1_col4\" class=\"data row1 col4\" >187.700000</td>\n",
       "                        <td id=\"T_bd33792c_9257_11eb_8343_8c04ba3e1d36row1_col5\" class=\"data row1 col5\" >54.000000</td>\n",
       "                        <td id=\"T_bd33792c_9257_11eb_8343_8c04ba3e1d36row1_col6\" class=\"data row1 col6\" >63.566700</td>\n",
       "            </tr>\n",
       "            <tr>\n",
       "                        <th id=\"T_bd33792c_9257_11eb_8343_8c04ba3e1d36level0_row2\" class=\"row_heading level0 row2\" >T: 20</th>\n",
       "                        <td id=\"T_bd33792c_9257_11eb_8343_8c04ba3e1d36row2_col0\" class=\"data row2 col0\" >0.773700</td>\n",
       "                        <td id=\"T_bd33792c_9257_11eb_8343_8c04ba3e1d36row2_col1\" class=\"data row2 col1\" >0.772500</td>\n",
       "                        <td id=\"T_bd33792c_9257_11eb_8343_8c04ba3e1d36row2_col2\" class=\"data row2 col2\" >0.769700</td>\n",
       "                        <td id=\"T_bd33792c_9257_11eb_8343_8c04ba3e1d36row2_col3\" class=\"data row2 col3\" >0.631000</td>\n",
       "                        <td id=\"T_bd33792c_9257_11eb_8343_8c04ba3e1d36row2_col4\" class=\"data row2 col4\" >193.633300</td>\n",
       "                        <td id=\"T_bd33792c_9257_11eb_8343_8c04ba3e1d36row2_col5\" class=\"data row2 col5\" >60.100000</td>\n",
       "                        <td id=\"T_bd33792c_9257_11eb_8343_8c04ba3e1d36row2_col6\" class=\"data row2 col6\" >57.700000</td>\n",
       "            </tr>\n",
       "    </tbody></table>"
      ],
      "text/plain": [
       "<pandas.io.formats.style.Styler at 0x24c81338b50>"
      ]
     },
     "metadata": {},
     "output_type": "display_data"
    },
    {
     "data": {
      "text/markdown": [
       "## Piano for W: AkPnBsdf, and for H: ENSTDkCl"
      ],
      "text/plain": [
       "<IPython.core.display.Markdown object>"
      ]
     },
     "metadata": {},
     "output_type": "display_data"
    },
    {
     "data": {
      "text/markdown": [
       "### When averaging each threshold on all MAPS"
      ],
      "text/plain": [
       "<IPython.core.display.Markdown object>"
      ]
     },
     "metadata": {},
     "output_type": "display_data"
    },
    {
     "data": {
      "text/html": [
       "<style  type=\"text/css\" >\n",
       "    #T_60eb55f6_9259_11eb_830a_8c04ba3e1d36row0_col3 {\n",
       "            width:  10em;\n",
       "             height:  80%;\n",
       "        }    #T_60eb55f6_9259_11eb_830a_8c04ba3e1d36row0_col4 {\n",
       "            width:  10em;\n",
       "             height:  80%;\n",
       "        }    #T_60eb55f6_9259_11eb_830a_8c04ba3e1d36row1_col3 {\n",
       "            width:  10em;\n",
       "             height:  80%;\n",
       "            background:  linear-gradient(90deg,#5fba7d 100.0%, transparent 100.0%);\n",
       "        }    #T_60eb55f6_9259_11eb_830a_8c04ba3e1d36row1_col4 {\n",
       "            width:  10em;\n",
       "             height:  80%;\n",
       "            background:  linear-gradient(90deg,#5fba7d 100.0%, transparent 100.0%);\n",
       "        }    #T_60eb55f6_9259_11eb_830a_8c04ba3e1d36row2_col3 {\n",
       "            width:  10em;\n",
       "             height:  80%;\n",
       "            background:  linear-gradient(90deg,#5fba7d 98.9%, transparent 98.9%);\n",
       "        }    #T_60eb55f6_9259_11eb_830a_8c04ba3e1d36row2_col4 {\n",
       "            width:  10em;\n",
       "             height:  80%;\n",
       "            background:  linear-gradient(90deg,#5fba7d 96.1%, transparent 96.1%);\n",
       "        }</style><table id=\"T_60eb55f6_9259_11eb_830a_8c04ba3e1d36\" ><thead>    <tr>        <th class=\"blank level0\" ></th>        <th class=\"col_heading level0 col0\" >Best threshold</th>        <th class=\"col_heading level0 col1\" >Precision</th>        <th class=\"col_heading level0 col2\" >Recall</th>        <th class=\"col_heading level0 col3\" >F measure</th>        <th class=\"col_heading level0 col4\" >Accuracy</th>        <th class=\"col_heading level0 col5\" >True Positives</th>        <th class=\"col_heading level0 col6\" >False Positives</th>        <th class=\"col_heading level0 col7\" >False Negatives</th>    </tr></thead><tbody>\n",
       "                <tr>\n",
       "                        <th id=\"T_60eb55f6_9259_11eb_830a_8c04ba3e1d36level0_row0\" class=\"row_heading level0 row0\" >T: 5</th>\n",
       "                        <td id=\"T_60eb55f6_9259_11eb_830a_8c04ba3e1d36row0_col0\" class=\"data row0 col0\" >0.110000</td>\n",
       "                        <td id=\"T_60eb55f6_9259_11eb_830a_8c04ba3e1d36row0_col1\" class=\"data row0 col1\" >0.598600</td>\n",
       "                        <td id=\"T_60eb55f6_9259_11eb_830a_8c04ba3e1d36row0_col2\" class=\"data row0 col2\" >0.624900</td>\n",
       "                        <td id=\"T_60eb55f6_9259_11eb_830a_8c04ba3e1d36row0_col3\" class=\"data row0 col3\" >0.587100</td>\n",
       "                        <td id=\"T_60eb55f6_9259_11eb_830a_8c04ba3e1d36row0_col4\" class=\"data row0 col4\" >0.422100</td>\n",
       "                        <td id=\"T_60eb55f6_9259_11eb_830a_8c04ba3e1d36row0_col5\" class=\"data row0 col5\" >155.366700</td>\n",
       "                        <td id=\"T_60eb55f6_9259_11eb_830a_8c04ba3e1d36row0_col6\" class=\"data row0 col6\" >134.333300</td>\n",
       "                        <td id=\"T_60eb55f6_9259_11eb_830a_8c04ba3e1d36row0_col7\" class=\"data row0 col7\" >89.566700</td>\n",
       "            </tr>\n",
       "            <tr>\n",
       "                        <th id=\"T_60eb55f6_9259_11eb_830a_8c04ba3e1d36level0_row1\" class=\"row_heading level0 row1\" >T: 10</th>\n",
       "                        <td id=\"T_60eb55f6_9259_11eb_830a_8c04ba3e1d36row1_col0\" class=\"data row1 col0\" >0.150000</td>\n",
       "                        <td id=\"T_60eb55f6_9259_11eb_830a_8c04ba3e1d36row1_col1\" class=\"data row1 col1\" >0.627400</td>\n",
       "                        <td id=\"T_60eb55f6_9259_11eb_830a_8c04ba3e1d36row1_col2\" class=\"data row1 col2\" >0.700300</td>\n",
       "                        <td id=\"T_60eb55f6_9259_11eb_830a_8c04ba3e1d36row1_col3\" class=\"data row1 col3\" >0.642900</td>\n",
       "                        <td id=\"T_60eb55f6_9259_11eb_830a_8c04ba3e1d36row1_col4\" class=\"data row1 col4\" >0.481600</td>\n",
       "                        <td id=\"T_60eb55f6_9259_11eb_830a_8c04ba3e1d36row1_col5\" class=\"data row1 col5\" >171.366700</td>\n",
       "                        <td id=\"T_60eb55f6_9259_11eb_830a_8c04ba3e1d36row1_col6\" class=\"data row1 col6\" >129.066700</td>\n",
       "                        <td id=\"T_60eb55f6_9259_11eb_830a_8c04ba3e1d36row1_col7\" class=\"data row1 col7\" >73.566700</td>\n",
       "            </tr>\n",
       "            <tr>\n",
       "                        <th id=\"T_60eb55f6_9259_11eb_830a_8c04ba3e1d36level0_row2\" class=\"row_heading level0 row2\" >T: 20</th>\n",
       "                        <td id=\"T_60eb55f6_9259_11eb_830a_8c04ba3e1d36row2_col0\" class=\"data row2 col0\" >0.270000</td>\n",
       "                        <td id=\"T_60eb55f6_9259_11eb_830a_8c04ba3e1d36row2_col1\" class=\"data row2 col1\" >0.652300</td>\n",
       "                        <td id=\"T_60eb55f6_9259_11eb_830a_8c04ba3e1d36row2_col2\" class=\"data row2 col2\" >0.661000</td>\n",
       "                        <td id=\"T_60eb55f6_9259_11eb_830a_8c04ba3e1d36row2_col3\" class=\"data row2 col3\" >0.642300</td>\n",
       "                        <td id=\"T_60eb55f6_9259_11eb_830a_8c04ba3e1d36row2_col4\" class=\"data row2 col4\" >0.479300</td>\n",
       "                        <td id=\"T_60eb55f6_9259_11eb_830a_8c04ba3e1d36row2_col5\" class=\"data row2 col5\" >158.833300</td>\n",
       "                        <td id=\"T_60eb55f6_9259_11eb_830a_8c04ba3e1d36row2_col6\" class=\"data row2 col6\" >95.700000</td>\n",
       "                        <td id=\"T_60eb55f6_9259_11eb_830a_8c04ba3e1d36row2_col7\" class=\"data row2 col7\" >85.933300</td>\n",
       "            </tr>\n",
       "    </tbody></table>"
      ],
      "text/plain": [
       "<pandas.io.formats.style.Styler at 0x24c80f88fa0>"
      ]
     },
     "metadata": {},
     "output_type": "display_data"
    },
    {
     "data": {
      "text/markdown": [
       "### When optimizing the threshold on each song"
      ],
      "text/plain": [
       "<IPython.core.display.Markdown object>"
      ]
     },
     "metadata": {},
     "output_type": "display_data"
    },
    {
     "data": {
      "text/html": [
       "<style  type=\"text/css\" >\n",
       "    #T_60ed776c_9259_11eb_abf3_8c04ba3e1d36row0_col2 {\n",
       "            width:  10em;\n",
       "             height:  80%;\n",
       "        }    #T_60ed776c_9259_11eb_abf3_8c04ba3e1d36row0_col3 {\n",
       "            width:  10em;\n",
       "             height:  80%;\n",
       "        }    #T_60ed776c_9259_11eb_abf3_8c04ba3e1d36row1_col2 {\n",
       "            width:  10em;\n",
       "             height:  80%;\n",
       "            background:  linear-gradient(90deg,#5fba7d 100.0%, transparent 100.0%);\n",
       "        }    #T_60ed776c_9259_11eb_abf3_8c04ba3e1d36row1_col3 {\n",
       "            width:  10em;\n",
       "             height:  80%;\n",
       "            background:  linear-gradient(90deg,#5fba7d 100.0%, transparent 100.0%);\n",
       "        }    #T_60ed776c_9259_11eb_abf3_8c04ba3e1d36row2_col2 {\n",
       "            width:  10em;\n",
       "             height:  80%;\n",
       "            background:  linear-gradient(90deg,#5fba7d 88.8%, transparent 88.8%);\n",
       "        }    #T_60ed776c_9259_11eb_abf3_8c04ba3e1d36row2_col3 {\n",
       "            width:  10em;\n",
       "             height:  80%;\n",
       "            background:  linear-gradient(90deg,#5fba7d 89.1%, transparent 89.1%);\n",
       "        }</style><table id=\"T_60ed776c_9259_11eb_abf3_8c04ba3e1d36\" ><thead>    <tr>        <th class=\"blank level0\" ></th>        <th class=\"col_heading level0 col0\" >Precision</th>        <th class=\"col_heading level0 col1\" >Recall</th>        <th class=\"col_heading level0 col2\" >F measure</th>        <th class=\"col_heading level0 col3\" >Accuracy</th>        <th class=\"col_heading level0 col4\" >True Positives</th>        <th class=\"col_heading level0 col5\" >False Positives</th>        <th class=\"col_heading level0 col6\" >False Negatives</th>    </tr></thead><tbody>\n",
       "                <tr>\n",
       "                        <th id=\"T_60ed776c_9259_11eb_abf3_8c04ba3e1d36level0_row0\" class=\"row_heading level0 row0\" >T: 5</th>\n",
       "                        <td id=\"T_60ed776c_9259_11eb_abf3_8c04ba3e1d36row0_col0\" class=\"data row0 col0\" >0.646800</td>\n",
       "                        <td id=\"T_60ed776c_9259_11eb_abf3_8c04ba3e1d36row0_col1\" class=\"data row0 col1\" >0.620200</td>\n",
       "                        <td id=\"T_60ed776c_9259_11eb_abf3_8c04ba3e1d36row0_col2\" class=\"data row0 col2\" >0.627500</td>\n",
       "                        <td id=\"T_60ed776c_9259_11eb_abf3_8c04ba3e1d36row0_col3\" class=\"data row0 col3\" >0.462400</td>\n",
       "                        <td id=\"T_60ed776c_9259_11eb_abf3_8c04ba3e1d36row0_col4\" class=\"data row0 col4\" >152.600000</td>\n",
       "                        <td id=\"T_60ed776c_9259_11eb_abf3_8c04ba3e1d36row0_col5\" class=\"data row0 col5\" >82.100000</td>\n",
       "                        <td id=\"T_60ed776c_9259_11eb_abf3_8c04ba3e1d36row0_col6\" class=\"data row0 col6\" >92.200000</td>\n",
       "            </tr>\n",
       "            <tr>\n",
       "                        <th id=\"T_60ed776c_9259_11eb_abf3_8c04ba3e1d36level0_row1\" class=\"row_heading level0 row1\" >T: 10</th>\n",
       "                        <td id=\"T_60ed776c_9259_11eb_abf3_8c04ba3e1d36row1_col0\" class=\"data row1 col0\" >0.681900</td>\n",
       "                        <td id=\"T_60ed776c_9259_11eb_abf3_8c04ba3e1d36row1_col1\" class=\"data row1 col1\" >0.676200</td>\n",
       "                        <td id=\"T_60ed776c_9259_11eb_abf3_8c04ba3e1d36row1_col2\" class=\"data row1 col2\" >0.674700</td>\n",
       "                        <td id=\"T_60ed776c_9259_11eb_abf3_8c04ba3e1d36row1_col3\" class=\"data row1 col3\" >0.514600</td>\n",
       "                        <td id=\"T_60ed776c_9259_11eb_abf3_8c04ba3e1d36row1_col4\" class=\"data row1 col4\" >165.400000</td>\n",
       "                        <td id=\"T_60ed776c_9259_11eb_abf3_8c04ba3e1d36row1_col5\" class=\"data row1 col5\" >78.100000</td>\n",
       "                        <td id=\"T_60ed776c_9259_11eb_abf3_8c04ba3e1d36row1_col6\" class=\"data row1 col6\" >79.533300</td>\n",
       "            </tr>\n",
       "            <tr>\n",
       "                        <th id=\"T_60ed776c_9259_11eb_abf3_8c04ba3e1d36level0_row2\" class=\"row_heading level0 row2\" >T: 20</th>\n",
       "                        <td id=\"T_60ed776c_9259_11eb_abf3_8c04ba3e1d36row2_col0\" class=\"data row2 col0\" >0.670300</td>\n",
       "                        <td id=\"T_60ed776c_9259_11eb_abf3_8c04ba3e1d36row2_col1\" class=\"data row2 col1\" >0.673500</td>\n",
       "                        <td id=\"T_60ed776c_9259_11eb_abf3_8c04ba3e1d36row2_col2\" class=\"data row2 col2\" >0.669400</td>\n",
       "                        <td id=\"T_60ed776c_9259_11eb_abf3_8c04ba3e1d36row2_col3\" class=\"data row2 col3\" >0.508900</td>\n",
       "                        <td id=\"T_60ed776c_9259_11eb_abf3_8c04ba3e1d36row2_col4\" class=\"data row2 col4\" >163.133300</td>\n",
       "                        <td id=\"T_60ed776c_9259_11eb_abf3_8c04ba3e1d36row2_col5\" class=\"data row2 col5\" >82.100000</td>\n",
       "                        <td id=\"T_60ed776c_9259_11eb_abf3_8c04ba3e1d36row2_col6\" class=\"data row2 col6\" >81.633300</td>\n",
       "            </tr>\n",
       "    </tbody></table>"
      ],
      "text/plain": [
       "<pandas.io.formats.style.Styler at 0x24c80f54ee0>"
      ]
     },
     "metadata": {},
     "output_type": "display_data"
    },
    {
     "data": {
      "text/markdown": [
       "## Piano for W: AkPnStgb, and for H: AkPnCGdD"
      ],
      "text/plain": [
       "<IPython.core.display.Markdown object>"
      ]
     },
     "metadata": {},
     "output_type": "display_data"
    },
    {
     "data": {
      "text/markdown": [
       "### When averaging each threshold on all MAPS"
      ],
      "text/plain": [
       "<IPython.core.display.Markdown object>"
      ]
     },
     "metadata": {},
     "output_type": "display_data"
    },
    {
     "data": {
      "text/html": [
       "<style  type=\"text/css\" >\n",
       "    #T_02ea868f_925b_11eb_ab83_8c04ba3e1d36row0_col3 {\n",
       "            width:  10em;\n",
       "             height:  80%;\n",
       "        }    #T_02ea868f_925b_11eb_ab83_8c04ba3e1d36row0_col4 {\n",
       "            width:  10em;\n",
       "             height:  80%;\n",
       "        }    #T_02ea868f_925b_11eb_ab83_8c04ba3e1d36row1_col3 {\n",
       "            width:  10em;\n",
       "             height:  80%;\n",
       "            background:  linear-gradient(90deg,#5fba7d 100.0%, transparent 100.0%);\n",
       "        }    #T_02ea868f_925b_11eb_ab83_8c04ba3e1d36row1_col4 {\n",
       "            width:  10em;\n",
       "             height:  80%;\n",
       "            background:  linear-gradient(90deg,#5fba7d 100.0%, transparent 100.0%);\n",
       "        }    #T_02ea868f_925b_11eb_ab83_8c04ba3e1d36row2_col3 {\n",
       "            width:  10em;\n",
       "             height:  80%;\n",
       "            background:  linear-gradient(90deg,#5fba7d 81.7%, transparent 81.7%);\n",
       "        }    #T_02ea868f_925b_11eb_ab83_8c04ba3e1d36row2_col4 {\n",
       "            width:  10em;\n",
       "             height:  80%;\n",
       "            background:  linear-gradient(90deg,#5fba7d 77.7%, transparent 77.7%);\n",
       "        }</style><table id=\"T_02ea868f_925b_11eb_ab83_8c04ba3e1d36\" ><thead>    <tr>        <th class=\"blank level0\" ></th>        <th class=\"col_heading level0 col0\" >Best threshold</th>        <th class=\"col_heading level0 col1\" >Precision</th>        <th class=\"col_heading level0 col2\" >Recall</th>        <th class=\"col_heading level0 col3\" >F measure</th>        <th class=\"col_heading level0 col4\" >Accuracy</th>        <th class=\"col_heading level0 col5\" >True Positives</th>        <th class=\"col_heading level0 col6\" >False Positives</th>        <th class=\"col_heading level0 col7\" >False Negatives</th>    </tr></thead><tbody>\n",
       "                <tr>\n",
       "                        <th id=\"T_02ea868f_925b_11eb_ab83_8c04ba3e1d36level0_row0\" class=\"row_heading level0 row0\" >T: 5</th>\n",
       "                        <td id=\"T_02ea868f_925b_11eb_ab83_8c04ba3e1d36row0_col0\" class=\"data row0 col0\" >0.050000</td>\n",
       "                        <td id=\"T_02ea868f_925b_11eb_ab83_8c04ba3e1d36row0_col1\" class=\"data row0 col1\" >0.655100</td>\n",
       "                        <td id=\"T_02ea868f_925b_11eb_ab83_8c04ba3e1d36row0_col2\" class=\"data row0 col2\" >0.623300</td>\n",
       "                        <td id=\"T_02ea868f_925b_11eb_ab83_8c04ba3e1d36row0_col3\" class=\"data row0 col3\" >0.611000</td>\n",
       "                        <td id=\"T_02ea868f_925b_11eb_ab83_8c04ba3e1d36row0_col4\" class=\"data row0 col4\" >0.450700</td>\n",
       "                        <td id=\"T_02ea868f_925b_11eb_ab83_8c04ba3e1d36row0_col5\" class=\"data row0 col5\" >163.266700</td>\n",
       "                        <td id=\"T_02ea868f_925b_11eb_ab83_8c04ba3e1d36row0_col6\" class=\"data row0 col6\" >125.866700</td>\n",
       "                        <td id=\"T_02ea868f_925b_11eb_ab83_8c04ba3e1d36row0_col7\" class=\"data row0 col7\" >88.200000</td>\n",
       "            </tr>\n",
       "            <tr>\n",
       "                        <th id=\"T_02ea868f_925b_11eb_ab83_8c04ba3e1d36level0_row1\" class=\"row_heading level0 row1\" >T: 10</th>\n",
       "                        <td id=\"T_02ea868f_925b_11eb_ab83_8c04ba3e1d36row1_col0\" class=\"data row1 col0\" >0.070000</td>\n",
       "                        <td id=\"T_02ea868f_925b_11eb_ab83_8c04ba3e1d36row1_col1\" class=\"data row1 col1\" >0.697900</td>\n",
       "                        <td id=\"T_02ea868f_925b_11eb_ab83_8c04ba3e1d36row1_col2\" class=\"data row1 col2\" >0.678800</td>\n",
       "                        <td id=\"T_02ea868f_925b_11eb_ab83_8c04ba3e1d36row1_col3\" class=\"data row1 col3\" >0.670100</td>\n",
       "                        <td id=\"T_02ea868f_925b_11eb_ab83_8c04ba3e1d36row1_col4\" class=\"data row1 col4\" >0.517100</td>\n",
       "                        <td id=\"T_02ea868f_925b_11eb_ab83_8c04ba3e1d36row1_col5\" class=\"data row1 col5\" >172.466700</td>\n",
       "                        <td id=\"T_02ea868f_925b_11eb_ab83_8c04ba3e1d36row1_col6\" class=\"data row1 col6\" >102.733300</td>\n",
       "                        <td id=\"T_02ea868f_925b_11eb_ab83_8c04ba3e1d36row1_col7\" class=\"data row1 col7\" >78.900000</td>\n",
       "            </tr>\n",
       "            <tr>\n",
       "                        <th id=\"T_02ea868f_925b_11eb_ab83_8c04ba3e1d36level0_row2\" class=\"row_heading level0 row2\" >T: 20</th>\n",
       "                        <td id=\"T_02ea868f_925b_11eb_ab83_8c04ba3e1d36row2_col0\" class=\"data row2 col0\" >0.110000</td>\n",
       "                        <td id=\"T_02ea868f_925b_11eb_ab83_8c04ba3e1d36row2_col1\" class=\"data row2 col1\" >0.676900</td>\n",
       "                        <td id=\"T_02ea868f_925b_11eb_ab83_8c04ba3e1d36row2_col2\" class=\"data row2 col2\" >0.665600</td>\n",
       "                        <td id=\"T_02ea868f_925b_11eb_ab83_8c04ba3e1d36row2_col3\" class=\"data row2 col3\" >0.659300</td>\n",
       "                        <td id=\"T_02ea868f_925b_11eb_ab83_8c04ba3e1d36row2_col4\" class=\"data row2 col4\" >0.502300</td>\n",
       "                        <td id=\"T_02ea868f_925b_11eb_ab83_8c04ba3e1d36row2_col5\" class=\"data row2 col5\" >162.466700</td>\n",
       "                        <td id=\"T_02ea868f_925b_11eb_ab83_8c04ba3e1d36row2_col6\" class=\"data row2 col6\" >93.966700</td>\n",
       "                        <td id=\"T_02ea868f_925b_11eb_ab83_8c04ba3e1d36row2_col7\" class=\"data row2 col7\" >88.733300</td>\n",
       "            </tr>\n",
       "    </tbody></table>"
      ],
      "text/plain": [
       "<pandas.io.formats.style.Styler at 0x24c80d79f40>"
      ]
     },
     "metadata": {},
     "output_type": "display_data"
    },
    {
     "data": {
      "text/markdown": [
       "### When optimizing the threshold on each song"
      ],
      "text/plain": [
       "<IPython.core.display.Markdown object>"
      ]
     },
     "metadata": {},
     "output_type": "display_data"
    },
    {
     "data": {
      "text/html": [
       "<style  type=\"text/css\" >\n",
       "    #T_02eca7fc_925b_11eb_9519_8c04ba3e1d36row0_col2 {\n",
       "            width:  10em;\n",
       "             height:  80%;\n",
       "        }    #T_02eca7fc_925b_11eb_9519_8c04ba3e1d36row0_col3 {\n",
       "            width:  10em;\n",
       "             height:  80%;\n",
       "        }    #T_02eca7fc_925b_11eb_9519_8c04ba3e1d36row1_col2 {\n",
       "            width:  10em;\n",
       "             height:  80%;\n",
       "            background:  linear-gradient(90deg,#5fba7d 100.0%, transparent 100.0%);\n",
       "        }    #T_02eca7fc_925b_11eb_9519_8c04ba3e1d36row1_col3 {\n",
       "            width:  10em;\n",
       "             height:  80%;\n",
       "            background:  linear-gradient(90deg,#5fba7d 100.0%, transparent 100.0%);\n",
       "        }    #T_02eca7fc_925b_11eb_9519_8c04ba3e1d36row2_col2 {\n",
       "            width:  10em;\n",
       "             height:  80%;\n",
       "            background:  linear-gradient(90deg,#5fba7d 69.7%, transparent 69.7%);\n",
       "        }    #T_02eca7fc_925b_11eb_9519_8c04ba3e1d36row2_col3 {\n",
       "            width:  10em;\n",
       "             height:  80%;\n",
       "            background:  linear-gradient(90deg,#5fba7d 66.6%, transparent 66.6%);\n",
       "        }</style><table id=\"T_02eca7fc_925b_11eb_9519_8c04ba3e1d36\" ><thead>    <tr>        <th class=\"blank level0\" ></th>        <th class=\"col_heading level0 col0\" >Precision</th>        <th class=\"col_heading level0 col1\" >Recall</th>        <th class=\"col_heading level0 col2\" >F measure</th>        <th class=\"col_heading level0 col3\" >Accuracy</th>        <th class=\"col_heading level0 col4\" >True Positives</th>        <th class=\"col_heading level0 col5\" >False Positives</th>        <th class=\"col_heading level0 col6\" >False Negatives</th>    </tr></thead><tbody>\n",
       "                <tr>\n",
       "                        <th id=\"T_02eca7fc_925b_11eb_9519_8c04ba3e1d36level0_row0\" class=\"row_heading level0 row0\" >T: 5</th>\n",
       "                        <td id=\"T_02eca7fc_925b_11eb_9519_8c04ba3e1d36row0_col0\" class=\"data row0 col0\" >0.694500</td>\n",
       "                        <td id=\"T_02eca7fc_925b_11eb_9519_8c04ba3e1d36row0_col1\" class=\"data row0 col1\" >0.617900</td>\n",
       "                        <td id=\"T_02eca7fc_925b_11eb_9519_8c04ba3e1d36row0_col2\" class=\"data row0 col2\" >0.649000</td>\n",
       "                        <td id=\"T_02eca7fc_925b_11eb_9519_8c04ba3e1d36row0_col3\" class=\"data row0 col3\" >0.490300</td>\n",
       "                        <td id=\"T_02eca7fc_925b_11eb_9519_8c04ba3e1d36row0_col4\" class=\"data row0 col4\" >157.833300</td>\n",
       "                        <td id=\"T_02eca7fc_925b_11eb_9519_8c04ba3e1d36row0_col5\" class=\"data row0 col5\" >74.233300</td>\n",
       "                        <td id=\"T_02eca7fc_925b_11eb_9519_8c04ba3e1d36row0_col6\" class=\"data row0 col6\" >93.666700</td>\n",
       "            </tr>\n",
       "            <tr>\n",
       "                        <th id=\"T_02eca7fc_925b_11eb_9519_8c04ba3e1d36level0_row1\" class=\"row_heading level0 row1\" >T: 10</th>\n",
       "                        <td id=\"T_02eca7fc_925b_11eb_9519_8c04ba3e1d36row1_col0\" class=\"data row1 col0\" >0.735000</td>\n",
       "                        <td id=\"T_02eca7fc_925b_11eb_9519_8c04ba3e1d36row1_col1\" class=\"data row1 col1\" >0.680400</td>\n",
       "                        <td id=\"T_02eca7fc_925b_11eb_9519_8c04ba3e1d36row1_col2\" class=\"data row1 col2\" >0.702500</td>\n",
       "                        <td id=\"T_02eca7fc_925b_11eb_9519_8c04ba3e1d36row1_col3\" class=\"data row1 col3\" >0.551700</td>\n",
       "                        <td id=\"T_02eca7fc_925b_11eb_9519_8c04ba3e1d36row1_col4\" class=\"data row1 col4\" >170.666700</td>\n",
       "                        <td id=\"T_02eca7fc_925b_11eb_9519_8c04ba3e1d36row1_col5\" class=\"data row1 col5\" >66.966700</td>\n",
       "                        <td id=\"T_02eca7fc_925b_11eb_9519_8c04ba3e1d36row1_col6\" class=\"data row1 col6\" >80.566700</td>\n",
       "            </tr>\n",
       "            <tr>\n",
       "                        <th id=\"T_02eca7fc_925b_11eb_9519_8c04ba3e1d36level0_row2\" class=\"row_heading level0 row2\" >T: 20</th>\n",
       "                        <td id=\"T_02eca7fc_925b_11eb_9519_8c04ba3e1d36row2_col0\" class=\"data row2 col0\" >0.719500</td>\n",
       "                        <td id=\"T_02eca7fc_925b_11eb_9519_8c04ba3e1d36row2_col1\" class=\"data row2 col1\" >0.663600</td>\n",
       "                        <td id=\"T_02eca7fc_925b_11eb_9519_8c04ba3e1d36row2_col2\" class=\"data row2 col2\" >0.686300</td>\n",
       "                        <td id=\"T_02eca7fc_925b_11eb_9519_8c04ba3e1d36row2_col3\" class=\"data row2 col3\" >0.531200</td>\n",
       "                        <td id=\"T_02eca7fc_925b_11eb_9519_8c04ba3e1d36row2_col4\" class=\"data row2 col4\" >163.900000</td>\n",
       "                        <td id=\"T_02eca7fc_925b_11eb_9519_8c04ba3e1d36row2_col5\" class=\"data row2 col5\" >70.033300</td>\n",
       "                        <td id=\"T_02eca7fc_925b_11eb_9519_8c04ba3e1d36row2_col6\" class=\"data row2 col6\" >87.366700</td>\n",
       "            </tr>\n",
       "    </tbody></table>"
      ],
      "text/plain": [
       "<pandas.io.formats.style.Styler at 0x24c80d9dbe0>"
      ]
     },
     "metadata": {},
     "output_type": "display_data"
    },
    {
     "data": {
      "text/markdown": [
       "## Piano for W: AkPnStgb, and for H: ENSTDkCl"
      ],
      "text/plain": [
       "<IPython.core.display.Markdown object>"
      ]
     },
     "metadata": {},
     "output_type": "display_data"
    },
    {
     "data": {
      "text/markdown": [
       "### When averaging each threshold on all MAPS"
      ],
      "text/plain": [
       "<IPython.core.display.Markdown object>"
      ]
     },
     "metadata": {},
     "output_type": "display_data"
    },
    {
     "data": {
      "text/html": [
       "<style  type=\"text/css\" >\n",
       "    #T_ba275eb6_925c_11eb_87a1_8c04ba3e1d36row0_col3 {\n",
       "            width:  10em;\n",
       "             height:  80%;\n",
       "        }    #T_ba275eb6_925c_11eb_87a1_8c04ba3e1d36row0_col4 {\n",
       "            width:  10em;\n",
       "             height:  80%;\n",
       "        }    #T_ba275eb6_925c_11eb_87a1_8c04ba3e1d36row1_col3 {\n",
       "            width:  10em;\n",
       "             height:  80%;\n",
       "            background:  linear-gradient(90deg,#5fba7d 71.9%, transparent 71.9%);\n",
       "        }    #T_ba275eb6_925c_11eb_87a1_8c04ba3e1d36row1_col4 {\n",
       "            width:  10em;\n",
       "             height:  80%;\n",
       "            background:  linear-gradient(90deg,#5fba7d 74.9%, transparent 74.9%);\n",
       "        }    #T_ba275eb6_925c_11eb_87a1_8c04ba3e1d36row2_col3 {\n",
       "            width:  10em;\n",
       "             height:  80%;\n",
       "            background:  linear-gradient(90deg,#5fba7d 100.0%, transparent 100.0%);\n",
       "        }    #T_ba275eb6_925c_11eb_87a1_8c04ba3e1d36row2_col4 {\n",
       "            width:  10em;\n",
       "             height:  80%;\n",
       "            background:  linear-gradient(90deg,#5fba7d 100.0%, transparent 100.0%);\n",
       "        }</style><table id=\"T_ba275eb6_925c_11eb_87a1_8c04ba3e1d36\" ><thead>    <tr>        <th class=\"blank level0\" ></th>        <th class=\"col_heading level0 col0\" >Best threshold</th>        <th class=\"col_heading level0 col1\" >Precision</th>        <th class=\"col_heading level0 col2\" >Recall</th>        <th class=\"col_heading level0 col3\" >F measure</th>        <th class=\"col_heading level0 col4\" >Accuracy</th>        <th class=\"col_heading level0 col5\" >True Positives</th>        <th class=\"col_heading level0 col6\" >False Positives</th>        <th class=\"col_heading level0 col7\" >False Negatives</th>    </tr></thead><tbody>\n",
       "                <tr>\n",
       "                        <th id=\"T_ba275eb6_925c_11eb_87a1_8c04ba3e1d36level0_row0\" class=\"row_heading level0 row0\" >T: 5</th>\n",
       "                        <td id=\"T_ba275eb6_925c_11eb_87a1_8c04ba3e1d36row0_col0\" class=\"data row0 col0\" >0.130000</td>\n",
       "                        <td id=\"T_ba275eb6_925c_11eb_87a1_8c04ba3e1d36row0_col1\" class=\"data row0 col1\" >0.690800</td>\n",
       "                        <td id=\"T_ba275eb6_925c_11eb_87a1_8c04ba3e1d36row0_col2\" class=\"data row0 col2\" >0.583100</td>\n",
       "                        <td id=\"T_ba275eb6_925c_11eb_87a1_8c04ba3e1d36row0_col3\" class=\"data row0 col3\" >0.604800</td>\n",
       "                        <td id=\"T_ba275eb6_925c_11eb_87a1_8c04ba3e1d36row0_col4\" class=\"data row0 col4\" >0.444000</td>\n",
       "                        <td id=\"T_ba275eb6_925c_11eb_87a1_8c04ba3e1d36row0_col5\" class=\"data row0 col5\" >145.600000</td>\n",
       "                        <td id=\"T_ba275eb6_925c_11eb_87a1_8c04ba3e1d36row0_col6\" class=\"data row0 col6\" >90.166700</td>\n",
       "                        <td id=\"T_ba275eb6_925c_11eb_87a1_8c04ba3e1d36row0_col7\" class=\"data row0 col7\" >99.300000</td>\n",
       "            </tr>\n",
       "            <tr>\n",
       "                        <th id=\"T_ba275eb6_925c_11eb_87a1_8c04ba3e1d36level0_row1\" class=\"row_heading level0 row1\" >T: 10</th>\n",
       "                        <td id=\"T_ba275eb6_925c_11eb_87a1_8c04ba3e1d36row1_col0\" class=\"data row1 col0\" >0.170000</td>\n",
       "                        <td id=\"T_ba275eb6_925c_11eb_87a1_8c04ba3e1d36row1_col1\" class=\"data row1 col1\" >0.688900</td>\n",
       "                        <td id=\"T_ba275eb6_925c_11eb_87a1_8c04ba3e1d36row1_col2\" class=\"data row1 col2\" >0.641700</td>\n",
       "                        <td id=\"T_ba275eb6_925c_11eb_87a1_8c04ba3e1d36row1_col3\" class=\"data row1 col3\" >0.644400</td>\n",
       "                        <td id=\"T_ba275eb6_925c_11eb_87a1_8c04ba3e1d36row1_col4\" class=\"data row1 col4\" >0.486300</td>\n",
       "                        <td id=\"T_ba275eb6_925c_11eb_87a1_8c04ba3e1d36row1_col5\" class=\"data row1 col5\" >158.600000</td>\n",
       "                        <td id=\"T_ba275eb6_925c_11eb_87a1_8c04ba3e1d36row1_col6\" class=\"data row1 col6\" >93.500000</td>\n",
       "                        <td id=\"T_ba275eb6_925c_11eb_87a1_8c04ba3e1d36row1_col7\" class=\"data row1 col7\" >86.266700</td>\n",
       "            </tr>\n",
       "            <tr>\n",
       "                        <th id=\"T_ba275eb6_925c_11eb_87a1_8c04ba3e1d36level0_row2\" class=\"row_heading level0 row2\" >T: 20</th>\n",
       "                        <td id=\"T_ba275eb6_925c_11eb_87a1_8c04ba3e1d36row2_col0\" class=\"data row2 col0\" >0.270000</td>\n",
       "                        <td id=\"T_ba275eb6_925c_11eb_87a1_8c04ba3e1d36row2_col1\" class=\"data row2 col1\" >0.702400</td>\n",
       "                        <td id=\"T_ba275eb6_925c_11eb_87a1_8c04ba3e1d36row2_col2\" class=\"data row2 col2\" >0.647300</td>\n",
       "                        <td id=\"T_ba275eb6_925c_11eb_87a1_8c04ba3e1d36row2_col3\" class=\"data row2 col3\" >0.659900</td>\n",
       "                        <td id=\"T_ba275eb6_925c_11eb_87a1_8c04ba3e1d36row2_col4\" class=\"data row2 col4\" >0.500500</td>\n",
       "                        <td id=\"T_ba275eb6_925c_11eb_87a1_8c04ba3e1d36row2_col5\" class=\"data row2 col5\" >155.133300</td>\n",
       "                        <td id=\"T_ba275eb6_925c_11eb_87a1_8c04ba3e1d36row2_col6\" class=\"data row2 col6\" >79.600000</td>\n",
       "                        <td id=\"T_ba275eb6_925c_11eb_87a1_8c04ba3e1d36row2_col7\" class=\"data row2 col7\" >89.800000</td>\n",
       "            </tr>\n",
       "    </tbody></table>"
      ],
      "text/plain": [
       "<pandas.io.formats.style.Styler at 0x24c8057ce80>"
      ]
     },
     "metadata": {},
     "output_type": "display_data"
    },
    {
     "data": {
      "text/markdown": [
       "### When optimizing the threshold on each song"
      ],
      "text/plain": [
       "<IPython.core.display.Markdown object>"
      ]
     },
     "metadata": {},
     "output_type": "display_data"
    },
    {
     "data": {
      "text/html": [
       "<style  type=\"text/css\" >\n",
       "    #T_ba293226_925c_11eb_bf68_8c04ba3e1d36row0_col2 {\n",
       "            width:  10em;\n",
       "             height:  80%;\n",
       "        }    #T_ba293226_925c_11eb_bf68_8c04ba3e1d36row0_col3 {\n",
       "            width:  10em;\n",
       "             height:  80%;\n",
       "        }    #T_ba293226_925c_11eb_bf68_8c04ba3e1d36row1_col2 {\n",
       "            width:  10em;\n",
       "             height:  80%;\n",
       "            background:  linear-gradient(90deg,#5fba7d 94.3%, transparent 94.3%);\n",
       "        }    #T_ba293226_925c_11eb_bf68_8c04ba3e1d36row1_col3 {\n",
       "            width:  10em;\n",
       "             height:  80%;\n",
       "            background:  linear-gradient(90deg,#5fba7d 93.4%, transparent 93.4%);\n",
       "        }    #T_ba293226_925c_11eb_bf68_8c04ba3e1d36row2_col2 {\n",
       "            width:  10em;\n",
       "             height:  80%;\n",
       "            background:  linear-gradient(90deg,#5fba7d 100.0%, transparent 100.0%);\n",
       "        }    #T_ba293226_925c_11eb_bf68_8c04ba3e1d36row2_col3 {\n",
       "            width:  10em;\n",
       "             height:  80%;\n",
       "            background:  linear-gradient(90deg,#5fba7d 100.0%, transparent 100.0%);\n",
       "        }</style><table id=\"T_ba293226_925c_11eb_bf68_8c04ba3e1d36\" ><thead>    <tr>        <th class=\"blank level0\" ></th>        <th class=\"col_heading level0 col0\" >Precision</th>        <th class=\"col_heading level0 col1\" >Recall</th>        <th class=\"col_heading level0 col2\" >F measure</th>        <th class=\"col_heading level0 col3\" >Accuracy</th>        <th class=\"col_heading level0 col4\" >True Positives</th>        <th class=\"col_heading level0 col5\" >False Positives</th>        <th class=\"col_heading level0 col6\" >False Negatives</th>    </tr></thead><tbody>\n",
       "                <tr>\n",
       "                        <th id=\"T_ba293226_925c_11eb_bf68_8c04ba3e1d36level0_row0\" class=\"row_heading level0 row0\" >T: 5</th>\n",
       "                        <td id=\"T_ba293226_925c_11eb_bf68_8c04ba3e1d36row0_col0\" class=\"data row0 col0\" >0.695800</td>\n",
       "                        <td id=\"T_ba293226_925c_11eb_bf68_8c04ba3e1d36row0_col1\" class=\"data row0 col1\" >0.606400</td>\n",
       "                        <td id=\"T_ba293226_925c_11eb_bf68_8c04ba3e1d36row0_col2\" class=\"data row0 col2\" >0.641400</td>\n",
       "                        <td id=\"T_ba293226_925c_11eb_bf68_8c04ba3e1d36row0_col3\" class=\"data row0 col3\" >0.479300</td>\n",
       "                        <td id=\"T_ba293226_925c_11eb_bf68_8c04ba3e1d36row0_col4\" class=\"data row0 col4\" >148.333300</td>\n",
       "                        <td id=\"T_ba293226_925c_11eb_bf68_8c04ba3e1d36row0_col5\" class=\"data row0 col5\" >67.200000</td>\n",
       "                        <td id=\"T_ba293226_925c_11eb_bf68_8c04ba3e1d36row0_col6\" class=\"data row0 col6\" >96.633300</td>\n",
       "            </tr>\n",
       "            <tr>\n",
       "                        <th id=\"T_ba293226_925c_11eb_bf68_8c04ba3e1d36level0_row1\" class=\"row_heading level0 row1\" >T: 10</th>\n",
       "                        <td id=\"T_ba293226_925c_11eb_bf68_8c04ba3e1d36row1_col0\" class=\"data row1 col0\" >0.727000</td>\n",
       "                        <td id=\"T_ba293226_925c_11eb_bf68_8c04ba3e1d36row1_col1\" class=\"data row1 col1\" >0.651100</td>\n",
       "                        <td id=\"T_ba293226_925c_11eb_bf68_8c04ba3e1d36row1_col2\" class=\"data row1 col2\" >0.684400</td>\n",
       "                        <td id=\"T_ba293226_925c_11eb_bf68_8c04ba3e1d36row1_col3\" class=\"data row1 col3\" >0.527800</td>\n",
       "                        <td id=\"T_ba293226_925c_11eb_bf68_8c04ba3e1d36row1_col4\" class=\"data row1 col4\" >158.966700</td>\n",
       "                        <td id=\"T_ba293226_925c_11eb_bf68_8c04ba3e1d36row1_col5\" class=\"data row1 col5\" >62.166700</td>\n",
       "                        <td id=\"T_ba293226_925c_11eb_bf68_8c04ba3e1d36row1_col6\" class=\"data row1 col6\" >85.833300</td>\n",
       "            </tr>\n",
       "            <tr>\n",
       "                        <th id=\"T_ba293226_925c_11eb_bf68_8c04ba3e1d36level0_row2\" class=\"row_heading level0 row2\" >T: 20</th>\n",
       "                        <td id=\"T_ba293226_925c_11eb_bf68_8c04ba3e1d36row2_col0\" class=\"data row2 col0\" >0.721800</td>\n",
       "                        <td id=\"T_ba293226_925c_11eb_bf68_8c04ba3e1d36row2_col1\" class=\"data row2 col1\" >0.660800</td>\n",
       "                        <td id=\"T_ba293226_925c_11eb_bf68_8c04ba3e1d36row2_col2\" class=\"data row2 col2\" >0.687000</td>\n",
       "                        <td id=\"T_ba293226_925c_11eb_bf68_8c04ba3e1d36row2_col3\" class=\"data row2 col3\" >0.531200</td>\n",
       "                        <td id=\"T_ba293226_925c_11eb_bf68_8c04ba3e1d36row2_col4\" class=\"data row2 col4\" >159.933300</td>\n",
       "                        <td id=\"T_ba293226_925c_11eb_bf68_8c04ba3e1d36row2_col5\" class=\"data row2 col5\" >66.333300</td>\n",
       "                        <td id=\"T_ba293226_925c_11eb_bf68_8c04ba3e1d36row2_col6\" class=\"data row2 col6\" >84.800000</td>\n",
       "            </tr>\n",
       "    </tbody></table>"
      ],
      "text/plain": [
       "<pandas.io.formats.style.Styler at 0x24c813f8610>"
      ]
     },
     "metadata": {},
     "output_type": "display_data"
    },
    {
     "data": {
      "text/markdown": [
       "## Piano for W: ENSTDkAm, and for H: AkPnCGdD"
      ],
      "text/plain": [
       "<IPython.core.display.Markdown object>"
      ]
     },
     "metadata": {},
     "output_type": "display_data"
    },
    {
     "data": {
      "text/markdown": [
       "### When averaging each threshold on all MAPS"
      ],
      "text/plain": [
       "<IPython.core.display.Markdown object>"
      ]
     },
     "metadata": {},
     "output_type": "display_data"
    },
    {
     "data": {
      "text/html": [
       "<style  type=\"text/css\" >\n",
       "    #T_746c95b0_925e_11eb_adab_8c04ba3e1d36row0_col3 {\n",
       "            width:  10em;\n",
       "             height:  80%;\n",
       "            background:  linear-gradient(90deg,#5fba7d 60.1%, transparent 60.1%);\n",
       "        }    #T_746c95b0_925e_11eb_adab_8c04ba3e1d36row0_col4 {\n",
       "            width:  10em;\n",
       "             height:  80%;\n",
       "            background:  linear-gradient(90deg,#5fba7d 67.5%, transparent 67.5%);\n",
       "        }    #T_746c95b0_925e_11eb_adab_8c04ba3e1d36row1_col3 {\n",
       "            width:  10em;\n",
       "             height:  80%;\n",
       "            background:  linear-gradient(90deg,#5fba7d 100.0%, transparent 100.0%);\n",
       "        }    #T_746c95b0_925e_11eb_adab_8c04ba3e1d36row1_col4 {\n",
       "            width:  10em;\n",
       "             height:  80%;\n",
       "            background:  linear-gradient(90deg,#5fba7d 100.0%, transparent 100.0%);\n",
       "        }    #T_746c95b0_925e_11eb_adab_8c04ba3e1d36row2_col3 {\n",
       "            width:  10em;\n",
       "             height:  80%;\n",
       "        }    #T_746c95b0_925e_11eb_adab_8c04ba3e1d36row2_col4 {\n",
       "            width:  10em;\n",
       "             height:  80%;\n",
       "        }</style><table id=\"T_746c95b0_925e_11eb_adab_8c04ba3e1d36\" ><thead>    <tr>        <th class=\"blank level0\" ></th>        <th class=\"col_heading level0 col0\" >Best threshold</th>        <th class=\"col_heading level0 col1\" >Precision</th>        <th class=\"col_heading level0 col2\" >Recall</th>        <th class=\"col_heading level0 col3\" >F measure</th>        <th class=\"col_heading level0 col4\" >Accuracy</th>        <th class=\"col_heading level0 col5\" >True Positives</th>        <th class=\"col_heading level0 col6\" >False Positives</th>        <th class=\"col_heading level0 col7\" >False Negatives</th>    </tr></thead><tbody>\n",
       "                <tr>\n",
       "                        <th id=\"T_746c95b0_925e_11eb_adab_8c04ba3e1d36level0_row0\" class=\"row_heading level0 row0\" >T: 5</th>\n",
       "                        <td id=\"T_746c95b0_925e_11eb_adab_8c04ba3e1d36row0_col0\" class=\"data row0 col0\" >0.050000</td>\n",
       "                        <td id=\"T_746c95b0_925e_11eb_adab_8c04ba3e1d36row0_col1\" class=\"data row0 col1\" >0.751000</td>\n",
       "                        <td id=\"T_746c95b0_925e_11eb_adab_8c04ba3e1d36row0_col2\" class=\"data row0 col2\" >0.664000</td>\n",
       "                        <td id=\"T_746c95b0_925e_11eb_adab_8c04ba3e1d36row0_col3\" class=\"data row0 col3\" >0.679700</td>\n",
       "                        <td id=\"T_746c95b0_925e_11eb_adab_8c04ba3e1d36row0_col4\" class=\"data row0 col4\" >0.527000</td>\n",
       "                        <td id=\"T_746c95b0_925e_11eb_adab_8c04ba3e1d36row0_col5\" class=\"data row0 col5\" >174.200000</td>\n",
       "                        <td id=\"T_746c95b0_925e_11eb_adab_8c04ba3e1d36row0_col6\" class=\"data row0 col6\" >86.400000</td>\n",
       "                        <td id=\"T_746c95b0_925e_11eb_adab_8c04ba3e1d36row0_col7\" class=\"data row0 col7\" >77.266700</td>\n",
       "            </tr>\n",
       "            <tr>\n",
       "                        <th id=\"T_746c95b0_925e_11eb_adab_8c04ba3e1d36level0_row1\" class=\"row_heading level0 row1\" >T: 10</th>\n",
       "                        <td id=\"T_746c95b0_925e_11eb_adab_8c04ba3e1d36row1_col0\" class=\"data row1 col0\" >0.070000</td>\n",
       "                        <td id=\"T_746c95b0_925e_11eb_adab_8c04ba3e1d36row1_col1\" class=\"data row1 col1\" >0.710000</td>\n",
       "                        <td id=\"T_746c95b0_925e_11eb_adab_8c04ba3e1d36row1_col2\" class=\"data row1 col2\" >0.713400</td>\n",
       "                        <td id=\"T_746c95b0_925e_11eb_adab_8c04ba3e1d36row1_col3\" class=\"data row1 col3\" >0.691800</td>\n",
       "                        <td id=\"T_746c95b0_925e_11eb_adab_8c04ba3e1d36row1_col4\" class=\"data row1 col4\" >0.538500</td>\n",
       "                        <td id=\"T_746c95b0_925e_11eb_adab_8c04ba3e1d36row1_col5\" class=\"data row1 col5\" >182.566700</td>\n",
       "                        <td id=\"T_746c95b0_925e_11eb_adab_8c04ba3e1d36row1_col6\" class=\"data row1 col6\" >104.833300</td>\n",
       "                        <td id=\"T_746c95b0_925e_11eb_adab_8c04ba3e1d36row1_col7\" class=\"data row1 col7\" >68.733300</td>\n",
       "            </tr>\n",
       "            <tr>\n",
       "                        <th id=\"T_746c95b0_925e_11eb_adab_8c04ba3e1d36level0_row2\" class=\"row_heading level0 row2\" >T: 20</th>\n",
       "                        <td id=\"T_746c95b0_925e_11eb_adab_8c04ba3e1d36row2_col0\" class=\"data row2 col0\" >0.130000</td>\n",
       "                        <td id=\"T_746c95b0_925e_11eb_adab_8c04ba3e1d36row2_col1\" class=\"data row2 col1\" >0.715500</td>\n",
       "                        <td id=\"T_746c95b0_925e_11eb_adab_8c04ba3e1d36row2_col2\" class=\"data row2 col2\" >0.637100</td>\n",
       "                        <td id=\"T_746c95b0_925e_11eb_adab_8c04ba3e1d36row2_col3\" class=\"data row2 col3\" >0.661500</td>\n",
       "                        <td id=\"T_746c95b0_925e_11eb_adab_8c04ba3e1d36row2_col4\" class=\"data row2 col4\" >0.503100</td>\n",
       "                        <td id=\"T_746c95b0_925e_11eb_adab_8c04ba3e1d36row2_col5\" class=\"data row2 col5\" >158.333300</td>\n",
       "                        <td id=\"T_746c95b0_925e_11eb_adab_8c04ba3e1d36row2_col6\" class=\"data row2 col6\" >80.133300</td>\n",
       "                        <td id=\"T_746c95b0_925e_11eb_adab_8c04ba3e1d36row2_col7\" class=\"data row2 col7\" >93.033300</td>\n",
       "            </tr>\n",
       "    </tbody></table>"
      ],
      "text/plain": [
       "<pandas.io.formats.style.Styler at 0x24c813f8580>"
      ]
     },
     "metadata": {},
     "output_type": "display_data"
    },
    {
     "data": {
      "text/markdown": [
       "### When optimizing the threshold on each song"
      ],
      "text/plain": [
       "<IPython.core.display.Markdown object>"
      ]
     },
     "metadata": {},
     "output_type": "display_data"
    },
    {
     "data": {
      "text/html": [
       "<style  type=\"text/css\" >\n",
       "    #T_746fa0d9_925e_11eb_9477_8c04ba3e1d36row0_col2 {\n",
       "            width:  10em;\n",
       "             height:  80%;\n",
       "            background:  linear-gradient(90deg,#5fba7d 72.4%, transparent 72.4%);\n",
       "        }    #T_746fa0d9_925e_11eb_9477_8c04ba3e1d36row0_col3 {\n",
       "            width:  10em;\n",
       "             height:  80%;\n",
       "            background:  linear-gradient(90deg,#5fba7d 74.2%, transparent 74.2%);\n",
       "        }    #T_746fa0d9_925e_11eb_9477_8c04ba3e1d36row1_col2 {\n",
       "            width:  10em;\n",
       "             height:  80%;\n",
       "            background:  linear-gradient(90deg,#5fba7d 100.0%, transparent 100.0%);\n",
       "        }    #T_746fa0d9_925e_11eb_9477_8c04ba3e1d36row1_col3 {\n",
       "            width:  10em;\n",
       "             height:  80%;\n",
       "            background:  linear-gradient(90deg,#5fba7d 100.0%, transparent 100.0%);\n",
       "        }    #T_746fa0d9_925e_11eb_9477_8c04ba3e1d36row2_col2 {\n",
       "            width:  10em;\n",
       "             height:  80%;\n",
       "        }    #T_746fa0d9_925e_11eb_9477_8c04ba3e1d36row2_col3 {\n",
       "            width:  10em;\n",
       "             height:  80%;\n",
       "        }</style><table id=\"T_746fa0d9_925e_11eb_9477_8c04ba3e1d36\" ><thead>    <tr>        <th class=\"blank level0\" ></th>        <th class=\"col_heading level0 col0\" >Precision</th>        <th class=\"col_heading level0 col1\" >Recall</th>        <th class=\"col_heading level0 col2\" >F measure</th>        <th class=\"col_heading level0 col3\" >Accuracy</th>        <th class=\"col_heading level0 col4\" >True Positives</th>        <th class=\"col_heading level0 col5\" >False Positives</th>        <th class=\"col_heading level0 col6\" >False Negatives</th>    </tr></thead><tbody>\n",
       "                <tr>\n",
       "                        <th id=\"T_746fa0d9_925e_11eb_9477_8c04ba3e1d36level0_row0\" class=\"row_heading level0 row0\" >T: 5</th>\n",
       "                        <td id=\"T_746fa0d9_925e_11eb_9477_8c04ba3e1d36row0_col0\" class=\"data row0 col0\" >0.775500</td>\n",
       "                        <td id=\"T_746fa0d9_925e_11eb_9477_8c04ba3e1d36row0_col1\" class=\"data row0 col1\" >0.679900</td>\n",
       "                        <td id=\"T_746fa0d9_925e_11eb_9477_8c04ba3e1d36row0_col2\" class=\"data row0 col2\" >0.720100</td>\n",
       "                        <td id=\"T_746fa0d9_925e_11eb_9477_8c04ba3e1d36row0_col3\" class=\"data row0 col3\" >0.571400</td>\n",
       "                        <td id=\"T_746fa0d9_925e_11eb_9477_8c04ba3e1d36row0_col4\" class=\"data row0 col4\" >172.633300</td>\n",
       "                        <td id=\"T_746fa0d9_925e_11eb_9477_8c04ba3e1d36row0_col5\" class=\"data row0 col5\" >52.733300</td>\n",
       "                        <td id=\"T_746fa0d9_925e_11eb_9477_8c04ba3e1d36row0_col6\" class=\"data row0 col6\" >78.766700</td>\n",
       "            </tr>\n",
       "            <tr>\n",
       "                        <th id=\"T_746fa0d9_925e_11eb_9477_8c04ba3e1d36level0_row1\" class=\"row_heading level0 row1\" >T: 10</th>\n",
       "                        <td id=\"T_746fa0d9_925e_11eb_9477_8c04ba3e1d36row1_col0\" class=\"data row1 col0\" >0.774700</td>\n",
       "                        <td id=\"T_746fa0d9_925e_11eb_9477_8c04ba3e1d36row1_col1\" class=\"data row1 col1\" >0.700500</td>\n",
       "                        <td id=\"T_746fa0d9_925e_11eb_9477_8c04ba3e1d36row1_col2\" class=\"data row1 col2\" >0.731900</td>\n",
       "                        <td id=\"T_746fa0d9_925e_11eb_9477_8c04ba3e1d36row1_col3\" class=\"data row1 col3\" >0.585200</td>\n",
       "                        <td id=\"T_746fa0d9_925e_11eb_9477_8c04ba3e1d36row1_col4\" class=\"data row1 col4\" >174.633300</td>\n",
       "                        <td id=\"T_746fa0d9_925e_11eb_9477_8c04ba3e1d36row1_col5\" class=\"data row1 col5\" >55.966700</td>\n",
       "                        <td id=\"T_746fa0d9_925e_11eb_9477_8c04ba3e1d36row1_col6\" class=\"data row1 col6\" >76.733300</td>\n",
       "            </tr>\n",
       "            <tr>\n",
       "                        <th id=\"T_746fa0d9_925e_11eb_9477_8c04ba3e1d36level0_row2\" class=\"row_heading level0 row2\" >T: 20</th>\n",
       "                        <td id=\"T_746fa0d9_925e_11eb_9477_8c04ba3e1d36row2_col0\" class=\"data row2 col0\" >0.731200</td>\n",
       "                        <td id=\"T_746fa0d9_925e_11eb_9477_8c04ba3e1d36row2_col1\" class=\"data row2 col1\" >0.657900</td>\n",
       "                        <td id=\"T_746fa0d9_925e_11eb_9477_8c04ba3e1d36row2_col2\" class=\"data row2 col2\" >0.689100</td>\n",
       "                        <td id=\"T_746fa0d9_925e_11eb_9477_8c04ba3e1d36row2_col3\" class=\"data row2 col3\" >0.531800</td>\n",
       "                        <td id=\"T_746fa0d9_925e_11eb_9477_8c04ba3e1d36row2_col4\" class=\"data row2 col4\" >163.033300</td>\n",
       "                        <td id=\"T_746fa0d9_925e_11eb_9477_8c04ba3e1d36row2_col5\" class=\"data row2 col5\" >67.233300</td>\n",
       "                        <td id=\"T_746fa0d9_925e_11eb_9477_8c04ba3e1d36row2_col6\" class=\"data row2 col6\" >88.466700</td>\n",
       "            </tr>\n",
       "    </tbody></table>"
      ],
      "text/plain": [
       "<pandas.io.formats.style.Styler at 0x24c80f0cfa0>"
      ]
     },
     "metadata": {},
     "output_type": "display_data"
    },
    {
     "data": {
      "text/markdown": [
       "## Piano for W: ENSTDkAm, and for H: ENSTDkCl"
      ],
      "text/plain": [
       "<IPython.core.display.Markdown object>"
      ]
     },
     "metadata": {},
     "output_type": "display_data"
    },
    {
     "data": {
      "text/markdown": [
       "### When averaging each threshold on all MAPS"
      ],
      "text/plain": [
       "<IPython.core.display.Markdown object>"
      ]
     },
     "metadata": {},
     "output_type": "display_data"
    },
    {
     "data": {
      "text/html": [
       "<style  type=\"text/css\" >\n",
       "    #T_30b101e9_9260_11eb_974a_8c04ba3e1d36row0_col3 {\n",
       "            width:  10em;\n",
       "             height:  80%;\n",
       "        }    #T_30b101e9_9260_11eb_974a_8c04ba3e1d36row0_col4 {\n",
       "            width:  10em;\n",
       "             height:  80%;\n",
       "        }    #T_30b101e9_9260_11eb_974a_8c04ba3e1d36row1_col3 {\n",
       "            width:  10em;\n",
       "             height:  80%;\n",
       "            background:  linear-gradient(90deg,#5fba7d 100.0%, transparent 100.0%);\n",
       "        }    #T_30b101e9_9260_11eb_974a_8c04ba3e1d36row1_col4 {\n",
       "            width:  10em;\n",
       "             height:  80%;\n",
       "            background:  linear-gradient(90deg,#5fba7d 100.0%, transparent 100.0%);\n",
       "        }    #T_30b101e9_9260_11eb_974a_8c04ba3e1d36row2_col3 {\n",
       "            width:  10em;\n",
       "             height:  80%;\n",
       "            background:  linear-gradient(90deg,#5fba7d 18.0%, transparent 18.0%);\n",
       "        }    #T_30b101e9_9260_11eb_974a_8c04ba3e1d36row2_col4 {\n",
       "            width:  10em;\n",
       "             height:  80%;\n",
       "            background:  linear-gradient(90deg,#5fba7d 16.5%, transparent 16.5%);\n",
       "        }</style><table id=\"T_30b101e9_9260_11eb_974a_8c04ba3e1d36\" ><thead>    <tr>        <th class=\"blank level0\" ></th>        <th class=\"col_heading level0 col0\" >Best threshold</th>        <th class=\"col_heading level0 col1\" >Precision</th>        <th class=\"col_heading level0 col2\" >Recall</th>        <th class=\"col_heading level0 col3\" >F measure</th>        <th class=\"col_heading level0 col4\" >Accuracy</th>        <th class=\"col_heading level0 col5\" >True Positives</th>        <th class=\"col_heading level0 col6\" >False Positives</th>        <th class=\"col_heading level0 col7\" >False Negatives</th>    </tr></thead><tbody>\n",
       "                <tr>\n",
       "                        <th id=\"T_30b101e9_9260_11eb_974a_8c04ba3e1d36level0_row0\" class=\"row_heading level0 row0\" >T: 5</th>\n",
       "                        <td id=\"T_30b101e9_9260_11eb_974a_8c04ba3e1d36row0_col0\" class=\"data row0 col0\" >0.110000</td>\n",
       "                        <td id=\"T_30b101e9_9260_11eb_974a_8c04ba3e1d36row0_col1\" class=\"data row0 col1\" >0.726300</td>\n",
       "                        <td id=\"T_30b101e9_9260_11eb_974a_8c04ba3e1d36row0_col2\" class=\"data row0 col2\" >0.674700</td>\n",
       "                        <td id=\"T_30b101e9_9260_11eb_974a_8c04ba3e1d36row0_col3\" class=\"data row0 col3\" >0.676700</td>\n",
       "                        <td id=\"T_30b101e9_9260_11eb_974a_8c04ba3e1d36row0_col4\" class=\"data row0 col4\" >0.521200</td>\n",
       "                        <td id=\"T_30b101e9_9260_11eb_974a_8c04ba3e1d36row0_col5\" class=\"data row0 col5\" >166.733300</td>\n",
       "                        <td id=\"T_30b101e9_9260_11eb_974a_8c04ba3e1d36row0_col6\" class=\"data row0 col6\" >88.400000</td>\n",
       "                        <td id=\"T_30b101e9_9260_11eb_974a_8c04ba3e1d36row0_col7\" class=\"data row0 col7\" >78.100000</td>\n",
       "            </tr>\n",
       "            <tr>\n",
       "                        <th id=\"T_30b101e9_9260_11eb_974a_8c04ba3e1d36level0_row1\" class=\"row_heading level0 row1\" >T: 10</th>\n",
       "                        <td id=\"T_30b101e9_9260_11eb_974a_8c04ba3e1d36row1_col0\" class=\"data row1 col0\" >0.170000</td>\n",
       "                        <td id=\"T_30b101e9_9260_11eb_974a_8c04ba3e1d36row1_col1\" class=\"data row1 col1\" >0.765200</td>\n",
       "                        <td id=\"T_30b101e9_9260_11eb_974a_8c04ba3e1d36row1_col2\" class=\"data row1 col2\" >0.706300</td>\n",
       "                        <td id=\"T_30b101e9_9260_11eb_974a_8c04ba3e1d36row1_col3\" class=\"data row1 col3\" >0.716600</td>\n",
       "                        <td id=\"T_30b101e9_9260_11eb_974a_8c04ba3e1d36row1_col4\" class=\"data row1 col4\" >0.569700</td>\n",
       "                        <td id=\"T_30b101e9_9260_11eb_974a_8c04ba3e1d36row1_col5\" class=\"data row1 col5\" >172.033300</td>\n",
       "                        <td id=\"T_30b101e9_9260_11eb_974a_8c04ba3e1d36row1_col6\" class=\"data row1 col6\" >76.300000</td>\n",
       "                        <td id=\"T_30b101e9_9260_11eb_974a_8c04ba3e1d36row1_col7\" class=\"data row1 col7\" >72.966700</td>\n",
       "            </tr>\n",
       "            <tr>\n",
       "                        <th id=\"T_30b101e9_9260_11eb_974a_8c04ba3e1d36level0_row2\" class=\"row_heading level0 row2\" >T: 20</th>\n",
       "                        <td id=\"T_30b101e9_9260_11eb_974a_8c04ba3e1d36row2_col0\" class=\"data row2 col0\" >0.250000</td>\n",
       "                        <td id=\"T_30b101e9_9260_11eb_974a_8c04ba3e1d36row2_col1\" class=\"data row2 col1\" >0.699400</td>\n",
       "                        <td id=\"T_30b101e9_9260_11eb_974a_8c04ba3e1d36row2_col2\" class=\"data row2 col2\" >0.695000</td>\n",
       "                        <td id=\"T_30b101e9_9260_11eb_974a_8c04ba3e1d36row2_col3\" class=\"data row2 col3\" >0.683900</td>\n",
       "                        <td id=\"T_30b101e9_9260_11eb_974a_8c04ba3e1d36row2_col4\" class=\"data row2 col4\" >0.529200</td>\n",
       "                        <td id=\"T_30b101e9_9260_11eb_974a_8c04ba3e1d36row2_col5\" class=\"data row2 col5\" >166.666700</td>\n",
       "                        <td id=\"T_30b101e9_9260_11eb_974a_8c04ba3e1d36row2_col6\" class=\"data row2 col6\" >91.100000</td>\n",
       "                        <td id=\"T_30b101e9_9260_11eb_974a_8c04ba3e1d36row2_col7\" class=\"data row2 col7\" >78.000000</td>\n",
       "            </tr>\n",
       "    </tbody></table>"
      ],
      "text/plain": [
       "<pandas.io.formats.style.Styler at 0x24c80dc1580>"
      ]
     },
     "metadata": {},
     "output_type": "display_data"
    },
    {
     "data": {
      "text/markdown": [
       "### When optimizing the threshold on each song"
      ],
      "text/plain": [
       "<IPython.core.display.Markdown object>"
      ]
     },
     "metadata": {},
     "output_type": "display_data"
    },
    {
     "data": {
      "text/html": [
       "<style  type=\"text/css\" >\n",
       "    #T_30b4340b_9260_11eb_96ce_8c04ba3e1d36row0_col2 {\n",
       "            width:  10em;\n",
       "             height:  80%;\n",
       "        }    #T_30b4340b_9260_11eb_96ce_8c04ba3e1d36row0_col3 {\n",
       "            width:  10em;\n",
       "             height:  80%;\n",
       "        }    #T_30b4340b_9260_11eb_96ce_8c04ba3e1d36row1_col2 {\n",
       "            width:  10em;\n",
       "             height:  80%;\n",
       "            background:  linear-gradient(90deg,#5fba7d 100.0%, transparent 100.0%);\n",
       "        }    #T_30b4340b_9260_11eb_96ce_8c04ba3e1d36row1_col3 {\n",
       "            width:  10em;\n",
       "             height:  80%;\n",
       "            background:  linear-gradient(90deg,#5fba7d 100.0%, transparent 100.0%);\n",
       "        }    #T_30b4340b_9260_11eb_96ce_8c04ba3e1d36row2_col2 {\n",
       "            width:  10em;\n",
       "             height:  80%;\n",
       "            background:  linear-gradient(90deg,#5fba7d 9.0%, transparent 9.0%);\n",
       "        }    #T_30b4340b_9260_11eb_96ce_8c04ba3e1d36row2_col3 {\n",
       "            width:  10em;\n",
       "             height:  80%;\n",
       "            background:  linear-gradient(90deg,#5fba7d 9.4%, transparent 9.4%);\n",
       "        }</style><table id=\"T_30b4340b_9260_11eb_96ce_8c04ba3e1d36\" ><thead>    <tr>        <th class=\"blank level0\" ></th>        <th class=\"col_heading level0 col0\" >Precision</th>        <th class=\"col_heading level0 col1\" >Recall</th>        <th class=\"col_heading level0 col2\" >F measure</th>        <th class=\"col_heading level0 col3\" >Accuracy</th>        <th class=\"col_heading level0 col4\" >True Positives</th>        <th class=\"col_heading level0 col5\" >False Positives</th>        <th class=\"col_heading level0 col6\" >False Negatives</th>    </tr></thead><tbody>\n",
       "                <tr>\n",
       "                        <th id=\"T_30b4340b_9260_11eb_96ce_8c04ba3e1d36level0_row0\" class=\"row_heading level0 row0\" >T: 5</th>\n",
       "                        <td id=\"T_30b4340b_9260_11eb_96ce_8c04ba3e1d36row0_col0\" class=\"data row0 col0\" >0.746400</td>\n",
       "                        <td id=\"T_30b4340b_9260_11eb_96ce_8c04ba3e1d36row0_col1\" class=\"data row0 col1\" >0.695200</td>\n",
       "                        <td id=\"T_30b4340b_9260_11eb_96ce_8c04ba3e1d36row0_col2\" class=\"data row0 col2\" >0.714500</td>\n",
       "                        <td id=\"T_30b4340b_9260_11eb_96ce_8c04ba3e1d36row0_col3\" class=\"data row0 col3\" >0.563100</td>\n",
       "                        <td id=\"T_30b4340b_9260_11eb_96ce_8c04ba3e1d36row0_col4\" class=\"data row0 col4\" >169.833300</td>\n",
       "                        <td id=\"T_30b4340b_9260_11eb_96ce_8c04ba3e1d36row0_col5\" class=\"data row0 col5\" >59.266700</td>\n",
       "                        <td id=\"T_30b4340b_9260_11eb_96ce_8c04ba3e1d36row0_col6\" class=\"data row0 col6\" >74.966700</td>\n",
       "            </tr>\n",
       "            <tr>\n",
       "                        <th id=\"T_30b4340b_9260_11eb_96ce_8c04ba3e1d36level0_row1\" class=\"row_heading level0 row1\" >T: 10</th>\n",
       "                        <td id=\"T_30b4340b_9260_11eb_96ce_8c04ba3e1d36row1_col0\" class=\"data row1 col0\" >0.779800</td>\n",
       "                        <td id=\"T_30b4340b_9260_11eb_96ce_8c04ba3e1d36row1_col1\" class=\"data row1 col1\" >0.735000</td>\n",
       "                        <td id=\"T_30b4340b_9260_11eb_96ce_8c04ba3e1d36row1_col2\" class=\"data row1 col2\" >0.753500</td>\n",
       "                        <td id=\"T_30b4340b_9260_11eb_96ce_8c04ba3e1d36row1_col3\" class=\"data row1 col3\" >0.612900</td>\n",
       "                        <td id=\"T_30b4340b_9260_11eb_96ce_8c04ba3e1d36row1_col4\" class=\"data row1 col4\" >177.366700</td>\n",
       "                        <td id=\"T_30b4340b_9260_11eb_96ce_8c04ba3e1d36row1_col5\" class=\"data row1 col5\" >53.466700</td>\n",
       "                        <td id=\"T_30b4340b_9260_11eb_96ce_8c04ba3e1d36row1_col6\" class=\"data row1 col6\" >67.300000</td>\n",
       "            </tr>\n",
       "            <tr>\n",
       "                        <th id=\"T_30b4340b_9260_11eb_96ce_8c04ba3e1d36level0_row2\" class=\"row_heading level0 row2\" >T: 20</th>\n",
       "                        <td id=\"T_30b4340b_9260_11eb_96ce_8c04ba3e1d36row2_col0\" class=\"data row2 col0\" >0.765100</td>\n",
       "                        <td id=\"T_30b4340b_9260_11eb_96ce_8c04ba3e1d36row2_col1\" class=\"data row2 col1\" >0.682700</td>\n",
       "                        <td id=\"T_30b4340b_9260_11eb_96ce_8c04ba3e1d36row2_col2\" class=\"data row2 col2\" >0.718000</td>\n",
       "                        <td id=\"T_30b4340b_9260_11eb_96ce_8c04ba3e1d36row2_col3\" class=\"data row2 col3\" >0.567800</td>\n",
       "                        <td id=\"T_30b4340b_9260_11eb_96ce_8c04ba3e1d36row2_col4\" class=\"data row2 col4\" >164.300000</td>\n",
       "                        <td id=\"T_30b4340b_9260_11eb_96ce_8c04ba3e1d36row2_col5\" class=\"data row2 col5\" >56.833300</td>\n",
       "                        <td id=\"T_30b4340b_9260_11eb_96ce_8c04ba3e1d36row2_col6\" class=\"data row2 col6\" >80.600000</td>\n",
       "            </tr>\n",
       "    </tbody></table>"
      ],
      "text/plain": [
       "<pandas.io.formats.style.Styler at 0x24c81050a90>"
      ]
     },
     "metadata": {},
     "output_type": "display_data"
    },
    {
     "data": {
      "text/markdown": [
       "## Piano for W: SptkBGAm, and for H: AkPnCGdD"
      ],
      "text/plain": [
       "<IPython.core.display.Markdown object>"
      ]
     },
     "metadata": {},
     "output_type": "display_data"
    },
    {
     "data": {
      "text/markdown": [
       "### When averaging each threshold on all MAPS"
      ],
      "text/plain": [
       "<IPython.core.display.Markdown object>"
      ]
     },
     "metadata": {},
     "output_type": "display_data"
    },
    {
     "data": {
      "text/html": [
       "<style  type=\"text/css\" >\n",
       "    #T_c5acb3c9_9261_11eb_ae64_8c04ba3e1d36row0_col3 {\n",
       "            width:  10em;\n",
       "             height:  80%;\n",
       "        }    #T_c5acb3c9_9261_11eb_ae64_8c04ba3e1d36row0_col4 {\n",
       "            width:  10em;\n",
       "             height:  80%;\n",
       "        }    #T_c5acb3c9_9261_11eb_ae64_8c04ba3e1d36row1_col3 {\n",
       "            width:  10em;\n",
       "             height:  80%;\n",
       "            background:  linear-gradient(90deg,#5fba7d 100.0%, transparent 100.0%);\n",
       "        }    #T_c5acb3c9_9261_11eb_ae64_8c04ba3e1d36row1_col4 {\n",
       "            width:  10em;\n",
       "             height:  80%;\n",
       "            background:  linear-gradient(90deg,#5fba7d 100.0%, transparent 100.0%);\n",
       "        }    #T_c5acb3c9_9261_11eb_ae64_8c04ba3e1d36row2_col3 {\n",
       "            width:  10em;\n",
       "             height:  80%;\n",
       "            background:  linear-gradient(90deg,#5fba7d 98.8%, transparent 98.8%);\n",
       "        }    #T_c5acb3c9_9261_11eb_ae64_8c04ba3e1d36row2_col4 {\n",
       "            width:  10em;\n",
       "             height:  80%;\n",
       "            background:  linear-gradient(90deg,#5fba7d 99.4%, transparent 99.4%);\n",
       "        }</style><table id=\"T_c5acb3c9_9261_11eb_ae64_8c04ba3e1d36\" ><thead>    <tr>        <th class=\"blank level0\" ></th>        <th class=\"col_heading level0 col0\" >Best threshold</th>        <th class=\"col_heading level0 col1\" >Precision</th>        <th class=\"col_heading level0 col2\" >Recall</th>        <th class=\"col_heading level0 col3\" >F measure</th>        <th class=\"col_heading level0 col4\" >Accuracy</th>        <th class=\"col_heading level0 col5\" >True Positives</th>        <th class=\"col_heading level0 col6\" >False Positives</th>        <th class=\"col_heading level0 col7\" >False Negatives</th>    </tr></thead><tbody>\n",
       "                <tr>\n",
       "                        <th id=\"T_c5acb3c9_9261_11eb_ae64_8c04ba3e1d36level0_row0\" class=\"row_heading level0 row0\" >T: 5</th>\n",
       "                        <td id=\"T_c5acb3c9_9261_11eb_ae64_8c04ba3e1d36row0_col0\" class=\"data row0 col0\" >0.050000</td>\n",
       "                        <td id=\"T_c5acb3c9_9261_11eb_ae64_8c04ba3e1d36row0_col1\" class=\"data row0 col1\" >0.675100</td>\n",
       "                        <td id=\"T_c5acb3c9_9261_11eb_ae64_8c04ba3e1d36row0_col2\" class=\"data row0 col2\" >0.658100</td>\n",
       "                        <td id=\"T_c5acb3c9_9261_11eb_ae64_8c04ba3e1d36row0_col3\" class=\"data row0 col3\" >0.638000</td>\n",
       "                        <td id=\"T_c5acb3c9_9261_11eb_ae64_8c04ba3e1d36row0_col4\" class=\"data row0 col4\" >0.479500</td>\n",
       "                        <td id=\"T_c5acb3c9_9261_11eb_ae64_8c04ba3e1d36row0_col5\" class=\"data row0 col5\" >174.100000</td>\n",
       "                        <td id=\"T_c5acb3c9_9261_11eb_ae64_8c04ba3e1d36row0_col6\" class=\"data row0 col6\" >111.300000</td>\n",
       "                        <td id=\"T_c5acb3c9_9261_11eb_ae64_8c04ba3e1d36row0_col7\" class=\"data row0 col7\" >77.300000</td>\n",
       "            </tr>\n",
       "            <tr>\n",
       "                        <th id=\"T_c5acb3c9_9261_11eb_ae64_8c04ba3e1d36level0_row1\" class=\"row_heading level0 row1\" >T: 10</th>\n",
       "                        <td id=\"T_c5acb3c9_9261_11eb_ae64_8c04ba3e1d36row1_col0\" class=\"data row1 col0\" >0.070000</td>\n",
       "                        <td id=\"T_c5acb3c9_9261_11eb_ae64_8c04ba3e1d36row1_col1\" class=\"data row1 col1\" >0.695100</td>\n",
       "                        <td id=\"T_c5acb3c9_9261_11eb_ae64_8c04ba3e1d36row1_col2\" class=\"data row1 col2\" >0.744200</td>\n",
       "                        <td id=\"T_c5acb3c9_9261_11eb_ae64_8c04ba3e1d36row1_col3\" class=\"data row1 col3\" >0.702100</td>\n",
       "                        <td id=\"T_c5acb3c9_9261_11eb_ae64_8c04ba3e1d36row1_col4\" class=\"data row1 col4\" >0.548700</td>\n",
       "                        <td id=\"T_c5acb3c9_9261_11eb_ae64_8c04ba3e1d36row1_col5\" class=\"data row1 col5\" >189.900000</td>\n",
       "                        <td id=\"T_c5acb3c9_9261_11eb_ae64_8c04ba3e1d36row1_col6\" class=\"data row1 col6\" >103.633300</td>\n",
       "                        <td id=\"T_c5acb3c9_9261_11eb_ae64_8c04ba3e1d36row1_col7\" class=\"data row1 col7\" >61.500000</td>\n",
       "            </tr>\n",
       "            <tr>\n",
       "                        <th id=\"T_c5acb3c9_9261_11eb_ae64_8c04ba3e1d36level0_row2\" class=\"row_heading level0 row2\" >T: 20</th>\n",
       "                        <td id=\"T_c5acb3c9_9261_11eb_ae64_8c04ba3e1d36row2_col0\" class=\"data row2 col0\" >0.130000</td>\n",
       "                        <td id=\"T_c5acb3c9_9261_11eb_ae64_8c04ba3e1d36row2_col1\" class=\"data row2 col1\" >0.739100</td>\n",
       "                        <td id=\"T_c5acb3c9_9261_11eb_ae64_8c04ba3e1d36row2_col2\" class=\"data row2 col2\" >0.694200</td>\n",
       "                        <td id=\"T_c5acb3c9_9261_11eb_ae64_8c04ba3e1d36row2_col3\" class=\"data row2 col3\" >0.701300</td>\n",
       "                        <td id=\"T_c5acb3c9_9261_11eb_ae64_8c04ba3e1d36row2_col4\" class=\"data row2 col4\" >0.548300</td>\n",
       "                        <td id=\"T_c5acb3c9_9261_11eb_ae64_8c04ba3e1d36row2_col5\" class=\"data row2 col5\" >172.933300</td>\n",
       "                        <td id=\"T_c5acb3c9_9261_11eb_ae64_8c04ba3e1d36row2_col6\" class=\"data row2 col6\" >73.033300</td>\n",
       "                        <td id=\"T_c5acb3c9_9261_11eb_ae64_8c04ba3e1d36row2_col7\" class=\"data row2 col7\" >78.533300</td>\n",
       "            </tr>\n",
       "    </tbody></table>"
      ],
      "text/plain": [
       "<pandas.io.formats.style.Styler at 0x24c81388e80>"
      ]
     },
     "metadata": {},
     "output_type": "display_data"
    },
    {
     "data": {
      "text/markdown": [
       "### When optimizing the threshold on each song"
      ],
      "text/plain": [
       "<IPython.core.display.Markdown object>"
      ]
     },
     "metadata": {},
     "output_type": "display_data"
    },
    {
     "data": {
      "text/html": [
       "<style  type=\"text/css\" >\n",
       "    #T_c5ae874d_9261_11eb_b848_8c04ba3e1d36row0_col2 {\n",
       "            width:  10em;\n",
       "             height:  80%;\n",
       "        }    #T_c5ae874d_9261_11eb_b848_8c04ba3e1d36row0_col3 {\n",
       "            width:  10em;\n",
       "             height:  80%;\n",
       "        }    #T_c5ae874d_9261_11eb_b848_8c04ba3e1d36row1_col2 {\n",
       "            width:  10em;\n",
       "             height:  80%;\n",
       "            background:  linear-gradient(90deg,#5fba7d 100.0%, transparent 100.0%);\n",
       "        }    #T_c5ae874d_9261_11eb_b848_8c04ba3e1d36row1_col3 {\n",
       "            width:  10em;\n",
       "             height:  80%;\n",
       "            background:  linear-gradient(90deg,#5fba7d 100.0%, transparent 100.0%);\n",
       "        }    #T_c5ae874d_9261_11eb_b848_8c04ba3e1d36row2_col2 {\n",
       "            width:  10em;\n",
       "             height:  80%;\n",
       "            background:  linear-gradient(90deg,#5fba7d 93.2%, transparent 93.2%);\n",
       "        }    #T_c5ae874d_9261_11eb_b848_8c04ba3e1d36row2_col3 {\n",
       "            width:  10em;\n",
       "             height:  80%;\n",
       "            background:  linear-gradient(90deg,#5fba7d 92.9%, transparent 92.9%);\n",
       "        }</style><table id=\"T_c5ae874d_9261_11eb_b848_8c04ba3e1d36\" ><thead>    <tr>        <th class=\"blank level0\" ></th>        <th class=\"col_heading level0 col0\" >Precision</th>        <th class=\"col_heading level0 col1\" >Recall</th>        <th class=\"col_heading level0 col2\" >F measure</th>        <th class=\"col_heading level0 col3\" >Accuracy</th>        <th class=\"col_heading level0 col4\" >True Positives</th>        <th class=\"col_heading level0 col5\" >False Positives</th>        <th class=\"col_heading level0 col6\" >False Negatives</th>    </tr></thead><tbody>\n",
       "                <tr>\n",
       "                        <th id=\"T_c5ae874d_9261_11eb_b848_8c04ba3e1d36level0_row0\" class=\"row_heading level0 row0\" >T: 5</th>\n",
       "                        <td id=\"T_c5ae874d_9261_11eb_b848_8c04ba3e1d36row0_col0\" class=\"data row0 col0\" >0.706700</td>\n",
       "                        <td id=\"T_c5ae874d_9261_11eb_b848_8c04ba3e1d36row0_col1\" class=\"data row0 col1\" >0.656400</td>\n",
       "                        <td id=\"T_c5ae874d_9261_11eb_b848_8c04ba3e1d36row0_col2\" class=\"data row0 col2\" >0.675600</td>\n",
       "                        <td id=\"T_c5ae874d_9261_11eb_b848_8c04ba3e1d36row0_col3\" class=\"data row0 col3\" >0.519100</td>\n",
       "                        <td id=\"T_c5ae874d_9261_11eb_b848_8c04ba3e1d36row0_col4\" class=\"data row0 col4\" >168.033300</td>\n",
       "                        <td id=\"T_c5ae874d_9261_11eb_b848_8c04ba3e1d36row0_col5\" class=\"data row0 col5\" >68.000000</td>\n",
       "                        <td id=\"T_c5ae874d_9261_11eb_b848_8c04ba3e1d36row0_col6\" class=\"data row0 col6\" >83.266700</td>\n",
       "            </tr>\n",
       "            <tr>\n",
       "                        <th id=\"T_c5ae874d_9261_11eb_b848_8c04ba3e1d36level0_row1\" class=\"row_heading level0 row1\" >T: 10</th>\n",
       "                        <td id=\"T_c5ae874d_9261_11eb_b848_8c04ba3e1d36row1_col0\" class=\"data row1 col0\" >0.733300</td>\n",
       "                        <td id=\"T_c5ae874d_9261_11eb_b848_8c04ba3e1d36row1_col1\" class=\"data row1 col1\" >0.738700</td>\n",
       "                        <td id=\"T_c5ae874d_9261_11eb_b848_8c04ba3e1d36row1_col2\" class=\"data row1 col2\" >0.732700</td>\n",
       "                        <td id=\"T_c5ae874d_9261_11eb_b848_8c04ba3e1d36row1_col3\" class=\"data row1 col3\" >0.583900</td>\n",
       "                        <td id=\"T_c5ae874d_9261_11eb_b848_8c04ba3e1d36row1_col4\" class=\"data row1 col4\" >183.600000</td>\n",
       "                        <td id=\"T_c5ae874d_9261_11eb_b848_8c04ba3e1d36row1_col5\" class=\"data row1 col5\" >63.400000</td>\n",
       "                        <td id=\"T_c5ae874d_9261_11eb_b848_8c04ba3e1d36row1_col6\" class=\"data row1 col6\" >67.866700</td>\n",
       "            </tr>\n",
       "            <tr>\n",
       "                        <th id=\"T_c5ae874d_9261_11eb_b848_8c04ba3e1d36level0_row2\" class=\"row_heading level0 row2\" >T: 20</th>\n",
       "                        <td id=\"T_c5ae874d_9261_11eb_b848_8c04ba3e1d36row2_col0\" class=\"data row2 col0\" >0.737600</td>\n",
       "                        <td id=\"T_c5ae874d_9261_11eb_b848_8c04ba3e1d36row2_col1\" class=\"data row2 col1\" >0.728200</td>\n",
       "                        <td id=\"T_c5ae874d_9261_11eb_b848_8c04ba3e1d36row2_col2\" class=\"data row2 col2\" >0.728800</td>\n",
       "                        <td id=\"T_c5ae874d_9261_11eb_b848_8c04ba3e1d36row2_col3\" class=\"data row2 col3\" >0.579300</td>\n",
       "                        <td id=\"T_c5ae874d_9261_11eb_b848_8c04ba3e1d36row2_col4\" class=\"data row2 col4\" >180.766700</td>\n",
       "                        <td id=\"T_c5ae874d_9261_11eb_b848_8c04ba3e1d36row2_col5\" class=\"data row2 col5\" >64.300000</td>\n",
       "                        <td id=\"T_c5ae874d_9261_11eb_b848_8c04ba3e1d36row2_col6\" class=\"data row2 col6\" >70.566700</td>\n",
       "            </tr>\n",
       "    </tbody></table>"
      ],
      "text/plain": [
       "<pandas.io.formats.style.Styler at 0x24c804e2e20>"
      ]
     },
     "metadata": {},
     "output_type": "display_data"
    },
    {
     "data": {
      "text/markdown": [
       "## Piano for W: SptkBGAm, and for H: ENSTDkCl"
      ],
      "text/plain": [
       "<IPython.core.display.Markdown object>"
      ]
     },
     "metadata": {},
     "output_type": "display_data"
    },
    {
     "data": {
      "text/markdown": [
       "### When averaging each threshold on all MAPS"
      ],
      "text/plain": [
       "<IPython.core.display.Markdown object>"
      ]
     },
     "metadata": {},
     "output_type": "display_data"
    },
    {
     "data": {
      "text/html": [
       "<style  type=\"text/css\" >\n",
       "    #T_8cf8045a_9263_11eb_ac1b_8c04ba3e1d36row0_col3 {\n",
       "            width:  10em;\n",
       "             height:  80%;\n",
       "        }    #T_8cf8045a_9263_11eb_ac1b_8c04ba3e1d36row0_col4 {\n",
       "            width:  10em;\n",
       "             height:  80%;\n",
       "        }    #T_8cf8045a_9263_11eb_ac1b_8c04ba3e1d36row1_col3 {\n",
       "            width:  10em;\n",
       "             height:  80%;\n",
       "            background:  linear-gradient(90deg,#5fba7d 74.2%, transparent 74.2%);\n",
       "        }    #T_8cf8045a_9263_11eb_ac1b_8c04ba3e1d36row1_col4 {\n",
       "            width:  10em;\n",
       "             height:  80%;\n",
       "            background:  linear-gradient(90deg,#5fba7d 76.4%, transparent 76.4%);\n",
       "        }    #T_8cf8045a_9263_11eb_ac1b_8c04ba3e1d36row2_col3 {\n",
       "            width:  10em;\n",
       "             height:  80%;\n",
       "            background:  linear-gradient(90deg,#5fba7d 100.0%, transparent 100.0%);\n",
       "        }    #T_8cf8045a_9263_11eb_ac1b_8c04ba3e1d36row2_col4 {\n",
       "            width:  10em;\n",
       "             height:  80%;\n",
       "            background:  linear-gradient(90deg,#5fba7d 100.0%, transparent 100.0%);\n",
       "        }</style><table id=\"T_8cf8045a_9263_11eb_ac1b_8c04ba3e1d36\" ><thead>    <tr>        <th class=\"blank level0\" ></th>        <th class=\"col_heading level0 col0\" >Best threshold</th>        <th class=\"col_heading level0 col1\" >Precision</th>        <th class=\"col_heading level0 col2\" >Recall</th>        <th class=\"col_heading level0 col3\" >F measure</th>        <th class=\"col_heading level0 col4\" >Accuracy</th>        <th class=\"col_heading level0 col5\" >True Positives</th>        <th class=\"col_heading level0 col6\" >False Positives</th>        <th class=\"col_heading level0 col7\" >False Negatives</th>    </tr></thead><tbody>\n",
       "                <tr>\n",
       "                        <th id=\"T_8cf8045a_9263_11eb_ac1b_8c04ba3e1d36level0_row0\" class=\"row_heading level0 row0\" >T: 5</th>\n",
       "                        <td id=\"T_8cf8045a_9263_11eb_ac1b_8c04ba3e1d36row0_col0\" class=\"data row0 col0\" >0.110000</td>\n",
       "                        <td id=\"T_8cf8045a_9263_11eb_ac1b_8c04ba3e1d36row0_col1\" class=\"data row0 col1\" >0.623500</td>\n",
       "                        <td id=\"T_8cf8045a_9263_11eb_ac1b_8c04ba3e1d36row0_col2\" class=\"data row0 col2\" >0.626800</td>\n",
       "                        <td id=\"T_8cf8045a_9263_11eb_ac1b_8c04ba3e1d36row0_col3\" class=\"data row0 col3\" >0.598900</td>\n",
       "                        <td id=\"T_8cf8045a_9263_11eb_ac1b_8c04ba3e1d36row0_col4\" class=\"data row0 col4\" >0.435700</td>\n",
       "                        <td id=\"T_8cf8045a_9263_11eb_ac1b_8c04ba3e1d36row0_col5\" class=\"data row0 col5\" >156.666700</td>\n",
       "                        <td id=\"T_8cf8045a_9263_11eb_ac1b_8c04ba3e1d36row0_col6\" class=\"data row0 col6\" >125.366700</td>\n",
       "                        <td id=\"T_8cf8045a_9263_11eb_ac1b_8c04ba3e1d36row0_col7\" class=\"data row0 col7\" >88.266700</td>\n",
       "            </tr>\n",
       "            <tr>\n",
       "                        <th id=\"T_8cf8045a_9263_11eb_ac1b_8c04ba3e1d36level0_row1\" class=\"row_heading level0 row1\" >T: 10</th>\n",
       "                        <td id=\"T_8cf8045a_9263_11eb_ac1b_8c04ba3e1d36row1_col0\" class=\"data row1 col0\" >0.170000</td>\n",
       "                        <td id=\"T_8cf8045a_9263_11eb_ac1b_8c04ba3e1d36row1_col1\" class=\"data row1 col1\" >0.665600</td>\n",
       "                        <td id=\"T_8cf8045a_9263_11eb_ac1b_8c04ba3e1d36row1_col2\" class=\"data row1 col2\" >0.652500</td>\n",
       "                        <td id=\"T_8cf8045a_9263_11eb_ac1b_8c04ba3e1d36row1_col3\" class=\"data row1 col3\" >0.639800</td>\n",
       "                        <td id=\"T_8cf8045a_9263_11eb_ac1b_8c04ba3e1d36row1_col4\" class=\"data row1 col4\" >0.479000</td>\n",
       "                        <td id=\"T_8cf8045a_9263_11eb_ac1b_8c04ba3e1d36row1_col5\" class=\"data row1 col5\" >160.866700</td>\n",
       "                        <td id=\"T_8cf8045a_9263_11eb_ac1b_8c04ba3e1d36row1_col6\" class=\"data row1 col6\" >99.100000</td>\n",
       "                        <td id=\"T_8cf8045a_9263_11eb_ac1b_8c04ba3e1d36row1_col7\" class=\"data row1 col7\" >83.866700</td>\n",
       "            </tr>\n",
       "            <tr>\n",
       "                        <th id=\"T_8cf8045a_9263_11eb_ac1b_8c04ba3e1d36level0_row2\" class=\"row_heading level0 row2\" >T: 20</th>\n",
       "                        <td id=\"T_8cf8045a_9263_11eb_ac1b_8c04ba3e1d36row2_col0\" class=\"data row2 col0\" >0.250000</td>\n",
       "                        <td id=\"T_8cf8045a_9263_11eb_ac1b_8c04ba3e1d36row2_col1\" class=\"data row2 col1\" >0.662600</td>\n",
       "                        <td id=\"T_8cf8045a_9263_11eb_ac1b_8c04ba3e1d36row2_col2\" class=\"data row2 col2\" >0.672600</td>\n",
       "                        <td id=\"T_8cf8045a_9263_11eb_ac1b_8c04ba3e1d36row2_col3\" class=\"data row2 col3\" >0.654000</td>\n",
       "                        <td id=\"T_8cf8045a_9263_11eb_ac1b_8c04ba3e1d36row2_col4\" class=\"data row2 col4\" >0.492400</td>\n",
       "                        <td id=\"T_8cf8045a_9263_11eb_ac1b_8c04ba3e1d36row2_col5\" class=\"data row2 col5\" >162.066700</td>\n",
       "                        <td id=\"T_8cf8045a_9263_11eb_ac1b_8c04ba3e1d36row2_col6\" class=\"data row2 col6\" >93.533300</td>\n",
       "                        <td id=\"T_8cf8045a_9263_11eb_ac1b_8c04ba3e1d36row2_col7\" class=\"data row2 col7\" >82.800000</td>\n",
       "            </tr>\n",
       "    </tbody></table>"
      ],
      "text/plain": [
       "<pandas.io.formats.style.Styler at 0x24c804e2c40>"
      ]
     },
     "metadata": {},
     "output_type": "display_data"
    },
    {
     "data": {
      "text/markdown": [
       "### When optimizing the threshold on each song"
      ],
      "text/plain": [
       "<IPython.core.display.Markdown object>"
      ]
     },
     "metadata": {},
     "output_type": "display_data"
    },
    {
     "data": {
      "text/html": [
       "<style  type=\"text/css\" >\n",
       "    #T_8cfa25bf_9263_11eb_8e3f_8c04ba3e1d36row0_col2 {\n",
       "            width:  10em;\n",
       "             height:  80%;\n",
       "        }    #T_8cfa25bf_9263_11eb_8e3f_8c04ba3e1d36row0_col3 {\n",
       "            width:  10em;\n",
       "             height:  80%;\n",
       "        }    #T_8cfa25bf_9263_11eb_8e3f_8c04ba3e1d36row1_col2 {\n",
       "            width:  10em;\n",
       "             height:  80%;\n",
       "            background:  linear-gradient(90deg,#5fba7d 82.2%, transparent 82.2%);\n",
       "        }    #T_8cfa25bf_9263_11eb_8e3f_8c04ba3e1d36row1_col3 {\n",
       "            width:  10em;\n",
       "             height:  80%;\n",
       "            background:  linear-gradient(90deg,#5fba7d 85.4%, transparent 85.4%);\n",
       "        }    #T_8cfa25bf_9263_11eb_8e3f_8c04ba3e1d36row2_col2 {\n",
       "            width:  10em;\n",
       "             height:  80%;\n",
       "            background:  linear-gradient(90deg,#5fba7d 100.0%, transparent 100.0%);\n",
       "        }    #T_8cfa25bf_9263_11eb_8e3f_8c04ba3e1d36row2_col3 {\n",
       "            width:  10em;\n",
       "             height:  80%;\n",
       "            background:  linear-gradient(90deg,#5fba7d 100.0%, transparent 100.0%);\n",
       "        }</style><table id=\"T_8cfa25bf_9263_11eb_8e3f_8c04ba3e1d36\" ><thead>    <tr>        <th class=\"blank level0\" ></th>        <th class=\"col_heading level0 col0\" >Precision</th>        <th class=\"col_heading level0 col1\" >Recall</th>        <th class=\"col_heading level0 col2\" >F measure</th>        <th class=\"col_heading level0 col3\" >Accuracy</th>        <th class=\"col_heading level0 col4\" >True Positives</th>        <th class=\"col_heading level0 col5\" >False Positives</th>        <th class=\"col_heading level0 col6\" >False Negatives</th>    </tr></thead><tbody>\n",
       "                <tr>\n",
       "                        <th id=\"T_8cfa25bf_9263_11eb_8e3f_8c04ba3e1d36level0_row0\" class=\"row_heading level0 row0\" >T: 5</th>\n",
       "                        <td id=\"T_8cfa25bf_9263_11eb_8e3f_8c04ba3e1d36row0_col0\" class=\"data row0 col0\" >0.656200</td>\n",
       "                        <td id=\"T_8cfa25bf_9263_11eb_8e3f_8c04ba3e1d36row0_col1\" class=\"data row0 col1\" >0.622200</td>\n",
       "                        <td id=\"T_8cfa25bf_9263_11eb_8e3f_8c04ba3e1d36row0_col2\" class=\"data row0 col2\" >0.633000</td>\n",
       "                        <td id=\"T_8cfa25bf_9263_11eb_8e3f_8c04ba3e1d36row0_col3\" class=\"data row0 col3\" >0.468900</td>\n",
       "                        <td id=\"T_8cfa25bf_9263_11eb_8e3f_8c04ba3e1d36row0_col4\" class=\"data row0 col4\" >153.733300</td>\n",
       "                        <td id=\"T_8cfa25bf_9263_11eb_8e3f_8c04ba3e1d36row0_col5\" class=\"data row0 col5\" >78.633300</td>\n",
       "                        <td id=\"T_8cfa25bf_9263_11eb_8e3f_8c04ba3e1d36row0_col6\" class=\"data row0 col6\" >91.133300</td>\n",
       "            </tr>\n",
       "            <tr>\n",
       "                        <th id=\"T_8cfa25bf_9263_11eb_8e3f_8c04ba3e1d36level0_row1\" class=\"row_heading level0 row1\" >T: 10</th>\n",
       "                        <td id=\"T_8cfa25bf_9263_11eb_8e3f_8c04ba3e1d36row1_col0\" class=\"data row1 col0\" >0.688700</td>\n",
       "                        <td id=\"T_8cfa25bf_9263_11eb_8e3f_8c04ba3e1d36row1_col1\" class=\"data row1 col1\" >0.662200</td>\n",
       "                        <td id=\"T_8cfa25bf_9263_11eb_8e3f_8c04ba3e1d36row1_col2\" class=\"data row1 col2\" >0.671900</td>\n",
       "                        <td id=\"T_8cfa25bf_9263_11eb_8e3f_8c04ba3e1d36row1_col3\" class=\"data row1 col3\" >0.513200</td>\n",
       "                        <td id=\"T_8cfa25bf_9263_11eb_8e3f_8c04ba3e1d36row1_col4\" class=\"data row1 col4\" >161.400000</td>\n",
       "                        <td id=\"T_8cfa25bf_9263_11eb_8e3f_8c04ba3e1d36row1_col5\" class=\"data row1 col5\" >72.633300</td>\n",
       "                        <td id=\"T_8cfa25bf_9263_11eb_8e3f_8c04ba3e1d36row1_col6\" class=\"data row1 col6\" >83.300000</td>\n",
       "            </tr>\n",
       "            <tr>\n",
       "                        <th id=\"T_8cfa25bf_9263_11eb_8e3f_8c04ba3e1d36level0_row2\" class=\"row_heading level0 row2\" >T: 20</th>\n",
       "                        <td id=\"T_8cfa25bf_9263_11eb_8e3f_8c04ba3e1d36row2_col0\" class=\"data row2 col0\" >0.679400</td>\n",
       "                        <td id=\"T_8cfa25bf_9263_11eb_8e3f_8c04ba3e1d36row2_col1\" class=\"data row2 col1\" >0.685700</td>\n",
       "                        <td id=\"T_8cfa25bf_9263_11eb_8e3f_8c04ba3e1d36row2_col2\" class=\"data row2 col2\" >0.680300</td>\n",
       "                        <td id=\"T_8cfa25bf_9263_11eb_8e3f_8c04ba3e1d36row2_col3\" class=\"data row2 col3\" >0.520800</td>\n",
       "                        <td id=\"T_8cfa25bf_9263_11eb_8e3f_8c04ba3e1d36row2_col4\" class=\"data row2 col4\" >165.266700</td>\n",
       "                        <td id=\"T_8cfa25bf_9263_11eb_8e3f_8c04ba3e1d36row2_col5\" class=\"data row2 col5\" >77.433300</td>\n",
       "                        <td id=\"T_8cfa25bf_9263_11eb_8e3f_8c04ba3e1d36row2_col6\" class=\"data row2 col6\" >79.600000</td>\n",
       "            </tr>\n",
       "    </tbody></table>"
      ],
      "text/plain": [
       "<pandas.io.formats.style.Styler at 0x24c832289a0>"
      ]
     },
     "metadata": {},
     "output_type": "display_data"
    },
    {
     "data": {
      "text/markdown": [
       "## Piano for W: StbgTGd2, and for H: AkPnCGdD"
      ],
      "text/plain": [
       "<IPython.core.display.Markdown object>"
      ]
     },
     "metadata": {},
     "output_type": "display_data"
    },
    {
     "data": {
      "text/markdown": [
       "### When averaging each threshold on all MAPS"
      ],
      "text/plain": [
       "<IPython.core.display.Markdown object>"
      ]
     },
     "metadata": {},
     "output_type": "display_data"
    },
    {
     "data": {
      "text/html": [
       "<style  type=\"text/css\" >\n",
       "    #T_5a18d4d7_9265_11eb_8ba2_8c04ba3e1d36row0_col3 {\n",
       "            width:  10em;\n",
       "             height:  80%;\n",
       "        }    #T_5a18d4d7_9265_11eb_8ba2_8c04ba3e1d36row0_col4 {\n",
       "            width:  10em;\n",
       "             height:  80%;\n",
       "        }    #T_5a18d4d7_9265_11eb_8ba2_8c04ba3e1d36row1_col3 {\n",
       "            width:  10em;\n",
       "             height:  80%;\n",
       "            background:  linear-gradient(90deg,#5fba7d 85.4%, transparent 85.4%);\n",
       "        }    #T_5a18d4d7_9265_11eb_8ba2_8c04ba3e1d36row1_col4 {\n",
       "            width:  10em;\n",
       "             height:  80%;\n",
       "            background:  linear-gradient(90deg,#5fba7d 85.1%, transparent 85.1%);\n",
       "        }    #T_5a18d4d7_9265_11eb_8ba2_8c04ba3e1d36row2_col3 {\n",
       "            width:  10em;\n",
       "             height:  80%;\n",
       "            background:  linear-gradient(90deg,#5fba7d 100.0%, transparent 100.0%);\n",
       "        }    #T_5a18d4d7_9265_11eb_8ba2_8c04ba3e1d36row2_col4 {\n",
       "            width:  10em;\n",
       "             height:  80%;\n",
       "            background:  linear-gradient(90deg,#5fba7d 100.0%, transparent 100.0%);\n",
       "        }</style><table id=\"T_5a18d4d7_9265_11eb_8ba2_8c04ba3e1d36\" ><thead>    <tr>        <th class=\"blank level0\" ></th>        <th class=\"col_heading level0 col0\" >Best threshold</th>        <th class=\"col_heading level0 col1\" >Precision</th>        <th class=\"col_heading level0 col2\" >Recall</th>        <th class=\"col_heading level0 col3\" >F measure</th>        <th class=\"col_heading level0 col4\" >Accuracy</th>        <th class=\"col_heading level0 col5\" >True Positives</th>        <th class=\"col_heading level0 col6\" >False Positives</th>        <th class=\"col_heading level0 col7\" >False Negatives</th>    </tr></thead><tbody>\n",
       "                <tr>\n",
       "                        <th id=\"T_5a18d4d7_9265_11eb_8ba2_8c04ba3e1d36level0_row0\" class=\"row_heading level0 row0\" >T: 5</th>\n",
       "                        <td id=\"T_5a18d4d7_9265_11eb_8ba2_8c04ba3e1d36row0_col0\" class=\"data row0 col0\" >0.050000</td>\n",
       "                        <td id=\"T_5a18d4d7_9265_11eb_8ba2_8c04ba3e1d36row0_col1\" class=\"data row0 col1\" >0.699400</td>\n",
       "                        <td id=\"T_5a18d4d7_9265_11eb_8ba2_8c04ba3e1d36row0_col2\" class=\"data row0 col2\" >0.665300</td>\n",
       "                        <td id=\"T_5a18d4d7_9265_11eb_8ba2_8c04ba3e1d36row0_col3\" class=\"data row0 col3\" >0.655800</td>\n",
       "                        <td id=\"T_5a18d4d7_9265_11eb_8ba2_8c04ba3e1d36row0_col4\" class=\"data row0 col4\" >0.498100</td>\n",
       "                        <td id=\"T_5a18d4d7_9265_11eb_8ba2_8c04ba3e1d36row0_col5\" class=\"data row0 col5\" >175.100000</td>\n",
       "                        <td id=\"T_5a18d4d7_9265_11eb_8ba2_8c04ba3e1d36row0_col6\" class=\"data row0 col6\" >101.433300</td>\n",
       "                        <td id=\"T_5a18d4d7_9265_11eb_8ba2_8c04ba3e1d36row0_col7\" class=\"data row0 col7\" >76.266700</td>\n",
       "            </tr>\n",
       "            <tr>\n",
       "                        <th id=\"T_5a18d4d7_9265_11eb_8ba2_8c04ba3e1d36level0_row1\" class=\"row_heading level0 row1\" >T: 10</th>\n",
       "                        <td id=\"T_5a18d4d7_9265_11eb_8ba2_8c04ba3e1d36row1_col0\" class=\"data row1 col0\" >0.070000</td>\n",
       "                        <td id=\"T_5a18d4d7_9265_11eb_8ba2_8c04ba3e1d36row1_col1\" class=\"data row1 col1\" >0.729300</td>\n",
       "                        <td id=\"T_5a18d4d7_9265_11eb_8ba2_8c04ba3e1d36row1_col2\" class=\"data row1 col2\" >0.750800</td>\n",
       "                        <td id=\"T_5a18d4d7_9265_11eb_8ba2_8c04ba3e1d36row1_col3\" class=\"data row1 col3\" >0.722400</td>\n",
       "                        <td id=\"T_5a18d4d7_9265_11eb_8ba2_8c04ba3e1d36row1_col4\" class=\"data row1 col4\" >0.572800</td>\n",
       "                        <td id=\"T_5a18d4d7_9265_11eb_8ba2_8c04ba3e1d36row1_col5\" class=\"data row1 col5\" >191.300000</td>\n",
       "                        <td id=\"T_5a18d4d7_9265_11eb_8ba2_8c04ba3e1d36row1_col6\" class=\"data row1 col6\" >94.566700</td>\n",
       "                        <td id=\"T_5a18d4d7_9265_11eb_8ba2_8c04ba3e1d36row1_col7\" class=\"data row1 col7\" >60.133300</td>\n",
       "            </tr>\n",
       "            <tr>\n",
       "                        <th id=\"T_5a18d4d7_9265_11eb_8ba2_8c04ba3e1d36level0_row2\" class=\"row_heading level0 row2\" >T: 20</th>\n",
       "                        <td id=\"T_5a18d4d7_9265_11eb_8ba2_8c04ba3e1d36row2_col0\" class=\"data row2 col0\" >0.130000</td>\n",
       "                        <td id=\"T_5a18d4d7_9265_11eb_8ba2_8c04ba3e1d36row2_col1\" class=\"data row2 col1\" >0.765700</td>\n",
       "                        <td id=\"T_5a18d4d7_9265_11eb_8ba2_8c04ba3e1d36row2_col2\" class=\"data row2 col2\" >0.725700</td>\n",
       "                        <td id=\"T_5a18d4d7_9265_11eb_8ba2_8c04ba3e1d36row2_col3\" class=\"data row2 col3\" >0.733800</td>\n",
       "                        <td id=\"T_5a18d4d7_9265_11eb_8ba2_8c04ba3e1d36row2_col4\" class=\"data row2 col4\" >0.585900</td>\n",
       "                        <td id=\"T_5a18d4d7_9265_11eb_8ba2_8c04ba3e1d36row2_col5\" class=\"data row2 col5\" >179.333300</td>\n",
       "                        <td id=\"T_5a18d4d7_9265_11eb_8ba2_8c04ba3e1d36row2_col6\" class=\"data row2 col6\" >66.033300</td>\n",
       "                        <td id=\"T_5a18d4d7_9265_11eb_8ba2_8c04ba3e1d36row2_col7\" class=\"data row2 col7\" >71.866700</td>\n",
       "            </tr>\n",
       "    </tbody></table>"
      ],
      "text/plain": [
       "<pandas.io.formats.style.Styler at 0x24c80a4f040>"
      ]
     },
     "metadata": {},
     "output_type": "display_data"
    },
    {
     "data": {
      "text/markdown": [
       "### When optimizing the threshold on each song"
      ],
      "text/plain": [
       "<IPython.core.display.Markdown object>"
      ]
     },
     "metadata": {},
     "output_type": "display_data"
    },
    {
     "data": {
      "text/html": [
       "<style  type=\"text/css\" >\n",
       "    #T_5a1aa6ff_9265_11eb_9729_8c04ba3e1d36row0_col2 {\n",
       "            width:  10em;\n",
       "             height:  80%;\n",
       "        }    #T_5a1aa6ff_9265_11eb_9729_8c04ba3e1d36row0_col3 {\n",
       "            width:  10em;\n",
       "             height:  80%;\n",
       "        }    #T_5a1aa6ff_9265_11eb_9729_8c04ba3e1d36row1_col2 {\n",
       "            width:  10em;\n",
       "             height:  80%;\n",
       "            background:  linear-gradient(90deg,#5fba7d 100.0%, transparent 100.0%);\n",
       "        }    #T_5a1aa6ff_9265_11eb_9729_8c04ba3e1d36row1_col3 {\n",
       "            width:  10em;\n",
       "             height:  80%;\n",
       "            background:  linear-gradient(90deg,#5fba7d 97.7%, transparent 97.7%);\n",
       "        }    #T_5a1aa6ff_9265_11eb_9729_8c04ba3e1d36row2_col2 {\n",
       "            width:  10em;\n",
       "             height:  80%;\n",
       "            background:  linear-gradient(90deg,#5fba7d 99.8%, transparent 99.8%);\n",
       "        }    #T_5a1aa6ff_9265_11eb_9729_8c04ba3e1d36row2_col3 {\n",
       "            width:  10em;\n",
       "             height:  80%;\n",
       "            background:  linear-gradient(90deg,#5fba7d 100.0%, transparent 100.0%);\n",
       "        }</style><table id=\"T_5a1aa6ff_9265_11eb_9729_8c04ba3e1d36\" ><thead>    <tr>        <th class=\"blank level0\" ></th>        <th class=\"col_heading level0 col0\" >Precision</th>        <th class=\"col_heading level0 col1\" >Recall</th>        <th class=\"col_heading level0 col2\" >F measure</th>        <th class=\"col_heading level0 col3\" >Accuracy</th>        <th class=\"col_heading level0 col4\" >True Positives</th>        <th class=\"col_heading level0 col5\" >False Positives</th>        <th class=\"col_heading level0 col6\" >False Negatives</th>    </tr></thead><tbody>\n",
       "                <tr>\n",
       "                        <th id=\"T_5a1aa6ff_9265_11eb_9729_8c04ba3e1d36level0_row0\" class=\"row_heading level0 row0\" >T: 5</th>\n",
       "                        <td id=\"T_5a1aa6ff_9265_11eb_9729_8c04ba3e1d36row0_col0\" class=\"data row0 col0\" >0.747100</td>\n",
       "                        <td id=\"T_5a1aa6ff_9265_11eb_9729_8c04ba3e1d36row0_col1\" class=\"data row0 col1\" >0.675500</td>\n",
       "                        <td id=\"T_5a1aa6ff_9265_11eb_9729_8c04ba3e1d36row0_col2\" class=\"data row0 col2\" >0.704400</td>\n",
       "                        <td id=\"T_5a1aa6ff_9265_11eb_9729_8c04ba3e1d36row0_col3\" class=\"data row0 col3\" >0.550600</td>\n",
       "                        <td id=\"T_5a1aa6ff_9265_11eb_9729_8c04ba3e1d36row0_col4\" class=\"data row0 col4\" >171.366700</td>\n",
       "                        <td id=\"T_5a1aa6ff_9265_11eb_9729_8c04ba3e1d36row0_col5\" class=\"data row0 col5\" >61.766700</td>\n",
       "                        <td id=\"T_5a1aa6ff_9265_11eb_9729_8c04ba3e1d36row0_col6\" class=\"data row0 col6\" >79.900000</td>\n",
       "            </tr>\n",
       "            <tr>\n",
       "                        <th id=\"T_5a1aa6ff_9265_11eb_9729_8c04ba3e1d36level0_row1\" class=\"row_heading level0 row1\" >T: 10</th>\n",
       "                        <td id=\"T_5a1aa6ff_9265_11eb_9729_8c04ba3e1d36row1_col0\" class=\"data row1 col0\" >0.801000</td>\n",
       "                        <td id=\"T_5a1aa6ff_9265_11eb_9729_8c04ba3e1d36row1_col1\" class=\"data row1 col1\" >0.737900</td>\n",
       "                        <td id=\"T_5a1aa6ff_9265_11eb_9729_8c04ba3e1d36row1_col2\" class=\"data row1 col2\" >0.764300</td>\n",
       "                        <td id=\"T_5a1aa6ff_9265_11eb_9729_8c04ba3e1d36row1_col3\" class=\"data row1 col3\" >0.624300</td>\n",
       "                        <td id=\"T_5a1aa6ff_9265_11eb_9729_8c04ba3e1d36row1_col4\" class=\"data row1 col4\" >184.100000</td>\n",
       "                        <td id=\"T_5a1aa6ff_9265_11eb_9729_8c04ba3e1d36row1_col5\" class=\"data row1 col5\" >51.433300</td>\n",
       "                        <td id=\"T_5a1aa6ff_9265_11eb_9729_8c04ba3e1d36row1_col6\" class=\"data row1 col6\" >67.300000</td>\n",
       "            </tr>\n",
       "            <tr>\n",
       "                        <th id=\"T_5a1aa6ff_9265_11eb_9729_8c04ba3e1d36level0_row2\" class=\"row_heading level0 row2\" >T: 20</th>\n",
       "                        <td id=\"T_5a1aa6ff_9265_11eb_9729_8c04ba3e1d36row2_col0\" class=\"data row2 col0\" >0.801700</td>\n",
       "                        <td id=\"T_5a1aa6ff_9265_11eb_9729_8c04ba3e1d36row2_col1\" class=\"data row2 col1\" >0.735200</td>\n",
       "                        <td id=\"T_5a1aa6ff_9265_11eb_9729_8c04ba3e1d36row2_col2\" class=\"data row2 col2\" >0.764200</td>\n",
       "                        <td id=\"T_5a1aa6ff_9265_11eb_9729_8c04ba3e1d36row2_col3\" class=\"data row2 col3\" >0.626000</td>\n",
       "                        <td id=\"T_5a1aa6ff_9265_11eb_9729_8c04ba3e1d36row2_col4\" class=\"data row2 col4\" >180.033300</td>\n",
       "                        <td id=\"T_5a1aa6ff_9265_11eb_9729_8c04ba3e1d36row2_col5\" class=\"data row2 col5\" >48.166700</td>\n",
       "                        <td id=\"T_5a1aa6ff_9265_11eb_9729_8c04ba3e1d36row2_col6\" class=\"data row2 col6\" >71.166700</td>\n",
       "            </tr>\n",
       "    </tbody></table>"
      ],
      "text/plain": [
       "<pandas.io.formats.style.Styler at 0x24c810fc340>"
      ]
     },
     "metadata": {},
     "output_type": "display_data"
    },
    {
     "data": {
      "text/markdown": [
       "## Piano for W: StbgTGd2, and for H: ENSTDkCl"
      ],
      "text/plain": [
       "<IPython.core.display.Markdown object>"
      ]
     },
     "metadata": {},
     "output_type": "display_data"
    },
    {
     "data": {
      "text/markdown": [
       "### When averaging each threshold on all MAPS"
      ],
      "text/plain": [
       "<IPython.core.display.Markdown object>"
      ]
     },
     "metadata": {},
     "output_type": "display_data"
    },
    {
     "data": {
      "text/html": [
       "<style  type=\"text/css\" >\n",
       "    #T_fa192a82_9266_11eb_b7ab_8c04ba3e1d36row0_col3 {\n",
       "            width:  10em;\n",
       "             height:  80%;\n",
       "        }    #T_fa192a82_9266_11eb_b7ab_8c04ba3e1d36row0_col4 {\n",
       "            width:  10em;\n",
       "             height:  80%;\n",
       "        }    #T_fa192a82_9266_11eb_b7ab_8c04ba3e1d36row1_col3 {\n",
       "            width:  10em;\n",
       "             height:  80%;\n",
       "            background:  linear-gradient(90deg,#5fba7d 76.2%, transparent 76.2%);\n",
       "        }    #T_fa192a82_9266_11eb_b7ab_8c04ba3e1d36row1_col4 {\n",
       "            width:  10em;\n",
       "             height:  80%;\n",
       "            background:  linear-gradient(90deg,#5fba7d 75.4%, transparent 75.4%);\n",
       "        }    #T_fa192a82_9266_11eb_b7ab_8c04ba3e1d36row2_col3 {\n",
       "            width:  10em;\n",
       "             height:  80%;\n",
       "            background:  linear-gradient(90deg,#5fba7d 100.0%, transparent 100.0%);\n",
       "        }    #T_fa192a82_9266_11eb_b7ab_8c04ba3e1d36row2_col4 {\n",
       "            width:  10em;\n",
       "             height:  80%;\n",
       "            background:  linear-gradient(90deg,#5fba7d 100.0%, transparent 100.0%);\n",
       "        }</style><table id=\"T_fa192a82_9266_11eb_b7ab_8c04ba3e1d36\" ><thead>    <tr>        <th class=\"blank level0\" ></th>        <th class=\"col_heading level0 col0\" >Best threshold</th>        <th class=\"col_heading level0 col1\" >Precision</th>        <th class=\"col_heading level0 col2\" >Recall</th>        <th class=\"col_heading level0 col3\" >F measure</th>        <th class=\"col_heading level0 col4\" >Accuracy</th>        <th class=\"col_heading level0 col5\" >True Positives</th>        <th class=\"col_heading level0 col6\" >False Positives</th>        <th class=\"col_heading level0 col7\" >False Negatives</th>    </tr></thead><tbody>\n",
       "                <tr>\n",
       "                        <th id=\"T_fa192a82_9266_11eb_b7ab_8c04ba3e1d36level0_row0\" class=\"row_heading level0 row0\" >T: 5</th>\n",
       "                        <td id=\"T_fa192a82_9266_11eb_b7ab_8c04ba3e1d36row0_col0\" class=\"data row0 col0\" >0.110000</td>\n",
       "                        <td id=\"T_fa192a82_9266_11eb_b7ab_8c04ba3e1d36row0_col1\" class=\"data row0 col1\" >0.658800</td>\n",
       "                        <td id=\"T_fa192a82_9266_11eb_b7ab_8c04ba3e1d36row0_col2\" class=\"data row0 col2\" >0.613400</td>\n",
       "                        <td id=\"T_fa192a82_9266_11eb_b7ab_8c04ba3e1d36row0_col3\" class=\"data row0 col3\" >0.612700</td>\n",
       "                        <td id=\"T_fa192a82_9266_11eb_b7ab_8c04ba3e1d36row0_col4\" class=\"data row0 col4\" >0.448800</td>\n",
       "                        <td id=\"T_fa192a82_9266_11eb_b7ab_8c04ba3e1d36row0_col5\" class=\"data row0 col5\" >152.366700</td>\n",
       "                        <td id=\"T_fa192a82_9266_11eb_b7ab_8c04ba3e1d36row0_col6\" class=\"data row0 col6\" >103.800000</td>\n",
       "                        <td id=\"T_fa192a82_9266_11eb_b7ab_8c04ba3e1d36row0_col7\" class=\"data row0 col7\" >92.433300</td>\n",
       "            </tr>\n",
       "            <tr>\n",
       "                        <th id=\"T_fa192a82_9266_11eb_b7ab_8c04ba3e1d36level0_row1\" class=\"row_heading level0 row1\" >T: 10</th>\n",
       "                        <td id=\"T_fa192a82_9266_11eb_b7ab_8c04ba3e1d36row1_col0\" class=\"data row1 col0\" >0.170000</td>\n",
       "                        <td id=\"T_fa192a82_9266_11eb_b7ab_8c04ba3e1d36row1_col1\" class=\"data row1 col1\" >0.695400</td>\n",
       "                        <td id=\"T_fa192a82_9266_11eb_b7ab_8c04ba3e1d36row1_col2\" class=\"data row1 col2\" >0.652400</td>\n",
       "                        <td id=\"T_fa192a82_9266_11eb_b7ab_8c04ba3e1d36row1_col3\" class=\"data row1 col3\" >0.655500</td>\n",
       "                        <td id=\"T_fa192a82_9266_11eb_b7ab_8c04ba3e1d36row1_col4\" class=\"data row1 col4\" >0.494800</td>\n",
       "                        <td id=\"T_fa192a82_9266_11eb_b7ab_8c04ba3e1d36row1_col5\" class=\"data row1 col5\" >159.300000</td>\n",
       "                        <td id=\"T_fa192a82_9266_11eb_b7ab_8c04ba3e1d36row1_col6\" class=\"data row1 col6\" >87.466700</td>\n",
       "                        <td id=\"T_fa192a82_9266_11eb_b7ab_8c04ba3e1d36row1_col7\" class=\"data row1 col7\" >85.533300</td>\n",
       "            </tr>\n",
       "            <tr>\n",
       "                        <th id=\"T_fa192a82_9266_11eb_b7ab_8c04ba3e1d36level0_row2\" class=\"row_heading level0 row2\" >T: 20</th>\n",
       "                        <td id=\"T_fa192a82_9266_11eb_b7ab_8c04ba3e1d36row2_col0\" class=\"data row2 col0\" >0.270000</td>\n",
       "                        <td id=\"T_fa192a82_9266_11eb_b7ab_8c04ba3e1d36row2_col1\" class=\"data row2 col1\" >0.689300</td>\n",
       "                        <td id=\"T_fa192a82_9266_11eb_b7ab_8c04ba3e1d36row2_col2\" class=\"data row2 col2\" >0.676600</td>\n",
       "                        <td id=\"T_fa192a82_9266_11eb_b7ab_8c04ba3e1d36row2_col3\" class=\"data row2 col3\" >0.668900</td>\n",
       "                        <td id=\"T_fa192a82_9266_11eb_b7ab_8c04ba3e1d36row2_col4\" class=\"data row2 col4\" >0.509800</td>\n",
       "                        <td id=\"T_fa192a82_9266_11eb_b7ab_8c04ba3e1d36row2_col5\" class=\"data row2 col5\" >162.166700</td>\n",
       "                        <td id=\"T_fa192a82_9266_11eb_b7ab_8c04ba3e1d36row2_col6\" class=\"data row2 col6\" >85.766700</td>\n",
       "                        <td id=\"T_fa192a82_9266_11eb_b7ab_8c04ba3e1d36row2_col7\" class=\"data row2 col7\" >82.866700</td>\n",
       "            </tr>\n",
       "    </tbody></table>"
      ],
      "text/plain": [
       "<pandas.io.formats.style.Styler at 0x24c8136f1c0>"
      ]
     },
     "metadata": {},
     "output_type": "display_data"
    },
    {
     "data": {
      "text/markdown": [
       "### When optimizing the threshold on each song"
      ],
      "text/plain": [
       "<IPython.core.display.Markdown object>"
      ]
     },
     "metadata": {},
     "output_type": "display_data"
    },
    {
     "data": {
      "text/html": [
       "<style  type=\"text/css\" >\n",
       "    #T_fa1ab01e_9266_11eb_8d83_8c04ba3e1d36row0_col2 {\n",
       "            width:  10em;\n",
       "             height:  80%;\n",
       "        }    #T_fa1ab01e_9266_11eb_8d83_8c04ba3e1d36row0_col3 {\n",
       "            width:  10em;\n",
       "             height:  80%;\n",
       "        }    #T_fa1ab01e_9266_11eb_8d83_8c04ba3e1d36row1_col2 {\n",
       "            width:  10em;\n",
       "             height:  80%;\n",
       "            background:  linear-gradient(90deg,#5fba7d 72.6%, transparent 72.6%);\n",
       "        }    #T_fa1ab01e_9266_11eb_8d83_8c04ba3e1d36row1_col3 {\n",
       "            width:  10em;\n",
       "             height:  80%;\n",
       "            background:  linear-gradient(90deg,#5fba7d 71.4%, transparent 71.4%);\n",
       "        }    #T_fa1ab01e_9266_11eb_8d83_8c04ba3e1d36row2_col2 {\n",
       "            width:  10em;\n",
       "             height:  80%;\n",
       "            background:  linear-gradient(90deg,#5fba7d 100.0%, transparent 100.0%);\n",
       "        }    #T_fa1ab01e_9266_11eb_8d83_8c04ba3e1d36row2_col3 {\n",
       "            width:  10em;\n",
       "             height:  80%;\n",
       "            background:  linear-gradient(90deg,#5fba7d 100.0%, transparent 100.0%);\n",
       "        }</style><table id=\"T_fa1ab01e_9266_11eb_8d83_8c04ba3e1d36\" ><thead>    <tr>        <th class=\"blank level0\" ></th>        <th class=\"col_heading level0 col0\" >Precision</th>        <th class=\"col_heading level0 col1\" >Recall</th>        <th class=\"col_heading level0 col2\" >F measure</th>        <th class=\"col_heading level0 col3\" >Accuracy</th>        <th class=\"col_heading level0 col4\" >True Positives</th>        <th class=\"col_heading level0 col5\" >False Positives</th>        <th class=\"col_heading level0 col6\" >False Negatives</th>    </tr></thead><tbody>\n",
       "                <tr>\n",
       "                        <th id=\"T_fa1ab01e_9266_11eb_8d83_8c04ba3e1d36level0_row0\" class=\"row_heading level0 row0\" >T: 5</th>\n",
       "                        <td id=\"T_fa1ab01e_9266_11eb_8d83_8c04ba3e1d36row0_col0\" class=\"data row0 col0\" >0.693300</td>\n",
       "                        <td id=\"T_fa1ab01e_9266_11eb_8d83_8c04ba3e1d36row0_col1\" class=\"data row0 col1\" >0.616800</td>\n",
       "                        <td id=\"T_fa1ab01e_9266_11eb_8d83_8c04ba3e1d36row0_col2\" class=\"data row0 col2\" >0.648800</td>\n",
       "                        <td id=\"T_fa1ab01e_9266_11eb_8d83_8c04ba3e1d36row0_col3\" class=\"data row0 col3\" >0.485200</td>\n",
       "                        <td id=\"T_fa1ab01e_9266_11eb_8d83_8c04ba3e1d36row0_col4\" class=\"data row0 col4\" >150.600000</td>\n",
       "                        <td id=\"T_fa1ab01e_9266_11eb_8d83_8c04ba3e1d36row0_col5\" class=\"data row0 col5\" >68.366700</td>\n",
       "                        <td id=\"T_fa1ab01e_9266_11eb_8d83_8c04ba3e1d36row0_col6\" class=\"data row0 col6\" >94.033300</td>\n",
       "            </tr>\n",
       "            <tr>\n",
       "                        <th id=\"T_fa1ab01e_9266_11eb_8d83_8c04ba3e1d36level0_row1\" class=\"row_heading level0 row1\" >T: 10</th>\n",
       "                        <td id=\"T_fa1ab01e_9266_11eb_8d83_8c04ba3e1d36row1_col0\" class=\"data row1 col0\" >0.709100</td>\n",
       "                        <td id=\"T_fa1ab01e_9266_11eb_8d83_8c04ba3e1d36row1_col1\" class=\"data row1 col1\" >0.675000</td>\n",
       "                        <td id=\"T_fa1ab01e_9266_11eb_8d83_8c04ba3e1d36row1_col2\" class=\"data row1 col2\" >0.688100</td>\n",
       "                        <td id=\"T_fa1ab01e_9266_11eb_8d83_8c04ba3e1d36row1_col3\" class=\"data row1 col3\" >0.530300</td>\n",
       "                        <td id=\"T_fa1ab01e_9266_11eb_8d83_8c04ba3e1d36row1_col4\" class=\"data row1 col4\" >165.266700</td>\n",
       "                        <td id=\"T_fa1ab01e_9266_11eb_8d83_8c04ba3e1d36row1_col5\" class=\"data row1 col5\" >69.700000</td>\n",
       "                        <td id=\"T_fa1ab01e_9266_11eb_8d83_8c04ba3e1d36row1_col6\" class=\"data row1 col6\" >79.600000</td>\n",
       "            </tr>\n",
       "            <tr>\n",
       "                        <th id=\"T_fa1ab01e_9266_11eb_8d83_8c04ba3e1d36level0_row2\" class=\"row_heading level0 row2\" >T: 20</th>\n",
       "                        <td id=\"T_fa1ab01e_9266_11eb_8d83_8c04ba3e1d36row2_col0\" class=\"data row2 col0\" >0.724800</td>\n",
       "                        <td id=\"T_fa1ab01e_9266_11eb_8d83_8c04ba3e1d36row2_col1\" class=\"data row2 col1\" >0.686900</td>\n",
       "                        <td id=\"T_fa1ab01e_9266_11eb_8d83_8c04ba3e1d36row2_col2\" class=\"data row2 col2\" >0.702900</td>\n",
       "                        <td id=\"T_fa1ab01e_9266_11eb_8d83_8c04ba3e1d36row2_col3\" class=\"data row2 col3\" >0.548400</td>\n",
       "                        <td id=\"T_fa1ab01e_9266_11eb_8d83_8c04ba3e1d36row2_col4\" class=\"data row2 col4\" >166.500000</td>\n",
       "                        <td id=\"T_fa1ab01e_9266_11eb_8d83_8c04ba3e1d36row2_col5\" class=\"data row2 col5\" >65.200000</td>\n",
       "                        <td id=\"T_fa1ab01e_9266_11eb_8d83_8c04ba3e1d36row2_col6\" class=\"data row2 col6\" >78.300000</td>\n",
       "            </tr>\n",
       "    </tbody></table>"
      ],
      "text/plain": [
       "<pandas.io.formats.style.Styler at 0x24c80eaad30>"
      ]
     },
     "metadata": {},
     "output_type": "display_data"
    }
   ],
   "source": [
    "for piano_type_W in [\"AkPnBcht\",\"AkPnBsdf\",\"AkPnStgb\",\"ENSTDkAm\",\"SptkBGAm\",\"StbgTGd2\"]:\n",
    "    for piano_type_H in [\"AkPnCGdD\",\"ENSTDkCl\"]:\n",
    "        try:\n",
    "            compute_scores_database(piano_type_W, piano_type_H, H_normalization = False, adaptative_threshold = True)\n",
    "        except IndexError:\n",
    "            print(\"We have to compute this piano at these conditions (piano {}, T = 5, 10, 20, tol = 1e-8 and itmax = 100).\".format(piano_type))"
   ]
  },
  {
   "cell_type": "markdown",
   "metadata": {},
   "source": [
    "# Avec normalisation sur H"
   ]
  },
  {
   "cell_type": "code",
   "execution_count": 4,
   "metadata": {
    "ExecuteTime": {
     "end_time": "2021-03-31T23:04:21.961532Z",
     "start_time": "2021-03-31T21:20:54.562375Z"
    },
    "scrolled": false
   },
   "outputs": [
    {
     "data": {
      "text/markdown": [
       "## Piano for W: AkPnBcht, and for H: AkPnCGdD"
      ],
      "text/plain": [
       "<IPython.core.display.Markdown object>"
      ]
     },
     "metadata": {},
     "output_type": "display_data"
    },
    {
     "data": {
      "text/markdown": [
       "### When averaging each threshold on all MAPS"
      ],
      "text/plain": [
       "<IPython.core.display.Markdown object>"
      ]
     },
     "metadata": {},
     "output_type": "display_data"
    },
    {
     "data": {
      "text/html": [
       "<style  type=\"text/css\" >\n",
       "    #T_150a4d31_9268_11eb_8807_8c04ba3e1d36row0_col3 {\n",
       "            width:  10em;\n",
       "             height:  80%;\n",
       "        }    #T_150a4d31_9268_11eb_8807_8c04ba3e1d36row0_col4 {\n",
       "            width:  10em;\n",
       "             height:  80%;\n",
       "        }    #T_150a4d31_9268_11eb_8807_8c04ba3e1d36row1_col3 {\n",
       "            width:  10em;\n",
       "             height:  80%;\n",
       "            background:  linear-gradient(90deg,#5fba7d 100.0%, transparent 100.0%);\n",
       "        }    #T_150a4d31_9268_11eb_8807_8c04ba3e1d36row1_col4 {\n",
       "            width:  10em;\n",
       "             height:  80%;\n",
       "            background:  linear-gradient(90deg,#5fba7d 100.0%, transparent 100.0%);\n",
       "        }    #T_150a4d31_9268_11eb_8807_8c04ba3e1d36row2_col3 {\n",
       "            width:  10em;\n",
       "             height:  80%;\n",
       "            background:  linear-gradient(90deg,#5fba7d 23.7%, transparent 23.7%);\n",
       "        }    #T_150a4d31_9268_11eb_8807_8c04ba3e1d36row2_col4 {\n",
       "            width:  10em;\n",
       "             height:  80%;\n",
       "            background:  linear-gradient(90deg,#5fba7d 26.5%, transparent 26.5%);\n",
       "        }</style><table id=\"T_150a4d31_9268_11eb_8807_8c04ba3e1d36\" ><thead>    <tr>        <th class=\"blank level0\" ></th>        <th class=\"col_heading level0 col0\" >Best threshold</th>        <th class=\"col_heading level0 col1\" >Precision</th>        <th class=\"col_heading level0 col2\" >Recall</th>        <th class=\"col_heading level0 col3\" >F measure</th>        <th class=\"col_heading level0 col4\" >Accuracy</th>        <th class=\"col_heading level0 col5\" >True Positives</th>        <th class=\"col_heading level0 col6\" >False Positives</th>        <th class=\"col_heading level0 col7\" >False Negatives</th>    </tr></thead><tbody>\n",
       "                <tr>\n",
       "                        <th id=\"T_150a4d31_9268_11eb_8807_8c04ba3e1d36level0_row0\" class=\"row_heading level0 row0\" >T: 5</th>\n",
       "                        <td id=\"T_150a4d31_9268_11eb_8807_8c04ba3e1d36row0_col0\" class=\"data row0 col0\" >0.310000</td>\n",
       "                        <td id=\"T_150a4d31_9268_11eb_8807_8c04ba3e1d36row0_col1\" class=\"data row0 col1\" >0.722600</td>\n",
       "                        <td id=\"T_150a4d31_9268_11eb_8807_8c04ba3e1d36row0_col2\" class=\"data row0 col2\" >0.682200</td>\n",
       "                        <td id=\"T_150a4d31_9268_11eb_8807_8c04ba3e1d36row0_col3\" class=\"data row0 col3\" >0.691500</td>\n",
       "                        <td id=\"T_150a4d31_9268_11eb_8807_8c04ba3e1d36row0_col4\" class=\"data row0 col4\" >0.537800</td>\n",
       "                        <td id=\"T_150a4d31_9268_11eb_8807_8c04ba3e1d36row0_col5\" class=\"data row0 col5\" >167.933300</td>\n",
       "                        <td id=\"T_150a4d31_9268_11eb_8807_8c04ba3e1d36row0_col6\" class=\"data row0 col6\" >60.233300</td>\n",
       "                        <td id=\"T_150a4d31_9268_11eb_8807_8c04ba3e1d36row0_col7\" class=\"data row0 col7\" >83.566700</td>\n",
       "            </tr>\n",
       "            <tr>\n",
       "                        <th id=\"T_150a4d31_9268_11eb_8807_8c04ba3e1d36level0_row1\" class=\"row_heading level0 row1\" >T: 10</th>\n",
       "                        <td id=\"T_150a4d31_9268_11eb_8807_8c04ba3e1d36row1_col0\" class=\"data row1 col0\" >0.450000</td>\n",
       "                        <td id=\"T_150a4d31_9268_11eb_8807_8c04ba3e1d36row1_col1\" class=\"data row1 col1\" >0.784700</td>\n",
       "                        <td id=\"T_150a4d31_9268_11eb_8807_8c04ba3e1d36row1_col2\" class=\"data row1 col2\" >0.736800</td>\n",
       "                        <td id=\"T_150a4d31_9268_11eb_8807_8c04ba3e1d36row1_col3\" class=\"data row1 col3\" >0.749400</td>\n",
       "                        <td id=\"T_150a4d31_9268_11eb_8807_8c04ba3e1d36row1_col4\" class=\"data row1 col4\" >0.607500</td>\n",
       "                        <td id=\"T_150a4d31_9268_11eb_8807_8c04ba3e1d36row1_col5\" class=\"data row1 col5\" >175.300000</td>\n",
       "                        <td id=\"T_150a4d31_9268_11eb_8807_8c04ba3e1d36row1_col6\" class=\"data row1 col6\" >45.466700</td>\n",
       "                        <td id=\"T_150a4d31_9268_11eb_8807_8c04ba3e1d36row1_col7\" class=\"data row1 col7\" >76.000000</td>\n",
       "            </tr>\n",
       "            <tr>\n",
       "                        <th id=\"T_150a4d31_9268_11eb_8807_8c04ba3e1d36level0_row2\" class=\"row_heading level0 row2\" >T: 20</th>\n",
       "                        <td id=\"T_150a4d31_9268_11eb_8807_8c04ba3e1d36row2_col0\" class=\"data row2 col0\" >0.590000</td>\n",
       "                        <td id=\"T_150a4d31_9268_11eb_8807_8c04ba3e1d36row2_col1\" class=\"data row2 col1\" >0.715100</td>\n",
       "                        <td id=\"T_150a4d31_9268_11eb_8807_8c04ba3e1d36row2_col2\" class=\"data row2 col2\" >0.744200</td>\n",
       "                        <td id=\"T_150a4d31_9268_11eb_8807_8c04ba3e1d36row2_col3\" class=\"data row2 col3\" >0.705200</td>\n",
       "                        <td id=\"T_150a4d31_9268_11eb_8807_8c04ba3e1d36row2_col4\" class=\"data row2 col4\" >0.556300</td>\n",
       "                        <td id=\"T_150a4d31_9268_11eb_8807_8c04ba3e1d36row2_col5\" class=\"data row2 col5\" >169.500000</td>\n",
       "                        <td id=\"T_150a4d31_9268_11eb_8807_8c04ba3e1d36row2_col6\" class=\"data row2 col6\" >65.900000</td>\n",
       "                        <td id=\"T_150a4d31_9268_11eb_8807_8c04ba3e1d36row2_col7\" class=\"data row2 col7\" >81.933300</td>\n",
       "            </tr>\n",
       "    </tbody></table>"
      ],
      "text/plain": [
       "<pandas.io.formats.style.Styler at 0x24ce9138e50>"
      ]
     },
     "metadata": {},
     "output_type": "display_data"
    },
    {
     "data": {
      "text/markdown": [
       "### When optimizing the threshold on each song"
      ],
      "text/plain": [
       "<IPython.core.display.Markdown object>"
      ]
     },
     "metadata": {},
     "output_type": "display_data"
    },
    {
     "data": {
      "text/html": [
       "<style  type=\"text/css\" >\n",
       "    #T_150bd40e_9268_11eb_bc29_8c04ba3e1d36row0_col2 {\n",
       "            width:  10em;\n",
       "             height:  80%;\n",
       "        }    #T_150bd40e_9268_11eb_bc29_8c04ba3e1d36row0_col3 {\n",
       "            width:  10em;\n",
       "             height:  80%;\n",
       "        }    #T_150bd40e_9268_11eb_bc29_8c04ba3e1d36row1_col2 {\n",
       "            width:  10em;\n",
       "             height:  80%;\n",
       "            background:  linear-gradient(90deg,#5fba7d 100.0%, transparent 100.0%);\n",
       "        }    #T_150bd40e_9268_11eb_bc29_8c04ba3e1d36row1_col3 {\n",
       "            width:  10em;\n",
       "             height:  80%;\n",
       "            background:  linear-gradient(90deg,#5fba7d 100.0%, transparent 100.0%);\n",
       "        }    #T_150bd40e_9268_11eb_bc29_8c04ba3e1d36row2_col2 {\n",
       "            width:  10em;\n",
       "             height:  80%;\n",
       "            background:  linear-gradient(90deg,#5fba7d 28.3%, transparent 28.3%);\n",
       "        }    #T_150bd40e_9268_11eb_bc29_8c04ba3e1d36row2_col3 {\n",
       "            width:  10em;\n",
       "             height:  80%;\n",
       "            background:  linear-gradient(90deg,#5fba7d 19.9%, transparent 19.9%);\n",
       "        }</style><table id=\"T_150bd40e_9268_11eb_bc29_8c04ba3e1d36\" ><thead>    <tr>        <th class=\"blank level0\" ></th>        <th class=\"col_heading level0 col0\" >Precision</th>        <th class=\"col_heading level0 col1\" >Recall</th>        <th class=\"col_heading level0 col2\" >F measure</th>        <th class=\"col_heading level0 col3\" >Accuracy</th>        <th class=\"col_heading level0 col4\" >True Positives</th>        <th class=\"col_heading level0 col5\" >False Positives</th>        <th class=\"col_heading level0 col6\" >False Negatives</th>    </tr></thead><tbody>\n",
       "                <tr>\n",
       "                        <th id=\"T_150bd40e_9268_11eb_bc29_8c04ba3e1d36level0_row0\" class=\"row_heading level0 row0\" >T: 5</th>\n",
       "                        <td id=\"T_150bd40e_9268_11eb_bc29_8c04ba3e1d36row0_col0\" class=\"data row0 col0\" >0.755500</td>\n",
       "                        <td id=\"T_150bd40e_9268_11eb_bc29_8c04ba3e1d36row0_col1\" class=\"data row0 col1\" >0.690900</td>\n",
       "                        <td id=\"T_150bd40e_9268_11eb_bc29_8c04ba3e1d36row0_col2\" class=\"data row0 col2\" >0.716900</td>\n",
       "                        <td id=\"T_150bd40e_9268_11eb_bc29_8c04ba3e1d36row0_col3\" class=\"data row0 col3\" >0.568500</td>\n",
       "                        <td id=\"T_150bd40e_9268_11eb_bc29_8c04ba3e1d36row0_col4\" class=\"data row0 col4\" >174.966700</td>\n",
       "                        <td id=\"T_150bd40e_9268_11eb_bc29_8c04ba3e1d36row0_col5\" class=\"data row0 col5\" >54.433300</td>\n",
       "                        <td id=\"T_150bd40e_9268_11eb_bc29_8c04ba3e1d36row0_col6\" class=\"data row0 col6\" >76.566700</td>\n",
       "            </tr>\n",
       "            <tr>\n",
       "                        <th id=\"T_150bd40e_9268_11eb_bc29_8c04ba3e1d36level0_row1\" class=\"row_heading level0 row1\" >T: 10</th>\n",
       "                        <td id=\"T_150bd40e_9268_11eb_bc29_8c04ba3e1d36row1_col0\" class=\"data row1 col0\" >0.787100</td>\n",
       "                        <td id=\"T_150bd40e_9268_11eb_bc29_8c04ba3e1d36row1_col1\" class=\"data row1 col1\" >0.766500</td>\n",
       "                        <td id=\"T_150bd40e_9268_11eb_bc29_8c04ba3e1d36row1_col2\" class=\"data row1 col2\" >0.774100</td>\n",
       "                        <td id=\"T_150bd40e_9268_11eb_bc29_8c04ba3e1d36row1_col3\" class=\"data row1 col3\" >0.639700</td>\n",
       "                        <td id=\"T_150bd40e_9268_11eb_bc29_8c04ba3e1d36row1_col4\" class=\"data row1 col4\" >189.533300</td>\n",
       "                        <td id=\"T_150bd40e_9268_11eb_bc29_8c04ba3e1d36row1_col5\" class=\"data row1 col5\" >47.866700</td>\n",
       "                        <td id=\"T_150bd40e_9268_11eb_bc29_8c04ba3e1d36row1_col6\" class=\"data row1 col6\" >61.700000</td>\n",
       "            </tr>\n",
       "            <tr>\n",
       "                        <th id=\"T_150bd40e_9268_11eb_bc29_8c04ba3e1d36level0_row2\" class=\"row_heading level0 row2\" >T: 20</th>\n",
       "                        <td id=\"T_150bd40e_9268_11eb_bc29_8c04ba3e1d36row2_col0\" class=\"data row2 col0\" >0.692000</td>\n",
       "                        <td id=\"T_150bd40e_9268_11eb_bc29_8c04ba3e1d36row2_col1\" class=\"data row2 col1\" >0.790900</td>\n",
       "                        <td id=\"T_150bd40e_9268_11eb_bc29_8c04ba3e1d36row2_col2\" class=\"data row2 col2\" >0.733100</td>\n",
       "                        <td id=\"T_150bd40e_9268_11eb_bc29_8c04ba3e1d36row2_col3\" class=\"data row2 col3\" >0.582700</td>\n",
       "                        <td id=\"T_150bd40e_9268_11eb_bc29_8c04ba3e1d36row2_col4\" class=\"data row2 col4\" >192.366700</td>\n",
       "                        <td id=\"T_150bd40e_9268_11eb_bc29_8c04ba3e1d36row2_col5\" class=\"data row2 col5\" >79.733300</td>\n",
       "                        <td id=\"T_150bd40e_9268_11eb_bc29_8c04ba3e1d36row2_col6\" class=\"data row2 col6\" >59.100000</td>\n",
       "            </tr>\n",
       "    </tbody></table>"
      ],
      "text/plain": [
       "<pandas.io.formats.style.Styler at 0x24c80473370>"
      ]
     },
     "metadata": {},
     "output_type": "display_data"
    },
    {
     "data": {
      "text/markdown": [
       "## Piano for W: AkPnBcht, and for H: ENSTDkCl"
      ],
      "text/plain": [
       "<IPython.core.display.Markdown object>"
      ]
     },
     "metadata": {},
     "output_type": "display_data"
    },
    {
     "data": {
      "text/markdown": [
       "### When averaging each threshold on all MAPS"
      ],
      "text/plain": [
       "<IPython.core.display.Markdown object>"
      ]
     },
     "metadata": {},
     "output_type": "display_data"
    },
    {
     "data": {
      "text/html": [
       "<style  type=\"text/css\" >\n",
       "    #T_304a7105_9269_11eb_bf57_8c04ba3e1d36row0_col3 {\n",
       "            width:  10em;\n",
       "             height:  80%;\n",
       "        }    #T_304a7105_9269_11eb_bf57_8c04ba3e1d36row0_col4 {\n",
       "            width:  10em;\n",
       "             height:  80%;\n",
       "        }    #T_304a7105_9269_11eb_bf57_8c04ba3e1d36row1_col3 {\n",
       "            width:  10em;\n",
       "             height:  80%;\n",
       "            background:  linear-gradient(90deg,#5fba7d 100.0%, transparent 100.0%);\n",
       "        }    #T_304a7105_9269_11eb_bf57_8c04ba3e1d36row1_col4 {\n",
       "            width:  10em;\n",
       "             height:  80%;\n",
       "            background:  linear-gradient(90deg,#5fba7d 100.0%, transparent 100.0%);\n",
       "        }    #T_304a7105_9269_11eb_bf57_8c04ba3e1d36row2_col3 {\n",
       "            width:  10em;\n",
       "             height:  80%;\n",
       "            background:  linear-gradient(90deg,#5fba7d 77.8%, transparent 77.8%);\n",
       "        }    #T_304a7105_9269_11eb_bf57_8c04ba3e1d36row2_col4 {\n",
       "            width:  10em;\n",
       "             height:  80%;\n",
       "            background:  linear-gradient(90deg,#5fba7d 80.4%, transparent 80.4%);\n",
       "        }</style><table id=\"T_304a7105_9269_11eb_bf57_8c04ba3e1d36\" ><thead>    <tr>        <th class=\"blank level0\" ></th>        <th class=\"col_heading level0 col0\" >Best threshold</th>        <th class=\"col_heading level0 col1\" >Precision</th>        <th class=\"col_heading level0 col2\" >Recall</th>        <th class=\"col_heading level0 col3\" >F measure</th>        <th class=\"col_heading level0 col4\" >Accuracy</th>        <th class=\"col_heading level0 col5\" >True Positives</th>        <th class=\"col_heading level0 col6\" >False Positives</th>        <th class=\"col_heading level0 col7\" >False Negatives</th>    </tr></thead><tbody>\n",
       "                <tr>\n",
       "                        <th id=\"T_304a7105_9269_11eb_bf57_8c04ba3e1d36level0_row0\" class=\"row_heading level0 row0\" >T: 5</th>\n",
       "                        <td id=\"T_304a7105_9269_11eb_bf57_8c04ba3e1d36row0_col0\" class=\"data row0 col0\" >0.290000</td>\n",
       "                        <td id=\"T_304a7105_9269_11eb_bf57_8c04ba3e1d36row0_col1\" class=\"data row0 col1\" >0.641800</td>\n",
       "                        <td id=\"T_304a7105_9269_11eb_bf57_8c04ba3e1d36row0_col2\" class=\"data row0 col2\" >0.604200</td>\n",
       "                        <td id=\"T_304a7105_9269_11eb_bf57_8c04ba3e1d36row0_col3\" class=\"data row0 col3\" >0.605500</td>\n",
       "                        <td id=\"T_304a7105_9269_11eb_bf57_8c04ba3e1d36row0_col4\" class=\"data row0 col4\" >0.443000</td>\n",
       "                        <td id=\"T_304a7105_9269_11eb_bf57_8c04ba3e1d36row0_col5\" class=\"data row0 col5\" >151.866700</td>\n",
       "                        <td id=\"T_304a7105_9269_11eb_bf57_8c04ba3e1d36row0_col6\" class=\"data row0 col6\" >90.333300</td>\n",
       "                        <td id=\"T_304a7105_9269_11eb_bf57_8c04ba3e1d36row0_col7\" class=\"data row0 col7\" >92.833300</td>\n",
       "            </tr>\n",
       "            <tr>\n",
       "                        <th id=\"T_304a7105_9269_11eb_bf57_8c04ba3e1d36level0_row1\" class=\"row_heading level0 row1\" >T: 10</th>\n",
       "                        <td id=\"T_304a7105_9269_11eb_bf57_8c04ba3e1d36row1_col0\" class=\"data row1 col0\" >0.390000</td>\n",
       "                        <td id=\"T_304a7105_9269_11eb_bf57_8c04ba3e1d36row1_col1\" class=\"data row1 col1\" >0.651800</td>\n",
       "                        <td id=\"T_304a7105_9269_11eb_bf57_8c04ba3e1d36row1_col2\" class=\"data row1 col2\" >0.656500</td>\n",
       "                        <td id=\"T_304a7105_9269_11eb_bf57_8c04ba3e1d36row1_col3\" class=\"data row1 col3\" >0.639700</td>\n",
       "                        <td id=\"T_304a7105_9269_11eb_bf57_8c04ba3e1d36row1_col4\" class=\"data row1 col4\" >0.477700</td>\n",
       "                        <td id=\"T_304a7105_9269_11eb_bf57_8c04ba3e1d36row1_col5\" class=\"data row1 col5\" >160.800000</td>\n",
       "                        <td id=\"T_304a7105_9269_11eb_bf57_8c04ba3e1d36row1_col6\" class=\"data row1 col6\" >89.900000</td>\n",
       "                        <td id=\"T_304a7105_9269_11eb_bf57_8c04ba3e1d36row1_col7\" class=\"data row1 col7\" >84.133300</td>\n",
       "            </tr>\n",
       "            <tr>\n",
       "                        <th id=\"T_304a7105_9269_11eb_bf57_8c04ba3e1d36level0_row2\" class=\"row_heading level0 row2\" >T: 20</th>\n",
       "                        <td id=\"T_304a7105_9269_11eb_bf57_8c04ba3e1d36row2_col0\" class=\"data row2 col0\" >0.590000</td>\n",
       "                        <td id=\"T_304a7105_9269_11eb_bf57_8c04ba3e1d36row2_col1\" class=\"data row2 col1\" >0.642800</td>\n",
       "                        <td id=\"T_304a7105_9269_11eb_bf57_8c04ba3e1d36row2_col2\" class=\"data row2 col2\" >0.645200</td>\n",
       "                        <td id=\"T_304a7105_9269_11eb_bf57_8c04ba3e1d36row2_col3\" class=\"data row2 col3\" >0.632100</td>\n",
       "                        <td id=\"T_304a7105_9269_11eb_bf57_8c04ba3e1d36row2_col4\" class=\"data row2 col4\" >0.470900</td>\n",
       "                        <td id=\"T_304a7105_9269_11eb_bf57_8c04ba3e1d36row2_col5\" class=\"data row2 col5\" >151.700000</td>\n",
       "                        <td id=\"T_304a7105_9269_11eb_bf57_8c04ba3e1d36row2_col6\" class=\"data row2 col6\" >82.833300</td>\n",
       "                        <td id=\"T_304a7105_9269_11eb_bf57_8c04ba3e1d36row2_col7\" class=\"data row2 col7\" >93.033300</td>\n",
       "            </tr>\n",
       "    </tbody></table>"
      ],
      "text/plain": [
       "<pandas.io.formats.style.Styler at 0x24c81256130>"
      ]
     },
     "metadata": {},
     "output_type": "display_data"
    },
    {
     "data": {
      "text/markdown": [
       "### When optimizing the threshold on each song"
      ],
      "text/plain": [
       "<IPython.core.display.Markdown object>"
      ]
     },
     "metadata": {},
     "output_type": "display_data"
    },
    {
     "data": {
      "text/html": [
       "<style  type=\"text/css\" >\n",
       "    #T_304bf699_9269_11eb_a169_8c04ba3e1d36row0_col2 {\n",
       "            width:  10em;\n",
       "             height:  80%;\n",
       "        }    #T_304bf699_9269_11eb_a169_8c04ba3e1d36row0_col3 {\n",
       "            width:  10em;\n",
       "             height:  80%;\n",
       "        }    #T_304bf699_9269_11eb_a169_8c04ba3e1d36row1_col2 {\n",
       "            width:  10em;\n",
       "             height:  80%;\n",
       "            background:  linear-gradient(90deg,#5fba7d 100.0%, transparent 100.0%);\n",
       "        }    #T_304bf699_9269_11eb_a169_8c04ba3e1d36row1_col3 {\n",
       "            width:  10em;\n",
       "             height:  80%;\n",
       "            background:  linear-gradient(90deg,#5fba7d 100.0%, transparent 100.0%);\n",
       "        }    #T_304bf699_9269_11eb_a169_8c04ba3e1d36row2_col2 {\n",
       "            width:  10em;\n",
       "             height:  80%;\n",
       "            background:  linear-gradient(90deg,#5fba7d 36.8%, transparent 36.8%);\n",
       "        }    #T_304bf699_9269_11eb_a169_8c04ba3e1d36row2_col3 {\n",
       "            width:  10em;\n",
       "             height:  80%;\n",
       "            background:  linear-gradient(90deg,#5fba7d 38.5%, transparent 38.5%);\n",
       "        }</style><table id=\"T_304bf699_9269_11eb_a169_8c04ba3e1d36\" ><thead>    <tr>        <th class=\"blank level0\" ></th>        <th class=\"col_heading level0 col0\" >Precision</th>        <th class=\"col_heading level0 col1\" >Recall</th>        <th class=\"col_heading level0 col2\" >F measure</th>        <th class=\"col_heading level0 col3\" >Accuracy</th>        <th class=\"col_heading level0 col4\" >True Positives</th>        <th class=\"col_heading level0 col5\" >False Positives</th>        <th class=\"col_heading level0 col6\" >False Negatives</th>    </tr></thead><tbody>\n",
       "                <tr>\n",
       "                        <th id=\"T_304bf699_9269_11eb_a169_8c04ba3e1d36level0_row0\" class=\"row_heading level0 row0\" >T: 5</th>\n",
       "                        <td id=\"T_304bf699_9269_11eb_a169_8c04ba3e1d36row0_col0\" class=\"data row0 col0\" >0.676400</td>\n",
       "                        <td id=\"T_304bf699_9269_11eb_a169_8c04ba3e1d36row0_col1\" class=\"data row0 col1\" >0.602300</td>\n",
       "                        <td id=\"T_304bf699_9269_11eb_a169_8c04ba3e1d36row0_col2\" class=\"data row0 col2\" >0.633800</td>\n",
       "                        <td id=\"T_304bf699_9269_11eb_a169_8c04ba3e1d36row0_col3\" class=\"data row0 col3\" >0.471400</td>\n",
       "                        <td id=\"T_304bf699_9269_11eb_a169_8c04ba3e1d36row0_col4\" class=\"data row0 col4\" >148.900000</td>\n",
       "                        <td id=\"T_304bf699_9269_11eb_a169_8c04ba3e1d36row0_col5\" class=\"data row0 col5\" >67.233300</td>\n",
       "                        <td id=\"T_304bf699_9269_11eb_a169_8c04ba3e1d36row0_col6\" class=\"data row0 col6\" >95.766700</td>\n",
       "            </tr>\n",
       "            <tr>\n",
       "                        <th id=\"T_304bf699_9269_11eb_a169_8c04ba3e1d36level0_row1\" class=\"row_heading level0 row1\" >T: 10</th>\n",
       "                        <td id=\"T_304bf699_9269_11eb_a169_8c04ba3e1d36row1_col0\" class=\"data row1 col0\" >0.678100</td>\n",
       "                        <td id=\"T_304bf699_9269_11eb_a169_8c04ba3e1d36row1_col1\" class=\"data row1 col1\" >0.658800</td>\n",
       "                        <td id=\"T_304bf699_9269_11eb_a169_8c04ba3e1d36row1_col2\" class=\"data row1 col2\" >0.664200</td>\n",
       "                        <td id=\"T_304bf699_9269_11eb_a169_8c04ba3e1d36row1_col3\" class=\"data row1 col3\" >0.504400</td>\n",
       "                        <td id=\"T_304bf699_9269_11eb_a169_8c04ba3e1d36row1_col4\" class=\"data row1 col4\" >161.533300</td>\n",
       "                        <td id=\"T_304bf699_9269_11eb_a169_8c04ba3e1d36row1_col5\" class=\"data row1 col5\" >74.266700</td>\n",
       "                        <td id=\"T_304bf699_9269_11eb_a169_8c04ba3e1d36row1_col6\" class=\"data row1 col6\" >83.300000</td>\n",
       "            </tr>\n",
       "            <tr>\n",
       "                        <th id=\"T_304bf699_9269_11eb_a169_8c04ba3e1d36level0_row2\" class=\"row_heading level0 row2\" >T: 20</th>\n",
       "                        <td id=\"T_304bf699_9269_11eb_a169_8c04ba3e1d36row2_col0\" class=\"data row2 col0\" >0.612900</td>\n",
       "                        <td id=\"T_304bf699_9269_11eb_a169_8c04ba3e1d36row2_col1\" class=\"data row2 col1\" >0.688500</td>\n",
       "                        <td id=\"T_304bf699_9269_11eb_a169_8c04ba3e1d36row2_col2\" class=\"data row2 col2\" >0.645000</td>\n",
       "                        <td id=\"T_304bf699_9269_11eb_a169_8c04ba3e1d36row2_col3\" class=\"data row2 col3\" >0.484100</td>\n",
       "                        <td id=\"T_304bf699_9269_11eb_a169_8c04ba3e1d36row2_col4\" class=\"data row2 col4\" >165.866700</td>\n",
       "                        <td id=\"T_304bf699_9269_11eb_a169_8c04ba3e1d36row2_col5\" class=\"data row2 col5\" >102.100000</td>\n",
       "                        <td id=\"T_304bf699_9269_11eb_a169_8c04ba3e1d36row2_col6\" class=\"data row2 col6\" >78.800000</td>\n",
       "            </tr>\n",
       "    </tbody></table>"
      ],
      "text/plain": [
       "<pandas.io.formats.style.Styler at 0x24c81320b50>"
      ]
     },
     "metadata": {},
     "output_type": "display_data"
    },
    {
     "data": {
      "text/markdown": [
       "## Piano for W: AkPnBsdf, and for H: AkPnCGdD"
      ],
      "text/plain": [
       "<IPython.core.display.Markdown object>"
      ]
     },
     "metadata": {},
     "output_type": "display_data"
    },
    {
     "data": {
      "text/markdown": [
       "### When averaging each threshold on all MAPS"
      ],
      "text/plain": [
       "<IPython.core.display.Markdown object>"
      ]
     },
     "metadata": {},
     "output_type": "display_data"
    },
    {
     "data": {
      "text/html": [
       "<style  type=\"text/css\" >\n",
       "    #T_4618d5b8_926a_11eb_9b7e_8c04ba3e1d36row0_col3 {\n",
       "            width:  10em;\n",
       "             height:  80%;\n",
       "            background:  linear-gradient(90deg,#5fba7d 94.5%, transparent 94.5%);\n",
       "        }    #T_4618d5b8_926a_11eb_9b7e_8c04ba3e1d36row0_col4 {\n",
       "            width:  10em;\n",
       "             height:  80%;\n",
       "            background:  linear-gradient(90deg,#5fba7d 90.1%, transparent 90.1%);\n",
       "        }    #T_4618d5b8_926a_11eb_9b7e_8c04ba3e1d36row1_col3 {\n",
       "            width:  10em;\n",
       "             height:  80%;\n",
       "            background:  linear-gradient(90deg,#5fba7d 100.0%, transparent 100.0%);\n",
       "        }    #T_4618d5b8_926a_11eb_9b7e_8c04ba3e1d36row1_col4 {\n",
       "            width:  10em;\n",
       "             height:  80%;\n",
       "            background:  linear-gradient(90deg,#5fba7d 100.0%, transparent 100.0%);\n",
       "        }    #T_4618d5b8_926a_11eb_9b7e_8c04ba3e1d36row2_col3 {\n",
       "            width:  10em;\n",
       "             height:  80%;\n",
       "        }    #T_4618d5b8_926a_11eb_9b7e_8c04ba3e1d36row2_col4 {\n",
       "            width:  10em;\n",
       "             height:  80%;\n",
       "        }</style><table id=\"T_4618d5b8_926a_11eb_9b7e_8c04ba3e1d36\" ><thead>    <tr>        <th class=\"blank level0\" ></th>        <th class=\"col_heading level0 col0\" >Best threshold</th>        <th class=\"col_heading level0 col1\" >Precision</th>        <th class=\"col_heading level0 col2\" >Recall</th>        <th class=\"col_heading level0 col3\" >F measure</th>        <th class=\"col_heading level0 col4\" >Accuracy</th>        <th class=\"col_heading level0 col5\" >True Positives</th>        <th class=\"col_heading level0 col6\" >False Positives</th>        <th class=\"col_heading level0 col7\" >False Negatives</th>    </tr></thead><tbody>\n",
       "                <tr>\n",
       "                        <th id=\"T_4618d5b8_926a_11eb_9b7e_8c04ba3e1d36level0_row0\" class=\"row_heading level0 row0\" >T: 5</th>\n",
       "                        <td id=\"T_4618d5b8_926a_11eb_9b7e_8c04ba3e1d36row0_col0\" class=\"data row0 col0\" >0.330000</td>\n",
       "                        <td id=\"T_4618d5b8_926a_11eb_9b7e_8c04ba3e1d36row0_col1\" class=\"data row0 col1\" >0.702000</td>\n",
       "                        <td id=\"T_4618d5b8_926a_11eb_9b7e_8c04ba3e1d36row0_col2\" class=\"data row0 col2\" >0.693700</td>\n",
       "                        <td id=\"T_4618d5b8_926a_11eb_9b7e_8c04ba3e1d36row0_col3\" class=\"data row0 col3\" >0.689000</td>\n",
       "                        <td id=\"T_4618d5b8_926a_11eb_9b7e_8c04ba3e1d36row0_col4\" class=\"data row0 col4\" >0.532500</td>\n",
       "                        <td id=\"T_4618d5b8_926a_11eb_9b7e_8c04ba3e1d36row0_col5\" class=\"data row0 col5\" >173.466700</td>\n",
       "                        <td id=\"T_4618d5b8_926a_11eb_9b7e_8c04ba3e1d36row0_col6\" class=\"data row0 col6\" >71.066700</td>\n",
       "                        <td id=\"T_4618d5b8_926a_11eb_9b7e_8c04ba3e1d36row0_col7\" class=\"data row0 col7\" >77.733300</td>\n",
       "            </tr>\n",
       "            <tr>\n",
       "                        <th id=\"T_4618d5b8_926a_11eb_9b7e_8c04ba3e1d36level0_row1\" class=\"row_heading level0 row1\" >T: 10</th>\n",
       "                        <td id=\"T_4618d5b8_926a_11eb_9b7e_8c04ba3e1d36row1_col0\" class=\"data row1 col0\" >0.370000</td>\n",
       "                        <td id=\"T_4618d5b8_926a_11eb_9b7e_8c04ba3e1d36row1_col1\" class=\"data row1 col1\" >0.749900</td>\n",
       "                        <td id=\"T_4618d5b8_926a_11eb_9b7e_8c04ba3e1d36row1_col2\" class=\"data row1 col2\" >0.710200</td>\n",
       "                        <td id=\"T_4618d5b8_926a_11eb_9b7e_8c04ba3e1d36row1_col3\" class=\"data row1 col3\" >0.698500</td>\n",
       "                        <td id=\"T_4618d5b8_926a_11eb_9b7e_8c04ba3e1d36row1_col4\" class=\"data row1 col4\" >0.549100</td>\n",
       "                        <td id=\"T_4618d5b8_926a_11eb_9b7e_8c04ba3e1d36row1_col5\" class=\"data row1 col5\" >176.066700</td>\n",
       "                        <td id=\"T_4618d5b8_926a_11eb_9b7e_8c04ba3e1d36row1_col6\" class=\"data row1 col6\" >65.600000</td>\n",
       "                        <td id=\"T_4618d5b8_926a_11eb_9b7e_8c04ba3e1d36row1_col7\" class=\"data row1 col7\" >75.333300</td>\n",
       "            </tr>\n",
       "            <tr>\n",
       "                        <th id=\"T_4618d5b8_926a_11eb_9b7e_8c04ba3e1d36level0_row2\" class=\"row_heading level0 row2\" >T: 20</th>\n",
       "                        <td id=\"T_4618d5b8_926a_11eb_9b7e_8c04ba3e1d36row2_col0\" class=\"data row2 col0\" >0.090000</td>\n",
       "                        <td id=\"T_4618d5b8_926a_11eb_9b7e_8c04ba3e1d36row2_col1\" class=\"data row2 col1\" >0.540300</td>\n",
       "                        <td id=\"T_4618d5b8_926a_11eb_9b7e_8c04ba3e1d36row2_col2\" class=\"data row2 col2\" >0.767700</td>\n",
       "                        <td id=\"T_4618d5b8_926a_11eb_9b7e_8c04ba3e1d36row2_col3\" class=\"data row2 col3\" >0.527000</td>\n",
       "                        <td id=\"T_4618d5b8_926a_11eb_9b7e_8c04ba3e1d36row2_col4\" class=\"data row2 col4\" >0.382000</td>\n",
       "                        <td id=\"T_4618d5b8_926a_11eb_9b7e_8c04ba3e1d36row2_col5\" class=\"data row2 col5\" >195.766700</td>\n",
       "                        <td id=\"T_4618d5b8_926a_11eb_9b7e_8c04ba3e1d36row2_col6\" class=\"data row2 col6\" >410.733300</td>\n",
       "                        <td id=\"T_4618d5b8_926a_11eb_9b7e_8c04ba3e1d36row2_col7\" class=\"data row2 col7\" >55.533300</td>\n",
       "            </tr>\n",
       "    </tbody></table>"
      ],
      "text/plain": [
       "<pandas.io.formats.style.Styler at 0x24c813f8880>"
      ]
     },
     "metadata": {},
     "output_type": "display_data"
    },
    {
     "data": {
      "text/markdown": [
       "### When optimizing the threshold on each song"
      ],
      "text/plain": [
       "<IPython.core.display.Markdown object>"
      ]
     },
     "metadata": {},
     "output_type": "display_data"
    },
    {
     "data": {
      "text/html": [
       "<style  type=\"text/css\" >\n",
       "    #T_461a8246_926a_11eb_95b9_8c04ba3e1d36row0_col2 {\n",
       "            width:  10em;\n",
       "             height:  80%;\n",
       "        }    #T_461a8246_926a_11eb_95b9_8c04ba3e1d36row0_col3 {\n",
       "            width:  10em;\n",
       "             height:  80%;\n",
       "        }    #T_461a8246_926a_11eb_95b9_8c04ba3e1d36row1_col2 {\n",
       "            width:  10em;\n",
       "             height:  80%;\n",
       "            background:  linear-gradient(90deg,#5fba7d 100.0%, transparent 100.0%);\n",
       "        }    #T_461a8246_926a_11eb_95b9_8c04ba3e1d36row1_col3 {\n",
       "            width:  10em;\n",
       "             height:  80%;\n",
       "            background:  linear-gradient(90deg,#5fba7d 100.0%, transparent 100.0%);\n",
       "        }    #T_461a8246_926a_11eb_95b9_8c04ba3e1d36row2_col2 {\n",
       "            width:  10em;\n",
       "             height:  80%;\n",
       "            background:  linear-gradient(90deg,#5fba7d 90.8%, transparent 90.8%);\n",
       "        }    #T_461a8246_926a_11eb_95b9_8c04ba3e1d36row2_col3 {\n",
       "            width:  10em;\n",
       "             height:  80%;\n",
       "            background:  linear-gradient(90deg,#5fba7d 87.5%, transparent 87.5%);\n",
       "        }</style><table id=\"T_461a8246_926a_11eb_95b9_8c04ba3e1d36\" ><thead>    <tr>        <th class=\"blank level0\" ></th>        <th class=\"col_heading level0 col0\" >Precision</th>        <th class=\"col_heading level0 col1\" >Recall</th>        <th class=\"col_heading level0 col2\" >F measure</th>        <th class=\"col_heading level0 col3\" >Accuracy</th>        <th class=\"col_heading level0 col4\" >True Positives</th>        <th class=\"col_heading level0 col5\" >False Positives</th>        <th class=\"col_heading level0 col6\" >False Negatives</th>    </tr></thead><tbody>\n",
       "                <tr>\n",
       "                        <th id=\"T_461a8246_926a_11eb_95b9_8c04ba3e1d36level0_row0\" class=\"row_heading level0 row0\" >T: 5</th>\n",
       "                        <td id=\"T_461a8246_926a_11eb_95b9_8c04ba3e1d36row0_col0\" class=\"data row0 col0\" >0.743200</td>\n",
       "                        <td id=\"T_461a8246_926a_11eb_95b9_8c04ba3e1d36row0_col1\" class=\"data row0 col1\" >0.699200</td>\n",
       "                        <td id=\"T_461a8246_926a_11eb_95b9_8c04ba3e1d36row0_col2\" class=\"data row0 col2\" >0.715900</td>\n",
       "                        <td id=\"T_461a8246_926a_11eb_95b9_8c04ba3e1d36row0_col3\" class=\"data row0 col3\" >0.565600</td>\n",
       "                        <td id=\"T_461a8246_926a_11eb_95b9_8c04ba3e1d36row0_col4\" class=\"data row0 col4\" >178.266700</td>\n",
       "                        <td id=\"T_461a8246_926a_11eb_95b9_8c04ba3e1d36row0_col5\" class=\"data row0 col5\" >62.733300</td>\n",
       "                        <td id=\"T_461a8246_926a_11eb_95b9_8c04ba3e1d36row0_col6\" class=\"data row0 col6\" >73.100000</td>\n",
       "            </tr>\n",
       "            <tr>\n",
       "                        <th id=\"T_461a8246_926a_11eb_95b9_8c04ba3e1d36level0_row1\" class=\"row_heading level0 row1\" >T: 10</th>\n",
       "                        <td id=\"T_461a8246_926a_11eb_95b9_8c04ba3e1d36row1_col0\" class=\"data row1 col0\" >0.770300</td>\n",
       "                        <td id=\"T_461a8246_926a_11eb_95b9_8c04ba3e1d36row1_col1\" class=\"data row1 col1\" >0.777400</td>\n",
       "                        <td id=\"T_461a8246_926a_11eb_95b9_8c04ba3e1d36row1_col2\" class=\"data row1 col2\" >0.770000</td>\n",
       "                        <td id=\"T_461a8246_926a_11eb_95b9_8c04ba3e1d36row1_col3\" class=\"data row1 col3\" >0.633700</td>\n",
       "                        <td id=\"T_461a8246_926a_11eb_95b9_8c04ba3e1d36row1_col4\" class=\"data row1 col4\" >195.600000</td>\n",
       "                        <td id=\"T_461a8246_926a_11eb_95b9_8c04ba3e1d36row1_col5\" class=\"data row1 col5\" >63.866700</td>\n",
       "                        <td id=\"T_461a8246_926a_11eb_95b9_8c04ba3e1d36row1_col6\" class=\"data row1 col6\" >55.600000</td>\n",
       "            </tr>\n",
       "            <tr>\n",
       "                        <th id=\"T_461a8246_926a_11eb_95b9_8c04ba3e1d36level0_row2\" class=\"row_heading level0 row2\" >T: 20</th>\n",
       "                        <td id=\"T_461a8246_926a_11eb_95b9_8c04ba3e1d36row2_col0\" class=\"data row2 col0\" >0.758400</td>\n",
       "                        <td id=\"T_461a8246_926a_11eb_95b9_8c04ba3e1d36row2_col1\" class=\"data row2 col1\" >0.779400</td>\n",
       "                        <td id=\"T_461a8246_926a_11eb_95b9_8c04ba3e1d36row2_col2\" class=\"data row2 col2\" >0.765000</td>\n",
       "                        <td id=\"T_461a8246_926a_11eb_95b9_8c04ba3e1d36row2_col3\" class=\"data row2 col3\" >0.625200</td>\n",
       "                        <td id=\"T_461a8246_926a_11eb_95b9_8c04ba3e1d36row2_col4\" class=\"data row2 col4\" >192.466700</td>\n",
       "                        <td id=\"T_461a8246_926a_11eb_95b9_8c04ba3e1d36row2_col5\" class=\"data row2 col5\" >60.366700</td>\n",
       "                        <td id=\"T_461a8246_926a_11eb_95b9_8c04ba3e1d36row2_col6\" class=\"data row2 col6\" >58.700000</td>\n",
       "            </tr>\n",
       "    </tbody></table>"
      ],
      "text/plain": [
       "<pandas.io.formats.style.Styler at 0x24c81335ee0>"
      ]
     },
     "metadata": {},
     "output_type": "display_data"
    },
    {
     "data": {
      "text/markdown": [
       "## Piano for W: AkPnBsdf, and for H: ENSTDkCl"
      ],
      "text/plain": [
       "<IPython.core.display.Markdown object>"
      ]
     },
     "metadata": {},
     "output_type": "display_data"
    },
    {
     "data": {
      "text/markdown": [
       "### When averaging each threshold on all MAPS"
      ],
      "text/plain": [
       "<IPython.core.display.Markdown object>"
      ]
     },
     "metadata": {},
     "output_type": "display_data"
    },
    {
     "data": {
      "text/html": [
       "<style  type=\"text/css\" >\n",
       "    #T_62c699fd_926b_11eb_9e81_8c04ba3e1d36row0_col3 {\n",
       "            width:  10em;\n",
       "             height:  80%;\n",
       "            background:  linear-gradient(90deg,#5fba7d 92.7%, transparent 92.7%);\n",
       "        }    #T_62c699fd_926b_11eb_9e81_8c04ba3e1d36row0_col4 {\n",
       "            width:  10em;\n",
       "             height:  80%;\n",
       "            background:  linear-gradient(90deg,#5fba7d 85.7%, transparent 85.7%);\n",
       "        }    #T_62c699fd_926b_11eb_9e81_8c04ba3e1d36row1_col3 {\n",
       "            width:  10em;\n",
       "             height:  80%;\n",
       "            background:  linear-gradient(90deg,#5fba7d 100.0%, transparent 100.0%);\n",
       "        }    #T_62c699fd_926b_11eb_9e81_8c04ba3e1d36row1_col4 {\n",
       "            width:  10em;\n",
       "             height:  80%;\n",
       "            background:  linear-gradient(90deg,#5fba7d 100.0%, transparent 100.0%);\n",
       "        }    #T_62c699fd_926b_11eb_9e81_8c04ba3e1d36row2_col3 {\n",
       "            width:  10em;\n",
       "             height:  80%;\n",
       "        }    #T_62c699fd_926b_11eb_9e81_8c04ba3e1d36row2_col4 {\n",
       "            width:  10em;\n",
       "             height:  80%;\n",
       "        }</style><table id=\"T_62c699fd_926b_11eb_9e81_8c04ba3e1d36\" ><thead>    <tr>        <th class=\"blank level0\" ></th>        <th class=\"col_heading level0 col0\" >Best threshold</th>        <th class=\"col_heading level0 col1\" >Precision</th>        <th class=\"col_heading level0 col2\" >Recall</th>        <th class=\"col_heading level0 col3\" >F measure</th>        <th class=\"col_heading level0 col4\" >Accuracy</th>        <th class=\"col_heading level0 col5\" >True Positives</th>        <th class=\"col_heading level0 col6\" >False Positives</th>        <th class=\"col_heading level0 col7\" >False Negatives</th>    </tr></thead><tbody>\n",
       "                <tr>\n",
       "                        <th id=\"T_62c699fd_926b_11eb_9e81_8c04ba3e1d36level0_row0\" class=\"row_heading level0 row0\" >T: 5</th>\n",
       "                        <td id=\"T_62c699fd_926b_11eb_9e81_8c04ba3e1d36row0_col0\" class=\"data row0 col0\" >0.270000</td>\n",
       "                        <td id=\"T_62c699fd_926b_11eb_9e81_8c04ba3e1d36row0_col1\" class=\"data row0 col1\" >0.608000</td>\n",
       "                        <td id=\"T_62c699fd_926b_11eb_9e81_8c04ba3e1d36row0_col2\" class=\"data row0 col2\" >0.629600</td>\n",
       "                        <td id=\"T_62c699fd_926b_11eb_9e81_8c04ba3e1d36row0_col3\" class=\"data row0 col3\" >0.603400</td>\n",
       "                        <td id=\"T_62c699fd_926b_11eb_9e81_8c04ba3e1d36row0_col4\" class=\"data row0 col4\" >0.436500</td>\n",
       "                        <td id=\"T_62c699fd_926b_11eb_9e81_8c04ba3e1d36row0_col5\" class=\"data row0 col5\" >154.233300</td>\n",
       "                        <td id=\"T_62c699fd_926b_11eb_9e81_8c04ba3e1d36row0_col6\" class=\"data row0 col6\" >101.466700</td>\n",
       "                        <td id=\"T_62c699fd_926b_11eb_9e81_8c04ba3e1d36row0_col7\" class=\"data row0 col7\" >90.600000</td>\n",
       "            </tr>\n",
       "            <tr>\n",
       "                        <th id=\"T_62c699fd_926b_11eb_9e81_8c04ba3e1d36level0_row1\" class=\"row_heading level0 row1\" >T: 10</th>\n",
       "                        <td id=\"T_62c699fd_926b_11eb_9e81_8c04ba3e1d36row1_col0\" class=\"data row1 col0\" >0.330000</td>\n",
       "                        <td id=\"T_62c699fd_926b_11eb_9e81_8c04ba3e1d36row1_col1\" class=\"data row1 col1\" >0.637100</td>\n",
       "                        <td id=\"T_62c699fd_926b_11eb_9e81_8c04ba3e1d36row1_col2\" class=\"data row1 col2\" >0.664400</td>\n",
       "                        <td id=\"T_62c699fd_926b_11eb_9e81_8c04ba3e1d36row1_col3\" class=\"data row1 col3\" >0.614700</td>\n",
       "                        <td id=\"T_62c699fd_926b_11eb_9e81_8c04ba3e1d36row1_col4\" class=\"data row1 col4\" >0.456400</td>\n",
       "                        <td id=\"T_62c699fd_926b_11eb_9e81_8c04ba3e1d36row1_col5\" class=\"data row1 col5\" >155.100000</td>\n",
       "                        <td id=\"T_62c699fd_926b_11eb_9e81_8c04ba3e1d36row1_col6\" class=\"data row1 col6\" >97.766700</td>\n",
       "                        <td id=\"T_62c699fd_926b_11eb_9e81_8c04ba3e1d36row1_col7\" class=\"data row1 col7\" >89.900000</td>\n",
       "            </tr>\n",
       "            <tr>\n",
       "                        <th id=\"T_62c699fd_926b_11eb_9e81_8c04ba3e1d36level0_row2\" class=\"row_heading level0 row2\" >T: 20</th>\n",
       "                        <td id=\"T_62c699fd_926b_11eb_9e81_8c04ba3e1d36row2_col0\" class=\"data row2 col0\" >0.090000</td>\n",
       "                        <td id=\"T_62c699fd_926b_11eb_9e81_8c04ba3e1d36row2_col1\" class=\"data row2 col1\" >0.527200</td>\n",
       "                        <td id=\"T_62c699fd_926b_11eb_9e81_8c04ba3e1d36row2_col2\" class=\"data row2 col2\" >0.652300</td>\n",
       "                        <td id=\"T_62c699fd_926b_11eb_9e81_8c04ba3e1d36row2_col3\" class=\"data row2 col3\" >0.459800</td>\n",
       "                        <td id=\"T_62c699fd_926b_11eb_9e81_8c04ba3e1d36row2_col4\" class=\"data row2 col4\" >0.317600</td>\n",
       "                        <td id=\"T_62c699fd_926b_11eb_9e81_8c04ba3e1d36row2_col5\" class=\"data row2 col5\" >151.133300</td>\n",
       "                        <td id=\"T_62c699fd_926b_11eb_9e81_8c04ba3e1d36row2_col6\" class=\"data row2 col6\" >368.566700</td>\n",
       "                        <td id=\"T_62c699fd_926b_11eb_9e81_8c04ba3e1d36row2_col7\" class=\"data row2 col7\" >93.766700</td>\n",
       "            </tr>\n",
       "    </tbody></table>"
      ],
      "text/plain": [
       "<pandas.io.formats.style.Styler at 0x24c80ea9f70>"
      ]
     },
     "metadata": {},
     "output_type": "display_data"
    },
    {
     "data": {
      "text/markdown": [
       "### When optimizing the threshold on each song"
      ],
      "text/plain": [
       "<IPython.core.display.Markdown object>"
      ]
     },
     "metadata": {},
     "output_type": "display_data"
    },
    {
     "data": {
      "text/html": [
       "<style  type=\"text/css\" >\n",
       "    #T_62c8e250_926b_11eb_92e5_8c04ba3e1d36row0_col2 {\n",
       "            width:  10em;\n",
       "             height:  80%;\n",
       "        }    #T_62c8e250_926b_11eb_92e5_8c04ba3e1d36row0_col3 {\n",
       "            width:  10em;\n",
       "             height:  80%;\n",
       "        }    #T_62c8e250_926b_11eb_92e5_8c04ba3e1d36row1_col2 {\n",
       "            width:  10em;\n",
       "             height:  80%;\n",
       "            background:  linear-gradient(90deg,#5fba7d 100.0%, transparent 100.0%);\n",
       "        }    #T_62c8e250_926b_11eb_92e5_8c04ba3e1d36row1_col3 {\n",
       "            width:  10em;\n",
       "             height:  80%;\n",
       "            background:  linear-gradient(90deg,#5fba7d 100.0%, transparent 100.0%);\n",
       "        }    #T_62c8e250_926b_11eb_92e5_8c04ba3e1d36row2_col2 {\n",
       "            width:  10em;\n",
       "             height:  80%;\n",
       "            background:  linear-gradient(90deg,#5fba7d 70.3%, transparent 70.3%);\n",
       "        }    #T_62c8e250_926b_11eb_92e5_8c04ba3e1d36row2_col3 {\n",
       "            width:  10em;\n",
       "             height:  80%;\n",
       "            background:  linear-gradient(90deg,#5fba7d 68.1%, transparent 68.1%);\n",
       "        }</style><table id=\"T_62c8e250_926b_11eb_92e5_8c04ba3e1d36\" ><thead>    <tr>        <th class=\"blank level0\" ></th>        <th class=\"col_heading level0 col0\" >Precision</th>        <th class=\"col_heading level0 col1\" >Recall</th>        <th class=\"col_heading level0 col2\" >F measure</th>        <th class=\"col_heading level0 col3\" >Accuracy</th>        <th class=\"col_heading level0 col4\" >True Positives</th>        <th class=\"col_heading level0 col5\" >False Positives</th>        <th class=\"col_heading level0 col6\" >False Negatives</th>    </tr></thead><tbody>\n",
       "                <tr>\n",
       "                        <th id=\"T_62c8e250_926b_11eb_92e5_8c04ba3e1d36level0_row0\" class=\"row_heading level0 row0\" >T: 5</th>\n",
       "                        <td id=\"T_62c8e250_926b_11eb_92e5_8c04ba3e1d36row0_col0\" class=\"data row0 col0\" >0.647100</td>\n",
       "                        <td id=\"T_62c8e250_926b_11eb_92e5_8c04ba3e1d36row0_col1\" class=\"data row0 col1\" >0.625500</td>\n",
       "                        <td id=\"T_62c8e250_926b_11eb_92e5_8c04ba3e1d36row0_col2\" class=\"data row0 col2\" >0.630700</td>\n",
       "                        <td id=\"T_62c8e250_926b_11eb_92e5_8c04ba3e1d36row0_col3\" class=\"data row0 col3\" >0.465600</td>\n",
       "                        <td id=\"T_62c8e250_926b_11eb_92e5_8c04ba3e1d36row0_col4\" class=\"data row0 col4\" >153.300000</td>\n",
       "                        <td id=\"T_62c8e250_926b_11eb_92e5_8c04ba3e1d36row0_col5\" class=\"data row0 col5\" >83.133300</td>\n",
       "                        <td id=\"T_62c8e250_926b_11eb_92e5_8c04ba3e1d36row0_col6\" class=\"data row0 col6\" >91.566700</td>\n",
       "            </tr>\n",
       "            <tr>\n",
       "                        <th id=\"T_62c8e250_926b_11eb_92e5_8c04ba3e1d36level0_row1\" class=\"row_heading level0 row1\" >T: 10</th>\n",
       "                        <td id=\"T_62c8e250_926b_11eb_92e5_8c04ba3e1d36row1_col0\" class=\"data row1 col0\" >0.682200</td>\n",
       "                        <td id=\"T_62c8e250_926b_11eb_92e5_8c04ba3e1d36row1_col1\" class=\"data row1 col1\" >0.677300</td>\n",
       "                        <td id=\"T_62c8e250_926b_11eb_92e5_8c04ba3e1d36row1_col2\" class=\"data row1 col2\" >0.674800</td>\n",
       "                        <td id=\"T_62c8e250_926b_11eb_92e5_8c04ba3e1d36row1_col3\" class=\"data row1 col3\" >0.515100</td>\n",
       "                        <td id=\"T_62c8e250_926b_11eb_92e5_8c04ba3e1d36row1_col4\" class=\"data row1 col4\" >164.900000</td>\n",
       "                        <td id=\"T_62c8e250_926b_11eb_92e5_8c04ba3e1d36row1_col5\" class=\"data row1 col5\" >77.000000</td>\n",
       "                        <td id=\"T_62c8e250_926b_11eb_92e5_8c04ba3e1d36row1_col6\" class=\"data row1 col6\" >79.933300</td>\n",
       "            </tr>\n",
       "            <tr>\n",
       "                        <th id=\"T_62c8e250_926b_11eb_92e5_8c04ba3e1d36level0_row2\" class=\"row_heading level0 row2\" >T: 20</th>\n",
       "                        <td id=\"T_62c8e250_926b_11eb_92e5_8c04ba3e1d36row2_col0\" class=\"data row2 col0\" >0.639000</td>\n",
       "                        <td id=\"T_62c8e250_926b_11eb_92e5_8c04ba3e1d36row2_col1\" class=\"data row2 col1\" >0.695500</td>\n",
       "                        <td id=\"T_62c8e250_926b_11eb_92e5_8c04ba3e1d36row2_col2\" class=\"data row2 col2\" >0.661700</td>\n",
       "                        <td id=\"T_62c8e250_926b_11eb_92e5_8c04ba3e1d36row2_col3\" class=\"data row2 col3\" >0.499300</td>\n",
       "                        <td id=\"T_62c8e250_926b_11eb_92e5_8c04ba3e1d36row2_col4\" class=\"data row2 col4\" >169.100000</td>\n",
       "                        <td id=\"T_62c8e250_926b_11eb_92e5_8c04ba3e1d36row2_col5\" class=\"data row2 col5\" >101.833300</td>\n",
       "                        <td id=\"T_62c8e250_926b_11eb_92e5_8c04ba3e1d36row2_col6\" class=\"data row2 col6\" >75.900000</td>\n",
       "            </tr>\n",
       "    </tbody></table>"
      ],
      "text/plain": [
       "<pandas.io.formats.style.Styler at 0x24c810fd760>"
      ]
     },
     "metadata": {},
     "output_type": "display_data"
    },
    {
     "data": {
      "text/markdown": [
       "## Piano for W: AkPnStgb, and for H: AkPnCGdD"
      ],
      "text/plain": [
       "<IPython.core.display.Markdown object>"
      ]
     },
     "metadata": {},
     "output_type": "display_data"
    },
    {
     "data": {
      "text/markdown": [
       "### When averaging each threshold on all MAPS"
      ],
      "text/plain": [
       "<IPython.core.display.Markdown object>"
      ]
     },
     "metadata": {},
     "output_type": "display_data"
    },
    {
     "data": {
      "text/html": [
       "<style  type=\"text/css\" >\n",
       "    #T_81e19340_926c_11eb_9faf_8c04ba3e1d36row0_col3 {\n",
       "            width:  10em;\n",
       "             height:  80%;\n",
       "            background:  linear-gradient(90deg,#5fba7d 100.0%, transparent 100.0%);\n",
       "        }    #T_81e19340_926c_11eb_9faf_8c04ba3e1d36row0_col4 {\n",
       "            width:  10em;\n",
       "             height:  80%;\n",
       "            background:  linear-gradient(90deg,#5fba7d 100.0%, transparent 100.0%);\n",
       "        }    #T_81e19340_926c_11eb_9faf_8c04ba3e1d36row1_col3 {\n",
       "            width:  10em;\n",
       "             height:  80%;\n",
       "            background:  linear-gradient(90deg,#5fba7d 69.8%, transparent 69.8%);\n",
       "        }    #T_81e19340_926c_11eb_9faf_8c04ba3e1d36row1_col4 {\n",
       "            width:  10em;\n",
       "             height:  80%;\n",
       "            background:  linear-gradient(90deg,#5fba7d 72.2%, transparent 72.2%);\n",
       "        }    #T_81e19340_926c_11eb_9faf_8c04ba3e1d36row2_col3 {\n",
       "            width:  10em;\n",
       "             height:  80%;\n",
       "        }    #T_81e19340_926c_11eb_9faf_8c04ba3e1d36row2_col4 {\n",
       "            width:  10em;\n",
       "             height:  80%;\n",
       "        }</style><table id=\"T_81e19340_926c_11eb_9faf_8c04ba3e1d36\" ><thead>    <tr>        <th class=\"blank level0\" ></th>        <th class=\"col_heading level0 col0\" >Best threshold</th>        <th class=\"col_heading level0 col1\" >Precision</th>        <th class=\"col_heading level0 col2\" >Recall</th>        <th class=\"col_heading level0 col3\" >F measure</th>        <th class=\"col_heading level0 col4\" >Accuracy</th>        <th class=\"col_heading level0 col5\" >True Positives</th>        <th class=\"col_heading level0 col6\" >False Positives</th>        <th class=\"col_heading level0 col7\" >False Negatives</th>    </tr></thead><tbody>\n",
       "                <tr>\n",
       "                        <th id=\"T_81e19340_926c_11eb_9faf_8c04ba3e1d36level0_row0\" class=\"row_heading level0 row0\" >T: 5</th>\n",
       "                        <td id=\"T_81e19340_926c_11eb_9faf_8c04ba3e1d36row0_col0\" class=\"data row0 col0\" >0.310000</td>\n",
       "                        <td id=\"T_81e19340_926c_11eb_9faf_8c04ba3e1d36row0_col1\" class=\"data row0 col1\" >0.627500</td>\n",
       "                        <td id=\"T_81e19340_926c_11eb_9faf_8c04ba3e1d36row0_col2\" class=\"data row0 col2\" >0.638800</td>\n",
       "                        <td id=\"T_81e19340_926c_11eb_9faf_8c04ba3e1d36row0_col3\" class=\"data row0 col3\" >0.610500</td>\n",
       "                        <td id=\"T_81e19340_926c_11eb_9faf_8c04ba3e1d36row0_col4\" class=\"data row0 col4\" >0.449600</td>\n",
       "                        <td id=\"T_81e19340_926c_11eb_9faf_8c04ba3e1d36row0_col5\" class=\"data row0 col5\" >153.566700</td>\n",
       "                        <td id=\"T_81e19340_926c_11eb_9faf_8c04ba3e1d36row0_col6\" class=\"data row0 col6\" >94.800000</td>\n",
       "                        <td id=\"T_81e19340_926c_11eb_9faf_8c04ba3e1d36row0_col7\" class=\"data row0 col7\" >97.900000</td>\n",
       "            </tr>\n",
       "            <tr>\n",
       "                        <th id=\"T_81e19340_926c_11eb_9faf_8c04ba3e1d36level0_row1\" class=\"row_heading level0 row1\" >T: 10</th>\n",
       "                        <td id=\"T_81e19340_926c_11eb_9faf_8c04ba3e1d36row1_col0\" class=\"data row1 col0\" >0.270000</td>\n",
       "                        <td id=\"T_81e19340_926c_11eb_9faf_8c04ba3e1d36row1_col1\" class=\"data row1 col1\" >0.633400</td>\n",
       "                        <td id=\"T_81e19340_926c_11eb_9faf_8c04ba3e1d36row1_col2\" class=\"data row1 col2\" >0.654700</td>\n",
       "                        <td id=\"T_81e19340_926c_11eb_9faf_8c04ba3e1d36row1_col3\" class=\"data row1 col3\" >0.579300</td>\n",
       "                        <td id=\"T_81e19340_926c_11eb_9faf_8c04ba3e1d36row1_col4\" class=\"data row1 col4\" >0.423000</td>\n",
       "                        <td id=\"T_81e19340_926c_11eb_9faf_8c04ba3e1d36row1_col5\" class=\"data row1 col5\" >159.166700</td>\n",
       "                        <td id=\"T_81e19340_926c_11eb_9faf_8c04ba3e1d36row1_col6\" class=\"data row1 col6\" >120.400000</td>\n",
       "                        <td id=\"T_81e19340_926c_11eb_9faf_8c04ba3e1d36row1_col7\" class=\"data row1 col7\" >92.166700</td>\n",
       "            </tr>\n",
       "            <tr>\n",
       "                        <th id=\"T_81e19340_926c_11eb_9faf_8c04ba3e1d36level0_row2\" class=\"row_heading level0 row2\" >T: 20</th>\n",
       "                        <td id=\"T_81e19340_926c_11eb_9faf_8c04ba3e1d36row2_col0\" class=\"data row2 col0\" >0.250000</td>\n",
       "                        <td id=\"T_81e19340_926c_11eb_9faf_8c04ba3e1d36row2_col1\" class=\"data row2 col1\" >0.579600</td>\n",
       "                        <td id=\"T_81e19340_926c_11eb_9faf_8c04ba3e1d36row2_col2\" class=\"data row2 col2\" >0.624200</td>\n",
       "                        <td id=\"T_81e19340_926c_11eb_9faf_8c04ba3e1d36row2_col3\" class=\"data row2 col3\" >0.507100</td>\n",
       "                        <td id=\"T_81e19340_926c_11eb_9faf_8c04ba3e1d36row2_col4\" class=\"data row2 col4\" >0.354000</td>\n",
       "                        <td id=\"T_81e19340_926c_11eb_9faf_8c04ba3e1d36row2_col5\" class=\"data row2 col5\" >152.000000</td>\n",
       "                        <td id=\"T_81e19340_926c_11eb_9faf_8c04ba3e1d36row2_col6\" class=\"data row2 col6\" >182.966700</td>\n",
       "                        <td id=\"T_81e19340_926c_11eb_9faf_8c04ba3e1d36row2_col7\" class=\"data row2 col7\" >99.500000</td>\n",
       "            </tr>\n",
       "    </tbody></table>"
      ],
      "text/plain": [
       "<pandas.io.formats.style.Styler at 0x24c81313b20>"
      ]
     },
     "metadata": {},
     "output_type": "display_data"
    },
    {
     "data": {
      "text/markdown": [
       "### When optimizing the threshold on each song"
      ],
      "text/plain": [
       "<IPython.core.display.Markdown object>"
      ]
     },
     "metadata": {},
     "output_type": "display_data"
    },
    {
     "data": {
      "text/html": [
       "<style  type=\"text/css\" >\n",
       "    #T_81e33fc9_926c_11eb_acce_8c04ba3e1d36row0_col2 {\n",
       "            width:  10em;\n",
       "             height:  80%;\n",
       "        }    #T_81e33fc9_926c_11eb_acce_8c04ba3e1d36row0_col3 {\n",
       "            width:  10em;\n",
       "             height:  80%;\n",
       "        }    #T_81e33fc9_926c_11eb_acce_8c04ba3e1d36row1_col2 {\n",
       "            width:  10em;\n",
       "             height:  80%;\n",
       "            background:  linear-gradient(90deg,#5fba7d 100.0%, transparent 100.0%);\n",
       "        }    #T_81e33fc9_926c_11eb_acce_8c04ba3e1d36row1_col3 {\n",
       "            width:  10em;\n",
       "             height:  80%;\n",
       "            background:  linear-gradient(90deg,#5fba7d 100.0%, transparent 100.0%);\n",
       "        }    #T_81e33fc9_926c_11eb_acce_8c04ba3e1d36row2_col2 {\n",
       "            width:  10em;\n",
       "             height:  80%;\n",
       "            background:  linear-gradient(90deg,#5fba7d 26.1%, transparent 26.1%);\n",
       "        }    #T_81e33fc9_926c_11eb_acce_8c04ba3e1d36row2_col3 {\n",
       "            width:  10em;\n",
       "             height:  80%;\n",
       "            background:  linear-gradient(90deg,#5fba7d 23.0%, transparent 23.0%);\n",
       "        }</style><table id=\"T_81e33fc9_926c_11eb_acce_8c04ba3e1d36\" ><thead>    <tr>        <th class=\"blank level0\" ></th>        <th class=\"col_heading level0 col0\" >Precision</th>        <th class=\"col_heading level0 col1\" >Recall</th>        <th class=\"col_heading level0 col2\" >F measure</th>        <th class=\"col_heading level0 col3\" >Accuracy</th>        <th class=\"col_heading level0 col4\" >True Positives</th>        <th class=\"col_heading level0 col5\" >False Positives</th>        <th class=\"col_heading level0 col6\" >False Negatives</th>    </tr></thead><tbody>\n",
       "                <tr>\n",
       "                        <th id=\"T_81e33fc9_926c_11eb_acce_8c04ba3e1d36level0_row0\" class=\"row_heading level0 row0\" >T: 5</th>\n",
       "                        <td id=\"T_81e33fc9_926c_11eb_acce_8c04ba3e1d36row0_col0\" class=\"data row0 col0\" >0.701300</td>\n",
       "                        <td id=\"T_81e33fc9_926c_11eb_acce_8c04ba3e1d36row0_col1\" class=\"data row0 col1\" >0.629900</td>\n",
       "                        <td id=\"T_81e33fc9_926c_11eb_acce_8c04ba3e1d36row0_col2\" class=\"data row0 col2\" >0.661400</td>\n",
       "                        <td id=\"T_81e33fc9_926c_11eb_acce_8c04ba3e1d36row0_col3\" class=\"data row0 col3\" >0.503700</td>\n",
       "                        <td id=\"T_81e33fc9_926c_11eb_acce_8c04ba3e1d36row0_col4\" class=\"data row0 col4\" >158.800000</td>\n",
       "                        <td id=\"T_81e33fc9_926c_11eb_acce_8c04ba3e1d36row0_col5\" class=\"data row0 col5\" >70.133300</td>\n",
       "                        <td id=\"T_81e33fc9_926c_11eb_acce_8c04ba3e1d36row0_col6\" class=\"data row0 col6\" >92.600000</td>\n",
       "            </tr>\n",
       "            <tr>\n",
       "                        <th id=\"T_81e33fc9_926c_11eb_acce_8c04ba3e1d36level0_row1\" class=\"row_heading level0 row1\" >T: 10</th>\n",
       "                        <td id=\"T_81e33fc9_926c_11eb_acce_8c04ba3e1d36row1_col0\" class=\"data row1 col0\" >0.721700</td>\n",
       "                        <td id=\"T_81e33fc9_926c_11eb_acce_8c04ba3e1d36row1_col1\" class=\"data row1 col1\" >0.698800</td>\n",
       "                        <td id=\"T_81e33fc9_926c_11eb_acce_8c04ba3e1d36row1_col2\" class=\"data row1 col2\" >0.707000</td>\n",
       "                        <td id=\"T_81e33fc9_926c_11eb_acce_8c04ba3e1d36row1_col3\" class=\"data row1 col3\" >0.557700</td>\n",
       "                        <td id=\"T_81e33fc9_926c_11eb_acce_8c04ba3e1d36row1_col4\" class=\"data row1 col4\" >174.233300</td>\n",
       "                        <td id=\"T_81e33fc9_926c_11eb_acce_8c04ba3e1d36row1_col5\" class=\"data row1 col5\" >71.266700</td>\n",
       "                        <td id=\"T_81e33fc9_926c_11eb_acce_8c04ba3e1d36row1_col6\" class=\"data row1 col6\" >77.066700</td>\n",
       "            </tr>\n",
       "            <tr>\n",
       "                        <th id=\"T_81e33fc9_926c_11eb_acce_8c04ba3e1d36level0_row2\" class=\"row_heading level0 row2\" >T: 20</th>\n",
       "                        <td id=\"T_81e33fc9_926c_11eb_acce_8c04ba3e1d36row2_col0\" class=\"data row2 col0\" >0.664900</td>\n",
       "                        <td id=\"T_81e33fc9_926c_11eb_acce_8c04ba3e1d36row2_col1\" class=\"data row2 col1\" >0.691200</td>\n",
       "                        <td id=\"T_81e33fc9_926c_11eb_acce_8c04ba3e1d36row2_col2\" class=\"data row2 col2\" >0.673300</td>\n",
       "                        <td id=\"T_81e33fc9_926c_11eb_acce_8c04ba3e1d36row2_col3\" class=\"data row2 col3\" >0.516100</td>\n",
       "                        <td id=\"T_81e33fc9_926c_11eb_acce_8c04ba3e1d36row2_col4\" class=\"data row2 col4\" >167.500000</td>\n",
       "                        <td id=\"T_81e33fc9_926c_11eb_acce_8c04ba3e1d36row2_col5\" class=\"data row2 col5\" >82.733300</td>\n",
       "                        <td id=\"T_81e33fc9_926c_11eb_acce_8c04ba3e1d36row2_col6\" class=\"data row2 col6\" >83.900000</td>\n",
       "            </tr>\n",
       "    </tbody></table>"
      ],
      "text/plain": [
       "<pandas.io.formats.style.Styler at 0x24c80e64e20>"
      ]
     },
     "metadata": {},
     "output_type": "display_data"
    },
    {
     "data": {
      "text/markdown": [
       "## Piano for W: AkPnStgb, and for H: ENSTDkCl"
      ],
      "text/plain": [
       "<IPython.core.display.Markdown object>"
      ]
     },
     "metadata": {},
     "output_type": "display_data"
    },
    {
     "data": {
      "text/markdown": [
       "### When averaging each threshold on all MAPS"
      ],
      "text/plain": [
       "<IPython.core.display.Markdown object>"
      ]
     },
     "metadata": {},
     "output_type": "display_data"
    },
    {
     "data": {
      "text/html": [
       "<style  type=\"text/css\" >\n",
       "    #T_c21455ac_926d_11eb_b840_8c04ba3e1d36row0_col3 {\n",
       "            width:  10em;\n",
       "             height:  80%;\n",
       "            background:  linear-gradient(90deg,#5fba7d 62.3%, transparent 62.3%);\n",
       "        }    #T_c21455ac_926d_11eb_b840_8c04ba3e1d36row0_col4 {\n",
       "            width:  10em;\n",
       "             height:  80%;\n",
       "            background:  linear-gradient(90deg,#5fba7d 28.6%, transparent 28.6%);\n",
       "        }    #T_c21455ac_926d_11eb_b840_8c04ba3e1d36row1_col3 {\n",
       "            width:  10em;\n",
       "             height:  80%;\n",
       "            background:  linear-gradient(90deg,#5fba7d 100.0%, transparent 100.0%);\n",
       "        }    #T_c21455ac_926d_11eb_b840_8c04ba3e1d36row1_col4 {\n",
       "            width:  10em;\n",
       "             height:  80%;\n",
       "            background:  linear-gradient(90deg,#5fba7d 100.0%, transparent 100.0%);\n",
       "        }    #T_c21455ac_926d_11eb_b840_8c04ba3e1d36row2_col3 {\n",
       "            width:  10em;\n",
       "             height:  80%;\n",
       "        }    #T_c21455ac_926d_11eb_b840_8c04ba3e1d36row2_col4 {\n",
       "            width:  10em;\n",
       "             height:  80%;\n",
       "        }</style><table id=\"T_c21455ac_926d_11eb_b840_8c04ba3e1d36\" ><thead>    <tr>        <th class=\"blank level0\" ></th>        <th class=\"col_heading level0 col0\" >Best threshold</th>        <th class=\"col_heading level0 col1\" >Precision</th>        <th class=\"col_heading level0 col2\" >Recall</th>        <th class=\"col_heading level0 col3\" >F measure</th>        <th class=\"col_heading level0 col4\" >Accuracy</th>        <th class=\"col_heading level0 col5\" >True Positives</th>        <th class=\"col_heading level0 col6\" >False Positives</th>        <th class=\"col_heading level0 col7\" >False Negatives</th>    </tr></thead><tbody>\n",
       "                <tr>\n",
       "                        <th id=\"T_c21455ac_926d_11eb_b840_8c04ba3e1d36level0_row0\" class=\"row_heading level0 row0\" >T: 5</th>\n",
       "                        <td id=\"T_c21455ac_926d_11eb_b840_8c04ba3e1d36row0_col0\" class=\"data row0 col0\" >0.310000</td>\n",
       "                        <td id=\"T_c21455ac_926d_11eb_b840_8c04ba3e1d36row0_col1\" class=\"data row0 col1\" >0.683300</td>\n",
       "                        <td id=\"T_c21455ac_926d_11eb_b840_8c04ba3e1d36row0_col2\" class=\"data row0 col2\" >0.583200</td>\n",
       "                        <td id=\"T_c21455ac_926d_11eb_b840_8c04ba3e1d36row0_col3\" class=\"data row0 col3\" >0.613300</td>\n",
       "                        <td id=\"T_c21455ac_926d_11eb_b840_8c04ba3e1d36row0_col4\" class=\"data row0 col4\" >0.452400</td>\n",
       "                        <td id=\"T_c21455ac_926d_11eb_b840_8c04ba3e1d36row0_col5\" class=\"data row0 col5\" >145.233300</td>\n",
       "                        <td id=\"T_c21455ac_926d_11eb_b840_8c04ba3e1d36row0_col6\" class=\"data row0 col6\" >72.033300</td>\n",
       "                        <td id=\"T_c21455ac_926d_11eb_b840_8c04ba3e1d36row0_col7\" class=\"data row0 col7\" >99.666700</td>\n",
       "            </tr>\n",
       "            <tr>\n",
       "                        <th id=\"T_c21455ac_926d_11eb_b840_8c04ba3e1d36level0_row1\" class=\"row_heading level0 row1\" >T: 10</th>\n",
       "                        <td id=\"T_c21455ac_926d_11eb_b840_8c04ba3e1d36row1_col0\" class=\"data row1 col0\" >0.350000</td>\n",
       "                        <td id=\"T_c21455ac_926d_11eb_b840_8c04ba3e1d36row1_col1\" class=\"data row1 col1\" >0.703700</td>\n",
       "                        <td id=\"T_c21455ac_926d_11eb_b840_8c04ba3e1d36row1_col2\" class=\"data row1 col2\" >0.619000</td>\n",
       "                        <td id=\"T_c21455ac_926d_11eb_b840_8c04ba3e1d36row1_col3\" class=\"data row1 col3\" >0.623400</td>\n",
       "                        <td id=\"T_c21455ac_926d_11eb_b840_8c04ba3e1d36row1_col4\" class=\"data row1 col4\" >0.470900</td>\n",
       "                        <td id=\"T_c21455ac_926d_11eb_b840_8c04ba3e1d36row1_col5\" class=\"data row1 col5\" >145.866700</td>\n",
       "                        <td id=\"T_c21455ac_926d_11eb_b840_8c04ba3e1d36row1_col6\" class=\"data row1 col6\" >71.333300</td>\n",
       "                        <td id=\"T_c21455ac_926d_11eb_b840_8c04ba3e1d36row1_col7\" class=\"data row1 col7\" >99.000000</td>\n",
       "            </tr>\n",
       "            <tr>\n",
       "                        <th id=\"T_c21455ac_926d_11eb_b840_8c04ba3e1d36level0_row2\" class=\"row_heading level0 row2\" >T: 20</th>\n",
       "                        <td id=\"T_c21455ac_926d_11eb_b840_8c04ba3e1d36row2_col0\" class=\"data row2 col0\" >0.390000</td>\n",
       "                        <td id=\"T_c21455ac_926d_11eb_b840_8c04ba3e1d36row2_col1\" class=\"data row2 col1\" >0.654900</td>\n",
       "                        <td id=\"T_c21455ac_926d_11eb_b840_8c04ba3e1d36row2_col2\" class=\"data row2 col2\" >0.615600</td>\n",
       "                        <td id=\"T_c21455ac_926d_11eb_b840_8c04ba3e1d36row2_col3\" class=\"data row2 col3\" >0.596600</td>\n",
       "                        <td id=\"T_c21455ac_926d_11eb_b840_8c04ba3e1d36row2_col4\" class=\"data row2 col4\" >0.445000</td>\n",
       "                        <td id=\"T_c21455ac_926d_11eb_b840_8c04ba3e1d36row2_col5\" class=\"data row2 col5\" >142.800000</td>\n",
       "                        <td id=\"T_c21455ac_926d_11eb_b840_8c04ba3e1d36row2_col6\" class=\"data row2 col6\" >82.833300</td>\n",
       "                        <td id=\"T_c21455ac_926d_11eb_b840_8c04ba3e1d36row2_col7\" class=\"data row2 col7\" >83.266700</td>\n",
       "            </tr>\n",
       "    </tbody></table>"
      ],
      "text/plain": [
       "<pandas.io.formats.style.Styler at 0x24c80a4f940>"
      ]
     },
     "metadata": {},
     "output_type": "display_data"
    },
    {
     "data": {
      "text/markdown": [
       "### When optimizing the threshold on each song"
      ],
      "text/plain": [
       "<IPython.core.display.Markdown object>"
      ]
     },
     "metadata": {},
     "output_type": "display_data"
    },
    {
     "data": {
      "text/html": [
       "<style  type=\"text/css\" >\n",
       "    #T_c2169e03_926d_11eb_971e_8c04ba3e1d36row0_col2 {\n",
       "            width:  10em;\n",
       "             height:  80%;\n",
       "        }    #T_c2169e03_926d_11eb_971e_8c04ba3e1d36row0_col3 {\n",
       "            width:  10em;\n",
       "             height:  80%;\n",
       "        }    #T_c2169e03_926d_11eb_971e_8c04ba3e1d36row1_col2 {\n",
       "            width:  10em;\n",
       "             height:  80%;\n",
       "            background:  linear-gradient(90deg,#5fba7d 100.0%, transparent 100.0%);\n",
       "        }    #T_c2169e03_926d_11eb_971e_8c04ba3e1d36row1_col3 {\n",
       "            width:  10em;\n",
       "             height:  80%;\n",
       "            background:  linear-gradient(90deg,#5fba7d 100.0%, transparent 100.0%);\n",
       "        }    #T_c2169e03_926d_11eb_971e_8c04ba3e1d36row2_col2 {\n",
       "            width:  10em;\n",
       "             height:  80%;\n",
       "            background:  linear-gradient(90deg,#5fba7d 84.6%, transparent 84.6%);\n",
       "        }    #T_c2169e03_926d_11eb_971e_8c04ba3e1d36row2_col3 {\n",
       "            width:  10em;\n",
       "             height:  80%;\n",
       "            background:  linear-gradient(90deg,#5fba7d 84.9%, transparent 84.9%);\n",
       "        }</style><table id=\"T_c2169e03_926d_11eb_971e_8c04ba3e1d36\" ><thead>    <tr>        <th class=\"blank level0\" ></th>        <th class=\"col_heading level0 col0\" >Precision</th>        <th class=\"col_heading level0 col1\" >Recall</th>        <th class=\"col_heading level0 col2\" >F measure</th>        <th class=\"col_heading level0 col3\" >Accuracy</th>        <th class=\"col_heading level0 col4\" >True Positives</th>        <th class=\"col_heading level0 col5\" >False Positives</th>        <th class=\"col_heading level0 col6\" >False Negatives</th>    </tr></thead><tbody>\n",
       "                <tr>\n",
       "                        <th id=\"T_c2169e03_926d_11eb_971e_8c04ba3e1d36level0_row0\" class=\"row_heading level0 row0\" >T: 5</th>\n",
       "                        <td id=\"T_c2169e03_926d_11eb_971e_8c04ba3e1d36row0_col0\" class=\"data row0 col0\" >0.679900</td>\n",
       "                        <td id=\"T_c2169e03_926d_11eb_971e_8c04ba3e1d36row0_col1\" class=\"data row0 col1\" >0.622000</td>\n",
       "                        <td id=\"T_c2169e03_926d_11eb_971e_8c04ba3e1d36row0_col2\" class=\"data row0 col2\" >0.644000</td>\n",
       "                        <td id=\"T_c2169e03_926d_11eb_971e_8c04ba3e1d36row0_col3\" class=\"data row0 col3\" >0.482100</td>\n",
       "                        <td id=\"T_c2169e03_926d_11eb_971e_8c04ba3e1d36row0_col4\" class=\"data row0 col4\" >152.633300</td>\n",
       "                        <td id=\"T_c2169e03_926d_11eb_971e_8c04ba3e1d36row0_col5\" class=\"data row0 col5\" >75.100000</td>\n",
       "                        <td id=\"T_c2169e03_926d_11eb_971e_8c04ba3e1d36row0_col6\" class=\"data row0 col6\" >92.166700</td>\n",
       "            </tr>\n",
       "            <tr>\n",
       "                        <th id=\"T_c2169e03_926d_11eb_971e_8c04ba3e1d36level0_row1\" class=\"row_heading level0 row1\" >T: 10</th>\n",
       "                        <td id=\"T_c2169e03_926d_11eb_971e_8c04ba3e1d36row1_col0\" class=\"data row1 col0\" >0.727400</td>\n",
       "                        <td id=\"T_c2169e03_926d_11eb_971e_8c04ba3e1d36row1_col1\" class=\"data row1 col1\" >0.654000</td>\n",
       "                        <td id=\"T_c2169e03_926d_11eb_971e_8c04ba3e1d36row1_col2\" class=\"data row1 col2\" >0.685500</td>\n",
       "                        <td id=\"T_c2169e03_926d_11eb_971e_8c04ba3e1d36row1_col3\" class=\"data row1 col3\" >0.528400</td>\n",
       "                        <td id=\"T_c2169e03_926d_11eb_971e_8c04ba3e1d36row1_col4\" class=\"data row1 col4\" >158.766700</td>\n",
       "                        <td id=\"T_c2169e03_926d_11eb_971e_8c04ba3e1d36row1_col5\" class=\"data row1 col5\" >61.900000</td>\n",
       "                        <td id=\"T_c2169e03_926d_11eb_971e_8c04ba3e1d36row1_col6\" class=\"data row1 col6\" >86.133300</td>\n",
       "            </tr>\n",
       "            <tr>\n",
       "                        <th id=\"T_c2169e03_926d_11eb_971e_8c04ba3e1d36level0_row2\" class=\"row_heading level0 row2\" >T: 20</th>\n",
       "                        <td id=\"T_c2169e03_926d_11eb_971e_8c04ba3e1d36row2_col0\" class=\"data row2 col0\" >0.695300</td>\n",
       "                        <td id=\"T_c2169e03_926d_11eb_971e_8c04ba3e1d36row2_col1\" class=\"data row2 col1\" >0.675000</td>\n",
       "                        <td id=\"T_c2169e03_926d_11eb_971e_8c04ba3e1d36row2_col2\" class=\"data row2 col2\" >0.679100</td>\n",
       "                        <td id=\"T_c2169e03_926d_11eb_971e_8c04ba3e1d36row2_col3\" class=\"data row2 col3\" >0.521400</td>\n",
       "                        <td id=\"T_c2169e03_926d_11eb_971e_8c04ba3e1d36row2_col4\" class=\"data row2 col4\" >161.700000</td>\n",
       "                        <td id=\"T_c2169e03_926d_11eb_971e_8c04ba3e1d36row2_col5\" class=\"data row2 col5\" >73.266700</td>\n",
       "                        <td id=\"T_c2169e03_926d_11eb_971e_8c04ba3e1d36row2_col6\" class=\"data row2 col6\" >83.233300</td>\n",
       "            </tr>\n",
       "    </tbody></table>"
      ],
      "text/plain": [
       "<pandas.io.formats.style.Styler at 0x24c804b39d0>"
      ]
     },
     "metadata": {},
     "output_type": "display_data"
    },
    {
     "data": {
      "text/markdown": [
       "## Piano for W: ENSTDkAm, and for H: AkPnCGdD"
      ],
      "text/plain": [
       "<IPython.core.display.Markdown object>"
      ]
     },
     "metadata": {},
     "output_type": "display_data"
    },
    {
     "data": {
      "text/markdown": [
       "### When averaging each threshold on all MAPS"
      ],
      "text/plain": [
       "<IPython.core.display.Markdown object>"
      ]
     },
     "metadata": {},
     "output_type": "display_data"
    },
    {
     "data": {
      "text/html": [
       "<style  type=\"text/css\" >\n",
       "    #T_2a993315_926f_11eb_aca4_8c04ba3e1d36row0_col3 {\n",
       "            width:  10em;\n",
       "             height:  80%;\n",
       "            background:  linear-gradient(90deg,#5fba7d 80.3%, transparent 80.3%);\n",
       "        }    #T_2a993315_926f_11eb_aca4_8c04ba3e1d36row0_col4 {\n",
       "            width:  10em;\n",
       "             height:  80%;\n",
       "            background:  linear-gradient(90deg,#5fba7d 78.9%, transparent 78.9%);\n",
       "        }    #T_2a993315_926f_11eb_aca4_8c04ba3e1d36row1_col3 {\n",
       "            width:  10em;\n",
       "             height:  80%;\n",
       "            background:  linear-gradient(90deg,#5fba7d 100.0%, transparent 100.0%);\n",
       "        }    #T_2a993315_926f_11eb_aca4_8c04ba3e1d36row1_col4 {\n",
       "            width:  10em;\n",
       "             height:  80%;\n",
       "            background:  linear-gradient(90deg,#5fba7d 100.0%, transparent 100.0%);\n",
       "        }    #T_2a993315_926f_11eb_aca4_8c04ba3e1d36row2_col3 {\n",
       "            width:  10em;\n",
       "             height:  80%;\n",
       "        }    #T_2a993315_926f_11eb_aca4_8c04ba3e1d36row2_col4 {\n",
       "            width:  10em;\n",
       "             height:  80%;\n",
       "        }</style><table id=\"T_2a993315_926f_11eb_aca4_8c04ba3e1d36\" ><thead>    <tr>        <th class=\"blank level0\" ></th>        <th class=\"col_heading level0 col0\" >Best threshold</th>        <th class=\"col_heading level0 col1\" >Precision</th>        <th class=\"col_heading level0 col2\" >Recall</th>        <th class=\"col_heading level0 col3\" >F measure</th>        <th class=\"col_heading level0 col4\" >Accuracy</th>        <th class=\"col_heading level0 col5\" >True Positives</th>        <th class=\"col_heading level0 col6\" >False Positives</th>        <th class=\"col_heading level0 col7\" >False Negatives</th>    </tr></thead><tbody>\n",
       "                <tr>\n",
       "                        <th id=\"T_2a993315_926f_11eb_aca4_8c04ba3e1d36level0_row0\" class=\"row_heading level0 row0\" >T: 5</th>\n",
       "                        <td id=\"T_2a993315_926f_11eb_aca4_8c04ba3e1d36row0_col0\" class=\"data row0 col0\" >0.270000</td>\n",
       "                        <td id=\"T_2a993315_926f_11eb_aca4_8c04ba3e1d36row0_col1\" class=\"data row0 col1\" >0.737900</td>\n",
       "                        <td id=\"T_2a993315_926f_11eb_aca4_8c04ba3e1d36row0_col2\" class=\"data row0 col2\" >0.690700</td>\n",
       "                        <td id=\"T_2a993315_926f_11eb_aca4_8c04ba3e1d36row0_col3\" class=\"data row0 col3\" >0.703200</td>\n",
       "                        <td id=\"T_2a993315_926f_11eb_aca4_8c04ba3e1d36row0_col4\" class=\"data row0 col4\" >0.550200</td>\n",
       "                        <td id=\"T_2a993315_926f_11eb_aca4_8c04ba3e1d36row0_col5\" class=\"data row0 col5\" >169.966700</td>\n",
       "                        <td id=\"T_2a993315_926f_11eb_aca4_8c04ba3e1d36row0_col6\" class=\"data row0 col6\" >61.400000</td>\n",
       "                        <td id=\"T_2a993315_926f_11eb_aca4_8c04ba3e1d36row0_col7\" class=\"data row0 col7\" >81.466700</td>\n",
       "            </tr>\n",
       "            <tr>\n",
       "                        <th id=\"T_2a993315_926f_11eb_aca4_8c04ba3e1d36level0_row1\" class=\"row_heading level0 row1\" >T: 10</th>\n",
       "                        <td id=\"T_2a993315_926f_11eb_aca4_8c04ba3e1d36row1_col0\" class=\"data row1 col0\" >0.410000</td>\n",
       "                        <td id=\"T_2a993315_926f_11eb_aca4_8c04ba3e1d36row1_col1\" class=\"data row1 col1\" >0.748000</td>\n",
       "                        <td id=\"T_2a993315_926f_11eb_aca4_8c04ba3e1d36row1_col2\" class=\"data row1 col2\" >0.700300</td>\n",
       "                        <td id=\"T_2a993315_926f_11eb_aca4_8c04ba3e1d36row1_col3\" class=\"data row1 col3\" >0.713200</td>\n",
       "                        <td id=\"T_2a993315_926f_11eb_aca4_8c04ba3e1d36row1_col4\" class=\"data row1 col4\" >0.563100</td>\n",
       "                        <td id=\"T_2a993315_926f_11eb_aca4_8c04ba3e1d36row1_col5\" class=\"data row1 col5\" >169.533300</td>\n",
       "                        <td id=\"T_2a993315_926f_11eb_aca4_8c04ba3e1d36row1_col6\" class=\"data row1 col6\" >57.566700</td>\n",
       "                        <td id=\"T_2a993315_926f_11eb_aca4_8c04ba3e1d36row1_col7\" class=\"data row1 col7\" >81.900000</td>\n",
       "            </tr>\n",
       "            <tr>\n",
       "                        <th id=\"T_2a993315_926f_11eb_aca4_8c04ba3e1d36level0_row2\" class=\"row_heading level0 row2\" >T: 20</th>\n",
       "                        <td id=\"T_2a993315_926f_11eb_aca4_8c04ba3e1d36row2_col0\" class=\"data row2 col0\" >0.590000</td>\n",
       "                        <td id=\"T_2a993315_926f_11eb_aca4_8c04ba3e1d36row2_col1\" class=\"data row2 col1\" >0.679100</td>\n",
       "                        <td id=\"T_2a993315_926f_11eb_aca4_8c04ba3e1d36row2_col2\" class=\"data row2 col2\" >0.664900</td>\n",
       "                        <td id=\"T_2a993315_926f_11eb_aca4_8c04ba3e1d36row2_col3\" class=\"data row2 col3\" >0.662500</td>\n",
       "                        <td id=\"T_2a993315_926f_11eb_aca4_8c04ba3e1d36row2_col4\" class=\"data row2 col4\" >0.502000</td>\n",
       "                        <td id=\"T_2a993315_926f_11eb_aca4_8c04ba3e1d36row2_col5\" class=\"data row2 col5\" >157.800000</td>\n",
       "                        <td id=\"T_2a993315_926f_11eb_aca4_8c04ba3e1d36row2_col6\" class=\"data row2 col6\" >74.200000</td>\n",
       "                        <td id=\"T_2a993315_926f_11eb_aca4_8c04ba3e1d36row2_col7\" class=\"data row2 col7\" >93.600000</td>\n",
       "            </tr>\n",
       "    </tbody></table>"
      ],
      "text/plain": [
       "<pandas.io.formats.style.Styler at 0x24c80c4b790>"
      ]
     },
     "metadata": {},
     "output_type": "display_data"
    },
    {
     "data": {
      "text/markdown": [
       "### When optimizing the threshold on each song"
      ],
      "text/plain": [
       "<IPython.core.display.Markdown object>"
      ]
     },
     "metadata": {},
     "output_type": "display_data"
    },
    {
     "data": {
      "text/html": [
       "<style  type=\"text/css\" >\n",
       "    #T_2a9b2dba_926f_11eb_87aa_8c04ba3e1d36row0_col2 {\n",
       "            width:  10em;\n",
       "             height:  80%;\n",
       "            background:  linear-gradient(90deg,#5fba7d 84.1%, transparent 84.1%);\n",
       "        }    #T_2a9b2dba_926f_11eb_87aa_8c04ba3e1d36row0_col3 {\n",
       "            width:  10em;\n",
       "             height:  80%;\n",
       "            background:  linear-gradient(90deg,#5fba7d 84.7%, transparent 84.7%);\n",
       "        }    #T_2a9b2dba_926f_11eb_87aa_8c04ba3e1d36row1_col2 {\n",
       "            width:  10em;\n",
       "             height:  80%;\n",
       "            background:  linear-gradient(90deg,#5fba7d 100.0%, transparent 100.0%);\n",
       "        }    #T_2a9b2dba_926f_11eb_87aa_8c04ba3e1d36row1_col3 {\n",
       "            width:  10em;\n",
       "             height:  80%;\n",
       "            background:  linear-gradient(90deg,#5fba7d 100.0%, transparent 100.0%);\n",
       "        }    #T_2a9b2dba_926f_11eb_87aa_8c04ba3e1d36row2_col2 {\n",
       "            width:  10em;\n",
       "             height:  80%;\n",
       "        }    #T_2a9b2dba_926f_11eb_87aa_8c04ba3e1d36row2_col3 {\n",
       "            width:  10em;\n",
       "             height:  80%;\n",
       "        }</style><table id=\"T_2a9b2dba_926f_11eb_87aa_8c04ba3e1d36\" ><thead>    <tr>        <th class=\"blank level0\" ></th>        <th class=\"col_heading level0 col0\" >Precision</th>        <th class=\"col_heading level0 col1\" >Recall</th>        <th class=\"col_heading level0 col2\" >F measure</th>        <th class=\"col_heading level0 col3\" >Accuracy</th>        <th class=\"col_heading level0 col4\" >True Positives</th>        <th class=\"col_heading level0 col5\" >False Positives</th>        <th class=\"col_heading level0 col6\" >False Negatives</th>    </tr></thead><tbody>\n",
       "                <tr>\n",
       "                        <th id=\"T_2a9b2dba_926f_11eb_87aa_8c04ba3e1d36level0_row0\" class=\"row_heading level0 row0\" >T: 5</th>\n",
       "                        <td id=\"T_2a9b2dba_926f_11eb_87aa_8c04ba3e1d36row0_col0\" class=\"data row0 col0\" >0.779400</td>\n",
       "                        <td id=\"T_2a9b2dba_926f_11eb_87aa_8c04ba3e1d36row0_col1\" class=\"data row0 col1\" >0.690100</td>\n",
       "                        <td id=\"T_2a9b2dba_926f_11eb_87aa_8c04ba3e1d36row0_col2\" class=\"data row0 col2\" >0.728100</td>\n",
       "                        <td id=\"T_2a9b2dba_926f_11eb_87aa_8c04ba3e1d36row0_col3\" class=\"data row0 col3\" >0.581200</td>\n",
       "                        <td id=\"T_2a9b2dba_926f_11eb_87aa_8c04ba3e1d36row0_col4\" class=\"data row0 col4\" >174.533300</td>\n",
       "                        <td id=\"T_2a9b2dba_926f_11eb_87aa_8c04ba3e1d36row0_col5\" class=\"data row0 col5\" >52.433300</td>\n",
       "                        <td id=\"T_2a9b2dba_926f_11eb_87aa_8c04ba3e1d36row0_col6\" class=\"data row0 col6\" >76.833300</td>\n",
       "            </tr>\n",
       "            <tr>\n",
       "                        <th id=\"T_2a9b2dba_926f_11eb_87aa_8c04ba3e1d36level0_row1\" class=\"row_heading level0 row1\" >T: 10</th>\n",
       "                        <td id=\"T_2a9b2dba_926f_11eb_87aa_8c04ba3e1d36row1_col0\" class=\"data row1 col0\" >0.771600</td>\n",
       "                        <td id=\"T_2a9b2dba_926f_11eb_87aa_8c04ba3e1d36row1_col1\" class=\"data row1 col1\" >0.713800</td>\n",
       "                        <td id=\"T_2a9b2dba_926f_11eb_87aa_8c04ba3e1d36row1_col2\" class=\"data row1 col2\" >0.738600</td>\n",
       "                        <td id=\"T_2a9b2dba_926f_11eb_87aa_8c04ba3e1d36row1_col3\" class=\"data row1 col3\" >0.593700</td>\n",
       "                        <td id=\"T_2a9b2dba_926f_11eb_87aa_8c04ba3e1d36row1_col4\" class=\"data row1 col4\" >178.133300</td>\n",
       "                        <td id=\"T_2a9b2dba_926f_11eb_87aa_8c04ba3e1d36row1_col5\" class=\"data row1 col5\" >56.800000</td>\n",
       "                        <td id=\"T_2a9b2dba_926f_11eb_87aa_8c04ba3e1d36row1_col6\" class=\"data row1 col6\" >73.233300</td>\n",
       "            </tr>\n",
       "            <tr>\n",
       "                        <th id=\"T_2a9b2dba_926f_11eb_87aa_8c04ba3e1d36level0_row2\" class=\"row_heading level0 row2\" >T: 20</th>\n",
       "                        <td id=\"T_2a9b2dba_926f_11eb_87aa_8c04ba3e1d36row2_col0\" class=\"data row2 col0\" >0.658000</td>\n",
       "                        <td id=\"T_2a9b2dba_926f_11eb_87aa_8c04ba3e1d36row2_col1\" class=\"data row2 col1\" >0.697400</td>\n",
       "                        <td id=\"T_2a9b2dba_926f_11eb_87aa_8c04ba3e1d36row2_col2\" class=\"data row2 col2\" >0.672600</td>\n",
       "                        <td id=\"T_2a9b2dba_926f_11eb_87aa_8c04ba3e1d36row2_col3\" class=\"data row2 col3\" >0.512100</td>\n",
       "                        <td id=\"T_2a9b2dba_926f_11eb_87aa_8c04ba3e1d36row2_col4\" class=\"data row2 col4\" >169.700000</td>\n",
       "                        <td id=\"T_2a9b2dba_926f_11eb_87aa_8c04ba3e1d36row2_col5\" class=\"data row2 col5\" >88.666700</td>\n",
       "                        <td id=\"T_2a9b2dba_926f_11eb_87aa_8c04ba3e1d36row2_col6\" class=\"data row2 col6\" >81.700000</td>\n",
       "            </tr>\n",
       "    </tbody></table>"
      ],
      "text/plain": [
       "<pandas.io.formats.style.Styler at 0x24c815eb760>"
      ]
     },
     "metadata": {},
     "output_type": "display_data"
    },
    {
     "data": {
      "text/markdown": [
       "## Piano for W: ENSTDkAm, and for H: ENSTDkCl"
      ],
      "text/plain": [
       "<IPython.core.display.Markdown object>"
      ]
     },
     "metadata": {},
     "output_type": "display_data"
    },
    {
     "data": {
      "text/markdown": [
       "### When averaging each threshold on all MAPS"
      ],
      "text/plain": [
       "<IPython.core.display.Markdown object>"
      ]
     },
     "metadata": {},
     "output_type": "display_data"
    },
    {
     "data": {
      "text/html": [
       "<style  type=\"text/css\" >\n",
       "    #T_85eef605_9270_11eb_93fa_8c04ba3e1d36row0_col3 {\n",
       "            width:  10em;\n",
       "             height:  80%;\n",
       "        }    #T_85eef605_9270_11eb_93fa_8c04ba3e1d36row0_col4 {\n",
       "            width:  10em;\n",
       "             height:  80%;\n",
       "        }    #T_85eef605_9270_11eb_93fa_8c04ba3e1d36row1_col3 {\n",
       "            width:  10em;\n",
       "             height:  80%;\n",
       "            background:  linear-gradient(90deg,#5fba7d 100.0%, transparent 100.0%);\n",
       "        }    #T_85eef605_9270_11eb_93fa_8c04ba3e1d36row1_col4 {\n",
       "            width:  10em;\n",
       "             height:  80%;\n",
       "            background:  linear-gradient(90deg,#5fba7d 100.0%, transparent 100.0%);\n",
       "        }    #T_85eef605_9270_11eb_93fa_8c04ba3e1d36row2_col3 {\n",
       "            width:  10em;\n",
       "             height:  80%;\n",
       "            background:  linear-gradient(90deg,#5fba7d 3.3%, transparent 3.3%);\n",
       "        }    #T_85eef605_9270_11eb_93fa_8c04ba3e1d36row2_col4 {\n",
       "            width:  10em;\n",
       "             height:  80%;\n",
       "            background:  linear-gradient(90deg,#5fba7d 1.5%, transparent 1.5%);\n",
       "        }</style><table id=\"T_85eef605_9270_11eb_93fa_8c04ba3e1d36\" ><thead>    <tr>        <th class=\"blank level0\" ></th>        <th class=\"col_heading level0 col0\" >Best threshold</th>        <th class=\"col_heading level0 col1\" >Precision</th>        <th class=\"col_heading level0 col2\" >Recall</th>        <th class=\"col_heading level0 col3\" >F measure</th>        <th class=\"col_heading level0 col4\" >Accuracy</th>        <th class=\"col_heading level0 col5\" >True Positives</th>        <th class=\"col_heading level0 col6\" >False Positives</th>        <th class=\"col_heading level0 col7\" >False Negatives</th>    </tr></thead><tbody>\n",
       "                <tr>\n",
       "                        <th id=\"T_85eef605_9270_11eb_93fa_8c04ba3e1d36level0_row0\" class=\"row_heading level0 row0\" >T: 5</th>\n",
       "                        <td id=\"T_85eef605_9270_11eb_93fa_8c04ba3e1d36row0_col0\" class=\"data row0 col0\" >0.270000</td>\n",
       "                        <td id=\"T_85eef605_9270_11eb_93fa_8c04ba3e1d36row0_col1\" class=\"data row0 col1\" >0.754500</td>\n",
       "                        <td id=\"T_85eef605_9270_11eb_93fa_8c04ba3e1d36row0_col2\" class=\"data row0 col2\" >0.647100</td>\n",
       "                        <td id=\"T_85eef605_9270_11eb_93fa_8c04ba3e1d36row0_col3\" class=\"data row0 col3\" >0.680800</td>\n",
       "                        <td id=\"T_85eef605_9270_11eb_93fa_8c04ba3e1d36row0_col4\" class=\"data row0 col4\" >0.526400</td>\n",
       "                        <td id=\"T_85eef605_9270_11eb_93fa_8c04ba3e1d36row0_col5\" class=\"data row0 col5\" >160.366700</td>\n",
       "                        <td id=\"T_85eef605_9270_11eb_93fa_8c04ba3e1d36row0_col6\" class=\"data row0 col6\" >56.833300</td>\n",
       "                        <td id=\"T_85eef605_9270_11eb_93fa_8c04ba3e1d36row0_col7\" class=\"data row0 col7\" >84.400000</td>\n",
       "            </tr>\n",
       "            <tr>\n",
       "                        <th id=\"T_85eef605_9270_11eb_93fa_8c04ba3e1d36level0_row1\" class=\"row_heading level0 row1\" >T: 10</th>\n",
       "                        <td id=\"T_85eef605_9270_11eb_93fa_8c04ba3e1d36row1_col0\" class=\"data row1 col0\" >0.350000</td>\n",
       "                        <td id=\"T_85eef605_9270_11eb_93fa_8c04ba3e1d36row1_col1\" class=\"data row1 col1\" >0.751400</td>\n",
       "                        <td id=\"T_85eef605_9270_11eb_93fa_8c04ba3e1d36row1_col2\" class=\"data row1 col2\" >0.717500</td>\n",
       "                        <td id=\"T_85eef605_9270_11eb_93fa_8c04ba3e1d36row1_col3\" class=\"data row1 col3\" >0.720300</td>\n",
       "                        <td id=\"T_85eef605_9270_11eb_93fa_8c04ba3e1d36row1_col4\" class=\"data row1 col4\" >0.574100</td>\n",
       "                        <td id=\"T_85eef605_9270_11eb_93fa_8c04ba3e1d36row1_col5\" class=\"data row1 col5\" >175.766700</td>\n",
       "                        <td id=\"T_85eef605_9270_11eb_93fa_8c04ba3e1d36row1_col6\" class=\"data row1 col6\" >65.900000</td>\n",
       "                        <td id=\"T_85eef605_9270_11eb_93fa_8c04ba3e1d36row1_col7\" class=\"data row1 col7\" >68.933300</td>\n",
       "            </tr>\n",
       "            <tr>\n",
       "                        <th id=\"T_85eef605_9270_11eb_93fa_8c04ba3e1d36level0_row2\" class=\"row_heading level0 row2\" >T: 20</th>\n",
       "                        <td id=\"T_85eef605_9270_11eb_93fa_8c04ba3e1d36row2_col0\" class=\"data row2 col0\" >0.550000</td>\n",
       "                        <td id=\"T_85eef605_9270_11eb_93fa_8c04ba3e1d36row2_col1\" class=\"data row2 col1\" >0.720200</td>\n",
       "                        <td id=\"T_85eef605_9270_11eb_93fa_8c04ba3e1d36row2_col2\" class=\"data row2 col2\" >0.673500</td>\n",
       "                        <td id=\"T_85eef605_9270_11eb_93fa_8c04ba3e1d36row2_col3\" class=\"data row2 col3\" >0.682100</td>\n",
       "                        <td id=\"T_85eef605_9270_11eb_93fa_8c04ba3e1d36row2_col4\" class=\"data row2 col4\" >0.527100</td>\n",
       "                        <td id=\"T_85eef605_9270_11eb_93fa_8c04ba3e1d36row2_col5\" class=\"data row2 col5\" >162.166700</td>\n",
       "                        <td id=\"T_85eef605_9270_11eb_93fa_8c04ba3e1d36row2_col6\" class=\"data row2 col6\" >69.766700</td>\n",
       "                        <td id=\"T_85eef605_9270_11eb_93fa_8c04ba3e1d36row2_col7\" class=\"data row2 col7\" >82.533300</td>\n",
       "            </tr>\n",
       "    </tbody></table>"
      ],
      "text/plain": [
       "<pandas.io.formats.style.Styler at 0x24c80d9f730>"
      ]
     },
     "metadata": {},
     "output_type": "display_data"
    },
    {
     "data": {
      "text/markdown": [
       "### When optimizing the threshold on each song"
      ],
      "text/plain": [
       "<IPython.core.display.Markdown object>"
      ]
     },
     "metadata": {},
     "output_type": "display_data"
    },
    {
     "data": {
      "text/html": [
       "<style  type=\"text/css\" >\n",
       "    #T_85f13e71_9270_11eb_94a6_8c04ba3e1d36row0_col2 {\n",
       "            width:  10em;\n",
       "             height:  80%;\n",
       "            background:  linear-gradient(90deg,#5fba7d 25.6%, transparent 25.6%);\n",
       "        }    #T_85f13e71_9270_11eb_94a6_8c04ba3e1d36row0_col3 {\n",
       "            width:  10em;\n",
       "             height:  80%;\n",
       "            background:  linear-gradient(90deg,#5fba7d 23.1%, transparent 23.1%);\n",
       "        }    #T_85f13e71_9270_11eb_94a6_8c04ba3e1d36row1_col2 {\n",
       "            width:  10em;\n",
       "             height:  80%;\n",
       "            background:  linear-gradient(90deg,#5fba7d 100.0%, transparent 100.0%);\n",
       "        }    #T_85f13e71_9270_11eb_94a6_8c04ba3e1d36row1_col3 {\n",
       "            width:  10em;\n",
       "             height:  80%;\n",
       "            background:  linear-gradient(90deg,#5fba7d 100.0%, transparent 100.0%);\n",
       "        }    #T_85f13e71_9270_11eb_94a6_8c04ba3e1d36row2_col2 {\n",
       "            width:  10em;\n",
       "             height:  80%;\n",
       "        }    #T_85f13e71_9270_11eb_94a6_8c04ba3e1d36row2_col3 {\n",
       "            width:  10em;\n",
       "             height:  80%;\n",
       "        }</style><table id=\"T_85f13e71_9270_11eb_94a6_8c04ba3e1d36\" ><thead>    <tr>        <th class=\"blank level0\" ></th>        <th class=\"col_heading level0 col0\" >Precision</th>        <th class=\"col_heading level0 col1\" >Recall</th>        <th class=\"col_heading level0 col2\" >F measure</th>        <th class=\"col_heading level0 col3\" >Accuracy</th>        <th class=\"col_heading level0 col4\" >True Positives</th>        <th class=\"col_heading level0 col5\" >False Positives</th>        <th class=\"col_heading level0 col6\" >False Negatives</th>    </tr></thead><tbody>\n",
       "                <tr>\n",
       "                        <th id=\"T_85f13e71_9270_11eb_94a6_8c04ba3e1d36level0_row0\" class=\"row_heading level0 row0\" >T: 5</th>\n",
       "                        <td id=\"T_85f13e71_9270_11eb_94a6_8c04ba3e1d36row0_col0\" class=\"data row0 col0\" >0.756100</td>\n",
       "                        <td id=\"T_85f13e71_9270_11eb_94a6_8c04ba3e1d36row0_col1\" class=\"data row0 col1\" >0.697900</td>\n",
       "                        <td id=\"T_85f13e71_9270_11eb_94a6_8c04ba3e1d36row0_col2\" class=\"data row0 col2\" >0.720400</td>\n",
       "                        <td id=\"T_85f13e71_9270_11eb_94a6_8c04ba3e1d36row0_col3\" class=\"data row0 col3\" >0.569900</td>\n",
       "                        <td id=\"T_85f13e71_9270_11eb_94a6_8c04ba3e1d36row0_col4\" class=\"data row0 col4\" >170.333300</td>\n",
       "                        <td id=\"T_85f13e71_9270_11eb_94a6_8c04ba3e1d36row0_col5\" class=\"data row0 col5\" >57.233300</td>\n",
       "                        <td id=\"T_85f13e71_9270_11eb_94a6_8c04ba3e1d36row0_col6\" class=\"data row0 col6\" >74.500000</td>\n",
       "            </tr>\n",
       "            <tr>\n",
       "                        <th id=\"T_85f13e71_9270_11eb_94a6_8c04ba3e1d36level0_row1\" class=\"row_heading level0 row1\" >T: 10</th>\n",
       "                        <td id=\"T_85f13e71_9270_11eb_94a6_8c04ba3e1d36row1_col0\" class=\"data row1 col0\" >0.793200</td>\n",
       "                        <td id=\"T_85f13e71_9270_11eb_94a6_8c04ba3e1d36row1_col1\" class=\"data row1 col1\" >0.728900</td>\n",
       "                        <td id=\"T_85f13e71_9270_11eb_94a6_8c04ba3e1d36row1_col2\" class=\"data row1 col2\" >0.756100</td>\n",
       "                        <td id=\"T_85f13e71_9270_11eb_94a6_8c04ba3e1d36row1_col3\" class=\"data row1 col3\" >0.616300</td>\n",
       "                        <td id=\"T_85f13e71_9270_11eb_94a6_8c04ba3e1d36row1_col4\" class=\"data row1 col4\" >175.633300</td>\n",
       "                        <td id=\"T_85f13e71_9270_11eb_94a6_8c04ba3e1d36row1_col5\" class=\"data row1 col5\" >47.866700</td>\n",
       "                        <td id=\"T_85f13e71_9270_11eb_94a6_8c04ba3e1d36row1_col6\" class=\"data row1 col6\" >69.266700</td>\n",
       "            </tr>\n",
       "            <tr>\n",
       "                        <th id=\"T_85f13e71_9270_11eb_94a6_8c04ba3e1d36level0_row2\" class=\"row_heading level0 row2\" >T: 20</th>\n",
       "                        <td id=\"T_85f13e71_9270_11eb_94a6_8c04ba3e1d36row2_col0\" class=\"data row2 col0\" >0.710000</td>\n",
       "                        <td id=\"T_85f13e71_9270_11eb_94a6_8c04ba3e1d36row2_col1\" class=\"data row2 col1\" >0.712900</td>\n",
       "                        <td id=\"T_85f13e71_9270_11eb_94a6_8c04ba3e1d36row2_col2\" class=\"data row2 col2\" >0.708100</td>\n",
       "                        <td id=\"T_85f13e71_9270_11eb_94a6_8c04ba3e1d36row2_col3\" class=\"data row2 col3\" >0.556000</td>\n",
       "                        <td id=\"T_85f13e71_9270_11eb_94a6_8c04ba3e1d36row2_col4\" class=\"data row2 col4\" >170.633300</td>\n",
       "                        <td id=\"T_85f13e71_9270_11eb_94a6_8c04ba3e1d36row2_col5\" class=\"data row2 col5\" >74.700000</td>\n",
       "                        <td id=\"T_85f13e71_9270_11eb_94a6_8c04ba3e1d36row2_col6\" class=\"data row2 col6\" >74.200000</td>\n",
       "            </tr>\n",
       "    </tbody></table>"
      ],
      "text/plain": [
       "<pandas.io.formats.style.Styler at 0x24c8106e730>"
      ]
     },
     "metadata": {},
     "output_type": "display_data"
    },
    {
     "data": {
      "text/markdown": [
       "## Piano for W: SptkBGAm, and for H: AkPnCGdD"
      ],
      "text/plain": [
       "<IPython.core.display.Markdown object>"
      ]
     },
     "metadata": {},
     "output_type": "display_data"
    },
    {
     "data": {
      "text/markdown": [
       "### When averaging each threshold on all MAPS"
      ],
      "text/plain": [
       "<IPython.core.display.Markdown object>"
      ]
     },
     "metadata": {},
     "output_type": "display_data"
    },
    {
     "data": {
      "text/html": [
       "<style  type=\"text/css\" >\n",
       "    #T_eb77961f_9271_11eb_be6a_8c04ba3e1d36row0_col3 {\n",
       "            width:  10em;\n",
       "             height:  80%;\n",
       "            background:  linear-gradient(90deg,#5fba7d 85.2%, transparent 85.2%);\n",
       "        }    #T_eb77961f_9271_11eb_be6a_8c04ba3e1d36row0_col4 {\n",
       "            width:  10em;\n",
       "             height:  80%;\n",
       "            background:  linear-gradient(90deg,#5fba7d 82.5%, transparent 82.5%);\n",
       "        }    #T_eb77961f_9271_11eb_be6a_8c04ba3e1d36row1_col3 {\n",
       "            width:  10em;\n",
       "             height:  80%;\n",
       "            background:  linear-gradient(90deg,#5fba7d 100.0%, transparent 100.0%);\n",
       "        }    #T_eb77961f_9271_11eb_be6a_8c04ba3e1d36row1_col4 {\n",
       "            width:  10em;\n",
       "             height:  80%;\n",
       "            background:  linear-gradient(90deg,#5fba7d 100.0%, transparent 100.0%);\n",
       "        }    #T_eb77961f_9271_11eb_be6a_8c04ba3e1d36row2_col3 {\n",
       "            width:  10em;\n",
       "             height:  80%;\n",
       "        }    #T_eb77961f_9271_11eb_be6a_8c04ba3e1d36row2_col4 {\n",
       "            width:  10em;\n",
       "             height:  80%;\n",
       "        }</style><table id=\"T_eb77961f_9271_11eb_be6a_8c04ba3e1d36\" ><thead>    <tr>        <th class=\"blank level0\" ></th>        <th class=\"col_heading level0 col0\" >Best threshold</th>        <th class=\"col_heading level0 col1\" >Precision</th>        <th class=\"col_heading level0 col2\" >Recall</th>        <th class=\"col_heading level0 col3\" >F measure</th>        <th class=\"col_heading level0 col4\" >Accuracy</th>        <th class=\"col_heading level0 col5\" >True Positives</th>        <th class=\"col_heading level0 col6\" >False Positives</th>        <th class=\"col_heading level0 col7\" >False Negatives</th>    </tr></thead><tbody>\n",
       "                <tr>\n",
       "                        <th id=\"T_eb77961f_9271_11eb_be6a_8c04ba3e1d36level0_row0\" class=\"row_heading level0 row0\" >T: 5</th>\n",
       "                        <td id=\"T_eb77961f_9271_11eb_be6a_8c04ba3e1d36row0_col0\" class=\"data row0 col0\" >0.330000</td>\n",
       "                        <td id=\"T_eb77961f_9271_11eb_be6a_8c04ba3e1d36row0_col1\" class=\"data row0 col1\" >0.685900</td>\n",
       "                        <td id=\"T_eb77961f_9271_11eb_be6a_8c04ba3e1d36row0_col2\" class=\"data row0 col2\" >0.659600</td>\n",
       "                        <td id=\"T_eb77961f_9271_11eb_be6a_8c04ba3e1d36row0_col3\" class=\"data row0 col3\" >0.660700</td>\n",
       "                        <td id=\"T_eb77961f_9271_11eb_be6a_8c04ba3e1d36row0_col4\" class=\"data row0 col4\" >0.499900</td>\n",
       "                        <td id=\"T_eb77961f_9271_11eb_be6a_8c04ba3e1d36row0_col5\" class=\"data row0 col5\" >163.833300</td>\n",
       "                        <td id=\"T_eb77961f_9271_11eb_be6a_8c04ba3e1d36row0_col6\" class=\"data row0 col6\" >72.500000</td>\n",
       "                        <td id=\"T_eb77961f_9271_11eb_be6a_8c04ba3e1d36row0_col7\" class=\"data row0 col7\" >87.733300</td>\n",
       "            </tr>\n",
       "            <tr>\n",
       "                        <th id=\"T_eb77961f_9271_11eb_be6a_8c04ba3e1d36level0_row1\" class=\"row_heading level0 row1\" >T: 10</th>\n",
       "                        <td id=\"T_eb77961f_9271_11eb_be6a_8c04ba3e1d36row1_col0\" class=\"data row1 col0\" >0.330000</td>\n",
       "                        <td id=\"T_eb77961f_9271_11eb_be6a_8c04ba3e1d36row1_col1\" class=\"data row1 col1\" >0.682800</td>\n",
       "                        <td id=\"T_eb77961f_9271_11eb_be6a_8c04ba3e1d36row1_col2\" class=\"data row1 col2\" >0.740800</td>\n",
       "                        <td id=\"T_eb77961f_9271_11eb_be6a_8c04ba3e1d36row1_col3\" class=\"data row1 col3\" >0.690000</td>\n",
       "                        <td id=\"T_eb77961f_9271_11eb_be6a_8c04ba3e1d36row1_col4\" class=\"data row1 col4\" >0.533000</td>\n",
       "                        <td id=\"T_eb77961f_9271_11eb_be6a_8c04ba3e1d36row1_col5\" class=\"data row1 col5\" >182.833300</td>\n",
       "                        <td id=\"T_eb77961f_9271_11eb_be6a_8c04ba3e1d36row1_col6\" class=\"data row1 col6\" >85.400000</td>\n",
       "                        <td id=\"T_eb77961f_9271_11eb_be6a_8c04ba3e1d36row1_col7\" class=\"data row1 col7\" >68.533300</td>\n",
       "            </tr>\n",
       "            <tr>\n",
       "                        <th id=\"T_eb77961f_9271_11eb_be6a_8c04ba3e1d36level0_row2\" class=\"row_heading level0 row2\" >T: 20</th>\n",
       "                        <td id=\"T_eb77961f_9271_11eb_be6a_8c04ba3e1d36row2_col0\" class=\"data row2 col0\" >0.070000</td>\n",
       "                        <td id=\"T_eb77961f_9271_11eb_be6a_8c04ba3e1d36row2_col1\" class=\"data row2 col1\" >0.515000</td>\n",
       "                        <td id=\"T_eb77961f_9271_11eb_be6a_8c04ba3e1d36row2_col2\" class=\"data row2 col2\" >0.723700</td>\n",
       "                        <td id=\"T_eb77961f_9271_11eb_be6a_8c04ba3e1d36row2_col3\" class=\"data row2 col3\" >0.492200</td>\n",
       "                        <td id=\"T_eb77961f_9271_11eb_be6a_8c04ba3e1d36row2_col4\" class=\"data row2 col4\" >0.344100</td>\n",
       "                        <td id=\"T_eb77961f_9271_11eb_be6a_8c04ba3e1d36row2_col5\" class=\"data row2 col5\" >181.700000</td>\n",
       "                        <td id=\"T_eb77961f_9271_11eb_be6a_8c04ba3e1d36row2_col6\" class=\"data row2 col6\" >449.200000</td>\n",
       "                        <td id=\"T_eb77961f_9271_11eb_be6a_8c04ba3e1d36row2_col7\" class=\"data row2 col7\" >69.766700</td>\n",
       "            </tr>\n",
       "    </tbody></table>"
      ],
      "text/plain": [
       "<pandas.io.formats.style.Styler at 0x24ce9138e50>"
      ]
     },
     "metadata": {},
     "output_type": "display_data"
    },
    {
     "data": {
      "text/markdown": [
       "### When optimizing the threshold on each song"
      ],
      "text/plain": [
       "<IPython.core.display.Markdown object>"
      ]
     },
     "metadata": {},
     "output_type": "display_data"
    },
    {
     "data": {
      "text/html": [
       "<style  type=\"text/css\" >\n",
       "    #T_eb7a2c60_9271_11eb_ae4e_8c04ba3e1d36row0_col2 {\n",
       "            width:  10em;\n",
       "             height:  80%;\n",
       "        }    #T_eb7a2c60_9271_11eb_ae4e_8c04ba3e1d36row0_col3 {\n",
       "            width:  10em;\n",
       "             height:  80%;\n",
       "        }    #T_eb7a2c60_9271_11eb_ae4e_8c04ba3e1d36row1_col2 {\n",
       "            width:  10em;\n",
       "             height:  80%;\n",
       "            background:  linear-gradient(90deg,#5fba7d 100.0%, transparent 100.0%);\n",
       "        }    #T_eb7a2c60_9271_11eb_ae4e_8c04ba3e1d36row1_col3 {\n",
       "            width:  10em;\n",
       "             height:  80%;\n",
       "            background:  linear-gradient(90deg,#5fba7d 100.0%, transparent 100.0%);\n",
       "        }    #T_eb7a2c60_9271_11eb_ae4e_8c04ba3e1d36row2_col2 {\n",
       "            width:  10em;\n",
       "             height:  80%;\n",
       "            background:  linear-gradient(90deg,#5fba7d 68.9%, transparent 68.9%);\n",
       "        }    #T_eb7a2c60_9271_11eb_ae4e_8c04ba3e1d36row2_col3 {\n",
       "            width:  10em;\n",
       "             height:  80%;\n",
       "            background:  linear-gradient(90deg,#5fba7d 66.7%, transparent 66.7%);\n",
       "        }</style><table id=\"T_eb7a2c60_9271_11eb_ae4e_8c04ba3e1d36\" ><thead>    <tr>        <th class=\"blank level0\" ></th>        <th class=\"col_heading level0 col0\" >Precision</th>        <th class=\"col_heading level0 col1\" >Recall</th>        <th class=\"col_heading level0 col2\" >F measure</th>        <th class=\"col_heading level0 col3\" >Accuracy</th>        <th class=\"col_heading level0 col4\" >True Positives</th>        <th class=\"col_heading level0 col5\" >False Positives</th>        <th class=\"col_heading level0 col6\" >False Negatives</th>    </tr></thead><tbody>\n",
       "                <tr>\n",
       "                        <th id=\"T_eb7a2c60_9271_11eb_ae4e_8c04ba3e1d36level0_row0\" class=\"row_heading level0 row0\" >T: 5</th>\n",
       "                        <td id=\"T_eb7a2c60_9271_11eb_ae4e_8c04ba3e1d36row0_col0\" class=\"data row0 col0\" >0.728900</td>\n",
       "                        <td id=\"T_eb7a2c60_9271_11eb_ae4e_8c04ba3e1d36row0_col1\" class=\"data row0 col1\" >0.654100</td>\n",
       "                        <td id=\"T_eb7a2c60_9271_11eb_ae4e_8c04ba3e1d36row0_col2\" class=\"data row0 col2\" >0.686300</td>\n",
       "                        <td id=\"T_eb7a2c60_9271_11eb_ae4e_8c04ba3e1d36row0_col3\" class=\"data row0 col3\" >0.530600</td>\n",
       "                        <td id=\"T_eb7a2c60_9271_11eb_ae4e_8c04ba3e1d36row0_col4\" class=\"data row0 col4\" >168.366700</td>\n",
       "                        <td id=\"T_eb7a2c60_9271_11eb_ae4e_8c04ba3e1d36row0_col5\" class=\"data row0 col5\" >62.666700</td>\n",
       "                        <td id=\"T_eb7a2c60_9271_11eb_ae4e_8c04ba3e1d36row0_col6\" class=\"data row0 col6\" >83.066700</td>\n",
       "            </tr>\n",
       "            <tr>\n",
       "                        <th id=\"T_eb7a2c60_9271_11eb_ae4e_8c04ba3e1d36level0_row1\" class=\"row_heading level0 row1\" >T: 10</th>\n",
       "                        <td id=\"T_eb7a2c60_9271_11eb_ae4e_8c04ba3e1d36row1_col0\" class=\"data row1 col0\" >0.736000</td>\n",
       "                        <td id=\"T_eb7a2c60_9271_11eb_ae4e_8c04ba3e1d36row1_col1\" class=\"data row1 col1\" >0.751100</td>\n",
       "                        <td id=\"T_eb7a2c60_9271_11eb_ae4e_8c04ba3e1d36row1_col2\" class=\"data row1 col2\" >0.740700</td>\n",
       "                        <td id=\"T_eb7a2c60_9271_11eb_ae4e_8c04ba3e1d36row1_col3\" class=\"data row1 col3\" >0.594500</td>\n",
       "                        <td id=\"T_eb7a2c60_9271_11eb_ae4e_8c04ba3e1d36row1_col4\" class=\"data row1 col4\" >186.333300</td>\n",
       "                        <td id=\"T_eb7a2c60_9271_11eb_ae4e_8c04ba3e1d36row1_col5\" class=\"data row1 col5\" >63.833300</td>\n",
       "                        <td id=\"T_eb7a2c60_9271_11eb_ae4e_8c04ba3e1d36row1_col6\" class=\"data row1 col6\" >65.066700</td>\n",
       "            </tr>\n",
       "            <tr>\n",
       "                        <th id=\"T_eb7a2c60_9271_11eb_ae4e_8c04ba3e1d36level0_row2\" class=\"row_heading level0 row2\" >T: 20</th>\n",
       "                        <td id=\"T_eb7a2c60_9271_11eb_ae4e_8c04ba3e1d36row2_col0\" class=\"data row2 col0\" >0.719400</td>\n",
       "                        <td id=\"T_eb7a2c60_9271_11eb_ae4e_8c04ba3e1d36row2_col1\" class=\"data row2 col1\" >0.735400</td>\n",
       "                        <td id=\"T_eb7a2c60_9271_11eb_ae4e_8c04ba3e1d36row2_col2\" class=\"data row2 col2\" >0.723800</td>\n",
       "                        <td id=\"T_eb7a2c60_9271_11eb_ae4e_8c04ba3e1d36row2_col3\" class=\"data row2 col3\" >0.573200</td>\n",
       "                        <td id=\"T_eb7a2c60_9271_11eb_ae4e_8c04ba3e1d36row2_col4\" class=\"data row2 col4\" >182.233300</td>\n",
       "                        <td id=\"T_eb7a2c60_9271_11eb_ae4e_8c04ba3e1d36row2_col5\" class=\"data row2 col5\" >70.966700</td>\n",
       "                        <td id=\"T_eb7a2c60_9271_11eb_ae4e_8c04ba3e1d36row2_col6\" class=\"data row2 col6\" >69.100000</td>\n",
       "            </tr>\n",
       "    </tbody></table>"
      ],
      "text/plain": [
       "<pandas.io.formats.style.Styler at 0x24c815dba90>"
      ]
     },
     "metadata": {},
     "output_type": "display_data"
    },
    {
     "data": {
      "text/markdown": [
       "## Piano for W: SptkBGAm, and for H: ENSTDkCl"
      ],
      "text/plain": [
       "<IPython.core.display.Markdown object>"
      ]
     },
     "metadata": {},
     "output_type": "display_data"
    },
    {
     "data": {
      "text/markdown": [
       "### When averaging each threshold on all MAPS"
      ],
      "text/plain": [
       "<IPython.core.display.Markdown object>"
      ]
     },
     "metadata": {},
     "output_type": "display_data"
    },
    {
     "data": {
      "text/html": [
       "<style  type=\"text/css\" >\n",
       "    #T_16f9243b_9273_11eb_b74b_8c04ba3e1d36row0_col3 {\n",
       "            width:  10em;\n",
       "             height:  80%;\n",
       "            background:  linear-gradient(90deg,#5fba7d 89.3%, transparent 89.3%);\n",
       "        }    #T_16f9243b_9273_11eb_b74b_8c04ba3e1d36row0_col4 {\n",
       "            width:  10em;\n",
       "             height:  80%;\n",
       "            background:  linear-gradient(90deg,#5fba7d 82.6%, transparent 82.6%);\n",
       "        }    #T_16f9243b_9273_11eb_b74b_8c04ba3e1d36row1_col3 {\n",
       "            width:  10em;\n",
       "             height:  80%;\n",
       "            background:  linear-gradient(90deg,#5fba7d 100.0%, transparent 100.0%);\n",
       "        }    #T_16f9243b_9273_11eb_b74b_8c04ba3e1d36row1_col4 {\n",
       "            width:  10em;\n",
       "             height:  80%;\n",
       "            background:  linear-gradient(90deg,#5fba7d 100.0%, transparent 100.0%);\n",
       "        }    #T_16f9243b_9273_11eb_b74b_8c04ba3e1d36row2_col3 {\n",
       "            width:  10em;\n",
       "             height:  80%;\n",
       "        }    #T_16f9243b_9273_11eb_b74b_8c04ba3e1d36row2_col4 {\n",
       "            width:  10em;\n",
       "             height:  80%;\n",
       "        }</style><table id=\"T_16f9243b_9273_11eb_b74b_8c04ba3e1d36\" ><thead>    <tr>        <th class=\"blank level0\" ></th>        <th class=\"col_heading level0 col0\" >Best threshold</th>        <th class=\"col_heading level0 col1\" >Precision</th>        <th class=\"col_heading level0 col2\" >Recall</th>        <th class=\"col_heading level0 col3\" >F measure</th>        <th class=\"col_heading level0 col4\" >Accuracy</th>        <th class=\"col_heading level0 col5\" >True Positives</th>        <th class=\"col_heading level0 col6\" >False Positives</th>        <th class=\"col_heading level0 col7\" >False Negatives</th>    </tr></thead><tbody>\n",
       "                <tr>\n",
       "                        <th id=\"T_16f9243b_9273_11eb_b74b_8c04ba3e1d36level0_row0\" class=\"row_heading level0 row0\" >T: 5</th>\n",
       "                        <td id=\"T_16f9243b_9273_11eb_b74b_8c04ba3e1d36row0_col0\" class=\"data row0 col0\" >0.310000</td>\n",
       "                        <td id=\"T_16f9243b_9273_11eb_b74b_8c04ba3e1d36row0_col1\" class=\"data row0 col1\" >0.637600</td>\n",
       "                        <td id=\"T_16f9243b_9273_11eb_b74b_8c04ba3e1d36row0_col2\" class=\"data row0 col2\" >0.607500</td>\n",
       "                        <td id=\"T_16f9243b_9273_11eb_b74b_8c04ba3e1d36row0_col3\" class=\"data row0 col3\" >0.612300</td>\n",
       "                        <td id=\"T_16f9243b_9273_11eb_b74b_8c04ba3e1d36row0_col4\" class=\"data row0 col4\" >0.447200</td>\n",
       "                        <td id=\"T_16f9243b_9273_11eb_b74b_8c04ba3e1d36row0_col5\" class=\"data row0 col5\" >151.366700</td>\n",
       "                        <td id=\"T_16f9243b_9273_11eb_b74b_8c04ba3e1d36row0_col6\" class=\"data row0 col6\" >87.666700</td>\n",
       "                        <td id=\"T_16f9243b_9273_11eb_b74b_8c04ba3e1d36row0_col7\" class=\"data row0 col7\" >93.300000</td>\n",
       "            </tr>\n",
       "            <tr>\n",
       "                        <th id=\"T_16f9243b_9273_11eb_b74b_8c04ba3e1d36level0_row1\" class=\"row_heading level0 row1\" >T: 10</th>\n",
       "                        <td id=\"T_16f9243b_9273_11eb_b74b_8c04ba3e1d36row1_col0\" class=\"data row1 col0\" >0.390000</td>\n",
       "                        <td id=\"T_16f9243b_9273_11eb_b74b_8c04ba3e1d36row1_col1\" class=\"data row1 col1\" >0.653000</td>\n",
       "                        <td id=\"T_16f9243b_9273_11eb_b74b_8c04ba3e1d36row1_col2\" class=\"data row1 col2\" >0.648300</td>\n",
       "                        <td id=\"T_16f9243b_9273_11eb_b74b_8c04ba3e1d36row1_col3\" class=\"data row1 col3\" >0.626000</td>\n",
       "                        <td id=\"T_16f9243b_9273_11eb_b74b_8c04ba3e1d36row1_col4\" class=\"data row1 col4\" >0.467800</td>\n",
       "                        <td id=\"T_16f9243b_9273_11eb_b74b_8c04ba3e1d36row1_col5\" class=\"data row1 col5\" >151.966700</td>\n",
       "                        <td id=\"T_16f9243b_9273_11eb_b74b_8c04ba3e1d36row1_col6\" class=\"data row1 col6\" >85.266700</td>\n",
       "                        <td id=\"T_16f9243b_9273_11eb_b74b_8c04ba3e1d36row1_col7\" class=\"data row1 col7\" >92.800000</td>\n",
       "            </tr>\n",
       "            <tr>\n",
       "                        <th id=\"T_16f9243b_9273_11eb_b74b_8c04ba3e1d36level0_row2\" class=\"row_heading level0 row2\" >T: 20</th>\n",
       "                        <td id=\"T_16f9243b_9273_11eb_b74b_8c04ba3e1d36row2_col0\" class=\"data row2 col0\" >0.150000</td>\n",
       "                        <td id=\"T_16f9243b_9273_11eb_b74b_8c04ba3e1d36row2_col1\" class=\"data row2 col1\" >0.534000</td>\n",
       "                        <td id=\"T_16f9243b_9273_11eb_b74b_8c04ba3e1d36row2_col2\" class=\"data row2 col2\" >0.649400</td>\n",
       "                        <td id=\"T_16f9243b_9273_11eb_b74b_8c04ba3e1d36row2_col3\" class=\"data row2 col3\" >0.498400</td>\n",
       "                        <td id=\"T_16f9243b_9273_11eb_b74b_8c04ba3e1d36row2_col4\" class=\"data row2 col4\" >0.349700</td>\n",
       "                        <td id=\"T_16f9243b_9273_11eb_b74b_8c04ba3e1d36row2_col5\" class=\"data row2 col5\" >153.500000</td>\n",
       "                        <td id=\"T_16f9243b_9273_11eb_b74b_8c04ba3e1d36row2_col6\" class=\"data row2 col6\" >249.966700</td>\n",
       "                        <td id=\"T_16f9243b_9273_11eb_b74b_8c04ba3e1d36row2_col7\" class=\"data row2 col7\" >72.566700</td>\n",
       "            </tr>\n",
       "    </tbody></table>"
      ],
      "text/plain": [
       "<pandas.io.formats.style.Styler at 0x24c80f13160>"
      ]
     },
     "metadata": {},
     "output_type": "display_data"
    },
    {
     "data": {
      "text/markdown": [
       "### When optimizing the threshold on each song"
      ],
      "text/plain": [
       "<IPython.core.display.Markdown object>"
      ]
     },
     "metadata": {},
     "output_type": "display_data"
    },
    {
     "data": {
      "text/html": [
       "<style  type=\"text/css\" >\n",
       "    #T_16fb1ebd_9273_11eb_9fee_8c04ba3e1d36row0_col2 {\n",
       "            width:  10em;\n",
       "             height:  80%;\n",
       "        }    #T_16fb1ebd_9273_11eb_9fee_8c04ba3e1d36row0_col3 {\n",
       "            width:  10em;\n",
       "             height:  80%;\n",
       "        }    #T_16fb1ebd_9273_11eb_9fee_8c04ba3e1d36row1_col2 {\n",
       "            width:  10em;\n",
       "             height:  80%;\n",
       "            background:  linear-gradient(90deg,#5fba7d 92.5%, transparent 92.5%);\n",
       "        }    #T_16fb1ebd_9273_11eb_9fee_8c04ba3e1d36row1_col3 {\n",
       "            width:  10em;\n",
       "             height:  80%;\n",
       "            background:  linear-gradient(90deg,#5fba7d 97.7%, transparent 97.7%);\n",
       "        }    #T_16fb1ebd_9273_11eb_9fee_8c04ba3e1d36row2_col2 {\n",
       "            width:  10em;\n",
       "             height:  80%;\n",
       "            background:  linear-gradient(90deg,#5fba7d 100.0%, transparent 100.0%);\n",
       "        }    #T_16fb1ebd_9273_11eb_9fee_8c04ba3e1d36row2_col3 {\n",
       "            width:  10em;\n",
       "             height:  80%;\n",
       "            background:  linear-gradient(90deg,#5fba7d 100.0%, transparent 100.0%);\n",
       "        }</style><table id=\"T_16fb1ebd_9273_11eb_9fee_8c04ba3e1d36\" ><thead>    <tr>        <th class=\"blank level0\" ></th>        <th class=\"col_heading level0 col0\" >Precision</th>        <th class=\"col_heading level0 col1\" >Recall</th>        <th class=\"col_heading level0 col2\" >F measure</th>        <th class=\"col_heading level0 col3\" >Accuracy</th>        <th class=\"col_heading level0 col4\" >True Positives</th>        <th class=\"col_heading level0 col5\" >False Positives</th>        <th class=\"col_heading level0 col6\" >False Negatives</th>    </tr></thead><tbody>\n",
       "                <tr>\n",
       "                        <th id=\"T_16fb1ebd_9273_11eb_9fee_8c04ba3e1d36level0_row0\" class=\"row_heading level0 row0\" >T: 5</th>\n",
       "                        <td id=\"T_16fb1ebd_9273_11eb_9fee_8c04ba3e1d36row0_col0\" class=\"data row0 col0\" >0.659600</td>\n",
       "                        <td id=\"T_16fb1ebd_9273_11eb_9fee_8c04ba3e1d36row0_col1\" class=\"data row0 col1\" >0.626700</td>\n",
       "                        <td id=\"T_16fb1ebd_9273_11eb_9fee_8c04ba3e1d36row0_col2\" class=\"data row0 col2\" >0.639300</td>\n",
       "                        <td id=\"T_16fb1ebd_9273_11eb_9fee_8c04ba3e1d36row0_col3\" class=\"data row0 col3\" >0.475300</td>\n",
       "                        <td id=\"T_16fb1ebd_9273_11eb_9fee_8c04ba3e1d36row0_col4\" class=\"data row0 col4\" >154.566700</td>\n",
       "                        <td id=\"T_16fb1ebd_9273_11eb_9fee_8c04ba3e1d36row0_col5\" class=\"data row0 col5\" >77.966700</td>\n",
       "                        <td id=\"T_16fb1ebd_9273_11eb_9fee_8c04ba3e1d36row0_col6\" class=\"data row0 col6\" >90.300000</td>\n",
       "            </tr>\n",
       "            <tr>\n",
       "                        <th id=\"T_16fb1ebd_9273_11eb_9fee_8c04ba3e1d36level0_row1\" class=\"row_heading level0 row1\" >T: 10</th>\n",
       "                        <td id=\"T_16fb1ebd_9273_11eb_9fee_8c04ba3e1d36row1_col0\" class=\"data row1 col0\" >0.690300</td>\n",
       "                        <td id=\"T_16fb1ebd_9273_11eb_9fee_8c04ba3e1d36row1_col1\" class=\"data row1 col1\" >0.663500</td>\n",
       "                        <td id=\"T_16fb1ebd_9273_11eb_9fee_8c04ba3e1d36row1_col2\" class=\"data row1 col2\" >0.672800</td>\n",
       "                        <td id=\"T_16fb1ebd_9273_11eb_9fee_8c04ba3e1d36row1_col3\" class=\"data row1 col3\" >0.513400</td>\n",
       "                        <td id=\"T_16fb1ebd_9273_11eb_9fee_8c04ba3e1d36row1_col4\" class=\"data row1 col4\" >161.900000</td>\n",
       "                        <td id=\"T_16fb1ebd_9273_11eb_9fee_8c04ba3e1d36row1_col5\" class=\"data row1 col5\" >72.600000</td>\n",
       "                        <td id=\"T_16fb1ebd_9273_11eb_9fee_8c04ba3e1d36row1_col6\" class=\"data row1 col6\" >82.833300</td>\n",
       "            </tr>\n",
       "            <tr>\n",
       "                        <th id=\"T_16fb1ebd_9273_11eb_9fee_8c04ba3e1d36level0_row2\" class=\"row_heading level0 row2\" >T: 20</th>\n",
       "                        <td id=\"T_16fb1ebd_9273_11eb_9fee_8c04ba3e1d36row2_col0\" class=\"data row2 col0\" >0.671200</td>\n",
       "                        <td id=\"T_16fb1ebd_9273_11eb_9fee_8c04ba3e1d36row2_col1\" class=\"data row2 col1\" >0.685300</td>\n",
       "                        <td id=\"T_16fb1ebd_9273_11eb_9fee_8c04ba3e1d36row2_col2\" class=\"data row2 col2\" >0.675500</td>\n",
       "                        <td id=\"T_16fb1ebd_9273_11eb_9fee_8c04ba3e1d36row2_col3\" class=\"data row2 col3\" >0.514300</td>\n",
       "                        <td id=\"T_16fb1ebd_9273_11eb_9fee_8c04ba3e1d36row2_col4\" class=\"data row2 col4\" >165.333300</td>\n",
       "                        <td id=\"T_16fb1ebd_9273_11eb_9fee_8c04ba3e1d36row2_col5\" class=\"data row2 col5\" >79.766700</td>\n",
       "                        <td id=\"T_16fb1ebd_9273_11eb_9fee_8c04ba3e1d36row2_col6\" class=\"data row2 col6\" >79.666700</td>\n",
       "            </tr>\n",
       "    </tbody></table>"
      ],
      "text/plain": [
       "<pandas.io.formats.style.Styler at 0x24c80df6910>"
      ]
     },
     "metadata": {},
     "output_type": "display_data"
    },
    {
     "data": {
      "text/markdown": [
       "## Piano for W: StbgTGd2, and for H: AkPnCGdD"
      ],
      "text/plain": [
       "<IPython.core.display.Markdown object>"
      ]
     },
     "metadata": {},
     "output_type": "display_data"
    },
    {
     "data": {
      "text/markdown": [
       "### When averaging each threshold on all MAPS"
      ],
      "text/plain": [
       "<IPython.core.display.Markdown object>"
      ]
     },
     "metadata": {},
     "output_type": "display_data"
    },
    {
     "data": {
      "text/html": [
       "<style  type=\"text/css\" >\n",
       "    #T_3e0cf033_9274_11eb_b40e_8c04ba3e1d36row0_col3 {\n",
       "            width:  10em;\n",
       "             height:  80%;\n",
       "        }    #T_3e0cf033_9274_11eb_b40e_8c04ba3e1d36row0_col4 {\n",
       "            width:  10em;\n",
       "             height:  80%;\n",
       "        }    #T_3e0cf033_9274_11eb_b40e_8c04ba3e1d36row1_col3 {\n",
       "            width:  10em;\n",
       "             height:  80%;\n",
       "            background:  linear-gradient(90deg,#5fba7d 100.0%, transparent 100.0%);\n",
       "        }    #T_3e0cf033_9274_11eb_b40e_8c04ba3e1d36row1_col4 {\n",
       "            width:  10em;\n",
       "             height:  80%;\n",
       "            background:  linear-gradient(90deg,#5fba7d 100.0%, transparent 100.0%);\n",
       "        }    #T_3e0cf033_9274_11eb_b40e_8c04ba3e1d36row2_col3 {\n",
       "            width:  10em;\n",
       "             height:  80%;\n",
       "            background:  linear-gradient(90deg,#5fba7d 31.2%, transparent 31.2%);\n",
       "        }    #T_3e0cf033_9274_11eb_b40e_8c04ba3e1d36row2_col4 {\n",
       "            width:  10em;\n",
       "             height:  80%;\n",
       "            background:  linear-gradient(90deg,#5fba7d 38.3%, transparent 38.3%);\n",
       "        }</style><table id=\"T_3e0cf033_9274_11eb_b40e_8c04ba3e1d36\" ><thead>    <tr>        <th class=\"blank level0\" ></th>        <th class=\"col_heading level0 col0\" >Best threshold</th>        <th class=\"col_heading level0 col1\" >Precision</th>        <th class=\"col_heading level0 col2\" >Recall</th>        <th class=\"col_heading level0 col3\" >F measure</th>        <th class=\"col_heading level0 col4\" >Accuracy</th>        <th class=\"col_heading level0 col5\" >True Positives</th>        <th class=\"col_heading level0 col6\" >False Positives</th>        <th class=\"col_heading level0 col7\" >False Negatives</th>    </tr></thead><tbody>\n",
       "                <tr>\n",
       "                        <th id=\"T_3e0cf033_9274_11eb_b40e_8c04ba3e1d36level0_row0\" class=\"row_heading level0 row0\" >T: 5</th>\n",
       "                        <td id=\"T_3e0cf033_9274_11eb_b40e_8c04ba3e1d36row0_col0\" class=\"data row0 col0\" >0.310000</td>\n",
       "                        <td id=\"T_3e0cf033_9274_11eb_b40e_8c04ba3e1d36row0_col1\" class=\"data row0 col1\" >0.715800</td>\n",
       "                        <td id=\"T_3e0cf033_9274_11eb_b40e_8c04ba3e1d36row0_col2\" class=\"data row0 col2\" >0.676800</td>\n",
       "                        <td id=\"T_3e0cf033_9274_11eb_b40e_8c04ba3e1d36row0_col3\" class=\"data row0 col3\" >0.679000</td>\n",
       "                        <td id=\"T_3e0cf033_9274_11eb_b40e_8c04ba3e1d36row0_col4\" class=\"data row0 col4\" >0.520700</td>\n",
       "                        <td id=\"T_3e0cf033_9274_11eb_b40e_8c04ba3e1d36row0_col5\" class=\"data row0 col5\" >164.000000</td>\n",
       "                        <td id=\"T_3e0cf033_9274_11eb_b40e_8c04ba3e1d36row0_col6\" class=\"data row0 col6\" >68.466700</td>\n",
       "                        <td id=\"T_3e0cf033_9274_11eb_b40e_8c04ba3e1d36row0_col7\" class=\"data row0 col7\" >87.333300</td>\n",
       "            </tr>\n",
       "            <tr>\n",
       "                        <th id=\"T_3e0cf033_9274_11eb_b40e_8c04ba3e1d36level0_row1\" class=\"row_heading level0 row1\" >T: 10</th>\n",
       "                        <td id=\"T_3e0cf033_9274_11eb_b40e_8c04ba3e1d36row1_col0\" class=\"data row1 col0\" >0.410000</td>\n",
       "                        <td id=\"T_3e0cf033_9274_11eb_b40e_8c04ba3e1d36row1_col1\" class=\"data row1 col1\" >0.737500</td>\n",
       "                        <td id=\"T_3e0cf033_9274_11eb_b40e_8c04ba3e1d36row1_col2\" class=\"data row1 col2\" >0.749500</td>\n",
       "                        <td id=\"T_3e0cf033_9274_11eb_b40e_8c04ba3e1d36row1_col3\" class=\"data row1 col3\" >0.725200</td>\n",
       "                        <td id=\"T_3e0cf033_9274_11eb_b40e_8c04ba3e1d36row1_col4\" class=\"data row1 col4\" >0.576100</td>\n",
       "                        <td id=\"T_3e0cf033_9274_11eb_b40e_8c04ba3e1d36row1_col5\" class=\"data row1 col5\" >178.033300</td>\n",
       "                        <td id=\"T_3e0cf033_9274_11eb_b40e_8c04ba3e1d36row1_col6\" class=\"data row1 col6\" >65.366700</td>\n",
       "                        <td id=\"T_3e0cf033_9274_11eb_b40e_8c04ba3e1d36row1_col7\" class=\"data row1 col7\" >73.200000</td>\n",
       "            </tr>\n",
       "            <tr>\n",
       "                        <th id=\"T_3e0cf033_9274_11eb_b40e_8c04ba3e1d36level0_row2\" class=\"row_heading level0 row2\" >T: 20</th>\n",
       "                        <td id=\"T_3e0cf033_9274_11eb_b40e_8c04ba3e1d36row2_col0\" class=\"data row2 col0\" >0.590000</td>\n",
       "                        <td id=\"T_3e0cf033_9274_11eb_b40e_8c04ba3e1d36row2_col1\" class=\"data row2 col1\" >0.741600</td>\n",
       "                        <td id=\"T_3e0cf033_9274_11eb_b40e_8c04ba3e1d36row2_col2\" class=\"data row2 col2\" >0.711400</td>\n",
       "                        <td id=\"T_3e0cf033_9274_11eb_b40e_8c04ba3e1d36row2_col3\" class=\"data row2 col3\" >0.693400</td>\n",
       "                        <td id=\"T_3e0cf033_9274_11eb_b40e_8c04ba3e1d36row2_col4\" class=\"data row2 col4\" >0.541900</td>\n",
       "                        <td id=\"T_3e0cf033_9274_11eb_b40e_8c04ba3e1d36row2_col5\" class=\"data row2 col5\" >164.533300</td>\n",
       "                        <td id=\"T_3e0cf033_9274_11eb_b40e_8c04ba3e1d36row2_col6\" class=\"data row2 col6\" >59.600000</td>\n",
       "                        <td id=\"T_3e0cf033_9274_11eb_b40e_8c04ba3e1d36row2_col7\" class=\"data row2 col7\" >86.666700</td>\n",
       "            </tr>\n",
       "    </tbody></table>"
      ],
      "text/plain": [
       "<pandas.io.formats.style.Styler at 0x24c813b7a60>"
      ]
     },
     "metadata": {},
     "output_type": "display_data"
    },
    {
     "data": {
      "text/markdown": [
       "### When optimizing the threshold on each song"
      ],
      "text/plain": [
       "<IPython.core.display.Markdown object>"
      ]
     },
     "metadata": {},
     "output_type": "display_data"
    },
    {
     "data": {
      "text/html": [
       "<style  type=\"text/css\" >\n",
       "    #T_3e0eeab3_9274_11eb_a1c9_8c04ba3e1d36row0_col2 {\n",
       "            width:  10em;\n",
       "             height:  80%;\n",
       "        }    #T_3e0eeab3_9274_11eb_a1c9_8c04ba3e1d36row0_col3 {\n",
       "            width:  10em;\n",
       "             height:  80%;\n",
       "        }    #T_3e0eeab3_9274_11eb_a1c9_8c04ba3e1d36row1_col2 {\n",
       "            width:  10em;\n",
       "             height:  80%;\n",
       "            background:  linear-gradient(90deg,#5fba7d 100.0%, transparent 100.0%);\n",
       "        }    #T_3e0eeab3_9274_11eb_a1c9_8c04ba3e1d36row1_col3 {\n",
       "            width:  10em;\n",
       "             height:  80%;\n",
       "            background:  linear-gradient(90deg,#5fba7d 100.0%, transparent 100.0%);\n",
       "        }    #T_3e0eeab3_9274_11eb_a1c9_8c04ba3e1d36row2_col2 {\n",
       "            width:  10em;\n",
       "             height:  80%;\n",
       "            background:  linear-gradient(90deg,#5fba7d 27.2%, transparent 27.2%);\n",
       "        }    #T_3e0eeab3_9274_11eb_a1c9_8c04ba3e1d36row2_col3 {\n",
       "            width:  10em;\n",
       "             height:  80%;\n",
       "            background:  linear-gradient(90deg,#5fba7d 23.1%, transparent 23.1%);\n",
       "        }</style><table id=\"T_3e0eeab3_9274_11eb_a1c9_8c04ba3e1d36\" ><thead>    <tr>        <th class=\"blank level0\" ></th>        <th class=\"col_heading level0 col0\" >Precision</th>        <th class=\"col_heading level0 col1\" >Recall</th>        <th class=\"col_heading level0 col2\" >F measure</th>        <th class=\"col_heading level0 col3\" >Accuracy</th>        <th class=\"col_heading level0 col4\" >True Positives</th>        <th class=\"col_heading level0 col5\" >False Positives</th>        <th class=\"col_heading level0 col6\" >False Negatives</th>    </tr></thead><tbody>\n",
       "                <tr>\n",
       "                        <th id=\"T_3e0eeab3_9274_11eb_a1c9_8c04ba3e1d36level0_row0\" class=\"row_heading level0 row0\" >T: 5</th>\n",
       "                        <td id=\"T_3e0eeab3_9274_11eb_a1c9_8c04ba3e1d36row0_col0\" class=\"data row0 col0\" >0.739600</td>\n",
       "                        <td id=\"T_3e0eeab3_9274_11eb_a1c9_8c04ba3e1d36row0_col1\" class=\"data row0 col1\" >0.699600</td>\n",
       "                        <td id=\"T_3e0eeab3_9274_11eb_a1c9_8c04ba3e1d36row0_col2\" class=\"data row0 col2\" >0.717100</td>\n",
       "                        <td id=\"T_3e0eeab3_9274_11eb_a1c9_8c04ba3e1d36row0_col3\" class=\"data row0 col3\" >0.565700</td>\n",
       "                        <td id=\"T_3e0eeab3_9274_11eb_a1c9_8c04ba3e1d36row0_col4\" class=\"data row0 col4\" >176.866700</td>\n",
       "                        <td id=\"T_3e0eeab3_9274_11eb_a1c9_8c04ba3e1d36row0_col5\" class=\"data row0 col5\" >65.300000</td>\n",
       "                        <td id=\"T_3e0eeab3_9274_11eb_a1c9_8c04ba3e1d36row0_col6\" class=\"data row0 col6\" >74.500000</td>\n",
       "            </tr>\n",
       "            <tr>\n",
       "                        <th id=\"T_3e0eeab3_9274_11eb_a1c9_8c04ba3e1d36level0_row1\" class=\"row_heading level0 row1\" >T: 10</th>\n",
       "                        <td id=\"T_3e0eeab3_9274_11eb_a1c9_8c04ba3e1d36row1_col0\" class=\"data row1 col0\" >0.775400</td>\n",
       "                        <td id=\"T_3e0eeab3_9274_11eb_a1c9_8c04ba3e1d36row1_col1\" class=\"data row1 col1\" >0.763700</td>\n",
       "                        <td id=\"T_3e0eeab3_9274_11eb_a1c9_8c04ba3e1d36row1_col2\" class=\"data row1 col2\" >0.764600</td>\n",
       "                        <td id=\"T_3e0eeab3_9274_11eb_a1c9_8c04ba3e1d36row1_col3\" class=\"data row1 col3\" >0.624500</td>\n",
       "                        <td id=\"T_3e0eeab3_9274_11eb_a1c9_8c04ba3e1d36row1_col4\" class=\"data row1 col4\" >188.366700</td>\n",
       "                        <td id=\"T_3e0eeab3_9274_11eb_a1c9_8c04ba3e1d36row1_col5\" class=\"data row1 col5\" >58.400000</td>\n",
       "                        <td id=\"T_3e0eeab3_9274_11eb_a1c9_8c04ba3e1d36row1_col6\" class=\"data row1 col6\" >63.000000</td>\n",
       "            </tr>\n",
       "            <tr>\n",
       "                        <th id=\"T_3e0eeab3_9274_11eb_a1c9_8c04ba3e1d36level0_row2\" class=\"row_heading level0 row2\" >T: 20</th>\n",
       "                        <td id=\"T_3e0eeab3_9274_11eb_a1c9_8c04ba3e1d36row2_col0\" class=\"data row2 col0\" >0.708900</td>\n",
       "                        <td id=\"T_3e0eeab3_9274_11eb_a1c9_8c04ba3e1d36row2_col1\" class=\"data row2 col1\" >0.772400</td>\n",
       "                        <td id=\"T_3e0eeab3_9274_11eb_a1c9_8c04ba3e1d36row2_col2\" class=\"data row2 col2\" >0.730000</td>\n",
       "                        <td id=\"T_3e0eeab3_9274_11eb_a1c9_8c04ba3e1d36row2_col3\" class=\"data row2 col3\" >0.579300</td>\n",
       "                        <td id=\"T_3e0eeab3_9274_11eb_a1c9_8c04ba3e1d36row2_col4\" class=\"data row2 col4\" >187.700000</td>\n",
       "                        <td id=\"T_3e0eeab3_9274_11eb_a1c9_8c04ba3e1d36row2_col5\" class=\"data row2 col5\" >74.833300</td>\n",
       "                        <td id=\"T_3e0eeab3_9274_11eb_a1c9_8c04ba3e1d36row2_col6\" class=\"data row2 col6\" >63.566700</td>\n",
       "            </tr>\n",
       "    </tbody></table>"
      ],
      "text/plain": [
       "<pandas.io.formats.style.Styler at 0x24c8050dbe0>"
      ]
     },
     "metadata": {},
     "output_type": "display_data"
    },
    {
     "data": {
      "text/markdown": [
       "## Piano for W: StbgTGd2, and for H: ENSTDkCl"
      ],
      "text/plain": [
       "<IPython.core.display.Markdown object>"
      ]
     },
     "metadata": {},
     "output_type": "display_data"
    },
    {
     "data": {
      "text/markdown": [
       "### When averaging each threshold on all MAPS"
      ],
      "text/plain": [
       "<IPython.core.display.Markdown object>"
      ]
     },
     "metadata": {},
     "output_type": "display_data"
    },
    {
     "data": {
      "text/html": [
       "<style  type=\"text/css\" >\n",
       "    #T_6dfe5949_9275_11eb_994e_8c04ba3e1d36row0_col3 {\n",
       "            width:  10em;\n",
       "             height:  80%;\n",
       "        }    #T_6dfe5949_9275_11eb_994e_8c04ba3e1d36row0_col4 {\n",
       "            width:  10em;\n",
       "             height:  80%;\n",
       "        }    #T_6dfe5949_9275_11eb_994e_8c04ba3e1d36row1_col3 {\n",
       "            width:  10em;\n",
       "             height:  80%;\n",
       "            background:  linear-gradient(90deg,#5fba7d 77.8%, transparent 77.8%);\n",
       "        }    #T_6dfe5949_9275_11eb_994e_8c04ba3e1d36row1_col4 {\n",
       "            width:  10em;\n",
       "             height:  80%;\n",
       "            background:  linear-gradient(90deg,#5fba7d 78.2%, transparent 78.2%);\n",
       "        }    #T_6dfe5949_9275_11eb_994e_8c04ba3e1d36row2_col3 {\n",
       "            width:  10em;\n",
       "             height:  80%;\n",
       "            background:  linear-gradient(90deg,#5fba7d 100.0%, transparent 100.0%);\n",
       "        }    #T_6dfe5949_9275_11eb_994e_8c04ba3e1d36row2_col4 {\n",
       "            width:  10em;\n",
       "             height:  80%;\n",
       "            background:  linear-gradient(90deg,#5fba7d 100.0%, transparent 100.0%);\n",
       "        }</style><table id=\"T_6dfe5949_9275_11eb_994e_8c04ba3e1d36\" ><thead>    <tr>        <th class=\"blank level0\" ></th>        <th class=\"col_heading level0 col0\" >Best threshold</th>        <th class=\"col_heading level0 col1\" >Precision</th>        <th class=\"col_heading level0 col2\" >Recall</th>        <th class=\"col_heading level0 col3\" >F measure</th>        <th class=\"col_heading level0 col4\" >Accuracy</th>        <th class=\"col_heading level0 col5\" >True Positives</th>        <th class=\"col_heading level0 col6\" >False Positives</th>        <th class=\"col_heading level0 col7\" >False Negatives</th>    </tr></thead><tbody>\n",
       "                <tr>\n",
       "                        <th id=\"T_6dfe5949_9275_11eb_994e_8c04ba3e1d36level0_row0\" class=\"row_heading level0 row0\" >T: 5</th>\n",
       "                        <td id=\"T_6dfe5949_9275_11eb_994e_8c04ba3e1d36row0_col0\" class=\"data row0 col0\" >0.310000</td>\n",
       "                        <td id=\"T_6dfe5949_9275_11eb_994e_8c04ba3e1d36row0_col1\" class=\"data row0 col1\" >0.708200</td>\n",
       "                        <td id=\"T_6dfe5949_9275_11eb_994e_8c04ba3e1d36row0_col2\" class=\"data row0 col2\" >0.582500</td>\n",
       "                        <td id=\"T_6dfe5949_9275_11eb_994e_8c04ba3e1d36row0_col3\" class=\"data row0 col3\" >0.622800</td>\n",
       "                        <td id=\"T_6dfe5949_9275_11eb_994e_8c04ba3e1d36row0_col4\" class=\"data row0 col4\" >0.459000</td>\n",
       "                        <td id=\"T_6dfe5949_9275_11eb_994e_8c04ba3e1d36row0_col5\" class=\"data row0 col5\" >143.833300</td>\n",
       "                        <td id=\"T_6dfe5949_9275_11eb_994e_8c04ba3e1d36row0_col6\" class=\"data row0 col6\" >66.566700</td>\n",
       "                        <td id=\"T_6dfe5949_9275_11eb_994e_8c04ba3e1d36row0_col7\" class=\"data row0 col7\" >100.900000</td>\n",
       "            </tr>\n",
       "            <tr>\n",
       "                        <th id=\"T_6dfe5949_9275_11eb_994e_8c04ba3e1d36level0_row1\" class=\"row_heading level0 row1\" >T: 10</th>\n",
       "                        <td id=\"T_6dfe5949_9275_11eb_994e_8c04ba3e1d36row1_col0\" class=\"data row1 col0\" >0.410000</td>\n",
       "                        <td id=\"T_6dfe5949_9275_11eb_994e_8c04ba3e1d36row1_col1\" class=\"data row1 col1\" >0.692500</td>\n",
       "                        <td id=\"T_6dfe5949_9275_11eb_994e_8c04ba3e1d36row1_col2\" class=\"data row1 col2\" >0.655000</td>\n",
       "                        <td id=\"T_6dfe5949_9275_11eb_994e_8c04ba3e1d36row1_col3\" class=\"data row1 col3\" >0.657800</td>\n",
       "                        <td id=\"T_6dfe5949_9275_11eb_994e_8c04ba3e1d36row1_col4\" class=\"data row1 col4\" >0.497300</td>\n",
       "                        <td id=\"T_6dfe5949_9275_11eb_994e_8c04ba3e1d36row1_col5\" class=\"data row1 col5\" >160.733300</td>\n",
       "                        <td id=\"T_6dfe5949_9275_11eb_994e_8c04ba3e1d36row1_col6\" class=\"data row1 col6\" >75.866700</td>\n",
       "                        <td id=\"T_6dfe5949_9275_11eb_994e_8c04ba3e1d36row1_col7\" class=\"data row1 col7\" >84.200000</td>\n",
       "            </tr>\n",
       "            <tr>\n",
       "                        <th id=\"T_6dfe5949_9275_11eb_994e_8c04ba3e1d36level0_row2\" class=\"row_heading level0 row2\" >T: 20</th>\n",
       "                        <td id=\"T_6dfe5949_9275_11eb_994e_8c04ba3e1d36row2_col0\" class=\"data row2 col0\" >0.590000</td>\n",
       "                        <td id=\"T_6dfe5949_9275_11eb_994e_8c04ba3e1d36row2_col1\" class=\"data row2 col1\" >0.669700</td>\n",
       "                        <td id=\"T_6dfe5949_9275_11eb_994e_8c04ba3e1d36row2_col2\" class=\"data row2 col2\" >0.691700</td>\n",
       "                        <td id=\"T_6dfe5949_9275_11eb_994e_8c04ba3e1d36row2_col3\" class=\"data row2 col3\" >0.667800</td>\n",
       "                        <td id=\"T_6dfe5949_9275_11eb_994e_8c04ba3e1d36row2_col4\" class=\"data row2 col4\" >0.508000</td>\n",
       "                        <td id=\"T_6dfe5949_9275_11eb_994e_8c04ba3e1d36row2_col5\" class=\"data row2 col5\" >165.800000</td>\n",
       "                        <td id=\"T_6dfe5949_9275_11eb_994e_8c04ba3e1d36row2_col6\" class=\"data row2 col6\" >81.266700</td>\n",
       "                        <td id=\"T_6dfe5949_9275_11eb_994e_8c04ba3e1d36row2_col7\" class=\"data row2 col7\" >79.166700</td>\n",
       "            </tr>\n",
       "    </tbody></table>"
      ],
      "text/plain": [
       "<pandas.io.formats.style.Styler at 0x24c80f88f40>"
      ]
     },
     "metadata": {},
     "output_type": "display_data"
    },
    {
     "data": {
      "text/markdown": [
       "### When optimizing the threshold on each song"
      ],
      "text/plain": [
       "<IPython.core.display.Markdown object>"
      ]
     },
     "metadata": {},
     "output_type": "display_data"
    },
    {
     "data": {
      "text/html": [
       "<style  type=\"text/css\" >\n",
       "    #T_6e00a1a2_9275_11eb_9187_8c04ba3e1d36row0_col2 {\n",
       "            width:  10em;\n",
       "             height:  80%;\n",
       "        }    #T_6e00a1a2_9275_11eb_9187_8c04ba3e1d36row0_col3 {\n",
       "            width:  10em;\n",
       "             height:  80%;\n",
       "        }    #T_6e00a1a2_9275_11eb_9187_8c04ba3e1d36row1_col2 {\n",
       "            width:  10em;\n",
       "             height:  80%;\n",
       "            background:  linear-gradient(90deg,#5fba7d 100.0%, transparent 100.0%);\n",
       "        }    #T_6e00a1a2_9275_11eb_9187_8c04ba3e1d36row1_col3 {\n",
       "            width:  10em;\n",
       "             height:  80%;\n",
       "            background:  linear-gradient(90deg,#5fba7d 100.0%, transparent 100.0%);\n",
       "        }    #T_6e00a1a2_9275_11eb_9187_8c04ba3e1d36row2_col2 {\n",
       "            width:  10em;\n",
       "             height:  80%;\n",
       "            background:  linear-gradient(90deg,#5fba7d 80.4%, transparent 80.4%);\n",
       "        }    #T_6e00a1a2_9275_11eb_9187_8c04ba3e1d36row2_col3 {\n",
       "            width:  10em;\n",
       "             height:  80%;\n",
       "            background:  linear-gradient(90deg,#5fba7d 80.8%, transparent 80.8%);\n",
       "        }</style><table id=\"T_6e00a1a2_9275_11eb_9187_8c04ba3e1d36\" ><thead>    <tr>        <th class=\"blank level0\" ></th>        <th class=\"col_heading level0 col0\" >Precision</th>        <th class=\"col_heading level0 col1\" >Recall</th>        <th class=\"col_heading level0 col2\" >F measure</th>        <th class=\"col_heading level0 col3\" >Accuracy</th>        <th class=\"col_heading level0 col4\" >True Positives</th>        <th class=\"col_heading level0 col5\" >False Positives</th>        <th class=\"col_heading level0 col6\" >False Negatives</th>    </tr></thead><tbody>\n",
       "                <tr>\n",
       "                        <th id=\"T_6e00a1a2_9275_11eb_9187_8c04ba3e1d36level0_row0\" class=\"row_heading level0 row0\" >T: 5</th>\n",
       "                        <td id=\"T_6e00a1a2_9275_11eb_9187_8c04ba3e1d36row0_col0\" class=\"data row0 col0\" >0.705900</td>\n",
       "                        <td id=\"T_6e00a1a2_9275_11eb_9187_8c04ba3e1d36row0_col1\" class=\"data row0 col1\" >0.614100</td>\n",
       "                        <td id=\"T_6e00a1a2_9275_11eb_9187_8c04ba3e1d36row0_col2\" class=\"data row0 col2\" >0.653800</td>\n",
       "                        <td id=\"T_6e00a1a2_9275_11eb_9187_8c04ba3e1d36row0_col3\" class=\"data row0 col3\" >0.491000</td>\n",
       "                        <td id=\"T_6e00a1a2_9275_11eb_9187_8c04ba3e1d36row0_col4\" class=\"data row0 col4\" >150.333300</td>\n",
       "                        <td id=\"T_6e00a1a2_9275_11eb_9187_8c04ba3e1d36row0_col5\" class=\"data row0 col5\" >64.533300</td>\n",
       "                        <td id=\"T_6e00a1a2_9275_11eb_9187_8c04ba3e1d36row0_col6\" class=\"data row0 col6\" >94.400000</td>\n",
       "            </tr>\n",
       "            <tr>\n",
       "                        <th id=\"T_6e00a1a2_9275_11eb_9187_8c04ba3e1d36level0_row1\" class=\"row_heading level0 row1\" >T: 10</th>\n",
       "                        <td id=\"T_6e00a1a2_9275_11eb_9187_8c04ba3e1d36row1_col0\" class=\"data row1 col0\" >0.703500</td>\n",
       "                        <td id=\"T_6e00a1a2_9275_11eb_9187_8c04ba3e1d36row1_col1\" class=\"data row1 col1\" >0.683500</td>\n",
       "                        <td id=\"T_6e00a1a2_9275_11eb_9187_8c04ba3e1d36row1_col2\" class=\"data row1 col2\" >0.690100</td>\n",
       "                        <td id=\"T_6e00a1a2_9275_11eb_9187_8c04ba3e1d36row1_col3\" class=\"data row1 col3\" >0.532700</td>\n",
       "                        <td id=\"T_6e00a1a2_9275_11eb_9187_8c04ba3e1d36row1_col4\" class=\"data row1 col4\" >166.533300</td>\n",
       "                        <td id=\"T_6e00a1a2_9275_11eb_9187_8c04ba3e1d36row1_col5\" class=\"data row1 col5\" >70.633300</td>\n",
       "                        <td id=\"T_6e00a1a2_9275_11eb_9187_8c04ba3e1d36row1_col6\" class=\"data row1 col6\" >78.233300</td>\n",
       "            </tr>\n",
       "            <tr>\n",
       "                        <th id=\"T_6e00a1a2_9275_11eb_9187_8c04ba3e1d36level0_row2\" class=\"row_heading level0 row2\" >T: 20</th>\n",
       "                        <td id=\"T_6e00a1a2_9275_11eb_9187_8c04ba3e1d36row2_col0\" class=\"data row2 col0\" >0.651000</td>\n",
       "                        <td id=\"T_6e00a1a2_9275_11eb_9187_8c04ba3e1d36row2_col1\" class=\"data row2 col1\" >0.730300</td>\n",
       "                        <td id=\"T_6e00a1a2_9275_11eb_9187_8c04ba3e1d36row2_col2\" class=\"data row2 col2\" >0.683000</td>\n",
       "                        <td id=\"T_6e00a1a2_9275_11eb_9187_8c04ba3e1d36row2_col3\" class=\"data row2 col3\" >0.524700</td>\n",
       "                        <td id=\"T_6e00a1a2_9275_11eb_9187_8c04ba3e1d36row2_col4\" class=\"data row2 col4\" >174.200000</td>\n",
       "                        <td id=\"T_6e00a1a2_9275_11eb_9187_8c04ba3e1d36row2_col5\" class=\"data row2 col5\" >90.033300</td>\n",
       "                        <td id=\"T_6e00a1a2_9275_11eb_9187_8c04ba3e1d36row2_col6\" class=\"data row2 col6\" >70.800000</td>\n",
       "            </tr>\n",
       "    </tbody></table>"
      ],
      "text/plain": [
       "<pandas.io.formats.style.Styler at 0x24c82f1e940>"
      ]
     },
     "metadata": {},
     "output_type": "display_data"
    }
   ],
   "source": [
    "for piano_type_W in [\"AkPnBcht\",\"AkPnBsdf\",\"AkPnStgb\",\"ENSTDkAm\",\"SptkBGAm\",\"StbgTGd2\"]:\n",
    "    for piano_type_H in [\"AkPnCGdD\",\"ENSTDkCl\"]:\n",
    "        try:\n",
    "            compute_scores_database(piano_type_W, piano_type_H, H_normalization = True, adaptative_threshold = True)\n",
    "        except IndexError:\n",
    "            print(\"We have to compute this piano at these conditions (piano {}, T = 5, 10, 20, tol = 1e-8 and itmax = 100).\".format(piano_type))"
   ]
  }
 ],
 "metadata": {
  "kernelspec": {
   "display_name": "Python 3",
   "language": "python",
   "name": "python3"
  },
  "language_info": {
   "codemirror_mode": {
    "name": "ipython",
    "version": 3
   },
   "file_extension": ".py",
   "mimetype": "text/x-python",
   "name": "python",
   "nbconvert_exporter": "python",
   "pygments_lexer": "ipython3",
   "version": "3.8.5"
  },
  "toc": {
   "base_numbering": 1,
   "nav_menu": {},
   "number_sections": true,
   "sideBar": true,
   "skip_h1_title": false,
   "title_cell": "Table of Contents",
   "title_sidebar": "Contents",
   "toc_cell": false,
   "toc_position": {},
   "toc_section_display": true,
   "toc_window_display": false
  },
  "varInspector": {
   "cols": {
    "lenName": 16,
    "lenType": 16,
    "lenVar": 40
   },
   "kernels_config": {
    "python": {
     "delete_cmd_postfix": "",
     "delete_cmd_prefix": "del ",
     "library": "var_list.py",
     "varRefreshCmd": "print(var_dic_list())"
    },
    "r": {
     "delete_cmd_postfix": ") ",
     "delete_cmd_prefix": "rm(",
     "library": "var_list.r",
     "varRefreshCmd": "cat(var_dic_list()) "
    }
   },
   "types_to_exclude": [
    "module",
    "function",
    "builtin_function_or_method",
    "instance",
    "_Feature"
   ],
   "window_display": false
  }
 },
 "nbformat": 4,
 "nbformat_minor": 4
}
